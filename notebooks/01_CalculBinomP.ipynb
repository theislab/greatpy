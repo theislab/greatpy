{
 "cells": [
  {
   "cell_type": "code",
   "execution_count": 1,
   "metadata": {},
   "outputs": [],
   "source": [
    "%load_ext autoreload\n",
    "%autoreload 2"
   ]
  },
  {
   "cell_type": "code",
   "execution_count": 2,
   "metadata": {},
   "outputs": [],
   "source": [
    "import greatpy as great"
   ]
  },
  {
   "cell_type": "code",
   "execution_count": 3,
   "metadata": {},
   "outputs": [
    {
     "data": {
      "text/html": [
       "<div>\n",
       "<style scoped>\n",
       "    .dataframe tbody tr th:only-of-type {\n",
       "        vertical-align: middle;\n",
       "    }\n",
       "\n",
       "    .dataframe tbody tr th {\n",
       "        vertical-align: top;\n",
       "    }\n",
       "\n",
       "    .dataframe thead th {\n",
       "        text-align: right;\n",
       "    }\n",
       "</style>\n",
       "<table border=\"1\" class=\"dataframe\">\n",
       "  <thead>\n",
       "    <tr style=\"text-align: right;\">\n",
       "      <th></th>\n",
       "      <th>GO_term</th>\n",
       "      <th>P-value</th>\n",
       "    </tr>\n",
       "  </thead>\n",
       "  <tbody>\n",
       "    <tr>\n",
       "      <th>GO:0045887</th>\n",
       "      <td>positive regulation of synaptic growth at neur...</td>\n",
       "      <td>5.17744e-13</td>\n",
       "    </tr>\n",
       "    <tr>\n",
       "      <th>GO:0005801</th>\n",
       "      <td>cis-Golgi network</td>\n",
       "      <td>2.92548e-10</td>\n",
       "    </tr>\n",
       "    <tr>\n",
       "      <th>GO:0044721</th>\n",
       "      <td>protein import into peroxisome matrix, substra...</td>\n",
       "      <td>4.83812e-10</td>\n",
       "    </tr>\n",
       "    <tr>\n",
       "      <th>GO:0036250</th>\n",
       "      <td>peroxisome transport along microtubule</td>\n",
       "      <td>4.83812e-10</td>\n",
       "    </tr>\n",
       "    <tr>\n",
       "      <th>GO:0016561</th>\n",
       "      <td>protein import into peroxisome matrix, translo...</td>\n",
       "      <td>6.31131e-10</td>\n",
       "    </tr>\n",
       "  </tbody>\n",
       "</table>\n",
       "</div>"
      ],
      "text/plain": [
       "                                                      GO_term      P-value\n",
       "GO:0045887  positive regulation of synaptic growth at neur...  5.17744e-13\n",
       "GO:0005801                                  cis-Golgi network  2.92548e-10\n",
       "GO:0044721  protein import into peroxisome matrix, substra...  4.83812e-10\n",
       "GO:0036250             peroxisome transport along microtubule  4.83812e-10\n",
       "GO:0016561  protein import into peroxisome matrix, translo...  6.31131e-10"
      ]
     },
     "execution_count": 3,
     "metadata": {},
     "output_type": "execute_result"
    }
   ],
   "source": [
    "BinomP=great.tl.calculBinomP(\n",
    "    test=\"../data/input/BinomP/genomic_region_test.bed\",\n",
    "    regdomFn=\"../data/input/BinomP/Regdom.out\",\n",
    "    Chr_sizeFn=\"../data/input/Regdom/Chr_size.txt\",\n",
    "    annotation=\"../data/input/BinomP/Ontologies.csv\"\n",
    "    )\n",
    "BinomP.head()"
   ]
  },
  {
   "cell_type": "markdown",
   "metadata": {},
   "source": [
    "Execution time on my personal machine in local and not on the servers so surely faster on the servers of the company"
   ]
  },
  {
   "cell_type": "markdown",
   "metadata": {},
   "source": [
    "for GO:0005801\tcis-Golgi network(line 2), with the hit function I found 10e-7 which is close to the value given by GREAT. I don't understand why I get not the same result between hit and hit_fatser functions. "
   ]
  }
 ],
 "metadata": {
  "kernelspec": {
   "display_name": "Python 3.9.12 ('base')",
   "language": "python",
   "name": "python3"
  },
  "language_info": {
   "codemirror_mode": {
    "name": "ipython",
    "version": 3
   },
   "file_extension": ".py",
   "mimetype": "text/x-python",
   "name": "python",
   "nbconvert_exporter": "python",
   "pygments_lexer": "ipython3",
   "version": "3.9.12"
  },
  "orig_nbformat": 4,
  "vscode": {
   "interpreter": {
    "hash": "64cdbf2ddcb9cd73e43d780a5c38adc9c5cb93dd1a925db9d35733ec03fb2329"
   }
  }
 },
 "nbformat": 4,
 "nbformat_minor": 2
}
