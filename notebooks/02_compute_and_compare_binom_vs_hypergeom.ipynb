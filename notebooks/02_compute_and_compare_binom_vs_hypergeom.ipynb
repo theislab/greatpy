{
 "cells": [
  {
   "cell_type": "markdown",
   "metadata": {},
   "source": [
    "# Computation of annotation enrichment in a genetic set "
   ]
  },
  {
   "cell_type": "markdown",
   "metadata": {},
   "source": [
    "This code excerpt shows how to use the annotation enrichment computation function in a genetic set.\n",
    "The funciton return a dataframe of binom and hypergeometric p-value (<= 0.05) and for each p-value a fdr correction with alpha = 0.05.   "
   ]
  },
  {
   "cell_type": "markdown",
   "metadata": {},
   "source": [
    "In the second part of the code we will compare the results obtained with the Great webserver and between the binomial and hypergeometric probability"
   ]
  },
  {
   "cell_type": "code",
   "execution_count": 4,
   "metadata": {},
   "outputs": [
    {
     "name": "stdout",
     "output_type": "stream",
     "text": [
      "The autoreload extension is already loaded. To reload it, use:\n",
      "  %reload_ext autoreload\n"
     ]
    }
   ],
   "source": [
    "%load_ext autoreload\n",
    "%autoreload 2"
   ]
  },
  {
   "cell_type": "code",
   "execution_count": 128,
   "metadata": {},
   "outputs": [],
   "source": [
    "import greatpy as great\n",
    "import pandas as pd\n",
    "from math import inf\n",
    "from numpy import log,nan, int64,cov,corrcoef\n",
    "from scipy.stats import pearsonr\n",
    "from seaborn import scatterplot as sp\n",
    "\n",
    "import warnings\n",
    "warnings.filterwarnings('ignore')"
   ]
  },
  {
   "cell_type": "markdown",
   "metadata": {},
   "source": [
    "## I Compute the p-values"
   ]
  },
  {
   "cell_type": "code",
   "execution_count": 6,
   "metadata": {},
   "outputs": [],
   "source": [
    "enrichment_fdr = great.tl.enrichment(\n",
    "    test=\"../data/human/test_genomic_region.bed\",\n",
    "    regdom_file=\"../data/human/regulatory_domain.bed\",\n",
    "    chr_size_file=\"../data/human/chr_size.bed\",\n",
    "    annotation=\"../data/human/ontologies.csv\",\n",
    "    binom=True,\n",
    "    hypergeom=True,\n",
    "    alpha=0.05,\n",
    "    correction=(\"fdr\",0.05),\n",
    "    sort_by=\"binom_fdr_correction\",\n",
    "    )"
   ]
  },
  {
   "cell_type": "code",
   "execution_count": 7,
   "metadata": {},
   "outputs": [
    {
     "data": {
      "text/html": [
       "<div>\n",
       "<style scoped>\n",
       "    .dataframe tbody tr th:only-of-type {\n",
       "        vertical-align: middle;\n",
       "    }\n",
       "\n",
       "    .dataframe tbody tr th {\n",
       "        vertical-align: top;\n",
       "    }\n",
       "\n",
       "    .dataframe thead th {\n",
       "        text-align: right;\n",
       "    }\n",
       "</style>\n",
       "<table border=\"1\" class=\"dataframe\">\n",
       "  <thead>\n",
       "    <tr style=\"text-align: right;\">\n",
       "      <th></th>\n",
       "      <th>go_term</th>\n",
       "      <th>binom_p_value</th>\n",
       "      <th>hypergeom_p_value</th>\n",
       "      <th>binom_fdr_correction</th>\n",
       "      <th>hypergeom_fdr_correction</th>\n",
       "    </tr>\n",
       "  </thead>\n",
       "  <tbody>\n",
       "    <tr>\n",
       "      <th>GO:0045887</th>\n",
       "      <td>positive regulation of synaptic growth at neur...</td>\n",
       "      <td>5.17744e-13</td>\n",
       "      <td>2.92750e-03</td>\n",
       "      <td>3.07540e-10</td>\n",
       "      <td>9.64682e-02</td>\n",
       "    </tr>\n",
       "    <tr>\n",
       "      <th>GO:0016561</th>\n",
       "      <td>protein import into peroxisome matrix, translo...</td>\n",
       "      <td>6.31131e-10</td>\n",
       "      <td>5.84656e-03</td>\n",
       "      <td>9.37230e-08</td>\n",
       "      <td>9.64682e-02</td>\n",
       "    </tr>\n",
       "    <tr>\n",
       "      <th>GO:0044721</th>\n",
       "      <td>protein import into peroxisome matrix, substra...</td>\n",
       "      <td>4.83812e-10</td>\n",
       "      <td>2.92750e-03</td>\n",
       "      <td>9.37230e-08</td>\n",
       "      <td>9.64682e-02</td>\n",
       "    </tr>\n",
       "    <tr>\n",
       "      <th>GO:0036250</th>\n",
       "      <td>peroxisome transport along microtubule</td>\n",
       "      <td>4.83812e-10</td>\n",
       "      <td>2.92750e-03</td>\n",
       "      <td>9.37230e-08</td>\n",
       "      <td>9.64682e-02</td>\n",
       "    </tr>\n",
       "    <tr>\n",
       "      <th>GO:0047485</th>\n",
       "      <td>protein N-terminus binding</td>\n",
       "      <td>1.29450e-09</td>\n",
       "      <td>5.03770e-03</td>\n",
       "      <td>1.53786e-07</td>\n",
       "      <td>9.64682e-02</td>\n",
       "    </tr>\n",
       "    <tr>\n",
       "      <th>...</th>\n",
       "      <td>...</td>\n",
       "      <td>...</td>\n",
       "      <td>...</td>\n",
       "      <td>...</td>\n",
       "      <td>...</td>\n",
       "    </tr>\n",
       "    <tr>\n",
       "      <th>GO:0072197</th>\n",
       "      <td>ureter morphogenesis</td>\n",
       "      <td>1.97164e-02</td>\n",
       "      <td>5.84656e-03</td>\n",
       "      <td>4.43620e-02</td>\n",
       "      <td>9.64682e-02</td>\n",
       "    </tr>\n",
       "    <tr>\n",
       "      <th>GO:0061138</th>\n",
       "      <td>morphogenesis of a branching epithelium</td>\n",
       "      <td>2.06973e-02</td>\n",
       "      <td>8.75719e-03</td>\n",
       "      <td>4.63932e-02</td>\n",
       "      <td>1.00034e-01</td>\n",
       "    </tr>\n",
       "    <tr>\n",
       "      <th>GO:0045063</th>\n",
       "      <td>T-helper 1 cell differentiation</td>\n",
       "      <td>2.11867e-02</td>\n",
       "      <td>1.45533e-02</td>\n",
       "      <td>4.71344e-02</td>\n",
       "      <td>1.06496e-01</td>\n",
       "    </tr>\n",
       "    <tr>\n",
       "      <th>GO:0006888</th>\n",
       "      <td>ER to Golgi vesicle-mediated transport</td>\n",
       "      <td>2.11222e-02</td>\n",
       "      <td>5.36764e-01</td>\n",
       "      <td>4.71344e-02</td>\n",
       "      <td>6.10801e-01</td>\n",
       "    </tr>\n",
       "    <tr>\n",
       "      <th>GO:0005518</th>\n",
       "      <td>collagen binding</td>\n",
       "      <td>2.14472e-02</td>\n",
       "      <td>1.95307e-01</td>\n",
       "      <td>4.75360e-02</td>\n",
       "      <td>3.01331e-01</td>\n",
       "    </tr>\n",
       "  </tbody>\n",
       "</table>\n",
       "<p>268 rows × 5 columns</p>\n",
       "</div>"
      ],
      "text/plain": [
       "                                                      go_term binom_p_value  \\\n",
       "GO:0045887  positive regulation of synaptic growth at neur...   5.17744e-13   \n",
       "GO:0016561  protein import into peroxisome matrix, translo...   6.31131e-10   \n",
       "GO:0044721  protein import into peroxisome matrix, substra...   4.83812e-10   \n",
       "GO:0036250             peroxisome transport along microtubule   4.83812e-10   \n",
       "GO:0047485                         protein N-terminus binding   1.29450e-09   \n",
       "...                                                       ...           ...   \n",
       "GO:0072197                               ureter morphogenesis   1.97164e-02   \n",
       "GO:0061138            morphogenesis of a branching epithelium   2.06973e-02   \n",
       "GO:0045063                    T-helper 1 cell differentiation   2.11867e-02   \n",
       "GO:0006888             ER to Golgi vesicle-mediated transport   2.11222e-02   \n",
       "GO:0005518                                   collagen binding   2.14472e-02   \n",
       "\n",
       "           hypergeom_p_value binom_fdr_correction hypergeom_fdr_correction  \n",
       "GO:0045887       2.92750e-03          3.07540e-10              9.64682e-02  \n",
       "GO:0016561       5.84656e-03          9.37230e-08              9.64682e-02  \n",
       "GO:0044721       2.92750e-03          9.37230e-08              9.64682e-02  \n",
       "GO:0036250       2.92750e-03          9.37230e-08              9.64682e-02  \n",
       "GO:0047485       5.03770e-03          1.53786e-07              9.64682e-02  \n",
       "...                      ...                  ...                      ...  \n",
       "GO:0072197       5.84656e-03          4.43620e-02              9.64682e-02  \n",
       "GO:0061138       8.75719e-03          4.63932e-02              1.00034e-01  \n",
       "GO:0045063       1.45533e-02          4.71344e-02              1.06496e-01  \n",
       "GO:0006888       5.36764e-01          4.71344e-02              6.10801e-01  \n",
       "GO:0005518       1.95307e-01          4.75360e-02              3.01331e-01  \n",
       "\n",
       "[268 rows x 5 columns]"
      ]
     },
     "execution_count": 7,
     "metadata": {},
     "output_type": "execute_result"
    }
   ],
   "source": [
    "enrichment_fdr"
   ]
  },
  {
   "cell_type": "code",
   "execution_count": 8,
   "metadata": {},
   "outputs": [],
   "source": [
    "enrichment_bonferroni = great.tl.enrichment(\n",
    "    test=\"../data/human/test_genomic_region.bed\",\n",
    "    regdom_file=\"../data/human/regulatory_domain.bed\",\n",
    "    chr_size_file=\"../data/human/chr_size.bed\",\n",
    "    annotation=\"../data/human/ontologies.csv\",\n",
    "    binom=True,\n",
    "    hypergeom=True,\n",
    "    alpha=0.05,\n",
    "    correction=(\"bonferroni\",0.05),\n",
    "    )"
   ]
  },
  {
   "cell_type": "code",
   "execution_count": 9,
   "metadata": {},
   "outputs": [
    {
     "data": {
      "text/html": [
       "<div>\n",
       "<style scoped>\n",
       "    .dataframe tbody tr th:only-of-type {\n",
       "        vertical-align: middle;\n",
       "    }\n",
       "\n",
       "    .dataframe tbody tr th {\n",
       "        vertical-align: top;\n",
       "    }\n",
       "\n",
       "    .dataframe thead th {\n",
       "        text-align: right;\n",
       "    }\n",
       "</style>\n",
       "<table border=\"1\" class=\"dataframe\">\n",
       "  <thead>\n",
       "    <tr style=\"text-align: right;\">\n",
       "      <th></th>\n",
       "      <th>go_term</th>\n",
       "      <th>binom_p_value</th>\n",
       "      <th>hypergeom_p_value</th>\n",
       "      <th>binom_bonferroni_correction</th>\n",
       "      <th>hypergeom_bonferroni_correction</th>\n",
       "    </tr>\n",
       "  </thead>\n",
       "  <tbody>\n",
       "    <tr>\n",
       "      <th>GO:0002162</th>\n",
       "      <td>dystroglycan binding</td>\n",
       "      <td>1.29786e-05</td>\n",
       "      <td>4.02252e-02</td>\n",
       "      <td>7.70928e-03</td>\n",
       "      <td>1</td>\n",
       "    </tr>\n",
       "    <tr>\n",
       "      <th>GO:0007213</th>\n",
       "      <td>G protein-coupled acetylcholine receptor signa...</td>\n",
       "      <td>4.28794e-05</td>\n",
       "      <td>4.86352e-02</td>\n",
       "      <td>2.54703e-02</td>\n",
       "      <td>1</td>\n",
       "    </tr>\n",
       "    <tr>\n",
       "      <th>GO:0033691</th>\n",
       "      <td>sialic acid binding</td>\n",
       "      <td>1.83861e-06</td>\n",
       "      <td>3.45779e-02</td>\n",
       "      <td>1.09214e-03</td>\n",
       "      <td>1</td>\n",
       "    </tr>\n",
       "    <tr>\n",
       "      <th>GO:0035374</th>\n",
       "      <td>chondroitin sulfate binding</td>\n",
       "      <td>1.06551e-06</td>\n",
       "      <td>2.60455e-02</td>\n",
       "      <td>6.32912e-04</td>\n",
       "      <td>1</td>\n",
       "    </tr>\n",
       "    <tr>\n",
       "      <th>GO:0043113</th>\n",
       "      <td>receptor clustering</td>\n",
       "      <td>6.53249e-05</td>\n",
       "      <td>7.61475e-02</td>\n",
       "      <td>3.88030e-02</td>\n",
       "      <td>1</td>\n",
       "    </tr>\n",
       "    <tr>\n",
       "      <th>...</th>\n",
       "      <td>...</td>\n",
       "      <td>...</td>\n",
       "      <td>...</td>\n",
       "      <td>...</td>\n",
       "      <td>...</td>\n",
       "    </tr>\n",
       "    <tr>\n",
       "      <th>GO:0008479</th>\n",
       "      <td>queuine tRNA-ribosyltransferase activity</td>\n",
       "      <td>1.75630e-05</td>\n",
       "      <td>1.16594e-02</td>\n",
       "      <td>1.04324e-02</td>\n",
       "      <td>1</td>\n",
       "    </tr>\n",
       "    <tr>\n",
       "      <th>GO:0101030</th>\n",
       "      <td>tRNA-guanine transglycosylation</td>\n",
       "      <td>2.90290e-05</td>\n",
       "      <td>1.16594e-02</td>\n",
       "      <td>1.72432e-02</td>\n",
       "      <td>1</td>\n",
       "    </tr>\n",
       "    <tr>\n",
       "      <th>GO:0044323</th>\n",
       "      <td>retinoic acid-responsive element binding</td>\n",
       "      <td>4.63051e-07</td>\n",
       "      <td>1.16594e-02</td>\n",
       "      <td>2.75052e-04</td>\n",
       "      <td>1</td>\n",
       "    </tr>\n",
       "    <tr>\n",
       "      <th>GO:0048387</th>\n",
       "      <td>negative regulation of retinoic acid receptor ...</td>\n",
       "      <td>8.90815e-06</td>\n",
       "      <td>2.60455e-02</td>\n",
       "      <td>5.29144e-03</td>\n",
       "      <td>1</td>\n",
       "    </tr>\n",
       "    <tr>\n",
       "      <th>GO:0002087</th>\n",
       "      <td>regulation of respiratory gaseous exchange by ...</td>\n",
       "      <td>2.07002e-05</td>\n",
       "      <td>3.74057e-02</td>\n",
       "      <td>1.22959e-02</td>\n",
       "      <td>1</td>\n",
       "    </tr>\n",
       "  </tbody>\n",
       "</table>\n",
       "<p>101 rows × 5 columns</p>\n",
       "</div>"
      ],
      "text/plain": [
       "                                                      go_term binom_p_value  \\\n",
       "GO:0002162                               dystroglycan binding   1.29786e-05   \n",
       "GO:0007213  G protein-coupled acetylcholine receptor signa...   4.28794e-05   \n",
       "GO:0033691                                sialic acid binding   1.83861e-06   \n",
       "GO:0035374                        chondroitin sulfate binding   1.06551e-06   \n",
       "GO:0043113                                receptor clustering   6.53249e-05   \n",
       "...                                                       ...           ...   \n",
       "GO:0008479           queuine tRNA-ribosyltransferase activity   1.75630e-05   \n",
       "GO:0101030                    tRNA-guanine transglycosylation   2.90290e-05   \n",
       "GO:0044323           retinoic acid-responsive element binding   4.63051e-07   \n",
       "GO:0048387  negative regulation of retinoic acid receptor ...   8.90815e-06   \n",
       "GO:0002087  regulation of respiratory gaseous exchange by ...   2.07002e-05   \n",
       "\n",
       "           hypergeom_p_value binom_bonferroni_correction  \\\n",
       "GO:0002162       4.02252e-02                 7.70928e-03   \n",
       "GO:0007213       4.86352e-02                 2.54703e-02   \n",
       "GO:0033691       3.45779e-02                 1.09214e-03   \n",
       "GO:0035374       2.60455e-02                 6.32912e-04   \n",
       "GO:0043113       7.61475e-02                 3.88030e-02   \n",
       "...                      ...                         ...   \n",
       "GO:0008479       1.16594e-02                 1.04324e-02   \n",
       "GO:0101030       1.16594e-02                 1.72432e-02   \n",
       "GO:0044323       1.16594e-02                 2.75052e-04   \n",
       "GO:0048387       2.60455e-02                 5.29144e-03   \n",
       "GO:0002087       3.74057e-02                 1.22959e-02   \n",
       "\n",
       "           hypergeom_bonferroni_correction  \n",
       "GO:0002162                               1  \n",
       "GO:0007213                               1  \n",
       "GO:0033691                               1  \n",
       "GO:0035374                               1  \n",
       "GO:0043113                               1  \n",
       "...                                    ...  \n",
       "GO:0008479                               1  \n",
       "GO:0101030                               1  \n",
       "GO:0044323                               1  \n",
       "GO:0048387                               1  \n",
       "GO:0002087                               1  \n",
       "\n",
       "[101 rows x 5 columns]"
      ]
     },
     "execution_count": 9,
     "metadata": {},
     "output_type": "execute_result"
    }
   ],
   "source": [
    "enrichment_bonferroni"
   ]
  },
  {
   "cell_type": "code",
   "execution_count": 145,
   "metadata": {},
   "outputs": [],
   "source": [
    "enrichment_tot = enrichment_fdr \n",
    "enrichment_tot[\"binom_bonferroni_correction\"] = enrichment_bonferroni[\"binom_bonferroni_correction\"]\n",
    "enrichment_tot[\"hypergeom_bonferroni_correction\"] = enrichment_bonferroni[\"hypergeom_bonferroni_correction\"]\n",
    "enrichment_tot = enrichment_tot[[\"binom_p_value\",\"binom_bonferroni_correction\",\"binom_fdr_correction\",\"hypergeom_p_value\",\"hypergeom_bonferroni_correction\",\"hypergeom_fdr_correction\"]]\n",
    "enrichment_tot = enrichment_tot.reset_index().rename(columns={\"index\":\"id\",\"binom_bonferroni_correction\":\"binom_bonferroni\",\"binom_fdr_correction\":\"binom_fdr\",\"hypergeom_p_value\":\"hyper_p_value\",\"hypergeom_bonferroni_correction\":\"hyper_bonferroni\",\"hypergeom_fdr_correction\":\"hyper_fdr\"})"
   ]
  },
  {
   "cell_type": "markdown",
   "metadata": {},
   "source": [
    "## II Compare to GREAT webserver  "
   ]
  },
  {
   "cell_type": "markdown",
   "metadata": {},
   "source": [
    "### II.1 Import the data"
   ]
  },
  {
   "cell_type": "code",
   "execution_count": 156,
   "metadata": {},
   "outputs": [],
   "source": [
    "great_webserver = pd.read_csv(\"../data/output_great_webserver.tsv\",sep=\"\\t\",comment=\"#\",\n",
    "                    names=[\"ontologie\",\"term_name\",\"ID\",\"binom_p_value\",\"binom_bonferroni\",\"binom_fdr\",\"hyper_p_value\",\"hyper_bonferroni\",\"hyper_fdr\"],index_col=False,\n",
    "                    dtype={\"term_name\":\"object\", \"ID\":\"object\",\"binom_p_value\":\"float64\", \"binom_bonferroni\":\"float64\", \"binom_fdr\":\"float64\", \"hyper_p_value\":\"float64\", \"hyper_bonferroni\":\"float64\", \"hyper_fdr\":\"float64\"})\n",
    "great_webserver.rename(columns={\"ID\":\"id\"},inplace=True)\n",
    "del great_webserver[\"ontologie\"]\n",
    "del great_webserver[\"term_name\"]"
   ]
  },
  {
   "cell_type": "markdown",
   "metadata": {},
   "source": [
    "### II.2 Compare the results between greatpy and great "
   ]
  },
  {
   "cell_type": "markdown",
   "metadata": {},
   "source": [
    "#### II.2.1 Preprocessing"
   ]
  },
  {
   "cell_type": "code",
   "execution_count": 157,
   "metadata": {},
   "outputs": [
    {
     "data": {
      "text/html": [
       "<div>\n",
       "<style scoped>\n",
       "    .dataframe tbody tr th:only-of-type {\n",
       "        vertical-align: middle;\n",
       "    }\n",
       "\n",
       "    .dataframe tbody tr th {\n",
       "        vertical-align: top;\n",
       "    }\n",
       "\n",
       "    .dataframe thead th {\n",
       "        text-align: right;\n",
       "    }\n",
       "</style>\n",
       "<table border=\"1\" class=\"dataframe\">\n",
       "  <thead>\n",
       "    <tr style=\"text-align: right;\">\n",
       "      <th></th>\n",
       "      <th>id</th>\n",
       "      <th>binom_p_value</th>\n",
       "      <th>binom_bonferroni</th>\n",
       "      <th>binom_fdr</th>\n",
       "      <th>hyper_p_value</th>\n",
       "      <th>hyper_bonferroni</th>\n",
       "      <th>hyper_fdr</th>\n",
       "    </tr>\n",
       "  </thead>\n",
       "  <tbody>\n",
       "    <tr>\n",
       "      <th>122</th>\n",
       "      <td>GO:0000146</td>\n",
       "      <td>2.45815e-04</td>\n",
       "      <td>NaN</td>\n",
       "      <td>1.18711e-03</td>\n",
       "      <td>2.82715e-03</td>\n",
       "      <td>NaN</td>\n",
       "      <td>9.64682e-02</td>\n",
       "    </tr>\n",
       "    <tr>\n",
       "      <th>125</th>\n",
       "      <td>GO:0001054</td>\n",
       "      <td>3.06496e-04</td>\n",
       "      <td>NaN</td>\n",
       "      <td>1.42234e-03</td>\n",
       "      <td>3.74057e-02</td>\n",
       "      <td>NaN</td>\n",
       "      <td>1.42429e-01</td>\n",
       "    </tr>\n",
       "    <tr>\n",
       "      <th>113</th>\n",
       "      <td>GO:0001055</td>\n",
       "      <td>1.78466e-04</td>\n",
       "      <td>NaN</td>\n",
       "      <td>9.29900e-04</td>\n",
       "      <td>3.17420e-02</td>\n",
       "      <td>NaN</td>\n",
       "      <td>1.36629e-01</td>\n",
       "    </tr>\n",
       "    <tr>\n",
       "      <th>150</th>\n",
       "      <td>GO:0001056</td>\n",
       "      <td>8.63394e-04</td>\n",
       "      <td>NaN</td>\n",
       "      <td>3.39640e-03</td>\n",
       "      <td>4.58400e-02</td>\n",
       "      <td>NaN</td>\n",
       "      <td>1.52117e-01</td>\n",
       "    </tr>\n",
       "    <tr>\n",
       "      <th>16</th>\n",
       "      <td>GO:0001765</td>\n",
       "      <td>8.79725e-08</td>\n",
       "      <td>5.22557e-05</td>\n",
       "      <td>3.07386e-06</td>\n",
       "      <td>2.31849e-02</td>\n",
       "      <td>1</td>\n",
       "      <td>1.25198e-01</td>\n",
       "    </tr>\n",
       "    <tr>\n",
       "      <th>...</th>\n",
       "      <td>...</td>\n",
       "      <td>...</td>\n",
       "      <td>...</td>\n",
       "      <td>...</td>\n",
       "      <td>...</td>\n",
       "      <td>...</td>\n",
       "      <td>...</td>\n",
       "    </tr>\n",
       "    <tr>\n",
       "      <th>218</th>\n",
       "      <td>GO:1990774</td>\n",
       "      <td>6.31080e-03</td>\n",
       "      <td>NaN</td>\n",
       "      <td>1.70392e-02</td>\n",
       "      <td>2.92750e-03</td>\n",
       "      <td>NaN</td>\n",
       "      <td>9.64682e-02</td>\n",
       "    </tr>\n",
       "    <tr>\n",
       "      <th>237</th>\n",
       "      <td>GO:2000426</td>\n",
       "      <td>8.61060e-03</td>\n",
       "      <td>NaN</td>\n",
       "      <td>2.14903e-02</td>\n",
       "      <td>5.84656e-03</td>\n",
       "      <td>NaN</td>\n",
       "      <td>9.64682e-02</td>\n",
       "    </tr>\n",
       "    <tr>\n",
       "      <th>257</th>\n",
       "      <td>GO:2000819</td>\n",
       "      <td>1.56276e-02</td>\n",
       "      <td>NaN</td>\n",
       "      <td>3.59799e-02</td>\n",
       "      <td>8.75719e-03</td>\n",
       "      <td>NaN</td>\n",
       "      <td>1.00034e-01</td>\n",
       "    </tr>\n",
       "    <tr>\n",
       "      <th>8</th>\n",
       "      <td>GO:2001046</td>\n",
       "      <td>5.28618e-09</td>\n",
       "      <td>3.13999e-06</td>\n",
       "      <td>3.48888e-07</td>\n",
       "      <td>2.31849e-02</td>\n",
       "      <td>1</td>\n",
       "      <td>1.25198e-01</td>\n",
       "    </tr>\n",
       "    <tr>\n",
       "      <th>13</th>\n",
       "      <td>GO:2001212</td>\n",
       "      <td>3.39927e-08</td>\n",
       "      <td>2.01917e-05</td>\n",
       "      <td>1.56135e-06</td>\n",
       "      <td>8.75719e-03</td>\n",
       "      <td>1</td>\n",
       "      <td>1.00034e-01</td>\n",
       "    </tr>\n",
       "  </tbody>\n",
       "</table>\n",
       "<p>92 rows × 7 columns</p>\n",
       "</div>"
      ],
      "text/plain": [
       "             id binom_p_value binom_bonferroni    binom_fdr hyper_p_value  \\\n",
       "122  GO:0000146   2.45815e-04              NaN  1.18711e-03   2.82715e-03   \n",
       "125  GO:0001054   3.06496e-04              NaN  1.42234e-03   3.74057e-02   \n",
       "113  GO:0001055   1.78466e-04              NaN  9.29900e-04   3.17420e-02   \n",
       "150  GO:0001056   8.63394e-04              NaN  3.39640e-03   4.58400e-02   \n",
       "16   GO:0001765   8.79725e-08      5.22557e-05  3.07386e-06   2.31849e-02   \n",
       "..          ...           ...              ...          ...           ...   \n",
       "218  GO:1990774   6.31080e-03              NaN  1.70392e-02   2.92750e-03   \n",
       "237  GO:2000426   8.61060e-03              NaN  2.14903e-02   5.84656e-03   \n",
       "257  GO:2000819   1.56276e-02              NaN  3.59799e-02   8.75719e-03   \n",
       "8    GO:2001046   5.28618e-09      3.13999e-06  3.48888e-07   2.31849e-02   \n",
       "13   GO:2001212   3.39927e-08      2.01917e-05  1.56135e-06   8.75719e-03   \n",
       "\n",
       "    hyper_bonferroni    hyper_fdr  \n",
       "122              NaN  9.64682e-02  \n",
       "125              NaN  1.42429e-01  \n",
       "113              NaN  1.36629e-01  \n",
       "150              NaN  1.52117e-01  \n",
       "16                 1  1.25198e-01  \n",
       "..               ...          ...  \n",
       "218              NaN  9.64682e-02  \n",
       "237              NaN  9.64682e-02  \n",
       "257              NaN  1.00034e-01  \n",
       "8                  1  1.25198e-01  \n",
       "13                 1  1.00034e-01  \n",
       "\n",
       "[92 rows x 7 columns]"
      ]
     },
     "execution_count": 157,
     "metadata": {},
     "output_type": "execute_result"
    }
   ],
   "source": [
    "enrichment_tot = enrichment_tot[enrichment_tot[\"id\"].isin(list(great_webserver[\"id\"]))]\n",
    "enrichment_tot = enrichment_tot.sort_values(\"id\")\n",
    "enrichment_tot"
   ]
  },
  {
   "cell_type": "code",
   "execution_count": 158,
   "metadata": {},
   "outputs": [
    {
     "data": {
      "text/html": [
       "<div>\n",
       "<style scoped>\n",
       "    .dataframe tbody tr th:only-of-type {\n",
       "        vertical-align: middle;\n",
       "    }\n",
       "\n",
       "    .dataframe tbody tr th {\n",
       "        vertical-align: top;\n",
       "    }\n",
       "\n",
       "    .dataframe thead th {\n",
       "        text-align: right;\n",
       "    }\n",
       "</style>\n",
       "<table border=\"1\" class=\"dataframe\">\n",
       "  <thead>\n",
       "    <tr style=\"text-align: right;\">\n",
       "      <th></th>\n",
       "      <th>id</th>\n",
       "      <th>binom_p_value</th>\n",
       "      <th>binom_bonferroni</th>\n",
       "      <th>binom_fdr</th>\n",
       "      <th>hyper_p_value</th>\n",
       "      <th>hyper_bonferroni</th>\n",
       "      <th>hyper_fdr</th>\n",
       "    </tr>\n",
       "  </thead>\n",
       "  <tbody>\n",
       "    <tr>\n",
       "      <th>187</th>\n",
       "      <td>GO:0000146</td>\n",
       "      <td>1.23963e-03</td>\n",
       "      <td>1.00000e+00</td>\n",
       "      <td>1.37729e-01</td>\n",
       "      <td>2.08176e-03</td>\n",
       "      <td>1.00000e+00</td>\n",
       "      <td>1.00000e+00</td>\n",
       "    </tr>\n",
       "    <tr>\n",
       "      <th>189</th>\n",
       "      <td>GO:0001054</td>\n",
       "      <td>1.55246e-03</td>\n",
       "      <td>1.00000e+00</td>\n",
       "      <td>1.59866e-01</td>\n",
       "      <td>3.64538e-02</td>\n",
       "      <td>1.00000e+00</td>\n",
       "      <td>1.00000e+00</td>\n",
       "    </tr>\n",
       "    <tr>\n",
       "      <th>182</th>\n",
       "      <td>GO:0001055</td>\n",
       "      <td>1.22099e-04</td>\n",
       "      <td>5.15502e-01</td>\n",
       "      <td>2.24131e-02</td>\n",
       "      <td>3.34666e-02</td>\n",
       "      <td>1.00000e+00</td>\n",
       "      <td>1.00000e+00</td>\n",
       "    </tr>\n",
       "    <tr>\n",
       "      <th>188</th>\n",
       "      <td>GO:0001056</td>\n",
       "      <td>1.34219e-03</td>\n",
       "      <td>1.00000e+00</td>\n",
       "      <td>1.41668e-01</td>\n",
       "      <td>4.83124e-02</td>\n",
       "      <td>1.00000e+00</td>\n",
       "      <td>1.00000e+00</td>\n",
       "    </tr>\n",
       "    <tr>\n",
       "      <th>17</th>\n",
       "      <td>GO:0001765</td>\n",
       "      <td>1.14945e-06</td>\n",
       "      <td>1.51257e-02</td>\n",
       "      <td>8.40315e-04</td>\n",
       "      <td>3.04702e-02</td>\n",
       "      <td>1.00000e+00</td>\n",
       "      <td>1.00000e+00</td>\n",
       "    </tr>\n",
       "    <tr>\n",
       "      <th>...</th>\n",
       "      <td>...</td>\n",
       "      <td>...</td>\n",
       "      <td>...</td>\n",
       "      <td>...</td>\n",
       "      <td>...</td>\n",
       "      <td>...</td>\n",
       "      <td>...</td>\n",
       "    </tr>\n",
       "    <tr>\n",
       "      <th>93</th>\n",
       "      <td>GO:1990774</td>\n",
       "      <td>6.67926e-03</td>\n",
       "      <td>1.00000e+00</td>\n",
       "      <td>5.39217e-01</td>\n",
       "      <td>3.08888e-03</td>\n",
       "      <td>1.00000e+00</td>\n",
       "      <td>1.00000e+00</td>\n",
       "    </tr>\n",
       "    <tr>\n",
       "      <th>103</th>\n",
       "      <td>GO:2000426</td>\n",
       "      <td>1.03013e-02</td>\n",
       "      <td>1.00000e+00</td>\n",
       "      <td>7.06012e-01</td>\n",
       "      <td>6.16839e-03</td>\n",
       "      <td>1.00000e+00</td>\n",
       "      <td>1.00000e+00</td>\n",
       "    </tr>\n",
       "    <tr>\n",
       "      <th>113</th>\n",
       "      <td>GO:2000819</td>\n",
       "      <td>1.91393e-02</td>\n",
       "      <td>1.00000e+00</td>\n",
       "      <td>1.00000e+00</td>\n",
       "      <td>9.23855e-03</td>\n",
       "      <td>1.00000e+00</td>\n",
       "      <td>1.00000e+00</td>\n",
       "    </tr>\n",
       "    <tr>\n",
       "      <th>7</th>\n",
       "      <td>GO:2001046</td>\n",
       "      <td>5.24222e-09</td>\n",
       "      <td>6.89824e-05</td>\n",
       "      <td>8.62279e-06</td>\n",
       "      <td>1.83932e-02</td>\n",
       "      <td>1.00000e+00</td>\n",
       "      <td>1.00000e+00</td>\n",
       "    </tr>\n",
       "    <tr>\n",
       "      <th>37</th>\n",
       "      <td>GO:2001212</td>\n",
       "      <td>4.38258e-05</td>\n",
       "      <td>5.76703e-01</td>\n",
       "      <td>1.25370e-02</td>\n",
       "      <td>4.24012e-02</td>\n",
       "      <td>1.00000e+00</td>\n",
       "      <td>1.00000e+00</td>\n",
       "    </tr>\n",
       "  </tbody>\n",
       "</table>\n",
       "<p>92 rows × 7 columns</p>\n",
       "</div>"
      ],
      "text/plain": [
       "             id  binom_p_value  binom_bonferroni    binom_fdr  hyper_p_value  \\\n",
       "187  GO:0000146    1.23963e-03       1.00000e+00  1.37729e-01    2.08176e-03   \n",
       "189  GO:0001054    1.55246e-03       1.00000e+00  1.59866e-01    3.64538e-02   \n",
       "182  GO:0001055    1.22099e-04       5.15502e-01  2.24131e-02    3.34666e-02   \n",
       "188  GO:0001056    1.34219e-03       1.00000e+00  1.41668e-01    4.83124e-02   \n",
       "17   GO:0001765    1.14945e-06       1.51257e-02  8.40315e-04    3.04702e-02   \n",
       "..          ...            ...               ...          ...            ...   \n",
       "93   GO:1990774    6.67926e-03       1.00000e+00  5.39217e-01    3.08888e-03   \n",
       "103  GO:2000426    1.03013e-02       1.00000e+00  7.06012e-01    6.16839e-03   \n",
       "113  GO:2000819    1.91393e-02       1.00000e+00  1.00000e+00    9.23855e-03   \n",
       "7    GO:2001046    5.24222e-09       6.89824e-05  8.62279e-06    1.83932e-02   \n",
       "37   GO:2001212    4.38258e-05       5.76703e-01  1.25370e-02    4.24012e-02   \n",
       "\n",
       "     hyper_bonferroni    hyper_fdr  \n",
       "187       1.00000e+00  1.00000e+00  \n",
       "189       1.00000e+00  1.00000e+00  \n",
       "182       1.00000e+00  1.00000e+00  \n",
       "188       1.00000e+00  1.00000e+00  \n",
       "17        1.00000e+00  1.00000e+00  \n",
       "..                ...          ...  \n",
       "93        1.00000e+00  1.00000e+00  \n",
       "103       1.00000e+00  1.00000e+00  \n",
       "113       1.00000e+00  1.00000e+00  \n",
       "7         1.00000e+00  1.00000e+00  \n",
       "37        1.00000e+00  1.00000e+00  \n",
       "\n",
       "[92 rows x 7 columns]"
      ]
     },
     "execution_count": 158,
     "metadata": {},
     "output_type": "execute_result"
    }
   ],
   "source": [
    "great_webserver = great_webserver[great_webserver[\"id\"].isin(list(enrichment_tot[\"id\"]))]\n",
    "great_webserver = great_webserver.sort_values(\"id\")\n",
    "great_webserver"
   ]
  },
  {
   "cell_type": "markdown",
   "metadata": {},
   "source": [
    "#### II.2.b Graphical"
   ]
  },
  {
   "cell_type": "code",
   "execution_count": 149,
   "metadata": {},
   "outputs": [],
   "source": [
    "def plot(df1,df2,colname,minus_log10=True):    \n",
    "    df1 = df1.dropna()\n",
    "    df2 = df2.dropna()\n",
    "    df1 = df1.astype({colname:\"float64\"})\n",
    "    df2 = df2.astype({colname:\"float64\"})\n",
    "    d = pd.DataFrame()\n",
    "\n",
    "    if minus_log10 :\n",
    "        d[f\"-log({colname}_df1)\"] = -log(df1[colname])\n",
    "        d[f\"-log({colname}_df2)\"] = -log(df2[colname])\n",
    "        sp(data=d,x=f\"-log({colname}_df1)\",y=f\"-log({colname}_df2)\")\n",
    "    else : \n",
    "        d[f\"{colname}_df1\"] = df1[colname]\n",
    "        d[f\"{colname}_df2\"] = df2[colname]\n",
    "        sp(data=d,x=f\"{colname}_df1\",y=f\"{colname}_df2\")"
   ]
  },
  {
   "cell_type": "code",
   "execution_count": 150,
   "metadata": {},
   "outputs": [
    {
     "data": {
      "image/png": "[encoded data removed]",
      "text/plain": [
       "<Figure size 432x288 with 1 Axes>"
      ]
     },
     "metadata": {
      "needs_background": "light"
     },
     "output_type": "display_data"
    }
   ],
   "source": [
    "plot(enrichment_tot,great_webserver,\"binom_p_value\")"
   ]
  },
  {
   "cell_type": "code",
   "execution_count": 153,
   "metadata": {},
   "outputs": [
    {
     "data": {
      "image/png": "[encoded data removed]",
      "text/plain": [
       "<Figure size 432x288 with 1 Axes>"
      ]
     },
     "metadata": {
      "needs_background": "light"
     },
     "output_type": "display_data"
    }
   ],
   "source": [
    "plot(enrichment_tot,great_webserver,\"hyper_p_value\")"
   ]
  },
  {
   "cell_type": "markdown",
   "metadata": {},
   "source": [
    "#### II.2.c statistics"
   ]
  },
  {
   "cell_type": "code",
   "execution_count": 184,
   "metadata": {},
   "outputs": [],
   "source": [
    "def stat() : \n",
    "    binom_greatpy = hyper_greatpy = binom_great = hyper_great = []\n",
    "    for i in range(enrichment_tot.shape[0]) : \n",
    "        curr_enrichment = enrichment_tot.iloc[i]\n",
    "        curr_great_webserver = great_webserver.loc[great_webserver[\"id\"]==curr_enrichment[\"id\"]]\n",
    "        binom_greatpy.append(float(curr_enrichment[\"binom_p_value\"]))\n",
    "        hyper_greatpy.append(float(curr_enrichment[\"hyper_p_value\"]))\n",
    "        binom_great.append(float(curr_great_webserver[\"binom_p_value\"]))\n",
    "        hyper_great.append(float(curr_great_webserver[\"hyper_p_value\"]))\n",
    "    return pd.DataFrame({\"binom\": [cov(m = binom_greatpy, y = binom_great)[0][1],pearsonr(binom_greatpy,binom_great)[0]],\"hyper\":[cov(m = hyper_greatpy, y = hyper_great)[0][1],pearsonr(hyper_greatpy,hyper_great)[0]]},index=[\"correlation_coefficient\",\"pearson\"])\n"
   ]
  },
  {
   "cell_type": "code",
   "execution_count": 185,
   "metadata": {},
   "outputs": [
    {
     "data": {
      "text/html": [
       "<div>\n",
       "<style scoped>\n",
       "    .dataframe tbody tr th:only-of-type {\n",
       "        vertical-align: middle;\n",
       "    }\n",
       "\n",
       "    .dataframe tbody tr th {\n",
       "        vertical-align: top;\n",
       "    }\n",
       "\n",
       "    .dataframe thead th {\n",
       "        text-align: right;\n",
       "    }\n",
       "</style>\n",
       "<table border=\"1\" class=\"dataframe\">\n",
       "  <thead>\n",
       "    <tr style=\"text-align: right;\">\n",
       "      <th></th>\n",
       "      <th>binom</th>\n",
       "      <th>hyper</th>\n",
       "    </tr>\n",
       "  </thead>\n",
       "  <tbody>\n",
       "    <tr>\n",
       "      <th>correlation_coefficient</th>\n",
       "      <td>1.30859e-03</td>\n",
       "      <td>1.30859e-03</td>\n",
       "    </tr>\n",
       "    <tr>\n",
       "      <th>pearson</th>\n",
       "      <td>1.00000e+00</td>\n",
       "      <td>1.00000e+00</td>\n",
       "    </tr>\n",
       "  </tbody>\n",
       "</table>\n",
       "</div>"
      ],
      "text/plain": [
       "                               binom        hyper\n",
       "correlation_coefficient  1.30859e-03  1.30859e-03\n",
       "pearson                  1.00000e+00  1.00000e+00"
      ]
     },
     "execution_count": 185,
     "metadata": {},
     "output_type": "execute_result"
    }
   ],
   "source": [
    "stat()"
   ]
  },
  {
   "cell_type": "markdown",
   "metadata": {},
   "source": [
    "The result returned by greatpy is similar to the one obtained (pearson coefficient = 1) but the results have been reduced to select only the ids present in great_output and greatpy_output. "
   ]
  },
  {
   "cell_type": "markdown",
   "metadata": {},
   "source": [
    "On the other hand, the two variables (binomial probability and hypergeometric probability) do not seem to be correlated because the correlation coefficient is close to 0 "
   ]
  },
  {
   "cell_type": "markdown",
   "metadata": {},
   "source": [
    "## III Compare both results"
   ]
  },
  {
   "cell_type": "markdown",
   "metadata": {},
   "source": [
    "### III.1 Without correction"
   ]
  },
  {
   "cell_type": "markdown",
   "metadata": {},
   "source": [
    "#### III.1.a Without log scale"
   ]
  },
  {
   "cell_type": "code",
   "execution_count": 186,
   "metadata": {},
   "outputs": [
    {
     "data": {
      "image/png": "[encoded data removed]",
      "text/plain": [
       "<Figure size 432x288 with 1 Axes>"
      ]
     },
     "metadata": {
      "needs_background": "light"
     },
     "output_type": "display_data"
    }
   ],
   "source": [
    "great.pl.scatterplot(\n",
    "    enrichment_fdr,\n",
    "    \"binom_p_value\",\n",
    "    \"hypergeom_p_value\",\n",
    "    minus_log10=False)"
   ]
  },
  {
   "cell_type": "markdown",
   "metadata": {},
   "source": [
    "#### III.1.b With log scale"
   ]
  },
  {
   "cell_type": "code",
   "execution_count": 187,
   "metadata": {},
   "outputs": [
    {
     "data": {
      "image/png": "[encoded data removed]",
      "text/plain": [
       "<Figure size 432x288 with 1 Axes>"
      ]
     },
     "metadata": {
      "needs_background": "light"
     },
     "output_type": "display_data"
    }
   ],
   "source": [
    "great.pl.scatterplot(\n",
    "    enrichment_fdr,\n",
    "    \"binom_p_value\",\n",
    "    \"hypergeom_p_value\",\n",
    "    minus_log10=True)"
   ]
  },
  {
   "cell_type": "markdown",
   "metadata": {},
   "source": [
    "Resembling the images of the articule published by the Berjano lab: https://www.nature.com/articles/nbt.1630/figures/2"
   ]
  },
  {
   "cell_type": "markdown",
   "metadata": {},
   "source": [
    "### III.2 With fdr correction"
   ]
  },
  {
   "cell_type": "markdown",
   "metadata": {},
   "source": [
    "#### III.2.a without log scale"
   ]
  },
  {
   "cell_type": "code",
   "execution_count": 188,
   "metadata": {},
   "outputs": [
    {
     "data": {
      "image/png": "[encoded data removed]",
      "text/plain": [
       "<Figure size 432x288 with 1 Axes>"
      ]
     },
     "metadata": {
      "needs_background": "light"
     },
     "output_type": "display_data"
    }
   ],
   "source": [
    "great.pl.scatterplot(\n",
    "    enrichment_fdr,\n",
    "    \"binom_fdr_correction\",\n",
    "    \"hypergeom_fdr_correction\",\n",
    "    minus_log10=False)\n"
   ]
  },
  {
   "cell_type": "markdown",
   "metadata": {},
   "source": [
    "#### III.2.b with log scale"
   ]
  },
  {
   "cell_type": "code",
   "execution_count": 189,
   "metadata": {},
   "outputs": [
    {
     "data": {
      "image/png": "[encoded data removed]",
      "text/plain": [
       "<Figure size 432x288 with 1 Axes>"
      ]
     },
     "metadata": {
      "needs_background": "light"
     },
     "output_type": "display_data"
    }
   ],
   "source": [
    "great.pl.scatterplot(\n",
    "    enrichment_fdr,\n",
    "    \"binom_fdr_correction\",\n",
    "    \"hypergeom_fdr_correction\",\n",
    "    minus_log10=True)"
   ]
  },
  {
   "cell_type": "markdown",
   "metadata": {},
   "source": [
    "### III.3 With bonferroni correction"
   ]
  },
  {
   "cell_type": "markdown",
   "metadata": {},
   "source": [
    "#### III.3.a without log scale"
   ]
  },
  {
   "cell_type": "code",
   "execution_count": 190,
   "metadata": {},
   "outputs": [
    {
     "data": {
      "image/png": "[encoded data removed]",
      "text/plain": [
       "<Figure size 432x288 with 1 Axes>"
      ]
     },
     "metadata": {
      "needs_background": "light"
     },
     "output_type": "display_data"
    }
   ],
   "source": [
    "great.pl.scatterplot(\n",
    "    enrichment_bonferroni,\n",
    "    \"binom_bonferroni_correction\",\n",
    "    \"hypergeom_bonferroni_correction\",\n",
    "    minus_log10=False)"
   ]
  },
  {
   "cell_type": "markdown",
   "metadata": {},
   "source": [
    "#### III.3.b with log scale"
   ]
  },
  {
   "cell_type": "code",
   "execution_count": 191,
   "metadata": {},
   "outputs": [
    {
     "data": {
      "image/png": "[encoded data removed]",
      "text/plain": [
       "<Figure size 432x288 with 1 Axes>"
      ]
     },
     "metadata": {
      "needs_background": "light"
     },
     "output_type": "display_data"
    }
   ],
   "source": [
    "great.pl.scatterplot(\n",
    "    enrichment_bonferroni,\n",
    "    \"binom_bonferroni_correction\",\n",
    "    \"hypergeom_bonferroni_correction\",\n",
    "    minus_log10=True)"
   ]
  },
  {
   "cell_type": "markdown",
   "metadata": {},
   "source": [
    "We observe that the two probability values returned by greatpy (binomial and hypergeometric) are very different. According to the documentation of Great : "
   ]
  },
  {
   "cell_type": "markdown",
   "metadata": {},
   "source": [
    "By default, GREAT ranks results by the binomial p-value, and we consider this the single best way to examine genome-wide cis-regulatory datasets. It accounts for biases in gene regulatory domain size and provides an accurate picture of the cis-regulatory landscape. (https://great-help.atlassian.net/wiki/spaces/GREAT/pages/655456/Statistics) "
   ]
  }
 ],
 "metadata": {
  "kernelspec": {
   "display_name": "Python 3.9.12 ('base')",
   "language": "python",
   "name": "python3"
  },
  "language_info": {
   "codemirror_mode": {
    "name": "ipython",
    "version": 3
   },
   "file_extension": ".py",
   "mimetype": "text/x-python",
   "name": "python",
   "nbconvert_exporter": "python",
   "pygments_lexer": "ipython3",
   "version": "3.9.12"
  },
  "orig_nbformat": 4,
  "vscode": {
   "interpreter": {
    "hash": "64cdbf2ddcb9cd73e43d780a5c38adc9c5cb93dd1a925db9d35733ec03fb2329"
   }
  }
 },
 "nbformat": 4,
 "nbformat_minor": 2
}
