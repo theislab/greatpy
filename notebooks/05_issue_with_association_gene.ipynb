{
 "cells": [
  {
   "cell_type": "markdown",
   "metadata": {},
   "source": [
    "# This notebook show my issue with the association gene where I found compared to association gene great serveur found"
   ]
  },
  {
   "cell_type": "code",
   "execution_count": 1,
   "metadata": {},
   "outputs": [],
   "source": [
    "%load_ext autoreload\n",
    "%autoreload 2"
   ]
  },
  {
   "cell_type": "code",
   "execution_count": 2,
   "metadata": {},
   "outputs": [],
   "source": [
    "import greatpy as great \n",
    "import pandas as pd "
   ]
  },
  {
   "cell_type": "markdown",
   "metadata": {},
   "source": [
    "Great output"
   ]
  },
  {
   "cell_type": "code",
   "execution_count": 3,
   "metadata": {},
   "outputs": [
    {
     "name": "stdout",
     "output_type": "stream",
     "text": [
      "['GCC1', 'ZNF800', 'AGRN', 'RNF223', 'USPL1', 'EMP2', 'PEX14', 'SRCAP', 'CRLF3', 'GOSR1', 'ILF3', 'PRR14', 'CASZ1', 'LYZL2', 'MPPED2', 'MYH3', 'LYVE1', 'TEKT5', 'MRVI1', 'MATN1', 'ALOX5AP', 'ARHGAP11B', 'SCFD1', 'ZNF536', 'CELF2', 'FAN1', 'COCH', 'POLR2E', 'TSHZ3', 'SCO1', 'ARHGAP45', 'QTRT1', 'ZNF438', 'DCDC1', 'SOX8', 'SSTR5', 'MUC5AC', 'TIMM22', 'MUC6', 'ABR', 'WDR37', 'S1PR5', 'ADARB2', 'RNF141', 'ZNF768', 'MYH1', 'ITGAL', 'MTRNR2L8', 'MYH2', 'HMGB1', 'GOLGA8R', 'GOLGA8H', 'FAM110C', 'MAP3K8', 'ARL14EP', 'ATF7IP2', 'G2E3']\n"
     ]
    }
   ],
   "source": [
    "great_asso = pd.read_csv('../data/05_issue_ensembl_associated_genes.tsv', sep='\\t',comment='#',index_col=False ,names=[\"gene\",1,2,3,4,5,6,7,8,9,10,11,12],usecols=[\"gene\"])\n",
    "print(list(great_asso[\"gene\"]))"
   ]
  },
  {
   "cell_type": "markdown",
   "metadata": {},
   "source": [
    "My output "
   ]
  },
  {
   "cell_type": "code",
   "execution_count": 4,
   "metadata": {},
   "outputs": [],
   "source": [
    "regdom = pd.read_csv(\"../data/human/regulatory_domain.bed\",sep=\"\\t\",comment=\"#\",\n",
    "                    names=[\"Chr\", \"Chr_Start\", \"Chr_End\",\"Name\",\"tss\",\"Strand\"],dtype={\"Chr\":\"object\", \"Chr_Start\":\"int64\", \"Chr_End\":\"int64\",\"Name\":\"object\",\"tss\":\"int64\",\"Strand\":\"object\"})\n",
    "\n",
    "test = pd.read_csv(\"../data/human/test_genomic_region.bed\",sep=\"\\t\",comment=\"#\",\n",
    "                names=[\"Chr\", \"Chr_Start\", \"Chr_End\"],dtype={\"Chr\":\"object\", \"Chr_Start\":\"int64\", \"Chr_End\":\"int64\"})\n",
    "my_asso = great.tl.get_association(test,regdom)"
   ]
  },
  {
   "cell_type": "code",
   "execution_count": null,
   "metadata": {},
   "outputs": [],
   "source": []
  },
  {
   "cell_type": "markdown",
   "metadata": {},
   "source": [
    "Diffrences : "
   ]
  },
  {
   "cell_type": "markdown",
   "metadata": {},
   "source": [
    "# Same gene between my function and great output "
   ]
  },
  {
   "cell_type": "code",
   "execution_count": 5,
   "metadata": {},
   "outputs": [
    {
     "name": "stdout",
     "output_type": "stream",
     "text": [
      "['GCC1', 'ZNF800', 'AGRN', 'RNF223', 'USPL1', 'EMP2', 'PEX14', 'SRCAP', 'CRLF3', 'GOSR1', 'ILF3', 'PRR14', 'CASZ1', 'LYZL2', 'MPPED2', 'MYH3', 'LYVE1', 'TEKT5', 'ALOX5AP', 'SCFD1', 'ZNF536', 'CELF2', 'FAN1', 'COCH', 'POLR2E', 'TSHZ3', 'SCO1', 'ARHGAP45', 'QTRT1', 'ZNF438', 'SOX8', 'SSTR5', 'MUC5AC', 'MUC6', 'ABR', 'WDR37', 'S1PR5', 'RNF141', 'ZNF768', 'MYH1', 'MTRNR2L8', 'MYH2', 'HMGB1', 'GOLGA8R', 'FAM110C', 'MAP3K8', 'ARL14EP', 'ATF7IP2', 'G2E3']\n"
     ]
    }
   ],
   "source": [
    "same = great_asso[great_asso[\"gene\"].isin(my_asso)]\n",
    "print(list(same[\"gene\"]))"
   ]
  },
  {
   "cell_type": "markdown",
   "metadata": {},
   "source": [
    "# gene in great_asso and not in my asso"
   ]
  },
  {
   "cell_type": "code",
   "execution_count": 6,
   "metadata": {},
   "outputs": [
    {
     "name": "stdout",
     "output_type": "stream",
     "text": [
      "['ARHGAP11B', 'DCDC1', 'ITGAL', 'TIMM22', 'MRVI1', 'MATN1', 'ADARB2', 'GOLGA8H']\n"
     ]
    }
   ],
   "source": [
    "print(list(set(list(great_asso[\"gene\"])) - set(list(my_asso))))"
   ]
  },
  {
   "cell_type": "markdown",
   "metadata": {},
   "source": [
    "# gene in my_asso and not in great_asso"
   ]
  },
  {
   "cell_type": "code",
   "execution_count": 7,
   "metadata": {},
   "outputs": [
    {
     "name": "stdout",
     "output_type": "stream",
     "text": [
      "['LINC00442', 'GOLGA8N', 'LINC00200', 'SFTA1P', 'LINC01648', 'MATN1-AS1', 'PRKD1', 'CTR9', 'OR11H12', 'LOC100288637', 'MIR4518', 'LINC01058', 'DNAJC24', 'ATG4D', 'OR11H1', 'MIR3183', 'FBRS', 'CHEK2P2', 'LOC100506682']\n"
     ]
    }
   ],
   "source": [
    "print(list(set(list(my_asso)) - set(list(great_asso[\"gene\"]))))"
   ]
  }
 ],
 "metadata": {
  "kernelspec": {
   "display_name": "Python 3.8.10 64-bit",
   "language": "python",
   "name": "python3"
  },
  "language_info": {
   "codemirror_mode": {
    "name": "ipython",
    "version": 3
   },
   "file_extension": ".py",
   "mimetype": "text/x-python",
   "name": "python",
   "nbconvert_exporter": "python",
   "pygments_lexer": "ipython3",
   "version": "3.8.10"
  },
  "orig_nbformat": 4,
  "vscode": {
   "interpreter": {
    "hash": "916dbcbb3f70747c44a77c7bcd40155683ae19c65e1c03b4aa3499c5328201f1"
   }
  }
 },
 "nbformat": 4,
 "nbformat_minor": 2
}
