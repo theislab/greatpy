{
 "cells": [
  {
   "cell_type": "markdown",
   "metadata": {},
   "source": [
    "# This notebook show my issue with the calculation time of the enrichment function"
   ]
  },
  {
   "cell_type": "code",
   "execution_count": 1,
   "metadata": {},
   "outputs": [],
   "source": [
    "%load_ext autoreload\n",
    "%autoreload 2\n",
    "%load_ext line_profiler"
   ]
  },
  {
   "cell_type": "code",
   "execution_count": 2,
   "metadata": {},
   "outputs": [],
   "source": [
    "import greatpy as great\n",
    "import pandas as pd"
   ]
  },
  {
   "cell_type": "code",
   "execution_count": 6,
   "metadata": {},
   "outputs": [],
   "source": [
    "test = pd.read_csv(\"../data/human/test_genomic_region.bed\",sep=\"\\t\",comment=\"#\",\n",
    "                names=[\"Chr\", \"Chr_Start\", \"Chr_End\"],dtype={\"Chr\":\"object\", \"Chr_Start\":\"int64\", \"Chr_End\":\"int64\"})"
   ]
  },
  {
   "cell_type": "code",
   "execution_count": 4,
   "metadata": {},
   "outputs": [
    {
     "name": "stdout",
     "output_type": "stream",
     "text": [
      "Timer unit: 1e-06 s\n",
      "\n",
      "Total time: 30.7244 s\n",
      "File: /home/tom/.local/lib/python3.8/site-packages/greatpy/tl/basic.py\n",
      "Function: enrichment at line 318\n",
      "\n",
      "Line #      Hits         Time  Per Hit   % Time  Line Contents\n",
      "==============================================================\n",
      "   318                                           def enrichment(test:str or pd.DataFrame,regdom_file,chr_size_file,annotation,binom=True,hypergeom=True,alpha=0.05,correction=(\"fdr\",0.05),sort_by=None): \n",
      "   319                                               # Data import \n",
      "   320         1          7.0      7.0      0.0      if not binom and not hypergeom : \n",
      "   321                                                   return False\n",
      "   322                                               \n",
      "   323         2      53016.0  26508.0      0.2      regdom = pd.read_csv(regdom_file,sep=\"\\t\",comment=\"#\",\n",
      "   324         1          5.0      5.0      0.0                      names=[\"Chr\", \"Chr_Start\", \"Chr_End\",\"Name\",\"tss\",\"Strand\"],dtype={\"Chr\":\"object\", \"Chr_Start\":\"int64\", \"Chr_End\":\"int64\",\"Name\":\"object\",\"tss\":\"int64\",\"Strand\":\"object\"})\n",
      "   325                                           \n",
      "   326         1          7.0      7.0      0.0      if type(test) == str : \n",
      "   327                                                   test = pd.read_csv(test,sep=\"\\t\",comment=\"#\",\n",
      "   328                                                                   names=[\"Chr\", \"Chr_Start\", \"Chr_End\"],dtype={\"Chr\":\"object\", \"Chr_Start\":\"int64\", \"Chr_End\":\"int64\"})\n",
      "   329                                               else : \n",
      "   330         1        957.0    957.0      0.0          test = test.iloc[:,:3]\n",
      "   331         1         15.0     15.0      0.0          colname = list(test.columns)\n",
      "   332         1          2.0      2.0      0.0          try : \n",
      "   333         1       1478.0   1478.0      0.0              test = test.rename(columns={colname[0]:\"Chr\",colname[1]:\"Chr_Start\",colname[2]:\"Chr_End\"})\n",
      "   334                                                   except : \n",
      "   335                                                       print(\"Error in test dataframe, please check your input\")\n",
      "   336                                                       print(\"Columns should be : chr...(type object), start(type int), end(type int)\")\n",
      "   337                                                       return False\n",
      "   338                                               \n",
      "   339         2       4915.0   2457.5      0.0      size = pd.read_csv(chr_size_file,sep=\"\\t\",comment=\"#\",\n",
      "   340         1         10.0     10.0      0.0                      names=[\"Chrom\",\"Size\"],dtype={\"Chrom\":\"object\", \"Size\":\"int64\"})\n",
      "   341                                           \n",
      "   342         2      17265.0   8632.5      0.1      dask_df = dd.read_csv(\"../data/human/ontologies.csv\",sep=\";\",  comment = \"#\",\n",
      "   343         1          4.0      4.0      0.0                      dtype={\"ensembl\":\"object\",\"id\":\"object\",\"name\":\"object\",\"ontology.group\":\"object\",\"gene.name\":\"object\",\"symbol\":\"object\"},\n",
      "   344         1          4.0      4.0      0.0                      usecols=[\"id\",\"name\",\"gene.name\",\"symbol\"],low_memory=False)\n",
      "   345         1     355530.0 355530.0      1.2      ann = dask_df.compute()\n",
      "   346                                               # ann = pd.read_csv(annotation,sep=\";\",  \n",
      "   347                                               #                 names=[\"ensembl\",\"id\",\"name\",\"ontology.group\",\"gene.name\",\"symbol\"],dtype={\"ensembl\":\"object\",\"id\":\"object\",\"name\":\"object\",\"ontology.group\":\"object\",\"gene.name\":\"object\",\"symbol\":\"object\"},\n",
      "   348                                               #                 usecols=[\"id\",\"name\",\"gene.name\",\"symbol\"],low_memory=False)\n",
      "   349         1     283602.0 283602.0      0.9      ann = ann[ann['id'].str.match('^GO.*')== True]\n",
      "   350                                           \n",
      "   351         1          2.0      2.0      0.0      if binom and hypergeom : \n",
      "   352                                                   # Init Great\n",
      "   353         1          2.0      2.0      0.0          res = {}\n",
      "   354         1          2.0      2.0      0.0          hit={}\n",
      "   355         1         17.0     17.0      0.0          hypergeom_total_number_gene = regdom.shape[0] #get the number of genes in the genome.\n",
      "   356         1          5.0      5.0      0.0          n_binom = test.shape[0]# get the number of genomic region in the test set\n",
      "   357         1        375.0    375.0      0.0          total_nu = size[\"Size\"].sum()# get the total number of nucleotides in the genome\n",
      "   358         1     449958.0 449958.0      1.5          asso = get_association(test,regdom)# get the name of the regulatory domain associated to each genomic region in the test set\n",
      "   359         1      15111.0  15111.0      0.0          ann_red = ann[ann[\"symbol\"].isin(asso)]\n",
      "   360         1      61028.0  61028.0      0.2          regdom = regdom[regdom[\"Name\"].isin(list(ann[ann[\"id\"].isin(list(ann_red[\"id\"]))][\"symbol\"]))]#reduction of the regdom file by selecting only the genes whose GO ID is owned by a gene of the association \n",
      "   361         1      24858.0  24858.0      0.1          len_on_chr = len_regdom(regdom)# get the length of each regulatory domain \n",
      "   362                                           \n",
      "   363                                                   # init Hypergeom\n",
      "   364         1          4.0      4.0      0.0          hypergeom_gene_set=len(asso) # get the number of genes in the test gene set.\n",
      "   365                                           \n",
      "   366                                                   #Compute for all associating gene and for each GO id associated with the gene the probability. \n",
      "   367        69        280.0      4.1      0.0          for name in asso :\n",
      "   368        68     565306.0   8313.3      1.8              ann_name_gene = ann[ann[\"symbol\"].isin([name])]\n",
      "   369        68       7417.0    109.1      0.0              id = ann_name_gene[\"id\"]\n",
      "   370        68        273.0      4.0      0.0              tmp = []\n",
      "   371       954      12205.0     12.8      0.0              for i in (list(id.unique())): \n",
      "   372       886    9494844.0  10716.5     30.9                  gene_imply = ann[ann['id'].isin([i])]\n",
      "   373       886       8557.0      9.7      0.0                  K_hypergeom = gene_imply.shape[0] # get be the number of genes in the genome with annotation\n",
      "   374       886    2250534.0   2540.1      7.3                  curr_regdom = regdom.loc[regdom[\"Name\"].isin(list(gene_imply[\"gene.name\"]))]\n",
      "   375       886     787960.0    889.3      2.6                  k_hypergeom = curr_regdom.loc[curr_regdom[\"Name\"].isin(asso)].shape[0] # get the number of genes in the test gene set with annotation\n",
      "   376       886      21102.0     23.8      0.1                  if i not in list(hit.keys()) : \n",
      "   377       594   14910043.0  25101.1     48.5                      hit[i] = number_of_hit(test,curr_regdom)# get the number of test genomic regions in the regulatory domain of a gene with annotation\n",
      "   378       886       3510.0      4.0      0.0                  k_binom=hit[i]\n",
      "   379                                                               # k_binom = number_of_hit(test,curr_regdom)# get the number of test genomic regions in the regulatory domain of a gene with annotation\n",
      "   380       886     280266.0    316.3      0.9                  nb_binom = sum([len_on_chr[i] for i in curr_regdom[\"Name\"]])# get the portion of the genome in the regulatory domain of a gene with annotation\n",
      "   381                                                           \n",
      "   382       886     240270.0    271.2      0.8                  tmp.append((k_binom,nb_binom,i,gene_imply.iloc[0][\"name\"],K_hypergeom,k_hypergeom))\n",
      "   383                                                       # res.update({elem[2]:[ elem[3],get_binom_pval(n_binom,elem[0],elem[1]/total_nu), sum([hg.pmf(i,hypergeom_total_number_gene,hypergeom_gene_set,elem[4]) for i in range(elem[5],min(elem[4],hypergeom_gene_set)+1)]) ] for elem in tmp})\n",
      "   384       954       3733.0      3.9      0.0              for elem in tmp : \n",
      "   385       886       3678.0      4.2      0.0                  res[elem[2]] = [elem[3]]\n",
      "   386       886      31589.0     35.7      0.1                  res[elem[2]].append(get_binom_pval(n_binom,elem[0],elem[1]/total_nu))\n",
      "   387                                                           # res[elem[2]].append(sum([hg.pmf(i,hypergeom_total_number_gene,hypergeom_gene_set,elem[4]) for i in range(elem[5],min(elem[4],hypergeom_gene_set)+1)]))\n",
      "   388       886     791950.0    893.8      2.6                  res[elem[2]].append(hypergeom_cdf(hypergeom_total_number_gene,elem[4],hypergeom_gene_set,elem[5]))\n",
      "   389                                           \n",
      "   390         1      42690.0  42690.0      0.1          df= pd.DataFrame(res).transpose().rename(columns={0:\"go_term\",1:\"binom_p_value\",2:\"hypergeom_p_value\"}).replace(0,np.nan)\n",
      "   391         1          3.0      3.0      0.0          if correction == (0,0) or correction[0] not in ['bonferroni','fdr'] or correction[1] >= 1 or correction[1] <= 0: \n",
      "   392         1          2.0      2.0      0.0              return df.sort_values(by=sort_by) if sort_by != None else df \n",
      "   393                                           \n",
      "   394                                                   elif correction[0] == \"bonferroni\" : \n",
      "   395                                                       df[\"binom_bonferroni_correction\"] = multipletests(df[\"binom_p_value\"], alpha=correction[1], method='bonferroni')[1]\n",
      "   396                                                       df[\"hypergeom_bonferroni_correction\"] = multipletests(df[\"hypergeom_p_value\"], alpha=correction[1], method='bonferroni')[1]\n",
      "   397                                                       df = df.loc[df[\"binom_bonferroni_correction\"] <= alpha]\n",
      "   398                                           \n",
      "   399                                                   elif correction[0] == \"fdr\" : \n",
      "   400                                                       df[\"binom_fdr_correction\"] = fdrcorrection(df[\"binom_p_value\"], alpha=correction[1])[1]\n",
      "   401                                                       df[\"hypergeom_fdr_correction\"] = fdrcorrection(df[\"hypergeom_p_value\"], alpha=correction[1])[1]\n",
      "   402                                                       df = df.loc[df[\"binom_fdr_correction\"] <= alpha]\n",
      "   403                                                   return df.sort_values(by=sort_by) if sort_by != None else df \n",
      "   404                                           \n",
      "   405                                               elif binom : \n",
      "   406                                                   # Init Great\n",
      "   407                                                   res = {}\n",
      "   408                                                   n_binom = test.shape[0]# get the number of genomic region in the test set\n",
      "   409                                                   total_nu = size[\"Size\"].sum()# get the total number of nucleotides in the genome\n",
      "   410                                                   asso = get_association(test,regdom)# get the name of the regulatory domain associated to each genomic region in the test set\n",
      "   411                                                   ann_red = ann[ann[\"symbol\"].isin(asso)]\n",
      "   412                                                   regdom = regdom[regdom[\"Name\"].isin(list(ann[ann[\"id\"].isin(list(ann_red[\"id\"]))][\"symbol\"]))]#reduction of the regdom file by selecting only the genes whose GO ID is owned by a gene of the association \n",
      "   413                                                   len_on_chr = len_regdom(regdom)# get the length of each regulatory domain \n",
      "   414                                           \n",
      "   415                                                   #Compute for all associating gene and for each GO id associated with the gene the probability. \n",
      "   416                                                   for name in asso :\n",
      "   417                                                       ann_name_gene = ann[ann[\"symbol\"] == name]\n",
      "   418                                                       id = ann_name_gene[\"id\"]\n",
      "   419                                                       tmp=[]\n",
      "   420                                                       for i in (list(id.unique())): \n",
      "   421                                                           gene_imply = ann[ann['id']==i]\n",
      "   422                                                           curr_regdom = regdom.loc[regdom[\"Name\"].isin(list(gene_imply[\"gene.name\"]))]\n",
      "   423                                                           k_binom = number_of_hit(test,curr_regdom)# get the number of test genomic regions in the regulatory domain of a gene with annotation\n",
      "   424                                                           nb_binom = sum([len_on_chr[i] for i in curr_regdom[\"Name\"]])# get the portion of the genome in the regulatory domain of a gene with annotation\n",
      "   425                                                           \n",
      "   426                                                           tmp.append((k_binom,nb_binom,i,gene_imply.iloc[0][\"name\"]))\n",
      "   427                                                       res.update({elem[2]:[ elem[3],get_binom_pval(n_binom,elem[0],elem[1]/total_nu) ] for elem in tmp})\n",
      "   428                                                   df= pd.DataFrame(res).transpose().rename(columns={0:\"go_term\",1:\"binom_p_value\"}).sort_values(by=\"binom_p_value\")\n",
      "   429                                                   if correction == (0,0) or correction[0] not in ['bonferroni','fdr'] or correction[1] >= 1 or correction[1]<=0: \n",
      "   430                                                       return df.sort_values(by=sort_by) if sort_by != None else df \n",
      "   431                                           \n",
      "   432                                                   elif correction[0] == \"bonferroni\" : \n",
      "   433                                                       df[\"binom_bonferroni_correction\"] = multipletests(df[\"binom_p_value\"], alpha=correction[1], method='bonferroni')[1]\n",
      "   434                                                       df = df.loc[df[\"binom_bonferroni_correction\"]<=alpha]\n",
      "   435                                           \n",
      "   436                                                   elif correction[0] == \"fdr\" :\n",
      "   437                                                       df[\"binom_fdr_correction\"] = fdrcorrection(df[\"binom_p_value\"], alpha=correction[1])[1]\n",
      "   438                                                       df = df.loc[df[\"binom_fdr_correction\"]<=alpha] \n",
      "   439                                                   return df.sort_values(by=sort_by) if sort_by != None else df \n",
      "   440                                           \n",
      "   441                                               else : \n",
      "   442                                                   # Init Great\n",
      "   443                                                   res = {}\n",
      "   444                                                   hypergeom_total_number_gene = regdom.shape[0] #get the number of genes in the genome.\n",
      "   445                                                   asso = get_association(test,regdom)# get the name of the regulatory domain associated to each genomic region in the test set\n",
      "   446                                                   ann_red = ann[ann[\"symbol\"].isin(asso)]\n",
      "   447                                                   regdom = regdom[regdom[\"Name\"].isin(list(ann[ann[\"id\"].isin(list(ann_red[\"id\"]))][\"symbol\"]))]#reduction of the regdom file by selecting only the genes whose GO ID is owned by a gene of the association \n",
      "   448                                                   len_on_chr = len_regdom(regdom)# get the length of each regulatory domain \n",
      "   449                                           \n",
      "   450                                                   # init Hypergeom\n",
      "   451                                                   hypergeom_gene_set = len(asso) # get the number of genes in the test gene set.\n",
      "   452                                           \n",
      "   453                                                   #Compute for all associating gene and for each GO id associated with the gene the probability. \n",
      "   454                                                   for name in asso :\n",
      "   455                                                       ann_name_gene = ann[ann[\"symbol\"] == name]\n",
      "   456                                                       id = ann_name_gene[\"id\"]\n",
      "   457                                                       tmp = []\n",
      "   458                                                       for i in (list(id.unique())): \n",
      "   459                                                           gene_imply = ann[ann['id']==i]\n",
      "   460                                                           K_hypergeom = gene_imply.shape[0] # get be the number of genes in the genome with annotation\n",
      "   461                                                           curr_regdom = regdom.loc[regdom[\"Name\"].isin(list(gene_imply[\"gene.name\"]))]\n",
      "   462                                                           k_hypergeom = curr_regdom.loc[curr_regdom[\"Name\"].isin(asso)].shape[0] # get the number of genes in the test gene set with annotation                \n",
      "   463                                                           tmp.append((i,gene_imply.iloc[0][\"name\"],K_hypergeom,k_hypergeom)) \n",
      "   464                                                       res.update({elem[0]:[ elem[1], sum([hg.pmf(i,hypergeom_total_number_gene,hypergeom_gene_set,elem[2]) for i in range(elem[3],min(elem[2],hypergeom_gene_set)+1)]) ] for elem in tmp}) \n",
      "   465                                           \n",
      "   466                                                   df = pd.DataFrame(res).transpose().rename(columns={0:\"go_term\",1:\"hypergeom_p_value\"}).sort_values(by=\"hypergeom_p_value\")\n",
      "   467                                                   \n",
      "   468                                                   if correction == (0,0) or correction[0] not in ['bonferroni','fdr'] or correction[1] >= 1 or correction[1]<=0: \n",
      "   469                                                       df = df.loc[df[\"hypergeom_p_value\"] <= alpha]\n",
      "   470                                                       return df.sort_values(by=sort_by) if sort_by != None else df  \n",
      "   471                                           \n",
      "   472                                                   elif correction[0] == \"bonferroni\" : \n",
      "   473                                                       df[\"hypergeom_bonferroni_correction\"] = multipletests(df[\"hypergeom_p_value\"], alpha=correction[1], method='bonferroni')[1]\n",
      "   474                                                       df = df.loc[df[\"hypergeom_bonferroni_correction\"] <= alpha]\n",
      "   475                                           \n",
      "   476                                                   elif correction[0] == \"fdr\" : \n",
      "   477                                                       df[\"hypergeom_fdr_correction\"] = fdrcorrection(df[\"hypergeom_p_value\"], alpha=correction[1])[1]\n",
      "   478                                                       df = df.loc[df[\"hypergeom_fdr_correction\"] <= alpha]\n",
      "   479                                           \n",
      "   480                                                   return df.sort_values(by=sort_by) if sort_by != None else df"
     ]
    }
   ],
   "source": [
    "%lprun -f great.tl.enrichment great.tl.enrichment(test,\"../data/human/regulatory_domain.bed\",\"../data/human/chr_size.bed\",\"../data/human/ontologies.csv\",True,True,0.05,(0,0))"
   ]
  },
  {
   "cell_type": "markdown",
   "metadata": {},
   "source": [
    "Here we can see that the calculation time of the enrichment function is very high due to : "
   ]
  },
  {
   "cell_type": "markdown",
   "metadata": {},
   "source": [
    "line 372 (30 %) in the https://github.com/theislab/greatpy/blob/correction/greatpy/tl/basic.py with gene_imply = ann[ann['id'].isin([i])] => I just want to subset the ann dataframe with the gene_id"
   ]
  },
  {
   "cell_type": "markdown",
   "metadata": {},
   "source": [
    "line 377 (50 %) in the https://github.com/theislab/greatpy/blob/correction/greatpy/tl/basic.py with hit[i] = number_of_hit(test,curr_regdom) => The number_of_hit function is used to calculate the number of genomic region hit with each GO term "
   ]
  },
  {
   "cell_type": "code",
   "execution_count": 7,
   "metadata": {},
   "outputs": [],
   "source": [
    "from time import time\n",
    "import matplotlib.pyplot as plt"
   ]
  },
  {
   "cell_type": "code",
   "execution_count": 22,
   "metadata": {},
   "outputs": [],
   "source": [
    "def plot(test) : \n",
    "    x = []\n",
    "    y = []\n",
    "    for i in range(1,test.shape[0],20) : \n",
    "        test_red = test[:i]\n",
    "        start = time()\n",
    "        great.tl.enrichment(test_red,\"../data/human/regulatory_domain.bed\",\"../data/human/chr_size.bed\",\"../data/human/ontologies.csv\",True,True,0.05,(0,0))    \n",
    "        end = time()\n",
    "        x.append(i)\n",
    "        y.append(end-start)\n",
    "    plt.plot(x,y)\n",
    "    plt.xlabel(\"number of tests\")\n",
    "    plt.ylabel(\"compuation time\")\n",
    "    plt.show()\n",
    "    return x,y"
   ]
  },
  {
   "cell_type": "code",
   "execution_count": 23,
   "metadata": {},
   "outputs": [
    {
     "data": {
      "image/png": "[encoded data removed]",
      "text/plain": [
       "<Figure size 432x288 with 1 Axes>"
      ]
     },
     "metadata": {
      "needs_background": "light"
     },
     "output_type": "display_data"
    },
    {
     "data": {
      "text/plain": [
       "([1, 21, 41, 61, 81, 101],\n",
       " [1.3090479373931885,\n",
       "  2.900681495666504,\n",
       "  5.448145151138306,\n",
       "  10.147513151168823,\n",
       "  13.94391655921936,\n",
       "  20.015532970428467])"
      ]
     },
     "execution_count": 23,
     "metadata": {},
     "output_type": "execute_result"
    }
   ],
   "source": [
    "plot(test)"
   ]
  }
 ],
 "metadata": {
  "kernelspec": {
   "display_name": "Python 3.8.10 64-bit",
   "language": "python",
   "name": "python3"
  },
  "language_info": {
   "codemirror_mode": {
    "name": "ipython",
    "version": 3
   },
   "file_extension": ".py",
   "mimetype": "text/x-python",
   "name": "python",
   "nbconvert_exporter": "python",
   "pygments_lexer": "ipython3",
   "version": "3.8.10"
  },
  "orig_nbformat": 4,
  "vscode": {
   "interpreter": {
    "hash": "916dbcbb3f70747c44a77c7bcd40155683ae19c65e1c03b4aa3499c5328201f1"
   }
  }
 },
 "nbformat": 4,
 "nbformat_minor": 2
}
