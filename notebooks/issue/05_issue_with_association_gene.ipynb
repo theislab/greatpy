{
 "cells": [
  {
   "cell_type": "markdown",
   "metadata": {},
   "source": [
    "# This notebook show my issue with the association gene where I found compared to association gene great serveur found"
   ]
  },
  {
   "cell_type": "code",
   "execution_count": 1,
   "metadata": {},
   "outputs": [],
   "source": [
    "%load_ext autoreload\n",
    "%autoreload 2"
   ]
  },
  {
   "cell_type": "code",
   "execution_count": 2,
   "metadata": {},
   "outputs": [],
   "source": [
    "import greatpy as great \n",
    "import pandas as pd "
   ]
  },
  {
   "cell_type": "markdown",
   "metadata": {},
   "source": [
    "Great output"
   ]
  },
  {
   "cell_type": "code",
   "execution_count": 6,
   "metadata": {},
   "outputs": [
    {
     "name": "stdout",
     "output_type": "stream",
     "text": [
      "['GCC1', 'ZNF800', 'AGRN', 'RNF223', 'USPL1', 'EMP2', 'PEX14', 'SRCAP', 'CRLF3', 'GOSR1', 'ILF3', 'PRR14', 'CASZ1', 'LYZL2', 'MPPED2', 'MYH3', 'LYVE1', 'TEKT5', 'MRVI1', 'MATN1', 'ALOX5AP', 'ARHGAP11B', 'SCFD1', 'ZNF536', 'CELF2', 'FAN1', 'COCH', 'POLR2E', 'TSHZ3', 'SCO1', 'ARHGAP45', 'QTRT1', 'ZNF438', 'DCDC1', 'SOX8', 'SSTR5', 'MUC5AC', 'TIMM22', 'MUC6', 'ABR', 'WDR37', 'S1PR5', 'ADARB2', 'RNF141', 'ZNF768', 'MYH1', 'ITGAL', 'MTRNR2L8', 'MYH2', 'HMGB1', 'GOLGA8R', 'GOLGA8H', 'FAM110C', 'MAP3K8', 'ARL14EP', 'ATF7IP2', 'G2E3']\n"
     ]
    }
   ],
   "source": [
    "great_asso = pd.read_csv(\"../../data/tests/issue/05_issue_ensembl_associated_genes.tsv\", sep='\\t',comment='#',index_col=False ,names=[\"gene\",1,2,3,4,5,6,7,8,9,10,11,12],usecols=[\"gene\"])\n",
    "print(list(great_asso[\"gene\"]))"
   ]
  },
  {
   "cell_type": "markdown",
   "metadata": {},
   "source": [
    "My output "
   ]
  },
  {
   "cell_type": "code",
   "execution_count": 7,
   "metadata": {},
   "outputs": [],
   "source": [
    "regdom = pd.read_csv(\"../../data/human/hg38/regulatory_domain.bed\",sep=\"\\t\",comment=\"#\",\n",
    "                    names=[\"Chr\", \"Chr_Start\", \"Chr_End\",\"Name\",\"tss\",\"Strand\"],dtype={\"Chr\":\"object\", \"Chr_Start\":\"int64\", \"Chr_End\":\"int64\",\"Name\":\"object\",\"tss\":\"int64\",\"Strand\":\"object\"})\n",
    "\n",
    "test = pd.read_csv(\"../../data/tests/test_data/input/01_random.bed\",sep=\"\\t\",comment=\"#\",\n",
    "                names=[\"Chr\", \"Chr_Start\", \"Chr_End\"],dtype={\"Chr\":\"object\", \"Chr_Start\":\"int64\", \"Chr_End\":\"int64\"})\n",
    "my_asso = great.tl.get_association(test,regdom)"
   ]
  },
  {
   "cell_type": "markdown",
   "metadata": {},
   "source": [
    "Diffrences : "
   ]
  },
  {
   "cell_type": "markdown",
   "metadata": {},
   "source": [
    "# Same gene between my function and great output "
   ]
  },
  {
   "cell_type": "code",
   "execution_count": 8,
   "metadata": {},
   "outputs": [
    {
     "name": "stdout",
     "output_type": "stream",
     "text": [
      "['GCC1', 'ZNF800', 'AGRN', 'RNF223', 'USPL1', 'EMP2', 'PEX14', 'SRCAP', 'CRLF3', 'GOSR1', 'ILF3', 'PRR14', 'CASZ1', 'LYZL2', 'MPPED2', 'MYH3', 'LYVE1', 'TEKT5', 'ALOX5AP', 'SCFD1', 'ZNF536', 'CELF2', 'FAN1', 'COCH', 'POLR2E', 'TSHZ3', 'SCO1', 'ARHGAP45', 'QTRT1', 'ZNF438', 'SOX8', 'SSTR5', 'MUC5AC', 'MUC6', 'ABR', 'WDR37', 'S1PR5', 'RNF141', 'ZNF768', 'MYH1', 'MTRNR2L8', 'MYH2', 'HMGB1', 'GOLGA8R', 'FAM110C', 'MAP3K8', 'ARL14EP', 'ATF7IP2', 'G2E3']\n"
     ]
    }
   ],
   "source": [
    "same = great_asso[great_asso[\"gene\"].isin(my_asso)]\n",
    "print(list(same[\"gene\"]))"
   ]
  },
  {
   "cell_type": "markdown",
   "metadata": {},
   "source": [
    "# gene in great_asso and not in my asso"
   ]
  },
  {
   "cell_type": "code",
   "execution_count": 9,
   "metadata": {},
   "outputs": [
    {
     "name": "stdout",
     "output_type": "stream",
     "text": [
      "['MATN1', 'TIMM22', 'ITGAL', 'ADARB2', 'ARHGAP11B', 'MRVI1', 'GOLGA8H', 'DCDC1']\n"
     ]
    }
   ],
   "source": [
    "print(list(set(list(great_asso[\"gene\"])) - set(list(my_asso))))"
   ]
  },
  {
   "cell_type": "markdown",
   "metadata": {},
   "source": [
    "# gene in my_asso and not in great_asso"
   ]
  },
  {
   "cell_type": "code",
   "execution_count": 10,
   "metadata": {},
   "outputs": [
    {
     "name": "stdout",
     "output_type": "stream",
     "text": [
      "['LOC100288637', 'FBRS', 'ATG4D', 'LINC00200', 'MATN1-AS1', 'MIR4518', 'DNAJC24', 'SFTA1P', 'LINC00442', 'GOLGA8N', 'MIR3183', 'LINC01058', 'PRKD1', 'OR11H1', 'CTR9', 'LOC100506682', 'OR11H12', 'LINC01648', 'CHEK2P2']\n"
     ]
    }
   ],
   "source": [
    "print(list(set(list(my_asso)) - set(list(great_asso[\"gene\"]))))"
   ]
  },
  {
   "cell_type": "code",
   "execution_count": 11,
   "metadata": {},
   "outputs": [],
   "source": [
    "reg = great.tl.create_regdom(\"../../data/human/hg38/tss_from_great.bed\",\"../../data/human/hg38/chr_size.bed\",\"Basalplusextention\")"
   ]
  },
  {
   "cell_type": "code",
   "execution_count": 46,
   "metadata": {},
   "outputs": [],
   "source": [
    "t,r,s,a = great.tl.GREAT.loader(\"../../data/tests/test_data/input/09_ERF.bed\",reg,\"../../data/human/hg38/chr_size.bed\",\"../../data/human/ontologies.csv\")\n",
    "# great.tl.get_association(t,r)"
   ]
  },
  {
   "cell_type": "code",
   "execution_count": 13,
   "metadata": {},
   "outputs": [
    {
     "data": {
      "text/html": [
       "<div>\n",
       "<style scoped>\n",
       "    .dataframe tbody tr th:only-of-type {\n",
       "        vertical-align: middle;\n",
       "    }\n",
       "\n",
       "    .dataframe tbody tr th {\n",
       "        vertical-align: top;\n",
       "    }\n",
       "\n",
       "    .dataframe thead th {\n",
       "        text-align: right;\n",
       "    }\n",
       "</style>\n",
       "<table border=\"1\" class=\"dataframe\">\n",
       "  <thead>\n",
       "    <tr style=\"text-align: right;\">\n",
       "      <th></th>\n",
       "      <th>Chr</th>\n",
       "      <th>Chr_Start</th>\n",
       "      <th>Chr_End</th>\n",
       "      <th>name</th>\n",
       "      <th>tss</th>\n",
       "      <th>Strand</th>\n",
       "    </tr>\n",
       "  </thead>\n",
       "  <tbody>\n",
       "    <tr>\n",
       "      <th>ENSG00000184967</th>\n",
       "      <td>chr12</td>\n",
       "      <td>132139447</td>\n",
       "      <td>132328203</td>\n",
       "      <td>NOC4L</td>\n",
       "      <td>132144447</td>\n",
       "      <td>+</td>\n",
       "    </tr>\n",
       "    <tr>\n",
       "      <th>ENSG00000182870</th>\n",
       "      <td>chr12</td>\n",
       "      <td>132145447</td>\n",
       "      <td>132484550</td>\n",
       "      <td>GALNT9</td>\n",
       "      <td>132329203</td>\n",
       "      <td>-</td>\n",
       "    </tr>\n",
       "    <tr>\n",
       "      <th>ENSG00000112787</th>\n",
       "      <td>chr12</td>\n",
       "      <td>132334203</td>\n",
       "      <td>132609374</td>\n",
       "      <td>FBRSL1</td>\n",
       "      <td>132489550</td>\n",
       "      <td>+</td>\n",
       "    </tr>\n",
       "    <tr>\n",
       "      <th>ENSG00000204583</th>\n",
       "      <td>chr12</td>\n",
       "      <td>132490550</td>\n",
       "      <td>132615374</td>\n",
       "      <td>LRCOL1</td>\n",
       "      <td>132610374</td>\n",
       "      <td>-</td>\n",
       "    </tr>\n",
       "    <tr>\n",
       "      <th>ENSG00000187848</th>\n",
       "      <td>chr12</td>\n",
       "      <td>132613816</td>\n",
       "      <td>132686359</td>\n",
       "      <td>P2RX2</td>\n",
       "      <td>132618816</td>\n",
       "      <td>+</td>\n",
       "    </tr>\n",
       "    <tr>\n",
       "      <th>ENSG00000177084</th>\n",
       "      <td>chr12</td>\n",
       "      <td>132619816</td>\n",
       "      <td>132692359</td>\n",
       "      <td>POLE</td>\n",
       "      <td>132687359</td>\n",
       "      <td>-</td>\n",
       "    </tr>\n",
       "    <tr>\n",
       "      <th>ENSG00000176894</th>\n",
       "      <td>chr12</td>\n",
       "      <td>132682605</td>\n",
       "      <td>132688605</td>\n",
       "      <td>PXMP2</td>\n",
       "      <td>132687605</td>\n",
       "      <td>+</td>\n",
       "    </tr>\n",
       "    <tr>\n",
       "      <th>NaN</th>\n",
       "      <td>chr12</td>\n",
       "      <td>132683048</td>\n",
       "      <td>132705818</td>\n",
       "      <td>ENSG00000256632</td>\n",
       "      <td>132688048</td>\n",
       "      <td>+</td>\n",
       "    </tr>\n",
       "    <tr>\n",
       "      <th>ENSG00000247077</th>\n",
       "      <td>chr12</td>\n",
       "      <td>132689048</td>\n",
       "      <td>132760888</td>\n",
       "      <td>PGAM5</td>\n",
       "      <td>132710818</td>\n",
       "      <td>+</td>\n",
       "    </tr>\n",
       "    <tr>\n",
       "      <th>ENSG00000176915</th>\n",
       "      <td>chr12</td>\n",
       "      <td>132711818</td>\n",
       "      <td>132827702</td>\n",
       "      <td>ANKLE2</td>\n",
       "      <td>132761888</td>\n",
       "      <td>-</td>\n",
       "    </tr>\n",
       "  </tbody>\n",
       "</table>\n",
       "</div>"
      ],
      "text/plain": [
       "                   Chr  Chr_Start    Chr_End             name        tss  \\\n",
       "ENSG00000184967  chr12  132139447  132328203            NOC4L  132144447   \n",
       "ENSG00000182870  chr12  132145447  132484550           GALNT9  132329203   \n",
       "ENSG00000112787  chr12  132334203  132609374           FBRSL1  132489550   \n",
       "ENSG00000204583  chr12  132490550  132615374           LRCOL1  132610374   \n",
       "ENSG00000187848  chr12  132613816  132686359            P2RX2  132618816   \n",
       "ENSG00000177084  chr12  132619816  132692359             POLE  132687359   \n",
       "ENSG00000176894  chr12  132682605  132688605            PXMP2  132687605   \n",
       "NaN              chr12  132683048  132705818  ENSG00000256632  132688048   \n",
       "ENSG00000247077  chr12  132689048  132760888            PGAM5  132710818   \n",
       "ENSG00000176915  chr12  132711818  132827702           ANKLE2  132761888   \n",
       "\n",
       "                Strand  \n",
       "ENSG00000184967      +  \n",
       "ENSG00000182870      -  \n",
       "ENSG00000112787      +  \n",
       "ENSG00000204583      -  \n",
       "ENSG00000187848      +  \n",
       "ENSG00000177084      -  \n",
       "ENSG00000176894      +  \n",
       "NaN                  +  \n",
       "ENSG00000247077      +  \n",
       "ENSG00000176915      -  "
      ]
     },
     "execution_count": 13,
     "metadata": {},
     "output_type": "execute_result"
    }
   ],
   "source": [
    "reg.loc[(reg[\"Chr\"]==\"chr12\")&(reg[\"Chr_Start\"]>=132000000)].head(10)"
   ]
  },
  {
   "cell_type": "code",
   "execution_count": 33,
   "metadata": {},
   "outputs": [],
   "source": [
    "def get_association(test,regdom): \n",
    "    \n",
    "    res = []\n",
    "    for i in range(test.shape[0]):\n",
    "        currTest = test.iloc[i]\n",
    "        regdom_curr_test = regdom.loc[regdom[\"Chr\"] == currTest[\"Chr\"]].sort_values(\"Chr_Start\")\n",
    "        regdom_inf = regdom_curr_test.loc[regdom_curr_test[\"tss\"] <= currTest[\"Chr_Start\"]]\n",
    "        regdom_sup = regdom_curr_test.loc[regdom_curr_test[\"tss\"] >= currTest[\"Chr_End\"]]\n",
    "        try : \n",
    "            if regdom_inf.iloc[-1][\"Name\"] not in res : \n",
    "                res.append (regdom_inf.iloc[-1][\"Name\"])\n",
    "        except :\n",
    "            # print(\"ici\")\n",
    "            pass\n",
    "        try :\n",
    "            if regdom_sup.iloc[0][\"Name\"] not in res :\n",
    "                res.append(regdom_sup.iloc[0][\"Name\"])\n",
    "        except : \n",
    "            pass\n",
    "    return res"
   ]
  },
  {
   "cell_type": "code",
   "execution_count": 60,
   "metadata": {},
   "outputs": [],
   "source": [
    "def get_association2(test,regdom): \n",
    "    res = []\n",
    "    for i in range(test.shape[0]):\n",
    "        currTest = test.iloc[i]\n",
    "        regdom_curr_test = regdom.loc[(regdom[\"Chr\"] == currTest[\"Chr\"])].sort_values(\"Chr_Start\")\n",
    "        regdom_curr_test = regdom_curr_test.loc[((regdom_curr_test[\"Chr_Start\"] <= currTest[\"Chr_Start\"]) & (regdom_curr_test[\"Chr_End\"] >= currTest[\"Chr_End\"])) | ((regdom_curr_test[\"Chr_Start\"] >= currTest[\"Chr_Start\"]) & (regdom_curr_test[\"Chr_End\"] <= currTest[\"Chr_End\"])) | ((regdom_curr_test[\"Chr_Start\"] <= currTest[\"Chr_Start\"]) & (regdom_curr_test[\"Chr_End\"] >= currTest[\"Chr_End\"]))] \n",
    "        res = res + list(regdom_curr_test[\"Name\"])\n",
    "    return list(dict.fromkeys(res))"
   ]
  },
  {
   "cell_type": "code",
   "execution_count": null,
   "metadata": {},
   "outputs": [],
   "source": [
    "# t = pd.DataFrame({\"Chr\" : [\"chr12\"],\"Chr_Start\":[132687312],\"Chr_End\":[132687642]})\n",
    "r = r.rename(columns={\"name\":\"Name\"})\n",
    "get_association2(t,r)"
   ]
  },
  {
   "cell_type": "code",
   "execution_count": null,
   "metadata": {},
   "outputs": [],
   "source": [
    "%%time\n",
    "get_association2(t,r)"
   ]
  },
  {
   "cell_type": "code",
   "execution_count": null,
   "metadata": {},
   "outputs": [],
   "source": [
    "%%time\n",
    "get_association(t,r)"
   ]
  }
 ],
 "metadata": {
  "kernelspec": {
   "display_name": "Python 3.9.12 ('base')",
   "language": "python",
   "name": "python3"
  },
  "language_info": {
   "codemirror_mode": {
    "name": "ipython",
    "version": 3
   },
   "file_extension": ".py",
   "mimetype": "text/x-python",
   "name": "python",
   "nbconvert_exporter": "python",
   "pygments_lexer": "ipython3",
   "version": "3.9.12"
  },
  "orig_nbformat": 4,
  "vscode": {
   "interpreter": {
    "hash": "dd3aa23b046397ccf7f1ffb7cb82646c26b15f0b12555a0fca8fb427d9fb147f"
   }
  }
 },
 "nbformat": 4,
 "nbformat_minor": 2
}
