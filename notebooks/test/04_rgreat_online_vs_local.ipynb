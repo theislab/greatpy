{
 "cells": [
  {
   "cell_type": "markdown",
   "metadata": {},
   "source": [
    "# rGreat online vs local "
   ]
  },
  {
   "cell_type": "markdown",
   "metadata": {},
   "source": [
    "This notebook allows you to compare results between local and online rGreat. "
   ]
  },
  {
   "cell_type": "markdown",
   "metadata": {},
   "source": [
    "r-base == 3.6.1\n",
    "\n",
    "python version == 3.8 "
   ]
  },
  {
   "cell_type": "code",
   "execution_count": 1,
   "metadata": {},
   "outputs": [],
   "source": [
    "%load_ext autoreload\n",
    "%autoreload 2"
   ]
  },
  {
   "cell_type": "code",
   "execution_count": 2,
   "metadata": {},
   "outputs": [],
   "source": [
    "import rpy2\n",
    "from rpy2.robjects.packages import importr\n",
    "from rpy2.robjects import pandas2ri\n",
    "from rpy2.robjects import r as r\n",
    "pandas2ri.activate()\n",
    "import pandas as pd\n",
    "\n",
    "import os \n",
    "import matplotlib.pyplot as plt\n",
    "import greatpy as great \n",
    "from scipy.stats import pearsonr\n",
    "import re\n",
    "import time "
   ]
  },
  {
   "cell_type": "code",
   "execution_count": 3,
   "metadata": {},
   "outputs": [
    {
     "data": {
      "text/plain": [
       "'3.5.2'"
      ]
     },
     "execution_count": 3,
     "metadata": {},
     "output_type": "execute_result"
    }
   ],
   "source": [
    "rpy2.__version__"
   ]
  },
  {
   "cell_type": "code",
   "execution_count": 5,
   "metadata": {},
   "outputs": [],
   "source": [
    "importr('rGREAT')\n",
    "ranges = importr('GenomicRanges')"
   ]
  },
  {
   "cell_type": "code",
   "execution_count": 15,
   "metadata": {},
   "outputs": [],
   "source": [
    "def local_vs_online(): \n",
    "    stat_df = {\n",
    "        \"name\" : [],\n",
    "        \"pearson_binom\" : [], \n",
    "        \"pearson_hypergeom\" : []\n",
    "    }\n",
    "    pp = {\n",
    "        \"name\" : [],\n",
    "        \"before_pp_online_size\" : [], \n",
    "        \"before_pp_local_size\" : [],\n",
    "        \"final_size\" : [],\n",
    "        \"%_of_GO_from_online_lost\" : [],\n",
    "    }\n",
    "\n",
    "    for name in os.listdir(\"../../data/tests/test_data/input\"): \n",
    "        # find the assembly \n",
    "        if re.match(\".*hg19.*\",name) != None : \n",
    "            assembly = \"hg19\"\n",
    "        else : \n",
    "            assembly = \"hg38\"\n",
    "            \n",
    "        # online test \n",
    "        res_online = rpy2.robjects.r['submitGreatJob'](f\"../../data/tests/test_data/input/{name}\",species=f\"{assembly}\",help=False)\n",
    "        res_online = rpy2.robjects.r['getEnrichmentTables'](res_online)\n",
    "\n",
    "        time.sleep(30)\n",
    "\n",
    "        # local test\n",
    "            # proprocessing : make a Grange frame \n",
    "        df = r[\"read.csv\"](f\"../../data/tests/test_data/input/{name}\",sep='\\t')\n",
    "        seqname = rpy2.robjects.StrVector([\"seqnames\", \"seqname\",\"chromosome\", \"X.Chr\",\"chr\", \"chromosome_name\",\"seqid\"])\n",
    "        end = rpy2.robjects.StrVector(['end', 'stop'])\n",
    "        df = ranges.makeGRangesFromDataFrame(df,seqnames_field=seqname)#,keep_extra_columns=False,ignore_strand=False,seqinfo=None,start_field='start', end_field=end, strand_field='strand',starts_in_df_are_0based=False)\n",
    "\n",
    "            # great calculation\n",
    "        local = rpy2.robjects.r['great'](df, \"msigdb:C5\", f\"GREAT:{assembly}\",verbose=False)\n",
    "        local = rpy2.robjects.r['getEnrichmentTables'](local)\n",
    "\n",
    "        # create each dataframe\n",
    "        name_online = [cdc.lower() for cdc in list(res_online.rx2(\"GO Molecular Function\").rx2(\"name\"))+list(res_online.rx2(\"GO Biological Process\").rx2(\"name\"))+list(res_online.rx2(\"GO Cellular Component\").rx2(\"name\"))]\n",
    "\n",
    "        online = pd.DataFrame({\n",
    "            \"id\" : list(res_online.rx2(\"GO Molecular Function\").rx2(\"ID\"))+list(res_online.rx2(\"GO Biological Process\").rx2(\"ID\"))+list(res_online.rx2(\"GO Cellular Component\").rx2(\"ID\")),\n",
    "            \"name\" : name_online,\n",
    "            \"binom_p_val\" : list(res_online.rx2(\"GO Molecular Function\").rx2(\"Binom_Raw_PValue\"))+list(res_online.rx2(\"GO Biological Process\").rx2(\"Binom_Raw_PValue\"))+list(res_online.rx2(\"GO Cellular Component\").rx2(\"Binom_Raw_PValue\")),\n",
    "            \"hyper_p_val\" : list(res_online.rx2(\"GO Molecular Function\").rx2(\"Hyper_Raw_PValue\"))+list(res_online.rx2(\"GO Biological Process\").rx2(\"Hyper_Raw_PValue\"))+list(res_online.rx2(\"GO Cellular Component\").rx2(\"Hyper_Raw_PValue\"))\n",
    "            })\n",
    "\n",
    "        name_local = list(local.rx2(\"id\")) \n",
    "        name_local = [\" \".join(cdc.lower().split(\"_\")[1:]) for cdc in list(local.rx2(\"id\"))]\n",
    "\n",
    "        local = pd.DataFrame({\n",
    "            \"name\": name_local,\n",
    "            \"binom_p_val\" : list(local.rx2(\"p_value\")),\n",
    "            \"hyper_p_val\" : list(local.rx2(\"p_value_hyper\"))\n",
    "            })\n",
    "\n",
    "        # reduce the df \n",
    "        pp[\"name\"].append(name)\n",
    "        pp[\"before_pp_local_size\"].append(local.shape[0])\n",
    "        pp[\"before_pp_online_size\"].append(online.shape[0])\n",
    "        local = local.loc[local[\"name\"].isin(list(online[\"name\"]))]\n",
    "        online = online.loc[online[\"name\"].isin(list(local[\"name\"]))]\n",
    "        pp[\"final_size\"].append(local.shape[0])\n",
    "        pp[\"%_of_GO_from_online_lost\"].append(round(100*(online.shape[0]-local.shape[0])/online.shape[0],2))\n",
    "\n",
    "        # compare\n",
    "        binom_local = []\n",
    "        hyper_local = []\n",
    "        binom_online = []\n",
    "        hyper_online = []\n",
    "        for i in range(online.shape[0]) : \n",
    "            try : \n",
    "                go_term = list(online[\"name\"])[i]\n",
    "                curr_online_enrichment = online.iloc[i]\n",
    "                curr_local_enrichment = local.loc[local[\"name\"]==go_term]\n",
    "                binom_local.append(float(curr_online_enrichment[\"binom_p_val\"]))\n",
    "                hyper_local.append(float(curr_online_enrichment[\"hyper_p_val\"]))\n",
    "                binom_online.append(float(curr_local_enrichment[\"binom_p_val\"]))\n",
    "                hyper_online.append(float(curr_local_enrichment[\"hyper_p_val\"]))\n",
    "            except : \n",
    "                pass \n",
    "               \n",
    "        binom = pd.DataFrame({\"binom_local\" : binom_local,\"binom_online\" : binom_online})\n",
    "        hyper = pd.DataFrame({\"hyper_local\" : hyper_local,\"hyper_online\" : hyper_online})\n",
    "\n",
    "        # plot the results \n",
    "        # great.pl.scatterplot(binom,colname_x=\"binom_online\",colname_y=\"binom_local\",title=f\"binom comparison {name}\")\n",
    "        # plt.show()\n",
    "        # great.pl.scatterplot(hyper,colname_x=\"hyper_online\",colname_y=\"hyper_local\",title=f\"hyper comparison {name}\")\n",
    "        # plt.show()\n",
    "        \n",
    "        # Error : \n",
    "        # ValueError: Image size of 896295x279 pixels is too large. It must be less than 2^16 in each direction.\n",
    "        # <Figure size 432x288 with 1 Axes>\n",
    "        \n",
    "        stat_df[\"name\"].append(name[0])\n",
    "        stat_df[\"pearson_binom\"].append(pearsonr(binom_local,binom_online)[0])\n",
    "        stat_df[\"pearson_hypergeom\"].append(pearsonr(hyper_local,hyper_online)[0])\n",
    "\n",
    "        time.sleep(90) # just to have not a burning computer ^^ \n",
    "        \n",
    "    return pd.DataFrame(stat_df),pd.DataFrame(pp)"
   ]
  },
  {
   "cell_type": "code",
   "execution_count": 16,
   "metadata": {},
   "outputs": [
    {
     "name": "stderr",
     "output_type": "stream",
     "text": [
      "R[write to console]: The default enrichment tables contain no associated genes for the input\n",
      "regions.You can set `download_by = 'tsv'` to download the complete\n",
      "table,but note only the top 500 regions can be retreived. See the\n",
      "following link:\n",
      "\n",
      "https://great-help.atlassian.net/wiki/spaces/GREAT/pages/655401/Export#Export-GlobalExport\n",
      "\n",
      "R[write to console]: * extended_tss is already cached, directly use it.\n",
      "\n",
      "R[write to console]: The default enrichment tables contain no associated genes for the input\n",
      "regions.You can set `download_by = 'tsv'` to download the complete\n",
      "table,but note only the top 500 regions can be retreived. See the\n",
      "following link:\n",
      "\n",
      "https://great-help.atlassian.net/wiki/spaces/GREAT/pages/655401/Export#Export-GlobalExport\n",
      "\n",
      "R[write to console]: * extended_tss is already cached, directly use it.\n",
      "\n",
      "R[write to console]: The default enrichment tables contain no associated genes for the input\n",
      "regions.You can set `download_by = 'tsv'` to download the complete\n",
      "table,but note only the top 500 regions can be retreived. See the\n",
      "following link:\n",
      "\n",
      "https://great-help.atlassian.net/wiki/spaces/GREAT/pages/655401/Export#Export-GlobalExport\n",
      "\n",
      "R[write to console]: * extended_tss is already cached, directly use it.\n",
      "\n",
      "R[write to console]: The default enrichment tables contain no associated genes for the input\n",
      "regions.You can set `download_by = 'tsv'` to download the complete\n",
      "table,but note only the top 500 regions can be retreived. See the\n",
      "following link:\n",
      "\n",
      "https://great-help.atlassian.net/wiki/spaces/GREAT/pages/655401/Export#Export-GlobalExport\n",
      "\n",
      "R[write to console]: * extended_tss is already cached, directly use it.\n",
      "\n",
      "R[write to console]: The default enrichment tables contain no associated genes for the input\n",
      "regions.You can set `download_by = 'tsv'` to download the complete\n",
      "table,but note only the top 500 regions can be retreived. See the\n",
      "following link:\n",
      "\n",
      "https://great-help.atlassian.net/wiki/spaces/GREAT/pages/655401/Export#Export-GlobalExport\n",
      "\n",
      "R[write to console]: * check whether TxDb package 'TxDb.Hsapiens.UCSC.hg19.knownGene' is installed.\n",
      "\n",
      "R[write to console]: * gene ID type in the extended TSS is 'Entrez Gene ID'.\n",
      "\n",
      "R[write to console]: * restrict chromosomes to 'chr1, chr2, chr3, chr4, chr5, chr6, chr7, chr8, chr9, chr10,\n",
      "    chr11, chr12, chr13, chr14, chr15, chr16, chr17, chr18, chr19, chr20, chr21, chr22, chrX,\n",
      "    chrY, chrM'.\n",
      "\n",
      "R[write to console]: * 18563/23033 protein-coding genes left.\n",
      "\n",
      "R[write to console]: * update seqinfo to the selected chromosomes.\n",
      "\n",
      "R[write to console]: * TSS extension mode is 'basalPlusExt'.\n",
      "\n",
      "R[write to console]: * construct the basal domains by extending 5000bp to upstream and 1000bp to downsteram of TSS.\n",
      "\n",
      "R[write to console]: * calculate distances to neighbour regions.\n",
      "\n",
      "R[write to console]: * extend to both sides until reaching the neighbour genes or to the maximal extension (1000000bp).\n",
      "\n",
      "R[write to console]: The default enrichment tables contain no associated genes for the input\n",
      "regions.You can set `download_by = 'tsv'` to download the complete\n",
      "table,but note only the top 500 regions can be retreived. See the\n",
      "following link:\n",
      "\n",
      "https://great-help.atlassian.net/wiki/spaces/GREAT/pages/655401/Export#Export-GlobalExport\n",
      "\n",
      "R[write to console]: * extended_tss is already cached, directly use it.\n",
      "\n",
      "R[write to console]: The default enrichment tables contain no associated genes for the input\n",
      "regions.You can set `download_by = 'tsv'` to download the complete\n",
      "table,but note only the top 500 regions can be retreived. See the\n",
      "following link:\n",
      "\n",
      "https://great-help.atlassian.net/wiki/spaces/GREAT/pages/655401/Export#Export-GlobalExport\n",
      "\n",
      "R[write to console]: * extended_tss is already cached, directly use it.\n",
      "\n",
      "R[write to console]: The default enrichment tables contain no associated genes for the input\n",
      "regions.You can set `download_by = 'tsv'` to download the complete\n",
      "table,but note only the top 500 regions can be retreived. See the\n",
      "following link:\n",
      "\n",
      "https://great-help.atlassian.net/wiki/spaces/GREAT/pages/655401/Export#Export-GlobalExport\n",
      "\n",
      "R[write to console]: * extended_tss is already cached, directly use it.\n",
      "\n",
      "R[write to console]: The default enrichment tables contain no associated genes for the input\n",
      "regions.You can set `download_by = 'tsv'` to download the complete\n",
      "table,but note only the top 500 regions can be retreived. See the\n",
      "following link:\n",
      "\n",
      "https://great-help.atlassian.net/wiki/spaces/GREAT/pages/655401/Export#Export-GlobalExport\n",
      "\n",
      "R[write to console]: * extended_tss is already cached, directly use it.\n",
      "\n"
     ]
    },
    {
     "ename": "ImportError",
     "evalue": "Missing optional dependency 'tabulate'.  Use pip or conda to install tabulate.",
     "output_type": "error",
     "traceback": [
      "\u001b[0;31m---------------------------------------------------------------------------\u001b[0m",
      "\u001b[0;31mTypeError\u001b[0m                                 Traceback (most recent call last)",
      "\u001b[1;32m/home/tom/Stage/greatpy/notebooks/test/04_rgreat_online_vs_local.ipynb Cell 9\u001b[0m in \u001b[0;36mlocal_vs_online\u001b[0;34m()\u001b[0m\n\u001b[1;32m     <a href='vscode-notebook-cell://wsl%2Bubuntu/home/tom/Stage/greatpy/notebooks/test/04_rgreat_online_vs_local.ipynb#ch0000008vscode-remote?line=77'>78</a>\u001b[0m hyper_local\u001b[39m.\u001b[39mappend(\u001b[39mfloat\u001b[39m(curr_online_enrichment[\u001b[39m\"\u001b[39m\u001b[39mhyper_p_val\u001b[39m\u001b[39m\"\u001b[39m]))\n\u001b[0;32m---> <a href='vscode-notebook-cell://wsl%2Bubuntu/home/tom/Stage/greatpy/notebooks/test/04_rgreat_online_vs_local.ipynb#ch0000008vscode-remote?line=78'>79</a>\u001b[0m binom_online\u001b[39m.\u001b[39mappend(\u001b[39mfloat\u001b[39;49m(curr_local_enrichment[\u001b[39m\"\u001b[39;49m\u001b[39mbinom_p_val\u001b[39;49m\u001b[39m\"\u001b[39;49m]))\n\u001b[1;32m     <a href='vscode-notebook-cell://wsl%2Bubuntu/home/tom/Stage/greatpy/notebooks/test/04_rgreat_online_vs_local.ipynb#ch0000008vscode-remote?line=79'>80</a>\u001b[0m hyper_online\u001b[39m.\u001b[39mappend(\u001b[39mfloat\u001b[39m(curr_local_enrichment[\u001b[39m\"\u001b[39m\u001b[39mhyper_p_val\u001b[39m\u001b[39m\"\u001b[39m]))\n",
      "File \u001b[0;32m~/.local/lib/python3.8/site-packages/pandas/core/series.py:191\u001b[0m, in \u001b[0;36m_coerce_method.<locals>.wrapper\u001b[0;34m(self)\u001b[0m\n\u001b[1;32m    190\u001b[0m     \u001b[39mreturn\u001b[39;00m converter(\u001b[39mself\u001b[39m\u001b[39m.\u001b[39miloc[\u001b[39m0\u001b[39m])\n\u001b[0;32m--> 191\u001b[0m \u001b[39mraise\u001b[39;00m \u001b[39mTypeError\u001b[39;00m(\u001b[39mf\u001b[39m\u001b[39m\"\u001b[39m\u001b[39mcannot convert the series to \u001b[39m\u001b[39m{\u001b[39;00mconverter\u001b[39m}\u001b[39;00m\u001b[39m\"\u001b[39m)\n",
      "\u001b[0;31mTypeError\u001b[0m: cannot convert the series to <class 'float'>",
      "\nDuring handling of the above exception, another exception occurred:\n",
      "\u001b[0;31mModuleNotFoundError\u001b[0m                       Traceback (most recent call last)",
      "File \u001b[0;32m~/.local/lib/python3.8/site-packages/pandas/compat/_optional.py:138\u001b[0m, in \u001b[0;36mimport_optional_dependency\u001b[0;34m(name, extra, errors, min_version)\u001b[0m\n\u001b[1;32m    137\u001b[0m \u001b[39mtry\u001b[39;00m:\n\u001b[0;32m--> 138\u001b[0m     module \u001b[39m=\u001b[39m importlib\u001b[39m.\u001b[39;49mimport_module(name)\n\u001b[1;32m    139\u001b[0m \u001b[39mexcept\u001b[39;00m \u001b[39mImportError\u001b[39;00m:\n",
      "File \u001b[0;32m~/miniconda3/envs/gpy/lib/python3.8/importlib/__init__.py:127\u001b[0m, in \u001b[0;36mimport_module\u001b[0;34m(name, package)\u001b[0m\n\u001b[1;32m    126\u001b[0m         level \u001b[39m+\u001b[39m\u001b[39m=\u001b[39m \u001b[39m1\u001b[39m\n\u001b[0;32m--> 127\u001b[0m \u001b[39mreturn\u001b[39;00m _bootstrap\u001b[39m.\u001b[39;49m_gcd_import(name[level:], package, level)\n",
      "File \u001b[0;32m<frozen importlib._bootstrap>:1014\u001b[0m, in \u001b[0;36m_gcd_import\u001b[0;34m(name, package, level)\u001b[0m\n",
      "File \u001b[0;32m<frozen importlib._bootstrap>:991\u001b[0m, in \u001b[0;36m_find_and_load\u001b[0;34m(name, import_)\u001b[0m\n",
      "File \u001b[0;32m<frozen importlib._bootstrap>:973\u001b[0m, in \u001b[0;36m_find_and_load_unlocked\u001b[0;34m(name, import_)\u001b[0m\n",
      "\u001b[0;31mModuleNotFoundError\u001b[0m: No module named 'tabulate'",
      "\nDuring handling of the above exception, another exception occurred:\n",
      "\u001b[0;31mImportError\u001b[0m                               Traceback (most recent call last)",
      "\u001b[1;32m/home/tom/Stage/greatpy/notebooks/test/04_rgreat_online_vs_local.ipynb Cell 9\u001b[0m in \u001b[0;36m<cell line: 1>\u001b[0;34m()\u001b[0m\n\u001b[0;32m----> <a href='vscode-notebook-cell://wsl%2Bubuntu/home/tom/Stage/greatpy/notebooks/test/04_rgreat_online_vs_local.ipynb#ch0000008vscode-remote?line=0'>1</a>\u001b[0m stat,preprocess \u001b[39m=\u001b[39m local_vs_online()\n",
      "\u001b[1;32m/home/tom/Stage/greatpy/notebooks/test/04_rgreat_online_vs_local.ipynb Cell 9\u001b[0m in \u001b[0;36mlocal_vs_online\u001b[0;34m()\u001b[0m\n\u001b[1;32m     <a href='vscode-notebook-cell://wsl%2Bubuntu/home/tom/Stage/greatpy/notebooks/test/04_rgreat_online_vs_local.ipynb#ch0000008vscode-remote?line=79'>80</a>\u001b[0m         hyper_online\u001b[39m.\u001b[39mappend(\u001b[39mfloat\u001b[39m(curr_local_enrichment[\u001b[39m\"\u001b[39m\u001b[39mhyper_p_val\u001b[39m\u001b[39m\"\u001b[39m]))\n\u001b[1;32m     <a href='vscode-notebook-cell://wsl%2Bubuntu/home/tom/Stage/greatpy/notebooks/test/04_rgreat_online_vs_local.ipynb#ch0000008vscode-remote?line=80'>81</a>\u001b[0m     \u001b[39mexcept\u001b[39;00m :\n\u001b[0;32m---> <a href='vscode-notebook-cell://wsl%2Bubuntu/home/tom/Stage/greatpy/notebooks/test/04_rgreat_online_vs_local.ipynb#ch0000008vscode-remote?line=81'>82</a>\u001b[0m         \u001b[39mprint\u001b[39m(\u001b[39mf\u001b[39m\u001b[39m\"\u001b[39m\u001b[39m{\u001b[39;00mcurr_online_enrichment\u001b[39m.\u001b[39mto_markdown()\u001b[39m}\u001b[39;00m\u001b[39m\\n\u001b[39;00m\u001b[39m and \u001b[39m\u001b[39m\\n\u001b[39;00m\u001b[39m{\u001b[39;00mcurr_local_enrichment\u001b[39m.\u001b[39mto_markdown()\u001b[39m}\u001b[39;00m\u001b[39m\\n\u001b[39;00m\u001b[39mgenerate an error\u001b[39m\u001b[39m\"\u001b[39m)\n\u001b[1;32m     <a href='vscode-notebook-cell://wsl%2Bubuntu/home/tom/Stage/greatpy/notebooks/test/04_rgreat_online_vs_local.ipynb#ch0000008vscode-remote?line=83'>84</a>\u001b[0m binom \u001b[39m=\u001b[39m pd\u001b[39m.\u001b[39mDataFrame({\u001b[39m\"\u001b[39m\u001b[39mbinom_local\u001b[39m\u001b[39m\"\u001b[39m : binom_local,\u001b[39m\"\u001b[39m\u001b[39mbinom_online\u001b[39m\u001b[39m\"\u001b[39m : binom_online})\n\u001b[1;32m     <a href='vscode-notebook-cell://wsl%2Bubuntu/home/tom/Stage/greatpy/notebooks/test/04_rgreat_online_vs_local.ipynb#ch0000008vscode-remote?line=84'>85</a>\u001b[0m hyper \u001b[39m=\u001b[39m pd\u001b[39m.\u001b[39mDataFrame({\u001b[39m\"\u001b[39m\u001b[39mhyper_local\u001b[39m\u001b[39m\"\u001b[39m : hyper_local,\u001b[39m\"\u001b[39m\u001b[39mhyper_online\u001b[39m\u001b[39m\"\u001b[39m : hyper_online})\n",
      "File \u001b[0;32m~/.local/lib/python3.8/site-packages/pandas/core/series.py:1656\u001b[0m, in \u001b[0;36mSeries.to_markdown\u001b[0;34m(self, buf, mode, index, storage_options, **kwargs)\u001b[0m\n\u001b[1;32m   1583\u001b[0m \u001b[39m@doc\u001b[39m(\n\u001b[1;32m   1584\u001b[0m     klass\u001b[39m=\u001b[39m_shared_doc_kwargs[\u001b[39m\"\u001b[39m\u001b[39mklass\u001b[39m\u001b[39m\"\u001b[39m],\n\u001b[1;32m   1585\u001b[0m     storage_options\u001b[39m=\u001b[39m_shared_docs[\u001b[39m\"\u001b[39m\u001b[39mstorage_options\u001b[39m\u001b[39m\"\u001b[39m],\n\u001b[0;32m   (...)\u001b[0m\n\u001b[1;32m   1620\u001b[0m     \u001b[39m*\u001b[39m\u001b[39m*\u001b[39mkwargs,\n\u001b[1;32m   1621\u001b[0m ) \u001b[39m-\u001b[39m\u001b[39m>\u001b[39m \u001b[39mstr\u001b[39m \u001b[39m|\u001b[39m \u001b[39mNone\u001b[39;00m:\n\u001b[1;32m   1622\u001b[0m     \u001b[39m\"\"\"\u001b[39;00m\n\u001b[1;32m   1623\u001b[0m \u001b[39m    Print {klass} in Markdown-friendly format.\u001b[39;00m\n\u001b[1;32m   1624\u001b[0m \n\u001b[0;32m   (...)\u001b[0m\n\u001b[1;32m   1654\u001b[0m \u001b[39m    {examples}\u001b[39;00m\n\u001b[1;32m   1655\u001b[0m \u001b[39m    \"\"\"\u001b[39;00m\n\u001b[0;32m-> 1656\u001b[0m     \u001b[39mreturn\u001b[39;00m \u001b[39mself\u001b[39;49m\u001b[39m.\u001b[39;49mto_frame()\u001b[39m.\u001b[39;49mto_markdown(\n\u001b[1;32m   1657\u001b[0m         buf, mode, index, storage_options\u001b[39m=\u001b[39;49mstorage_options, \u001b[39m*\u001b[39;49m\u001b[39m*\u001b[39;49mkwargs\n\u001b[1;32m   1658\u001b[0m     )\n",
      "File \u001b[0;32m~/.local/lib/python3.8/site-packages/pandas/core/frame.py:2728\u001b[0m, in \u001b[0;36mDataFrame.to_markdown\u001b[0;34m(self, buf, mode, index, storage_options, **kwargs)\u001b[0m\n\u001b[1;32m   2726\u001b[0m kwargs\u001b[39m.\u001b[39msetdefault(\u001b[39m\"\u001b[39m\u001b[39mtablefmt\u001b[39m\u001b[39m\"\u001b[39m, \u001b[39m\"\u001b[39m\u001b[39mpipe\u001b[39m\u001b[39m\"\u001b[39m)\n\u001b[1;32m   2727\u001b[0m kwargs\u001b[39m.\u001b[39msetdefault(\u001b[39m\"\u001b[39m\u001b[39mshowindex\u001b[39m\u001b[39m\"\u001b[39m, index)\n\u001b[0;32m-> 2728\u001b[0m tabulate \u001b[39m=\u001b[39m import_optional_dependency(\u001b[39m\"\u001b[39;49m\u001b[39mtabulate\u001b[39;49m\u001b[39m\"\u001b[39;49m)\n\u001b[1;32m   2729\u001b[0m result \u001b[39m=\u001b[39m tabulate\u001b[39m.\u001b[39mtabulate(\u001b[39mself\u001b[39m, \u001b[39m*\u001b[39m\u001b[39m*\u001b[39mkwargs)\n\u001b[1;32m   2730\u001b[0m \u001b[39mif\u001b[39;00m buf \u001b[39mis\u001b[39;00m \u001b[39mNone\u001b[39;00m:\n",
      "File \u001b[0;32m~/.local/lib/python3.8/site-packages/pandas/compat/_optional.py:141\u001b[0m, in \u001b[0;36mimport_optional_dependency\u001b[0;34m(name, extra, errors, min_version)\u001b[0m\n\u001b[1;32m    139\u001b[0m \u001b[39mexcept\u001b[39;00m \u001b[39mImportError\u001b[39;00m:\n\u001b[1;32m    140\u001b[0m     \u001b[39mif\u001b[39;00m errors \u001b[39m==\u001b[39m \u001b[39m\"\u001b[39m\u001b[39mraise\u001b[39m\u001b[39m\"\u001b[39m:\n\u001b[0;32m--> 141\u001b[0m         \u001b[39mraise\u001b[39;00m \u001b[39mImportError\u001b[39;00m(msg)\n\u001b[1;32m    142\u001b[0m     \u001b[39melse\u001b[39;00m:\n\u001b[1;32m    143\u001b[0m         \u001b[39mreturn\u001b[39;00m \u001b[39mNone\u001b[39;00m\n",
      "\u001b[0;31mImportError\u001b[0m: Missing optional dependency 'tabulate'.  Use pip or conda to install tabulate."
     ]
    }
   ],
   "source": [
    "stat,preprocess = local_vs_online()"
   ]
  },
  {
   "cell_type": "code",
   "execution_count": null,
   "metadata": {},
   "outputs": [],
   "source": [
    "stat "
   ]
  },
  {
   "cell_type": "markdown",
   "metadata": {},
   "source": [
    "As we can see the local implementation is nor really good correlated with the online implementation."
   ]
  },
  {
   "cell_type": "code",
   "execution_count": null,
   "metadata": {},
   "outputs": [],
   "source": [
    "preprocess"
   ]
  },
  {
   "cell_type": "markdown",
   "metadata": {},
   "source": [
    "As we can see, the online implementation return some GO terms whoch is not in the local implementation."
   ]
  }
 ],
 "metadata": {
  "kernelspec": {
   "display_name": "Python 3.8.13 ('gpy')",
   "language": "python",
   "name": "python3"
  },
  "language_info": {
   "codemirror_mode": {
    "name": "ipython",
    "version": 3
   },
   "file_extension": ".py",
   "mimetype": "text/x-python",
   "name": "python",
   "nbconvert_exporter": "python",
   "pygments_lexer": "ipython3",
   "version": "3.8.13"
  },
  "orig_nbformat": 4,
  "vscode": {
   "interpreter": {
    "hash": "610c73e5f1997caa668091b43a573fbafba1e2b96e55fbc05d56c58d21b90949"
   }
  }
 },
 "nbformat": 4,
 "nbformat_minor": 2
}
