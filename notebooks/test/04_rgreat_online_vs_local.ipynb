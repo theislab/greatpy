{
 "cells": [
  {
   "cell_type": "markdown",
   "metadata": {},
   "source": [
    "# rGreat online vs local "
   ]
  },
  {
   "cell_type": "markdown",
   "metadata": {},
   "source": [
    "This notebook allows you to compare results between local and online rGreat. "
   ]
  },
  {
   "cell_type": "markdown",
   "metadata": {},
   "source": [
    "r-base == 3.6.1\n",
    "\n",
    "python version == 3.8 "
   ]
  },
  {
   "cell_type": "code",
   "execution_count": 2,
   "metadata": {},
   "outputs": [],
   "source": [
    "%load_ext autoreload\n",
    "%autoreload 2"
   ]
  },
  {
   "cell_type": "code",
   "execution_count": 3,
   "metadata": {},
   "outputs": [],
   "source": [
    "import rpy2\n",
    "from rpy2.robjects.packages import importr\n",
    "from rpy2.robjects import pandas2ri\n",
    "from rpy2.robjects import r as r\n",
    "pandas2ri.activate()\n",
    "import pandas as pd\n",
    "\n",
    "import os \n",
    "import matplotlib.pyplot as plt\n",
    "import greatpy as great \n",
    "from scipy.stats import pearsonr\n",
    "import re\n",
    "import time "
   ]
  },
  {
   "cell_type": "code",
   "execution_count": 4,
   "metadata": {},
   "outputs": [
    {
     "data": {
      "text/plain": [
       "'3.5.2'"
      ]
     },
     "execution_count": 4,
     "metadata": {},
     "output_type": "execute_result"
    }
   ],
   "source": [
    "rpy2.__version__"
   ]
  },
  {
   "cell_type": "code",
   "execution_count": 5,
   "metadata": {},
   "outputs": [],
   "source": [
    "importr('rGREAT')\n",
    "ranges = importr('GenomicRanges')"
   ]
  },
  {
   "cell_type": "code",
   "execution_count": 9,
   "metadata": {},
   "outputs": [],
   "source": [
    "def local_vs_online(): \n",
    "    stat_df = {\n",
    "        \"name\" : [],\n",
    "        \"pearson_binom\" : [], \n",
    "        \"pearson_hypergeom\" : []\n",
    "    }\n",
    "    pp = {\n",
    "        \"name\" : [],\n",
    "        \"before_pp_online_size\" : [], \n",
    "        \"before_pp_local_size\" : [],\n",
    "        \"final_size\" : [],\n",
    "        \"%_of_GO_from_online_lost\" : [],\n",
    "    }\n",
    "\n",
    "    # for name in os.listdir(\"../../data/tests/test_data/input\"): \n",
    "    for name in [\"01_random.bed\",\"06_height_snps_hg38.bed\",\"07_height_snps_hg19.bed\",\"10_MAX.bed\"] : \n",
    "        # find the assembly \n",
    "        if re.match(\".*hg19.*\",name) != None : \n",
    "            assembly = \"hg19\"\n",
    "        else : \n",
    "            assembly = \"hg38\"\n",
    "            \n",
    "        # online test \n",
    "        res_online = rpy2.robjects.r['submitGreatJob'](f\"../../data/tests/test_data/input/{name}\",species=f\"{assembly}\",help=False)\n",
    "        res_online = rpy2.robjects.r['getEnrichmentTables'](res_online)\n",
    "\n",
    "        time.sleep(30)\n",
    "\n",
    "        # local test\n",
    "            # proprocessing : make a Grange frame \n",
    "        df = r[\"read.csv\"](f\"../../data/tests/test_data/input/{name}\",sep='\\t')\n",
    "        seqname = rpy2.robjects.StrVector([\"seqnames\", \"seqname\",\"chromosome\", \"X.Chr\",\"chr\", \"chromosome_name\",\"seqid\"])\n",
    "        end = rpy2.robjects.StrVector(['end', 'stop'])\n",
    "        df = ranges.makeGRangesFromDataFrame(df,seqnames_field=seqname)#,keep_extra_columns=False,ignore_strand=False,seqinfo=None,start_field='start', end_field=end, strand_field='strand',starts_in_df_are_0based=False)\n",
    "\n",
    "            # great calculation\n",
    "        local = rpy2.robjects.r['great'](df, \"msigdb:C5\", f\"GREAT:{assembly}\",verbose=False)\n",
    "        local = rpy2.robjects.r['getEnrichmentTables'](local)\n",
    "\n",
    "        # create each dataframe\n",
    "        name = [cdc.lower() for cdc in list(res_online.rx2(\"GO Molecular Function\").rx2(\"name\"))+list(res_online.rx2(\"GO Biological Process\").rx2(\"name\"))+list(res_online.rx2(\"GO Cellular Component\").rx2(\"name\"))]\n",
    "\n",
    "        online = pd.DataFrame({\n",
    "            \"id\" : list(res_online.rx2(\"GO Molecular Function\").rx2(\"ID\"))+list(res_online.rx2(\"GO Biological Process\").rx2(\"ID\"))+list(res_online.rx2(\"GO Cellular Component\").rx2(\"ID\")),\n",
    "            \"name\" : name,\n",
    "            \"binom_p_val\" : list(res_online.rx2(\"GO Molecular Function\").rx2(\"Binom_Raw_PValue\"))+list(res_online.rx2(\"GO Biological Process\").rx2(\"Binom_Raw_PValue\"))+list(res_online.rx2(\"GO Cellular Component\").rx2(\"Binom_Raw_PValue\")),\n",
    "            \"hyper_p_val\" : list(res_online.rx2(\"GO Molecular Function\").rx2(\"Hyper_Raw_PValue\"))+list(res_online.rx2(\"GO Biological Process\").rx2(\"Hyper_Raw_PValue\"))+list(res_online.rx2(\"GO Cellular Component\").rx2(\"Hyper_Raw_PValue\"))\n",
    "            })\n",
    "\n",
    "        name = list(local.rx2(\"id\")) \n",
    "        name = [\" \".join(cdc.lower().split(\"_\")[1:]) for cdc in list(local.rx2(\"id\"))]\n",
    "\n",
    "        local = pd.DataFrame({\n",
    "            \"name\": name,\n",
    "            \"binom_p_val\" : list(local.rx2(\"p_value\")),\n",
    "            \"hyper_p_val\" : list(local.rx2(\"p_value_hyper\"))\n",
    "            })\n",
    "\n",
    "        # reduce the df \n",
    "        pp[\"name\"].append(name)\n",
    "        pp[\"before_pp_local_size\"].append(local.shape[0])\n",
    "        pp[\"before_pp_online_size\"].append(online.shape[0])\n",
    "        local = local.loc[local[\"name\"].isin(list(online[\"name\"]))]\n",
    "        online = online.loc[online[\"name\"].isin(list(local[\"name\"]))]\n",
    "        pp[\"final_size\"].append(local.shape[0])\n",
    "        pp[\"%_of_GO_from_online_lost\"].append(round(100*(online.shape[0]-local.shape[0])/online.shape[0],2))\n",
    "\n",
    "        # compare\n",
    "        binom_local = []\n",
    "        hyper_local = []\n",
    "        binom_online = []\n",
    "        hyper_online = []\n",
    "        for i in range(online.shape[0]) : \n",
    "            try : \n",
    "                go_term = list(online[\"name\"])[i]\n",
    "                curr_online_enrichment = online.iloc[i]\n",
    "                curr_local_enrichment = local.loc[local[\"name\"]==go_term]\n",
    "                binom_local.append(float(curr_online_enrichment[\"binom_p_val\"]))\n",
    "                hyper_local.append(float(curr_online_enrichment[\"hyper_p_val\"]))\n",
    "                binom_online.append(float(curr_local_enrichment[\"binom_p_val\"]))\n",
    "                hyper_online.append(float(curr_local_enrichment[\"hyper_p_val\"]))\n",
    "            except : \n",
    "                pass \n",
    "               \n",
    "        binom = pd.DataFrame({\"binom_local\" : binom_local,\"binom_online\" : binom_online})\n",
    "        hyper = pd.DataFrame({\"hyper_local\" : hyper_local,\"hyper_online\" : hyper_online})\n",
    "\n",
    "        # plot the results \n",
    "        # great.pl.scatterplot(binom,colname_x=\"binom_online\",colname_y=\"binom_local\",title=f\"binom comparison {name}\")\n",
    "        # plt.show()\n",
    "        # great.pl.scatterplot(hyper,colname_x=\"hyper_online\",colname_y=\"hyper_local\",title=f\"hyper comparison {name}\")\n",
    "        # plt.show()\n",
    "        \n",
    "        # Error : \n",
    "        # ValueError: Image size of 896295x279 pixels is too large. It must be less than 2^16 in each direction.\n",
    "        # <Figure size 432x288 with 1 Axes>\n",
    "        \n",
    "        stat_df[\"name\"].append(name[0])\n",
    "        stat_df[\"pearson_binom\"].append(pearsonr(binom_local,binom_online)[0])\n",
    "        stat_df[\"pearson_hypergeom\"].append(pearsonr(hyper_local,hyper_online)[0])\n",
    "\n",
    "        time.sleep(90) # just to have not a burning computer ^^ \n",
    "        \n",
    "    return pd.DataFrame(stat_df),pd.DataFrame(pp)"
   ]
  },
  {
   "cell_type": "code",
   "execution_count": 10,
   "metadata": {},
   "outputs": [
    {
     "name": "stderr",
     "output_type": "stream",
     "text": [
      "R[write to console]: The default enrichment tables contain no associated genes for the input\n",
      "regions.You can set `download_by = 'tsv'` to download the complete\n",
      "table,but note only the top 500 regions can be retreived. See the\n",
      "following link:\n",
      "\n",
      "https://great-help.atlassian.net/wiki/spaces/GREAT/pages/655401/Export#Export-GlobalExport\n",
      "\n",
      "R[write to console]: * use genome 'hg38'.\n",
      "\n",
      "R[write to console]: * TSS extension mode is 'basalPlusExt'.\n",
      "\n",
      "R[write to console]: * construct the basal domains by extending 5000bp to upstream and 1000bp to downsteram of TSS.\n",
      "\n",
      "R[write to console]: * calculate distances to neighbour regions.\n",
      "\n",
      "R[write to console]: * extend to both sides until reaching the neighbour genes or to the maximal extension (1000000bp).\n",
      "\n",
      "R[write to console]: The default enrichment tables contain no associated genes for the input\n",
      "regions.You can set `download_by = 'tsv'` to download the complete\n",
      "table,but note only the top 500 regions can be retreived. See the\n",
      "following link:\n",
      "\n",
      "https://great-help.atlassian.net/wiki/spaces/GREAT/pages/655401/Export#Export-GlobalExport\n",
      "\n",
      "R[write to console]: * use genome 'hg38'.\n",
      "\n",
      "R[write to console]: * TSS extension mode is 'basalPlusExt'.\n",
      "\n",
      "R[write to console]: * construct the basal domains by extending 5000bp to upstream and 1000bp to downsteram of TSS.\n",
      "\n",
      "R[write to console]: * calculate distances to neighbour regions.\n",
      "\n",
      "R[write to console]: * extend to both sides until reaching the neighbour genes or to the maximal extension (1000000bp).\n",
      "\n",
      "R[write to console]: The default enrichment tables contain no associated genes for the input\n",
      "regions.You can set `download_by = 'tsv'` to download the complete\n",
      "table,but note only the top 500 regions can be retreived. See the\n",
      "following link:\n",
      "\n",
      "https://great-help.atlassian.net/wiki/spaces/GREAT/pages/655401/Export#Export-GlobalExport\n",
      "\n",
      "R[write to console]: * use genome 'hg19'.\n",
      "\n",
      "R[write to console]: * TSS extension mode is 'basalPlusExt'.\n",
      "\n",
      "R[write to console]: * construct the basal domains by extending 5000bp to upstream and 1000bp to downsteram of TSS.\n",
      "\n",
      "R[write to console]: * calculate distances to neighbour regions.\n",
      "\n",
      "R[write to console]: * extend to both sides until reaching the neighbour genes or to the maximal extension (1000000bp).\n",
      "\n",
      "R[write to console]: The default enrichment tables contain no associated genes for the input\n",
      "regions.You can set `download_by = 'tsv'` to download the complete\n",
      "table,but note only the top 500 regions can be retreived. See the\n",
      "following link:\n",
      "\n",
      "https://great-help.atlassian.net/wiki/spaces/GREAT/pages/655401/Export#Export-GlobalExport\n",
      "\n",
      "R[write to console]: * use genome 'hg38'.\n",
      "\n",
      "R[write to console]: * TSS extension mode is 'basalPlusExt'.\n",
      "\n",
      "R[write to console]: * construct the basal domains by extending 5000bp to upstream and 1000bp to downsteram of TSS.\n",
      "\n",
      "R[write to console]: * calculate distances to neighbour regions.\n",
      "\n",
      "R[write to console]: * extend to both sides until reaching the neighbour genes or to the maximal extension (1000000bp).\n",
      "\n"
     ]
    }
   ],
   "source": [
    "stat,preprocess = local_vs_online()"
   ]
  },
  {
   "cell_type": "code",
   "execution_count": 11,
   "metadata": {},
   "outputs": [
    {
     "data": {
      "text/html": [
       "<div>\n",
       "<style scoped>\n",
       "    .dataframe tbody tr th:only-of-type {\n",
       "        vertical-align: middle;\n",
       "    }\n",
       "\n",
       "    .dataframe tbody tr th {\n",
       "        vertical-align: top;\n",
       "    }\n",
       "\n",
       "    .dataframe thead th {\n",
       "        text-align: right;\n",
       "    }\n",
       "</style>\n",
       "<table border=\"1\" class=\"dataframe\">\n",
       "  <thead>\n",
       "    <tr style=\"text-align: right;\">\n",
       "      <th></th>\n",
       "      <th>name</th>\n",
       "      <th>pearson_binom</th>\n",
       "      <th>pearson_hypergeom</th>\n",
       "    </tr>\n",
       "  </thead>\n",
       "  <tbody>\n",
       "    <tr>\n",
       "      <th>0</th>\n",
       "      <td>retrograde vesicle mediated transport golgi to...</td>\n",
       "      <td>6.64919e-01</td>\n",
       "      <td>5.44662e-01</td>\n",
       "    </tr>\n",
       "    <tr>\n",
       "      <th>1</th>\n",
       "      <td>proteoglycan metabolic process</td>\n",
       "      <td>6.05308e-01</td>\n",
       "      <td>6.76302e-01</td>\n",
       "    </tr>\n",
       "    <tr>\n",
       "      <th>2</th>\n",
       "      <td>skeletal system development</td>\n",
       "      <td>6.97645e-01</td>\n",
       "      <td>7.04474e-01</td>\n",
       "    </tr>\n",
       "    <tr>\n",
       "      <th>3</th>\n",
       "      <td>protein containing complex binding</td>\n",
       "      <td>6.20723e-01</td>\n",
       "      <td>7.26783e-01</td>\n",
       "    </tr>\n",
       "  </tbody>\n",
       "</table>\n",
       "</div>"
      ],
      "text/plain": [
       "                                                name  pearson_binom  \\\n",
       "0  retrograde vesicle mediated transport golgi to...    6.64919e-01   \n",
       "1                     proteoglycan metabolic process    6.05308e-01   \n",
       "2                        skeletal system development    6.97645e-01   \n",
       "3                 protein containing complex binding    6.20723e-01   \n",
       "\n",
       "   pearson_hypergeom  \n",
       "0        5.44662e-01  \n",
       "1        6.76302e-01  \n",
       "2        7.04474e-01  \n",
       "3        7.26783e-01  "
      ]
     },
     "execution_count": 11,
     "metadata": {},
     "output_type": "execute_result"
    }
   ],
   "source": [
    "stat "
   ]
  },
  {
   "cell_type": "markdown",
   "metadata": {},
   "source": [
    "As we can see the local implementation is nor really good correlated with the online implementation."
   ]
  },
  {
   "cell_type": "code",
   "execution_count": 12,
   "metadata": {},
   "outputs": [
    {
     "data": {
      "text/html": [
       "<div>\n",
       "<style scoped>\n",
       "    .dataframe tbody tr th:only-of-type {\n",
       "        vertical-align: middle;\n",
       "    }\n",
       "\n",
       "    .dataframe tbody tr th {\n",
       "        vertical-align: top;\n",
       "    }\n",
       "\n",
       "    .dataframe thead th {\n",
       "        text-align: right;\n",
       "    }\n",
       "</style>\n",
       "<table border=\"1\" class=\"dataframe\">\n",
       "  <thead>\n",
       "    <tr style=\"text-align: right;\">\n",
       "      <th></th>\n",
       "      <th>name</th>\n",
       "      <th>before_pp_online_size</th>\n",
       "      <th>before_pp_local_size</th>\n",
       "      <th>final_size</th>\n",
       "      <th>%_of_GO_from_online_lost</th>\n",
       "    </tr>\n",
       "  </thead>\n",
       "  <tbody>\n",
       "    <tr>\n",
       "      <th>0</th>\n",
       "      <td>[retrograde vesicle mediated transport golgi t...</td>\n",
       "      <td>19109</td>\n",
       "      <td>541</td>\n",
       "      <td>214</td>\n",
       "      <td>0.00000e+00</td>\n",
       "    </tr>\n",
       "    <tr>\n",
       "      <th>1</th>\n",
       "      <td>[proteoglycan metabolic process, chondroitin s...</td>\n",
       "      <td>19109</td>\n",
       "      <td>1880</td>\n",
       "      <td>980</td>\n",
       "      <td>0.00000e+00</td>\n",
       "    </tr>\n",
       "    <tr>\n",
       "      <th>2</th>\n",
       "      <td>[skeletal system development, cone shaped epip...</td>\n",
       "      <td>19090</td>\n",
       "      <td>1869</td>\n",
       "      <td>887</td>\n",
       "      <td>0.00000e+00</td>\n",
       "    </tr>\n",
       "    <tr>\n",
       "      <th>3</th>\n",
       "      <td>[protein containing complex binding, abnormali...</td>\n",
       "      <td>19109</td>\n",
       "      <td>2080</td>\n",
       "      <td>1025</td>\n",
       "      <td>0.00000e+00</td>\n",
       "    </tr>\n",
       "  </tbody>\n",
       "</table>\n",
       "</div>"
      ],
      "text/plain": [
       "                                                name  before_pp_online_size  \\\n",
       "0  [retrograde vesicle mediated transport golgi t...                  19109   \n",
       "1  [proteoglycan metabolic process, chondroitin s...                  19109   \n",
       "2  [skeletal system development, cone shaped epip...                  19090   \n",
       "3  [protein containing complex binding, abnormali...                  19109   \n",
       "\n",
       "   before_pp_local_size  final_size  %_of_GO_from_online_lost  \n",
       "0                   541         214               0.00000e+00  \n",
       "1                  1880         980               0.00000e+00  \n",
       "2                  1869         887               0.00000e+00  \n",
       "3                  2080        1025               0.00000e+00  "
      ]
     },
     "execution_count": 12,
     "metadata": {},
     "output_type": "execute_result"
    }
   ],
   "source": [
    "preprocess"
   ]
  },
  {
   "cell_type": "markdown",
   "metadata": {},
   "source": [
    "As we can see, the online implementation return some GO terms whoch is not in the local implementation."
   ]
  }
 ],
 "metadata": {
  "kernelspec": {
   "display_name": "Python 3.8.13 ('gpy')",
   "language": "python",
   "name": "python3"
  },
  "language_info": {
   "codemirror_mode": {
    "name": "ipython",
    "version": 3
   },
   "file_extension": ".py",
   "mimetype": "text/x-python",
   "name": "python",
   "nbconvert_exporter": "python",
   "pygments_lexer": "ipython3",
   "version": "3.8.13"
  },
  "orig_nbformat": 4,
  "vscode": {
   "interpreter": {
    "hash": "610c73e5f1997caa668091b43a573fbafba1e2b96e55fbc05d56c58d21b90949"
   }
  }
 },
 "nbformat": 4,
 "nbformat_minor": 2
}
