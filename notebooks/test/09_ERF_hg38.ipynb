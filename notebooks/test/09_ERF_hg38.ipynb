{
 "cells": [
  {
   "cell_type": "markdown",
   "metadata": {},
   "source": [
    "# Computation of annotation enrichment in a genetic set "
   ]
  },
  {
   "cell_type": "markdown",
   "metadata": {},
   "source": [
    "This code excerpt shows how to use the annotation enrichment computation function in a genetic set.\n",
    "The funciton return a dataframe of binom and hypergeometric p-value (<= 0.05) and for each p-value a fdr correction with alpha = 0.05.   "
   ]
  },
  {
   "cell_type": "markdown",
   "metadata": {},
   "source": [
    "In the second part of the code we will compare the results obtained with the Great webserver and between the binomial and hypergeometric probability"
   ]
  },
  {
   "cell_type": "code",
   "execution_count": 1,
   "metadata": {},
   "outputs": [],
   "source": [
    "%load_ext autoreload\n",
    "%autoreload 2"
   ]
  },
  {
   "cell_type": "code",
   "execution_count": 2,
   "metadata": {},
   "outputs": [],
   "source": [
    "import greatpy as great\n",
    "import pandas as pd\n",
    "from math import inf\n",
    "from numpy import log,nan, int64,cov,corrcoef\n",
    "from scipy.stats import pearsonr\n",
    "from seaborn import scatterplot as sp\n",
    "\n",
    "import warnings\n",
    "warnings.filterwarnings('ignore')"
   ]
  },
  {
   "cell_type": "code",
   "execution_count": 3,
   "metadata": {},
   "outputs": [],
   "source": [
    "test = \"../../data/test/09_ERF.bed\"\n",
    "regdom = \"../../data/human/regulatory_domain.bed\"\n",
    "great_out = \"../../data/test/09_ERF_output_great_webserver.tsv\"\n",
    "great_asso = \"../../data/test/09_ERF_gene_asso.tsv\"\n",
    "size = \"../../data/human/chr_size.bed\""
   ]
  },
  {
   "cell_type": "markdown",
   "metadata": {},
   "source": [
    "## I Compute the p-values"
   ]
  },
  {
   "cell_type": "code",
   "execution_count": 4,
   "metadata": {},
   "outputs": [
    {
     "data": {
      "text/html": [
       "<div>\n",
       "<style scoped>\n",
       "    .dataframe tbody tr th:only-of-type {\n",
       "        vertical-align: middle;\n",
       "    }\n",
       "\n",
       "    .dataframe tbody tr th {\n",
       "        vertical-align: top;\n",
       "    }\n",
       "\n",
       "    .dataframe thead th {\n",
       "        text-align: right;\n",
       "    }\n",
       "</style>\n",
       "<table border=\"1\" class=\"dataframe\">\n",
       "  <thead>\n",
       "    <tr style=\"text-align: right;\">\n",
       "      <th></th>\n",
       "      <th>go_term</th>\n",
       "      <th>binom_p_value</th>\n",
       "      <th>hypergeom_p_value</th>\n",
       "      <th>binom_bonferroni</th>\n",
       "      <th>hypergeom_bonferroni</th>\n",
       "      <th>binom_fdr</th>\n",
       "      <th>hypergeom_fdr</th>\n",
       "    </tr>\n",
       "  </thead>\n",
       "  <tbody>\n",
       "    <tr>\n",
       "      <th>GO:0003723</th>\n",
       "      <td>RNA binding</td>\n",
       "      <td>1.40552e-33</td>\n",
       "      <td>1.99000e-305</td>\n",
       "      <td>9.82739e-30</td>\n",
       "      <td>1.39141e-301</td>\n",
       "      <td>9.82739e-30</td>\n",
       "      <td>1.99028e-305</td>\n",
       "    </tr>\n",
       "    <tr>\n",
       "      <th>GO:0005730</th>\n",
       "      <td>nucleolus</td>\n",
       "      <td>6.69487e-22</td>\n",
       "      <td>1.01000e-305</td>\n",
       "      <td>4.68105e-18</td>\n",
       "      <td>7.06192e-302</td>\n",
       "      <td>2.25885e-18</td>\n",
       "      <td>1.01421e-305</td>\n",
       "    </tr>\n",
       "    <tr>\n",
       "      <th>GO:0005654</th>\n",
       "      <td>nucleoplasm</td>\n",
       "      <td>9.69187e-22</td>\n",
       "      <td>1.79000e-305</td>\n",
       "      <td>6.77656e-18</td>\n",
       "      <td>1.25157e-301</td>\n",
       "      <td>2.25885e-18</td>\n",
       "      <td>1.79231e-305</td>\n",
       "    </tr>\n",
       "    <tr>\n",
       "      <th>GO:0006413</th>\n",
       "      <td>translational initiation</td>\n",
       "      <td>1.76955e-18</td>\n",
       "      <td>1.73000e-306</td>\n",
       "      <td>1.23727e-14</td>\n",
       "      <td>1.20962e-302</td>\n",
       "      <td>3.09317e-15</td>\n",
       "      <td>1.78752e-306</td>\n",
       "    </tr>\n",
       "    <tr>\n",
       "      <th>GO:0005634</th>\n",
       "      <td>nucleus</td>\n",
       "      <td>5.94872e-17</td>\n",
       "      <td>1.55600e-305</td>\n",
       "      <td>4.15935e-13</td>\n",
       "      <td>1.08796e-301</td>\n",
       "      <td>8.31870e-14</td>\n",
       "      <td>1.55935e-305</td>\n",
       "    </tr>\n",
       "    <tr>\n",
       "      <th>...</th>\n",
       "      <td>...</td>\n",
       "      <td>...</td>\n",
       "      <td>...</td>\n",
       "      <td>...</td>\n",
       "      <td>...</td>\n",
       "      <td>...</td>\n",
       "      <td>...</td>\n",
       "    </tr>\n",
       "    <tr>\n",
       "      <th>GO:0031119</th>\n",
       "      <td>tRNA pseudouridine synthesis</td>\n",
       "      <td>1</td>\n",
       "      <td>6.00000e-308</td>\n",
       "      <td>1</td>\n",
       "      <td>4.19520e-304</td>\n",
       "      <td>1.00000e+00</td>\n",
       "      <td>1.69640e-307</td>\n",
       "    </tr>\n",
       "    <tr>\n",
       "      <th>GO:0021930</th>\n",
       "      <td>cerebellar granule cell precursor proliferation</td>\n",
       "      <td>1</td>\n",
       "      <td>6.00000e-308</td>\n",
       "      <td>1</td>\n",
       "      <td>4.19520e-304</td>\n",
       "      <td>1.00000e+00</td>\n",
       "      <td>1.69640e-307</td>\n",
       "    </tr>\n",
       "    <tr>\n",
       "      <th>GO:0106029</th>\n",
       "      <td>tRNA pseudouridine synthase activity</td>\n",
       "      <td>1</td>\n",
       "      <td>3.00000e-308</td>\n",
       "      <td>1</td>\n",
       "      <td>2.09760e-304</td>\n",
       "      <td>1.00000e+00</td>\n",
       "      <td>1.44066e-307</td>\n",
       "    </tr>\n",
       "    <tr>\n",
       "      <th>GO:0010524</th>\n",
       "      <td>positive regulation of calcium ion transport i...</td>\n",
       "      <td>1</td>\n",
       "      <td>1.40000e-307</td>\n",
       "      <td>1</td>\n",
       "      <td>9.78880e-304</td>\n",
       "      <td>1.00000e+00</td>\n",
       "      <td>2.36559e-307</td>\n",
       "    </tr>\n",
       "    <tr>\n",
       "      <th>GO:2000820</th>\n",
       "      <td>negative regulation of transcription from RNA ...</td>\n",
       "      <td>1</td>\n",
       "      <td>3.00000e-308</td>\n",
       "      <td>1</td>\n",
       "      <td>2.09760e-304</td>\n",
       "      <td>1.00000e+00</td>\n",
       "      <td>1.44066e-307</td>\n",
       "    </tr>\n",
       "  </tbody>\n",
       "</table>\n",
       "<p>6992 rows × 7 columns</p>\n",
       "</div>"
      ],
      "text/plain": [
       "                                                      go_term binom_p_value  \\\n",
       "GO:0003723                                        RNA binding   1.40552e-33   \n",
       "GO:0005730                                          nucleolus   6.69487e-22   \n",
       "GO:0005654                                        nucleoplasm   9.69187e-22   \n",
       "GO:0006413                           translational initiation   1.76955e-18   \n",
       "GO:0005634                                            nucleus   5.94872e-17   \n",
       "...                                                       ...           ...   \n",
       "GO:0031119                       tRNA pseudouridine synthesis             1   \n",
       "GO:0021930    cerebellar granule cell precursor proliferation             1   \n",
       "GO:0106029               tRNA pseudouridine synthase activity             1   \n",
       "GO:0010524  positive regulation of calcium ion transport i...             1   \n",
       "GO:2000820  negative regulation of transcription from RNA ...             1   \n",
       "\n",
       "           hypergeom_p_value binom_bonferroni hypergeom_bonferroni  \\\n",
       "GO:0003723      1.99000e-305      9.82739e-30         1.39141e-301   \n",
       "GO:0005730      1.01000e-305      4.68105e-18         7.06192e-302   \n",
       "GO:0005654      1.79000e-305      6.77656e-18         1.25157e-301   \n",
       "GO:0006413      1.73000e-306      1.23727e-14         1.20962e-302   \n",
       "GO:0005634      1.55600e-305      4.15935e-13         1.08796e-301   \n",
       "...                      ...              ...                  ...   \n",
       "GO:0031119      6.00000e-308                1         4.19520e-304   \n",
       "GO:0021930      6.00000e-308                1         4.19520e-304   \n",
       "GO:0106029      3.00000e-308                1         2.09760e-304   \n",
       "GO:0010524      1.40000e-307                1         9.78880e-304   \n",
       "GO:2000820      3.00000e-308                1         2.09760e-304   \n",
       "\n",
       "              binom_fdr hypergeom_fdr  \n",
       "GO:0003723  9.82739e-30  1.99028e-305  \n",
       "GO:0005730  2.25885e-18  1.01421e-305  \n",
       "GO:0005654  2.25885e-18  1.79231e-305  \n",
       "GO:0006413  3.09317e-15  1.78752e-306  \n",
       "GO:0005634  8.31870e-14  1.55935e-305  \n",
       "...                 ...           ...  \n",
       "GO:0031119  1.00000e+00  1.69640e-307  \n",
       "GO:0021930  1.00000e+00  1.69640e-307  \n",
       "GO:0106029  1.00000e+00  1.44066e-307  \n",
       "GO:0010524  1.00000e+00  2.36559e-307  \n",
       "GO:2000820  1.00000e+00  1.44066e-307  \n",
       "\n",
       "[6992 rows x 7 columns]"
      ]
     },
     "execution_count": 4,
     "metadata": {},
     "output_type": "execute_result"
    }
   ],
   "source": [
    "enrichment_tot = great.tl.GREAT.enrichment(\n",
    "    test_file=test,\n",
    "    regdom_file=regdom,\n",
    "    chr_size_file=size,\n",
    "    annotation_file=\"../../data/human/ontologies.csv\",\n",
    "    binom=True,\n",
    "    hypergeom=True,\n",
    "    )\n",
    "great.tl.GREAT.set_bonferroni(enrichment_tot,0.05)\n",
    "great.tl.GREAT.set_fdr(enrichment_tot,0.05)"
   ]
  },
  {
   "cell_type": "markdown",
   "metadata": {},
   "source": [
    "## II Compare to GREAT webserver  "
   ]
  },
  {
   "cell_type": "markdown",
   "metadata": {},
   "source": [
    "### II.1 Import the data"
   ]
  },
  {
   "cell_type": "code",
   "execution_count": 5,
   "metadata": {},
   "outputs": [],
   "source": [
    "great_webserver = pd.read_csv(great_out,sep=\"\\t\",comment=\"#\",\n",
    "                    names=[\"ontologie\",\"term_name\",\"ID\",\"binom_p_value\",\"binom_bonferroni\",\"binom_fdr\",\"hyper_p_value\",\"hyper_bonferroni\",\"hyper_fdr\"],index_col=False,\n",
    "                    dtype={\"term_name\":\"object\", \"ID\":\"object\",\"binom_p_value\":\"float64\", \"binom_bonferroni\":\"float64\", \"binom_fdr\":\"float64\", \"hyper_p_value\":\"float64\", \"hyper_bonferroni\":\"float64\", \"hyper_fdr\":\"float64\"})\n",
    "great_webserver.rename(columns={\"ID\":\"id\"},inplace=True)\n",
    "del great_webserver[\"ontologie\"]\n",
    "del great_webserver[\"term_name\"]"
   ]
  },
  {
   "cell_type": "code",
   "execution_count": 6,
   "metadata": {},
   "outputs": [
    {
     "data": {
      "text/html": [
       "<div>\n",
       "<style scoped>\n",
       "    .dataframe tbody tr th:only-of-type {\n",
       "        vertical-align: middle;\n",
       "    }\n",
       "\n",
       "    .dataframe tbody tr th {\n",
       "        vertical-align: top;\n",
       "    }\n",
       "\n",
       "    .dataframe thead th {\n",
       "        text-align: right;\n",
       "    }\n",
       "</style>\n",
       "<table border=\"1\" class=\"dataframe\">\n",
       "  <thead>\n",
       "    <tr style=\"text-align: right;\">\n",
       "      <th></th>\n",
       "      <th>id</th>\n",
       "      <th>binom_p_value</th>\n",
       "      <th>binom_bonferroni</th>\n",
       "      <th>binom_fdr</th>\n",
       "      <th>hyper_p_value</th>\n",
       "      <th>hyper_bonferroni</th>\n",
       "      <th>hyper_fdr</th>\n",
       "    </tr>\n",
       "  </thead>\n",
       "  <tbody>\n",
       "    <tr>\n",
       "      <th>0</th>\n",
       "      <td>GO:0022613</td>\n",
       "      <td>2.80351e-22</td>\n",
       "      <td>3.68913e-18</td>\n",
       "      <td>3.68913e-18</td>\n",
       "      <td>4.67968e-21</td>\n",
       "      <td>6.15799e-17</td>\n",
       "      <td>4.39857e-18</td>\n",
       "    </tr>\n",
       "    <tr>\n",
       "      <th>1</th>\n",
       "      <td>GO:0042254</td>\n",
       "      <td>2.30698e-20</td>\n",
       "      <td>3.03575e-16</td>\n",
       "      <td>1.51788e-16</td>\n",
       "      <td>2.83992e-17</td>\n",
       "      <td>3.73704e-13</td>\n",
       "      <td>2.07614e-14</td>\n",
       "    </tr>\n",
       "    <tr>\n",
       "      <th>2</th>\n",
       "      <td>GO:0006396</td>\n",
       "      <td>4.01783e-20</td>\n",
       "      <td>5.28707e-16</td>\n",
       "      <td>1.76236e-16</td>\n",
       "      <td>4.20482e-21</td>\n",
       "      <td>5.53312e-17</td>\n",
       "      <td>4.25625e-18</td>\n",
       "    </tr>\n",
       "    <tr>\n",
       "      <th>3</th>\n",
       "      <td>GO:0034470</td>\n",
       "      <td>8.42581e-18</td>\n",
       "      <td>1.10875e-13</td>\n",
       "      <td>2.77188e-14</td>\n",
       "      <td>8.57292e-14</td>\n",
       "      <td>1.12811e-09</td>\n",
       "      <td>4.02897e-11</td>\n",
       "    </tr>\n",
       "    <tr>\n",
       "      <th>4</th>\n",
       "      <td>GO:0034660</td>\n",
       "      <td>3.13860e-17</td>\n",
       "      <td>4.13009e-13</td>\n",
       "      <td>8.26017e-14</td>\n",
       "      <td>9.05496e-13</td>\n",
       "      <td>1.19154e-08</td>\n",
       "      <td>3.61073e-10</td>\n",
       "    </tr>\n",
       "    <tr>\n",
       "      <th>...</th>\n",
       "      <td>...</td>\n",
       "      <td>...</td>\n",
       "      <td>...</td>\n",
       "      <td>...</td>\n",
       "      <td>...</td>\n",
       "      <td>...</td>\n",
       "      <td>...</td>\n",
       "    </tr>\n",
       "    <tr>\n",
       "      <th>437</th>\n",
       "      <td>GO:0034593</td>\n",
       "      <td>4.06918e-02</td>\n",
       "      <td>1.00000e+00</td>\n",
       "      <td>1.00000e+00</td>\n",
       "      <td>1.66739e-02</td>\n",
       "      <td>1.00000e+00</td>\n",
       "      <td>7.99971e-01</td>\n",
       "    </tr>\n",
       "    <tr>\n",
       "      <th>438</th>\n",
       "      <td>GO:0016859</td>\n",
       "      <td>4.12249e-02</td>\n",
       "      <td>1.00000e+00</td>\n",
       "      <td>1.00000e+00</td>\n",
       "      <td>6.52854e-03</td>\n",
       "      <td>1.00000e+00</td>\n",
       "      <td>4.92205e-01</td>\n",
       "    </tr>\n",
       "    <tr>\n",
       "      <th>439</th>\n",
       "      <td>GO:0004550</td>\n",
       "      <td>4.24935e-02</td>\n",
       "      <td>1.00000e+00</td>\n",
       "      <td>1.00000e+00</td>\n",
       "      <td>3.99312e-02</td>\n",
       "      <td>1.00000e+00</td>\n",
       "      <td>1.00000e+00</td>\n",
       "    </tr>\n",
       "    <tr>\n",
       "      <th>440</th>\n",
       "      <td>GO:1901611</td>\n",
       "      <td>4.36947e-02</td>\n",
       "      <td>1.00000e+00</td>\n",
       "      <td>1.00000e+00</td>\n",
       "      <td>4.99482e-02</td>\n",
       "      <td>1.00000e+00</td>\n",
       "      <td>1.00000e+00</td>\n",
       "    </tr>\n",
       "    <tr>\n",
       "      <th>441</th>\n",
       "      <td>GO:0035325</td>\n",
       "      <td>4.54937e-02</td>\n",
       "      <td>1.00000e+00</td>\n",
       "      <td>1.00000e+00</td>\n",
       "      <td>3.85309e-02</td>\n",
       "      <td>1.00000e+00</td>\n",
       "      <td>1.00000e+00</td>\n",
       "    </tr>\n",
       "  </tbody>\n",
       "</table>\n",
       "<p>442 rows × 7 columns</p>\n",
       "</div>"
      ],
      "text/plain": [
       "             id  binom_p_value  binom_bonferroni    binom_fdr  hyper_p_value  \\\n",
       "0    GO:0022613    2.80351e-22       3.68913e-18  3.68913e-18    4.67968e-21   \n",
       "1    GO:0042254    2.30698e-20       3.03575e-16  1.51788e-16    2.83992e-17   \n",
       "2    GO:0006396    4.01783e-20       5.28707e-16  1.76236e-16    4.20482e-21   \n",
       "3    GO:0034470    8.42581e-18       1.10875e-13  2.77188e-14    8.57292e-14   \n",
       "4    GO:0034660    3.13860e-17       4.13009e-13  8.26017e-14    9.05496e-13   \n",
       "..          ...            ...               ...          ...            ...   \n",
       "437  GO:0034593    4.06918e-02       1.00000e+00  1.00000e+00    1.66739e-02   \n",
       "438  GO:0016859    4.12249e-02       1.00000e+00  1.00000e+00    6.52854e-03   \n",
       "439  GO:0004550    4.24935e-02       1.00000e+00  1.00000e+00    3.99312e-02   \n",
       "440  GO:1901611    4.36947e-02       1.00000e+00  1.00000e+00    4.99482e-02   \n",
       "441  GO:0035325    4.54937e-02       1.00000e+00  1.00000e+00    3.85309e-02   \n",
       "\n",
       "     hyper_bonferroni    hyper_fdr  \n",
       "0         6.15799e-17  4.39857e-18  \n",
       "1         3.73704e-13  2.07614e-14  \n",
       "2         5.53312e-17  4.25625e-18  \n",
       "3         1.12811e-09  4.02897e-11  \n",
       "4         1.19154e-08  3.61073e-10  \n",
       "..                ...          ...  \n",
       "437       1.00000e+00  7.99971e-01  \n",
       "438       1.00000e+00  4.92205e-01  \n",
       "439       1.00000e+00  1.00000e+00  \n",
       "440       1.00000e+00  1.00000e+00  \n",
       "441       1.00000e+00  1.00000e+00  \n",
       "\n",
       "[442 rows x 7 columns]"
      ]
     },
     "execution_count": 6,
     "metadata": {},
     "output_type": "execute_result"
    }
   ],
   "source": [
    "great_webserver"
   ]
  },
  {
   "cell_type": "markdown",
   "metadata": {},
   "source": [
    "### II.2 Compare the results between greatpy and great "
   ]
  },
  {
   "cell_type": "markdown",
   "metadata": {},
   "source": [
    "#### II.2.1 Preprocessing"
   ]
  },
  {
   "cell_type": "code",
   "execution_count": 7,
   "metadata": {},
   "outputs": [],
   "source": [
    "before_pp = enrichment_tot.shape[0]\n",
    "enrichment_tot = enrichment_tot[enrichment_tot.index.isin(list(great_webserver[\"id\"]))]\n",
    "after_pp = enrichment_tot.shape[0]"
   ]
  },
  {
   "cell_type": "code",
   "execution_count": 8,
   "metadata": {},
   "outputs": [],
   "source": [
    "great_webserver = great_webserver[great_webserver[\"id\"].isin(list(enrichment_tot.index))]\n",
    "great_webserver = great_webserver.sort_values(\"id\")"
   ]
  },
  {
   "cell_type": "code",
   "execution_count": 9,
   "metadata": {},
   "outputs": [],
   "source": [
    "binom_greatpy = hyper_greatpy = binom_great = hyper_great = []\n",
    "for i in range(enrichment_tot.shape[0]) : \n",
    "    go_id = list(enrichment_tot.index)[i]\n",
    "    curr_enrichment = enrichment_tot.iloc[i]\n",
    "    curr_great_webserver = great_webserver.loc[great_webserver[\"id\"]==go_id]\n",
    "    binom_greatpy.append(float(curr_enrichment[\"binom_p_value\"]))\n",
    "    hyper_greatpy.append(float(curr_enrichment[\"hypergeom_p_value\"]))\n",
    "    binom_great.append(float(curr_great_webserver[\"binom_p_value\"]))\n",
    "    hyper_great.append(float(curr_great_webserver[\"hyper_p_value\"]))\n",
    "binom = pd.DataFrame({\"binom_greatpy\":binom_greatpy,\"binom_great\":binom_great})\n",
    "hyper = pd.DataFrame({\"hyper_greatpy\":hyper_greatpy,\"hyper_great\":hyper_great})"
   ]
  },
  {
   "cell_type": "markdown",
   "metadata": {},
   "source": [
    "#### II.2.b Graphical"
   ]
  },
  {
   "cell_type": "code",
   "execution_count": 10,
   "metadata": {},
   "outputs": [
    {
     "data": {
      "image/png": "[encoded data removed]",
      "text/plain": [
       "<Figure size 432x288 with 1 Axes>"
      ]
     },
     "metadata": {
      "needs_background": "light"
     },
     "output_type": "display_data"
    }
   ],
   "source": [
    "pl=great.pl.scatterplot(binom,colname_x=\"binom_greatpy\",colname_y=\"binom_great\")"
   ]
  },
  {
   "cell_type": "code",
   "execution_count": 11,
   "metadata": {},
   "outputs": [
    {
     "data": {
      "image/png": "[encoded data removed]",
      "text/plain": [
       "<Figure size 432x288 with 1 Axes>"
      ]
     },
     "metadata": {
      "needs_background": "light"
     },
     "output_type": "display_data"
    }
   ],
   "source": [
    "great.pl.scatterplot(hyper,colname_x=\"hyper_greatpy\",colname_y=\"hyper_great\")"
   ]
  },
  {
   "cell_type": "markdown",
   "metadata": {},
   "source": [
    "#### II.2.c Statistics"
   ]
  },
  {
   "cell_type": "code",
   "execution_count": 12,
   "metadata": {},
   "outputs": [],
   "source": [
    "def stat(binom_great_list_list, hyper_great_listpy_list,binom_great_list,hyper_great_list) : \n",
    "    if len(binom_great_list_list) >= 2 and len(hyper_great_listpy_list) >= 2 and len(binom_great_list) >= 2  and len(hyper_great_list) >= 2 : \n",
    "        return pd.DataFrame({\n",
    "            \"binom\": [cov(m = binom_great_list_list, y = binom_great_list)[0][1],pearsonr(binom_great_list_list,binom_great_list)[0]],\n",
    "            \"hyper\":[cov(m = hyper_great_listpy_list, y = hyper_great_list)[0][1],pearsonr(hyper_great_listpy_list,hyper_great_list)[0]]},\n",
    "            index=[\"correlation_coefficient\",\"pearson\"])\n",
    "    return False"
   ]
  },
  {
   "cell_type": "markdown",
   "metadata": {},
   "source": [
    "Issue is : NaN in hyper_fdr"
   ]
  },
  {
   "cell_type": "code",
   "execution_count": 13,
   "metadata": {},
   "outputs": [],
   "source": [
    "# stat(binom_greatpy, hyper_greatpy,binom_great,hyper_great)"
   ]
  },
  {
   "cell_type": "code",
   "execution_count": 14,
   "metadata": {},
   "outputs": [
    {
     "name": "stdout",
     "output_type": "stream",
     "text": [
      "6992\n",
      "275\n"
     ]
    }
   ],
   "source": [
    "print(before_pp)\n",
    "print(after_pp)"
   ]
  },
  {
   "cell_type": "markdown",
   "metadata": {},
   "source": [
    "We went from 268 ontology terms in greatpy output to 92 ontology terms by selecting the GO identifiers present in both greatpy and great "
   ]
  },
  {
   "cell_type": "markdown",
   "metadata": {},
   "source": [
    "But when two ontology terms are selected they have the same binomial and hypergeometric probability value "
   ]
  },
  {
   "cell_type": "markdown",
   "metadata": {},
   "source": [
    "# How many associations are good or bad "
   ]
  },
  {
   "cell_type": "code",
   "execution_count": 15,
   "metadata": {},
   "outputs": [
    {
     "ename": "AttributeError",
     "evalue": "module 'greatpy.tl' has no attribute 'get_association'",
     "output_type": "error",
     "traceback": [
      "\u001b[0;31m---------------------------------------------------------------------------\u001b[0m",
      "\u001b[0;31mAttributeError\u001b[0m                            Traceback (most recent call last)",
      "\u001b[1;32m/home/icb/tom.mauger-birocheau/internship/greatpy/notebooks/test/09_ERF_hg38.ipynb Cell 29'\u001b[0m in \u001b[0;36m<cell line: 2>\u001b[0;34m()\u001b[0m\n\u001b[1;32m      <a href='vscode-notebook-cell://ssh-remote%2Bicb-lisa/home/icb/tom.mauger-birocheau/internship/greatpy/notebooks/test/09_ERF_hg38.ipynb#ch0000028vscode-remote?line=0'>1</a>\u001b[0m gene_asso_great \u001b[39m=\u001b[39m pd\u001b[39m.\u001b[39mread_csv(great_asso,sep\u001b[39m=\u001b[39m\u001b[39m\"\u001b[39m\u001b[39m\\t\u001b[39;00m\u001b[39m\"\u001b[39m,comment\u001b[39m=\u001b[39m\u001b[39m\"\u001b[39m\u001b[39m#\u001b[39m\u001b[39m\"\u001b[39m,names\u001b[39m=\u001b[39m[\u001b[39m\"\u001b[39m\u001b[39montologies\u001b[39m\u001b[39m\"\u001b[39m,\u001b[39m\"\u001b[39m\u001b[39mgene\u001b[39m\u001b[39m\"\u001b[39m],index_col\u001b[39m=\u001b[39m\u001b[39mFalse\u001b[39;00m, dtype\u001b[39m=\u001b[39m{\u001b[39m\"\u001b[39m\u001b[39montologies\u001b[39m\u001b[39m\"\u001b[39m:\u001b[39m\"\u001b[39m\u001b[39mobject\u001b[39m\u001b[39m\"\u001b[39m,\u001b[39m\"\u001b[39m\u001b[39mgene\u001b[39m\u001b[39m\"\u001b[39m:\u001b[39m\"\u001b[39m\u001b[39mobject\u001b[39m\u001b[39m\"\u001b[39m},usecols\u001b[39m=\u001b[39m[\u001b[39m\"\u001b[39m\u001b[39mgene\u001b[39m\u001b[39m\"\u001b[39m])\n\u001b[0;32m----> <a href='vscode-notebook-cell://ssh-remote%2Bicb-lisa/home/icb/tom.mauger-birocheau/internship/greatpy/notebooks/test/09_ERF_hg38.ipynb#ch0000028vscode-remote?line=1'>2</a>\u001b[0m gene_asso_greatpy \u001b[39m=\u001b[39m great\u001b[39m.\u001b[39;49mtl\u001b[39m.\u001b[39;49mget_association(\n\u001b[1;32m      <a href='vscode-notebook-cell://ssh-remote%2Bicb-lisa/home/icb/tom.mauger-birocheau/internship/greatpy/notebooks/test/09_ERF_hg38.ipynb#ch0000028vscode-remote?line=2'>3</a>\u001b[0m     test \u001b[39m=\u001b[39m pd\u001b[39m.\u001b[39mread_csv(test,sep\u001b[39m=\u001b[39m\u001b[39m\"\u001b[39m\u001b[39m\\t\u001b[39;00m\u001b[39m\"\u001b[39m,comment\u001b[39m=\u001b[39m\u001b[39m\"\u001b[39m\u001b[39m#\u001b[39m\u001b[39m\"\u001b[39m,usecols\u001b[39m=\u001b[39m[\u001b[39m0\u001b[39m,\u001b[39m1\u001b[39m,\u001b[39m2\u001b[39m],names\u001b[39m=\u001b[39m[\u001b[39m\"\u001b[39m\u001b[39mChr\u001b[39m\u001b[39m\"\u001b[39m, \u001b[39m\"\u001b[39m\u001b[39mChr_Start\u001b[39m\u001b[39m\"\u001b[39m, \u001b[39m\"\u001b[39m\u001b[39mChr_End\u001b[39m\u001b[39m\"\u001b[39m],dtype\u001b[39m=\u001b[39m{\u001b[39m\"\u001b[39m\u001b[39mChr\u001b[39m\u001b[39m\"\u001b[39m:\u001b[39m\"\u001b[39m\u001b[39mobject\u001b[39m\u001b[39m\"\u001b[39m, \u001b[39m\"\u001b[39m\u001b[39mChr_Start\u001b[39m\u001b[39m\"\u001b[39m:\u001b[39m\"\u001b[39m\u001b[39mint64\u001b[39m\u001b[39m\"\u001b[39m, \u001b[39m\"\u001b[39m\u001b[39mChr_End\u001b[39m\u001b[39m\"\u001b[39m:\u001b[39m\"\u001b[39m\u001b[39mint64\u001b[39m\u001b[39m\"\u001b[39m}),\n\u001b[1;32m      <a href='vscode-notebook-cell://ssh-remote%2Bicb-lisa/home/icb/tom.mauger-birocheau/internship/greatpy/notebooks/test/09_ERF_hg38.ipynb#ch0000028vscode-remote?line=3'>4</a>\u001b[0m     regdom\u001b[39m=\u001b[39m pd\u001b[39m.\u001b[39mread_csv(regdom,sep\u001b[39m=\u001b[39m\u001b[39m\"\u001b[39m\u001b[39m\\t\u001b[39;00m\u001b[39m\"\u001b[39m,comment\u001b[39m=\u001b[39m\u001b[39m\"\u001b[39m\u001b[39m#\u001b[39m\u001b[39m\"\u001b[39m,names\u001b[39m=\u001b[39m[\u001b[39m\"\u001b[39m\u001b[39mChr\u001b[39m\u001b[39m\"\u001b[39m, \u001b[39m\"\u001b[39m\u001b[39mChr_Start\u001b[39m\u001b[39m\"\u001b[39m, \u001b[39m\"\u001b[39m\u001b[39mChr_End\u001b[39m\u001b[39m\"\u001b[39m,\u001b[39m\"\u001b[39m\u001b[39mName\u001b[39m\u001b[39m\"\u001b[39m,\u001b[39m\"\u001b[39m\u001b[39mtss\u001b[39m\u001b[39m\"\u001b[39m,\u001b[39m\"\u001b[39m\u001b[39mStrand\u001b[39m\u001b[39m\"\u001b[39m],dtype\u001b[39m=\u001b[39m{\u001b[39m\"\u001b[39m\u001b[39mChr\u001b[39m\u001b[39m\"\u001b[39m:\u001b[39m\"\u001b[39m\u001b[39mobject\u001b[39m\u001b[39m\"\u001b[39m, \u001b[39m\"\u001b[39m\u001b[39mChr_Start\u001b[39m\u001b[39m\"\u001b[39m:\u001b[39m\"\u001b[39m\u001b[39mint64\u001b[39m\u001b[39m\"\u001b[39m, \u001b[39m\"\u001b[39m\u001b[39mChr_End\u001b[39m\u001b[39m\"\u001b[39m:\u001b[39m\"\u001b[39m\u001b[39mint64\u001b[39m\u001b[39m\"\u001b[39m,\u001b[39m\"\u001b[39m\u001b[39mName\u001b[39m\u001b[39m\"\u001b[39m:\u001b[39m\"\u001b[39m\u001b[39mobject\u001b[39m\u001b[39m\"\u001b[39m,\u001b[39m\"\u001b[39m\u001b[39mtss\u001b[39m\u001b[39m\"\u001b[39m:\u001b[39m\"\u001b[39m\u001b[39mint64\u001b[39m\u001b[39m\"\u001b[39m,\u001b[39m\"\u001b[39m\u001b[39mStrand\u001b[39m\u001b[39m\"\u001b[39m:\u001b[39m\"\u001b[39m\u001b[39mobject\u001b[39m\u001b[39m\"\u001b[39m}))\n\u001b[1;32m      <a href='vscode-notebook-cell://ssh-remote%2Bicb-lisa/home/icb/tom.mauger-birocheau/internship/greatpy/notebooks/test/09_ERF_hg38.ipynb#ch0000028vscode-remote?line=4'>5</a>\u001b[0m in_in \u001b[39m=\u001b[39m gene_asso_great[gene_asso_great[\u001b[39m\"\u001b[39m\u001b[39mgene\u001b[39m\u001b[39m\"\u001b[39m]\u001b[39m.\u001b[39misin(gene_asso_greatpy)]\u001b[39m.\u001b[39mshape[\u001b[39m0\u001b[39m]\n\u001b[1;32m      <a href='vscode-notebook-cell://ssh-remote%2Bicb-lisa/home/icb/tom.mauger-birocheau/internship/greatpy/notebooks/test/09_ERF_hg38.ipynb#ch0000028vscode-remote?line=5'>6</a>\u001b[0m in_out \u001b[39m=\u001b[39m [i \u001b[39mfor\u001b[39;00m i \u001b[39min\u001b[39;00m \u001b[39mlist\u001b[39m(gene_asso_great[\u001b[39m\"\u001b[39m\u001b[39mgene\u001b[39m\u001b[39m\"\u001b[39m]) \u001b[39mif\u001b[39;00m i \u001b[39mnot\u001b[39;00m \u001b[39min\u001b[39;00m gene_asso_greatpy]\n",
      "\u001b[0;31mAttributeError\u001b[0m: module 'greatpy.tl' has no attribute 'get_association'"
     ]
    }
   ],
   "source": [
    "gene_asso_great = pd.read_csv(great_asso,sep=\"\\t\",comment=\"#\",names=[\"ontologies\",\"gene\"],index_col=False, dtype={\"ontologies\":\"object\",\"gene\":\"object\"},usecols=[\"gene\"])\n",
    "gene_asso_greatpy = great.tl.get_association(\n",
    "    test = pd.read_csv(test,sep=\"\\t\",comment=\"#\",usecols=[0,1,2],names=[\"Chr\", \"Chr_Start\", \"Chr_End\"],dtype={\"Chr\":\"object\", \"Chr_Start\":\"int64\", \"Chr_End\":\"int64\"}),\n",
    "    regdom= pd.read_csv(regdom,sep=\"\\t\",comment=\"#\",names=[\"Chr\", \"Chr_Start\", \"Chr_End\",\"Name\",\"tss\",\"Strand\"],dtype={\"Chr\":\"object\", \"Chr_Start\":\"int64\", \"Chr_End\":\"int64\",\"Name\":\"object\",\"tss\":\"int64\",\"Strand\":\"object\"}))\n",
    "in_in = gene_asso_great[gene_asso_great[\"gene\"].isin(gene_asso_greatpy)].shape[0]\n",
    "in_out = [i for i in list(gene_asso_great[\"gene\"]) if i not in gene_asso_greatpy]\n",
    "out_in = [i for i in gene_asso_greatpy if i not in list(gene_asso_great[\"gene\"])]\n",
    "\n",
    "print(f\"Number of gene association present in greatpy and great : {in_in}\")\n",
    "print(f\"Number of gene association prensent in great and not in greatpy {len(in_out)}\")\n",
    "print(f\"Number of gene association prensent in greatpy and not in great {len(out_in)}\")"
   ]
  }
 ],
 "metadata": {
  "kernelspec": {
   "display_name": "Python 3.9.12 ('base')",
   "language": "python",
   "name": "python3"
  },
  "language_info": {
   "codemirror_mode": {
    "name": "ipython",
    "version": 3
   },
   "file_extension": ".py",
   "mimetype": "text/x-python",
   "name": "python",
   "nbconvert_exporter": "python",
   "pygments_lexer": "ipython3",
   "version": "3.9.12"
  },
  "orig_nbformat": 4,
  "vscode": {
   "interpreter": {
    "hash": "dd3aa23b046397ccf7f1ffb7cb82646c26b15f0b12555a0fca8fb427d9fb147f"
   }
  }
 },
 "nbformat": 4,
 "nbformat_minor": 2
}
