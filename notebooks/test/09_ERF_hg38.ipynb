{
 "cells": [
  {
   "cell_type": "markdown",
   "metadata": {},
   "source": [
    "# Computation of annotation enrichment in a genetic set "
   ]
  },
  {
   "cell_type": "markdown",
   "metadata": {},
   "source": [
    "This code excerpt shows how to use the annotation enrichment computation function in a genetic set.\n",
    "The funciton return a dataframe of binom and hypergeometric p-value (<= 0.05) and for each p-value a fdr correction with alpha = 0.05.   "
   ]
  },
  {
   "cell_type": "markdown",
   "metadata": {},
   "source": [
    "In the second part of the code we will compare the results obtained with the Great webserver and between the binomial and hypergeometric probability"
   ]
  },
  {
   "cell_type": "code",
   "execution_count": 1,
   "metadata": {},
   "outputs": [],
   "source": [
    "%load_ext autoreload\n",
    "%autoreload 2"
   ]
  },
  {
   "cell_type": "code",
   "execution_count": 2,
   "metadata": {},
   "outputs": [],
   "source": [
    "import greatpy as great\n",
    "import pandas as pd\n",
    "from math import inf\n",
    "from numpy import log,nan, int64,cov,corrcoef\n",
    "from scipy.stats import pearsonr\n",
    "from seaborn import scatterplot as sp\n",
    "\n",
    "import warnings\n",
    "warnings.filterwarnings('ignore')"
   ]
  },
  {
   "cell_type": "code",
   "execution_count": 3,
   "metadata": {},
   "outputs": [],
   "source": [
    "test = \"../../data/test/09_ERF.bed\"\n",
    "regdom = \"../../data/human/regulatory_domain.bed\"\n",
    "great_out = \"../../data/test/09_ERF_output_great_webserver.tsv\"\n",
    "great_asso = \"../../data/test/09_ERF_gene_asso.tsv\"\n",
    "size = \"../../data/human/chr_size.bed\""
   ]
  },
  {
   "cell_type": "markdown",
   "metadata": {},
   "source": [
    "## I Compute the p-values"
   ]
  },
  {
   "cell_type": "code",
   "execution_count": 4,
   "metadata": {},
   "outputs": [
    {
     "data": {
      "text/html": [
       "<div>\n",
       "<style scoped>\n",
       "    .dataframe tbody tr th:only-of-type {\n",
       "        vertical-align: middle;\n",
       "    }\n",
       "\n",
       "    .dataframe tbody tr th {\n",
       "        vertical-align: top;\n",
       "    }\n",
       "\n",
       "    .dataframe thead th {\n",
       "        text-align: right;\n",
       "    }\n",
       "</style>\n",
       "<table border=\"1\" class=\"dataframe\">\n",
       "  <thead>\n",
       "    <tr style=\"text-align: right;\">\n",
       "      <th></th>\n",
       "      <th>go_term</th>\n",
       "      <th>binom_p_value</th>\n",
       "      <th>hypergeom_p_value</th>\n",
       "      <th>binom_bonferroni</th>\n",
       "      <th>hypergeom_bonferroni</th>\n",
       "      <th>binom_fdr</th>\n",
       "      <th>hypergeom_fdr</th>\n",
       "    </tr>\n",
       "  </thead>\n",
       "  <tbody>\n",
       "    <tr>\n",
       "      <th>GO:0010909</th>\n",
       "      <td>positive regulation of heparan sulfate proteog...</td>\n",
       "      <td>2.10494e-11</td>\n",
       "      <td>3.00000e-308</td>\n",
       "      <td>4.38670e-08</td>\n",
       "      <td>6.25200e-305</td>\n",
       "      <td>2.75999e-08</td>\n",
       "      <td>2.57284e-307</td>\n",
       "    </tr>\n",
       "    <tr>\n",
       "      <th>GO:0009236</th>\n",
       "      <td>cobalamin biosynthetic process</td>\n",
       "      <td>2.64874e-11</td>\n",
       "      <td>5.00000e-308</td>\n",
       "      <td>5.51998e-08</td>\n",
       "      <td>1.04200e-304</td>\n",
       "      <td>2.75999e-08</td>\n",
       "      <td>2.94350e-307</td>\n",
       "    </tr>\n",
       "    <tr>\n",
       "      <th>GO:0017116</th>\n",
       "      <td>single-stranded DNA-dependent ATP-dependent DN...</td>\n",
       "      <td>1.20573e-10</td>\n",
       "      <td>3.00000e-308</td>\n",
       "      <td>2.51274e-07</td>\n",
       "      <td>6.25200e-305</td>\n",
       "      <td>8.37581e-08</td>\n",
       "      <td>2.57284e-307</td>\n",
       "    </tr>\n",
       "    <tr>\n",
       "      <th>GO:0006269</th>\n",
       "      <td>DNA replication, synthesis of RNA primer</td>\n",
       "      <td>5.68967e-10</td>\n",
       "      <td>5.00000e-308</td>\n",
       "      <td>1.18573e-06</td>\n",
       "      <td>1.04200e-304</td>\n",
       "      <td>2.96432e-07</td>\n",
       "      <td>2.94350e-307</td>\n",
       "    </tr>\n",
       "    <tr>\n",
       "      <th>GO:0090148</th>\n",
       "      <td>membrane fission</td>\n",
       "      <td>9.90282e-10</td>\n",
       "      <td>3.00000e-308</td>\n",
       "      <td>2.06375e-06</td>\n",
       "      <td>6.25200e-305</td>\n",
       "      <td>3.21305e-07</td>\n",
       "      <td>2.57284e-307</td>\n",
       "    </tr>\n",
       "    <tr>\n",
       "      <th>...</th>\n",
       "      <td>...</td>\n",
       "      <td>...</td>\n",
       "      <td>...</td>\n",
       "      <td>...</td>\n",
       "      <td>...</td>\n",
       "      <td>...</td>\n",
       "      <td>...</td>\n",
       "    </tr>\n",
       "    <tr>\n",
       "      <th>GO:0070266</th>\n",
       "      <td>necroptotic process</td>\n",
       "      <td>1</td>\n",
       "      <td>3.30000e-307</td>\n",
       "      <td>1</td>\n",
       "      <td>6.87720e-304</td>\n",
       "      <td>1.00000e+00</td>\n",
       "      <td>5.71671e-307</td>\n",
       "    </tr>\n",
       "    <tr>\n",
       "      <th>GO:0070430</th>\n",
       "      <td>positive regulation of nucleotide-binding olig...</td>\n",
       "      <td>1</td>\n",
       "      <td>1.00000e-308</td>\n",
       "      <td>1</td>\n",
       "      <td>2.08400e-305</td>\n",
       "      <td>1.00000e+00</td>\n",
       "      <td>2.57284e-307</td>\n",
       "    </tr>\n",
       "    <tr>\n",
       "      <th>GO:0070434</th>\n",
       "      <td>positive regulation of nucleotide-binding olig...</td>\n",
       "      <td>1</td>\n",
       "      <td>3.00000e-308</td>\n",
       "      <td>1</td>\n",
       "      <td>6.25200e-305</td>\n",
       "      <td>1.00000e+00</td>\n",
       "      <td>2.57284e-307</td>\n",
       "    </tr>\n",
       "    <tr>\n",
       "      <th>GO:0050718</th>\n",
       "      <td>positive regulation of interleukin-1 beta secr...</td>\n",
       "      <td>1</td>\n",
       "      <td>3.90000e-307</td>\n",
       "      <td>1</td>\n",
       "      <td>8.12760e-304</td>\n",
       "      <td>1.00000e+00</td>\n",
       "      <td>6.32498e-307</td>\n",
       "    </tr>\n",
       "    <tr>\n",
       "      <th>GO:1990782</th>\n",
       "      <td>protein tyrosine kinase binding</td>\n",
       "      <td>1</td>\n",
       "      <td>1.80000e-307</td>\n",
       "      <td>1</td>\n",
       "      <td>3.75120e-304</td>\n",
       "      <td>1.00000e+00</td>\n",
       "      <td>4.14956e-307</td>\n",
       "    </tr>\n",
       "  </tbody>\n",
       "</table>\n",
       "<p>2084 rows × 7 columns</p>\n",
       "</div>"
      ],
      "text/plain": [
       "                                                      go_term binom_p_value  \\\n",
       "GO:0010909  positive regulation of heparan sulfate proteog...   2.10494e-11   \n",
       "GO:0009236                     cobalamin biosynthetic process   2.64874e-11   \n",
       "GO:0017116  single-stranded DNA-dependent ATP-dependent DN...   1.20573e-10   \n",
       "GO:0006269           DNA replication, synthesis of RNA primer   5.68967e-10   \n",
       "GO:0090148                                   membrane fission   9.90282e-10   \n",
       "...                                                       ...           ...   \n",
       "GO:0070266                                necroptotic process             1   \n",
       "GO:0070430  positive regulation of nucleotide-binding olig...             1   \n",
       "GO:0070434  positive regulation of nucleotide-binding olig...             1   \n",
       "GO:0050718  positive regulation of interleukin-1 beta secr...             1   \n",
       "GO:1990782                    protein tyrosine kinase binding             1   \n",
       "\n",
       "           hypergeom_p_value binom_bonferroni hypergeom_bonferroni  \\\n",
       "GO:0010909      3.00000e-308      4.38670e-08         6.25200e-305   \n",
       "GO:0009236      5.00000e-308      5.51998e-08         1.04200e-304   \n",
       "GO:0017116      3.00000e-308      2.51274e-07         6.25200e-305   \n",
       "GO:0006269      5.00000e-308      1.18573e-06         1.04200e-304   \n",
       "GO:0090148      3.00000e-308      2.06375e-06         6.25200e-305   \n",
       "...                      ...              ...                  ...   \n",
       "GO:0070266      3.30000e-307                1         6.87720e-304   \n",
       "GO:0070430      1.00000e-308                1         2.08400e-305   \n",
       "GO:0070434      3.00000e-308                1         6.25200e-305   \n",
       "GO:0050718      3.90000e-307                1         8.12760e-304   \n",
       "GO:1990782      1.80000e-307                1         3.75120e-304   \n",
       "\n",
       "              binom_fdr hypergeom_fdr  \n",
       "GO:0010909  2.75999e-08  2.57284e-307  \n",
       "GO:0009236  2.75999e-08  2.94350e-307  \n",
       "GO:0017116  8.37581e-08  2.57284e-307  \n",
       "GO:0006269  2.96432e-07  2.94350e-307  \n",
       "GO:0090148  3.21305e-07  2.57284e-307  \n",
       "...                 ...           ...  \n",
       "GO:0070266  1.00000e+00  5.71671e-307  \n",
       "GO:0070430  1.00000e+00  2.57284e-307  \n",
       "GO:0070434  1.00000e+00  2.57284e-307  \n",
       "GO:0050718  1.00000e+00  6.32498e-307  \n",
       "GO:1990782  1.00000e+00  4.14956e-307  \n",
       "\n",
       "[2084 rows x 7 columns]"
      ]
     },
     "execution_count": 4,
     "metadata": {},
     "output_type": "execute_result"
    }
   ],
   "source": [
    "enrichment_tot = great.tl.GREAT.enrichment(\n",
    "    test_file=test,\n",
    "    regdom_file=regdom,\n",
    "    chr_size_file=size,\n",
    "    annotation_file=\"../../data/human/ontologies.csv\",\n",
    "    binom=True,\n",
    "    hypergeom=True,\n",
    "    )\n",
    "great.tl.GREAT.set_bonferroni(enrichment_tot,0.05)\n",
    "great.tl.GREAT.set_fdr(enrichment_tot,0.05)"
   ]
  },
  {
   "cell_type": "markdown",
   "metadata": {},
   "source": [
    "## II Compare to GREAT webserver  "
   ]
  },
  {
   "cell_type": "markdown",
   "metadata": {},
   "source": [
    "### II.1 Import the data"
   ]
  },
  {
   "cell_type": "code",
   "execution_count": 5,
   "metadata": {},
   "outputs": [],
   "source": [
    "great_webserver = pd.read_csv(great_out,sep=\"\\t\",comment=\"#\",\n",
    "                    names=[\"ontologie\",\"term_name\",\"ID\",\"binom_p_value\",\"binom_bonferroni\",\"binom_fdr\",\"hyper_p_value\",\"hyper_bonferroni\",\"hyper_fdr\"],index_col=False,\n",
    "                    dtype={\"term_name\":\"object\", \"ID\":\"object\",\"binom_p_value\":\"float64\", \"binom_bonferroni\":\"float64\", \"binom_fdr\":\"float64\", \"hyper_p_value\":\"float64\", \"hyper_bonferroni\":\"float64\", \"hyper_fdr\":\"float64\"})\n",
    "great_webserver.rename(columns={\"ID\":\"id\"},inplace=True)\n",
    "del great_webserver[\"ontologie\"]\n",
    "del great_webserver[\"term_name\"]"
   ]
  },
  {
   "cell_type": "code",
   "execution_count": 6,
   "metadata": {},
   "outputs": [
    {
     "data": {
      "text/html": [
       "<div>\n",
       "<style scoped>\n",
       "    .dataframe tbody tr th:only-of-type {\n",
       "        vertical-align: middle;\n",
       "    }\n",
       "\n",
       "    .dataframe tbody tr th {\n",
       "        vertical-align: top;\n",
       "    }\n",
       "\n",
       "    .dataframe thead th {\n",
       "        text-align: right;\n",
       "    }\n",
       "</style>\n",
       "<table border=\"1\" class=\"dataframe\">\n",
       "  <thead>\n",
       "    <tr style=\"text-align: right;\">\n",
       "      <th></th>\n",
       "      <th>id</th>\n",
       "      <th>binom_p_value</th>\n",
       "      <th>binom_bonferroni</th>\n",
       "      <th>binom_fdr</th>\n",
       "      <th>hyper_p_value</th>\n",
       "      <th>hyper_bonferroni</th>\n",
       "      <th>hyper_fdr</th>\n",
       "    </tr>\n",
       "  </thead>\n",
       "  <tbody>\n",
       "    <tr>\n",
       "      <th>0</th>\n",
       "      <td>GO:0071103</td>\n",
       "      <td>2.52385e-15</td>\n",
       "      <td>3.32113e-11</td>\n",
       "      <td>3.32113e-11</td>\n",
       "      <td>9.13066e-03</td>\n",
       "      <td>1.00000e+00</td>\n",
       "      <td>6.67502e-01</td>\n",
       "    </tr>\n",
       "    <tr>\n",
       "      <th>1</th>\n",
       "      <td>GO:0006029</td>\n",
       "      <td>3.32807e-13</td>\n",
       "      <td>4.37940e-09</td>\n",
       "      <td>1.45980e-09</td>\n",
       "      <td>2.99761e-06</td>\n",
       "      <td>3.94455e-02</td>\n",
       "      <td>3.94455e-02</td>\n",
       "    </tr>\n",
       "    <tr>\n",
       "      <th>2</th>\n",
       "      <td>GO:0051276</td>\n",
       "      <td>3.54138e-13</td>\n",
       "      <td>4.66010e-09</td>\n",
       "      <td>1.16502e-09</td>\n",
       "      <td>2.50778e-02</td>\n",
       "      <td>1.00000e+00</td>\n",
       "      <td>9.76326e-01</td>\n",
       "    </tr>\n",
       "    <tr>\n",
       "      <th>3</th>\n",
       "      <td>GO:0006323</td>\n",
       "      <td>5.16087e-13</td>\n",
       "      <td>6.79119e-09</td>\n",
       "      <td>1.13187e-09</td>\n",
       "      <td>9.57708e-03</td>\n",
       "      <td>1.00000e+00</td>\n",
       "      <td>6.70345e-01</td>\n",
       "    </tr>\n",
       "    <tr>\n",
       "      <th>4</th>\n",
       "      <td>GO:0050654</td>\n",
       "      <td>9.34362e-13</td>\n",
       "      <td>1.22953e-08</td>\n",
       "      <td>1.36614e-09</td>\n",
       "      <td>3.66775e-04</td>\n",
       "      <td>1.00000e+00</td>\n",
       "      <td>1.60880e-01</td>\n",
       "    </tr>\n",
       "    <tr>\n",
       "      <th>...</th>\n",
       "      <td>...</td>\n",
       "      <td>...</td>\n",
       "      <td>...</td>\n",
       "      <td>...</td>\n",
       "      <td>...</td>\n",
       "      <td>...</td>\n",
       "      <td>...</td>\n",
       "    </tr>\n",
       "    <tr>\n",
       "      <th>369</th>\n",
       "      <td>GO:0015139</td>\n",
       "      <td>4.11755e-02</td>\n",
       "      <td>1.00000e+00</td>\n",
       "      <td>8.12349e-01</td>\n",
       "      <td>1.47521e-02</td>\n",
       "      <td>1.00000e+00</td>\n",
       "      <td>1.00000e+00</td>\n",
       "    </tr>\n",
       "    <tr>\n",
       "      <th>370</th>\n",
       "      <td>GO:0070696</td>\n",
       "      <td>4.48910e-02</td>\n",
       "      <td>1.00000e+00</td>\n",
       "      <td>8.77453e-01</td>\n",
       "      <td>8.14010e-04</td>\n",
       "      <td>1.00000e+00</td>\n",
       "      <td>4.90965e-01</td>\n",
       "    </tr>\n",
       "    <tr>\n",
       "      <th>371</th>\n",
       "      <td>GO:0031798</td>\n",
       "      <td>4.89706e-02</td>\n",
       "      <td>1.00000e+00</td>\n",
       "      <td>9.44082e-01</td>\n",
       "      <td>1.47521e-02</td>\n",
       "      <td>1.00000e+00</td>\n",
       "      <td>1.00000e+00</td>\n",
       "    </tr>\n",
       "    <tr>\n",
       "      <th>372</th>\n",
       "      <td>GO:0033612</td>\n",
       "      <td>4.94644e-02</td>\n",
       "      <td>1.00000e+00</td>\n",
       "      <td>9.40715e-01</td>\n",
       "      <td>1.26703e-03</td>\n",
       "      <td>1.00000e+00</td>\n",
       "      <td>4.86309e-01</td>\n",
       "    </tr>\n",
       "    <tr>\n",
       "      <th>373</th>\n",
       "      <td>GO:0043812</td>\n",
       "      <td>4.94705e-02</td>\n",
       "      <td>1.00000e+00</td>\n",
       "      <td>9.36611e-01</td>\n",
       "      <td>4.36089e-02</td>\n",
       "      <td>1.00000e+00</td>\n",
       "      <td>1.00000e+00</td>\n",
       "    </tr>\n",
       "  </tbody>\n",
       "</table>\n",
       "<p>374 rows × 7 columns</p>\n",
       "</div>"
      ],
      "text/plain": [
       "             id  binom_p_value  binom_bonferroni    binom_fdr  hyper_p_value  \\\n",
       "0    GO:0071103    2.52385e-15       3.32113e-11  3.32113e-11    9.13066e-03   \n",
       "1    GO:0006029    3.32807e-13       4.37940e-09  1.45980e-09    2.99761e-06   \n",
       "2    GO:0051276    3.54138e-13       4.66010e-09  1.16502e-09    2.50778e-02   \n",
       "3    GO:0006323    5.16087e-13       6.79119e-09  1.13187e-09    9.57708e-03   \n",
       "4    GO:0050654    9.34362e-13       1.22953e-08  1.36614e-09    3.66775e-04   \n",
       "..          ...            ...               ...          ...            ...   \n",
       "369  GO:0015139    4.11755e-02       1.00000e+00  8.12349e-01    1.47521e-02   \n",
       "370  GO:0070696    4.48910e-02       1.00000e+00  8.77453e-01    8.14010e-04   \n",
       "371  GO:0031798    4.89706e-02       1.00000e+00  9.44082e-01    1.47521e-02   \n",
       "372  GO:0033612    4.94644e-02       1.00000e+00  9.40715e-01    1.26703e-03   \n",
       "373  GO:0043812    4.94705e-02       1.00000e+00  9.36611e-01    4.36089e-02   \n",
       "\n",
       "     hyper_bonferroni    hyper_fdr  \n",
       "0         1.00000e+00  6.67502e-01  \n",
       "1         3.94455e-02  3.94455e-02  \n",
       "2         1.00000e+00  9.76326e-01  \n",
       "3         1.00000e+00  6.70345e-01  \n",
       "4         1.00000e+00  1.60880e-01  \n",
       "..                ...          ...  \n",
       "369       1.00000e+00  1.00000e+00  \n",
       "370       1.00000e+00  4.90965e-01  \n",
       "371       1.00000e+00  1.00000e+00  \n",
       "372       1.00000e+00  4.86309e-01  \n",
       "373       1.00000e+00  1.00000e+00  \n",
       "\n",
       "[374 rows x 7 columns]"
      ]
     },
     "execution_count": 6,
     "metadata": {},
     "output_type": "execute_result"
    }
   ],
   "source": [
    "great_webserver"
   ]
  },
  {
   "cell_type": "markdown",
   "metadata": {},
   "source": [
    "### II.2 Compare the results between greatpy and great "
   ]
  },
  {
   "cell_type": "markdown",
   "metadata": {},
   "source": [
    "#### II.2.1 Preprocessing"
   ]
  },
  {
   "cell_type": "code",
   "execution_count": 7,
   "metadata": {},
   "outputs": [],
   "source": [
    "before_pp = enrichment_tot.shape[0]\n",
    "enrichment_tot = enrichment_tot[enrichment_tot.index.isin(list(great_webserver[\"id\"]))]\n",
    "after_pp = enrichment_tot.shape[0]"
   ]
  },
  {
   "cell_type": "code",
   "execution_count": 8,
   "metadata": {},
   "outputs": [],
   "source": [
    "great_webserver = great_webserver[great_webserver[\"id\"].isin(list(enrichment_tot.index))]\n",
    "great_webserver = great_webserver.sort_values(\"id\")"
   ]
  },
  {
   "cell_type": "code",
   "execution_count": 9,
   "metadata": {},
   "outputs": [],
   "source": [
    "binom_greatpy = hyper_greatpy = binom_great = hyper_great = []\n",
    "for i in range(enrichment_tot.shape[0]) : \n",
    "    go_id = list(enrichment_tot.index)[i]\n",
    "    curr_enrichment = enrichment_tot.iloc[i]\n",
    "    curr_great_webserver = great_webserver.loc[great_webserver[\"id\"]==go_id]\n",
    "    binom_greatpy.append(float(curr_enrichment[\"binom_p_value\"]))\n",
    "    hyper_greatpy.append(float(curr_enrichment[\"hypergeom_p_value\"]))\n",
    "    binom_great.append(float(curr_great_webserver[\"binom_p_value\"]))\n",
    "    hyper_great.append(float(curr_great_webserver[\"hyper_p_value\"]))\n",
    "binom = pd.DataFrame({\"binom_greatpy\":binom_greatpy,\"binom_great\":binom_great})\n",
    "hyper = pd.DataFrame({\"hyper_greatpy\":hyper_greatpy,\"hyper_great\":hyper_great})"
   ]
  },
  {
   "cell_type": "markdown",
   "metadata": {},
   "source": [
    "#### II.2.b Graphical"
   ]
  },
  {
   "cell_type": "code",
   "execution_count": 10,
   "metadata": {},
   "outputs": [
    {
     "data": {
      "image/png": "[encoded data removed]",
      "text/plain": [
       "<Figure size 432x288 with 1 Axes>"
      ]
     },
     "metadata": {
      "needs_background": "light"
     },
     "output_type": "display_data"
    }
   ],
   "source": [
    "pl=great.pl.scatterplot(binom,colname_x=\"binom_greatpy\",colname_y=\"binom_great\")"
   ]
  },
  {
   "cell_type": "code",
   "execution_count": 11,
   "metadata": {},
   "outputs": [
    {
     "data": {
      "image/png": "[encoded data removed]",
      "text/plain": [
       "<Figure size 432x288 with 1 Axes>"
      ]
     },
     "metadata": {
      "needs_background": "light"
     },
     "output_type": "display_data"
    }
   ],
   "source": [
    "great.pl.scatterplot(hyper,colname_x=\"hyper_greatpy\",colname_y=\"hyper_great\")"
   ]
  },
  {
   "cell_type": "markdown",
   "metadata": {},
   "source": [
    "#### II.2.c Statistics"
   ]
  },
  {
   "cell_type": "code",
   "execution_count": 12,
   "metadata": {},
   "outputs": [],
   "source": [
    "def stat(binom_great_list_list, hyper_great_listpy_list,binom_great_list,hyper_great_list) : \n",
    "    if len(binom_great_list_list) >= 2 and len(hyper_great_listpy_list) >= 2 and len(binom_great_list) >= 2  and len(hyper_great_list) >= 2 : \n",
    "        return pd.DataFrame({\n",
    "            \"binom\": [cov(m = binom_great_list_list, y = binom_great_list)[0][1],pearsonr(binom_great_list_list,binom_great_list)[0]],\n",
    "            \"hyper\":[cov(m = hyper_great_listpy_list, y = hyper_great_list)[0][1],pearsonr(hyper_great_listpy_list,hyper_great_list)[0]]},\n",
    "            index=[\"correlation_coefficient\",\"pearson\"])\n",
    "    return False"
   ]
  },
  {
   "cell_type": "markdown",
   "metadata": {},
   "source": [
    "Issue is : NaN in hyper_fdr"
   ]
  },
  {
   "cell_type": "code",
   "execution_count": 13,
   "metadata": {},
   "outputs": [],
   "source": [
    "# stat(binom_greatpy, hyper_greatpy,binom_great,hyper_great)"
   ]
  },
  {
   "cell_type": "code",
   "execution_count": 14,
   "metadata": {},
   "outputs": [
    {
     "name": "stdout",
     "output_type": "stream",
     "text": [
      "2084\n",
      "205\n"
     ]
    }
   ],
   "source": [
    "print(before_pp)\n",
    "print(after_pp)"
   ]
  },
  {
   "cell_type": "markdown",
   "metadata": {},
   "source": [
    "We went from 268 ontology terms in greatpy output to 92 ontology terms by selecting the GO identifiers present in both greatpy and great "
   ]
  },
  {
   "cell_type": "markdown",
   "metadata": {},
   "source": [
    "But when two ontology terms are selected they have the same binomial and hypergeometric probability value "
   ]
  },
  {
   "cell_type": "markdown",
   "metadata": {},
   "source": [
    "# How many associations are good or bad "
   ]
  },
  {
   "cell_type": "code",
   "execution_count": 15,
   "metadata": {},
   "outputs": [
    {
     "name": "stdout",
     "output_type": "stream",
     "text": [
      "Number of gene association present in greatpy and great : 162\n",
      "Number of gene association prensent in great and not in greatpy 62\n",
      "Number of gene association prensent in greatpy and not in great 139\n"
     ]
    }
   ],
   "source": [
    "gene_asso_great = pd.read_csv(great_asso,sep=\"\\t\",comment=\"#\",names=[\"ontologies\",\"gene\"],index_col=False, dtype={\"ontologies\":\"object\",\"gene\":\"object\"},usecols=[\"gene\"])\n",
    "gene_asso_greatpy = great.tl.get_association(\n",
    "    test = pd.read_csv(test,sep=\"\\t\",comment=\"#\",usecols=[0,1,2],names=[\"Chr\", \"Chr_Start\", \"Chr_End\"],dtype={\"Chr\":\"object\", \"Chr_Start\":\"int64\", \"Chr_End\":\"int64\"}),\n",
    "    regdom= pd.read_csv(regdom,sep=\"\\t\",comment=\"#\",names=[\"Chr\", \"Chr_Start\", \"Chr_End\",\"Name\",\"tss\",\"Strand\"],dtype={\"Chr\":\"object\", \"Chr_Start\":\"int64\", \"Chr_End\":\"int64\",\"Name\":\"object\",\"tss\":\"int64\",\"Strand\":\"object\"}))\n",
    "in_in = gene_asso_great[gene_asso_great[\"gene\"].isin(gene_asso_greatpy)].shape[0]\n",
    "in_out = [i for i in list(gene_asso_great[\"gene\"]) if i not in gene_asso_greatpy]\n",
    "out_in = [i for i in gene_asso_greatpy if i not in list(gene_asso_great[\"gene\"])]\n",
    "\n",
    "print(f\"Number of gene association present in greatpy and great : {in_in}\")\n",
    "print(f\"Number of gene association prensent in great and not in greatpy {len(in_out)}\")\n",
    "print(f\"Number of gene association prensent in greatpy and not in great {len(out_in)}\")"
   ]
  }
 ],
 "metadata": {
  "kernelspec": {
   "display_name": "Python 3.9.12 ('base')",
   "language": "python",
   "name": "python3"
  },
  "language_info": {
   "codemirror_mode": {
    "name": "ipython",
    "version": 3
   },
   "file_extension": ".py",
   "mimetype": "text/x-python",
   "name": "python",
   "nbconvert_exporter": "python",
   "pygments_lexer": "ipython3",
   "version": "3.9.12"
  },
  "orig_nbformat": 4,
  "vscode": {
   "interpreter": {
    "hash": "dd3aa23b046397ccf7f1ffb7cb82646c26b15f0b12555a0fca8fb427d9fb147f"
   }
  }
 },
 "nbformat": 4,
 "nbformat_minor": 2
}
