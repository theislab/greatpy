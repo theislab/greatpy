{
 "cells": [
  {
   "cell_type": "markdown",
   "metadata": {},
   "source": [
    "# Computation of annotation enrichment in a genetic set "
   ]
  },
  {
   "cell_type": "markdown",
   "metadata": {},
   "source": [
    "This code excerpt shows how to use the annotation enrichment computation function in a genetic set.\n",
    "The funciton return a dataframe of binom and hypergeometric p-value (<= 0.05) and for each p-value a fdr correction with alpha = 0.05.   "
   ]
  },
  {
   "cell_type": "markdown",
   "metadata": {},
   "source": [
    "In the second part of the code we will compare the results obtained with the Great webserver and between the binomial and hypergeometric probability"
   ]
  },
  {
   "cell_type": "code",
   "execution_count": 1,
   "metadata": {},
   "outputs": [],
   "source": [
    "%load_ext autoreload\n",
    "%autoreload 2"
   ]
  },
  {
   "cell_type": "code",
   "execution_count": 1,
   "metadata": {},
   "outputs": [],
   "source": [
    "import greatpy as great\n",
    "import pandas as pd\n",
    "from math import inf\n",
    "from numpy import log,nan, int64,cov,corrcoef\n",
    "from scipy.stats import pearsonr\n",
    "from seaborn import scatterplot as sp\n",
    "\n",
    "import warnings\n",
    "warnings.filterwarnings('ignore')"
   ]
  },
  {
   "cell_type": "code",
   "execution_count": 2,
   "metadata": {},
   "outputs": [],
   "source": [
    "test = \"../../data/test/10_MAX.bed\"\n",
    "regdom = \"../../data/human/regulatory_domain.bed\"\n",
    "great_out = \"../../data/test/10_MAX_output_great_webserver.tsv\"\n",
    "great_asso = \"../../data/test/10_MAX_gene_asso.tsv\"\n",
    "size = \"../../data/human/chr_size.bed\""
   ]
  },
  {
   "cell_type": "markdown",
   "metadata": {},
   "source": [
    "## I Compute the p-values"
   ]
  },
  {
   "cell_type": "code",
   "execution_count": 4,
   "metadata": {},
   "outputs": [
    {
     "data": {
      "text/html": [
       "<div>\n",
       "<style scoped>\n",
       "    .dataframe tbody tr th:only-of-type {\n",
       "        vertical-align: middle;\n",
       "    }\n",
       "\n",
       "    .dataframe tbody tr th {\n",
       "        vertical-align: top;\n",
       "    }\n",
       "\n",
       "    .dataframe thead th {\n",
       "        text-align: right;\n",
       "    }\n",
       "</style>\n",
       "<table border=\"1\" class=\"dataframe\">\n",
       "  <thead>\n",
       "    <tr style=\"text-align: right;\">\n",
       "      <th></th>\n",
       "      <th>go_term</th>\n",
       "      <th>binom_p_value</th>\n",
       "      <th>hypergeom_p_value</th>\n",
       "      <th>binom_bonferroni</th>\n",
       "      <th>hypergeom_bonferroni</th>\n",
       "      <th>binom_fdr</th>\n",
       "      <th>hypergeom_fdr</th>\n",
       "    </tr>\n",
       "  </thead>\n",
       "  <tbody>\n",
       "    <tr>\n",
       "      <th>GO:0015727</th>\n",
       "      <td>lactate transport</td>\n",
       "      <td>7.59381e-06</td>\n",
       "      <td>1.00000e-308</td>\n",
       "      <td>2.10045e-02</td>\n",
       "      <td>2.76600e-305</td>\n",
       "      <td>1.79203e-02</td>\n",
       "      <td>2.11145e-307</td>\n",
       "    </tr>\n",
       "    <tr>\n",
       "      <th>GO:0001649</th>\n",
       "      <td>osteoblast differentiation</td>\n",
       "      <td>2.09066e-05</td>\n",
       "      <td>9.80000e-307</td>\n",
       "      <td>5.78275e-02</td>\n",
       "      <td>2.71068e-303</td>\n",
       "      <td>1.79203e-02</td>\n",
       "      <td>1.15054e-306</td>\n",
       "    </tr>\n",
       "    <tr>\n",
       "      <th>GO:0050610</th>\n",
       "      <td>methylarsonate reductase activity</td>\n",
       "      <td>3.07533e-05</td>\n",
       "      <td>2.00000e-308</td>\n",
       "      <td>8.50637e-02</td>\n",
       "      <td>5.53200e-305</td>\n",
       "      <td>1.79203e-02</td>\n",
       "      <td>2.16094e-307</td>\n",
       "    </tr>\n",
       "    <tr>\n",
       "      <th>GO:0045174</th>\n",
       "      <td>glutathione dehydrogenase (ascorbate) activity</td>\n",
       "      <td>3.07533e-05</td>\n",
       "      <td>5.00000e-308</td>\n",
       "      <td>8.50637e-02</td>\n",
       "      <td>1.38300e-304</td>\n",
       "      <td>1.79203e-02</td>\n",
       "      <td>2.61932e-307</td>\n",
       "    </tr>\n",
       "    <tr>\n",
       "      <th>GO:0009925</th>\n",
       "      <td>basal plasma membrane</td>\n",
       "      <td>3.59870e-05</td>\n",
       "      <td>2.90000e-307</td>\n",
       "      <td>9.95401e-02</td>\n",
       "      <td>8.02140e-304</td>\n",
       "      <td>1.79203e-02</td>\n",
       "      <td>4.96374e-307</td>\n",
       "    </tr>\n",
       "    <tr>\n",
       "      <th>...</th>\n",
       "      <td>...</td>\n",
       "      <td>...</td>\n",
       "      <td>...</td>\n",
       "      <td>...</td>\n",
       "      <td>...</td>\n",
       "      <td>...</td>\n",
       "      <td>...</td>\n",
       "    </tr>\n",
       "    <tr>\n",
       "      <th>GO:0021571</th>\n",
       "      <td>rhombomere 5 development</td>\n",
       "      <td>1</td>\n",
       "      <td>2.00000e-308</td>\n",
       "      <td>1</td>\n",
       "      <td>5.53200e-305</td>\n",
       "      <td>1.00000e+00</td>\n",
       "      <td>2.16094e-307</td>\n",
       "    </tr>\n",
       "    <tr>\n",
       "      <th>GO:0021612</th>\n",
       "      <td>facial nerve structural organization</td>\n",
       "      <td>1</td>\n",
       "      <td>9.00000e-308</td>\n",
       "      <td>1</td>\n",
       "      <td>2.48940e-304</td>\n",
       "      <td>1.00000e+00</td>\n",
       "      <td>3.03216e-307</td>\n",
       "    </tr>\n",
       "    <tr>\n",
       "      <th>GO:0021754</th>\n",
       "      <td>facial nucleus development</td>\n",
       "      <td>1</td>\n",
       "      <td>1.00000e-308</td>\n",
       "      <td>1</td>\n",
       "      <td>2.76600e-305</td>\n",
       "      <td>1.00000e+00</td>\n",
       "      <td>2.11145e-307</td>\n",
       "    </tr>\n",
       "    <tr>\n",
       "      <th>GO:0071157</th>\n",
       "      <td>negative regulation of cell cycle arrest</td>\n",
       "      <td>1</td>\n",
       "      <td>2.30000e-307</td>\n",
       "      <td>1</td>\n",
       "      <td>6.36180e-304</td>\n",
       "      <td>1.00000e+00</td>\n",
       "      <td>4.40263e-307</td>\n",
       "    </tr>\n",
       "    <tr>\n",
       "      <th>GO:0006610</th>\n",
       "      <td>ribosomal protein import into nucleus</td>\n",
       "      <td>1</td>\n",
       "      <td>1.00000e-307</td>\n",
       "      <td>1</td>\n",
       "      <td>2.76600e-304</td>\n",
       "      <td>1.00000e+00</td>\n",
       "      <td>3.13605e-307</td>\n",
       "    </tr>\n",
       "  </tbody>\n",
       "</table>\n",
       "<p>2766 rows × 7 columns</p>\n",
       "</div>"
      ],
      "text/plain": [
       "                                                   go_term binom_p_value  \\\n",
       "GO:0015727                               lactate transport   7.59381e-06   \n",
       "GO:0001649                      osteoblast differentiation   2.09066e-05   \n",
       "GO:0050610               methylarsonate reductase activity   3.07533e-05   \n",
       "GO:0045174  glutathione dehydrogenase (ascorbate) activity   3.07533e-05   \n",
       "GO:0009925                           basal plasma membrane   3.59870e-05   \n",
       "...                                                    ...           ...   \n",
       "GO:0021571                        rhombomere 5 development             1   \n",
       "GO:0021612            facial nerve structural organization             1   \n",
       "GO:0021754                      facial nucleus development             1   \n",
       "GO:0071157        negative regulation of cell cycle arrest             1   \n",
       "GO:0006610           ribosomal protein import into nucleus             1   \n",
       "\n",
       "           hypergeom_p_value binom_bonferroni hypergeom_bonferroni  \\\n",
       "GO:0015727      1.00000e-308      2.10045e-02         2.76600e-305   \n",
       "GO:0001649      9.80000e-307      5.78275e-02         2.71068e-303   \n",
       "GO:0050610      2.00000e-308      8.50637e-02         5.53200e-305   \n",
       "GO:0045174      5.00000e-308      8.50637e-02         1.38300e-304   \n",
       "GO:0009925      2.90000e-307      9.95401e-02         8.02140e-304   \n",
       "...                      ...              ...                  ...   \n",
       "GO:0021571      2.00000e-308                1         5.53200e-305   \n",
       "GO:0021612      9.00000e-308                1         2.48940e-304   \n",
       "GO:0021754      1.00000e-308                1         2.76600e-305   \n",
       "GO:0071157      2.30000e-307                1         6.36180e-304   \n",
       "GO:0006610      1.00000e-307                1         2.76600e-304   \n",
       "\n",
       "              binom_fdr hypergeom_fdr  \n",
       "GO:0015727  1.79203e-02  2.11145e-307  \n",
       "GO:0001649  1.79203e-02  1.15054e-306  \n",
       "GO:0050610  1.79203e-02  2.16094e-307  \n",
       "GO:0045174  1.79203e-02  2.61932e-307  \n",
       "GO:0009925  1.79203e-02  4.96374e-307  \n",
       "...                 ...           ...  \n",
       "GO:0021571  1.00000e+00  2.16094e-307  \n",
       "GO:0021612  1.00000e+00  3.03216e-307  \n",
       "GO:0021754  1.00000e+00  2.11145e-307  \n",
       "GO:0071157  1.00000e+00  4.40263e-307  \n",
       "GO:0006610  1.00000e+00  3.13605e-307  \n",
       "\n",
       "[2766 rows x 7 columns]"
      ]
     },
     "execution_count": 4,
     "metadata": {},
     "output_type": "execute_result"
    }
   ],
   "source": [
    "enrichment_tot = great.tl.GREAT.enrichment(\n",
    "    test_file=test,\n",
    "    regdom_file=regdom,\n",
    "    chr_size_file=size,\n",
    "    annotation_file=\"../../data/human/ontologies.csv\",\n",
    "    binom=True,\n",
    "    hypergeom=True,\n",
    "    )\n",
    "great.tl.GREAT.set_bonferroni(enrichment_tot,0.05)\n",
    "great.tl.GREAT.set_fdr(enrichment_tot,0.05)"
   ]
  },
  {
   "cell_type": "markdown",
   "metadata": {},
   "source": [
    "## II Compare to GREAT webserver  "
   ]
  },
  {
   "cell_type": "markdown",
   "metadata": {},
   "source": [
    "### II.1 Import the data"
   ]
  },
  {
   "cell_type": "code",
   "execution_count": 5,
   "metadata": {},
   "outputs": [],
   "source": [
    "great_webserver = pd.read_csv(great_out,sep=\"\\t\",comment=\"#\",\n",
    "                    names=[\"ontologie\",\"term_name\",\"ID\",\"binom_p_value\",\"binom_bonferroni\",\"binom_fdr\",\"hyper_p_value\",\"hyper_bonferroni\",\"hyper_fdr\"],index_col=False,\n",
    "                    dtype={\"term_name\":\"object\", \"ID\":\"object\",\"binom_p_value\":\"float64\", \"binom_bonferroni\":\"float64\", \"binom_fdr\":\"float64\", \"hyper_p_value\":\"float64\", \"hyper_bonferroni\":\"float64\", \"hyper_fdr\":\"float64\"})\n",
    "great_webserver.rename(columns={\"ID\":\"id\"},inplace=True)\n",
    "del great_webserver[\"ontologie\"]\n",
    "del great_webserver[\"term_name\"]"
   ]
  },
  {
   "cell_type": "code",
   "execution_count": 6,
   "metadata": {},
   "outputs": [
    {
     "data": {
      "text/html": [
       "<div>\n",
       "<style scoped>\n",
       "    .dataframe tbody tr th:only-of-type {\n",
       "        vertical-align: middle;\n",
       "    }\n",
       "\n",
       "    .dataframe tbody tr th {\n",
       "        vertical-align: top;\n",
       "    }\n",
       "\n",
       "    .dataframe thead th {\n",
       "        text-align: right;\n",
       "    }\n",
       "</style>\n",
       "<table border=\"1\" class=\"dataframe\">\n",
       "  <thead>\n",
       "    <tr style=\"text-align: right;\">\n",
       "      <th></th>\n",
       "      <th>id</th>\n",
       "      <th>binom_p_value</th>\n",
       "      <th>binom_bonferroni</th>\n",
       "      <th>binom_fdr</th>\n",
       "      <th>hyper_p_value</th>\n",
       "      <th>hyper_bonferroni</th>\n",
       "      <th>hyper_fdr</th>\n",
       "    </tr>\n",
       "  </thead>\n",
       "  <tbody>\n",
       "    <tr>\n",
       "      <th>0</th>\n",
       "      <td>GO:0016055</td>\n",
       "      <td>1.00673e-04</td>\n",
       "      <td>1.00000e+00</td>\n",
       "      <td>4.41584e-01</td>\n",
       "      <td>4.73339e-05</td>\n",
       "      <td>6.22867e-01</td>\n",
       "      <td>2.96603e-02</td>\n",
       "    </tr>\n",
       "    <tr>\n",
       "      <th>1</th>\n",
       "      <td>GO:0071464</td>\n",
       "      <td>1.29812e-04</td>\n",
       "      <td>1.00000e+00</td>\n",
       "      <td>4.27048e-01</td>\n",
       "      <td>5.18373e-04</td>\n",
       "      <td>1.00000e+00</td>\n",
       "      <td>1.15615e-01</td>\n",
       "    </tr>\n",
       "    <tr>\n",
       "      <th>2</th>\n",
       "      <td>GO:1905114</td>\n",
       "      <td>1.31545e-04</td>\n",
       "      <td>1.00000e+00</td>\n",
       "      <td>3.46200e-01</td>\n",
       "      <td>4.66024e-06</td>\n",
       "      <td>6.13241e-02</td>\n",
       "      <td>6.81379e-03</td>\n",
       "    </tr>\n",
       "    <tr>\n",
       "      <th>3</th>\n",
       "      <td>GO:1902202</td>\n",
       "      <td>4.61552e-04</td>\n",
       "      <td>1.00000e+00</td>\n",
       "      <td>6.74840e-01</td>\n",
       "      <td>3.01694e-03</td>\n",
       "      <td>1.00000e+00</td>\n",
       "      <td>2.43558e-01</td>\n",
       "    </tr>\n",
       "    <tr>\n",
       "      <th>4</th>\n",
       "      <td>GO:0071888</td>\n",
       "      <td>5.02180e-04</td>\n",
       "      <td>1.00000e+00</td>\n",
       "      <td>6.60819e-01</td>\n",
       "      <td>4.50693e-02</td>\n",
       "      <td>1.00000e+00</td>\n",
       "      <td>8.10201e-01</td>\n",
       "    </tr>\n",
       "    <tr>\n",
       "      <th>...</th>\n",
       "      <td>...</td>\n",
       "      <td>...</td>\n",
       "      <td>...</td>\n",
       "      <td>...</td>\n",
       "      <td>...</td>\n",
       "      <td>...</td>\n",
       "      <td>...</td>\n",
       "    </tr>\n",
       "    <tr>\n",
       "      <th>373</th>\n",
       "      <td>GO:0005018</td>\n",
       "      <td>4.48085e-02</td>\n",
       "      <td>1.00000e+00</td>\n",
       "      <td>1.00000e+00</td>\n",
       "      <td>2.27938e-02</td>\n",
       "      <td>1.00000e+00</td>\n",
       "      <td>1.00000e+00</td>\n",
       "    </tr>\n",
       "    <tr>\n",
       "      <th>374</th>\n",
       "      <td>GO:0071889</td>\n",
       "      <td>4.55564e-02</td>\n",
       "      <td>1.00000e+00</td>\n",
       "      <td>1.00000e+00</td>\n",
       "      <td>1.86450e-02</td>\n",
       "      <td>1.00000e+00</td>\n",
       "      <td>1.00000e+00</td>\n",
       "    </tr>\n",
       "    <tr>\n",
       "      <th>375</th>\n",
       "      <td>GO:0051916</td>\n",
       "      <td>4.57445e-02</td>\n",
       "      <td>1.00000e+00</td>\n",
       "      <td>1.00000e+00</td>\n",
       "      <td>2.27938e-02</td>\n",
       "      <td>1.00000e+00</td>\n",
       "      <td>1.00000e+00</td>\n",
       "    </tr>\n",
       "    <tr>\n",
       "      <th>376</th>\n",
       "      <td>GO:0032454</td>\n",
       "      <td>4.90617e-02</td>\n",
       "      <td>1.00000e+00</td>\n",
       "      <td>1.00000e+00</td>\n",
       "      <td>3.42467e-02</td>\n",
       "      <td>1.00000e+00</td>\n",
       "      <td>1.00000e+00</td>\n",
       "    </tr>\n",
       "    <tr>\n",
       "      <th>377</th>\n",
       "      <td>GO:0035035</td>\n",
       "      <td>4.99149e-02</td>\n",
       "      <td>1.00000e+00</td>\n",
       "      <td>1.00000e+00</td>\n",
       "      <td>2.29339e-02</td>\n",
       "      <td>1.00000e+00</td>\n",
       "      <td>1.00000e+00</td>\n",
       "    </tr>\n",
       "  </tbody>\n",
       "</table>\n",
       "<p>378 rows × 7 columns</p>\n",
       "</div>"
      ],
      "text/plain": [
       "             id  binom_p_value  binom_bonferroni    binom_fdr  hyper_p_value  \\\n",
       "0    GO:0016055    1.00673e-04       1.00000e+00  4.41584e-01    4.73339e-05   \n",
       "1    GO:0071464    1.29812e-04       1.00000e+00  4.27048e-01    5.18373e-04   \n",
       "2    GO:1905114    1.31545e-04       1.00000e+00  3.46200e-01    4.66024e-06   \n",
       "3    GO:1902202    4.61552e-04       1.00000e+00  6.74840e-01    3.01694e-03   \n",
       "4    GO:0071888    5.02180e-04       1.00000e+00  6.60819e-01    4.50693e-02   \n",
       "..          ...            ...               ...          ...            ...   \n",
       "373  GO:0005018    4.48085e-02       1.00000e+00  1.00000e+00    2.27938e-02   \n",
       "374  GO:0071889    4.55564e-02       1.00000e+00  1.00000e+00    1.86450e-02   \n",
       "375  GO:0051916    4.57445e-02       1.00000e+00  1.00000e+00    2.27938e-02   \n",
       "376  GO:0032454    4.90617e-02       1.00000e+00  1.00000e+00    3.42467e-02   \n",
       "377  GO:0035035    4.99149e-02       1.00000e+00  1.00000e+00    2.29339e-02   \n",
       "\n",
       "     hyper_bonferroni    hyper_fdr  \n",
       "0         6.22867e-01  2.96603e-02  \n",
       "1         1.00000e+00  1.15615e-01  \n",
       "2         6.13241e-02  6.81379e-03  \n",
       "3         1.00000e+00  2.43558e-01  \n",
       "4         1.00000e+00  8.10201e-01  \n",
       "..                ...          ...  \n",
       "373       1.00000e+00  1.00000e+00  \n",
       "374       1.00000e+00  1.00000e+00  \n",
       "375       1.00000e+00  1.00000e+00  \n",
       "376       1.00000e+00  1.00000e+00  \n",
       "377       1.00000e+00  1.00000e+00  \n",
       "\n",
       "[378 rows x 7 columns]"
      ]
     },
     "execution_count": 6,
     "metadata": {},
     "output_type": "execute_result"
    }
   ],
   "source": [
    "great_webserver"
   ]
  },
  {
   "cell_type": "markdown",
   "metadata": {},
   "source": [
    "### II.2 Compare the results between greatpy and great "
   ]
  },
  {
   "cell_type": "markdown",
   "metadata": {},
   "source": [
    "#### II.2.1 Preprocessing"
   ]
  },
  {
   "cell_type": "code",
   "execution_count": 7,
   "metadata": {},
   "outputs": [],
   "source": [
    "before_pp = enrichment_tot.shape[0]\n",
    "enrichment_tot = enrichment_tot[enrichment_tot.index.isin(list(great_webserver[\"id\"]))]\n",
    "after_pp = enrichment_tot.shape[0]"
   ]
  },
  {
   "cell_type": "code",
   "execution_count": 8,
   "metadata": {},
   "outputs": [],
   "source": [
    "great_webserver = great_webserver[great_webserver[\"id\"].isin(list(enrichment_tot.index))]\n",
    "great_webserver = great_webserver.sort_values(\"id\")"
   ]
  },
  {
   "cell_type": "code",
   "execution_count": 9,
   "metadata": {},
   "outputs": [],
   "source": [
    "binom_greatpy = hyper_greatpy = binom_great = hyper_great = []\n",
    "for i in range(enrichment_tot.shape[0]) : \n",
    "    go_id = list(enrichment_tot.index)[i]\n",
    "    curr_enrichment = enrichment_tot.iloc[i]\n",
    "    curr_great_webserver = great_webserver.loc[great_webserver[\"id\"]==go_id]\n",
    "    binom_greatpy.append(float(curr_enrichment[\"binom_p_value\"]))\n",
    "    hyper_greatpy.append(float(curr_enrichment[\"hypergeom_p_value\"]))\n",
    "    binom_great.append(float(curr_great_webserver[\"binom_p_value\"]))\n",
    "    hyper_great.append(float(curr_great_webserver[\"hyper_p_value\"]))\n",
    "binom = pd.DataFrame({\"binom_greatpy\":binom_greatpy,\"binom_great\":binom_great})\n",
    "hyper = pd.DataFrame({\"hyper_greatpy\":hyper_greatpy,\"hyper_great\":hyper_great})"
   ]
  },
  {
   "cell_type": "markdown",
   "metadata": {},
   "source": [
    "#### II.2.b Graphical"
   ]
  },
  {
   "cell_type": "code",
   "execution_count": 10,
   "metadata": {},
   "outputs": [
    {
     "data": {
      "image/png": "[encoded data removed]",
      "text/plain": [
       "<Figure size 432x288 with 1 Axes>"
      ]
     },
     "metadata": {
      "needs_background": "light"
     },
     "output_type": "display_data"
    }
   ],
   "source": [
    "pl=great.pl.scatterplot(binom,colname_x=\"binom_greatpy\",colname_y=\"binom_great\")"
   ]
  },
  {
   "cell_type": "code",
   "execution_count": 11,
   "metadata": {},
   "outputs": [
    {
     "data": {
      "image/png": "[encoded data removed]",
      "text/plain": [
       "<Figure size 432x288 with 1 Axes>"
      ]
     },
     "metadata": {
      "needs_background": "light"
     },
     "output_type": "display_data"
    }
   ],
   "source": [
    "great.pl.scatterplot(hyper,colname_x=\"hyper_greatpy\",colname_y=\"hyper_great\")"
   ]
  },
  {
   "cell_type": "markdown",
   "metadata": {},
   "source": [
    "#### II.2.c Statistics"
   ]
  },
  {
   "cell_type": "code",
   "execution_count": 12,
   "metadata": {},
   "outputs": [],
   "source": [
    "def stat(binom_great_list_list, hyper_great_listpy_list,binom_great_list,hyper_great_list) : \n",
    "    if len(binom_great_list_list) >= 2 and len(hyper_great_listpy_list) >= 2 and len(binom_great_list) >= 2  and len(hyper_great_list) >= 2 : \n",
    "        return pd.DataFrame({\n",
    "            \"binom\": [cov(m = binom_great_list_list, y = binom_great_list)[0][1],pearsonr(binom_great_list_list,binom_great_list)[0]],\n",
    "            \"hyper\":[cov(m = hyper_great_listpy_list, y = hyper_great_list)[0][1],pearsonr(hyper_great_listpy_list,hyper_great_list)[0]]},\n",
    "            index=[\"correlation_coefficient\",\"pearson\"])\n",
    "    return False"
   ]
  },
  {
   "cell_type": "markdown",
   "metadata": {},
   "source": [
    "Issue is : NaN in hyper_fdr"
   ]
  },
  {
   "cell_type": "code",
   "execution_count": 13,
   "metadata": {},
   "outputs": [],
   "source": [
    "# stat(binom_greatpy, hyper_greatpy,binom_great,hyper_great)"
   ]
  },
  {
   "cell_type": "code",
   "execution_count": 14,
   "metadata": {},
   "outputs": [
    {
     "name": "stdout",
     "output_type": "stream",
     "text": [
      "2766\n",
      "248\n"
     ]
    }
   ],
   "source": [
    "print(before_pp)\n",
    "print(after_pp)"
   ]
  },
  {
   "cell_type": "markdown",
   "metadata": {},
   "source": [
    "We went from 268 ontology terms in greatpy output to 92 ontology terms by selecting the GO identifiers present in both greatpy and great "
   ]
  },
  {
   "cell_type": "markdown",
   "metadata": {},
   "source": [
    "But when two ontology terms are selected they have the same binomial and hypergeometric probability value "
   ]
  },
  {
   "cell_type": "markdown",
   "metadata": {},
   "source": [
    "# How many associations are good or bad "
   ]
  },
  {
   "cell_type": "code",
   "execution_count": 3,
   "metadata": {},
   "outputs": [
    {
     "name": "stdout",
     "output_type": "stream",
     "text": [
      "Number of gene association present in greatpy and great : 229\n",
      "Number of gene association prensent in great and not in greatpy 92\n",
      "Number of gene association prensent in greatpy and not in great 239\n"
     ]
    }
   ],
   "source": [
    "gene_asso_great = pd.read_csv(great_asso,sep=\"\\t\",comment=\"#\",names=[\"ontologies\",\"gene\"],index_col=False, dtype={\"ontologies\":\"object\",\"gene\":\"object\"},usecols=[\"gene\"])\n",
    "gene_asso_greatpy = great.tl.get_association(\n",
    "    test = pd.read_csv(test,sep=\"\\t\",comment=\"#\",usecols=[0,1,2],names=[\"Chr\", \"Chr_Start\", \"Chr_End\"],dtype={\"Chr\":\"object\", \"Chr_Start\":\"int64\", \"Chr_End\":\"int64\"}),\n",
    "    regdom= pd.read_csv(regdom,sep=\"\\t\",comment=\"#\",names=[\"Chr\", \"Chr_Start\", \"Chr_End\",\"Name\",\"tss\",\"Strand\"],dtype={\"Chr\":\"object\", \"Chr_Start\":\"int64\", \"Chr_End\":\"int64\",\"Name\":\"object\",\"tss\":\"int64\",\"Strand\":\"object\"}))\n",
    "in_in = gene_asso_great[gene_asso_great[\"gene\"].isin(gene_asso_greatpy)].shape[0]\n",
    "in_out = [i for i in list(gene_asso_great[\"gene\"]) if i not in gene_asso_greatpy]\n",
    "out_in = [i for i in gene_asso_greatpy if i not in list(gene_asso_great[\"gene\"])]\n",
    "\n",
    "print(f\"Number of gene association present in greatpy and great : {in_in}\")\n",
    "print(f\"Number of gene association prensent in great and not in greatpy {len(in_out)}\")\n",
    "print(f\"Number of gene association prensent in greatpy and not in great {len(out_in)}\")"
   ]
  }
 ],
 "metadata": {
  "kernelspec": {
   "display_name": "Python 3.9.12 ('base')",
   "language": "python",
   "name": "python3"
  },
  "language_info": {
   "codemirror_mode": {
    "name": "ipython",
    "version": 3
   },
   "file_extension": ".py",
   "mimetype": "text/x-python",
   "name": "python",
   "nbconvert_exporter": "python",
   "pygments_lexer": "ipython3",
   "version": "3.9.12"
  },
  "orig_nbformat": 4,
  "vscode": {
   "interpreter": {
    "hash": "dd3aa23b046397ccf7f1ffb7cb82646c26b15f0b12555a0fca8fb427d9fb147f"
   }
  }
 },
 "nbformat": 4,
 "nbformat_minor": 2
}
