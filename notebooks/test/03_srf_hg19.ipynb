{
 "cells": [
  {
   "cell_type": "markdown",
   "metadata": {},
   "source": [
    "# Computation of annotation enrichment in a genetic set "
   ]
  },
  {
   "cell_type": "markdown",
   "metadata": {},
   "source": [
    "This code excerpt shows how to use the annotation enrichment computation function in a genetic set.\n",
    "The funciton return a dataframe of binom and hypergeometric p-value (<= 0.05) and for each p-value a fdr correction with alpha = 0.05.   "
   ]
  },
  {
   "cell_type": "markdown",
   "metadata": {},
   "source": [
    "In the second part of the code we will compare the results obtained with the Great webserver and between the binomial and hypergeometric probability"
   ]
  },
  {
   "cell_type": "code",
   "execution_count": 4,
   "metadata": {},
   "outputs": [
    {
     "name": "stdout",
     "output_type": "stream",
     "text": [
      "The autoreload extension is already loaded. To reload it, use:\n",
      "  %reload_ext autoreload\n"
     ]
    }
   ],
   "source": [
    "%load_ext autoreload\n",
    "%autoreload 2"
   ]
  },
  {
   "cell_type": "code",
   "execution_count": 5,
   "metadata": {},
   "outputs": [],
   "source": [
    "import greatpy as great\n",
    "import pandas as pd\n",
    "from math import inf\n",
    "from numpy import log,nan, int64,cov,corrcoef\n",
    "from scipy.stats import pearsonr\n",
    "from seaborn import scatterplot as sp\n",
    "\n",
    "import warnings\n",
    "warnings.filterwarnings('ignore')"
   ]
  },
  {
   "cell_type": "markdown",
   "metadata": {},
   "source": [
    "## I Compute the p-values"
   ]
  },
  {
   "cell_type": "code",
   "execution_count": 6,
   "metadata": {},
   "outputs": [],
   "source": [
    "enrichment_fdr = great.tl.enrichment(\n",
    "    test=\"../../data/test/02_srf_hg38.bed\",\n",
    "    regdom_file=\"../../data/human/regulatory_domain.bed\",\n",
    "    chr_size_file=\"../../data/human/chr_size.bed\",\n",
    "    annotation=\"../../data/human/ontologies.csv\",\n",
    "    binom=True,\n",
    "    hypergeom=True,\n",
    "    alpha=0.05,\n",
    "    correction=(\"fdr\",0.05)\n",
    "    )"
   ]
  },
  {
   "cell_type": "code",
   "execution_count": 7,
   "metadata": {},
   "outputs": [
    {
     "data": {
      "text/html": [
       "<div>\n",
       "<style scoped>\n",
       "    .dataframe tbody tr th:only-of-type {\n",
       "        vertical-align: middle;\n",
       "    }\n",
       "\n",
       "    .dataframe tbody tr th {\n",
       "        vertical-align: top;\n",
       "    }\n",
       "\n",
       "    .dataframe thead th {\n",
       "        text-align: right;\n",
       "    }\n",
       "</style>\n",
       "<table border=\"1\" class=\"dataframe\">\n",
       "  <thead>\n",
       "    <tr style=\"text-align: right;\">\n",
       "      <th></th>\n",
       "      <th>go_term</th>\n",
       "      <th>binom_p_value</th>\n",
       "      <th>hypergeom_p_value</th>\n",
       "      <th>binom_fdr_correction</th>\n",
       "      <th>hypergeom_fdr_correction</th>\n",
       "    </tr>\n",
       "  </thead>\n",
       "  <tbody>\n",
       "    <tr>\n",
       "      <th>GO:0002027</th>\n",
       "      <td>regulation of heart rate</td>\n",
       "      <td>5.37898e-01</td>\n",
       "      <td>NaN</td>\n",
       "      <td>6.77849e-01</td>\n",
       "      <td>NaN</td>\n",
       "    </tr>\n",
       "    <tr>\n",
       "      <th>GO:0004114</th>\n",
       "      <td>3',5'-cyclic-nucleotide phosphodiesterase acti...</td>\n",
       "      <td>3.85750e-01</td>\n",
       "      <td>NaN</td>\n",
       "      <td>5.66386e-01</td>\n",
       "      <td>NaN</td>\n",
       "    </tr>\n",
       "    <tr>\n",
       "      <th>GO:0004115</th>\n",
       "      <td>3',5'-cyclic-AMP phosphodiesterase activity</td>\n",
       "      <td>6.89908e-01</td>\n",
       "      <td>NaN</td>\n",
       "      <td>7.84641e-01</td>\n",
       "      <td>NaN</td>\n",
       "    </tr>\n",
       "    <tr>\n",
       "      <th>GO:0005515</th>\n",
       "      <td>protein binding</td>\n",
       "      <td>1.78046e-02</td>\n",
       "      <td>NaN</td>\n",
       "      <td>1.68224e-01</td>\n",
       "      <td>NaN</td>\n",
       "    </tr>\n",
       "    <tr>\n",
       "      <th>GO:0005813</th>\n",
       "      <td>centrosome</td>\n",
       "      <td>1.51454e-02</td>\n",
       "      <td>NaN</td>\n",
       "      <td>1.53763e-01</td>\n",
       "      <td>NaN</td>\n",
       "    </tr>\n",
       "    <tr>\n",
       "      <th>...</th>\n",
       "      <td>...</td>\n",
       "      <td>...</td>\n",
       "      <td>...</td>\n",
       "      <td>...</td>\n",
       "      <td>...</td>\n",
       "    </tr>\n",
       "    <tr>\n",
       "      <th>GO:0050974</th>\n",
       "      <td>detection of mechanical stimulus involved in s...</td>\n",
       "      <td>2.67409e-01</td>\n",
       "      <td>NaN</td>\n",
       "      <td>4.84954e-01</td>\n",
       "      <td>NaN</td>\n",
       "    </tr>\n",
       "    <tr>\n",
       "      <th>GO:0005771</th>\n",
       "      <td>multivesicular body</td>\n",
       "      <td>1</td>\n",
       "      <td>NaN</td>\n",
       "      <td>1.00000e+00</td>\n",
       "      <td>NaN</td>\n",
       "    </tr>\n",
       "    <tr>\n",
       "      <th>GO:0019815</th>\n",
       "      <td>B cell receptor complex</td>\n",
       "      <td>1</td>\n",
       "      <td>NaN</td>\n",
       "      <td>1.00000e+00</td>\n",
       "      <td>NaN</td>\n",
       "    </tr>\n",
       "    <tr>\n",
       "      <th>GO:0042100</th>\n",
       "      <td>B cell proliferation</td>\n",
       "      <td>1</td>\n",
       "      <td>NaN</td>\n",
       "      <td>1.00000e+00</td>\n",
       "      <td>NaN</td>\n",
       "    </tr>\n",
       "    <tr>\n",
       "      <th>GO:0042113</th>\n",
       "      <td>B cell activation</td>\n",
       "      <td>1</td>\n",
       "      <td>NaN</td>\n",
       "      <td>1.00000e+00</td>\n",
       "      <td>NaN</td>\n",
       "    </tr>\n",
       "  </tbody>\n",
       "</table>\n",
       "<p>4396 rows × 5 columns</p>\n",
       "</div>"
      ],
      "text/plain": [
       "                                                      go_term binom_p_value  \\\n",
       "GO:0002027                           regulation of heart rate   5.37898e-01   \n",
       "GO:0004114  3',5'-cyclic-nucleotide phosphodiesterase acti...   3.85750e-01   \n",
       "GO:0004115        3',5'-cyclic-AMP phosphodiesterase activity   6.89908e-01   \n",
       "GO:0005515                                    protein binding   1.78046e-02   \n",
       "GO:0005813                                         centrosome   1.51454e-02   \n",
       "...                                                       ...           ...   \n",
       "GO:0050974  detection of mechanical stimulus involved in s...   2.67409e-01   \n",
       "GO:0005771                                multivesicular body             1   \n",
       "GO:0019815                            B cell receptor complex             1   \n",
       "GO:0042100                               B cell proliferation             1   \n",
       "GO:0042113                                  B cell activation             1   \n",
       "\n",
       "           hypergeom_p_value binom_fdr_correction hypergeom_fdr_correction  \n",
       "GO:0002027               NaN          6.77849e-01                      NaN  \n",
       "GO:0004114               NaN          5.66386e-01                      NaN  \n",
       "GO:0004115               NaN          7.84641e-01                      NaN  \n",
       "GO:0005515               NaN          1.68224e-01                      NaN  \n",
       "GO:0005813               NaN          1.53763e-01                      NaN  \n",
       "...                      ...                  ...                      ...  \n",
       "GO:0050974               NaN          4.84954e-01                      NaN  \n",
       "GO:0005771               NaN          1.00000e+00                      NaN  \n",
       "GO:0019815               NaN          1.00000e+00                      NaN  \n",
       "GO:0042100               NaN          1.00000e+00                      NaN  \n",
       "GO:0042113               NaN          1.00000e+00                      NaN  \n",
       "\n",
       "[4396 rows x 5 columns]"
      ]
     },
     "execution_count": 7,
     "metadata": {},
     "output_type": "execute_result"
    }
   ],
   "source": [
    "enrichment_fdr = enrichment_fdr[enrichment_fdr[\"binom_p_value\"]<=0.05]"
   ]
  },
  {
   "cell_type": "code",
   "execution_count": 8,
   "metadata": {},
   "outputs": [],
   "source": [
    "enrichment_bonferroni = great.tl.enrichment(\n",
    "    test=\"../../data/test/02_srf_hg38.bed\",\n",
    "    regdom_file=\"../../data/human/regulatory_domain.bed\",\n",
    "    chr_size_file=\"../../data/human/chr_size.bed\",\n",
    "    annotation=\"../../data/human/ontologies.csv\",\n",
    "    binom=True,\n",
    "    hypergeom=True,\n",
    "    alpha=0.05,\n",
    "    correction=(\"bonferroni\",0.05),\n",
    "    )"
   ]
  },
  {
   "cell_type": "code",
   "execution_count": 9,
   "metadata": {},
   "outputs": [
    {
     "data": {
      "text/html": [
       "<div>\n",
       "<style scoped>\n",
       "    .dataframe tbody tr th:only-of-type {\n",
       "        vertical-align: middle;\n",
       "    }\n",
       "\n",
       "    .dataframe tbody tr th {\n",
       "        vertical-align: top;\n",
       "    }\n",
       "\n",
       "    .dataframe thead th {\n",
       "        text-align: right;\n",
       "    }\n",
       "</style>\n",
       "<table border=\"1\" class=\"dataframe\">\n",
       "  <thead>\n",
       "    <tr style=\"text-align: right;\">\n",
       "      <th></th>\n",
       "      <th>go_term</th>\n",
       "      <th>binom_p_value</th>\n",
       "      <th>hypergeom_p_value</th>\n",
       "      <th>binom_bonferroni_correction</th>\n",
       "      <th>hypergeom_bonferroni_correction</th>\n",
       "    </tr>\n",
       "  </thead>\n",
       "  <tbody>\n",
       "    <tr>\n",
       "      <th>GO:0002027</th>\n",
       "      <td>regulation of heart rate</td>\n",
       "      <td>5.37898e-01</td>\n",
       "      <td>NaN</td>\n",
       "      <td>1</td>\n",
       "      <td>NaN</td>\n",
       "    </tr>\n",
       "    <tr>\n",
       "      <th>GO:0004114</th>\n",
       "      <td>3',5'-cyclic-nucleotide phosphodiesterase acti...</td>\n",
       "      <td>3.85750e-01</td>\n",
       "      <td>NaN</td>\n",
       "      <td>1</td>\n",
       "      <td>NaN</td>\n",
       "    </tr>\n",
       "    <tr>\n",
       "      <th>GO:0004115</th>\n",
       "      <td>3',5'-cyclic-AMP phosphodiesterase activity</td>\n",
       "      <td>6.89908e-01</td>\n",
       "      <td>NaN</td>\n",
       "      <td>1</td>\n",
       "      <td>NaN</td>\n",
       "    </tr>\n",
       "    <tr>\n",
       "      <th>GO:0005515</th>\n",
       "      <td>protein binding</td>\n",
       "      <td>1.78046e-02</td>\n",
       "      <td>NaN</td>\n",
       "      <td>1</td>\n",
       "      <td>NaN</td>\n",
       "    </tr>\n",
       "    <tr>\n",
       "      <th>GO:0005813</th>\n",
       "      <td>centrosome</td>\n",
       "      <td>1.51454e-02</td>\n",
       "      <td>NaN</td>\n",
       "      <td>1</td>\n",
       "      <td>NaN</td>\n",
       "    </tr>\n",
       "    <tr>\n",
       "      <th>...</th>\n",
       "      <td>...</td>\n",
       "      <td>...</td>\n",
       "      <td>...</td>\n",
       "      <td>...</td>\n",
       "      <td>...</td>\n",
       "    </tr>\n",
       "    <tr>\n",
       "      <th>GO:0050974</th>\n",
       "      <td>detection of mechanical stimulus involved in s...</td>\n",
       "      <td>2.67409e-01</td>\n",
       "      <td>NaN</td>\n",
       "      <td>1</td>\n",
       "      <td>NaN</td>\n",
       "    </tr>\n",
       "    <tr>\n",
       "      <th>GO:0005771</th>\n",
       "      <td>multivesicular body</td>\n",
       "      <td>1</td>\n",
       "      <td>NaN</td>\n",
       "      <td>1</td>\n",
       "      <td>NaN</td>\n",
       "    </tr>\n",
       "    <tr>\n",
       "      <th>GO:0019815</th>\n",
       "      <td>B cell receptor complex</td>\n",
       "      <td>1</td>\n",
       "      <td>NaN</td>\n",
       "      <td>1</td>\n",
       "      <td>NaN</td>\n",
       "    </tr>\n",
       "    <tr>\n",
       "      <th>GO:0042100</th>\n",
       "      <td>B cell proliferation</td>\n",
       "      <td>1</td>\n",
       "      <td>NaN</td>\n",
       "      <td>1</td>\n",
       "      <td>NaN</td>\n",
       "    </tr>\n",
       "    <tr>\n",
       "      <th>GO:0042113</th>\n",
       "      <td>B cell activation</td>\n",
       "      <td>1</td>\n",
       "      <td>NaN</td>\n",
       "      <td>1</td>\n",
       "      <td>NaN</td>\n",
       "    </tr>\n",
       "  </tbody>\n",
       "</table>\n",
       "<p>4396 rows × 5 columns</p>\n",
       "</div>"
      ],
      "text/plain": [
       "                                                      go_term binom_p_value  \\\n",
       "GO:0002027                           regulation of heart rate   5.37898e-01   \n",
       "GO:0004114  3',5'-cyclic-nucleotide phosphodiesterase acti...   3.85750e-01   \n",
       "GO:0004115        3',5'-cyclic-AMP phosphodiesterase activity   6.89908e-01   \n",
       "GO:0005515                                    protein binding   1.78046e-02   \n",
       "GO:0005813                                         centrosome   1.51454e-02   \n",
       "...                                                       ...           ...   \n",
       "GO:0050974  detection of mechanical stimulus involved in s...   2.67409e-01   \n",
       "GO:0005771                                multivesicular body             1   \n",
       "GO:0019815                            B cell receptor complex             1   \n",
       "GO:0042100                               B cell proliferation             1   \n",
       "GO:0042113                                  B cell activation             1   \n",
       "\n",
       "           hypergeom_p_value binom_bonferroni_correction  \\\n",
       "GO:0002027               NaN                           1   \n",
       "GO:0004114               NaN                           1   \n",
       "GO:0004115               NaN                           1   \n",
       "GO:0005515               NaN                           1   \n",
       "GO:0005813               NaN                           1   \n",
       "...                      ...                         ...   \n",
       "GO:0050974               NaN                           1   \n",
       "GO:0005771               NaN                           1   \n",
       "GO:0019815               NaN                           1   \n",
       "GO:0042100               NaN                           1   \n",
       "GO:0042113               NaN                           1   \n",
       "\n",
       "           hypergeom_bonferroni_correction  \n",
       "GO:0002027                             NaN  \n",
       "GO:0004114                             NaN  \n",
       "GO:0004115                             NaN  \n",
       "GO:0005515                             NaN  \n",
       "GO:0005813                             NaN  \n",
       "...                                    ...  \n",
       "GO:0050974                             NaN  \n",
       "GO:0005771                             NaN  \n",
       "GO:0019815                             NaN  \n",
       "GO:0042100                             NaN  \n",
       "GO:0042113                             NaN  \n",
       "\n",
       "[4396 rows x 5 columns]"
      ]
     },
     "execution_count": 9,
     "metadata": {},
     "output_type": "execute_result"
    }
   ],
   "source": [
    "enrichment_bonferroni = enrichment_bonferroni[enrichment_bonferroni[\"binom_p_value\"]<=0.05]"
   ]
  },
  {
   "cell_type": "code",
   "execution_count": 22,
   "metadata": {},
   "outputs": [
    {
     "data": {
      "text/html": [
       "<div>\n",
       "<style scoped>\n",
       "    .dataframe tbody tr th:only-of-type {\n",
       "        vertical-align: middle;\n",
       "    }\n",
       "\n",
       "    .dataframe tbody tr th {\n",
       "        vertical-align: top;\n",
       "    }\n",
       "\n",
       "    .dataframe thead th {\n",
       "        text-align: right;\n",
       "    }\n",
       "</style>\n",
       "<table border=\"1\" class=\"dataframe\">\n",
       "  <thead>\n",
       "    <tr style=\"text-align: right;\">\n",
       "      <th></th>\n",
       "      <th>id</th>\n",
       "      <th>binom_p_value</th>\n",
       "      <th>binom_bonferroni</th>\n",
       "      <th>binom_fdr</th>\n",
       "      <th>hyper_p_value</th>\n",
       "      <th>hyper_bonferroni</th>\n",
       "      <th>hyper_fdr</th>\n",
       "    </tr>\n",
       "  </thead>\n",
       "  <tbody>\n",
       "  </tbody>\n",
       "</table>\n",
       "</div>"
      ],
      "text/plain": [
       "Empty DataFrame\n",
       "Columns: [id, binom_p_value, binom_bonferroni, binom_fdr, hyper_p_value, hyper_bonferroni, hyper_fdr]\n",
       "Index: []"
      ]
     },
     "execution_count": 22,
     "metadata": {},
     "output_type": "execute_result"
    }
   ],
   "source": [
    "enrichment_tot = enrichment_fdr \n",
    "enrichment_tot[\"binom_bonferroni_correction\"] = enrichment_bonferroni[\"binom_bonferroni_correction\"]\n",
    "enrichment_tot[\"hypergeom_bonferroni_correction\"] = enrichment_bonferroni[\"hypergeom_bonferroni_correction\"]\n",
    "enrichment_tot = enrichment_tot[[\"binom_p_value\",\"binom_bonferroni_correction\",\"binom_fdr_correction\",\"hypergeom_p_value\",\"hypergeom_bonferroni_correction\",\"hypergeom_fdr_correction\"]]\n",
    "enrichment_tot = enrichment_tot.reset_index().rename(columns={\"index\":\"id\",\"binom_bonferroni_correction\":\"binom_bonferroni\",\"binom_fdr_correction\":\"binom_fdr\",\"hypergeom_p_value\":\"hyper_p_value\",\"hypergeom_bonferroni_correction\":\"hyper_bonferroni\",\"hypergeom_fdr_correction\":\"hyper_fdr\"})\n",
    "enrichment_tot"
   ]
  },
  {
   "cell_type": "markdown",
   "metadata": {},
   "source": [
    "## II Compare to GREAT webserver  "
   ]
  },
  {
   "cell_type": "markdown",
   "metadata": {},
   "source": [
    "### II.1 Import the data"
   ]
  },
  {
   "cell_type": "code",
   "execution_count": 13,
   "metadata": {},
   "outputs": [],
   "source": [
    "great_webserver = pd.read_csv(\"../../data/test/02_srf_hg38_output_great_webserver.tsv\",sep=\"\\t\",comment=\"#\",\n",
    "                    names=[\"ontologie\",\"term_name\",\"ID\",\"binom_p_value\",\"binom_bonferroni\",\"binom_fdr\",\"hyper_p_value\",\"hyper_bonferroni\",\"hyper_fdr\"],index_col=False,\n",
    "                    dtype={\"term_name\":\"object\", \"ID\":\"object\",\"binom_p_value\":\"float64\", \"binom_bonferroni\":\"float64\", \"binom_fdr\":\"float64\", \"hyper_p_value\":\"float64\", \"hyper_bonferroni\":\"float64\", \"hyper_fdr\":\"float64\"})\n",
    "great_webserver.rename(columns={\"ID\":\"id\"},inplace=True)\n",
    "del great_webserver[\"ontologie\"]\n",
    "del great_webserver[\"term_name\"]"
   ]
  },
  {
   "cell_type": "markdown",
   "metadata": {},
   "source": [
    "### II.2 Compare the results between greatpy and great "
   ]
  },
  {
   "cell_type": "markdown",
   "metadata": {},
   "source": [
    "#### II.2.1 Preprocessing"
   ]
  },
  {
   "cell_type": "code",
   "execution_count": 14,
   "metadata": {},
   "outputs": [],
   "source": [
    "before_pp = enrichment_tot.shape[0]"
   ]
  },
  {
   "cell_type": "code",
   "execution_count": 15,
   "metadata": {},
   "outputs": [],
   "source": [
    "enrichment_tot = enrichment_tot[enrichment_tot[\"id\"].isin(list(great_webserver[\"id\"]))]\n",
    "enrichment_tot = enrichment_tot.sort_values(\"id\")\n",
    "after_pp = enrichment_tot.shape[0]"
   ]
  },
  {
   "cell_type": "code",
   "execution_count": 16,
   "metadata": {},
   "outputs": [],
   "source": [
    "great_webserver = great_webserver[great_webserver[\"id\"].isin(list(enrichment_tot[\"id\"]))]\n",
    "great_webserver = great_webserver.sort_values(\"id\")"
   ]
  },
  {
   "cell_type": "code",
   "execution_count": 17,
   "metadata": {},
   "outputs": [],
   "source": [
    "binom_greatpy = hyper_greatpy = binom_great = hyper_great = []\n",
    "for i in range(enrichment_tot.shape[0]) : \n",
    "    curr_enrichment = enrichment_tot.iloc[i]\n",
    "    curr_great_webserver = great_webserver.loc[great_webserver[\"id\"]==curr_enrichment[\"id\"]]\n",
    "    binom_greatpy.append(float(curr_enrichment[\"binom_p_value\"]))\n",
    "    hyper_greatpy.append(float(curr_enrichment[\"hyper_p_value\"]))\n",
    "    binom_great.append(float(curr_great_webserver[\"binom_p_value\"]))\n",
    "    hyper_great.append(float(curr_great_webserver[\"hyper_p_value\"]))\n",
    "binom = pd.DataFrame({\"binom_greatpy\":binom_greatpy,\"binom_great\":binom_great})\n",
    "hyper = pd.DataFrame({\"hyper_greatpy\":hyper_greatpy,\"hyper_great\":hyper_great})"
   ]
  },
  {
   "cell_type": "markdown",
   "metadata": {},
   "source": [
    "#### II.2.b Graphical"
   ]
  },
  {
   "cell_type": "code",
   "execution_count": 18,
   "metadata": {},
   "outputs": [
    {
     "data": {
      "image/png": "[encoded data removed]",
      "text/plain": [
       "<Figure size 432x288 with 1 Axes>"
      ]
     },
     "metadata": {
      "needs_background": "light"
     },
     "output_type": "display_data"
    }
   ],
   "source": [
    "pl=great.pl.scatterplot(binom,colname_x=\"binom_greatpy\",colname_y=\"binom_great\")"
   ]
  },
  {
   "cell_type": "code",
   "execution_count": 19,
   "metadata": {},
   "outputs": [
    {
     "data": {
      "image/png": "[encoded data removed]",
      "text/plain": [
       "<Figure size 432x288 with 1 Axes>"
      ]
     },
     "metadata": {
      "needs_background": "light"
     },
     "output_type": "display_data"
    }
   ],
   "source": [
    "great.pl.scatterplot(hyper,colname_x=\"hyper_greatpy\",colname_y=\"hyper_great\")"
   ]
  },
  {
   "cell_type": "markdown",
   "metadata": {},
   "source": [
    "#### II.2.c Statistics"
   ]
  },
  {
   "cell_type": "code",
   "execution_count": 20,
   "metadata": {},
   "outputs": [],
   "source": [
    "def stat(binom_great_list_list, hyper_great_listpy_list,binom_great_list,hyper_great_list) : \n",
    "    return pd.DataFrame({\n",
    "        \"binom\": [cov(m = binom_great_list_list, y = binom_great_list)[0][1],pearsonr(binom_great_list_list,binom_great_list)[0]],\n",
    "        \"hyper\":[cov(m = hyper_great_listpy_list, y = hyper_great_list)[0][1],pearsonr(hyper_great_listpy_list,hyper_great_list)[0]]},\n",
    "        index=[\"correlation_coefficient\",\"pearson\"])"
   ]
  },
  {
   "cell_type": "code",
   "execution_count": 25,
   "metadata": {},
   "outputs": [
    {
     "data": {
      "text/plain": [
       "0.0"
      ]
     },
     "execution_count": 25,
     "metadata": {},
     "output_type": "execute_result"
    }
   ],
   "source": [
    "1e-200*1e-308"
   ]
  },
  {
   "cell_type": "code",
   "execution_count": 21,
   "metadata": {},
   "outputs": [
    {
     "ename": "ValueError",
     "evalue": "array must not contain infs or NaNs",
     "output_type": "error",
     "traceback": [
      "\u001b[0;31m---------------------------------------------------------------------------\u001b[0m",
      "\u001b[0;31mValueError\u001b[0m                                Traceback (most recent call last)",
      "\u001b[1;32m/home/tom/Stage/greatpy/notebooks/test/02_srf_hg38.ipynb Cell 26'\u001b[0m in \u001b[0;36m<cell line: 1>\u001b[0;34m()\u001b[0m\n\u001b[0;32m----> <a href='vscode-notebook-cell://wsl%2Bubuntu/home/tom/Stage/greatpy/notebooks/test/02_srf_hg38.ipynb#ch0000025vscode-remote?line=0'>1</a>\u001b[0m stat(binom_greatpy, hyper_greatpy,binom_great,hyper_great)\n",
      "\u001b[1;32m/home/tom/Stage/greatpy/notebooks/test/02_srf_hg38.ipynb Cell 25'\u001b[0m in \u001b[0;36mstat\u001b[0;34m(binom_great_list_list, hyper_great_listpy_list, binom_great_list, hyper_great_list)\u001b[0m\n\u001b[1;32m      <a href='vscode-notebook-cell://wsl%2Bubuntu/home/tom/Stage/greatpy/notebooks/test/02_srf_hg38.ipynb#ch0000024vscode-remote?line=0'>1</a>\u001b[0m \u001b[39mdef\u001b[39;00m \u001b[39mstat\u001b[39m(binom_great_list_list, hyper_great_listpy_list,binom_great_list,hyper_great_list) : \n\u001b[1;32m      <a href='vscode-notebook-cell://wsl%2Bubuntu/home/tom/Stage/greatpy/notebooks/test/02_srf_hg38.ipynb#ch0000024vscode-remote?line=1'>2</a>\u001b[0m     \u001b[39mreturn\u001b[39;00m pd\u001b[39m.\u001b[39mDataFrame({\n\u001b[0;32m----> <a href='vscode-notebook-cell://wsl%2Bubuntu/home/tom/Stage/greatpy/notebooks/test/02_srf_hg38.ipynb#ch0000024vscode-remote?line=2'>3</a>\u001b[0m         \u001b[39m\"\u001b[39m\u001b[39mbinom\u001b[39m\u001b[39m\"\u001b[39m: [cov(m \u001b[39m=\u001b[39m binom_great_list_list, y \u001b[39m=\u001b[39m binom_great_list)[\u001b[39m0\u001b[39m][\u001b[39m1\u001b[39m],pearsonr(binom_great_list_list,binom_great_list)[\u001b[39m0\u001b[39m]],\n\u001b[1;32m      <a href='vscode-notebook-cell://wsl%2Bubuntu/home/tom/Stage/greatpy/notebooks/test/02_srf_hg38.ipynb#ch0000024vscode-remote?line=3'>4</a>\u001b[0m         \u001b[39m\"\u001b[39m\u001b[39mhyper\u001b[39m\u001b[39m\"\u001b[39m:[cov(m \u001b[39m=\u001b[39m hyper_great_listpy_list, y \u001b[39m=\u001b[39m hyper_great_list)[\u001b[39m0\u001b[39m][\u001b[39m1\u001b[39m],pearsonr(hyper_great_listpy_list,hyper_great_list)[\u001b[39m0\u001b[39m]]},\n\u001b[1;32m      <a href='vscode-notebook-cell://wsl%2Bubuntu/home/tom/Stage/greatpy/notebooks/test/02_srf_hg38.ipynb#ch0000024vscode-remote?line=4'>5</a>\u001b[0m         index\u001b[39m=\u001b[39m[\u001b[39m\"\u001b[39m\u001b[39mcorrelation_coefficient\u001b[39m\u001b[39m\"\u001b[39m,\u001b[39m\"\u001b[39m\u001b[39mpearson\u001b[39m\u001b[39m\"\u001b[39m])\n",
      "File \u001b[0;32m~/.local/lib/python3.8/site-packages/scipy/stats/_stats_py.py:4090\u001b[0m, in \u001b[0;36mpearsonr\u001b[0;34m(x, y)\u001b[0m\n\u001b[1;32m   4085\u001b[0m ym \u001b[39m=\u001b[39m y\u001b[39m.\u001b[39mastype(dtype) \u001b[39m-\u001b[39m ymean\n\u001b[1;32m   4087\u001b[0m \u001b[39m# Unlike np.linalg.norm or the expression sqrt((xm*xm).sum()),\u001b[39;00m\n\u001b[1;32m   4088\u001b[0m \u001b[39m# scipy.linalg.norm(xm) does not overflow if xm is, for example,\u001b[39;00m\n\u001b[1;32m   4089\u001b[0m \u001b[39m# [-5e210, 5e210, 3e200, -3e200]\u001b[39;00m\n\u001b[0;32m-> 4090\u001b[0m normxm \u001b[39m=\u001b[39m linalg\u001b[39m.\u001b[39;49mnorm(xm)\n\u001b[1;32m   4091\u001b[0m normym \u001b[39m=\u001b[39m linalg\u001b[39m.\u001b[39mnorm(ym)\n\u001b[1;32m   4093\u001b[0m threshold \u001b[39m=\u001b[39m \u001b[39m1e-13\u001b[39m\n",
      "File \u001b[0;32m~/.local/lib/python3.8/site-packages/scipy/linalg/_misc.py:145\u001b[0m, in \u001b[0;36mnorm\u001b[0;34m(a, ord, axis, keepdims, check_finite)\u001b[0m\n\u001b[1;32m    143\u001b[0m \u001b[39m# Differs from numpy only in non-finite handling and the use of blas.\u001b[39;00m\n\u001b[1;32m    144\u001b[0m \u001b[39mif\u001b[39;00m check_finite:\n\u001b[0;32m--> 145\u001b[0m     a \u001b[39m=\u001b[39m np\u001b[39m.\u001b[39;49masarray_chkfinite(a)\n\u001b[1;32m    146\u001b[0m \u001b[39melse\u001b[39;00m:\n\u001b[1;32m    147\u001b[0m     a \u001b[39m=\u001b[39m np\u001b[39m.\u001b[39masarray(a)\n",
      "File \u001b[0;32m~/.local/lib/python3.8/site-packages/numpy/lib/function_base.py:603\u001b[0m, in \u001b[0;36masarray_chkfinite\u001b[0;34m(a, dtype, order)\u001b[0m\n\u001b[1;32m    601\u001b[0m a \u001b[39m=\u001b[39m asarray(a, dtype\u001b[39m=\u001b[39mdtype, order\u001b[39m=\u001b[39morder)\n\u001b[1;32m    602\u001b[0m \u001b[39mif\u001b[39;00m a\u001b[39m.\u001b[39mdtype\u001b[39m.\u001b[39mchar \u001b[39min\u001b[39;00m typecodes[\u001b[39m'\u001b[39m\u001b[39mAllFloat\u001b[39m\u001b[39m'\u001b[39m] \u001b[39mand\u001b[39;00m \u001b[39mnot\u001b[39;00m np\u001b[39m.\u001b[39misfinite(a)\u001b[39m.\u001b[39mall():\n\u001b[0;32m--> 603\u001b[0m     \u001b[39mraise\u001b[39;00m \u001b[39mValueError\u001b[39;00m(\n\u001b[1;32m    604\u001b[0m         \u001b[39m\"\u001b[39m\u001b[39marray must not contain infs or NaNs\u001b[39m\u001b[39m\"\u001b[39m)\n\u001b[1;32m    605\u001b[0m \u001b[39mreturn\u001b[39;00m a\n",
      "\u001b[0;31mValueError\u001b[0m: array must not contain infs or NaNs"
     ]
    }
   ],
   "source": [
    "stat(binom_greatpy, hyper_greatpy,binom_great,hyper_great)"
   ]
  },
  {
   "cell_type": "code",
   "execution_count": null,
   "metadata": {},
   "outputs": [
    {
     "name": "stdout",
     "output_type": "stream",
     "text": [
      "268\n",
      "92\n"
     ]
    }
   ],
   "source": [
    "print(before_pp)\n",
    "print(after_pp)"
   ]
  },
  {
   "cell_type": "markdown",
   "metadata": {},
   "source": [
    "We went from 268 ontology terms in greatpy output to 92 ontology terms by selecting the GO identifiers present in both greatpy and great "
   ]
  },
  {
   "cell_type": "markdown",
   "metadata": {},
   "source": [
    "But when two ontology terms are selected they have the same binomial and hypergeometric probability value "
   ]
  }
 ],
 "metadata": {
  "kernelspec": {
   "display_name": "Python 3.8.10 64-bit",
   "language": "python",
   "name": "python3"
  },
  "language_info": {
   "codemirror_mode": {
    "name": "ipython",
    "version": 3
   },
   "file_extension": ".py",
   "mimetype": "text/x-python",
   "name": "python",
   "nbconvert_exporter": "python",
   "pygments_lexer": "ipython3",
   "version": "3.8.10"
  },
  "orig_nbformat": 4,
  "vscode": {
   "interpreter": {
    "hash": "916dbcbb3f70747c44a77c7bcd40155683ae19c65e1c03b4aa3499c5328201f1"
   }
  }
 },
 "nbformat": 4,
 "nbformat_minor": 2
}
