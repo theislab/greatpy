{
 "cells": [
  {
   "cell_type": "markdown",
   "metadata": {},
   "source": [
    "# Computation of annotation enrichment in a genetic set "
   ]
  },
  {
   "cell_type": "markdown",
   "metadata": {},
   "source": [
    "This code excerpt shows how to use the annotation enrichment computation function in a genetic set.\n",
    "The funciton return a dataframe of binom and hypergeometric p-value (<= 0.05) and for each p-value a fdr correction with alpha = 0.05.   "
   ]
  },
  {
   "cell_type": "markdown",
   "metadata": {},
   "source": [
    "In the second part of the code we will compare the results obtained with the Great webserver and between the binomial and hypergeometric probability"
   ]
  },
  {
   "cell_type": "code",
   "execution_count": 1,
   "metadata": {},
   "outputs": [],
   "source": [
    "%load_ext autoreload\n",
    "%autoreload 2"
   ]
  },
  {
   "cell_type": "code",
   "execution_count": 2,
   "metadata": {},
   "outputs": [],
   "source": [
    "import greatpy as great\n",
    "import pandas as pd\n",
    "from math import inf\n",
    "from numpy import log,nan, int64,cov,corrcoef\n",
    "from scipy.stats import pearsonr\n",
    "from seaborn import scatterplot as sp\n",
    "\n",
    "import warnings\n",
    "warnings.filterwarnings('ignore')"
   ]
  },
  {
   "cell_type": "code",
   "execution_count": 3,
   "metadata": {},
   "outputs": [],
   "source": [
    "test = \"../../data/test/03_srf_hg19.bed\"\n",
    "regdom = \"/home/icb/tom.mauger-birocheau/internship/regdom.hg19\"\n",
    "great_out = \"../../data/test/03_srf_hg19_output_great_webserver.tsv\"\n",
    "great_asso = \"../../data/test/03_srf_hg19_gene_asso.tsv\"\n",
    "size = \"/storage/groups/ml01/datasets/annotations/hg19/hg19.chrom.sizes\""
   ]
  },
  {
   "cell_type": "markdown",
   "metadata": {},
   "source": [
    "## I Compute the p-values"
   ]
  },
  {
   "cell_type": "code",
   "execution_count": 4,
   "metadata": {},
   "outputs": [
    {
     "data": {
      "text/html": [
       "<div>\n",
       "<style scoped>\n",
       "    .dataframe tbody tr th:only-of-type {\n",
       "        vertical-align: middle;\n",
       "    }\n",
       "\n",
       "    .dataframe tbody tr th {\n",
       "        vertical-align: top;\n",
       "    }\n",
       "\n",
       "    .dataframe thead th {\n",
       "        text-align: right;\n",
       "    }\n",
       "</style>\n",
       "<table border=\"1\" class=\"dataframe\">\n",
       "  <thead>\n",
       "    <tr style=\"text-align: right;\">\n",
       "      <th></th>\n",
       "      <th>go_term</th>\n",
       "      <th>binom_p_value</th>\n",
       "      <th>hypergeom_p_value</th>\n",
       "      <th>binom_bonferroni</th>\n",
       "      <th>hypergeom_bonferroni</th>\n",
       "      <th>binom_fdr</th>\n",
       "      <th>hypergeom_fdr</th>\n",
       "    </tr>\n",
       "  </thead>\n",
       "  <tbody>\n",
       "    <tr>\n",
       "      <th>GO:0005654</th>\n",
       "      <td>nucleoplasm</td>\n",
       "      <td>9.08310e-15</td>\n",
       "      <td>8.15000e-306</td>\n",
       "      <td>4.07922e-11</td>\n",
       "      <td>3.66016e-302</td>\n",
       "      <td>4.07922e-11</td>\n",
       "      <td>NaN</td>\n",
       "    </tr>\n",
       "    <tr>\n",
       "      <th>GO:0072749</th>\n",
       "      <td>cellular response to cytochalasin B</td>\n",
       "      <td>2.22176e-12</td>\n",
       "      <td>1.00000e-308</td>\n",
       "      <td>9.97795e-09</td>\n",
       "      <td>4.49100e-305</td>\n",
       "      <td>3.32598e-09</td>\n",
       "      <td>NaN</td>\n",
       "    </tr>\n",
       "    <tr>\n",
       "      <th>GO:0051623</th>\n",
       "      <td>positive regulation of norepinephrine uptake</td>\n",
       "      <td>2.22176e-12</td>\n",
       "      <td>1.00000e-308</td>\n",
       "      <td>9.97795e-09</td>\n",
       "      <td>4.49100e-305</td>\n",
       "      <td>3.32598e-09</td>\n",
       "      <td>NaN</td>\n",
       "    </tr>\n",
       "    <tr>\n",
       "      <th>GO:0015629</th>\n",
       "      <td>actin cytoskeleton</td>\n",
       "      <td>9.65326e-12</td>\n",
       "      <td>2.02000e-306</td>\n",
       "      <td>4.33528e-08</td>\n",
       "      <td>9.07182e-303</td>\n",
       "      <td>1.08382e-08</td>\n",
       "      <td>NaN</td>\n",
       "    </tr>\n",
       "    <tr>\n",
       "      <th>GO:0051621</th>\n",
       "      <td>regulation of norepinephrine uptake</td>\n",
       "      <td>3.74424e-11</td>\n",
       "      <td>4.00000e-308</td>\n",
       "      <td>1.68154e-07</td>\n",
       "      <td>1.79640e-304</td>\n",
       "      <td>3.36308e-08</td>\n",
       "      <td>NaN</td>\n",
       "    </tr>\n",
       "    <tr>\n",
       "      <th>...</th>\n",
       "      <td>...</td>\n",
       "      <td>...</td>\n",
       "      <td>...</td>\n",
       "      <td>...</td>\n",
       "      <td>...</td>\n",
       "      <td>...</td>\n",
       "      <td>...</td>\n",
       "    </tr>\n",
       "    <tr>\n",
       "      <th>GO:0015141</th>\n",
       "      <td>succinate transmembrane transporter activity</td>\n",
       "      <td>1.00000e+00</td>\n",
       "      <td>1.00000e-307</td>\n",
       "      <td>1.00000e+00</td>\n",
       "      <td>4.49100e-304</td>\n",
       "      <td>1.00000e+00</td>\n",
       "      <td>NaN</td>\n",
       "    </tr>\n",
       "    <tr>\n",
       "      <th>GO:0071422</th>\n",
       "      <td>succinate transmembrane transport</td>\n",
       "      <td>1.00000e+00</td>\n",
       "      <td>8.00000e-308</td>\n",
       "      <td>1.00000e+00</td>\n",
       "      <td>3.59280e-304</td>\n",
       "      <td>1.00000e+00</td>\n",
       "      <td>NaN</td>\n",
       "    </tr>\n",
       "    <tr>\n",
       "      <th>GO:0015116</th>\n",
       "      <td>sulfate transmembrane transporter activity</td>\n",
       "      <td>1.00000e+00</td>\n",
       "      <td>2.30000e-307</td>\n",
       "      <td>1.00000e+00</td>\n",
       "      <td>1.03293e-303</td>\n",
       "      <td>1.00000e+00</td>\n",
       "      <td>NaN</td>\n",
       "    </tr>\n",
       "    <tr>\n",
       "      <th>GO:0003680</th>\n",
       "      <td>AT DNA binding</td>\n",
       "      <td>1.00000e+00</td>\n",
       "      <td>1.70000e-307</td>\n",
       "      <td>1.00000e+00</td>\n",
       "      <td>7.63470e-304</td>\n",
       "      <td>1.00000e+00</td>\n",
       "      <td>NaN</td>\n",
       "    </tr>\n",
       "    <tr>\n",
       "      <th>GO:1905832</th>\n",
       "      <td>positive regulation of spindle assembly</td>\n",
       "      <td>1.00000e+00</td>\n",
       "      <td>5.00000e-308</td>\n",
       "      <td>1.00000e+00</td>\n",
       "      <td>2.24550e-304</td>\n",
       "      <td>1.00000e+00</td>\n",
       "      <td>NaN</td>\n",
       "    </tr>\n",
       "  </tbody>\n",
       "</table>\n",
       "<p>4491 rows × 7 columns</p>\n",
       "</div>"
      ],
      "text/plain": [
       "                                                 go_term  binom_p_value  \\\n",
       "GO:0005654                                   nucleoplasm    9.08310e-15   \n",
       "GO:0072749           cellular response to cytochalasin B    2.22176e-12   \n",
       "GO:0051623  positive regulation of norepinephrine uptake    2.22176e-12   \n",
       "GO:0015629                            actin cytoskeleton    9.65326e-12   \n",
       "GO:0051621           regulation of norepinephrine uptake    3.74424e-11   \n",
       "...                                                  ...            ...   \n",
       "GO:0015141  succinate transmembrane transporter activity    1.00000e+00   \n",
       "GO:0071422             succinate transmembrane transport    1.00000e+00   \n",
       "GO:0015116    sulfate transmembrane transporter activity    1.00000e+00   \n",
       "GO:0003680                                AT DNA binding    1.00000e+00   \n",
       "GO:1905832       positive regulation of spindle assembly    1.00000e+00   \n",
       "\n",
       "            hypergeom_p_value  binom_bonferroni  hypergeom_bonferroni  \\\n",
       "GO:0005654       8.15000e-306       4.07922e-11          3.66016e-302   \n",
       "GO:0072749       1.00000e-308       9.97795e-09          4.49100e-305   \n",
       "GO:0051623       1.00000e-308       9.97795e-09          4.49100e-305   \n",
       "GO:0015629       2.02000e-306       4.33528e-08          9.07182e-303   \n",
       "GO:0051621       4.00000e-308       1.68154e-07          1.79640e-304   \n",
       "...                       ...               ...                   ...   \n",
       "GO:0015141       1.00000e-307       1.00000e+00          4.49100e-304   \n",
       "GO:0071422       8.00000e-308       1.00000e+00          3.59280e-304   \n",
       "GO:0015116       2.30000e-307       1.00000e+00          1.03293e-303   \n",
       "GO:0003680       1.70000e-307       1.00000e+00          7.63470e-304   \n",
       "GO:1905832       5.00000e-308       1.00000e+00          2.24550e-304   \n",
       "\n",
       "              binom_fdr  hypergeom_fdr  \n",
       "GO:0005654  4.07922e-11            NaN  \n",
       "GO:0072749  3.32598e-09            NaN  \n",
       "GO:0051623  3.32598e-09            NaN  \n",
       "GO:0015629  1.08382e-08            NaN  \n",
       "GO:0051621  3.36308e-08            NaN  \n",
       "...                 ...            ...  \n",
       "GO:0015141  1.00000e+00            NaN  \n",
       "GO:0071422  1.00000e+00            NaN  \n",
       "GO:0015116  1.00000e+00            NaN  \n",
       "GO:0003680  1.00000e+00            NaN  \n",
       "GO:1905832  1.00000e+00            NaN  \n",
       "\n",
       "[4491 rows x 7 columns]"
      ]
     },
     "execution_count": 4,
     "metadata": {},
     "output_type": "execute_result"
    }
   ],
   "source": [
    "enrichment_tot = great.tl.GREAT.enrichment(\n",
    "    test_file=test,\n",
    "    regdom_file=regdom,\n",
    "    chr_size_file=size,\n",
    "    annotation_file=\"../../data/human/ontologies.csv\",\n",
    "    binom=True,\n",
    "    hypergeom=True,\n",
    "    )\n",
    "great.tl.GREAT.set_bonferroni(enrichment_tot,0.05)\n",
    "great.tl.GREAT.set_fdr(enrichment_tot,0.05)"
   ]
  },
  {
   "cell_type": "markdown",
   "metadata": {},
   "source": [
    "## II Compare to GREAT webserver  "
   ]
  },
  {
   "cell_type": "markdown",
   "metadata": {},
   "source": [
    "### II.1 Import the data"
   ]
  },
  {
   "cell_type": "code",
   "execution_count": 5,
   "metadata": {},
   "outputs": [],
   "source": [
    "great_webserver = pd.read_csv(great_out,sep=\"\\t\",comment=\"#\",\n",
    "                    names=[\"ontologie\",\"term_name\",\"ID\",\"binom_p_value\",\"binom_bonferroni\",\"binom_fdr\",\"hyper_p_value\",\"hyper_bonferroni\",\"hyper_fdr\"],index_col=False,\n",
    "                    dtype={\"term_name\":\"object\", \"ID\":\"object\",\"binom_p_value\":\"float64\", \"binom_bonferroni\":\"float64\", \"binom_fdr\":\"float64\", \"hyper_p_value\":\"float64\", \"hyper_bonferroni\":\"float64\", \"hyper_fdr\":\"float64\"})\n",
    "great_webserver.rename(columns={\"ID\":\"id\"},inplace=True)\n",
    "del great_webserver[\"ontologie\"]\n",
    "del great_webserver[\"term_name\"]"
   ]
  },
  {
   "cell_type": "code",
   "execution_count": 6,
   "metadata": {},
   "outputs": [
    {
     "data": {
      "text/html": [
       "<div>\n",
       "<style scoped>\n",
       "    .dataframe tbody tr th:only-of-type {\n",
       "        vertical-align: middle;\n",
       "    }\n",
       "\n",
       "    .dataframe tbody tr th {\n",
       "        vertical-align: top;\n",
       "    }\n",
       "\n",
       "    .dataframe thead th {\n",
       "        text-align: right;\n",
       "    }\n",
       "</style>\n",
       "<table border=\"1\" class=\"dataframe\">\n",
       "  <thead>\n",
       "    <tr style=\"text-align: right;\">\n",
       "      <th></th>\n",
       "      <th>id</th>\n",
       "      <th>binom_p_value</th>\n",
       "      <th>binom_bonferroni</th>\n",
       "      <th>binom_fdr</th>\n",
       "      <th>hyper_p_value</th>\n",
       "      <th>hyper_bonferroni</th>\n",
       "      <th>hyper_fdr</th>\n",
       "    </tr>\n",
       "  </thead>\n",
       "  <tbody>\n",
       "    <tr>\n",
       "      <th>0</th>\n",
       "      <td>GO:0098974</td>\n",
       "      <td>3.51315e-12</td>\n",
       "      <td>4.61804e-08</td>\n",
       "      <td>4.61804e-08</td>\n",
       "      <td>4.26438e-02</td>\n",
       "      <td>1.00000e+00</td>\n",
       "      <td>1.00000e+00</td>\n",
       "    </tr>\n",
       "    <tr>\n",
       "      <th>1</th>\n",
       "      <td>GO:0032796</td>\n",
       "      <td>4.25834e-09</td>\n",
       "      <td>5.59758e-05</td>\n",
       "      <td>2.79879e-05</td>\n",
       "      <td>1.81629e-03</td>\n",
       "      <td>1.00000e+00</td>\n",
       "      <td>2.56722e-01</td>\n",
       "    </tr>\n",
       "    <tr>\n",
       "      <th>2</th>\n",
       "      <td>GO:0070527</td>\n",
       "      <td>3.67269e-08</td>\n",
       "      <td>4.82775e-04</td>\n",
       "      <td>1.60925e-04</td>\n",
       "      <td>2.66655e-02</td>\n",
       "      <td>1.00000e+00</td>\n",
       "      <td>8.91905e-01</td>\n",
       "    </tr>\n",
       "    <tr>\n",
       "      <th>3</th>\n",
       "      <td>GO:0038094</td>\n",
       "      <td>1.39674e-07</td>\n",
       "      <td>1.83602e-03</td>\n",
       "      <td>4.59005e-04</td>\n",
       "      <td>8.37779e-05</td>\n",
       "      <td>1.00000e+00</td>\n",
       "      <td>4.07874e-02</td>\n",
       "    </tr>\n",
       "    <tr>\n",
       "      <th>4</th>\n",
       "      <td>GO:1903919</td>\n",
       "      <td>1.50542e-07</td>\n",
       "      <td>1.97888e-03</td>\n",
       "      <td>3.95775e-04</td>\n",
       "      <td>4.26438e-02</td>\n",
       "      <td>1.00000e+00</td>\n",
       "      <td>1.00000e+00</td>\n",
       "    </tr>\n",
       "    <tr>\n",
       "      <th>...</th>\n",
       "      <td>...</td>\n",
       "      <td>...</td>\n",
       "      <td>...</td>\n",
       "      <td>...</td>\n",
       "      <td>...</td>\n",
       "      <td>...</td>\n",
       "      <td>...</td>\n",
       "    </tr>\n",
       "    <tr>\n",
       "      <th>338</th>\n",
       "      <td>GO:0070119</td>\n",
       "      <td>3.23390e-02</td>\n",
       "      <td>1.00000e+00</td>\n",
       "      <td>1.00000e+00</td>\n",
       "      <td>4.26438e-02</td>\n",
       "      <td>1.00000e+00</td>\n",
       "      <td>1.00000e+00</td>\n",
       "    </tr>\n",
       "    <tr>\n",
       "      <th>339</th>\n",
       "      <td>GO:0051959</td>\n",
       "      <td>3.37217e-02</td>\n",
       "      <td>1.00000e+00</td>\n",
       "      <td>1.00000e+00</td>\n",
       "      <td>7.05500e-03</td>\n",
       "      <td>1.00000e+00</td>\n",
       "      <td>7.08692e-01</td>\n",
       "    </tr>\n",
       "    <tr>\n",
       "      <th>340</th>\n",
       "      <td>GO:0047224</td>\n",
       "      <td>3.81319e-02</td>\n",
       "      <td>1.00000e+00</td>\n",
       "      <td>1.00000e+00</td>\n",
       "      <td>4.26438e-02</td>\n",
       "      <td>1.00000e+00</td>\n",
       "      <td>1.00000e+00</td>\n",
       "    </tr>\n",
       "    <tr>\n",
       "      <th>341</th>\n",
       "      <td>GO:0048531</td>\n",
       "      <td>3.95004e-02</td>\n",
       "      <td>1.00000e+00</td>\n",
       "      <td>1.00000e+00</td>\n",
       "      <td>2.85627e-02</td>\n",
       "      <td>1.00000e+00</td>\n",
       "      <td>1.00000e+00</td>\n",
       "    </tr>\n",
       "    <tr>\n",
       "      <th>342</th>\n",
       "      <td>GO:0017081</td>\n",
       "      <td>4.09618e-02</td>\n",
       "      <td>1.00000e+00</td>\n",
       "      <td>1.00000e+00</td>\n",
       "      <td>2.85627e-02</td>\n",
       "      <td>1.00000e+00</td>\n",
       "      <td>1.00000e+00</td>\n",
       "    </tr>\n",
       "  </tbody>\n",
       "</table>\n",
       "<p>343 rows × 7 columns</p>\n",
       "</div>"
      ],
      "text/plain": [
       "             id  binom_p_value  binom_bonferroni    binom_fdr  hyper_p_value  \\\n",
       "0    GO:0098974    3.51315e-12       4.61804e-08  4.61804e-08    4.26438e-02   \n",
       "1    GO:0032796    4.25834e-09       5.59758e-05  2.79879e-05    1.81629e-03   \n",
       "2    GO:0070527    3.67269e-08       4.82775e-04  1.60925e-04    2.66655e-02   \n",
       "3    GO:0038094    1.39674e-07       1.83602e-03  4.59005e-04    8.37779e-05   \n",
       "4    GO:1903919    1.50542e-07       1.97888e-03  3.95775e-04    4.26438e-02   \n",
       "..          ...            ...               ...          ...            ...   \n",
       "338  GO:0070119    3.23390e-02       1.00000e+00  1.00000e+00    4.26438e-02   \n",
       "339  GO:0051959    3.37217e-02       1.00000e+00  1.00000e+00    7.05500e-03   \n",
       "340  GO:0047224    3.81319e-02       1.00000e+00  1.00000e+00    4.26438e-02   \n",
       "341  GO:0048531    3.95004e-02       1.00000e+00  1.00000e+00    2.85627e-02   \n",
       "342  GO:0017081    4.09618e-02       1.00000e+00  1.00000e+00    2.85627e-02   \n",
       "\n",
       "     hyper_bonferroni    hyper_fdr  \n",
       "0         1.00000e+00  1.00000e+00  \n",
       "1         1.00000e+00  2.56722e-01  \n",
       "2         1.00000e+00  8.91905e-01  \n",
       "3         1.00000e+00  4.07874e-02  \n",
       "4         1.00000e+00  1.00000e+00  \n",
       "..                ...          ...  \n",
       "338       1.00000e+00  1.00000e+00  \n",
       "339       1.00000e+00  7.08692e-01  \n",
       "340       1.00000e+00  1.00000e+00  \n",
       "341       1.00000e+00  1.00000e+00  \n",
       "342       1.00000e+00  1.00000e+00  \n",
       "\n",
       "[343 rows x 7 columns]"
      ]
     },
     "execution_count": 6,
     "metadata": {},
     "output_type": "execute_result"
    }
   ],
   "source": [
    "great_webserver"
   ]
  },
  {
   "cell_type": "markdown",
   "metadata": {},
   "source": [
    "### II.2 Compare the results between greatpy and great "
   ]
  },
  {
   "cell_type": "markdown",
   "metadata": {},
   "source": [
    "#### II.2.1 Preprocessing"
   ]
  },
  {
   "cell_type": "code",
   "execution_count": 7,
   "metadata": {},
   "outputs": [],
   "source": [
    "before_pp = enrichment_tot.shape[0]\n",
    "enrichment_tot = enrichment_tot[enrichment_tot.index.isin(list(great_webserver[\"id\"]))]\n",
    "after_pp = enrichment_tot.shape[0]"
   ]
  },
  {
   "cell_type": "code",
   "execution_count": 8,
   "metadata": {},
   "outputs": [],
   "source": [
    "great_webserver = great_webserver[great_webserver[\"id\"].isin(list(enrichment_tot.index))]\n",
    "great_webserver = great_webserver.sort_values(\"id\")"
   ]
  },
  {
   "cell_type": "code",
   "execution_count": 9,
   "metadata": {},
   "outputs": [],
   "source": [
    "binom_greatpy = hyper_greatpy = binom_great = hyper_great = []\n",
    "for i in range(enrichment_tot.shape[0]) : \n",
    "    go_id = list(enrichment_tot.index)[i]\n",
    "    curr_enrichment = enrichment_tot.iloc[i]\n",
    "    curr_great_webserver = great_webserver.loc[great_webserver[\"id\"]==go_id]\n",
    "    binom_greatpy.append(float(curr_enrichment[\"binom_p_value\"]))\n",
    "    hyper_greatpy.append(float(curr_enrichment[\"hypergeom_p_value\"]))\n",
    "    binom_great.append(float(curr_great_webserver[\"binom_p_value\"]))\n",
    "    hyper_great.append(float(curr_great_webserver[\"hyper_p_value\"]))\n",
    "binom = pd.DataFrame({\"binom_greatpy\":binom_greatpy,\"binom_great\":binom_great})\n",
    "hyper = pd.DataFrame({\"hyper_greatpy\":hyper_greatpy,\"hyper_great\":hyper_great})"
   ]
  },
  {
   "cell_type": "markdown",
   "metadata": {},
   "source": [
    "#### II.2.b Graphical"
   ]
  },
  {
   "cell_type": "code",
   "execution_count": 10,
   "metadata": {},
   "outputs": [
    {
     "data": {
      "image/png": "[encoded data removed]",
      "text/plain": [
       "<Figure size 432x288 with 1 Axes>"
      ]
     },
     "metadata": {
      "needs_background": "light"
     },
     "output_type": "display_data"
    }
   ],
   "source": [
    "pl=great.pl.scatterplot(binom,colname_x=\"binom_greatpy\",colname_y=\"binom_great\")"
   ]
  },
  {
   "cell_type": "code",
   "execution_count": 11,
   "metadata": {},
   "outputs": [
    {
     "data": {
      "image/png": "[encoded data removed]",
      "text/plain": [
       "<Figure size 432x288 with 1 Axes>"
      ]
     },
     "metadata": {
      "needs_background": "light"
     },
     "output_type": "display_data"
    }
   ],
   "source": [
    "great.pl.scatterplot(hyper,colname_x=\"hyper_greatpy\",colname_y=\"hyper_great\")"
   ]
  },
  {
   "cell_type": "markdown",
   "metadata": {},
   "source": [
    "#### II.2.c Statistics"
   ]
  },
  {
   "cell_type": "code",
   "execution_count": 12,
   "metadata": {},
   "outputs": [],
   "source": [
    "def stat(binom_great_list_list, hyper_great_listpy_list,binom_great_list,hyper_great_list) : \n",
    "    if len(binom_great_list_list) >= 2 and len(hyper_great_listpy_list) >= 2 and len(binom_great_list) >= 2  and len(hyper_great_list) >= 2 : \n",
    "        return pd.DataFrame({\n",
    "            \"binom\": [cov(m = binom_great_list_list, y = binom_great_list)[0][1],pearsonr(binom_great_list_list,binom_great_list)[0]],\n",
    "            \"hyper\":[cov(m = hyper_great_listpy_list, y = hyper_great_list)[0][1],pearsonr(hyper_great_listpy_list,hyper_great_list)[0]]},\n",
    "            index=[\"correlation_coefficient\",\"pearson\"])\n",
    "    return False"
   ]
  },
  {
   "cell_type": "markdown",
   "metadata": {},
   "source": [
    "Issue is : NaN in hyper_fdr"
   ]
  },
  {
   "cell_type": "code",
   "execution_count": 13,
   "metadata": {},
   "outputs": [],
   "source": [
    "# stat(binom_greatpy, hyper_greatpy,binom_great,hyper_great)"
   ]
  },
  {
   "cell_type": "code",
   "execution_count": 14,
   "metadata": {},
   "outputs": [
    {
     "name": "stdout",
     "output_type": "stream",
     "text": [
      "4491\n",
      "246\n"
     ]
    }
   ],
   "source": [
    "print(before_pp)\n",
    "print(after_pp)"
   ]
  },
  {
   "cell_type": "markdown",
   "metadata": {},
   "source": [
    "We went from 268 ontology terms in greatpy output to 92 ontology terms by selecting the GO identifiers present in both greatpy and great "
   ]
  },
  {
   "cell_type": "markdown",
   "metadata": {},
   "source": [
    "But when two ontology terms are selected they have the same binomial and hypergeometric probability value "
   ]
  },
  {
   "cell_type": "markdown",
   "metadata": {},
   "source": [
    "# How many associations are good or bad "
   ]
  },
  {
   "cell_type": "code",
   "execution_count": 15,
   "metadata": {},
   "outputs": [
    {
     "name": "stdout",
     "output_type": "stream",
     "text": [
      "Number of gene association present in greatpy and great : 410\n",
      "Number of gene association prensent in great and not in greatpy 123\n",
      "Number of gene association prensent in greatpy and not in great 623\n"
     ]
    }
   ],
   "source": [
    "gene_asso_great = pd.read_csv(great_asso,sep=\"\\t\",comment=\"#\",names=[\"ontologies\",\"gene\"],index_col=False, dtype={\"ontologies\":\"object\",\"gene\":\"object\"},usecols=[\"gene\"])\n",
    "gene_asso_greatpy = great.tl.get_association(\n",
    "    test = pd.read_csv(test,sep=\"\\t\",comment=\"#\",usecols=[0,1,2],names=[\"Chr\", \"Chr_Start\", \"Chr_End\"],dtype={\"Chr\":\"object\", \"Chr_Start\":\"int64\", \"Chr_End\":\"int64\"}),\n",
    "    regdom= pd.read_csv(regdom,sep=\"\\t\",comment=\"#\",names=[\"Chr\", \"Chr_Start\", \"Chr_End\",\"Name\",\"tss\",\"Strand\"],dtype={\"Chr\":\"object\", \"Chr_Start\":\"int64\", \"Chr_End\":\"int64\",\"Name\":\"object\",\"tss\":\"int64\",\"Strand\":\"object\"}))\n",
    "in_in = gene_asso_great[gene_asso_great[\"gene\"].isin(gene_asso_greatpy)].shape[0]\n",
    "in_out = [i for i in list(gene_asso_great[\"gene\"]) if i not in gene_asso_greatpy]\n",
    "out_in = [i for i in gene_asso_greatpy if i not in list(gene_asso_great[\"gene\"])]\n",
    "\n",
    "print(f\"Number of gene association present in greatpy and great : {in_in}\")\n",
    "print(f\"Number of gene association prensent in great and not in greatpy {len(in_out)}\")\n",
    "print(f\"Number of gene association prensent in greatpy and not in great {len(out_in)}\")"
   ]
  }
 ],
 "metadata": {
  "kernelspec": {
   "display_name": "Python 3.9.12 ('base')",
   "language": "python",
   "name": "python3"
  },
  "language_info": {
   "codemirror_mode": {
    "name": "ipython",
    "version": 3
   },
   "file_extension": ".py",
   "mimetype": "text/x-python",
   "name": "python",
   "nbconvert_exporter": "python",
   "pygments_lexer": "ipython3",
   "version": "3.9.12"
  },
  "orig_nbformat": 4,
  "vscode": {
   "interpreter": {
    "hash": "dd3aa23b046397ccf7f1ffb7cb82646c26b15f0b12555a0fca8fb427d9fb147f"
   }
  }
 },
 "nbformat": 4,
 "nbformat_minor": 2
}
