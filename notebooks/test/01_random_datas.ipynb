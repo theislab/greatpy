{
 "cells": [
  {
   "cell_type": "markdown",
   "metadata": {},
   "source": [
    "# Computation of annotation enrichment in a genetic set "
   ]
  },
  {
   "cell_type": "markdown",
   "metadata": {},
   "source": [
    "This code excerpt shows how to use the annotation enrichment computation function in a genetic set.\n",
    "The funciton return a dataframe of binom and hypergeometric p-value (<= 0.05) and for each p-value a fdr correction with alpha = 0.05.   "
   ]
  },
  {
   "cell_type": "markdown",
   "metadata": {},
   "source": [
    "In the second part of the code we will compare the results obtained with the Great webserver and between the binomial and hypergeometric probability"
   ]
  },
  {
   "cell_type": "code",
   "execution_count": 18,
   "metadata": {},
   "outputs": [
    {
     "name": "stdout",
     "output_type": "stream",
     "text": [
      "The autoreload extension is already loaded. To reload it, use:\n",
      "  %reload_ext autoreload\n"
     ]
    }
   ],
   "source": [
    "%load_ext autoreload\n",
    "%autoreload 2"
   ]
  },
  {
   "cell_type": "code",
   "execution_count": 19,
   "metadata": {},
   "outputs": [],
   "source": [
    "import greatpy as great\n",
    "import pandas as pd\n",
    "from math import inf\n",
    "from numpy import log,nan, int64,cov,corrcoef\n",
    "from scipy.stats import pearsonr\n",
    "from seaborn import scatterplot as sp\n",
    "\n",
    "import warnings\n",
    "warnings.filterwarnings('ignore')"
   ]
  },
  {
   "cell_type": "markdown",
   "metadata": {},
   "source": [
    "## I Compute the p-values"
   ]
  },
  {
   "cell_type": "code",
   "execution_count": 20,
   "metadata": {},
   "outputs": [],
   "source": [
    "enrichment_fdr = great.tl.enrichment(\n",
    "    test=\"../../data/human/test_genomic_region.bed\",\n",
    "    regdom_file=\"../../data/human/regulatory_domain.bed\",\n",
    "    chr_size_file=\"../../data/human/chr_size.bed\",\n",
    "    annotation=\"../../data/human/ontologies.csv\",\n",
    "    binom=True,\n",
    "    hypergeom=True,\n",
    "    alpha=0.05,\n",
    "    correction=(\"fdr\",0.05)\n",
    "    )"
   ]
  },
  {
   "cell_type": "code",
   "execution_count": 21,
   "metadata": {},
   "outputs": [
    {
     "data": {
      "text/html": [
       "<div>\n",
       "<style scoped>\n",
       "    .dataframe tbody tr th:only-of-type {\n",
       "        vertical-align: middle;\n",
       "    }\n",
       "\n",
       "    .dataframe tbody tr th {\n",
       "        vertical-align: top;\n",
       "    }\n",
       "\n",
       "    .dataframe thead th {\n",
       "        text-align: right;\n",
       "    }\n",
       "</style>\n",
       "<table border=\"1\" class=\"dataframe\">\n",
       "  <thead>\n",
       "    <tr style=\"text-align: right;\">\n",
       "      <th></th>\n",
       "      <th>go_term</th>\n",
       "      <th>binom_p_value</th>\n",
       "      <th>hypergeom_p_value</th>\n",
       "      <th>binom_fdr_correction</th>\n",
       "      <th>hypergeom_fdr_correction</th>\n",
       "    </tr>\n",
       "  </thead>\n",
       "  <tbody>\n",
       "    <tr>\n",
       "      <th>GO:0001523</th>\n",
       "      <td>retinoid metabolic process</td>\n",
       "      <td>4.70169e-04</td>\n",
       "      <td>1.76153e-01</td>\n",
       "      <td>2.09985e-03</td>\n",
       "      <td>NaN</td>\n",
       "    </tr>\n",
       "    <tr>\n",
       "      <th>GO:0002162</th>\n",
       "      <td>dystroglycan binding</td>\n",
       "      <td>1.29786e-05</td>\n",
       "      <td>4.02252e-02</td>\n",
       "      <td>1.24343e-04</td>\n",
       "      <td>NaN</td>\n",
       "    </tr>\n",
       "    <tr>\n",
       "      <th>GO:0005200</th>\n",
       "      <td>structural constituent of cytoskeleton</td>\n",
       "      <td>3.73899e-03</td>\n",
       "      <td>2.76213e-01</td>\n",
       "      <td>1.12170e-02</td>\n",
       "      <td>NaN</td>\n",
       "    </tr>\n",
       "    <tr>\n",
       "      <th>GO:0005201</th>\n",
       "      <td>extracellular matrix structural constituent</td>\n",
       "      <td>1.34489e-03</td>\n",
       "      <td>3.51826e-02</td>\n",
       "      <td>4.95080e-03</td>\n",
       "      <td>NaN</td>\n",
       "    </tr>\n",
       "    <tr>\n",
       "      <th>GO:0005509</th>\n",
       "      <td>calcium ion binding</td>\n",
       "      <td>8.66371e-01</td>\n",
       "      <td>9.10282e-01</td>\n",
       "      <td>9.01268e-01</td>\n",
       "      <td>NaN</td>\n",
       "    </tr>\n",
       "    <tr>\n",
       "      <th>...</th>\n",
       "      <td>...</td>\n",
       "      <td>...</td>\n",
       "      <td>...</td>\n",
       "      <td>...</td>\n",
       "      <td>...</td>\n",
       "    </tr>\n",
       "    <tr>\n",
       "      <th>GO:0002087</th>\n",
       "      <td>regulation of respiratory gaseous exchange by ...</td>\n",
       "      <td>2.07002e-05</td>\n",
       "      <td>3.74057e-02</td>\n",
       "      <td>1.70777e-04</td>\n",
       "      <td>NaN</td>\n",
       "    </tr>\n",
       "    <tr>\n",
       "      <th>GO:0003682</th>\n",
       "      <td>chromatin binding</td>\n",
       "      <td>4.09979e-01</td>\n",
       "      <td>7.21532e-01</td>\n",
       "      <td>4.98011e-01</td>\n",
       "      <td>NaN</td>\n",
       "    </tr>\n",
       "    <tr>\n",
       "      <th>GO:0030426</th>\n",
       "      <td>growth cone</td>\n",
       "      <td>2.73584e-02</td>\n",
       "      <td>3.29606e-01</td>\n",
       "      <td>5.88800e-02</td>\n",
       "      <td>NaN</td>\n",
       "    </tr>\n",
       "    <tr>\n",
       "      <th>GO:0051968</th>\n",
       "      <td>positive regulation of synaptic transmission, ...</td>\n",
       "      <td>5.94155e-04</td>\n",
       "      <td>8.15551e-02</td>\n",
       "      <td>2.53905e-03</td>\n",
       "      <td>NaN</td>\n",
       "    </tr>\n",
       "    <tr>\n",
       "      <th>GO:0060291</th>\n",
       "      <td>long-term synaptic potentiation</td>\n",
       "      <td>2.44283e-03</td>\n",
       "      <td>1.31397e-01</td>\n",
       "      <td>8.10638e-03</td>\n",
       "      <td>NaN</td>\n",
       "    </tr>\n",
       "  </tbody>\n",
       "</table>\n",
       "<p>594 rows × 5 columns</p>\n",
       "</div>"
      ],
      "text/plain": [
       "                                                      go_term  binom_p_value  \\\n",
       "GO:0001523                         retinoid metabolic process    4.70169e-04   \n",
       "GO:0002162                               dystroglycan binding    1.29786e-05   \n",
       "GO:0005200             structural constituent of cytoskeleton    3.73899e-03   \n",
       "GO:0005201        extracellular matrix structural constituent    1.34489e-03   \n",
       "GO:0005509                                calcium ion binding    8.66371e-01   \n",
       "...                                                       ...            ...   \n",
       "GO:0002087  regulation of respiratory gaseous exchange by ...    2.07002e-05   \n",
       "GO:0003682                                  chromatin binding    4.09979e-01   \n",
       "GO:0030426                                        growth cone    2.73584e-02   \n",
       "GO:0051968  positive regulation of synaptic transmission, ...    5.94155e-04   \n",
       "GO:0060291                    long-term synaptic potentiation    2.44283e-03   \n",
       "\n",
       "            hypergeom_p_value  binom_fdr_correction  hypergeom_fdr_correction  \n",
       "GO:0001523        1.76153e-01           2.09985e-03                       NaN  \n",
       "GO:0002162        4.02252e-02           1.24343e-04                       NaN  \n",
       "GO:0005200        2.76213e-01           1.12170e-02                       NaN  \n",
       "GO:0005201        3.51826e-02           4.95080e-03                       NaN  \n",
       "GO:0005509        9.10282e-01           9.01268e-01                       NaN  \n",
       "...                       ...                   ...                       ...  \n",
       "GO:0002087        3.74057e-02           1.70777e-04                       NaN  \n",
       "GO:0003682        7.21532e-01           4.98011e-01                       NaN  \n",
       "GO:0030426        3.29606e-01           5.88800e-02                       NaN  \n",
       "GO:0051968        8.15551e-02           2.53905e-03                       NaN  \n",
       "GO:0060291        1.31397e-01           8.10638e-03                       NaN  \n",
       "\n",
       "[594 rows x 5 columns]"
      ]
     },
     "execution_count": 21,
     "metadata": {},
     "output_type": "execute_result"
    }
   ],
   "source": [
    "enrichment_fdr"
   ]
  },
  {
   "cell_type": "code",
   "execution_count": 22,
   "metadata": {},
   "outputs": [],
   "source": [
    "enrichment_bonferroni = great.tl.enrichment(\n",
    "    test=\"../../data/human/test_genomic_region.bed\",\n",
    "    regdom_file=\"../../data/human/regulatory_domain.bed\",\n",
    "    chr_size_file=\"../../data/human/chr_size.bed\",\n",
    "    annotation=\"../../data/human/ontologies.csv\",\n",
    "    binom=True,\n",
    "    hypergeom=True,\n",
    "    alpha=0.05,\n",
    "    correction=(\"bonferroni\",0.05),\n",
    "    )"
   ]
  },
  {
   "cell_type": "code",
   "execution_count": 23,
   "metadata": {},
   "outputs": [
    {
     "data": {
      "text/html": [
       "<div>\n",
       "<style scoped>\n",
       "    .dataframe tbody tr th:only-of-type {\n",
       "        vertical-align: middle;\n",
       "    }\n",
       "\n",
       "    .dataframe tbody tr th {\n",
       "        vertical-align: top;\n",
       "    }\n",
       "\n",
       "    .dataframe thead th {\n",
       "        text-align: right;\n",
       "    }\n",
       "</style>\n",
       "<table border=\"1\" class=\"dataframe\">\n",
       "  <thead>\n",
       "    <tr style=\"text-align: right;\">\n",
       "      <th></th>\n",
       "      <th>go_term</th>\n",
       "      <th>binom_p_value</th>\n",
       "      <th>hypergeom_p_value</th>\n",
       "      <th>binom_bonferroni_correction</th>\n",
       "      <th>hypergeom_bonferroni_correction</th>\n",
       "    </tr>\n",
       "  </thead>\n",
       "  <tbody>\n",
       "    <tr>\n",
       "      <th>GO:0001523</th>\n",
       "      <td>retinoid metabolic process</td>\n",
       "      <td>4.70169e-04</td>\n",
       "      <td>1.76153e-01</td>\n",
       "      <td>2.79280e-01</td>\n",
       "      <td>1.00000e+00</td>\n",
       "    </tr>\n",
       "    <tr>\n",
       "      <th>GO:0002162</th>\n",
       "      <td>dystroglycan binding</td>\n",
       "      <td>1.29786e-05</td>\n",
       "      <td>4.02252e-02</td>\n",
       "      <td>7.70928e-03</td>\n",
       "      <td>1.00000e+00</td>\n",
       "    </tr>\n",
       "    <tr>\n",
       "      <th>GO:0005200</th>\n",
       "      <td>structural constituent of cytoskeleton</td>\n",
       "      <td>3.73899e-03</td>\n",
       "      <td>2.76213e-01</td>\n",
       "      <td>1.00000e+00</td>\n",
       "      <td>1.00000e+00</td>\n",
       "    </tr>\n",
       "    <tr>\n",
       "      <th>GO:0005201</th>\n",
       "      <td>extracellular matrix structural constituent</td>\n",
       "      <td>1.34489e-03</td>\n",
       "      <td>3.51826e-02</td>\n",
       "      <td>7.98867e-01</td>\n",
       "      <td>1.00000e+00</td>\n",
       "    </tr>\n",
       "    <tr>\n",
       "      <th>GO:0005509</th>\n",
       "      <td>calcium ion binding</td>\n",
       "      <td>8.66371e-01</td>\n",
       "      <td>9.10282e-01</td>\n",
       "      <td>1.00000e+00</td>\n",
       "      <td>1.00000e+00</td>\n",
       "    </tr>\n",
       "    <tr>\n",
       "      <th>...</th>\n",
       "      <td>...</td>\n",
       "      <td>...</td>\n",
       "      <td>...</td>\n",
       "      <td>...</td>\n",
       "      <td>...</td>\n",
       "    </tr>\n",
       "    <tr>\n",
       "      <th>GO:0002087</th>\n",
       "      <td>regulation of respiratory gaseous exchange by ...</td>\n",
       "      <td>2.07002e-05</td>\n",
       "      <td>3.74057e-02</td>\n",
       "      <td>1.22959e-02</td>\n",
       "      <td>1.00000e+00</td>\n",
       "    </tr>\n",
       "    <tr>\n",
       "      <th>GO:0003682</th>\n",
       "      <td>chromatin binding</td>\n",
       "      <td>4.09979e-01</td>\n",
       "      <td>7.21532e-01</td>\n",
       "      <td>1.00000e+00</td>\n",
       "      <td>1.00000e+00</td>\n",
       "    </tr>\n",
       "    <tr>\n",
       "      <th>GO:0030426</th>\n",
       "      <td>growth cone</td>\n",
       "      <td>2.73584e-02</td>\n",
       "      <td>3.29606e-01</td>\n",
       "      <td>1.00000e+00</td>\n",
       "      <td>1.00000e+00</td>\n",
       "    </tr>\n",
       "    <tr>\n",
       "      <th>GO:0051968</th>\n",
       "      <td>positive regulation of synaptic transmission, ...</td>\n",
       "      <td>5.94155e-04</td>\n",
       "      <td>8.15551e-02</td>\n",
       "      <td>3.52928e-01</td>\n",
       "      <td>1.00000e+00</td>\n",
       "    </tr>\n",
       "    <tr>\n",
       "      <th>GO:0060291</th>\n",
       "      <td>long-term synaptic potentiation</td>\n",
       "      <td>2.44283e-03</td>\n",
       "      <td>1.31397e-01</td>\n",
       "      <td>1.00000e+00</td>\n",
       "      <td>1.00000e+00</td>\n",
       "    </tr>\n",
       "  </tbody>\n",
       "</table>\n",
       "<p>594 rows × 5 columns</p>\n",
       "</div>"
      ],
      "text/plain": [
       "                                                      go_term  binom_p_value  \\\n",
       "GO:0001523                         retinoid metabolic process    4.70169e-04   \n",
       "GO:0002162                               dystroglycan binding    1.29786e-05   \n",
       "GO:0005200             structural constituent of cytoskeleton    3.73899e-03   \n",
       "GO:0005201        extracellular matrix structural constituent    1.34489e-03   \n",
       "GO:0005509                                calcium ion binding    8.66371e-01   \n",
       "...                                                       ...            ...   \n",
       "GO:0002087  regulation of respiratory gaseous exchange by ...    2.07002e-05   \n",
       "GO:0003682                                  chromatin binding    4.09979e-01   \n",
       "GO:0030426                                        growth cone    2.73584e-02   \n",
       "GO:0051968  positive regulation of synaptic transmission, ...    5.94155e-04   \n",
       "GO:0060291                    long-term synaptic potentiation    2.44283e-03   \n",
       "\n",
       "            hypergeom_p_value  binom_bonferroni_correction  \\\n",
       "GO:0001523        1.76153e-01                  2.79280e-01   \n",
       "GO:0002162        4.02252e-02                  7.70928e-03   \n",
       "GO:0005200        2.76213e-01                  1.00000e+00   \n",
       "GO:0005201        3.51826e-02                  7.98867e-01   \n",
       "GO:0005509        9.10282e-01                  1.00000e+00   \n",
       "...                       ...                          ...   \n",
       "GO:0002087        3.74057e-02                  1.22959e-02   \n",
       "GO:0003682        7.21532e-01                  1.00000e+00   \n",
       "GO:0030426        3.29606e-01                  1.00000e+00   \n",
       "GO:0051968        8.15551e-02                  3.52928e-01   \n",
       "GO:0060291        1.31397e-01                  1.00000e+00   \n",
       "\n",
       "            hypergeom_bonferroni_correction  \n",
       "GO:0001523                      1.00000e+00  \n",
       "GO:0002162                      1.00000e+00  \n",
       "GO:0005200                      1.00000e+00  \n",
       "GO:0005201                      1.00000e+00  \n",
       "GO:0005509                      1.00000e+00  \n",
       "...                                     ...  \n",
       "GO:0002087                      1.00000e+00  \n",
       "GO:0003682                      1.00000e+00  \n",
       "GO:0030426                      1.00000e+00  \n",
       "GO:0051968                      1.00000e+00  \n",
       "GO:0060291                      1.00000e+00  \n",
       "\n",
       "[594 rows x 5 columns]"
      ]
     },
     "execution_count": 23,
     "metadata": {},
     "output_type": "execute_result"
    }
   ],
   "source": [
    "enrichment_bonferroni"
   ]
  },
  {
   "cell_type": "code",
   "execution_count": 24,
   "metadata": {},
   "outputs": [
    {
     "data": {
      "text/html": [
       "<div>\n",
       "<style scoped>\n",
       "    .dataframe tbody tr th:only-of-type {\n",
       "        vertical-align: middle;\n",
       "    }\n",
       "\n",
       "    .dataframe tbody tr th {\n",
       "        vertical-align: top;\n",
       "    }\n",
       "\n",
       "    .dataframe thead th {\n",
       "        text-align: right;\n",
       "    }\n",
       "</style>\n",
       "<table border=\"1\" class=\"dataframe\">\n",
       "  <thead>\n",
       "    <tr style=\"text-align: right;\">\n",
       "      <th></th>\n",
       "      <th>id</th>\n",
       "      <th>binom_p_value</th>\n",
       "      <th>binom_bonferroni</th>\n",
       "      <th>binom_fdr</th>\n",
       "      <th>hyper_p_value</th>\n",
       "      <th>hyper_bonferroni</th>\n",
       "      <th>hyper_fdr</th>\n",
       "    </tr>\n",
       "  </thead>\n",
       "  <tbody>\n",
       "    <tr>\n",
       "      <th>0</th>\n",
       "      <td>GO:0001523</td>\n",
       "      <td>4.70169e-04</td>\n",
       "      <td>2.79280e-01</td>\n",
       "      <td>2.09985e-03</td>\n",
       "      <td>1.76153e-01</td>\n",
       "      <td>1.00000e+00</td>\n",
       "      <td>NaN</td>\n",
       "    </tr>\n",
       "    <tr>\n",
       "      <th>1</th>\n",
       "      <td>GO:0002162</td>\n",
       "      <td>1.29786e-05</td>\n",
       "      <td>7.70928e-03</td>\n",
       "      <td>1.24343e-04</td>\n",
       "      <td>4.02252e-02</td>\n",
       "      <td>1.00000e+00</td>\n",
       "      <td>NaN</td>\n",
       "    </tr>\n",
       "    <tr>\n",
       "      <th>2</th>\n",
       "      <td>GO:0005200</td>\n",
       "      <td>3.73899e-03</td>\n",
       "      <td>1.00000e+00</td>\n",
       "      <td>1.12170e-02</td>\n",
       "      <td>2.76213e-01</td>\n",
       "      <td>1.00000e+00</td>\n",
       "      <td>NaN</td>\n",
       "    </tr>\n",
       "    <tr>\n",
       "      <th>3</th>\n",
       "      <td>GO:0005201</td>\n",
       "      <td>1.34489e-03</td>\n",
       "      <td>7.98867e-01</td>\n",
       "      <td>4.95080e-03</td>\n",
       "      <td>3.51826e-02</td>\n",
       "      <td>1.00000e+00</td>\n",
       "      <td>NaN</td>\n",
       "    </tr>\n",
       "    <tr>\n",
       "      <th>4</th>\n",
       "      <td>GO:0005509</td>\n",
       "      <td>8.66371e-01</td>\n",
       "      <td>1.00000e+00</td>\n",
       "      <td>9.01268e-01</td>\n",
       "      <td>9.10282e-01</td>\n",
       "      <td>1.00000e+00</td>\n",
       "      <td>NaN</td>\n",
       "    </tr>\n",
       "    <tr>\n",
       "      <th>...</th>\n",
       "      <td>...</td>\n",
       "      <td>...</td>\n",
       "      <td>...</td>\n",
       "      <td>...</td>\n",
       "      <td>...</td>\n",
       "      <td>...</td>\n",
       "      <td>...</td>\n",
       "    </tr>\n",
       "    <tr>\n",
       "      <th>589</th>\n",
       "      <td>GO:0002087</td>\n",
       "      <td>2.07002e-05</td>\n",
       "      <td>1.22959e-02</td>\n",
       "      <td>1.70777e-04</td>\n",
       "      <td>3.74057e-02</td>\n",
       "      <td>1.00000e+00</td>\n",
       "      <td>NaN</td>\n",
       "    </tr>\n",
       "    <tr>\n",
       "      <th>590</th>\n",
       "      <td>GO:0003682</td>\n",
       "      <td>4.09979e-01</td>\n",
       "      <td>1.00000e+00</td>\n",
       "      <td>4.98011e-01</td>\n",
       "      <td>7.21532e-01</td>\n",
       "      <td>1.00000e+00</td>\n",
       "      <td>NaN</td>\n",
       "    </tr>\n",
       "    <tr>\n",
       "      <th>591</th>\n",
       "      <td>GO:0030426</td>\n",
       "      <td>2.73584e-02</td>\n",
       "      <td>1.00000e+00</td>\n",
       "      <td>5.88800e-02</td>\n",
       "      <td>3.29606e-01</td>\n",
       "      <td>1.00000e+00</td>\n",
       "      <td>NaN</td>\n",
       "    </tr>\n",
       "    <tr>\n",
       "      <th>592</th>\n",
       "      <td>GO:0051968</td>\n",
       "      <td>5.94155e-04</td>\n",
       "      <td>3.52928e-01</td>\n",
       "      <td>2.53905e-03</td>\n",
       "      <td>8.15551e-02</td>\n",
       "      <td>1.00000e+00</td>\n",
       "      <td>NaN</td>\n",
       "    </tr>\n",
       "    <tr>\n",
       "      <th>593</th>\n",
       "      <td>GO:0060291</td>\n",
       "      <td>2.44283e-03</td>\n",
       "      <td>1.00000e+00</td>\n",
       "      <td>8.10638e-03</td>\n",
       "      <td>1.31397e-01</td>\n",
       "      <td>1.00000e+00</td>\n",
       "      <td>NaN</td>\n",
       "    </tr>\n",
       "  </tbody>\n",
       "</table>\n",
       "<p>594 rows × 7 columns</p>\n",
       "</div>"
      ],
      "text/plain": [
       "             id  binom_p_value  binom_bonferroni    binom_fdr  hyper_p_value  \\\n",
       "0    GO:0001523    4.70169e-04       2.79280e-01  2.09985e-03    1.76153e-01   \n",
       "1    GO:0002162    1.29786e-05       7.70928e-03  1.24343e-04    4.02252e-02   \n",
       "2    GO:0005200    3.73899e-03       1.00000e+00  1.12170e-02    2.76213e-01   \n",
       "3    GO:0005201    1.34489e-03       7.98867e-01  4.95080e-03    3.51826e-02   \n",
       "4    GO:0005509    8.66371e-01       1.00000e+00  9.01268e-01    9.10282e-01   \n",
       "..          ...            ...               ...          ...            ...   \n",
       "589  GO:0002087    2.07002e-05       1.22959e-02  1.70777e-04    3.74057e-02   \n",
       "590  GO:0003682    4.09979e-01       1.00000e+00  4.98011e-01    7.21532e-01   \n",
       "591  GO:0030426    2.73584e-02       1.00000e+00  5.88800e-02    3.29606e-01   \n",
       "592  GO:0051968    5.94155e-04       3.52928e-01  2.53905e-03    8.15551e-02   \n",
       "593  GO:0060291    2.44283e-03       1.00000e+00  8.10638e-03    1.31397e-01   \n",
       "\n",
       "     hyper_bonferroni  hyper_fdr  \n",
       "0         1.00000e+00        NaN  \n",
       "1         1.00000e+00        NaN  \n",
       "2         1.00000e+00        NaN  \n",
       "3         1.00000e+00        NaN  \n",
       "4         1.00000e+00        NaN  \n",
       "..                ...        ...  \n",
       "589       1.00000e+00        NaN  \n",
       "590       1.00000e+00        NaN  \n",
       "591       1.00000e+00        NaN  \n",
       "592       1.00000e+00        NaN  \n",
       "593       1.00000e+00        NaN  \n",
       "\n",
       "[594 rows x 7 columns]"
      ]
     },
     "execution_count": 24,
     "metadata": {},
     "output_type": "execute_result"
    }
   ],
   "source": [
    "enrichment_tot = enrichment_fdr \n",
    "enrichment_tot[\"binom_bonferroni_correction\"] = enrichment_bonferroni[\"binom_bonferroni_correction\"]\n",
    "enrichment_tot[\"hypergeom_bonferroni_correction\"] = enrichment_bonferroni[\"hypergeom_bonferroni_correction\"]\n",
    "enrichment_tot = enrichment_tot[[\"binom_p_value\",\"binom_bonferroni_correction\",\"binom_fdr_correction\",\"hypergeom_p_value\",\"hypergeom_bonferroni_correction\",\"hypergeom_fdr_correction\"]]\n",
    "enrichment_tot = enrichment_tot.reset_index().rename(columns={\"index\":\"id\",\"binom_bonferroni_correction\":\"binom_bonferroni\",\"binom_fdr_correction\":\"binom_fdr\",\"hypergeom_p_value\":\"hyper_p_value\",\"hypergeom_bonferroni_correction\":\"hyper_bonferroni\",\"hypergeom_fdr_correction\":\"hyper_fdr\"})\n",
    "enrichment_tot"
   ]
  },
  {
   "cell_type": "markdown",
   "metadata": {},
   "source": [
    "## II Compare to GREAT webserver  "
   ]
  },
  {
   "cell_type": "markdown",
   "metadata": {},
   "source": [
    "### II.1 Import the data"
   ]
  },
  {
   "cell_type": "code",
   "execution_count": 25,
   "metadata": {},
   "outputs": [],
   "source": [
    "great_webserver = pd.read_csv(\"../../data/test/01_output_great_webserver.tsv\",sep=\"\\t\",comment=\"#\",\n",
    "                    names=[\"ontologie\",\"term_name\",\"ID\",\"binom_p_value\",\"binom_bonferroni\",\"binom_fdr\",\"hyper_p_value\",\"hyper_bonferroni\",\"hyper_fdr\"],index_col=False,\n",
    "                    dtype={\"term_name\":\"object\", \"ID\":\"object\",\"binom_p_value\":\"float64\", \"binom_bonferroni\":\"float64\", \"binom_fdr\":\"float64\", \"hyper_p_value\":\"float64\", \"hyper_bonferroni\":\"float64\", \"hyper_fdr\":\"float64\"})\n",
    "great_webserver.rename(columns={\"ID\":\"id\"},inplace=True)\n",
    "del great_webserver[\"ontologie\"]\n",
    "del great_webserver[\"term_name\"]"
   ]
  },
  {
   "cell_type": "markdown",
   "metadata": {},
   "source": [
    "### II.2 Compare the results between greatpy and great "
   ]
  },
  {
   "cell_type": "markdown",
   "metadata": {},
   "source": [
    "#### II.2.1 Preprocessing"
   ]
  },
  {
   "cell_type": "code",
   "execution_count": 26,
   "metadata": {},
   "outputs": [],
   "source": [
    "before_pp = enrichment_tot.shape[0]"
   ]
  },
  {
   "cell_type": "code",
   "execution_count": 27,
   "metadata": {},
   "outputs": [],
   "source": [
    "enrichment_tot = enrichment_tot[enrichment_tot[\"id\"].isin(list(great_webserver[\"id\"]))]\n",
    "enrichment_tot = enrichment_tot.sort_values(\"id\")\n",
    "after_pp = enrichment_tot.shape[0]"
   ]
  },
  {
   "cell_type": "code",
   "execution_count": 28,
   "metadata": {},
   "outputs": [],
   "source": [
    "great_webserver = great_webserver[great_webserver[\"id\"].isin(list(enrichment_tot[\"id\"]))]\n",
    "great_webserver = great_webserver.sort_values(\"id\")"
   ]
  },
  {
   "cell_type": "code",
   "execution_count": 29,
   "metadata": {},
   "outputs": [],
   "source": [
    "binom_greatpy = hyper_greatpy = binom_great = hyper_great = []\n",
    "for i in range(enrichment_tot.shape[0]) : \n",
    "    curr_enrichment = enrichment_tot.iloc[i]\n",
    "    curr_great_webserver = great_webserver.loc[great_webserver[\"id\"]==curr_enrichment[\"id\"]]\n",
    "    binom_greatpy.append(float(curr_enrichment[\"binom_p_value\"]))\n",
    "    hyper_greatpy.append(float(curr_enrichment[\"hyper_p_value\"]))\n",
    "    binom_great.append(float(curr_great_webserver[\"binom_p_value\"]))\n",
    "    hyper_great.append(float(curr_great_webserver[\"hyper_p_value\"]))\n",
    "binom = pd.DataFrame({\"binom_greatpy\":binom_greatpy,\"binom_great\":binom_great})\n",
    "hyper = pd.DataFrame({\"hyper_greatpy\":hyper_greatpy,\"hyper_great\":hyper_great})"
   ]
  },
  {
   "cell_type": "markdown",
   "metadata": {},
   "source": [
    "#### II.2.b Graphical"
   ]
  },
  {
   "cell_type": "code",
   "execution_count": 30,
   "metadata": {},
   "outputs": [
    {
     "data": {
      "image/png": "[encoded data removed]",
      "text/plain": [
       "<Figure size 432x288 with 1 Axes>"
      ]
     },
     "metadata": {
      "needs_background": "light"
     },
     "output_type": "display_data"
    }
   ],
   "source": [
    "pl=great.pl.scatterplot(binom,colname_x=\"binom_greatpy\",colname_y=\"binom_great\")"
   ]
  },
  {
   "cell_type": "code",
   "execution_count": 31,
   "metadata": {},
   "outputs": [
    {
     "data": {
      "image/png": "[encoded data removed]",
      "text/plain": [
       "<Figure size 432x288 with 1 Axes>"
      ]
     },
     "metadata": {
      "needs_background": "light"
     },
     "output_type": "display_data"
    }
   ],
   "source": [
    "great.pl.scatterplot(hyper,colname_x=\"hyper_greatpy\",colname_y=\"hyper_great\")"
   ]
  },
  {
   "cell_type": "markdown",
   "metadata": {},
   "source": [
    "#### II.2.c Statistics"
   ]
  },
  {
   "cell_type": "code",
   "execution_count": 32,
   "metadata": {},
   "outputs": [],
   "source": [
    "def stat(binom_great_list_list, hyper_great_listpy_list,binom_great_list,hyper_great_list) : \n",
    "    return pd.DataFrame({\n",
    "        \"binom\": [cov(m = binom_great_list_list, y = binom_great_list)[0][1],pearsonr(binom_great_list_list,binom_great_list)[0]],\n",
    "        \"hyper\":[cov(m = hyper_great_listpy_list, y = hyper_great_list)[0][1],pearsonr(hyper_great_listpy_list,hyper_great_list)[0]]},\n",
    "        index=[\"correlation_coefficient\",\"pearson\"])"
   ]
  },
  {
   "cell_type": "code",
   "execution_count": 33,
   "metadata": {},
   "outputs": [
    {
     "data": {
      "text/html": [
       "<div>\n",
       "<style scoped>\n",
       "    .dataframe tbody tr th:only-of-type {\n",
       "        vertical-align: middle;\n",
       "    }\n",
       "\n",
       "    .dataframe tbody tr th {\n",
       "        vertical-align: top;\n",
       "    }\n",
       "\n",
       "    .dataframe thead th {\n",
       "        text-align: right;\n",
       "    }\n",
       "</style>\n",
       "<table border=\"1\" class=\"dataframe\">\n",
       "  <thead>\n",
       "    <tr style=\"text-align: right;\">\n",
       "      <th></th>\n",
       "      <th>binom</th>\n",
       "      <th>hyper</th>\n",
       "    </tr>\n",
       "  </thead>\n",
       "  <tbody>\n",
       "    <tr>\n",
       "      <th>correlation_coefficient</th>\n",
       "      <td>3.42703e-03</td>\n",
       "      <td>3.42703e-03</td>\n",
       "    </tr>\n",
       "    <tr>\n",
       "      <th>pearson</th>\n",
       "      <td>1.00000e+00</td>\n",
       "      <td>1.00000e+00</td>\n",
       "    </tr>\n",
       "  </tbody>\n",
       "</table>\n",
       "</div>"
      ],
      "text/plain": [
       "                               binom        hyper\n",
       "correlation_coefficient  3.42703e-03  3.42703e-03\n",
       "pearson                  1.00000e+00  1.00000e+00"
      ]
     },
     "execution_count": 33,
     "metadata": {},
     "output_type": "execute_result"
    }
   ],
   "source": [
    "stat(binom_greatpy, hyper_greatpy,binom_great,hyper_great)"
   ]
  },
  {
   "cell_type": "code",
   "execution_count": 34,
   "metadata": {},
   "outputs": [
    {
     "name": "stdout",
     "output_type": "stream",
     "text": [
      "594\n",
      "108\n"
     ]
    }
   ],
   "source": [
    "print(before_pp)\n",
    "print(after_pp)"
   ]
  },
  {
   "cell_type": "markdown",
   "metadata": {},
   "source": [
    "We went from 594 ontology terms in greatpy output to 108 ontology terms by selecting the GO identifiers present in both greatpy and great "
   ]
  },
  {
   "cell_type": "markdown",
   "metadata": {},
   "source": [
    "But when two ontology terms are selected they have the same binomial and hypergeometric probability value "
   ]
  }
 ],
 "metadata": {
  "kernelspec": {
   "display_name": "Python 3.8.10 64-bit",
   "language": "python",
   "name": "python3"
  },
  "language_info": {
   "codemirror_mode": {
    "name": "ipython",
    "version": 3
   },
   "file_extension": ".py",
   "mimetype": "text/x-python",
   "name": "python",
   "nbconvert_exporter": "python",
   "pygments_lexer": "ipython3",
   "version": "3.8.10"
  },
  "orig_nbformat": 4,
  "vscode": {
   "interpreter": {
    "hash": "916dbcbb3f70747c44a77c7bcd40155683ae19c65e1c03b4aa3499c5328201f1"
   }
  }
 },
 "nbformat": 4,
 "nbformat_minor": 2
}
