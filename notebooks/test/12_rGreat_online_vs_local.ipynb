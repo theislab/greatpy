{
 "cells": [
  {
   "cell_type": "markdown",
   "metadata": {},
   "source": [
    "# rGreat online vs local "
   ]
  },
  {
   "cell_type": "markdown",
   "metadata": {},
   "source": [
    "This notebook allows you to compare results between local and online rGreat. "
   ]
  },
  {
   "cell_type": "markdown",
   "metadata": {},
   "source": [
    "r-base == 3.6.1\n",
    "\n",
    "r-base required for rGreat is 3.6.0"
   ]
  },
  {
   "cell_type": "code",
   "execution_count": 1,
   "metadata": {},
   "outputs": [],
   "source": [
    "%load_ext autoreload\n",
    "%autoreload 2"
   ]
  },
  {
   "cell_type": "code",
   "execution_count": 2,
   "metadata": {},
   "outputs": [
    {
     "name": "stderr",
     "output_type": "stream",
     "text": [
      "Error: package or namespace load failed for ‘stats’ in dyn.load(file, DLLpath = DLLpath, ...):\n",
      " unable to load shared object '/home/icb/tom.mauger-birocheau/miniconda3/lib/R/library/stats/libs/stats.so':\n",
      "  /home/icb/tom.mauger-birocheau/miniconda3/lib/R/library/stats/libs/stats.so: undefined symbol: MARK_NOT_MUTABLE\n",
      "During startup - Warning messages:\n",
      "1: package ‘methods’ was built under R version 3.6.1 \n",
      "2: package ‘datasets’ was built under R version 3.6.1 \n",
      "3: package ‘utils’ was built under R version 3.6.1 \n",
      "4: package ‘grDevices’ was built under R version 3.6.1 \n",
      "5: package ‘graphics’ was built under R version 3.6.1 \n",
      "6: package ‘stats’ was built under R version 3.6.1 \n",
      "7: package ‘stats’ in options(\"defaultPackages\") was not found \n",
      "R[write to console]: Error: package or namespace load failed for ‘tools’ in dyn.load(file, DLLpath = DLLpath, ...):\n",
      " unable to load shared object '/home/icb/tom.mauger-birocheau/miniconda3/lib/R/library/tools/libs/tools.so':\n",
      "  /home/icb/tom.mauger-birocheau/miniconda3/lib/R/library/tools/libs/tools.so: undefined symbol: R_NewPreciousMSet\n",
      "\n",
      "R[write to console]: Error in dyn.load(file, DLLpath = DLLpath, ...) : \n",
      "  unable to load shared object '/home/icb/tom.mauger-birocheau/miniconda3/lib/R/library/tools/libs/tools.so':\n",
      "  /home/icb/tom.mauger-birocheau/miniconda3/lib/R/library/tools/libs/tools.so: undefined symbol: R_NewPreciousMSet\n",
      "\n",
      "R[write to console]: In addition: \n",
      "R[write to console]: Warning message:\n",
      "\n",
      "R[write to console]: package ‘tools’ was built under R version 3.6.1 \n",
      "\n"
     ]
    },
    {
     "ename": "RRuntimeError",
     "evalue": "Error in dyn.load(file, DLLpath = DLLpath, ...) : \n  unable to load shared object '/home/icb/tom.mauger-birocheau/miniconda3/lib/R/library/tools/libs/tools.so':\n  /home/icb/tom.mauger-birocheau/miniconda3/lib/R/library/tools/libs/tools.so: undefined symbol: R_NewPreciousMSet\n",
     "output_type": "error",
     "traceback": [
      "\u001b[0;31m---------------------------------------------------------------------------\u001b[0m",
      "\u001b[0;31mRRuntimeError\u001b[0m                             Traceback (most recent call last)",
      "\u001b[1;32m/home/icb/tom.mauger-birocheau/internship/greatpy/notebooks/test/12_rGreat_online_vs_local.ipynb Cell 5\u001b[0m in \u001b[0;36m<cell line: 2>\u001b[0;34m()\u001b[0m\n\u001b[1;32m      <a href='vscode-notebook-cell://ssh-remote%2Bicb-lisa/home/icb/tom.mauger-birocheau/internship/greatpy/notebooks/test/12_rGreat_online_vs_local.ipynb#ch0000001vscode-remote?line=0'>1</a>\u001b[0m \u001b[39mimport\u001b[39;00m \u001b[39mrpy2\u001b[39;00m\n\u001b[0;32m----> <a href='vscode-notebook-cell://ssh-remote%2Bicb-lisa/home/icb/tom.mauger-birocheau/internship/greatpy/notebooks/test/12_rGreat_online_vs_local.ipynb#ch0000001vscode-remote?line=1'>2</a>\u001b[0m \u001b[39mfrom\u001b[39;00m \u001b[39mrpy2\u001b[39;00m\u001b[39m.\u001b[39;00m\u001b[39mrobjects\u001b[39;00m\u001b[39m.\u001b[39;00m\u001b[39mpackages\u001b[39;00m \u001b[39mimport\u001b[39;00m importr\n\u001b[1;32m      <a href='vscode-notebook-cell://ssh-remote%2Bicb-lisa/home/icb/tom.mauger-birocheau/internship/greatpy/notebooks/test/12_rGreat_online_vs_local.ipynb#ch0000001vscode-remote?line=2'>3</a>\u001b[0m \u001b[39mfrom\u001b[39;00m \u001b[39mrpy2\u001b[39;00m\u001b[39m.\u001b[39;00m\u001b[39mrobjects\u001b[39;00m \u001b[39mimport\u001b[39;00m pandas2ri\n",
      "File \u001b[0;32m~/miniconda3/lib/python3.9/site-packages/rpy2/robjects/__init__.py:19\u001b[0m, in \u001b[0;36m<module>\u001b[0;34m\u001b[0m\n\u001b[1;32m     16\u001b[0m \u001b[39mimport\u001b[39;00m \u001b[39mrpy2\u001b[39;00m\u001b[39m.\u001b[39;00m\u001b[39mrlike\u001b[39;00m\u001b[39m.\u001b[39;00m\u001b[39mcontainer\u001b[39;00m \u001b[39mas\u001b[39;00m \u001b[39mrlc\u001b[39;00m\n\u001b[1;32m     18\u001b[0m \u001b[39mfrom\u001b[39;00m \u001b[39mrpy2\u001b[39;00m\u001b[39m.\u001b[39;00m\u001b[39mrobjects\u001b[39;00m\u001b[39m.\u001b[39;00m\u001b[39mrobject\u001b[39;00m \u001b[39mimport\u001b[39;00m RObjectMixin, RObject\n\u001b[0;32m---> 19\u001b[0m \u001b[39mimport\u001b[39;00m \u001b[39mrpy2\u001b[39;00m\u001b[39m.\u001b[39;00m\u001b[39mrobjects\u001b[39;00m\u001b[39m.\u001b[39;00m\u001b[39mfunctions\u001b[39;00m\n\u001b[1;32m     20\u001b[0m \u001b[39mfrom\u001b[39;00m \u001b[39mrpy2\u001b[39;00m\u001b[39m.\u001b[39;00m\u001b[39mrobjects\u001b[39;00m\u001b[39m.\u001b[39;00m\u001b[39menvironments\u001b[39;00m \u001b[39mimport\u001b[39;00m (Environment,\n\u001b[1;32m     21\u001b[0m                                         local_context)\n\u001b[1;32m     22\u001b[0m \u001b[39mfrom\u001b[39;00m \u001b[39mrpy2\u001b[39;00m\u001b[39m.\u001b[39;00m\u001b[39mrobjects\u001b[39;00m\u001b[39m.\u001b[39;00m\u001b[39mmethods\u001b[39;00m \u001b[39mimport\u001b[39;00m methods_env\n",
      "File \u001b[0;32m~/miniconda3/lib/python3.9/site-packages/rpy2/robjects/functions.py:11\u001b[0m, in \u001b[0;36m<module>\u001b[0;34m\u001b[0m\n\u001b[1;32m      9\u001b[0m \u001b[39mfrom\u001b[39;00m \u001b[39mrpy2\u001b[39;00m\u001b[39m.\u001b[39;00m\u001b[39mrobjects\u001b[39;00m\u001b[39m.\u001b[39;00m\u001b[39mrobject\u001b[39;00m \u001b[39mimport\u001b[39;00m RObjectMixin\n\u001b[1;32m     10\u001b[0m \u001b[39mimport\u001b[39;00m \u001b[39mrpy2\u001b[39;00m\u001b[39m.\u001b[39;00m\u001b[39mrinterface\u001b[39;00m \u001b[39mas\u001b[39;00m \u001b[39mrinterface\u001b[39;00m\n\u001b[0;32m---> 11\u001b[0m \u001b[39mfrom\u001b[39;00m \u001b[39mrpy2\u001b[39;00m\u001b[39m.\u001b[39;00m\u001b[39mrobjects\u001b[39;00m \u001b[39mimport\u001b[39;00m help\n\u001b[1;32m     12\u001b[0m \u001b[39mfrom\u001b[39;00m \u001b[39mrpy2\u001b[39;00m\u001b[39m.\u001b[39;00m\u001b[39mrobjects\u001b[39;00m \u001b[39mimport\u001b[39;00m conversion\n\u001b[1;32m     14\u001b[0m \u001b[39mfrom\u001b[39;00m \u001b[39mrpy2\u001b[39;00m\u001b[39m.\u001b[39;00m\u001b[39mrobjects\u001b[39;00m\u001b[39m.\u001b[39;00m\u001b[39mpackages_utils\u001b[39;00m \u001b[39mimport\u001b[39;00m (default_symbol_r2python,\n\u001b[1;32m     15\u001b[0m                                           default_symbol_resolve,\n\u001b[1;32m     16\u001b[0m                                           _map_symbols,\n\u001b[1;32m     17\u001b[0m                                           _fix_map_symbols)\n",
      "File \u001b[0;32m~/miniconda3/lib/python3.9/site-packages/rpy2/robjects/help.py:49\u001b[0m, in \u001b[0;36m<module>\u001b[0;34m\u001b[0m\n\u001b[1;32m     46\u001b[0m _get_namespace \u001b[39m=\u001b[39m rinterface\u001b[39m.\u001b[39mbaseenv[\u001b[39m'\u001b[39m\u001b[39mgetNamespace\u001b[39m\u001b[39m'\u001b[39m]\n\u001b[1;32m     47\u001b[0m _lazyload_dbfetch \u001b[39m=\u001b[39m rinterface\u001b[39m.\u001b[39mbaseenv[\u001b[39m'\u001b[39m\u001b[39mlazyLoadDBfetch\u001b[39m\u001b[39m'\u001b[39m]\n\u001b[0;32m---> 49\u001b[0m tools_ns \u001b[39m=\u001b[39m _get_namespace(StrSexpVector((\u001b[39m'\u001b[39;49m\u001b[39mtools\u001b[39;49m\u001b[39m'\u001b[39;49m,)))\n\u001b[1;32m     50\u001b[0m _Rd_db \u001b[39m=\u001b[39m tools_ns[\u001b[39m'\u001b[39m\u001b[39mRd_db\u001b[39m\u001b[39m'\u001b[39m]\n\u001b[1;32m     51\u001b[0m _Rd_deparse \u001b[39m=\u001b[39m tools_ns[\u001b[39m'\u001b[39m\u001b[39m.Rd_deparse\u001b[39m\u001b[39m'\u001b[39m]\n",
      "File \u001b[0;32m~/miniconda3/lib/python3.9/site-packages/rpy2/rinterface_lib/conversion.py:45\u001b[0m, in \u001b[0;36m_cdata_res_to_rinterface.<locals>._\u001b[0;34m(*args, **kwargs)\u001b[0m\n\u001b[1;32m     44\u001b[0m \u001b[39mdef\u001b[39;00m \u001b[39m_\u001b[39m(\u001b[39m*\u001b[39margs, \u001b[39m*\u001b[39m\u001b[39m*\u001b[39mkwargs):\n\u001b[0;32m---> 45\u001b[0m     cdata \u001b[39m=\u001b[39m function(\u001b[39m*\u001b[39;49margs, \u001b[39m*\u001b[39;49m\u001b[39m*\u001b[39;49mkwargs)\n\u001b[1;32m     46\u001b[0m     \u001b[39m# TODO: test cdata is of the expected CType\u001b[39;00m\n\u001b[1;32m     47\u001b[0m     \u001b[39mreturn\u001b[39;00m _cdata_to_rinterface(cdata)\n",
      "File \u001b[0;32m~/miniconda3/lib/python3.9/site-packages/rpy2/rinterface.py:813\u001b[0m, in \u001b[0;36mSexpClosure.__call__\u001b[0;34m(self, *args, **kwargs)\u001b[0m\n\u001b[1;32m    806\u001b[0m     res \u001b[39m=\u001b[39m rmemory\u001b[39m.\u001b[39mprotect(\n\u001b[1;32m    807\u001b[0m         openrlib\u001b[39m.\u001b[39mrlib\u001b[39m.\u001b[39mR_tryEval(\n\u001b[1;32m    808\u001b[0m             call_r,\n\u001b[1;32m    809\u001b[0m             call_context\u001b[39m.\u001b[39m__sexp__\u001b[39m.\u001b[39m_cdata,\n\u001b[1;32m    810\u001b[0m             error_occured)\n\u001b[1;32m    811\u001b[0m     )\n\u001b[1;32m    812\u001b[0m     \u001b[39mif\u001b[39;00m error_occured[\u001b[39m0\u001b[39m]:\n\u001b[0;32m--> 813\u001b[0m         \u001b[39mraise\u001b[39;00m embedded\u001b[39m.\u001b[39mRRuntimeError(_rinterface\u001b[39m.\u001b[39m_geterrmessage())\n\u001b[1;32m    814\u001b[0m \u001b[39mreturn\u001b[39;00m res\n",
      "\u001b[0;31mRRuntimeError\u001b[0m: Error in dyn.load(file, DLLpath = DLLpath, ...) : \n  unable to load shared object '/home/icb/tom.mauger-birocheau/miniconda3/lib/R/library/tools/libs/tools.so':\n  /home/icb/tom.mauger-birocheau/miniconda3/lib/R/library/tools/libs/tools.so: undefined symbol: R_NewPreciousMSet\n"
     ]
    }
   ],
   "source": [
    "import rpy2\n",
    "from rpy2.robjects.packages import importr\n",
    "from rpy2.robjects import pandas2ri"
   ]
  },
  {
   "cell_type": "code",
   "execution_count": null,
   "metadata": {},
   "outputs": [],
   "source": []
  }
 ],
 "metadata": {
  "kernelspec": {
   "display_name": "Python 3.9.12 ('base')",
   "language": "python",
   "name": "python3"
  },
  "language_info": {
   "codemirror_mode": {
    "name": "ipython",
    "version": 3
   },
   "file_extension": ".py",
   "mimetype": "text/x-python",
   "name": "python",
   "nbconvert_exporter": "python",
   "pygments_lexer": "ipython3",
   "version": "3.9.12"
  },
  "orig_nbformat": 4,
  "vscode": {
   "interpreter": {
    "hash": "dd3aa23b046397ccf7f1ffb7cb82646c26b15f0b12555a0fca8fb427d9fb147f"
   }
  }
 },
 "nbformat": 4,
 "nbformat_minor": 2
}
