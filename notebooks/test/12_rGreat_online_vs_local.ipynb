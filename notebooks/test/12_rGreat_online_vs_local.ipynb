{
 "cells": [
  {
   "cell_type": "markdown",
   "metadata": {},
   "source": [
    "# rGreat online vs local "
   ]
  },
  {
   "cell_type": "markdown",
   "metadata": {},
   "source": [
    "This notebook allows you to compare results between local and online rGreat. "
   ]
  },
  {
   "cell_type": "markdown",
   "metadata": {},
   "source": [
    "r-base == 3.6.1\n",
    "\n",
    "r-base required for rGreat is 3.6.0"
   ]
  },
  {
   "cell_type": "code",
   "execution_count": 1,
   "metadata": {},
   "outputs": [],
   "source": [
    "%load_ext autoreload\n",
    "%autoreload 2"
   ]
  },
  {
   "cell_type": "code",
   "execution_count": 2,
   "metadata": {},
   "outputs": [],
   "source": [
    "import rpy2\n",
    "from rpy2.robjects.packages import importr\n",
    "from rpy2.robjects import pandas2ri\n",
    "pandas2ri.activate()\n",
    "import pandas as pd"
   ]
  },
  {
   "cell_type": "code",
   "execution_count": 3,
   "metadata": {},
   "outputs": [
    {
     "data": {
      "text/plain": [
       "'3.5.2'"
      ]
     },
     "execution_count": 3,
     "metadata": {},
     "output_type": "execute_result"
    }
   ],
   "source": [
    "rpy2.__version__"
   ]
  },
  {
   "cell_type": "code",
   "execution_count": 3,
   "metadata": {},
   "outputs": [
    {
     "data": {
      "text/plain": [
       "rpy2.robjects.packages.Package as a <module 'rGREAT'>"
      ]
     },
     "execution_count": 3,
     "metadata": {},
     "output_type": "execute_result"
    }
   ],
   "source": [
    "importr('rGREAT')"
   ]
  },
  {
   "cell_type": "code",
   "execution_count": 12,
   "metadata": {},
   "outputs": [
    {
     "name": "stderr",
     "output_type": "stream",
     "text": [
      "R[write to console]: Note: On Aug 19 2019 GREAT released version 4 which supports hg38\n",
      "genome and removes some ontologies such pathways. submitGreatJob()\n",
      "still takes hg19 as default. hg38 can be specified by argument `species\n",
      "= \"hg38\"`. To use the older versions such as 3.0.0, specify as\n",
      "submitGreatJob(..., version = \"3\"). Set argument `help` to `FALSE` to\n",
      "turn off this message.\n",
      "\n",
      "R[write to console]: The default enrichment tables contain no associated genes for the input\n",
      "regions. You can set `download_by = 'tsv'` to download the complete\n",
      "table, but note only the top 500 regions can be retreived. See the\n",
      "following link:\n",
      "\n",
      "https://great-help.atlassian.net/wiki/spaces/GREAT/pages/655401/Export#Export-GlobalExport\n",
      "\n"
     ]
    }
   ],
   "source": [
    "res_online = rpy2.robjects.r['submitGreatJob'](\"../../data/tests/test_data/input/07_height_snps_hg19.bed\")\n",
    "res_online = rpy2.robjects.r['getEnrichmentTables'](res_online)"
   ]
  },
  {
   "cell_type": "code",
   "execution_count": 4,
   "metadata": {},
   "outputs": [
    {
     "name": "stderr",
     "output_type": "stream",
     "text": [
      "R[write to console]: * TSS source: TxDb.\n",
      "\n",
      "R[write to console]: * check whether TxDb package 'TxDb.Hsapiens.UCSC.hg19.knownGene' is installed.\n",
      "\n",
      "R[write to console]: * gene ID type in the extended TSS is 'Entrez Gene ID'.\n",
      "\n",
      "R[write to console]: * restrict chromosomes to 'chr1, chr2, chr3, chr4, chr5, chr6, chr7, chr8, chr9, chr10,\n",
      "    chr11, chr12, chr13, chr14, chr15, chr16, chr17, chr18, chr19, chr20, chr21, chr22, chrX,\n",
      "    chrY, chrM'.\n",
      "\n",
      "R[write to console]: * 18563/23033 protein-coding genes left.\n",
      "\n",
      "R[write to console]: * update seqinfo to the selected chromosomes.\n",
      "\n",
      "R[write to console]: * TSS extension mode is 'basalPlusExt'.\n",
      "\n",
      "R[write to console]: * construct the basal domains by extending 5000bp to upstream and 1000bp to downsteram of TSS.\n",
      "\n",
      "R[write to console]: * calculate distances to neighbour regions.\n",
      "\n",
      "R[write to console]: * extend to both sides until reaching the neighbour genes or to the maximal extension (1000000bp).\n",
      "\n",
      "R[write to console]: Error in h(simpleError(msg, call)) : \n",
      "  error in evaluating the argument 'INDEX' in selecting a method for function 'tapply': unable to find an inherited method for function ‘seqnames’ for signature ‘\"character\"’\n",
      "\n"
     ]
    },
    {
     "ename": "RRuntimeError",
     "evalue": "Error in h(simpleError(msg, call)) : \n  error in evaluating the argument 'INDEX' in selecting a method for function 'tapply': unable to find an inherited method for function ‘seqnames’ for signature ‘\"character\"’\n",
     "output_type": "error",
     "traceback": [
      "\u001b[0;31m---------------------------------------------------------------------------\u001b[0m",
      "\u001b[0;31mRRuntimeError\u001b[0m                             Traceback (most recent call last)",
      "\u001b[1;32m/home/tom/Stage/greatpy/notebooks/test/12_rGreat_online_vs_local.ipynb Cell 9\u001b[0m in \u001b[0;36m<cell line: 1>\u001b[0;34m()\u001b[0m\n\u001b[0;32m----> <a href='vscode-notebook-cell://wsl%2Bubuntu/home/tom/Stage/greatpy/notebooks/test/12_rGreat_online_vs_local.ipynb#ch0000015vscode-remote?line=0'>1</a>\u001b[0m res_local \u001b[39m=\u001b[39m rpy2\u001b[39m.\u001b[39;49mrobjects\u001b[39m.\u001b[39;49mr[\u001b[39m'\u001b[39;49m\u001b[39mgreat\u001b[39;49m\u001b[39m'\u001b[39;49m](\u001b[39m\"\u001b[39;49m\u001b[39m../../data/tests/test_data/input/07_height_snps_hg19.bed\u001b[39;49m\u001b[39m\"\u001b[39;49m, \u001b[39m\"\u001b[39;49m\u001b[39mMSigDB:H\u001b[39;49m\u001b[39m\"\u001b[39;49m, \u001b[39m\"\u001b[39;49m\u001b[39mTxDb.Hsapiens.UCSC.hg19.knownGene\u001b[39;49m\u001b[39m\"\u001b[39;49m)\n\u001b[1;32m      <a href='vscode-notebook-cell://wsl%2Bubuntu/home/tom/Stage/greatpy/notebooks/test/12_rGreat_online_vs_local.ipynb#ch0000015vscode-remote?line=1'>2</a>\u001b[0m res_local \u001b[39m=\u001b[39m rpy2\u001b[39m.\u001b[39mrobjects\u001b[39m.\u001b[39mr[\u001b[39m'\u001b[39m\u001b[39mgetEnrichmentTables\u001b[39m\u001b[39m'\u001b[39m](res_local)\n",
      "File \u001b[0;32m~/.local/lib/python3.8/site-packages/rpy2/robjects/functions.py:202\u001b[0m, in \u001b[0;36mSignatureTranslatedFunction.__call__\u001b[0;34m(self, *args, **kwargs)\u001b[0m\n\u001b[1;32m    200\u001b[0m         v \u001b[39m=\u001b[39m kwargs\u001b[39m.\u001b[39mpop(k)\n\u001b[1;32m    201\u001b[0m         kwargs[r_k] \u001b[39m=\u001b[39m v\n\u001b[0;32m--> 202\u001b[0m \u001b[39mreturn\u001b[39;00m (\u001b[39msuper\u001b[39;49m(SignatureTranslatedFunction, \u001b[39mself\u001b[39;49m)\n\u001b[1;32m    203\u001b[0m         \u001b[39m.\u001b[39;49m\u001b[39m__call__\u001b[39;49m(\u001b[39m*\u001b[39;49margs, \u001b[39m*\u001b[39;49m\u001b[39m*\u001b[39;49mkwargs))\n",
      "File \u001b[0;32m~/.local/lib/python3.8/site-packages/rpy2/robjects/functions.py:125\u001b[0m, in \u001b[0;36mFunction.__call__\u001b[0;34m(self, *args, **kwargs)\u001b[0m\n\u001b[1;32m    123\u001b[0m     \u001b[39melse\u001b[39;00m:\n\u001b[1;32m    124\u001b[0m         new_kwargs[k] \u001b[39m=\u001b[39m cv\u001b[39m.\u001b[39mpy2rpy(v)\n\u001b[0;32m--> 125\u001b[0m res \u001b[39m=\u001b[39m \u001b[39msuper\u001b[39;49m(Function, \u001b[39mself\u001b[39;49m)\u001b[39m.\u001b[39;49m\u001b[39m__call__\u001b[39;49m(\u001b[39m*\u001b[39;49mnew_args, \u001b[39m*\u001b[39;49m\u001b[39m*\u001b[39;49mnew_kwargs)\n\u001b[1;32m    126\u001b[0m res \u001b[39m=\u001b[39m cv\u001b[39m.\u001b[39mrpy2py(res)\n\u001b[1;32m    127\u001b[0m \u001b[39mreturn\u001b[39;00m res\n",
      "File \u001b[0;32m~/.local/lib/python3.8/site-packages/rpy2/rinterface_lib/conversion.py:45\u001b[0m, in \u001b[0;36m_cdata_res_to_rinterface.<locals>._\u001b[0;34m(*args, **kwargs)\u001b[0m\n\u001b[1;32m     44\u001b[0m \u001b[39mdef\u001b[39;00m \u001b[39m_\u001b[39m(\u001b[39m*\u001b[39margs, \u001b[39m*\u001b[39m\u001b[39m*\u001b[39mkwargs):\n\u001b[0;32m---> 45\u001b[0m     cdata \u001b[39m=\u001b[39m function(\u001b[39m*\u001b[39;49margs, \u001b[39m*\u001b[39;49m\u001b[39m*\u001b[39;49mkwargs)\n\u001b[1;32m     46\u001b[0m     \u001b[39m# TODO: test cdata is of the expected CType\u001b[39;00m\n\u001b[1;32m     47\u001b[0m     \u001b[39mreturn\u001b[39;00m _cdata_to_rinterface(cdata)\n",
      "File \u001b[0;32m~/.local/lib/python3.8/site-packages/rpy2/rinterface.py:813\u001b[0m, in \u001b[0;36mSexpClosure.__call__\u001b[0;34m(self, *args, **kwargs)\u001b[0m\n\u001b[1;32m    806\u001b[0m     res \u001b[39m=\u001b[39m rmemory\u001b[39m.\u001b[39mprotect(\n\u001b[1;32m    807\u001b[0m         openrlib\u001b[39m.\u001b[39mrlib\u001b[39m.\u001b[39mR_tryEval(\n\u001b[1;32m    808\u001b[0m             call_r,\n\u001b[1;32m    809\u001b[0m             call_context\u001b[39m.\u001b[39m__sexp__\u001b[39m.\u001b[39m_cdata,\n\u001b[1;32m    810\u001b[0m             error_occured)\n\u001b[1;32m    811\u001b[0m     )\n\u001b[1;32m    812\u001b[0m     \u001b[39mif\u001b[39;00m error_occured[\u001b[39m0\u001b[39m]:\n\u001b[0;32m--> 813\u001b[0m         \u001b[39mraise\u001b[39;00m embedded\u001b[39m.\u001b[39mRRuntimeError(_rinterface\u001b[39m.\u001b[39m_geterrmessage())\n\u001b[1;32m    814\u001b[0m \u001b[39mreturn\u001b[39;00m res\n",
      "\u001b[0;31mRRuntimeError\u001b[0m: Error in h(simpleError(msg, call)) : \n  error in evaluating the argument 'INDEX' in selecting a method for function 'tapply': unable to find an inherited method for function ‘seqnames’ for signature ‘\"character\"’\n"
     ]
    }
   ],
   "source": [
    "res_local = rpy2.robjects.r['great'](\"../../data/tests/test_data/input/07_height_snps_hg19.bed\", \"MSigDB:H\", \"TxDb.Hsapiens.UCSC.hg19.knownGene\")\n",
    "res_local = rpy2.robjects.r['getEnrichmentTables'](res_local)"
   ]
  },
  {
   "cell_type": "code",
   "execution_count": 32,
   "metadata": {},
   "outputs": [
    {
     "name": "stdout",
     "output_type": "stream",
     "text": [
      "[1] \"GO Molecular Function\" \"GO Biological Process\" \"GO Cellular Component\"\n",
      "\n"
     ]
    }
   ],
   "source": [
    "print(res_online.names)"
   ]
  },
  {
   "cell_type": "code",
   "execution_count": 30,
   "metadata": {},
   "outputs": [
    {
     "name": "stdout",
     "output_type": "stream",
     "text": [
      " [1] \"ID\"                         \"name\"                      \n",
      " [3] \"Binom_Genome_Fraction\"      \"Binom_Expected\"            \n",
      " [5] \"Binom_Observed_Region_Hits\" \"Binom_Fold_Enrichment\"     \n",
      " [7] \"Binom_Region_Set_Coverage\"  \"Binom_Raw_PValue\"          \n",
      " [9] \"Binom_Adjp_BH\"              \"Hyper_Total_Genes\"         \n",
      "[11] \"Hyper_Expected\"             \"Hyper_Observed_Gene_Hits\"  \n",
      "[13] \"Hyper_Fold_Enrichment\"      \"Hyper_Gene_Set_Coverage\"   \n",
      "[15] \"Hyper_Term_Gene_Coverage\"   \"Hyper_Raw_PValue\"          \n",
      "[17] \"Hyper_Adjp_BH\"             \n",
      "\n"
     ]
    }
   ],
   "source": [
    "print(res_online.rx2(\"GO Molecular Function\").colnames)"
   ]
  },
  {
   "cell_type": "code",
   "execution_count": 33,
   "metadata": {},
   "outputs": [
    {
     "data": {
      "text/html": [
       "<div>\n",
       "<style scoped>\n",
       "    .dataframe tbody tr th:only-of-type {\n",
       "        vertical-align: middle;\n",
       "    }\n",
       "\n",
       "    .dataframe tbody tr th {\n",
       "        vertical-align: top;\n",
       "    }\n",
       "\n",
       "    .dataframe thead th {\n",
       "        text-align: right;\n",
       "    }\n",
       "</style>\n",
       "<table border=\"1\" class=\"dataframe\">\n",
       "  <thead>\n",
       "    <tr style=\"text-align: right;\">\n",
       "      <th></th>\n",
       "      <th>id</th>\n",
       "      <th>term</th>\n",
       "      <th>binom_p_val</th>\n",
       "      <th>hyper_p_val</th>\n",
       "    </tr>\n",
       "  </thead>\n",
       "  <tbody>\n",
       "    <tr>\n",
       "      <th>4219</th>\n",
       "      <td>GO:2000772</td>\n",
       "      <td>regulation of cellular senescence</td>\n",
       "      <td>2.873591e-21</td>\n",
       "      <td>0.001120</td>\n",
       "    </tr>\n",
       "    <tr>\n",
       "      <th>4220</th>\n",
       "      <td>GO:0090342</td>\n",
       "      <td>regulation of cell aging</td>\n",
       "      <td>8.617844e-21</td>\n",
       "      <td>0.002480</td>\n",
       "    </tr>\n",
       "    <tr>\n",
       "      <th>4221</th>\n",
       "      <td>GO:0090402</td>\n",
       "      <td>oncogene-induced cell senescence</td>\n",
       "      <td>1.727243e-18</td>\n",
       "      <td>0.000239</td>\n",
       "    </tr>\n",
       "    <tr>\n",
       "      <th>4222</th>\n",
       "      <td>GO:0035986</td>\n",
       "      <td>senescence-associated heterochromatin focus as...</td>\n",
       "      <td>1.203867e-17</td>\n",
       "      <td>0.000708</td>\n",
       "    </tr>\n",
       "    <tr>\n",
       "      <th>17364</th>\n",
       "      <td>GO:0035985</td>\n",
       "      <td>senescence-associated heterochromatin focus</td>\n",
       "      <td>1.203867e-17</td>\n",
       "      <td>0.000708</td>\n",
       "    </tr>\n",
       "    <tr>\n",
       "      <th>...</th>\n",
       "      <td>...</td>\n",
       "      <td>...</td>\n",
       "      <td>...</td>\n",
       "      <td>...</td>\n",
       "    </tr>\n",
       "    <tr>\n",
       "      <th>9349</th>\n",
       "      <td>GO:0008090</td>\n",
       "      <td>retrograde axonal transport</td>\n",
       "      <td>1.000000e+00</td>\n",
       "      <td>1.000000</td>\n",
       "    </tr>\n",
       "    <tr>\n",
       "      <th>9350</th>\n",
       "      <td>GO:0008105</td>\n",
       "      <td>asymmetric protein localization</td>\n",
       "      <td>1.000000e+00</td>\n",
       "      <td>1.000000</td>\n",
       "    </tr>\n",
       "    <tr>\n",
       "      <th>9351</th>\n",
       "      <td>GO:0008156</td>\n",
       "      <td>negative regulation of DNA replication</td>\n",
       "      <td>1.000000e+00</td>\n",
       "      <td>1.000000</td>\n",
       "    </tr>\n",
       "    <tr>\n",
       "      <th>9353</th>\n",
       "      <td>GO:0008207</td>\n",
       "      <td>C21-steroid hormone metabolic process</td>\n",
       "      <td>1.000000e+00</td>\n",
       "      <td>1.000000</td>\n",
       "    </tr>\n",
       "    <tr>\n",
       "      <th>19089</th>\n",
       "      <td>GO:1990971</td>\n",
       "      <td>EMILIN complex</td>\n",
       "      <td>1.000000e+00</td>\n",
       "      <td>1.000000</td>\n",
       "    </tr>\n",
       "  </tbody>\n",
       "</table>\n",
       "<p>19090 rows × 4 columns</p>\n",
       "</div>"
      ],
      "text/plain": [
       "               id                                               term  \\\n",
       "4219   GO:2000772                  regulation of cellular senescence   \n",
       "4220   GO:0090342                           regulation of cell aging   \n",
       "4221   GO:0090402                   oncogene-induced cell senescence   \n",
       "4222   GO:0035986  senescence-associated heterochromatin focus as...   \n",
       "17364  GO:0035985        senescence-associated heterochromatin focus   \n",
       "...           ...                                                ...   \n",
       "9349   GO:0008090                        retrograde axonal transport   \n",
       "9350   GO:0008105                    asymmetric protein localization   \n",
       "9351   GO:0008156             negative regulation of DNA replication   \n",
       "9353   GO:0008207              C21-steroid hormone metabolic process   \n",
       "19089  GO:1990971                                     EMILIN complex   \n",
       "\n",
       "        binom_p_val  hyper_p_val  \n",
       "4219   2.873591e-21     0.001120  \n",
       "4220   8.617844e-21     0.002480  \n",
       "4221   1.727243e-18     0.000239  \n",
       "4222   1.203867e-17     0.000708  \n",
       "17364  1.203867e-17     0.000708  \n",
       "...             ...          ...  \n",
       "9349   1.000000e+00     1.000000  \n",
       "9350   1.000000e+00     1.000000  \n",
       "9351   1.000000e+00     1.000000  \n",
       "9353   1.000000e+00     1.000000  \n",
       "19089  1.000000e+00     1.000000  \n",
       "\n",
       "[19090 rows x 4 columns]"
      ]
     },
     "execution_count": 33,
     "metadata": {},
     "output_type": "execute_result"
    }
   ],
   "source": [
    "online = pd.DataFrame({\n",
    "    \"id\":list(res_online.rx2(\"GO Molecular Function\").rx2(\"ID\"))+list(res_online.rx2(\"GO Biological Process\").rx2(\"ID\"))+list(res_online.rx2(\"GO Cellular Component\").rx2(\"ID\")),\n",
    "    \"term\":list(res_online.rx2(\"GO Molecular Function\").rx2(\"name\"))+list(res_online.rx2(\"GO Biological Process\").rx2(\"name\"))+list(res_online.rx2(\"GO Cellular Component\").rx2(\"name\")),\n",
    "    \"binom_p_val\" : list(res_online.rx2(\"GO Molecular Function\").rx2(\"Binom_Raw_PValue\"))+list(res_online.rx2(\"GO Biological Process\").rx2(\"Binom_Raw_PValue\"))+list(res_online.rx2(\"GO Cellular Component\").rx2(\"Binom_Raw_PValue\")),\n",
    "    \"hyper_p_val\":list(res_online.rx2(\"GO Molecular Function\").rx2(\"Hyper_Raw_PValue\"))+list(res_online.rx2(\"GO Biological Process\").rx2(\"Hyper_Raw_PValue\"))+list(res_online.rx2(\"GO Cellular Component\").rx2(\"Hyper_Raw_PValue\"))\n",
    "    })\n",
    "online.sort_values(by=[\"binom_p_val\"])"
   ]
  },
  {
   "cell_type": "code",
   "execution_count": 39,
   "metadata": {},
   "outputs": [
    {
     "name": "stderr",
     "output_type": "stream",
     "text": [
      "[autoreload of greatpy.pl failed: Traceback (most recent call last):\n",
      "  File \"/home/tom/.local/lib/python3.8/site-packages/IPython/extensions/autoreload.py\", line 257, in check\n",
      "    superreload(m, reload, self.old_objects)\n",
      "  File \"/home/tom/.local/lib/python3.8/site-packages/IPython/extensions/autoreload.py\", line 455, in superreload\n",
      "    module = reload(module)\n",
      "  File \"/home/tom/miniconda3/envs/gpy/lib/python3.8/importlib/__init__.py\", line 159, in reload\n",
      "    raise ImportError(msg.format(parent_name),\n",
      "ImportError: parent 'greatpy' not in sys.modules\n",
      "]\n",
      "[autoreload of greatpy.pp failed: Traceback (most recent call last):\n",
      "  File \"/home/tom/.local/lib/python3.8/site-packages/IPython/extensions/autoreload.py\", line 257, in check\n",
      "    superreload(m, reload, self.old_objects)\n",
      "  File \"/home/tom/.local/lib/python3.8/site-packages/IPython/extensions/autoreload.py\", line 455, in superreload\n",
      "    module = reload(module)\n",
      "  File \"/home/tom/miniconda3/envs/gpy/lib/python3.8/importlib/__init__.py\", line 159, in reload\n",
      "    raise ImportError(msg.format(parent_name),\n",
      "ImportError: parent 'greatpy' not in sys.modules\n",
      "]\n"
     ]
    },
    {
     "ename": "ModuleNotFoundError",
     "evalue": "No module named 'yaml'",
     "output_type": "error",
     "traceback": [
      "\u001b[0;31m---------------------------------------------------------------------------\u001b[0m",
      "\u001b[0;31mModuleNotFoundError\u001b[0m                       Traceback (most recent call last)",
      "\u001b[1;32m/home/tom/Stage/greatpy/notebooks/test/12_rGreat_online_vs_local.ipynb Cell 13\u001b[0m in \u001b[0;36m<cell line: 3>\u001b[0;34m()\u001b[0m\n\u001b[1;32m      <a href='vscode-notebook-cell://wsl%2Bubuntu/home/tom/Stage/greatpy/notebooks/test/12_rGreat_online_vs_local.ipynb#ch0000019vscode-remote?line=0'>1</a>\u001b[0m \u001b[39mimport\u001b[39;00m \u001b[39mos\u001b[39;00m \n\u001b[1;32m      <a href='vscode-notebook-cell://wsl%2Bubuntu/home/tom/Stage/greatpy/notebooks/test/12_rGreat_online_vs_local.ipynb#ch0000019vscode-remote?line=1'>2</a>\u001b[0m \u001b[39mimport\u001b[39;00m \u001b[39mmatplotlib\u001b[39;00m\u001b[39m.\u001b[39;00m\u001b[39mpyplot\u001b[39;00m \u001b[39mas\u001b[39;00m \u001b[39mplt\u001b[39;00m\n\u001b[0;32m----> <a href='vscode-notebook-cell://wsl%2Bubuntu/home/tom/Stage/greatpy/notebooks/test/12_rGreat_online_vs_local.ipynb#ch0000019vscode-remote?line=2'>3</a>\u001b[0m \u001b[39mimport\u001b[39;00m \u001b[39mgreatpy\u001b[39;00m \u001b[39mas\u001b[39;00m \u001b[39mgreat\u001b[39;00m \n\u001b[1;32m      <a href='vscode-notebook-cell://wsl%2Bubuntu/home/tom/Stage/greatpy/notebooks/test/12_rGreat_online_vs_local.ipynb#ch0000019vscode-remote?line=3'>4</a>\u001b[0m \u001b[39mfrom\u001b[39;00m \u001b[39mscipy\u001b[39;00m\u001b[39m.\u001b[39;00m\u001b[39mstats\u001b[39;00m \u001b[39mimport\u001b[39;00m pearsonr\n",
      "File \u001b[0;32m~/.local/lib/python3.8/site-packages/greatpy/__init__.py:3\u001b[0m, in \u001b[0;36m<module>\u001b[0;34m\u001b[0m\n\u001b[1;32m      1\u001b[0m \u001b[39mfrom\u001b[39;00m \u001b[39mimportlib\u001b[39;00m\u001b[39m.\u001b[39;00m\u001b[39mmetadata\u001b[39;00m \u001b[39mimport\u001b[39;00m version\n\u001b[0;32m----> 3\u001b[0m \u001b[39mfrom\u001b[39;00m \u001b[39m.\u001b[39;00m \u001b[39mimport\u001b[39;00m pl, pp, tl\n\u001b[1;32m      5\u001b[0m __all__ \u001b[39m=\u001b[39m [\u001b[39m\"\u001b[39m\u001b[39mpl\u001b[39m\u001b[39m\"\u001b[39m, \u001b[39m\"\u001b[39m\u001b[39mpp\u001b[39m\u001b[39m\"\u001b[39m, \u001b[39m\"\u001b[39m\u001b[39mtl\u001b[39m\u001b[39m\"\u001b[39m]\n\u001b[1;32m      7\u001b[0m __version__ \u001b[39m=\u001b[39m version(\u001b[39m\"\u001b[39m\u001b[39mgreatpy\u001b[39m\u001b[39m\"\u001b[39m)\n",
      "File \u001b[0;32m~/.local/lib/python3.8/site-packages/greatpy/tl/__init__.py:6\u001b[0m, in \u001b[0;36m<module>\u001b[0;34m\u001b[0m\n\u001b[1;32m      1\u001b[0m from .basic import (\n\u001b[1;32m      2\u001b[0m     basic_tool,\n\u001b[1;32m      3\u001b[0m     create_regdom,\n\u001b[1;32m      4\u001b[0m     get_association,\n\u001b[1;32m      5\u001b[0m     enrichment,\n\u001b[0;32m----> 6\u001b[0m     number_of_hit, \n\u001b[1;32m      7\u001b[0m     get_binom_pval\n\u001b[1;32m      8\u001b[0m     )\n",
      "File \u001b[0;32m~/.local/lib/python3.8/site-packages/greatpy/tl/GREAT.py:5\u001b[0m, in \u001b[0;36m<module>\u001b[0;34m\u001b[0m\n\u001b[1;32m      3\u001b[0m \u001b[39mfrom\u001b[39;00m \u001b[39mscipy\u001b[39;00m\u001b[39m.\u001b[39;00m\u001b[39mspecial\u001b[39;00m \u001b[39mimport\u001b[39;00m comb\n\u001b[1;32m      4\u001b[0m \u001b[39mfrom\u001b[39;00m \u001b[39mstatsmodels\u001b[39;00m\u001b[39m.\u001b[39;00m\u001b[39mstats\u001b[39;00m\u001b[39m.\u001b[39;00m\u001b[39mmultitest\u001b[39;00m \u001b[39mimport\u001b[39;00m multipletests\n\u001b[0;32m----> 5\u001b[0m \u001b[39mimport\u001b[39;00m \u001b[39mdask\u001b[39;00m\u001b[39m.\u001b[39;00m\u001b[39mdataframe\u001b[39;00m \u001b[39mas\u001b[39;00m \u001b[39mdd\u001b[39;00m \n\u001b[1;32m      6\u001b[0m \u001b[39mimport\u001b[39;00m \u001b[39mnumpy\u001b[39;00m \u001b[39mas\u001b[39;00m \u001b[39mnp\u001b[39;00m \n\u001b[1;32m      8\u001b[0m pd\u001b[39m.\u001b[39moptions\u001b[39m.\u001b[39mdisplay\u001b[39m.\u001b[39mfloat_format \u001b[39m=\u001b[39m \u001b[39m'\u001b[39m\u001b[39m{:12.5e}\u001b[39;00m\u001b[39m'\u001b[39m\u001b[39m.\u001b[39mformat\n",
      "File \u001b[0;32m~/.local/lib/python3.8/site-packages/dask/__init__.py:1\u001b[0m, in \u001b[0;36m<module>\u001b[0;34m\u001b[0m\n\u001b[0;32m----> 1\u001b[0m \u001b[39mfrom\u001b[39;00m \u001b[39mdask\u001b[39;00m \u001b[39mimport\u001b[39;00m config, datasets\n\u001b[1;32m      2\u001b[0m \u001b[39mfrom\u001b[39;00m \u001b[39mdask\u001b[39;00m\u001b[39m.\u001b[39;00m\u001b[39m_version\u001b[39;00m \u001b[39mimport\u001b[39;00m get_versions\n\u001b[1;32m      3\u001b[0m \u001b[39mfrom\u001b[39;00m \u001b[39mdask\u001b[39;00m\u001b[39m.\u001b[39;00m\u001b[39mbase\u001b[39;00m \u001b[39mimport\u001b[39;00m (\n\u001b[1;32m      4\u001b[0m     annotate,\n\u001b[1;32m      5\u001b[0m     compute,\n\u001b[0;32m   (...)\u001b[0m\n\u001b[1;32m      9\u001b[0m     visualize,\n\u001b[1;32m     10\u001b[0m )\n",
      "File \u001b[0;32m~/.local/lib/python3.8/site-packages/dask/config.py:15\u001b[0m, in \u001b[0;36m<module>\u001b[0;34m\u001b[0m\n\u001b[1;32m     12\u001b[0m \u001b[39mfrom\u001b[39;00m \u001b[39mcollections\u001b[39;00m\u001b[39m.\u001b[39;00m\u001b[39mabc\u001b[39;00m \u001b[39mimport\u001b[39;00m Mapping, Sequence\n\u001b[1;32m     13\u001b[0m \u001b[39mfrom\u001b[39;00m \u001b[39mtyping\u001b[39;00m \u001b[39mimport\u001b[39;00m Any, Literal\n\u001b[0;32m---> 15\u001b[0m \u001b[39mimport\u001b[39;00m \u001b[39myaml\u001b[39;00m\n\u001b[1;32m     17\u001b[0m no_default \u001b[39m=\u001b[39m \u001b[39m\"\u001b[39m\u001b[39m__no_default__\u001b[39m\u001b[39m\"\u001b[39m\n\u001b[1;32m     20\u001b[0m \u001b[39mdef\u001b[39;00m \u001b[39m_get_paths\u001b[39m():\n",
      "\u001b[0;31mModuleNotFoundError\u001b[0m: No module named 'yaml'"
     ]
    }
   ],
   "source": [
    "import os \n",
    "import matplotlib.pyplot as plt\n",
    "import greatpy as great \n",
    "from scipy.stats import pearsonr"
   ]
  },
  {
   "cell_type": "code",
   "execution_count": null,
   "metadata": {},
   "outputs": [],
   "source": [
    "def test(): \n",
    "    stat_df = {\n",
    "        \"name\" : [],\n",
    "        \"pearson_binom\": [], \n",
    "        \"pearson_hypergeom\": []\n",
    "    }\n",
    "\n",
    "    for name in os.listdir(\"../../data/tests/test_data/input\"): \n",
    "        # online test \n",
    "        res_online = rpy2.robjects.r['submitGreatJob'](f\"../../data/tests/test_data/input/{name}\")\n",
    "        res_online = rpy2.robjects.r['getEnrichmentTables'](res_online)\n",
    "\n",
    "        # local test\n",
    "        res_local = rpy2.robjects.r['great'](f\"../../data/tests/test_data/input/{name}\", \"MSigDB:H\", \"TxDb.Hsapiens.UCSC.hg19.knownGene\")\n",
    "        res_local = rpy2.robjects.r['getEnrichmentTables'](res_local)\n",
    "\n",
    "        # create dataframe\n",
    "        online = pd.DataFrame({\n",
    "            \"id\":list(res_online.rx2(\"GO Molecular Function\").rx2(\"ID\"))+list(res_online.rx2(\"GO Biological Process\").rx2(\"ID\"))+list(res_online.rx2(\"GO Cellular Component\").rx2(\"ID\")),\n",
    "            \"term\":list(res_online.rx2(\"GO Molecular Function\").rx2(\"name\"))+list(res_online.rx2(\"GO Biological Process\").rx2(\"name\"))+list(res_online.rx2(\"GO Cellular Component\").rx2(\"name\")),\n",
    "            \"binom_p_val\" : list(res_online.rx2(\"GO Molecular Function\").rx2(\"Binom_Raw_PValue\"))+list(res_online.rx2(\"GO Biological Process\").rx2(\"Binom_Raw_PValue\"))+list(res_online.rx2(\"GO Cellular Component\").rx2(\"Binom_Raw_PValue\")),\n",
    "            \"hyper_p_val\":list(res_online.rx2(\"GO Molecular Function\").rx2(\"Hyper_Raw_PValue\"))+list(res_online.rx2(\"GO Biological Process\").rx2(\"Hyper_Raw_PValue\"))+list(res_online.rx2(\"GO Cellular Component\").rx2(\"Hyper_Raw_PValue\"))\n",
    "            })\n",
    "        online.sort_values(by=[\"id\"])\n",
    "\n",
    "        local = pd.DataFrame({\n",
    "            \"id\":list(res_local.rx2(\"GO Molecular Function\").rx2(\"ID\"))+list(res_local.rx2(\"GO Biological Process\").rx2(\"ID\"))+list(res_local.rx2(\"GO Cellular Component\").rx2(\"ID\")),\n",
    "            \"term\":list(res_local.rx2(\"GO Molecular Function\").rx2(\"name\"))+list(res_local.rx2(\"GO Biological Process\").rx2(\"name\"))+list(res_local.rx2(\"GO Cellular Component\").rx2(\"name\")),\n",
    "            \"binom_p_val\" : list(res_local.rx2(\"GO Molecular Function\").rx2(\"Binom_Raw_PValue\"))+list(res_local.rx2(\"GO Biological Process\").rx2(\"Binom_Raw_PValue\"))+list(res_local.rx2(\"GO Cellular Component\").rx2(\"Binom_Raw_PValue\")),\n",
    "            \"hyper_p_val\":list(res_local.rx2(\"GO Molecular Function\").rx2(\"Hyper_Raw_PValue\"))+list(res_local.rx2(\"GO Biological Process\").rx2(\"Hyper_Raw_PValue\"))+list(res_local.rx2(\"GO Cellular Component\").rx2(\"Hyper_Raw_PValue\"))\n",
    "            })\n",
    "        local.sort_values(by=[\"id\"])\n",
    "\n",
    "        # compare\n",
    "        binom_local = []\n",
    "        hyper_local = []\n",
    "        binom_online = []\n",
    "        hyper_online = []\n",
    "        for i in range(online.shape[0]) : \n",
    "            go_id = list(online.index)[i]\n",
    "            curr_enrichment = online.iloc[i]\n",
    "            curr_great_webserver = local.loc[local[\"id\"]==go_id]\n",
    "            binom_local.append(float(curr_enrichment[\"binom_p_val\"]))\n",
    "            hyper_local.append(float(curr_enrichment[\"hypergeom_p_val\"]))\n",
    "            binom_online.append(float(curr_great_webserver[\"binom_p_val\"]))\n",
    "            hyper_online.append(float(curr_great_webserver[\"hyper_p_val\"]))\n",
    "        binom = pd.DataFrame({\"binom_local\":binom_local,\"binom_online\":binom_online})\n",
    "        hyper = pd.DataFrame({\"hyper_greatpy\":hyper_local,\"hyper_online\":hyper_online})\n",
    "\n",
    "\n",
    "        fig = plt.figure(figsize=(10,5),dpi=80)\n",
    "        fig.subplots_adjust(hspace=0.4, wspace=0.4)\n",
    "        ax = fig.add_subplot(2, 2, 1)\n",
    "        great.pl.scatterplot(binom,colname_x=\"binom_greatpy\",colname_y=\"binom_great\",title=None,ax = ax)\n",
    "        ax = fig.add_subplot(2, 2, 2)\n",
    "        great.pl.scatterplot(hyper,colname_x=\"hyper_greatpy\",colname_y=\"hyper_great\",title=None,ax = ax)\n",
    "        fig.suptitle(f\"results for {name}\")\n",
    "        plt.show()\n",
    "        # great.pl.scatterplot(binom,colname_x=\"binom_greatpy\",colname_y=\"binom_great\",title=f\"binom comparison for {name}\")\n",
    "        # great.pl.scatterplot(hyper,colname_x=\"hyper_greatpy\",colname_y=\"hyper_great\",title=f\"hypergeom comparison for {name}\")\n",
    "\n",
    "        stat_df[\"name\"].append(name)\n",
    "        stat_df[\"pearson_binom\"].append(pearsonr(binom_great,binom_greatpy)[0])\n",
    "        stat_df[\"pearson_hypergeom\"].append(pearsonr(hyper_great,hyper_greatpy)[0])\n",
    "test()"
   ]
  }
 ],
 "metadata": {
  "kernelspec": {
   "display_name": "Python 3.8.13 ('gpy')",
   "language": "python",
   "name": "python3"
  },
  "language_info": {
   "codemirror_mode": {
    "name": "ipython",
    "version": 3
   },
   "file_extension": ".py",
   "mimetype": "text/x-python",
   "name": "python",
   "nbconvert_exporter": "python",
   "pygments_lexer": "ipython3",
   "version": "3.8.13"
  },
  "orig_nbformat": 4,
  "vscode": {
   "interpreter": {
    "hash": "610c73e5f1997caa668091b43a573fbafba1e2b96e55fbc05d56c58d21b90949"
   }
  }
 },
 "nbformat": 4,
 "nbformat_minor": 2
}
