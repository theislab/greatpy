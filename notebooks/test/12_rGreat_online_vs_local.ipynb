{
 "cells": [
  {
   "cell_type": "markdown",
   "metadata": {},
   "source": [
    "# rGreat online vs local "
   ]
  },
  {
   "cell_type": "markdown",
   "metadata": {},
   "source": [
    "This notebook allows you to compare results between local and online rGreat. "
   ]
  },
  {
   "cell_type": "markdown",
   "metadata": {},
   "source": [
    "r-base == 3.6.1\n",
    "\n",
    "python version == 3.8 "
   ]
  },
  {
   "cell_type": "code",
   "execution_count": 1,
   "metadata": {},
   "outputs": [],
   "source": [
    "%load_ext autoreload\n",
    "%autoreload 2"
   ]
  },
  {
   "cell_type": "code",
   "execution_count": 2,
   "metadata": {},
   "outputs": [],
   "source": [
    "import rpy2\n",
    "from rpy2.robjects.packages import importr\n",
    "from rpy2.robjects import pandas2ri\n",
    "from rpy2.robjects import r as r\n",
    "pandas2ri.activate()\n",
    "import pandas as pd\n",
    "\n",
    "import os \n",
    "import matplotlib.pyplot as plt\n",
    "import greatpy as great \n",
    "from scipy.stats import pearsonr\n",
    "import re\n",
    "import time "
   ]
  },
  {
   "cell_type": "code",
   "execution_count": 3,
   "metadata": {},
   "outputs": [
    {
     "data": {
      "text/plain": [
       "'3.5.2'"
      ]
     },
     "execution_count": 3,
     "metadata": {},
     "output_type": "execute_result"
    }
   ],
   "source": [
    "rpy2.__version__"
   ]
  },
  {
   "cell_type": "code",
   "execution_count": 5,
   "metadata": {},
   "outputs": [],
   "source": [
    "importr('rGREAT')\n",
    "ranges = importr('GenomicRanges')"
   ]
  },
  {
   "cell_type": "code",
   "execution_count": 8,
   "metadata": {},
   "outputs": [],
   "source": [
    "def local_vs_online(): \n",
    "    stat_df = {\n",
    "        \"name\" : [],\n",
    "        \"pearson_binom\" : [], \n",
    "        \"pearson_hypergeom\" : []\n",
    "    }\n",
    "    pp = {\n",
    "        \"name\" : [],\n",
    "        \"before_pp_online_size\" : [], \n",
    "        \"before_pp_local_size\" : [],\n",
    "        \"final_size\" : [],\n",
    "        \"%_of_GO_from_online_lost\" : [],\n",
    "    }\n",
    "\n",
    "    for name in os.listdir(\"../../data/tests/test_data/input\"): \n",
    "        # find the assembly \n",
    "        if re.match(\".*hg19.*\",name) != None : \n",
    "            assembly = \"hg19\"\n",
    "        else : \n",
    "            assembly = \"hg38\"\n",
    "            \n",
    "        # online test \n",
    "        res_online = rpy2.robjects.r['submitGreatJob'](f\"../../data/tests/test_data/input/{name}\",species=f\"{assembly}\",help=False)\n",
    "        res_online = rpy2.robjects.r['getEnrichmentTables'](res_online)\n",
    "\n",
    "        # local test\n",
    "            # proprocessing : make a Grange frame \n",
    "        df = r[\"read.csv\"](f\"../../data/tests/test_data/input/{name}\",sep='\\t')\n",
    "        seqname = rpy2.robjects.StrVector([\"seqnames\", \"seqname\",\"chromosome\", \"X.Chr\",\"chr\", \"chromosome_name\",\"seqid\"])\n",
    "        end = rpy2.robjects.StrVector(['end', 'stop'])\n",
    "        df = ranges.makeGRangesFromDataFrame(df,seqnames_field=seqname)#,keep_extra_columns=False,ignore_strand=False,seqinfo=None,start_field='start', end_field=end, strand_field='strand',starts_in_df_are_0based=False)\n",
    "\n",
    "            # great calculation\n",
    "        local = rpy2.robjects.r['great'](df, \"msigdb:C5\", f\"txdb:{assembly}\",verbose=False)\n",
    "        local = rpy2.robjects.r['getEnrichmentTables'](local)\n",
    "\n",
    "        # create each dataframe\n",
    "        name = [cdc.lower() for cdc in list(res_online.rx2(\"GO Molecular Function\").rx2(\"name\"))+list(res_online.rx2(\"GO Biological Process\").rx2(\"name\"))+list(res_online.rx2(\"GO Cellular Component\").rx2(\"name\"))]\n",
    "\n",
    "        online = pd.DataFrame({\n",
    "            \"id\" : list(res_online.rx2(\"GO Molecular Function\").rx2(\"ID\"))+list(res_online.rx2(\"GO Biological Process\").rx2(\"ID\"))+list(res_online.rx2(\"GO Cellular Component\").rx2(\"ID\")),\n",
    "            \"name\" : name,\n",
    "            \"binom_p_val\" : list(res_online.rx2(\"GO Molecular Function\").rx2(\"Binom_Raw_PValue\"))+list(res_online.rx2(\"GO Biological Process\").rx2(\"Binom_Raw_PValue\"))+list(res_online.rx2(\"GO Cellular Component\").rx2(\"Binom_Raw_PValue\")),\n",
    "            \"hyper_p_val\" : list(res_online.rx2(\"GO Molecular Function\").rx2(\"Hyper_Raw_PValue\"))+list(res_online.rx2(\"GO Biological Process\").rx2(\"Hyper_Raw_PValue\"))+list(res_online.rx2(\"GO Cellular Component\").rx2(\"Hyper_Raw_PValue\"))\n",
    "            })\n",
    "\n",
    "        name = list(local.rx2(\"id\")) \n",
    "        name = [\" \".join(cdc.lower().split(\"_\")[1:]) for cdc in list(local.rx2(\"id\"))]\n",
    "\n",
    "        local = pd.DataFrame({\n",
    "            \"name\": name,\n",
    "            \"binom_p_val\" : list(local.rx2(\"p_value\")),\n",
    "            \"hyper_p_val\" : list(local.rx2(\"p_value_hyper\"))\n",
    "            })\n",
    "\n",
    "        # reduce the df \n",
    "        pp[\"name\"].append(name)\n",
    "        pp[\"before_pp_local_size\"].append(local.shape[0])\n",
    "        pp[\"before_pp_online_size\"].append(online.shape[0])\n",
    "        local = local.loc[local[\"name\"].isin(list(online[\"name\"]))]\n",
    "        online = online.loc[online[\"name\"].isin(list(local[\"name\"]))]\n",
    "        pp[\"final_size\"].append(local.shape[0])\n",
    "        pp[\"%_of_GO_from_online_lost\"].append(round(100*(online.shape[0]-local.shape[0])/online.shape[0],2))\n",
    "\n",
    "        # compare\n",
    "        binom_local = []\n",
    "        hyper_local = []\n",
    "        binom_online = []\n",
    "        hyper_online = []\n",
    "        for i in range(online.shape[0]) : \n",
    "            go_term = list(online[\"name\"])[i]\n",
    "            curr_enrichment = online.iloc[i]\n",
    "            curr_great_webserver = local.loc[local[\"name\"]==go_term]\n",
    "            binom_local.append(float(curr_enrichment[\"binom_p_val\"]))\n",
    "            hyper_local.append(float(curr_enrichment[\"hyper_p_val\"]))\n",
    "            binom_online.append(float(curr_great_webserver[\"binom_p_val\"]))\n",
    "            hyper_online.append(float(curr_great_webserver[\"hyper_p_val\"]))\n",
    "        binom = pd.DataFrame({\"binom_local\":binom_local,\"binom_online\":binom_online})\n",
    "        hyper = pd.DataFrame({\"hyper_local\":hyper_local,\"hyper_online\":hyper_online})\n",
    "\n",
    "\n",
    "        # fig = plt.figure(figsize=(10,5))\n",
    "        # fig.subplots_adjust(hspace=0.4, wspace=0.4)\n",
    "        # ax = fig.add_subplot(2, 2, 1)\n",
    "        # great.pl.scatterplot(binom,colname_x=\"binom_local\",colname_y=\"binom_online\",title=None,ax = ax)\n",
    "        # ax = fig.add_subplot(2, 2, 2)\n",
    "        # great.pl.scatterplot(hyper,colname_x=\"hyper_local\",colname_y=\"hyper_online\",title=None,ax = ax)\n",
    "        # fig.suptitle(f\"results for {name}\")\n",
    "        # plt.show()\n",
    "        # Error : \n",
    "        # ValueError: Image size of 896244x195 pixels is too large. It must be less than 2^16 in each direction.\n",
    "        # <Figure size 720x360 with 2 Axes>\n",
    "\n",
    "        stat_df[\"name\"].append(name[0])\n",
    "        stat_df[\"pearson_binom\"].append(pearsonr(binom_local,binom_online)[0])\n",
    "        stat_df[\"pearson_hypergeom\"].append(pearsonr(hyper_local,hyper_online)[0])\n",
    "\n",
    "        time.sleep(30) # just to have not a burning computer ^^ \n",
    "        \n",
    "    return pd.DataFrame(stat_df),pd.DataFrame(pp)"
   ]
  },
  {
   "cell_type": "code",
   "execution_count": 9,
   "metadata": {},
   "outputs": [
    {
     "name": "stderr",
     "output_type": "stream",
     "text": [
      "R[write to console]: The default enrichment tables contain no associated genes for the input\n",
      "regions.You can set `download_by = 'tsv'` to download the complete\n",
      "table,but note only the top 500 regions can be retreived. See the\n",
      "following link:\n",
      "\n",
      "https://great-help.atlassian.net/wiki/spaces/GREAT/pages/655401/Export#Export-GlobalExport\n",
      "\n",
      "R[write to console]: * extended_tss is already cached, directly use it.\n",
      "\n",
      "R[write to console]: The default enrichment tables contain no associated genes for the input\n",
      "regions.You can set `download_by = 'tsv'` to download the complete\n",
      "table,but note only the top 500 regions can be retreived. See the\n",
      "following link:\n",
      "\n",
      "https://great-help.atlassian.net/wiki/spaces/GREAT/pages/655401/Export#Export-GlobalExport\n",
      "\n"
     ]
    }
   ],
   "source": [
    "stat,preprocess = local_vs_online()"
   ]
  },
  {
   "cell_type": "code",
   "execution_count": 47,
   "metadata": {},
   "outputs": [
    {
     "name": "stderr",
     "output_type": "stream",
     "text": [
      "R[write to console]: The default enrichment tables contain no associated genes for the input\n",
      "regions.You can set `download_by = 'tsv'` to download the complete\n",
      "table,but note only the top 500 regions can be retreived. See the\n",
      "following link:\n",
      "\n",
      "https://great-help.atlassian.net/wiki/spaces/GREAT/pages/655401/Export#Export-GlobalExport\n",
      "\n",
      "R[write to console]: * extended_tss is already cached, directly use it.\n",
      "\n"
     ]
    }
   ],
   "source": [
    "stat_df = {\n",
    "    \"name\" : [],\n",
    "    \"pearson_binom\": [], \n",
    "    \"pearson_hypergeom\": []\n",
    "}\n",
    "res_online = rpy2.robjects.r['submitGreatJob'](f\"../../data/tests/test_data/input/09_ERF.bed\",species=f\"hg38\",help=False)\n",
    "res_online = rpy2.robjects.r['getEnrichmentTables'](res_online)\n",
    "\n",
    "# local test\n",
    "    # proprocessing : make a Grange frame \n",
    "df = r[\"read.csv\"](f\"../../data/tests/test_data/input/09_ERF.bed\",sep='\\t')\n",
    "seqname = rpy2.robjects.StrVector([\"seqnames\", \"seqname\",\"chromosome\", \"X.Chr\",\"chr\", \"chromosome_name\",\"seqid\"])\n",
    "end = rpy2.robjects.StrVector(['end', 'stop'])\n",
    "df = ranges.makeGRangesFromDataFrame(df,seqnames_field=seqname)#,keep_extra_columns=False,ignore_strand=False,seqinfo=None,start_field='start', end_field=end, strand_field='strand',starts_in_df_are_0based=False)\n",
    "\n",
    "    # great calculation\n",
    "local = rpy2.robjects.r['great'](df, \"msigdb:C5\", f\"txdb:hg38\",verbose=False)\n",
    "local = rpy2.robjects.r['getEnrichmentTables'](local)\n",
    "\n",
    "# create each dataframe\n",
    "name = [cdc.lower() for cdc in list(res_online.rx2(\"GO Molecular Function\").rx2(\"name\"))+list(res_online.rx2(\"GO Biological Process\").rx2(\"name\"))+list(res_online.rx2(\"GO Cellular Component\").rx2(\"name\"))]\n",
    "\n",
    "online = pd.DataFrame({\n",
    "    \"id\":list(res_online.rx2(\"GO Molecular Function\").rx2(\"ID\"))+list(res_online.rx2(\"GO Biological Process\").rx2(\"ID\"))+list(res_online.rx2(\"GO Cellular Component\").rx2(\"ID\")),\n",
    "    \"name\":name,\n",
    "    \"binom_p_val\" : list(res_online.rx2(\"GO Molecular Function\").rx2(\"Binom_Raw_PValue\"))+list(res_online.rx2(\"GO Biological Process\").rx2(\"Binom_Raw_PValue\"))+list(res_online.rx2(\"GO Cellular Component\").rx2(\"Binom_Raw_PValue\")),\n",
    "    \"hyper_p_val\":list(res_online.rx2(\"GO Molecular Function\").rx2(\"Hyper_Raw_PValue\"))+list(res_online.rx2(\"GO Biological Process\").rx2(\"Hyper_Raw_PValue\"))+list(res_online.rx2(\"GO Cellular Component\").rx2(\"Hyper_Raw_PValue\"))\n",
    "    })\n",
    "\n",
    "name = list(local.rx2(\"id\")) \n",
    "name = [\" \".join(cdc.lower().split(\"_\")[1:]) for cdc in list(local.rx2(\"id\"))]\n",
    "\n",
    "local = pd.DataFrame({\n",
    "    \"name\": name,\n",
    "    \"binom_p_val\" : list(local.rx2(\"p_value\")),\n",
    "    \"hyper_p_val\" : list(local.rx2(\"p_value_hyper\"))\n",
    "    })\n",
    "\n"
   ]
  },
  {
   "cell_type": "code",
   "execution_count": 48,
   "metadata": {},
   "outputs": [],
   "source": [
    "\n",
    "# reduce the df \n",
    "local = local.loc[local[\"name\"].isin(list(online[\"name\"]))]\n",
    "online = online.loc[online[\"name\"].isin(list(local[\"name\"]))]\n",
    "\n",
    "# compare\n",
    "binom_local = []\n",
    "hyper_local = []\n",
    "binom_online = []\n",
    "hyper_online = []\n"
   ]
  },
  {
   "cell_type": "code",
   "execution_count": 53,
   "metadata": {},
   "outputs": [
    {
     "data": {
      "image/png": "[encoded data removed]",
      "text/plain": [
       "<Figure size 800x400 with 2 Axes>"
      ]
     },
     "metadata": {
      "needs_background": "light"
     },
     "output_type": "display_data"
    }
   ],
   "source": [
    "for i in range(online.shape[0]) : \n",
    "    go_term = list(online[\"name\"])[i]\n",
    "    curr_online = online.iloc[i]\n",
    "    curr_local = local.loc[local[\"name\"]==go_term]\n",
    "    binom_local.append(float(curr_online[\"binom_p_val\"]))\n",
    "    hyper_local.append(float(curr_online[\"hyper_p_val\"]))\n",
    "    binom_online.append(float(curr_local[\"binom_p_val\"]))\n",
    "    hyper_online.append(float(curr_local[\"hyper_p_val\"]))\n",
    "binom = pd.DataFrame({\"binom_local\":binom_local,\"binom_online\":binom_online})\n",
    "hyper = pd.DataFrame({\"hyper_local\":hyper_local,\"hyper_online\":hyper_online})\n",
    "\n",
    "\n",
    "fig = plt.figure(figsize=(10,5),dpi=80)\n",
    "fig.subplots_adjust(hspace=0.4, wspace=0.4)\n",
    "ax = fig.add_subplot(2, 2, 1)\n",
    "great.pl.scatterplot(binom,colname_x=\"binom_local\",colname_y=\"binom_online\",title=None,ax = ax,minus_log10=False)\n",
    "ax = fig.add_subplot(2, 2, 2)\n",
    "great.pl.scatterplot(hyper,colname_x=\"hyper_local\",colname_y=\"hyper_online\",title=None,ax = ax,minus_log10=False)\n",
    "fig.suptitle(f\"results for 09_erf.bed\")\n",
    "plt.show()\n",
    "\n",
    "stat_df[\"name\"].append(name[0])\n",
    "stat_df[\"pearson_binom\"].append(pearsonr(binom_local,binom_online)[0])\n",
    "stat_df[\"pearson_hypergeom\"].append(pearsonr(hyper_local,hyper_online)[0])"
   ]
  },
  {
   "cell_type": "code",
   "execution_count": 39,
   "metadata": {},
   "outputs": [
    {
     "data": {
      "text/html": [
       "<div>\n",
       "<style scoped>\n",
       "    .dataframe tbody tr th:only-of-type {\n",
       "        vertical-align: middle;\n",
       "    }\n",
       "\n",
       "    .dataframe tbody tr th {\n",
       "        vertical-align: top;\n",
       "    }\n",
       "\n",
       "    .dataframe thead th {\n",
       "        text-align: right;\n",
       "    }\n",
       "</style>\n",
       "<table border=\"1\" class=\"dataframe\">\n",
       "  <thead>\n",
       "    <tr style=\"text-align: right;\">\n",
       "      <th></th>\n",
       "      <th>name</th>\n",
       "      <th>pearson_binom</th>\n",
       "      <th>pearson_hypergeom</th>\n",
       "    </tr>\n",
       "  </thead>\n",
       "  <tbody>\n",
       "    <tr>\n",
       "      <th>0</th>\n",
       "      <td>[retrograde vesicle mediated transport golgi t...</td>\n",
       "      <td>6.02501e-01</td>\n",
       "      <td>4.42513e-01</td>\n",
       "    </tr>\n",
       "    <tr>\n",
       "      <th>1</th>\n",
       "      <td>retrograde vesicle mediated transport golgi to...</td>\n",
       "      <td>6.02501e-01</td>\n",
       "      <td>4.42513e-01</td>\n",
       "    </tr>\n",
       "  </tbody>\n",
       "</table>\n",
       "</div>"
      ],
      "text/plain": [
       "                                                name  pearson_binom  \\\n",
       "0  [retrograde vesicle mediated transport golgi t...    6.02501e-01   \n",
       "1  retrograde vesicle mediated transport golgi to...    6.02501e-01   \n",
       "\n",
       "   pearson_hypergeom  \n",
       "0        4.42513e-01  \n",
       "1        4.42513e-01  "
      ]
     },
     "execution_count": 39,
     "metadata": {},
     "output_type": "execute_result"
    }
   ],
   "source": [
    "pd.DataFrame(stat_df)"
   ]
  },
  {
   "cell_type": "code",
   "execution_count": 78,
   "metadata": {},
   "outputs": [],
   "source": [
    "df = r[\"read.csv\"](\"../../data/tests/test_data/input/01_random.bed\",sep = '\\t')\n",
    "seqname = rpy2.robjects.StrVector([\"seqnames\", \"seqname\",\"chromosome\", \"X.Chr\",\"chr\", \"chromosome_name\",\"seqid\"])\n",
    "# # pos = rpy2.robjects.StrVector([\"start\",\"end\", \"stop\"])\n",
    "# # grange = r[\"makeGRangesFromDataFrame\"](df,False,False,None,seqname,pos,\"strand\",False)\n",
    "df = ranges.makeGRangesFromDataFrame(df,seqnames_field=seqname)#,keep_extra_columns=False,ignore_strand=False,seqinfo=None,seqnames_field=['seqnames', 'seqname','chromosome', 'X.Chr','chr', 'chromosome_name','seqid'],start_field='start', end_field=['end', 'stop'], strand_field='strand',starts_in_df_are_0based=False)"
   ]
  },
  {
   "cell_type": "code",
   "execution_count": 35,
   "metadata": {},
   "outputs": [
    {
     "name": "stdout",
     "output_type": "stream",
     "text": [
      "GRanges object with 1000 ranges and 0 metadata columns:\n",
      "         seqnames            ranges strand\n",
      "            <Rle>         <IRanges>  <Rle>\n",
      "     [1]     chr1   4019588-4027467      *\n",
      "     [2]     chr1   7842161-7848599      *\n",
      "     [3]     chr1 11043010-11048806      *\n",
      "     [4]     chr1 11898610-11901557      *\n",
      "     [5]     chr1 12428038-12437382      *\n",
      "     ...      ...               ...    ...\n",
      "   [996]     chrY 46810671-46817467      *\n",
      "   [997]     chrY 48947701-48954502      *\n",
      "   [998]     chrY 52129635-52132878      *\n",
      "   [999]     chrY 55147206-55149155      *\n",
      "  [1000]     chrY 57402986-57407067      *\n",
      "  -------\n",
      "  seqinfo: 26 sequences from an unspecified genome; no seqlengths\n",
      "\n"
     ]
    }
   ],
   "source": [
    "print(gr)"
   ]
  },
  {
   "cell_type": "code",
   "execution_count": 76,
   "metadata": {},
   "outputs": [
    {
     "name": "stderr",
     "output_type": "stream",
     "text": [
      "R[write to console]: The default enrichment tables contain no associated genes for the input\n",
      "regions.You can set `download_by = 'tsv'` to download the complete\n",
      "table,but note only the top 500 regions can be retreived. See the\n",
      "following link:\n",
      "\n",
      "https://great-help.atlassian.net/wiki/spaces/GREAT/pages/655401/Export#Export-GlobalExport\n",
      "\n",
      "R[write to console]: \n",
      "\n"
     ]
    },
    {
     "ename": "RRuntimeError",
     "evalue": "Error in file(file, \"rt\") : cannot open the connection\n",
     "output_type": "error",
     "traceback": [
      "\u001b[0;31m---------------------------------------------------------------------------\u001b[0m",
      "\u001b[0;31mRRuntimeError\u001b[0m                             Traceback (most recent call last)",
      "\u001b[1;32m/home/tom/Stage/greatpy/notebooks/test/12_rGreat_online_vs_local.ipynb Cell 10\u001b[0m in \u001b[0;36m<cell line: 2>\u001b[0;34m()\u001b[0m\n\u001b[1;32m      <a href='vscode-notebook-cell://wsl%2Bubuntu/home/tom/Stage/greatpy/notebooks/test/12_rGreat_online_vs_local.ipynb#ch0000007vscode-remote?line=0'>1</a>\u001b[0m res_online \u001b[39m=\u001b[39m rpy2\u001b[39m.\u001b[39mrobjects\u001b[39m.\u001b[39mr[\u001b[39m'\u001b[39m\u001b[39msubmitGreatJob\u001b[39m\u001b[39m'\u001b[39m](\u001b[39m\"\u001b[39m\u001b[39m../../data/tests/test_data/input/01_random.bed\u001b[39m\u001b[39m\"\u001b[39m,species\u001b[39m=\u001b[39m\u001b[39m\"\u001b[39m\u001b[39mhg38\u001b[39m\u001b[39m\"\u001b[39m,help\u001b[39m=\u001b[39m\u001b[39mFalse\u001b[39;00m)\n\u001b[0;32m----> <a href='vscode-notebook-cell://wsl%2Bubuntu/home/tom/Stage/greatpy/notebooks/test/12_rGreat_online_vs_local.ipynb#ch0000007vscode-remote?line=1'>2</a>\u001b[0m res_online \u001b[39m=\u001b[39m rpy2\u001b[39m.\u001b[39;49mrobjects\u001b[39m.\u001b[39;49mr[\u001b[39m'\u001b[39;49m\u001b[39mgetEnrichmentTables\u001b[39;49m\u001b[39m'\u001b[39;49m](res_online)\n",
      "File \u001b[0;32m~/.local/lib/python3.8/site-packages/rpy2/robjects/functions.py:202\u001b[0m, in \u001b[0;36mSignatureTranslatedFunction.__call__\u001b[0;34m(self, *args, **kwargs)\u001b[0m\n\u001b[1;32m    200\u001b[0m         v \u001b[39m=\u001b[39m kwargs\u001b[39m.\u001b[39mpop(k)\n\u001b[1;32m    201\u001b[0m         kwargs[r_k] \u001b[39m=\u001b[39m v\n\u001b[0;32m--> 202\u001b[0m \u001b[39mreturn\u001b[39;00m (\u001b[39msuper\u001b[39;49m(SignatureTranslatedFunction, \u001b[39mself\u001b[39;49m)\n\u001b[1;32m    203\u001b[0m         \u001b[39m.\u001b[39;49m\u001b[39m__call__\u001b[39;49m(\u001b[39m*\u001b[39;49margs, \u001b[39m*\u001b[39;49m\u001b[39m*\u001b[39;49mkwargs))\n",
      "File \u001b[0;32m~/.local/lib/python3.8/site-packages/rpy2/robjects/functions.py:125\u001b[0m, in \u001b[0;36mFunction.__call__\u001b[0;34m(self, *args, **kwargs)\u001b[0m\n\u001b[1;32m    123\u001b[0m     \u001b[39melse\u001b[39;00m:\n\u001b[1;32m    124\u001b[0m         new_kwargs[k] \u001b[39m=\u001b[39m cv\u001b[39m.\u001b[39mpy2rpy(v)\n\u001b[0;32m--> 125\u001b[0m res \u001b[39m=\u001b[39m \u001b[39msuper\u001b[39;49m(Function, \u001b[39mself\u001b[39;49m)\u001b[39m.\u001b[39;49m\u001b[39m__call__\u001b[39;49m(\u001b[39m*\u001b[39;49mnew_args, \u001b[39m*\u001b[39;49m\u001b[39m*\u001b[39;49mnew_kwargs)\n\u001b[1;32m    126\u001b[0m res \u001b[39m=\u001b[39m cv\u001b[39m.\u001b[39mrpy2py(res)\n\u001b[1;32m    127\u001b[0m \u001b[39mreturn\u001b[39;00m res\n",
      "File \u001b[0;32m~/.local/lib/python3.8/site-packages/rpy2/rinterface_lib/conversion.py:45\u001b[0m, in \u001b[0;36m_cdata_res_to_rinterface.<locals>._\u001b[0;34m(*args, **kwargs)\u001b[0m\n\u001b[1;32m     44\u001b[0m \u001b[39mdef\u001b[39;00m \u001b[39m_\u001b[39m(\u001b[39m*\u001b[39margs, \u001b[39m*\u001b[39m\u001b[39m*\u001b[39mkwargs):\n\u001b[0;32m---> 45\u001b[0m     cdata \u001b[39m=\u001b[39m function(\u001b[39m*\u001b[39;49margs, \u001b[39m*\u001b[39;49m\u001b[39m*\u001b[39;49mkwargs)\n\u001b[1;32m     46\u001b[0m     \u001b[39m# TODO: test cdata is of the expected CType\u001b[39;00m\n\u001b[1;32m     47\u001b[0m     \u001b[39mreturn\u001b[39;00m _cdata_to_rinterface(cdata)\n",
      "File \u001b[0;32m~/.local/lib/python3.8/site-packages/rpy2/rinterface.py:813\u001b[0m, in \u001b[0;36mSexpClosure.__call__\u001b[0;34m(self, *args, **kwargs)\u001b[0m\n\u001b[1;32m    806\u001b[0m     res \u001b[39m=\u001b[39m rmemory\u001b[39m.\u001b[39mprotect(\n\u001b[1;32m    807\u001b[0m         openrlib\u001b[39m.\u001b[39mrlib\u001b[39m.\u001b[39mR_tryEval(\n\u001b[1;32m    808\u001b[0m             call_r,\n\u001b[1;32m    809\u001b[0m             call_context\u001b[39m.\u001b[39m__sexp__\u001b[39m.\u001b[39m_cdata,\n\u001b[1;32m    810\u001b[0m             error_occured)\n\u001b[1;32m    811\u001b[0m     )\n\u001b[1;32m    812\u001b[0m     \u001b[39mif\u001b[39;00m error_occured[\u001b[39m0\u001b[39m]:\n\u001b[0;32m--> 813\u001b[0m         \u001b[39mraise\u001b[39;00m embedded\u001b[39m.\u001b[39mRRuntimeError(_rinterface\u001b[39m.\u001b[39m_geterrmessage())\n\u001b[1;32m    814\u001b[0m \u001b[39mreturn\u001b[39;00m res\n",
      "\u001b[0;31mRRuntimeError\u001b[0m: Error in file(file, \"rt\") : cannot open the connection\n"
     ]
    }
   ],
   "source": [
    "res_online = rpy2.robjects.r['submitGreatJob'](\"../../data/tests/test_data/input/01_random.bed\",species=\"hg38\",help=False)\n",
    "res_online = rpy2.robjects.r['getEnrichmentTables'](res_online)"
   ]
  },
  {
   "cell_type": "code",
   "execution_count": 61,
   "metadata": {},
   "outputs": [
    {
     "name": "stderr",
     "output_type": "stream",
     "text": [
      "R[write to console]: * extended_tss is already cached, directly use it.\n",
      "\n"
     ]
    }
   ],
   "source": [
    "gr = rpy2.robjects.r[\"randomRegions\"](genome = \"hg38\")\n",
    "test = rpy2.robjects.r[\"great\"](gr, \"MSigDB:H\", \"txdb:hg38\",verbose=False)"
   ]
  },
  {
   "cell_type": "code",
   "execution_count": 59,
   "metadata": {},
   "outputs": [
    {
     "data": {
      "text/plain": [
       "<rpy2.rinterface_lib.sexp.NULLType object at 0x7fe1f0219640> [RTYPES.NILSXP]"
      ]
     },
     "execution_count": 59,
     "metadata": {},
     "output_type": "execute_result"
    }
   ],
   "source": [
    "test.names"
   ]
  },
  {
   "cell_type": "code",
   "execution_count": 79,
   "metadata": {},
   "outputs": [
    {
     "name": "stderr",
     "output_type": "stream",
     "text": [
      "R[write to console]: * extended_tss is already cached, directly use it.\n",
      "\n"
     ]
    }
   ],
   "source": [
    "res_local = rpy2.robjects.r['great'](df, \"msigdb:C5\", \"txdb:hg38\",verbose=False)\n",
    "res_local = rpy2.robjects.r['getEnrichmentTables'](res_local)"
   ]
  },
  {
   "cell_type": "code",
   "execution_count": 84,
   "metadata": {},
   "outputs": [
    {
     "data": {
      "text/plain": [
       "'retrograde vesicle mediated transport golgi to endoplasmic reticulum'"
      ]
     },
     "execution_count": 84,
     "metadata": {},
     "output_type": "execute_result"
    }
   ],
   "source": [
    "\" \".join(\"GOBP_RETROGRADE_VESICLE_MEDIATED_TRANSPORT_GOLGI_TO_ENDOPLASMIC_RETICULUM\".lower().split(\"_\")[1:])"
   ]
  },
  {
   "cell_type": "code",
   "execution_count": 85,
   "metadata": {},
   "outputs": [
    {
     "data": {
      "text/html": [
       "<div>\n",
       "<style scoped>\n",
       "    .dataframe tbody tr th:only-of-type {\n",
       "        vertical-align: middle;\n",
       "    }\n",
       "\n",
       "    .dataframe tbody tr th {\n",
       "        vertical-align: top;\n",
       "    }\n",
       "\n",
       "    .dataframe thead th {\n",
       "        text-align: right;\n",
       "    }\n",
       "</style>\n",
       "<table border=\"1\" class=\"dataframe\">\n",
       "  <thead>\n",
       "    <tr style=\"text-align: right;\">\n",
       "      <th></th>\n",
       "      <th>name</th>\n",
       "      <th>binom_p_val</th>\n",
       "      <th>hypergeom_p_val</th>\n",
       "    </tr>\n",
       "  </thead>\n",
       "  <tbody>\n",
       "    <tr>\n",
       "      <th>0</th>\n",
       "      <td>retrograde vesicle mediated transport golgi to...</td>\n",
       "      <td>1.776357e-15</td>\n",
       "      <td>0.011076</td>\n",
       "    </tr>\n",
       "    <tr>\n",
       "      <th>1</th>\n",
       "      <td>regulation of deoxyribonuclease activity</td>\n",
       "      <td>2.453593e-13</td>\n",
       "      <td>0.000441</td>\n",
       "    </tr>\n",
       "    <tr>\n",
       "      <th>2</th>\n",
       "      <td>cis golgi network</td>\n",
       "      <td>4.408141e-12</td>\n",
       "      <td>0.000001</td>\n",
       "    </tr>\n",
       "    <tr>\n",
       "      <th>3</th>\n",
       "      <td>golgi vesicle transport</td>\n",
       "      <td>6.894041e-12</td>\n",
       "      <td>0.011977</td>\n",
       "    </tr>\n",
       "    <tr>\n",
       "      <th>4</th>\n",
       "      <td>regulation of nuclease activity</td>\n",
       "      <td>2.545886e-11</td>\n",
       "      <td>0.001826</td>\n",
       "    </tr>\n",
       "    <tr>\n",
       "      <th>...</th>\n",
       "      <td>...</td>\n",
       "      <td>...</td>\n",
       "      <td>...</td>\n",
       "    </tr>\n",
       "    <tr>\n",
       "      <th>572</th>\n",
       "      <td>negative regulation of response to stimulus</td>\n",
       "      <td>9.932918e-01</td>\n",
       "      <td>0.952320</td>\n",
       "    </tr>\n",
       "    <tr>\n",
       "      <th>573</th>\n",
       "      <td>neuron projection</td>\n",
       "      <td>9.943098e-01</td>\n",
       "      <td>0.920691</td>\n",
       "    </tr>\n",
       "    <tr>\n",
       "      <th>574</th>\n",
       "      <td>regulation of intracellular signal transduction</td>\n",
       "      <td>9.949570e-01</td>\n",
       "      <td>0.886667</td>\n",
       "    </tr>\n",
       "    <tr>\n",
       "      <th>575</th>\n",
       "      <td>tissue development</td>\n",
       "      <td>9.977504e-01</td>\n",
       "      <td>0.981626</td>\n",
       "    </tr>\n",
       "    <tr>\n",
       "      <th>576</th>\n",
       "      <td>intrinsic component of plasma membrane</td>\n",
       "      <td>9.991725e-01</td>\n",
       "      <td>0.900706</td>\n",
       "    </tr>\n",
       "  </tbody>\n",
       "</table>\n",
       "<p>577 rows × 3 columns</p>\n",
       "</div>"
      ],
      "text/plain": [
       "                                                  name   binom_p_val  \\\n",
       "0    retrograde vesicle mediated transport golgi to...  1.776357e-15   \n",
       "1             regulation of deoxyribonuclease activity  2.453593e-13   \n",
       "2                                    cis golgi network  4.408141e-12   \n",
       "3                              golgi vesicle transport  6.894041e-12   \n",
       "4                      regulation of nuclease activity  2.545886e-11   \n",
       "..                                                 ...           ...   \n",
       "572        negative regulation of response to stimulus  9.932918e-01   \n",
       "573                                  neuron projection  9.943098e-01   \n",
       "574    regulation of intracellular signal transduction  9.949570e-01   \n",
       "575                                 tissue development  9.977504e-01   \n",
       "576             intrinsic component of plasma membrane  9.991725e-01   \n",
       "\n",
       "     hypergeom_p_val  \n",
       "0           0.011076  \n",
       "1           0.000441  \n",
       "2           0.000001  \n",
       "3           0.011977  \n",
       "4           0.001826  \n",
       "..               ...  \n",
       "572         0.952320  \n",
       "573         0.920691  \n",
       "574         0.886667  \n",
       "575         0.981626  \n",
       "576         0.900706  \n",
       "\n",
       "[577 rows x 3 columns]"
      ]
     },
     "execution_count": 85,
     "metadata": {},
     "output_type": "execute_result"
    }
   ],
   "source": [
    "# print(res_local.names)\n",
    "# print(res_local.rx2(\"id\"))\n",
    "# print(res_local.rx2(\"p_value\"))\n",
    "\n",
    "name = list(res_local.rx2(\"id\")) \n",
    "name = [\" \".join(cdc.lower().split(\"_\")[1:]) for cdc in list(res_local.rx2(\"id\"))]\n",
    "\n",
    "pd.DataFrame({\n",
    "    \"name\": name,\n",
    "    \"binom_p_val\" : list(res_local.rx2(\"p_value\")),\n",
    "    \"hypergeom_p_val\" : list(res_local.rx2(\"p_value_hyper\"))\n",
    "    })"
   ]
  },
  {
   "cell_type": "code",
   "execution_count": 30,
   "metadata": {},
   "outputs": [
    {
     "name": "stdout",
     "output_type": "stream",
     "text": [
      " [1] \"ID\"                         \"name\"                      \n",
      " [3] \"Binom_Genome_Fraction\"      \"Binom_Expected\"            \n",
      " [5] \"Binom_Observed_Region_Hits\" \"Binom_Fold_Enrichment\"     \n",
      " [7] \"Binom_Region_Set_Coverage\"  \"Binom_Raw_PValue\"          \n",
      " [9] \"Binom_Adjp_BH\"              \"Hyper_Total_Genes\"         \n",
      "[11] \"Hyper_Expected\"             \"Hyper_Observed_Gene_Hits\"  \n",
      "[13] \"Hyper_Fold_Enrichment\"      \"Hyper_Gene_Set_Coverage\"   \n",
      "[15] \"Hyper_Term_Gene_Coverage\"   \"Hyper_Raw_PValue\"          \n",
      "[17] \"Hyper_Adjp_BH\"             \n",
      "\n"
     ]
    }
   ],
   "source": [
    "print(res_online.rx2(\"GO Molecular Function\").colnames)"
   ]
  },
  {
   "cell_type": "code",
   "execution_count": 75,
   "metadata": {},
   "outputs": [
    {
     "data": {
      "text/html": [
       "<div>\n",
       "<style scoped>\n",
       "    .dataframe tbody tr th:only-of-type {\n",
       "        vertical-align: middle;\n",
       "    }\n",
       "\n",
       "    .dataframe tbody tr th {\n",
       "        vertical-align: top;\n",
       "    }\n",
       "\n",
       "    .dataframe thead th {\n",
       "        text-align: right;\n",
       "    }\n",
       "</style>\n",
       "<table border=\"1\" class=\"dataframe\">\n",
       "  <thead>\n",
       "    <tr style=\"text-align: right;\">\n",
       "      <th></th>\n",
       "      <th>id</th>\n",
       "      <th>term</th>\n",
       "      <th>binom_p_val</th>\n",
       "      <th>hyper_p_val</th>\n",
       "    </tr>\n",
       "  </thead>\n",
       "  <tbody>\n",
       "    <tr>\n",
       "      <th>4222</th>\n",
       "      <td>GO:0071103</td>\n",
       "      <td>DNA conformation change</td>\n",
       "      <td>2.523846e-15</td>\n",
       "      <td>0.009131</td>\n",
       "    </tr>\n",
       "    <tr>\n",
       "      <th>4223</th>\n",
       "      <td>GO:0010556</td>\n",
       "      <td>regulation of macromolecule biosynthetic process</td>\n",
       "      <td>6.080676e-14</td>\n",
       "      <td>0.000297</td>\n",
       "    </tr>\n",
       "    <tr>\n",
       "      <th>4224</th>\n",
       "      <td>GO:0006029</td>\n",
       "      <td>proteoglycan metabolic process</td>\n",
       "      <td>3.328065e-13</td>\n",
       "      <td>0.000003</td>\n",
       "    </tr>\n",
       "    <tr>\n",
       "      <th>4225</th>\n",
       "      <td>GO:0051276</td>\n",
       "      <td>chromosome organization</td>\n",
       "      <td>3.541375e-13</td>\n",
       "      <td>0.025078</td>\n",
       "    </tr>\n",
       "    <tr>\n",
       "      <th>4226</th>\n",
       "      <td>GO:0031326</td>\n",
       "      <td>regulation of cellular biosynthetic process</td>\n",
       "      <td>5.049125e-13</td>\n",
       "      <td>0.000339</td>\n",
       "    </tr>\n",
       "    <tr>\n",
       "      <th>...</th>\n",
       "      <td>...</td>\n",
       "      <td>...</td>\n",
       "      <td>...</td>\n",
       "      <td>...</td>\n",
       "    </tr>\n",
       "    <tr>\n",
       "      <th>9408</th>\n",
       "      <td>GO:0009128</td>\n",
       "      <td>purine nucleoside monophosphate catabolic process</td>\n",
       "      <td>1.000000e+00</td>\n",
       "      <td>1.000000</td>\n",
       "    </tr>\n",
       "    <tr>\n",
       "      <th>9409</th>\n",
       "      <td>GO:0009129</td>\n",
       "      <td>pyrimidine nucleoside monophosphate metabolic ...</td>\n",
       "      <td>1.000000e+00</td>\n",
       "      <td>1.000000</td>\n",
       "    </tr>\n",
       "    <tr>\n",
       "      <th>9410</th>\n",
       "      <td>GO:0009130</td>\n",
       "      <td>pyrimidine nucleoside monophosphate biosynthet...</td>\n",
       "      <td>1.000000e+00</td>\n",
       "      <td>1.000000</td>\n",
       "    </tr>\n",
       "    <tr>\n",
       "      <th>9384</th>\n",
       "      <td>GO:0008637</td>\n",
       "      <td>apoptotic mitochondrial changes</td>\n",
       "      <td>1.000000e+00</td>\n",
       "      <td>1.000000</td>\n",
       "    </tr>\n",
       "    <tr>\n",
       "      <th>19108</th>\n",
       "      <td>GO:1990971</td>\n",
       "      <td>EMILIN complex</td>\n",
       "      <td>1.000000e+00</td>\n",
       "      <td>1.000000</td>\n",
       "    </tr>\n",
       "  </tbody>\n",
       "</table>\n",
       "<p>19109 rows × 4 columns</p>\n",
       "</div>"
      ],
      "text/plain": [
       "               id                                               term  \\\n",
       "4222   GO:0071103                            DNA conformation change   \n",
       "4223   GO:0010556   regulation of macromolecule biosynthetic process   \n",
       "4224   GO:0006029                     proteoglycan metabolic process   \n",
       "4225   GO:0051276                            chromosome organization   \n",
       "4226   GO:0031326        regulation of cellular biosynthetic process   \n",
       "...           ...                                                ...   \n",
       "9408   GO:0009128  purine nucleoside monophosphate catabolic process   \n",
       "9409   GO:0009129  pyrimidine nucleoside monophosphate metabolic ...   \n",
       "9410   GO:0009130  pyrimidine nucleoside monophosphate biosynthet...   \n",
       "9384   GO:0008637                    apoptotic mitochondrial changes   \n",
       "19108  GO:1990971                                     EMILIN complex   \n",
       "\n",
       "        binom_p_val  hyper_p_val  \n",
       "4222   2.523846e-15     0.009131  \n",
       "4223   6.080676e-14     0.000297  \n",
       "4224   3.328065e-13     0.000003  \n",
       "4225   3.541375e-13     0.025078  \n",
       "4226   5.049125e-13     0.000339  \n",
       "...             ...          ...  \n",
       "9408   1.000000e+00     1.000000  \n",
       "9409   1.000000e+00     1.000000  \n",
       "9410   1.000000e+00     1.000000  \n",
       "9384   1.000000e+00     1.000000  \n",
       "19108  1.000000e+00     1.000000  \n",
       "\n",
       "[19109 rows x 4 columns]"
      ]
     },
     "execution_count": 75,
     "metadata": {},
     "output_type": "execute_result"
    }
   ],
   "source": [
    "name = list(res_online.rx2(\"GO Molecular Function\").rx2(\"name\"))+list(res_online.rx2(\"GO Biological Process\").rx2(\"name\"))+list(res_online.rx2(\"GO Cellular Component\").rx2(\"name\"))\n",
    "online = pd.DataFrame({\n",
    "    \"id\":list(res_online.rx2(\"GO Molecular Function\").rx2(\"ID\"))+list(res_online.rx2(\"GO Biological Process\").rx2(\"ID\"))+list(res_online.rx2(\"GO Cellular Component\").rx2(\"ID\")),\n",
    "    \"term\":list(res_online.rx2(\"GO Molecular Function\").rx2(\"name\"))+list(res_online.rx2(\"GO Biological Process\").rx2(\"name\"))+list(res_online.rx2(\"GO Cellular Component\").rx2(\"name\")),\n",
    "    \"binom_p_val\" : list(res_online.rx2(\"GO Molecular Function\").rx2(\"Binom_Raw_PValue\"))+list(res_online.rx2(\"GO Biological Process\").rx2(\"Binom_Raw_PValue\"))+list(res_online.rx2(\"GO Cellular Component\").rx2(\"Binom_Raw_PValue\")),\n",
    "    \"hyper_p_val\":list(res_online.rx2(\"GO Molecular Function\").rx2(\"Hyper_Raw_PValue\"))+list(res_online.rx2(\"GO Biological Process\").rx2(\"Hyper_Raw_PValue\"))+list(res_online.rx2(\"GO Cellular Component\").rx2(\"Hyper_Raw_PValue\"))\n",
    "    })\n",
    "online.sort_values(by=[\"binom_p_val\"])"
   ]
  }
 ],
 "metadata": {
  "kernelspec": {
   "display_name": "Python 3.8.13 ('gpy')",
   "language": "python",
   "name": "python3"
  },
  "language_info": {
   "codemirror_mode": {
    "name": "ipython",
    "version": 3
   },
   "file_extension": ".py",
   "mimetype": "text/x-python",
   "name": "python",
   "nbconvert_exporter": "python",
   "pygments_lexer": "ipython3",
   "version": "3.8.13"
  },
  "orig_nbformat": 4,
  "vscode": {
   "interpreter": {
    "hash": "610c73e5f1997caa668091b43a573fbafba1e2b96e55fbc05d56c58d21b90949"
   }
  }
 },
 "nbformat": 4,
 "nbformat_minor": 2
}
