{
 "cells": [
  {
   "cell_type": "markdown",
   "metadata": {},
   "source": [
    "# rGreat online vs local "
   ]
  },
  {
   "cell_type": "markdown",
   "metadata": {},
   "source": [
    "This notebook allows you to compare results between local and online rGreat. "
   ]
  },
  {
   "cell_type": "markdown",
   "metadata": {},
   "source": [
    "r-base == 3.6.1\n",
    "\n",
    "r-base required for rGreat is 3.6.0"
   ]
  },
  {
   "cell_type": "code",
   "execution_count": 1,
   "metadata": {},
   "outputs": [],
   "source": [
    "%load_ext autoreload\n",
    "%autoreload 2"
   ]
  },
  {
   "cell_type": "code",
   "execution_count": 2,
   "metadata": {},
   "outputs": [],
   "source": [
    "import rpy2\n",
    "from rpy2.robjects.packages import importr\n",
    "from rpy2.robjects import pandas2ri\n",
    "pandas2ri.activate()\n",
    "import pandas as pd"
   ]
  },
  {
   "cell_type": "code",
   "execution_count": 3,
   "metadata": {},
   "outputs": [
    {
     "data": {
      "text/plain": [
       "'3.5.2'"
      ]
     },
     "execution_count": 3,
     "metadata": {},
     "output_type": "execute_result"
    }
   ],
   "source": [
    "rpy2.__version__"
   ]
  },
  {
   "cell_type": "code",
   "execution_count": 11,
   "metadata": {},
   "outputs": [
    {
     "data": {
      "text/plain": [
       "rpy2.robjects.packages.Package as a <module 'rGREAT'>"
      ]
     },
     "execution_count": 11,
     "metadata": {},
     "output_type": "execute_result"
    }
   ],
   "source": [
    "importr('rGREAT')"
   ]
  },
  {
   "cell_type": "code",
   "execution_count": 12,
   "metadata": {},
   "outputs": [
    {
     "name": "stderr",
     "output_type": "stream",
     "text": [
      "R[write to console]: Note: On Aug 19 2019 GREAT released version 4 which supports hg38\n",
      "genome and removes some ontologies such pathways. submitGreatJob()\n",
      "still takes hg19 as default. hg38 can be specified by argument `species\n",
      "= \"hg38\"`. To use the older versions such as 3.0.0, specify as\n",
      "submitGreatJob(..., version = \"3\"). Set argument `help` to `FALSE` to\n",
      "turn off this message.\n",
      "\n",
      "R[write to console]: The default enrichment tables contain no associated genes for the input\n",
      "regions. You can set `download_by = 'tsv'` to download the complete\n",
      "table, but note only the top 500 regions can be retreived. See the\n",
      "following link:\n",
      "\n",
      "https://great-help.atlassian.net/wiki/spaces/GREAT/pages/655401/Export#Export-GlobalExport\n",
      "\n"
     ]
    }
   ],
   "source": [
    "res_online = rpy2.robjects.r['submitGreatJob'](\"../../data/tests/test_data/input/07_height_snps_hg19.bed\")\n",
    "res_online = rpy2.robjects.r['getEnrichmentTables'](res_online)"
   ]
  },
  {
   "cell_type": "code",
   "execution_count": 34,
   "metadata": {},
   "outputs": [
    {
     "ename": "KeyError",
     "evalue": "\"'great' not found\"",
     "output_type": "error",
     "traceback": [
      "\u001b[0;31m---------------------------------------------------------------------------\u001b[0m",
      "\u001b[0;31mKeyError\u001b[0m                                  Traceback (most recent call last)",
      "\u001b[1;32m/home/tom/Stage/greatpy/notebooks/test/12_rGreat_online_vs_local.ipynb Cell 9\u001b[0m in \u001b[0;36m<cell line: 1>\u001b[0;34m()\u001b[0m\n\u001b[0;32m----> <a href='vscode-notebook-cell://wsl%2Bubuntu/home/tom/Stage/greatpy/notebooks/test/12_rGreat_online_vs_local.ipynb#ch0000015vscode-remote?line=0'>1</a>\u001b[0m res_local \u001b[39m=\u001b[39m rpy2\u001b[39m.\u001b[39;49mrobjects\u001b[39m.\u001b[39;49mr[\u001b[39m'\u001b[39;49m\u001b[39mgreat\u001b[39;49m\u001b[39m'\u001b[39;49m](\u001b[39m\"\u001b[39m\u001b[39m../../data/tests/test_data/input/07_height_snps_hg19.bed\u001b[39m\u001b[39m\"\u001b[39m, \u001b[39m\"\u001b[39m\u001b[39mMSigDB:H\u001b[39m\u001b[39m\"\u001b[39m, \u001b[39m\"\u001b[39m\u001b[39mTxDb.Hsapiens.UCSC.hg19.knownGene\u001b[39m\u001b[39m\"\u001b[39m)\n\u001b[1;32m      <a href='vscode-notebook-cell://wsl%2Bubuntu/home/tom/Stage/greatpy/notebooks/test/12_rGreat_online_vs_local.ipynb#ch0000015vscode-remote?line=1'>2</a>\u001b[0m res_local \u001b[39m=\u001b[39m rpy2\u001b[39m.\u001b[39mrobjects\u001b[39m.\u001b[39mr[\u001b[39m'\u001b[39m\u001b[39mgetEnrichmentTables\u001b[39m\u001b[39m'\u001b[39m](res_local)\n",
      "File \u001b[0;32m~/.local/lib/python3.8/site-packages/rpy2/robjects/__init__.py:439\u001b[0m, in \u001b[0;36mR.__getitem__\u001b[0;34m(self, item)\u001b[0m\n\u001b[1;32m    438\u001b[0m \u001b[39mdef\u001b[39;00m \u001b[39m__getitem__\u001b[39m(\u001b[39mself\u001b[39m, item):\n\u001b[0;32m--> 439\u001b[0m     res \u001b[39m=\u001b[39m _globalenv\u001b[39m.\u001b[39;49mfind(item)\n\u001b[1;32m    440\u001b[0m     res \u001b[39m=\u001b[39m conversion\u001b[39m.\u001b[39mget_conversion()\u001b[39m.\u001b[39mrpy2py(res)\n\u001b[1;32m    441\u001b[0m     \u001b[39mif\u001b[39;00m \u001b[39mhasattr\u001b[39m(res, \u001b[39m'\u001b[39m\u001b[39m__rname__\u001b[39m\u001b[39m'\u001b[39m):\n",
      "File \u001b[0;32m~/.local/lib/python3.8/site-packages/rpy2/rinterface_lib/conversion.py:45\u001b[0m, in \u001b[0;36m_cdata_res_to_rinterface.<locals>._\u001b[0;34m(*args, **kwargs)\u001b[0m\n\u001b[1;32m     44\u001b[0m \u001b[39mdef\u001b[39;00m \u001b[39m_\u001b[39m(\u001b[39m*\u001b[39margs, \u001b[39m*\u001b[39m\u001b[39m*\u001b[39mkwargs):\n\u001b[0;32m---> 45\u001b[0m     cdata \u001b[39m=\u001b[39m function(\u001b[39m*\u001b[39;49margs, \u001b[39m*\u001b[39;49m\u001b[39m*\u001b[39;49mkwargs)\n\u001b[1;32m     46\u001b[0m     \u001b[39m# TODO: test cdata is of the expected CType\u001b[39;00m\n\u001b[1;32m     47\u001b[0m     \u001b[39mreturn\u001b[39;00m _cdata_to_rinterface(cdata)\n",
      "File \u001b[0;32m~/.local/lib/python3.8/site-packages/rpy2/rinterface_lib/_rinterface_capi.py:333\u001b[0m, in \u001b[0;36m_evaluated_promise.<locals>._\u001b[0;34m(*args, **kwargs)\u001b[0m\n\u001b[1;32m    332\u001b[0m \u001b[39mdef\u001b[39;00m \u001b[39m_\u001b[39m(\u001b[39m*\u001b[39margs, \u001b[39m*\u001b[39m\u001b[39m*\u001b[39mkwargs):\n\u001b[0;32m--> 333\u001b[0m     robj \u001b[39m=\u001b[39m function(\u001b[39m*\u001b[39;49margs, \u001b[39m*\u001b[39;49m\u001b[39m*\u001b[39;49mkwargs)\n\u001b[1;32m    334\u001b[0m     \u001b[39mif\u001b[39;00m _TYPEOF(robj) \u001b[39m==\u001b[39m openrlib\u001b[39m.\u001b[39mrlib\u001b[39m.\u001b[39mPROMSXP:\n\u001b[1;32m    335\u001b[0m         robj \u001b[39m=\u001b[39m openrlib\u001b[39m.\u001b[39mrlib\u001b[39m.\u001b[39mRf_eval(\n\u001b[1;32m    336\u001b[0m             robj,\n\u001b[1;32m    337\u001b[0m             openrlib\u001b[39m.\u001b[39mrlib\u001b[39m.\u001b[39mR_GlobalEnv)\n",
      "File \u001b[0;32m~/.local/lib/python3.8/site-packages/rpy2/rinterface_lib/sexp.py:357\u001b[0m, in \u001b[0;36mSexpEnvironment.find\u001b[0;34m(self, key, wantfun)\u001b[0m\n\u001b[1;32m    355\u001b[0m \u001b[39m# TODO: move check of R_UnboundValue to _rinterface ?\u001b[39;00m\n\u001b[1;32m    356\u001b[0m \u001b[39mif\u001b[39;00m res \u001b[39m==\u001b[39m openrlib\u001b[39m.\u001b[39mrlib\u001b[39m.\u001b[39mR_UnboundValue:\n\u001b[0;32m--> 357\u001b[0m     \u001b[39mraise\u001b[39;00m \u001b[39mKeyError\u001b[39;00m(\u001b[39m\"\u001b[39m\u001b[39m'\u001b[39m\u001b[39m%s\u001b[39;00m\u001b[39m'\u001b[39m\u001b[39m not found\u001b[39m\u001b[39m\"\u001b[39m \u001b[39m%\u001b[39m key)\n\u001b[1;32m    358\u001b[0m \u001b[39mreturn\u001b[39;00m res\n",
      "\u001b[0;31mKeyError\u001b[0m: \"'great' not found\""
     ]
    }
   ],
   "source": [
    "res_local = rpy2.robjects.r['great'](\"../../data/tests/test_data/input/07_height_snps_hg19.bed\", \"MSigDB:H\", \"TxDb.Hsapiens.UCSC.hg19.knownGene\")\n",
    "res_local = rpy2.robjects.r['getEnrichmentTables'](res_local)"
   ]
  },
  {
   "cell_type": "code",
   "execution_count": 32,
   "metadata": {},
   "outputs": [
    {
     "name": "stdout",
     "output_type": "stream",
     "text": [
      "[1] \"GO Molecular Function\" \"GO Biological Process\" \"GO Cellular Component\"\n",
      "\n"
     ]
    }
   ],
   "source": [
    "print(res_online.names)"
   ]
  },
  {
   "cell_type": "code",
   "execution_count": 30,
   "metadata": {},
   "outputs": [
    {
     "name": "stdout",
     "output_type": "stream",
     "text": [
      " [1] \"ID\"                         \"name\"                      \n",
      " [3] \"Binom_Genome_Fraction\"      \"Binom_Expected\"            \n",
      " [5] \"Binom_Observed_Region_Hits\" \"Binom_Fold_Enrichment\"     \n",
      " [7] \"Binom_Region_Set_Coverage\"  \"Binom_Raw_PValue\"          \n",
      " [9] \"Binom_Adjp_BH\"              \"Hyper_Total_Genes\"         \n",
      "[11] \"Hyper_Expected\"             \"Hyper_Observed_Gene_Hits\"  \n",
      "[13] \"Hyper_Fold_Enrichment\"      \"Hyper_Gene_Set_Coverage\"   \n",
      "[15] \"Hyper_Term_Gene_Coverage\"   \"Hyper_Raw_PValue\"          \n",
      "[17] \"Hyper_Adjp_BH\"             \n",
      "\n"
     ]
    }
   ],
   "source": [
    "print(res_online.rx2(\"GO Molecular Function\").colnames)"
   ]
  },
  {
   "cell_type": "code",
   "execution_count": 33,
   "metadata": {},
   "outputs": [
    {
     "data": {
      "text/html": [
       "<div>\n",
       "<style scoped>\n",
       "    .dataframe tbody tr th:only-of-type {\n",
       "        vertical-align: middle;\n",
       "    }\n",
       "\n",
       "    .dataframe tbody tr th {\n",
       "        vertical-align: top;\n",
       "    }\n",
       "\n",
       "    .dataframe thead th {\n",
       "        text-align: right;\n",
       "    }\n",
       "</style>\n",
       "<table border=\"1\" class=\"dataframe\">\n",
       "  <thead>\n",
       "    <tr style=\"text-align: right;\">\n",
       "      <th></th>\n",
       "      <th>id</th>\n",
       "      <th>term</th>\n",
       "      <th>binom_p_val</th>\n",
       "      <th>hyper_p_val</th>\n",
       "    </tr>\n",
       "  </thead>\n",
       "  <tbody>\n",
       "    <tr>\n",
       "      <th>4219</th>\n",
       "      <td>GO:2000772</td>\n",
       "      <td>regulation of cellular senescence</td>\n",
       "      <td>2.873591e-21</td>\n",
       "      <td>0.001120</td>\n",
       "    </tr>\n",
       "    <tr>\n",
       "      <th>4220</th>\n",
       "      <td>GO:0090342</td>\n",
       "      <td>regulation of cell aging</td>\n",
       "      <td>8.617844e-21</td>\n",
       "      <td>0.002480</td>\n",
       "    </tr>\n",
       "    <tr>\n",
       "      <th>4221</th>\n",
       "      <td>GO:0090402</td>\n",
       "      <td>oncogene-induced cell senescence</td>\n",
       "      <td>1.727243e-18</td>\n",
       "      <td>0.000239</td>\n",
       "    </tr>\n",
       "    <tr>\n",
       "      <th>4222</th>\n",
       "      <td>GO:0035986</td>\n",
       "      <td>senescence-associated heterochromatin focus as...</td>\n",
       "      <td>1.203867e-17</td>\n",
       "      <td>0.000708</td>\n",
       "    </tr>\n",
       "    <tr>\n",
       "      <th>17364</th>\n",
       "      <td>GO:0035985</td>\n",
       "      <td>senescence-associated heterochromatin focus</td>\n",
       "      <td>1.203867e-17</td>\n",
       "      <td>0.000708</td>\n",
       "    </tr>\n",
       "    <tr>\n",
       "      <th>...</th>\n",
       "      <td>...</td>\n",
       "      <td>...</td>\n",
       "      <td>...</td>\n",
       "      <td>...</td>\n",
       "    </tr>\n",
       "    <tr>\n",
       "      <th>9349</th>\n",
       "      <td>GO:0008090</td>\n",
       "      <td>retrograde axonal transport</td>\n",
       "      <td>1.000000e+00</td>\n",
       "      <td>1.000000</td>\n",
       "    </tr>\n",
       "    <tr>\n",
       "      <th>9350</th>\n",
       "      <td>GO:0008105</td>\n",
       "      <td>asymmetric protein localization</td>\n",
       "      <td>1.000000e+00</td>\n",
       "      <td>1.000000</td>\n",
       "    </tr>\n",
       "    <tr>\n",
       "      <th>9351</th>\n",
       "      <td>GO:0008156</td>\n",
       "      <td>negative regulation of DNA replication</td>\n",
       "      <td>1.000000e+00</td>\n",
       "      <td>1.000000</td>\n",
       "    </tr>\n",
       "    <tr>\n",
       "      <th>9353</th>\n",
       "      <td>GO:0008207</td>\n",
       "      <td>C21-steroid hormone metabolic process</td>\n",
       "      <td>1.000000e+00</td>\n",
       "      <td>1.000000</td>\n",
       "    </tr>\n",
       "    <tr>\n",
       "      <th>19089</th>\n",
       "      <td>GO:1990971</td>\n",
       "      <td>EMILIN complex</td>\n",
       "      <td>1.000000e+00</td>\n",
       "      <td>1.000000</td>\n",
       "    </tr>\n",
       "  </tbody>\n",
       "</table>\n",
       "<p>19090 rows × 4 columns</p>\n",
       "</div>"
      ],
      "text/plain": [
       "               id                                               term  \\\n",
       "4219   GO:2000772                  regulation of cellular senescence   \n",
       "4220   GO:0090342                           regulation of cell aging   \n",
       "4221   GO:0090402                   oncogene-induced cell senescence   \n",
       "4222   GO:0035986  senescence-associated heterochromatin focus as...   \n",
       "17364  GO:0035985        senescence-associated heterochromatin focus   \n",
       "...           ...                                                ...   \n",
       "9349   GO:0008090                        retrograde axonal transport   \n",
       "9350   GO:0008105                    asymmetric protein localization   \n",
       "9351   GO:0008156             negative regulation of DNA replication   \n",
       "9353   GO:0008207              C21-steroid hormone metabolic process   \n",
       "19089  GO:1990971                                     EMILIN complex   \n",
       "\n",
       "        binom_p_val  hyper_p_val  \n",
       "4219   2.873591e-21     0.001120  \n",
       "4220   8.617844e-21     0.002480  \n",
       "4221   1.727243e-18     0.000239  \n",
       "4222   1.203867e-17     0.000708  \n",
       "17364  1.203867e-17     0.000708  \n",
       "...             ...          ...  \n",
       "9349   1.000000e+00     1.000000  \n",
       "9350   1.000000e+00     1.000000  \n",
       "9351   1.000000e+00     1.000000  \n",
       "9353   1.000000e+00     1.000000  \n",
       "19089  1.000000e+00     1.000000  \n",
       "\n",
       "[19090 rows x 4 columns]"
      ]
     },
     "execution_count": 33,
     "metadata": {},
     "output_type": "execute_result"
    }
   ],
   "source": [
    "online = pd.DataFrame({\n",
    "    \"id\":list(res_online.rx2(\"GO Molecular Function\").rx2(\"ID\"))+list(res_online.rx2(\"GO Biological Process\").rx2(\"ID\"))+list(res_online.rx2(\"GO Cellular Component\").rx2(\"ID\")),\n",
    "    \"term\":list(res_online.rx2(\"GO Molecular Function\").rx2(\"name\"))+list(res_online.rx2(\"GO Biological Process\").rx2(\"name\"))+list(res_online.rx2(\"GO Cellular Component\").rx2(\"name\")),\n",
    "    \"binom_p_val\" : list(res_online.rx2(\"GO Molecular Function\").rx2(\"Binom_Raw_PValue\"))+list(res_online.rx2(\"GO Biological Process\").rx2(\"Binom_Raw_PValue\"))+list(res_online.rx2(\"GO Cellular Component\").rx2(\"Binom_Raw_PValue\")),\n",
    "    \"hyper_p_val\":list(res_online.rx2(\"GO Molecular Function\").rx2(\"Hyper_Raw_PValue\"))+list(res_online.rx2(\"GO Biological Process\").rx2(\"Hyper_Raw_PValue\"))+list(res_online.rx2(\"GO Cellular Component\").rx2(\"Hyper_Raw_PValue\"))\n",
    "    })\n",
    "online.sort_values(by=[\"binom_p_val\"])"
   ]
  },
  {
   "cell_type": "code",
   "execution_count": null,
   "metadata": {},
   "outputs": [],
   "source": []
  }
 ],
 "metadata": {
  "kernelspec": {
   "display_name": "Python 3.8.13 ('gpy')",
   "language": "python",
   "name": "python3"
  },
  "language_info": {
   "codemirror_mode": {
    "name": "ipython",
    "version": 3
   },
   "file_extension": ".py",
   "mimetype": "text/x-python",
   "name": "python",
   "nbconvert_exporter": "python",
   "pygments_lexer": "ipython3",
   "version": "3.8.13"
  },
  "orig_nbformat": 4,
  "vscode": {
   "interpreter": {
    "hash": "610c73e5f1997caa668091b43a573fbafba1e2b96e55fbc05d56c58d21b90949"
   }
  }
 },
 "nbformat": 4,
 "nbformat_minor": 2
}
