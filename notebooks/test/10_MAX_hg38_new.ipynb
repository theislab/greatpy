{
 "cells": [
  {
   "cell_type": "markdown",
   "metadata": {},
   "source": [
    "# Computation of annotation enrichment in a genetic set "
   ]
  },
  {
   "cell_type": "markdown",
   "metadata": {},
   "source": [
    "This code excerpt shows how to use the annotation enrichment computation function in a genetic set.\n",
    "The funciton return a dataframe of binom and hypergeometric p-value (<= 0.05) and for each p-value a fdr correction with alpha = 0.05.   "
   ]
  },
  {
   "cell_type": "markdown",
   "metadata": {},
   "source": [
    "In the second part of the code we will compare the results obtained with the Great webserver and between the binomial and hypergeometric probability"
   ]
  },
  {
   "cell_type": "code",
   "execution_count": 1,
   "metadata": {},
   "outputs": [],
   "source": [
    "%load_ext autoreload\n",
    "%autoreload 2"
   ]
  },
  {
   "cell_type": "code",
   "execution_count": 2,
   "metadata": {},
   "outputs": [],
   "source": [
    "import greatpy as great\n",
    "import pandas as pd\n",
    "from math import inf\n",
    "from numpy import log,nan, int64,cov,corrcoef\n",
    "from scipy.stats import pearsonr\n",
    "from seaborn import scatterplot as sp\n",
    "\n",
    "import warnings\n",
    "warnings.filterwarnings('ignore')"
   ]
  },
  {
   "cell_type": "code",
   "execution_count": 3,
   "metadata": {},
   "outputs": [],
   "source": [
    "test = \"../../data/tests/test_data/input/10_MAX.bed\"\n",
    "regdom = \"../../data/human/hg38/regulatory_domain.bed\"\n",
    "great_out = \"../../data/tests/test_data/output/10_MAX_output_great_webserver.tsv\"\n",
    "great_asso = \"../../data/tests/test_data/output/10_MAX_gene_asso.tsv\"\n",
    "size = \"../../data/human/hg38/chr_size.bed\""
   ]
  },
  {
   "cell_type": "markdown",
   "metadata": {},
   "source": [
    "## I Compute the p-values"
   ]
  },
  {
   "cell_type": "code",
   "execution_count": 4,
   "metadata": {},
   "outputs": [
    {
     "data": {
      "text/html": [
       "<div>\n",
       "<style scoped>\n",
       "    .dataframe tbody tr th:only-of-type {\n",
       "        vertical-align: middle;\n",
       "    }\n",
       "\n",
       "    .dataframe tbody tr th {\n",
       "        vertical-align: top;\n",
       "    }\n",
       "\n",
       "    .dataframe thead th {\n",
       "        text-align: right;\n",
       "    }\n",
       "</style>\n",
       "<table border=\"1\" class=\"dataframe\">\n",
       "  <thead>\n",
       "    <tr style=\"text-align: right;\">\n",
       "      <th></th>\n",
       "      <th>go_term</th>\n",
       "      <th>binom_p_value</th>\n",
       "      <th>hypergeom_p_value</th>\n",
       "      <th>binom_bonferroni</th>\n",
       "      <th>hypergeom_bonferroni</th>\n",
       "      <th>binom_fdr</th>\n",
       "      <th>hypergeom_fdr</th>\n",
       "    </tr>\n",
       "  </thead>\n",
       "  <tbody>\n",
       "    <tr>\n",
       "      <th>GO:0044877</th>\n",
       "      <td>protein-containing complex binding</td>\n",
       "      <td>9.97357e-07</td>\n",
       "      <td>3.85000e-306</td>\n",
       "      <td>6.79499e-03</td>\n",
       "      <td>2.62300e-302</td>\n",
       "      <td>NaN</td>\n",
       "      <td>4.23202e-306</td>\n",
       "    </tr>\n",
       "    <tr>\n",
       "      <th>GO:0001664</th>\n",
       "      <td>G protein-coupled receptor binding</td>\n",
       "      <td>4.49547e-05</td>\n",
       "      <td>2.72000e-306</td>\n",
       "      <td>3.06276e-01</td>\n",
       "      <td>1.85314e-302</td>\n",
       "      <td>NaN</td>\n",
       "      <td>3.24088e-306</td>\n",
       "    </tr>\n",
       "    <tr>\n",
       "      <th>GO:0030574</th>\n",
       "      <td>collagen catabolic process</td>\n",
       "      <td>1.83069e-04</td>\n",
       "      <td>4.30000e-307</td>\n",
       "      <td>1.00000e+00</td>\n",
       "      <td>2.92959e-303</td>\n",
       "      <td>NaN</td>\n",
       "      <td>9.24161e-307</td>\n",
       "    </tr>\n",
       "    <tr>\n",
       "      <th>GO:0097708</th>\n",
       "      <td>intracellular vesicle</td>\n",
       "      <td>2.64619e-04</td>\n",
       "      <td>3.63000e-306</td>\n",
       "      <td>1.00000e+00</td>\n",
       "      <td>2.47312e-302</td>\n",
       "      <td>NaN</td>\n",
       "      <td>4.07567e-306</td>\n",
       "    </tr>\n",
       "    <tr>\n",
       "      <th>GO:1902202</th>\n",
       "      <td>regulation of hepatocyte growth factor recepto...</td>\n",
       "      <td>3.57241e-04</td>\n",
       "      <td>3.00000e-308</td>\n",
       "      <td>1.00000e+00</td>\n",
       "      <td>2.04390e-304</td>\n",
       "      <td>NaN</td>\n",
       "      <td>4.90850e-307</td>\n",
       "    </tr>\n",
       "    <tr>\n",
       "      <th>...</th>\n",
       "      <td>...</td>\n",
       "      <td>...</td>\n",
       "      <td>...</td>\n",
       "      <td>...</td>\n",
       "      <td>...</td>\n",
       "      <td>...</td>\n",
       "      <td>...</td>\n",
       "    </tr>\n",
       "    <tr>\n",
       "      <th>GO:0110165</th>\n",
       "      <td>cellular anatomical entity</td>\n",
       "      <td>NaN</td>\n",
       "      <td>2.90000e-307</td>\n",
       "      <td>NaN</td>\n",
       "      <td>1.97577e-303</td>\n",
       "      <td>NaN</td>\n",
       "      <td>7.73295e-307</td>\n",
       "    </tr>\n",
       "    <tr>\n",
       "      <th>GO:0005622</th>\n",
       "      <td>intracellular anatomical structure</td>\n",
       "      <td>NaN</td>\n",
       "      <td>9.70000e-307</td>\n",
       "      <td>NaN</td>\n",
       "      <td>6.60861e-303</td>\n",
       "      <td>NaN</td>\n",
       "      <td>1.48977e-306</td>\n",
       "    </tr>\n",
       "    <tr>\n",
       "      <th>GO:0043226</th>\n",
       "      <td>organelle</td>\n",
       "      <td>NaN</td>\n",
       "      <td>1.23000e-306</td>\n",
       "      <td>NaN</td>\n",
       "      <td>8.37999e-303</td>\n",
       "      <td>NaN</td>\n",
       "      <td>1.75460e-306</td>\n",
       "    </tr>\n",
       "    <tr>\n",
       "      <th>GO:0043227</th>\n",
       "      <td>membrane-bounded organelle</td>\n",
       "      <td>NaN</td>\n",
       "      <td>1.40000e-306</td>\n",
       "      <td>NaN</td>\n",
       "      <td>9.53820e-303</td>\n",
       "      <td>NaN</td>\n",
       "      <td>1.92302e-306</td>\n",
       "    </tr>\n",
       "    <tr>\n",
       "      <th>GO:0043229</th>\n",
       "      <td>intracellular organelle</td>\n",
       "      <td>NaN</td>\n",
       "      <td>1.38000e-306</td>\n",
       "      <td>NaN</td>\n",
       "      <td>9.40194e-303</td>\n",
       "      <td>NaN</td>\n",
       "      <td>1.90516e-306</td>\n",
       "    </tr>\n",
       "  </tbody>\n",
       "</table>\n",
       "<p>6813 rows × 7 columns</p>\n",
       "</div>"
      ],
      "text/plain": [
       "                                                      go_term  binom_p_value  \\\n",
       "GO:0044877                 protein-containing complex binding    9.97357e-07   \n",
       "GO:0001664                 G protein-coupled receptor binding    4.49547e-05   \n",
       "GO:0030574                         collagen catabolic process    1.83069e-04   \n",
       "GO:0097708                              intracellular vesicle    2.64619e-04   \n",
       "GO:1902202  regulation of hepatocyte growth factor recepto...    3.57241e-04   \n",
       "...                                                       ...            ...   \n",
       "GO:0110165                         cellular anatomical entity            NaN   \n",
       "GO:0005622                 intracellular anatomical structure            NaN   \n",
       "GO:0043226                                          organelle            NaN   \n",
       "GO:0043227                         membrane-bounded organelle            NaN   \n",
       "GO:0043229                            intracellular organelle            NaN   \n",
       "\n",
       "            hypergeom_p_value  binom_bonferroni  hypergeom_bonferroni  \\\n",
       "GO:0044877       3.85000e-306       6.79499e-03          2.62300e-302   \n",
       "GO:0001664       2.72000e-306       3.06276e-01          1.85314e-302   \n",
       "GO:0030574       4.30000e-307       1.00000e+00          2.92959e-303   \n",
       "GO:0097708       3.63000e-306       1.00000e+00          2.47312e-302   \n",
       "GO:1902202       3.00000e-308       1.00000e+00          2.04390e-304   \n",
       "...                       ...               ...                   ...   \n",
       "GO:0110165       2.90000e-307               NaN          1.97577e-303   \n",
       "GO:0005622       9.70000e-307               NaN          6.60861e-303   \n",
       "GO:0043226       1.23000e-306               NaN          8.37999e-303   \n",
       "GO:0043227       1.40000e-306               NaN          9.53820e-303   \n",
       "GO:0043229       1.38000e-306               NaN          9.40194e-303   \n",
       "\n",
       "            binom_fdr  hypergeom_fdr  \n",
       "GO:0044877        NaN   4.23202e-306  \n",
       "GO:0001664        NaN   3.24088e-306  \n",
       "GO:0030574        NaN   9.24161e-307  \n",
       "GO:0097708        NaN   4.07567e-306  \n",
       "GO:1902202        NaN   4.90850e-307  \n",
       "...               ...            ...  \n",
       "GO:0110165        NaN   7.73295e-307  \n",
       "GO:0005622        NaN   1.48977e-306  \n",
       "GO:0043226        NaN   1.75460e-306  \n",
       "GO:0043227        NaN   1.92302e-306  \n",
       "GO:0043229        NaN   1.90516e-306  \n",
       "\n",
       "[6813 rows x 7 columns]"
      ]
     },
     "execution_count": 4,
     "metadata": {},
     "output_type": "execute_result"
    }
   ],
   "source": [
    "enrichment_tot = great.tl.GREAT.enrichment(\n",
    "    test_file=test,\n",
    "    regdom_file=regdom,\n",
    "    chr_size_file=size,\n",
    "    annotation_file=\"../../../ontologies_total.csv\",\n",
    "    binom=True,\n",
    "    hypergeom=True,\n",
    "    )\n",
    "great.tl.GREAT.set_bonferroni(enrichment_tot,0.05)\n",
    "great.tl.GREAT.set_fdr(enrichment_tot,0.05)"
   ]
  },
  {
   "cell_type": "markdown",
   "metadata": {},
   "source": [
    "Note : computation time 34 min"
   ]
  },
  {
   "cell_type": "markdown",
   "metadata": {},
   "source": [
    "## II Compare to GREAT webserver  "
   ]
  },
  {
   "cell_type": "markdown",
   "metadata": {},
   "source": [
    "### II.1 Import the data"
   ]
  },
  {
   "cell_type": "code",
   "execution_count": 5,
   "metadata": {},
   "outputs": [],
   "source": [
    "great_webserver = pd.read_csv(great_out,sep=\"\\t\",comment=\"#\",\n",
    "                    names=[\"ontologie\",\"term_name\",\"ID\",\"binom_p_value\",\"binom_bonferroni\",\"binom_fdr\",\"hyper_p_value\",\"hyper_bonferroni\",\"hyper_fdr\"],index_col=False,\n",
    "                    dtype={\"term_name\":\"object\", \"ID\":\"object\",\"binom_p_value\":\"float64\", \"binom_bonferroni\":\"float64\", \"binom_fdr\":\"float64\", \"hyper_p_value\":\"float64\", \"hyper_bonferroni\":\"float64\", \"hyper_fdr\":\"float64\"})\n",
    "great_webserver.rename(columns={\"ID\":\"id\"},inplace=True)\n",
    "del great_webserver[\"ontologie\"]\n",
    "del great_webserver[\"term_name\"]"
   ]
  },
  {
   "cell_type": "code",
   "execution_count": 6,
   "metadata": {},
   "outputs": [
    {
     "data": {
      "text/html": [
       "<div>\n",
       "<style scoped>\n",
       "    .dataframe tbody tr th:only-of-type {\n",
       "        vertical-align: middle;\n",
       "    }\n",
       "\n",
       "    .dataframe tbody tr th {\n",
       "        vertical-align: top;\n",
       "    }\n",
       "\n",
       "    .dataframe thead th {\n",
       "        text-align: right;\n",
       "    }\n",
       "</style>\n",
       "<table border=\"1\" class=\"dataframe\">\n",
       "  <thead>\n",
       "    <tr style=\"text-align: right;\">\n",
       "      <th></th>\n",
       "      <th>id</th>\n",
       "      <th>binom_p_value</th>\n",
       "      <th>binom_bonferroni</th>\n",
       "      <th>binom_fdr</th>\n",
       "      <th>hyper_p_value</th>\n",
       "      <th>hyper_bonferroni</th>\n",
       "      <th>hyper_fdr</th>\n",
       "    </tr>\n",
       "  </thead>\n",
       "  <tbody>\n",
       "    <tr>\n",
       "      <th>0</th>\n",
       "      <td>GO:0016055</td>\n",
       "      <td>1.00673e-04</td>\n",
       "      <td>1.00000e+00</td>\n",
       "      <td>4.41584e-01</td>\n",
       "      <td>4.73339e-05</td>\n",
       "      <td>6.22867e-01</td>\n",
       "      <td>2.96603e-02</td>\n",
       "    </tr>\n",
       "    <tr>\n",
       "      <th>1</th>\n",
       "      <td>GO:0071464</td>\n",
       "      <td>1.29812e-04</td>\n",
       "      <td>1.00000e+00</td>\n",
       "      <td>4.27048e-01</td>\n",
       "      <td>5.18373e-04</td>\n",
       "      <td>1.00000e+00</td>\n",
       "      <td>1.15615e-01</td>\n",
       "    </tr>\n",
       "    <tr>\n",
       "      <th>2</th>\n",
       "      <td>GO:1905114</td>\n",
       "      <td>1.31545e-04</td>\n",
       "      <td>1.00000e+00</td>\n",
       "      <td>3.46200e-01</td>\n",
       "      <td>4.66024e-06</td>\n",
       "      <td>6.13241e-02</td>\n",
       "      <td>6.81379e-03</td>\n",
       "    </tr>\n",
       "    <tr>\n",
       "      <th>3</th>\n",
       "      <td>GO:1902202</td>\n",
       "      <td>4.61552e-04</td>\n",
       "      <td>1.00000e+00</td>\n",
       "      <td>6.74840e-01</td>\n",
       "      <td>3.01694e-03</td>\n",
       "      <td>1.00000e+00</td>\n",
       "      <td>2.43558e-01</td>\n",
       "    </tr>\n",
       "    <tr>\n",
       "      <th>4</th>\n",
       "      <td>GO:0071888</td>\n",
       "      <td>5.02180e-04</td>\n",
       "      <td>1.00000e+00</td>\n",
       "      <td>6.60819e-01</td>\n",
       "      <td>4.50693e-02</td>\n",
       "      <td>1.00000e+00</td>\n",
       "      <td>8.10201e-01</td>\n",
       "    </tr>\n",
       "    <tr>\n",
       "      <th>...</th>\n",
       "      <td>...</td>\n",
       "      <td>...</td>\n",
       "      <td>...</td>\n",
       "      <td>...</td>\n",
       "      <td>...</td>\n",
       "      <td>...</td>\n",
       "      <td>...</td>\n",
       "    </tr>\n",
       "    <tr>\n",
       "      <th>2390</th>\n",
       "      <td>GO:0031418</td>\n",
       "      <td>3.76706e-01</td>\n",
       "      <td>1.00000e+00</td>\n",
       "      <td>1.00000e+00</td>\n",
       "      <td>3.69593e-01</td>\n",
       "      <td>1.00000e+00</td>\n",
       "      <td>1.00000e+00</td>\n",
       "    </tr>\n",
       "    <tr>\n",
       "      <th>2391</th>\n",
       "      <td>GO:0031005</td>\n",
       "      <td>3.81553e-01</td>\n",
       "      <td>1.00000e+00</td>\n",
       "      <td>1.00000e+00</td>\n",
       "      <td>2.59068e-01</td>\n",
       "      <td>1.00000e+00</td>\n",
       "      <td>1.00000e+00</td>\n",
       "    </tr>\n",
       "    <tr>\n",
       "      <th>2392</th>\n",
       "      <td>GO:0005248</td>\n",
       "      <td>3.91741e-01</td>\n",
       "      <td>1.00000e+00</td>\n",
       "      <td>1.00000e+00</td>\n",
       "      <td>4.11772e-01</td>\n",
       "      <td>1.00000e+00</td>\n",
       "      <td>1.00000e+00</td>\n",
       "    </tr>\n",
       "    <tr>\n",
       "      <th>2393</th>\n",
       "      <td>GO:0042162</td>\n",
       "      <td>3.91754e-01</td>\n",
       "      <td>1.00000e+00</td>\n",
       "      <td>1.00000e+00</td>\n",
       "      <td>5.43724e-01</td>\n",
       "      <td>1.00000e+00</td>\n",
       "      <td>1.00000e+00</td>\n",
       "    </tr>\n",
       "    <tr>\n",
       "      <th>2394</th>\n",
       "      <td>GO:0003680</td>\n",
       "      <td>3.92465e-01</td>\n",
       "      <td>1.00000e+00</td>\n",
       "      <td>1.00000e+00</td>\n",
       "      <td>1.87438e-01</td>\n",
       "      <td>1.00000e+00</td>\n",
       "      <td>1.00000e+00</td>\n",
       "    </tr>\n",
       "  </tbody>\n",
       "</table>\n",
       "<p>2395 rows × 7 columns</p>\n",
       "</div>"
      ],
      "text/plain": [
       "              id  binom_p_value  binom_bonferroni    binom_fdr  hyper_p_value  \\\n",
       "0     GO:0016055    1.00673e-04       1.00000e+00  4.41584e-01    4.73339e-05   \n",
       "1     GO:0071464    1.29812e-04       1.00000e+00  4.27048e-01    5.18373e-04   \n",
       "2     GO:1905114    1.31545e-04       1.00000e+00  3.46200e-01    4.66024e-06   \n",
       "3     GO:1902202    4.61552e-04       1.00000e+00  6.74840e-01    3.01694e-03   \n",
       "4     GO:0071888    5.02180e-04       1.00000e+00  6.60819e-01    4.50693e-02   \n",
       "...          ...            ...               ...          ...            ...   \n",
       "2390  GO:0031418    3.76706e-01       1.00000e+00  1.00000e+00    3.69593e-01   \n",
       "2391  GO:0031005    3.81553e-01       1.00000e+00  1.00000e+00    2.59068e-01   \n",
       "2392  GO:0005248    3.91741e-01       1.00000e+00  1.00000e+00    4.11772e-01   \n",
       "2393  GO:0042162    3.91754e-01       1.00000e+00  1.00000e+00    5.43724e-01   \n",
       "2394  GO:0003680    3.92465e-01       1.00000e+00  1.00000e+00    1.87438e-01   \n",
       "\n",
       "      hyper_bonferroni    hyper_fdr  \n",
       "0          6.22867e-01  2.96603e-02  \n",
       "1          1.00000e+00  1.15615e-01  \n",
       "2          6.13241e-02  6.81379e-03  \n",
       "3          1.00000e+00  2.43558e-01  \n",
       "4          1.00000e+00  8.10201e-01  \n",
       "...                ...          ...  \n",
       "2390       1.00000e+00  1.00000e+00  \n",
       "2391       1.00000e+00  1.00000e+00  \n",
       "2392       1.00000e+00  1.00000e+00  \n",
       "2393       1.00000e+00  1.00000e+00  \n",
       "2394       1.00000e+00  1.00000e+00  \n",
       "\n",
       "[2395 rows x 7 columns]"
      ]
     },
     "execution_count": 6,
     "metadata": {},
     "output_type": "execute_result"
    }
   ],
   "source": [
    "great_webserver"
   ]
  },
  {
   "cell_type": "markdown",
   "metadata": {},
   "source": [
    "### II.2 Compare the results between greatpy and great "
   ]
  },
  {
   "cell_type": "markdown",
   "metadata": {},
   "source": [
    "#### II.2.1 Preprocessing"
   ]
  },
  {
   "cell_type": "code",
   "execution_count": 8,
   "metadata": {},
   "outputs": [],
   "source": [
    "before_pp = enrichment_tot.shape[0]\n",
    "enrichment_tot = enrichment_tot[enrichment_tot.index.isin(list(great_webserver[\"id\"]))]\n",
    "after_pp = enrichment_tot.shape[0]"
   ]
  },
  {
   "cell_type": "code",
   "execution_count": 9,
   "metadata": {},
   "outputs": [],
   "source": [
    "great_webserver = great_webserver[great_webserver[\"id\"].isin(list(enrichment_tot.index))]\n",
    "great_webserver = great_webserver.sort_values(\"id\")"
   ]
  },
  {
   "cell_type": "code",
   "execution_count": 18,
   "metadata": {},
   "outputs": [],
   "source": [
    "binom_greatpy = []\n",
    "hyper_greatpy = []\n",
    "binom_great = []\n",
    "hyper_great = []\n",
    "for i in range(enrichment_tot.shape[0]) : \n",
    "    go_id = list(enrichment_tot.index)[i]\n",
    "    curr_enrichment = enrichment_tot.iloc[i]\n",
    "    curr_great_webserver = great_webserver.loc[great_webserver[\"id\"]==go_id]\n",
    "    binom_greatpy.append(float(curr_enrichment[\"binom_p_value\"]))\n",
    "    hyper_greatpy.append(float(curr_enrichment[\"hypergeom_p_value\"]))\n",
    "    binom_great.append(float(curr_great_webserver[\"binom_p_value\"]))\n",
    "    hyper_great.append(float(curr_great_webserver[\"hyper_p_value\"]))\n",
    "binom = pd.DataFrame({\"binom_greatpy\":binom_greatpy,\"binom_great\":binom_great})\n",
    "hyper = pd.DataFrame({\"hyper_greatpy\":hyper_greatpy,\"hyper_great\":hyper_great})"
   ]
  },
  {
   "cell_type": "markdown",
   "metadata": {},
   "source": [
    "#### II.2.b Graphical"
   ]
  },
  {
   "cell_type": "code",
   "execution_count": 11,
   "metadata": {},
   "outputs": [
    {
     "data": {
      "image/png": "[encoded data removed]",
      "text/plain": [
       "<Figure size 432x288 with 1 Axes>"
      ]
     },
     "metadata": {
      "needs_background": "light"
     },
     "output_type": "display_data"
    }
   ],
   "source": [
    "pl=great.pl.scatterplot(binom,colname_x=\"binom_greatpy\",colname_y=\"binom_great\")"
   ]
  },
  {
   "cell_type": "code",
   "execution_count": 12,
   "metadata": {},
   "outputs": [
    {
     "data": {
      "image/png": "[encoded data removed]",
      "text/plain": [
       "<Figure size 432x288 with 1 Axes>"
      ]
     },
     "metadata": {
      "needs_background": "light"
     },
     "output_type": "display_data"
    }
   ],
   "source": [
    "great.pl.scatterplot(hyper,colname_x=\"hyper_greatpy\",colname_y=\"hyper_great\")"
   ]
  },
  {
   "cell_type": "markdown",
   "metadata": {},
   "source": [
    "#### II.2.c Statistics"
   ]
  },
  {
   "cell_type": "code",
   "execution_count": 13,
   "metadata": {},
   "outputs": [],
   "source": [
    "def stat(binom_great_list_list, hyper_great_listpy_list,binom_great_list,hyper_great_list) : \n",
    "    if len(binom_great_list_list) >= 2 and len(hyper_great_listpy_list) >= 2 and len(binom_great_list) >= 2  and len(hyper_great_list) >= 2 : \n",
    "        return pd.DataFrame({\n",
    "            \"binom\": [cov(m = binom_great_list_list, y = binom_great_list)[0][1],pearsonr(binom_great_list_list,binom_great_list)[0]],\n",
    "            \"hyper\":[cov(m = hyper_great_listpy_list, y = hyper_great_list)[0][1],pearsonr(hyper_great_listpy_list,hyper_great_list)[0]]},\n",
    "            index=[\"correlation_coefficient\",\"pearson\"])\n",
    "    return False"
   ]
  },
  {
   "cell_type": "markdown",
   "metadata": {},
   "source": [
    "Issue is : NaN in hyper_fdr"
   ]
  },
  {
   "cell_type": "code",
   "execution_count": 14,
   "metadata": {},
   "outputs": [],
   "source": [
    "# stat(binom_greatpy, hyper_greatpy,binom_great,hyper_great)"
   ]
  },
  {
   "cell_type": "code",
   "execution_count": 19,
   "metadata": {},
   "outputs": [
    {
     "name": "stdout",
     "output_type": "stream",
     "text": [
      "before preprocessing, greatpy df have 6813 rows\n",
      "before preprocessing, great df have 2395 rows\n",
      "after preprocessing, greatpy and great df have 2202 rows. \n",
      "So there are 193 GO term absent from greatpy while they have been picked up by great thats corresponds to 8.06 % of great output\n"
     ]
    }
   ],
   "source": [
    "print(f\"before preprocessing, greatpy df have {before_pp} rows\")\n",
    "print(f\"before preprocessing, great df have {2395} rows\")\n",
    "print(f\"after preprocessing, greatpy and great df have {after_pp} rows. \")\n",
    "print(f\"So there are {2395 - after_pp} GO term absent from greatpy while they have been picked up by great thats corresponds to {round(((2395 - after_pp)/2395)*100,2)} % of great output\")"
   ]
  },
  {
   "cell_type": "markdown",
   "metadata": {},
   "source": [
    "We went from 2766 ontology terms in greatpy output to 248 ontology terms by selecting the GO identifiers present in both greatpy and great "
   ]
  },
  {
   "cell_type": "markdown",
   "metadata": {},
   "source": [
    "But when two ontology terms are selected they have the same binomial and hypergeometric probability value "
   ]
  },
  {
   "cell_type": "markdown",
   "metadata": {},
   "source": [
    "# How many associations are good or bad "
   ]
  },
  {
   "cell_type": "code",
   "execution_count": 16,
   "metadata": {},
   "outputs": [
    {
     "name": "stdout",
     "output_type": "stream",
     "text": [
      "Number of gene association present in greatpy and great : 428\n",
      "Number of gene association prensent in great and not in greatpy 0\n",
      "Number of gene association prensent in greatpy and not in great 4\n"
     ]
    }
   ],
   "source": [
    "gene_asso_great = pd.read_csv(great_asso,sep=\"\\t\",comment=\"#\",names=[\"ontologies\",\"gene\"],index_col=False, dtype={\"ontologies\":\"object\",\"gene\":\"object\"},usecols=[\"gene\"])\n",
    "gene_asso_greatpy = great.tl.get_association(\n",
    "    test = pd.read_csv(test,sep=\"\\t\",comment=\"#\",usecols=[0,1,2],names=[\"Chr\", \"Chr_Start\", \"Chr_End\"],dtype={\"Chr\":\"object\", \"Chr_Start\":\"int64\", \"Chr_End\":\"int64\"}),\n",
    "    regdom= pd.read_csv(regdom,sep=\"\\t\",comment=\"#\",names=[\"Chr\", \"Chr_Start\", \"Chr_End\",\"Name\",\"tss\",\"Strand\"],dtype={\"Chr\":\"object\", \"Chr_Start\":\"int64\", \"Chr_End\":\"int64\",\"Name\":\"object\",\"tss\":\"int64\",\"Strand\":\"object\"}))\n",
    "in_in = gene_asso_great[gene_asso_great[\"gene\"].isin(gene_asso_greatpy)].shape[0]\n",
    "in_out = [i for i in list(gene_asso_great[\"gene\"]) if i not in gene_asso_greatpy]\n",
    "out_in = [i for i in gene_asso_greatpy if i not in list(gene_asso_great[\"gene\"])]\n",
    "\n",
    "print(f\"Number of gene association present in greatpy and great : {in_in}\")\n",
    "print(f\"Number of gene association prensent in great and not in greatpy {len(in_out)}\")\n",
    "print(f\"Number of gene association prensent in greatpy and not in great {len(out_in)}\")"
   ]
  }
 ],
 "metadata": {
  "kernelspec": {
   "display_name": "Python 3.9.12 ('base')",
   "language": "python",
   "name": "python3"
  },
  "language_info": {
   "codemirror_mode": {
    "name": "ipython",
    "version": 3
   },
   "file_extension": ".py",
   "mimetype": "text/x-python",
   "name": "python",
   "nbconvert_exporter": "python",
   "pygments_lexer": "ipython3",
   "version": "3.9.12"
  },
  "orig_nbformat": 4,
  "vscode": {
   "interpreter": {
    "hash": "dd3aa23b046397ccf7f1ffb7cb82646c26b15f0b12555a0fca8fb427d9fb147f"
   }
  }
 },
 "nbformat": 4,
 "nbformat_minor": 2
}
