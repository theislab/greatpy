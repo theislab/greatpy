{
 "cells": [
  {
   "cell_type": "markdown",
   "metadata": {},
   "source": [
    "# Computation of annotation enrichment in a genetic set "
   ]
  },
  {
   "cell_type": "markdown",
   "metadata": {},
   "source": [
    "This code excerpt shows how to use the annotation enrichment computation function in a genetic set.\n",
    "The funciton return a dataframe of binom and hypergeometric p-value (<= 0.05) and for each p-value a fdr correction with alpha = 0.05.   "
   ]
  },
  {
   "cell_type": "markdown",
   "metadata": {},
   "source": [
    "In the second part of the code we will compare the results obtained with the Great webserver and between the binomial and hypergeometric probability"
   ]
  },
  {
   "cell_type": "code",
   "execution_count": 1,
   "metadata": {},
   "outputs": [],
   "source": [
    "%load_ext autoreload\n",
    "%autoreload 2"
   ]
  },
  {
   "cell_type": "code",
   "execution_count": 2,
   "metadata": {},
   "outputs": [],
   "source": [
    "import greatpy as great\n",
    "import pandas as pd\n",
    "from math import inf\n",
    "from numpy import log,nan, int64,cov,corrcoef\n",
    "from scipy.stats import pearsonr\n",
    "from seaborn import scatterplot as sp\n",
    "\n",
    "import warnings\n",
    "warnings.filterwarnings('ignore')"
   ]
  },
  {
   "cell_type": "code",
   "execution_count": 3,
   "metadata": {},
   "outputs": [],
   "source": [
    "test = \"../../data/tests/test_data/input/10_MAX.bed\"\n",
    "regdom = \"../../data/human/hg38/regulatory_domain.bed\"\n",
    "great_out = \"../../data/tests/test_data/output/10_MAX_output_great_webserver.tsv\"\n",
    "great_asso = \"../../data/tests/test_data/output/10_MAX_gene_asso.tsv\"\n",
    "size = \"../../data/human/hg38/chr_size.bed\""
   ]
  },
  {
   "cell_type": "markdown",
   "metadata": {},
   "source": [
    "## I Compute the p-values"
   ]
  },
  {
   "cell_type": "code",
   "execution_count": 4,
   "metadata": {},
   "outputs": [],
   "source": [
    "enrichment_tot = great.tl.GREAT.enrichment(\n",
    "    test_file=test,\n",
    "    regdom_file=regdom,\n",
    "    chr_size_file=size,\n",
    "    annotation_file=\"../../../ontologies_total.csv\",\n",
    "    binom=True,\n",
    "    hypergeom=True,\n",
    "    )\n",
    "great.tl.GREAT.set_bonferroni(enrichment_tot,0.05)\n",
    "great.tl.GREAT.set_fdr(enrichment_tot,0.05)"
   ]
  },
  {
   "cell_type": "markdown",
   "metadata": {},
   "source": [
    "## II Compare to GREAT webserver  "
   ]
  },
  {
   "cell_type": "markdown",
   "metadata": {},
   "source": [
    "### II.1 Import the data"
   ]
  },
  {
   "cell_type": "code",
   "execution_count": null,
   "metadata": {},
   "outputs": [],
   "source": [
    "great_webserver = pd.read_csv(great_out,sep=\"\\t\",comment=\"#\",\n",
    "                    names=[\"ontologie\",\"term_name\",\"ID\",\"binom_p_value\",\"binom_bonferroni\",\"binom_fdr\",\"hyper_p_value\",\"hyper_bonferroni\",\"hyper_fdr\"],index_col=False,\n",
    "                    dtype={\"term_name\":\"object\", \"ID\":\"object\",\"binom_p_value\":\"float64\", \"binom_bonferroni\":\"float64\", \"binom_fdr\":\"float64\", \"hyper_p_value\":\"float64\", \"hyper_bonferroni\":\"float64\", \"hyper_fdr\":\"float64\"})\n",
    "great_webserver.rename(columns={\"ID\":\"id\"},inplace=True)\n",
    "del great_webserver[\"ontologie\"]\n",
    "del great_webserver[\"term_name\"]"
   ]
  },
  {
   "cell_type": "code",
   "execution_count": null,
   "metadata": {},
   "outputs": [
    {
     "data": {
      "text/html": [
       "<div>\n",
       "<style scoped>\n",
       "    .dataframe tbody tr th:only-of-type {\n",
       "        vertical-align: middle;\n",
       "    }\n",
       "\n",
       "    .dataframe tbody tr th {\n",
       "        vertical-align: top;\n",
       "    }\n",
       "\n",
       "    .dataframe thead th {\n",
       "        text-align: right;\n",
       "    }\n",
       "</style>\n",
       "<table border=\"1\" class=\"dataframe\">\n",
       "  <thead>\n",
       "    <tr style=\"text-align: right;\">\n",
       "      <th></th>\n",
       "      <th>id</th>\n",
       "      <th>binom_p_value</th>\n",
       "      <th>binom_bonferroni</th>\n",
       "      <th>binom_fdr</th>\n",
       "      <th>hyper_p_value</th>\n",
       "      <th>hyper_bonferroni</th>\n",
       "      <th>hyper_fdr</th>\n",
       "    </tr>\n",
       "  </thead>\n",
       "  <tbody>\n",
       "    <tr>\n",
       "      <th>0</th>\n",
       "      <td>GO:0016055</td>\n",
       "      <td>1.00673e-04</td>\n",
       "      <td>1.00000e+00</td>\n",
       "      <td>4.41584e-01</td>\n",
       "      <td>4.73339e-05</td>\n",
       "      <td>6.22867e-01</td>\n",
       "      <td>2.96603e-02</td>\n",
       "    </tr>\n",
       "    <tr>\n",
       "      <th>1</th>\n",
       "      <td>GO:0071464</td>\n",
       "      <td>1.29812e-04</td>\n",
       "      <td>1.00000e+00</td>\n",
       "      <td>4.27048e-01</td>\n",
       "      <td>5.18373e-04</td>\n",
       "      <td>1.00000e+00</td>\n",
       "      <td>1.15615e-01</td>\n",
       "    </tr>\n",
       "    <tr>\n",
       "      <th>2</th>\n",
       "      <td>GO:1905114</td>\n",
       "      <td>1.31545e-04</td>\n",
       "      <td>1.00000e+00</td>\n",
       "      <td>3.46200e-01</td>\n",
       "      <td>4.66024e-06</td>\n",
       "      <td>6.13241e-02</td>\n",
       "      <td>6.81379e-03</td>\n",
       "    </tr>\n",
       "    <tr>\n",
       "      <th>3</th>\n",
       "      <td>GO:1902202</td>\n",
       "      <td>4.61552e-04</td>\n",
       "      <td>1.00000e+00</td>\n",
       "      <td>6.74840e-01</td>\n",
       "      <td>3.01694e-03</td>\n",
       "      <td>1.00000e+00</td>\n",
       "      <td>2.43558e-01</td>\n",
       "    </tr>\n",
       "    <tr>\n",
       "      <th>4</th>\n",
       "      <td>GO:0071888</td>\n",
       "      <td>5.02180e-04</td>\n",
       "      <td>1.00000e+00</td>\n",
       "      <td>6.60819e-01</td>\n",
       "      <td>4.50693e-02</td>\n",
       "      <td>1.00000e+00</td>\n",
       "      <td>8.10201e-01</td>\n",
       "    </tr>\n",
       "    <tr>\n",
       "      <th>...</th>\n",
       "      <td>...</td>\n",
       "      <td>...</td>\n",
       "      <td>...</td>\n",
       "      <td>...</td>\n",
       "      <td>...</td>\n",
       "      <td>...</td>\n",
       "      <td>...</td>\n",
       "    </tr>\n",
       "    <tr>\n",
       "      <th>2390</th>\n",
       "      <td>GO:0031418</td>\n",
       "      <td>3.76706e-01</td>\n",
       "      <td>1.00000e+00</td>\n",
       "      <td>1.00000e+00</td>\n",
       "      <td>3.69593e-01</td>\n",
       "      <td>1.00000e+00</td>\n",
       "      <td>1.00000e+00</td>\n",
       "    </tr>\n",
       "    <tr>\n",
       "      <th>2391</th>\n",
       "      <td>GO:0031005</td>\n",
       "      <td>3.81553e-01</td>\n",
       "      <td>1.00000e+00</td>\n",
       "      <td>1.00000e+00</td>\n",
       "      <td>2.59068e-01</td>\n",
       "      <td>1.00000e+00</td>\n",
       "      <td>1.00000e+00</td>\n",
       "    </tr>\n",
       "    <tr>\n",
       "      <th>2392</th>\n",
       "      <td>GO:0005248</td>\n",
       "      <td>3.91741e-01</td>\n",
       "      <td>1.00000e+00</td>\n",
       "      <td>1.00000e+00</td>\n",
       "      <td>4.11772e-01</td>\n",
       "      <td>1.00000e+00</td>\n",
       "      <td>1.00000e+00</td>\n",
       "    </tr>\n",
       "    <tr>\n",
       "      <th>2393</th>\n",
       "      <td>GO:0042162</td>\n",
       "      <td>3.91754e-01</td>\n",
       "      <td>1.00000e+00</td>\n",
       "      <td>1.00000e+00</td>\n",
       "      <td>5.43724e-01</td>\n",
       "      <td>1.00000e+00</td>\n",
       "      <td>1.00000e+00</td>\n",
       "    </tr>\n",
       "    <tr>\n",
       "      <th>2394</th>\n",
       "      <td>GO:0003680</td>\n",
       "      <td>3.92465e-01</td>\n",
       "      <td>1.00000e+00</td>\n",
       "      <td>1.00000e+00</td>\n",
       "      <td>1.87438e-01</td>\n",
       "      <td>1.00000e+00</td>\n",
       "      <td>1.00000e+00</td>\n",
       "    </tr>\n",
       "  </tbody>\n",
       "</table>\n",
       "<p>2395 rows × 7 columns</p>\n",
       "</div>"
      ],
      "text/plain": [
       "              id  binom_p_value  binom_bonferroni    binom_fdr  hyper_p_value  \\\n",
       "0     GO:0016055    1.00673e-04       1.00000e+00  4.41584e-01    4.73339e-05   \n",
       "1     GO:0071464    1.29812e-04       1.00000e+00  4.27048e-01    5.18373e-04   \n",
       "2     GO:1905114    1.31545e-04       1.00000e+00  3.46200e-01    4.66024e-06   \n",
       "3     GO:1902202    4.61552e-04       1.00000e+00  6.74840e-01    3.01694e-03   \n",
       "4     GO:0071888    5.02180e-04       1.00000e+00  6.60819e-01    4.50693e-02   \n",
       "...          ...            ...               ...          ...            ...   \n",
       "2390  GO:0031418    3.76706e-01       1.00000e+00  1.00000e+00    3.69593e-01   \n",
       "2391  GO:0031005    3.81553e-01       1.00000e+00  1.00000e+00    2.59068e-01   \n",
       "2392  GO:0005248    3.91741e-01       1.00000e+00  1.00000e+00    4.11772e-01   \n",
       "2393  GO:0042162    3.91754e-01       1.00000e+00  1.00000e+00    5.43724e-01   \n",
       "2394  GO:0003680    3.92465e-01       1.00000e+00  1.00000e+00    1.87438e-01   \n",
       "\n",
       "      hyper_bonferroni    hyper_fdr  \n",
       "0          6.22867e-01  2.96603e-02  \n",
       "1          1.00000e+00  1.15615e-01  \n",
       "2          6.13241e-02  6.81379e-03  \n",
       "3          1.00000e+00  2.43558e-01  \n",
       "4          1.00000e+00  8.10201e-01  \n",
       "...                ...          ...  \n",
       "2390       1.00000e+00  1.00000e+00  \n",
       "2391       1.00000e+00  1.00000e+00  \n",
       "2392       1.00000e+00  1.00000e+00  \n",
       "2393       1.00000e+00  1.00000e+00  \n",
       "2394       1.00000e+00  1.00000e+00  \n",
       "\n",
       "[2395 rows x 7 columns]"
      ]
     },
     "execution_count": 22,
     "metadata": {},
     "output_type": "execute_result"
    }
   ],
   "source": [
    "great_webserver"
   ]
  },
  {
   "cell_type": "markdown",
   "metadata": {},
   "source": [
    "### II.2 Compare the results between greatpy and great "
   ]
  },
  {
   "cell_type": "markdown",
   "metadata": {},
   "source": [
    "#### II.2.1 Preprocessing"
   ]
  },
  {
   "cell_type": "code",
   "execution_count": null,
   "metadata": {},
   "outputs": [
    {
     "data": {
      "text/html": [
       "<div>\n",
       "<style scoped>\n",
       "    .dataframe tbody tr th:only-of-type {\n",
       "        vertical-align: middle;\n",
       "    }\n",
       "\n",
       "    .dataframe tbody tr th {\n",
       "        vertical-align: top;\n",
       "    }\n",
       "\n",
       "    .dataframe thead th {\n",
       "        text-align: right;\n",
       "    }\n",
       "</style>\n",
       "<table border=\"1\" class=\"dataframe\">\n",
       "  <thead>\n",
       "    <tr style=\"text-align: right;\">\n",
       "      <th></th>\n",
       "      <th>go_term</th>\n",
       "      <th>binom_p_value</th>\n",
       "      <th>hypergeom_p_value</th>\n",
       "      <th>binom_bonferroni</th>\n",
       "      <th>hypergeom_bonferroni</th>\n",
       "      <th>binom_fdr</th>\n",
       "      <th>hypergeom_fdr</th>\n",
       "    </tr>\n",
       "  </thead>\n",
       "  <tbody>\n",
       "    <tr>\n",
       "      <th>GO:0001664</th>\n",
       "      <td>G protein-coupled receptor binding</td>\n",
       "      <td>4.49547e-05</td>\n",
       "      <td>2.72000e-306</td>\n",
       "      <td>3.05152e-01</td>\n",
       "      <td>1.84634e-302</td>\n",
       "      <td>NaN</td>\n",
       "      <td>3.24089e-306</td>\n",
       "    </tr>\n",
       "    <tr>\n",
       "      <th>GO:0030574</th>\n",
       "      <td>collagen catabolic process</td>\n",
       "      <td>1.83069e-04</td>\n",
       "      <td>4.30000e-307</td>\n",
       "      <td>1.00000e+00</td>\n",
       "      <td>2.91884e-303</td>\n",
       "      <td>NaN</td>\n",
       "      <td>9.26910e-307</td>\n",
       "    </tr>\n",
       "    <tr>\n",
       "      <th>GO:1902202</th>\n",
       "      <td>regulation of hepatocyte growth factor recepto...</td>\n",
       "      <td>3.57241e-04</td>\n",
       "      <td>3.00000e-308</td>\n",
       "      <td>1.00000e+00</td>\n",
       "      <td>2.03640e-304</td>\n",
       "      <td>NaN</td>\n",
       "      <td>4.96199e-307</td>\n",
       "    </tr>\n",
       "    <tr>\n",
       "      <th>GO:0000790</th>\n",
       "      <td>nuclear chromatin</td>\n",
       "      <td>3.69020e-04</td>\n",
       "      <td>2.15000e-306</td>\n",
       "      <td>1.00000e+00</td>\n",
       "      <td>1.45942e-302</td>\n",
       "      <td>NaN</td>\n",
       "      <td>2.66366e-306</td>\n",
       "    </tr>\n",
       "    <tr>\n",
       "      <th>GO:2000059</th>\n",
       "      <td>negative regulation of ubiquitin-dependent pro...</td>\n",
       "      <td>3.97688e-04</td>\n",
       "      <td>4.70000e-307</td>\n",
       "      <td>1.00000e+00</td>\n",
       "      <td>3.19036e-303</td>\n",
       "      <td>NaN</td>\n",
       "      <td>9.69420e-307</td>\n",
       "    </tr>\n",
       "    <tr>\n",
       "      <th>...</th>\n",
       "      <td>...</td>\n",
       "      <td>...</td>\n",
       "      <td>...</td>\n",
       "      <td>...</td>\n",
       "      <td>...</td>\n",
       "      <td>...</td>\n",
       "      <td>...</td>\n",
       "    </tr>\n",
       "    <tr>\n",
       "      <th>GO:0003180</th>\n",
       "      <td>aortic valve morphogenesis</td>\n",
       "      <td>7.50736e-01</td>\n",
       "      <td>3.20000e-307</td>\n",
       "      <td>1.00000e+00</td>\n",
       "      <td>2.17216e-303</td>\n",
       "      <td>NaN</td>\n",
       "      <td>8.12630e-307</td>\n",
       "    </tr>\n",
       "    <tr>\n",
       "      <th>GO:0060968</th>\n",
       "      <td>obsolete regulation of gene silencing</td>\n",
       "      <td>7.63777e-01</td>\n",
       "      <td>7.50000e-307</td>\n",
       "      <td>1.00000e+00</td>\n",
       "      <td>5.09100e-303</td>\n",
       "      <td>NaN</td>\n",
       "      <td>1.27180e-306</td>\n",
       "    </tr>\n",
       "    <tr>\n",
       "      <th>GO:1901890</th>\n",
       "      <td>positive regulation of cell junction assembly</td>\n",
       "      <td>7.86975e-01</td>\n",
       "      <td>1.02000e-306</td>\n",
       "      <td>1.00000e+00</td>\n",
       "      <td>6.92376e-303</td>\n",
       "      <td>NaN</td>\n",
       "      <td>1.53861e-306</td>\n",
       "    </tr>\n",
       "    <tr>\n",
       "      <th>GO:1904659</th>\n",
       "      <td>glucose transmembrane transport</td>\n",
       "      <td>8.99185e-01</td>\n",
       "      <td>1.09000e-306</td>\n",
       "      <td>1.00000e+00</td>\n",
       "      <td>7.39892e-303</td>\n",
       "      <td>NaN</td>\n",
       "      <td>1.60776e-306</td>\n",
       "    </tr>\n",
       "    <tr>\n",
       "      <th>GO:0031503</th>\n",
       "      <td>protein-containing complex localization</td>\n",
       "      <td>9.49119e-01</td>\n",
       "      <td>2.37000e-306</td>\n",
       "      <td>1.00000e+00</td>\n",
       "      <td>1.60876e-302</td>\n",
       "      <td>NaN</td>\n",
       "      <td>2.87895e-306</td>\n",
       "    </tr>\n",
       "  </tbody>\n",
       "</table>\n",
       "<p>2202 rows × 7 columns</p>\n",
       "</div>"
      ],
      "text/plain": [
       "                                                      go_term  binom_p_value  \\\n",
       "GO:0001664                 G protein-coupled receptor binding    4.49547e-05   \n",
       "GO:0030574                         collagen catabolic process    1.83069e-04   \n",
       "GO:1902202  regulation of hepatocyte growth factor recepto...    3.57241e-04   \n",
       "GO:0000790                                  nuclear chromatin    3.69020e-04   \n",
       "GO:2000059  negative regulation of ubiquitin-dependent pro...    3.97688e-04   \n",
       "...                                                       ...            ...   \n",
       "GO:0003180                         aortic valve morphogenesis    7.50736e-01   \n",
       "GO:0060968              obsolete regulation of gene silencing    7.63777e-01   \n",
       "GO:1901890      positive regulation of cell junction assembly    7.86975e-01   \n",
       "GO:1904659                    glucose transmembrane transport    8.99185e-01   \n",
       "GO:0031503            protein-containing complex localization    9.49119e-01   \n",
       "\n",
       "            hypergeom_p_value  binom_bonferroni  hypergeom_bonferroni  \\\n",
       "GO:0001664       2.72000e-306       3.05152e-01          1.84634e-302   \n",
       "GO:0030574       4.30000e-307       1.00000e+00          2.91884e-303   \n",
       "GO:1902202       3.00000e-308       1.00000e+00          2.03640e-304   \n",
       "GO:0000790       2.15000e-306       1.00000e+00          1.45942e-302   \n",
       "GO:2000059       4.70000e-307       1.00000e+00          3.19036e-303   \n",
       "...                       ...               ...                   ...   \n",
       "GO:0003180       3.20000e-307       1.00000e+00          2.17216e-303   \n",
       "GO:0060968       7.50000e-307       1.00000e+00          5.09100e-303   \n",
       "GO:1901890       1.02000e-306       1.00000e+00          6.92376e-303   \n",
       "GO:1904659       1.09000e-306       1.00000e+00          7.39892e-303   \n",
       "GO:0031503       2.37000e-306       1.00000e+00          1.60876e-302   \n",
       "\n",
       "            binom_fdr  hypergeom_fdr  \n",
       "GO:0001664        NaN   3.24089e-306  \n",
       "GO:0030574        NaN   9.26910e-307  \n",
       "GO:1902202        NaN   4.96199e-307  \n",
       "GO:0000790        NaN   2.66366e-306  \n",
       "GO:2000059        NaN   9.69420e-307  \n",
       "...               ...            ...  \n",
       "GO:0003180        NaN   8.12630e-307  \n",
       "GO:0060968        NaN   1.27180e-306  \n",
       "GO:1901890        NaN   1.53861e-306  \n",
       "GO:1904659        NaN   1.60776e-306  \n",
       "GO:0031503        NaN   2.87895e-306  \n",
       "\n",
       "[2202 rows x 7 columns]"
      ]
     },
     "execution_count": 36,
     "metadata": {},
     "output_type": "execute_result"
    }
   ],
   "source": [
    "enrichment_tot[enrichment_tot.index.isin(list(great_webserver[\"id\"]))]"
   ]
  },
  {
   "cell_type": "code",
   "execution_count": null,
   "metadata": {},
   "outputs": [],
   "source": [
    "before_pp = enrichment_tot.shape[0]\n",
    "enrichment_tot = enrichment_tot[enrichment_tot.index.isin(list(great_webserver[\"id\"]))]\n",
    "after_pp = enrichment_tot.shape[0]"
   ]
  },
  {
   "cell_type": "code",
   "execution_count": null,
   "metadata": {},
   "outputs": [],
   "source": [
    "great_webserver = great_webserver[great_webserver[\"id\"].isin(list(enrichment_tot.index))]\n",
    "great_webserver = great_webserver.sort_values(\"id\")"
   ]
  },
  {
   "cell_type": "code",
   "execution_count": null,
   "metadata": {},
   "outputs": [
    {
     "ename": "NameError",
     "evalue": "name 'enrichment_tot' is not defined",
     "output_type": "error",
     "traceback": [
      "\u001b[0;31m---------------------------------------------------------------------------\u001b[0m",
      "\u001b[0;31mNameError\u001b[0m                                 Traceback (most recent call last)",
      "\u001b[1;32m/home/icb/tom.mauger-birocheau/internship/greatpy/notebooks/test/10_MAX_hg38_new.ipynb Cell 18\u001b[0m in \u001b[0;36m<cell line: 5>\u001b[0;34m()\u001b[0m\n\u001b[1;32m      <a href='vscode-notebook-cell://ssh-remote%2Bicb-lisa/home/icb/tom.mauger-birocheau/internship/greatpy/notebooks/test/10_MAX_hg38_new.ipynb#ch0000017vscode-remote?line=2'>3</a>\u001b[0m binom_great \u001b[39m=\u001b[39m []\n\u001b[1;32m      <a href='vscode-notebook-cell://ssh-remote%2Bicb-lisa/home/icb/tom.mauger-birocheau/internship/greatpy/notebooks/test/10_MAX_hg38_new.ipynb#ch0000017vscode-remote?line=3'>4</a>\u001b[0m hyper_great \u001b[39m=\u001b[39m []\n\u001b[0;32m----> <a href='vscode-notebook-cell://ssh-remote%2Bicb-lisa/home/icb/tom.mauger-birocheau/internship/greatpy/notebooks/test/10_MAX_hg38_new.ipynb#ch0000017vscode-remote?line=4'>5</a>\u001b[0m \u001b[39mfor\u001b[39;00m i \u001b[39min\u001b[39;00m \u001b[39mrange\u001b[39m(enrichment_tot\u001b[39m.\u001b[39mshape[\u001b[39m0\u001b[39m]) : \n\u001b[1;32m      <a href='vscode-notebook-cell://ssh-remote%2Bicb-lisa/home/icb/tom.mauger-birocheau/internship/greatpy/notebooks/test/10_MAX_hg38_new.ipynb#ch0000017vscode-remote?line=5'>6</a>\u001b[0m     go_id \u001b[39m=\u001b[39m \u001b[39mlist\u001b[39m(enrichment_tot\u001b[39m.\u001b[39mindex)[i]\n\u001b[1;32m      <a href='vscode-notebook-cell://ssh-remote%2Bicb-lisa/home/icb/tom.mauger-birocheau/internship/greatpy/notebooks/test/10_MAX_hg38_new.ipynb#ch0000017vscode-remote?line=6'>7</a>\u001b[0m     curr_enrichment \u001b[39m=\u001b[39m enrichment_tot\u001b[39m.\u001b[39miloc[i]\n",
      "\u001b[0;31mNameError\u001b[0m: name 'enrichment_tot' is not defined"
     ]
    }
   ],
   "source": [
    "binom_greatpy = []\n",
    "hyper_greatpy = []\n",
    "binom_great = []\n",
    "hyper_great = []\n",
    "for i in range(enrichment_tot.shape[0]) : \n",
    "    go_id = list(enrichment_tot.index)[i]\n",
    "    curr_enrichment = enrichment_tot.iloc[i]\n",
    "    curr_great_webserver = great_webserver.loc[great_webserver[\"id\"]==go_id]\n",
    "    binom_greatpy.append(float(curr_enrichment[\"binom_p_value\"]))\n",
    "    hyper_greatpy.append(float(curr_enrichment[\"hypergeom_p_value\"]))\n",
    "    binom_great.append(float(curr_great_webserver[\"binom_p_value\"]))\n",
    "    hyper_great.append(float(curr_great_webserver[\"hyper_p_value\"]))\n",
    "binom = pd.DataFrame({\"binom_greatpy\":binom_greatpy,\"binom_great\":binom_great})\n",
    "hyper = pd.DataFrame({\"hyper_greatpy\":hyper_greatpy,\"hyper_great\":hyper_great})\n",
    "binom,hyper"
   ]
  },
  {
   "cell_type": "markdown",
   "metadata": {},
   "source": [
    "#### II.2.b Graphical"
   ]
  },
  {
   "cell_type": "code",
   "execution_count": null,
   "metadata": {},
   "outputs": [
    {
     "data": {
      "image/png": "[encoded data removed]",
      "text/plain": [
       "<Figure size 432x288 with 1 Axes>"
      ]
     },
     "metadata": {
      "needs_background": "light"
     },
     "output_type": "display_data"
    }
   ],
   "source": [
    "pl=great.pl.scatterplot(binom,colname_x=\"binom_greatpy\",colname_y=\"binom_great\")"
   ]
  },
  {
   "cell_type": "code",
   "execution_count": null,
   "metadata": {},
   "outputs": [
    {
     "data": {
      "image/png": "[encoded data removed]",
      "text/plain": [
       "<Figure size 432x288 with 1 Axes>"
      ]
     },
     "metadata": {
      "needs_background": "light"
     },
     "output_type": "display_data"
    }
   ],
   "source": [
    "great.pl.scatterplot(hyper,colname_x=\"hyper_greatpy\",colname_y=\"hyper_great\")"
   ]
  },
  {
   "cell_type": "markdown",
   "metadata": {},
   "source": [
    "#### II.2.c Statistics"
   ]
  },
  {
   "cell_type": "code",
   "execution_count": null,
   "metadata": {},
   "outputs": [],
   "source": [
    "def stat(binom_great_list_list, hyper_great_listpy_list,binom_great_list,hyper_great_list) : \n",
    "    if len(binom_great_list_list) >= 2 and len(hyper_great_listpy_list) >= 2 and len(binom_great_list) >= 2  and len(hyper_great_list) >= 2 : \n",
    "        return pd.DataFrame({\n",
    "            \"binom\": [cov(m = binom_great_list_list, y = binom_great_list)[0][1],pearsonr(binom_great_list_list,binom_great_list)[0]],\n",
    "            \"hyper\":[cov(m = hyper_great_listpy_list, y = hyper_great_list)[0][1],pearsonr(hyper_great_listpy_list,hyper_great_list)[0]]},\n",
    "            index=[\"correlation_coefficient\",\"pearson\"])\n",
    "    return False"
   ]
  },
  {
   "cell_type": "markdown",
   "metadata": {},
   "source": [
    "Issue is : NaN in hyper_fdr"
   ]
  },
  {
   "cell_type": "code",
   "execution_count": null,
   "metadata": {},
   "outputs": [
    {
     "ename": "NameError",
     "evalue": "name 'binom_greatpy' is not defined",
     "output_type": "error",
     "traceback": [
      "\u001b[0;31m---------------------------------------------------------------------------\u001b[0m",
      "\u001b[0;31mNameError\u001b[0m                                 Traceback (most recent call last)",
      "\u001b[1;32m/home/icb/tom.mauger-birocheau/internship/greatpy/notebooks/test/10_MAX_hg38_new.ipynb Cell 25\u001b[0m in \u001b[0;36m<cell line: 1>\u001b[0;34m()\u001b[0m\n\u001b[0;32m----> <a href='vscode-notebook-cell://ssh-remote%2Bicb-lisa/home/icb/tom.mauger-birocheau/internship/greatpy/notebooks/test/10_MAX_hg38_new.ipynb#ch0000024vscode-remote?line=0'>1</a>\u001b[0m stat(binom_greatpy, hyper_greatpy,binom_great,hyper_great)\n",
      "\u001b[0;31mNameError\u001b[0m: name 'binom_greatpy' is not defined"
     ]
    }
   ],
   "source": [
    "# stat(binom_greatpy, hyper_greatpy,binom_great,hyper_great)"
   ]
  },
  {
   "cell_type": "code",
   "execution_count": null,
   "metadata": {},
   "outputs": [
    {
     "name": "stdout",
     "output_type": "stream",
     "text": [
      "6788\n",
      "2202\n"
     ]
    }
   ],
   "source": [
    "print(before_pp)\n",
    "print(after_pp)"
   ]
  },
  {
   "cell_type": "markdown",
   "metadata": {},
   "source": [
    "We went from 2766 ontology terms in greatpy output to 248 ontology terms by selecting the GO identifiers present in both greatpy and great "
   ]
  },
  {
   "cell_type": "markdown",
   "metadata": {},
   "source": [
    "But when two ontology terms are selected they have the same binomial and hypergeometric probability value "
   ]
  },
  {
   "cell_type": "markdown",
   "metadata": {},
   "source": [
    "# How many associations are good or bad "
   ]
  },
  {
   "cell_type": "code",
   "execution_count": null,
   "metadata": {},
   "outputs": [
    {
     "name": "stdout",
     "output_type": "stream",
     "text": [
      "Number of gene association present in greatpy and great : 426\n",
      "Number of gene association prensent in great and not in greatpy 2\n",
      "Number of gene association prensent in greatpy and not in great 1\n"
     ]
    }
   ],
   "source": [
    "gene_asso_great = pd.read_csv(great_asso,sep=\"\\t\",comment=\"#\",names=[\"ontologies\",\"gene\"],index_col=False, dtype={\"ontologies\":\"object\",\"gene\":\"object\"},usecols=[\"gene\"])\n",
    "gene_asso_greatpy = great.tl.get_association(\n",
    "    test = pd.read_csv(test,sep=\"\\t\",comment=\"#\",usecols=[0,1,2],names=[\"Chr\", \"Chr_Start\", \"Chr_End\"],dtype={\"Chr\":\"object\", \"Chr_Start\":\"int64\", \"Chr_End\":\"int64\"}),\n",
    "    regdom= pd.read_csv(regdom,sep=\"\\t\",comment=\"#\",names=[\"Chr\", \"Chr_Start\", \"Chr_End\",\"Name\",\"tss\",\"Strand\"],dtype={\"Chr\":\"object\", \"Chr_Start\":\"int64\", \"Chr_End\":\"int64\",\"Name\":\"object\",\"tss\":\"int64\",\"Strand\":\"object\"}))\n",
    "in_in = gene_asso_great[gene_asso_great[\"gene\"].isin(gene_asso_greatpy)].shape[0]\n",
    "in_out = [i for i in list(gene_asso_great[\"gene\"]) if i not in gene_asso_greatpy]\n",
    "out_in = [i for i in gene_asso_greatpy if i not in list(gene_asso_great[\"gene\"])]\n",
    "\n",
    "print(f\"Number of gene association present in greatpy and great : {in_in}\")\n",
    "print(f\"Number of gene association prensent in great and not in greatpy {len(in_out)}\")\n",
    "print(f\"Number of gene association prensent in greatpy and not in great {len(out_in)}\")"
   ]
  },
  {
   "cell_type": "code",
   "execution_count": null,
   "metadata": {},
   "outputs": [
    {
     "data": {
      "text/plain": [
       "['IPO8', 'ARHGEF28']"
      ]
     },
     "execution_count": 33,
     "metadata": {},
     "output_type": "execute_result"
    }
   ],
   "source": [
    "in_out"
   ]
  }
 ],
 "metadata": {
  "kernelspec": {
   "display_name": "Python 3.9.12 ('base')",
   "language": "python",
   "name": "python3"
  },
  "language_info": {
   "codemirror_mode": {
    "name": "ipython",
    "version": 3
   },
   "file_extension": ".py",
   "mimetype": "text/x-python",
   "name": "python",
   "nbconvert_exporter": "python",
   "pygments_lexer": "ipython3",
   "version": "3.9.12"
  },
  "orig_nbformat": 4,
  "vscode": {
   "interpreter": {
    "hash": "dd3aa23b046397ccf7f1ffb7cb82646c26b15f0b12555a0fca8fb427d9fb147f"
   }
  }
 },
 "nbformat": 4,
 "nbformat_minor": 2
}
