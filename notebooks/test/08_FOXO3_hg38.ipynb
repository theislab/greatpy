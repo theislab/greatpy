{
 "cells": [
  {
   "cell_type": "markdown",
   "metadata": {},
   "source": [
    "# Computation of annotation enrichment in a genetic set "
   ]
  },
  {
   "cell_type": "markdown",
   "metadata": {},
   "source": [
    "This code excerpt shows how to use the annotation enrichment computation function in a genetic set.\n",
    "The funciton return a dataframe of binom and hypergeometric p-value (<= 0.05) and for each p-value a fdr correction with alpha = 0.05.   "
   ]
  },
  {
   "cell_type": "markdown",
   "metadata": {},
   "source": [
    "In the second part of the code we will compare the results obtained with the Great webserver and between the binomial and hypergeometric probability"
   ]
  },
  {
   "cell_type": "code",
   "execution_count": 1,
   "metadata": {},
   "outputs": [],
   "source": [
    "%load_ext autoreload\n",
    "%autoreload 2"
   ]
  },
  {
   "cell_type": "code",
   "execution_count": 1,
   "metadata": {},
   "outputs": [],
   "source": [
    "import greatpy as great\n",
    "import pandas as pd\n",
    "from math import inf\n",
    "from numpy import log,nan, int64,cov,corrcoef\n",
    "from scipy.stats import pearsonr\n",
    "from seaborn import scatterplot as sp\n",
    "\n",
    "import warnings\n",
    "warnings.filterwarnings('ignore')"
   ]
  },
  {
   "cell_type": "code",
   "execution_count": 3,
   "metadata": {},
   "outputs": [],
   "source": [
    "test = \"../../data/test/08_FOXO3.bed\"\n",
    "regdom = \"../../data/human/regulatory_domain.bed\"\n",
    "great_out = \"../../data/test/08_FOXO3_output_great_webserver.tsv\"\n",
    "great_asso = \"../../data/test/08_FOXO3_gene_asso.tsv\"\n",
    "size = \"../../data/human/chr_size.bed\""
   ]
  },
  {
   "cell_type": "markdown",
   "metadata": {},
   "source": [
    "## I Compute the p-values"
   ]
  },
  {
   "cell_type": "code",
   "execution_count": 4,
   "metadata": {},
   "outputs": [
    {
     "data": {
      "text/html": [
       "<div>\n",
       "<style scoped>\n",
       "    .dataframe tbody tr th:only-of-type {\n",
       "        vertical-align: middle;\n",
       "    }\n",
       "\n",
       "    .dataframe tbody tr th {\n",
       "        vertical-align: top;\n",
       "    }\n",
       "\n",
       "    .dataframe thead th {\n",
       "        text-align: right;\n",
       "    }\n",
       "</style>\n",
       "<table border=\"1\" class=\"dataframe\">\n",
       "  <thead>\n",
       "    <tr style=\"text-align: right;\">\n",
       "      <th></th>\n",
       "      <th>go_term</th>\n",
       "      <th>binom_p_value</th>\n",
       "      <th>hypergeom_p_value</th>\n",
       "      <th>binom_bonferroni</th>\n",
       "      <th>hypergeom_bonferroni</th>\n",
       "      <th>binom_fdr</th>\n",
       "      <th>hypergeom_fdr</th>\n",
       "    </tr>\n",
       "  </thead>\n",
       "  <tbody>\n",
       "    <tr>\n",
       "      <th>GO:1904283</th>\n",
       "      <td>negative regulation of antigen processing and ...</td>\n",
       "      <td>1.07016e-39</td>\n",
       "      <td>1.00000e-308</td>\n",
       "      <td>3.01037e-36</td>\n",
       "      <td>2.81300e-305</td>\n",
       "      <td>1.00346e-36</td>\n",
       "      <td>2.46754e-307</td>\n",
       "    </tr>\n",
       "    <tr>\n",
       "      <th>GO:0002626</th>\n",
       "      <td>negative regulation of T cell antigen processi...</td>\n",
       "      <td>1.07016e-39</td>\n",
       "      <td>1.00000e-308</td>\n",
       "      <td>3.01037e-36</td>\n",
       "      <td>2.81300e-305</td>\n",
       "      <td>1.00346e-36</td>\n",
       "      <td>2.46754e-307</td>\n",
       "    </tr>\n",
       "    <tr>\n",
       "      <th>GO:0010106</th>\n",
       "      <td>cellular response to iron ion starvation</td>\n",
       "      <td>1.07016e-39</td>\n",
       "      <td>1.00000e-308</td>\n",
       "      <td>3.01037e-36</td>\n",
       "      <td>2.81300e-305</td>\n",
       "      <td>1.00346e-36</td>\n",
       "      <td>2.46754e-307</td>\n",
       "    </tr>\n",
       "    <tr>\n",
       "      <th>GO:1900390</th>\n",
       "      <td>regulation of iron ion import</td>\n",
       "      <td>2.66211e-39</td>\n",
       "      <td>3.00000e-308</td>\n",
       "      <td>7.48852e-36</td>\n",
       "      <td>8.43900e-305</td>\n",
       "      <td>1.87213e-36</td>\n",
       "      <td>2.51161e-307</td>\n",
       "    </tr>\n",
       "    <tr>\n",
       "      <th>GO:1904434</th>\n",
       "      <td>positive regulation of ferrous iron binding</td>\n",
       "      <td>7.91949e-39</td>\n",
       "      <td>2.00000e-308</td>\n",
       "      <td>2.22775e-35</td>\n",
       "      <td>5.62600e-305</td>\n",
       "      <td>3.71292e-36</td>\n",
       "      <td>2.51161e-307</td>\n",
       "    </tr>\n",
       "    <tr>\n",
       "      <th>...</th>\n",
       "      <td>...</td>\n",
       "      <td>...</td>\n",
       "      <td>...</td>\n",
       "      <td>...</td>\n",
       "      <td>...</td>\n",
       "      <td>...</td>\n",
       "      <td>...</td>\n",
       "    </tr>\n",
       "    <tr>\n",
       "      <th>GO:0032331</th>\n",
       "      <td>negative regulation of chondrocyte differentia...</td>\n",
       "      <td>1</td>\n",
       "      <td>1.80000e-307</td>\n",
       "      <td>1</td>\n",
       "      <td>5.06340e-304</td>\n",
       "      <td>1.00000e+00</td>\n",
       "      <td>4.03137e-307</td>\n",
       "    </tr>\n",
       "    <tr>\n",
       "      <th>GO:0035116</th>\n",
       "      <td>embryonic hindlimb morphogenesis</td>\n",
       "      <td>1</td>\n",
       "      <td>2.90000e-307</td>\n",
       "      <td>1</td>\n",
       "      <td>8.15770e-304</td>\n",
       "      <td>1.00000e+00</td>\n",
       "      <td>5.11134e-307</td>\n",
       "    </tr>\n",
       "    <tr>\n",
       "      <th>GO:0045666</th>\n",
       "      <td>positive regulation of neuron differentiation</td>\n",
       "      <td>1</td>\n",
       "      <td>8.50000e-307</td>\n",
       "      <td>1</td>\n",
       "      <td>2.39105e-303</td>\n",
       "      <td>1.00000e+00</td>\n",
       "      <td>1.03464e-306</td>\n",
       "    </tr>\n",
       "    <tr>\n",
       "      <th>GO:0030122</th>\n",
       "      <td>AP-2 adaptor complex</td>\n",
       "      <td>1</td>\n",
       "      <td>2.00000e-307</td>\n",
       "      <td>1</td>\n",
       "      <td>5.62600e-304</td>\n",
       "      <td>1.00000e+00</td>\n",
       "      <td>4.21108e-307</td>\n",
       "    </tr>\n",
       "    <tr>\n",
       "      <th>GO:0035725</th>\n",
       "      <td>sodium ion transmembrane transport</td>\n",
       "      <td>1</td>\n",
       "      <td>9.20000e-307</td>\n",
       "      <td>1</td>\n",
       "      <td>2.58796e-303</td>\n",
       "      <td>1.00000e+00</td>\n",
       "      <td>1.10032e-306</td>\n",
       "    </tr>\n",
       "  </tbody>\n",
       "</table>\n",
       "<p>2813 rows × 7 columns</p>\n",
       "</div>"
      ],
      "text/plain": [
       "                                                      go_term binom_p_value  \\\n",
       "GO:1904283  negative regulation of antigen processing and ...   1.07016e-39   \n",
       "GO:0002626  negative regulation of T cell antigen processi...   1.07016e-39   \n",
       "GO:0010106           cellular response to iron ion starvation   1.07016e-39   \n",
       "GO:1900390                      regulation of iron ion import   2.66211e-39   \n",
       "GO:1904434        positive regulation of ferrous iron binding   7.91949e-39   \n",
       "...                                                       ...           ...   \n",
       "GO:0032331  negative regulation of chondrocyte differentia...             1   \n",
       "GO:0035116                   embryonic hindlimb morphogenesis             1   \n",
       "GO:0045666      positive regulation of neuron differentiation             1   \n",
       "GO:0030122                               AP-2 adaptor complex             1   \n",
       "GO:0035725                 sodium ion transmembrane transport             1   \n",
       "\n",
       "           hypergeom_p_value binom_bonferroni hypergeom_bonferroni  \\\n",
       "GO:1904283      1.00000e-308      3.01037e-36         2.81300e-305   \n",
       "GO:0002626      1.00000e-308      3.01037e-36         2.81300e-305   \n",
       "GO:0010106      1.00000e-308      3.01037e-36         2.81300e-305   \n",
       "GO:1900390      3.00000e-308      7.48852e-36         8.43900e-305   \n",
       "GO:1904434      2.00000e-308      2.22775e-35         5.62600e-305   \n",
       "...                      ...              ...                  ...   \n",
       "GO:0032331      1.80000e-307                1         5.06340e-304   \n",
       "GO:0035116      2.90000e-307                1         8.15770e-304   \n",
       "GO:0045666      8.50000e-307                1         2.39105e-303   \n",
       "GO:0030122      2.00000e-307                1         5.62600e-304   \n",
       "GO:0035725      9.20000e-307                1         2.58796e-303   \n",
       "\n",
       "              binom_fdr hypergeom_fdr  \n",
       "GO:1904283  1.00346e-36  2.46754e-307  \n",
       "GO:0002626  1.00346e-36  2.46754e-307  \n",
       "GO:0010106  1.00346e-36  2.46754e-307  \n",
       "GO:1900390  1.87213e-36  2.51161e-307  \n",
       "GO:1904434  3.71292e-36  2.51161e-307  \n",
       "...                 ...           ...  \n",
       "GO:0032331  1.00000e+00  4.03137e-307  \n",
       "GO:0035116  1.00000e+00  5.11134e-307  \n",
       "GO:0045666  1.00000e+00  1.03464e-306  \n",
       "GO:0030122  1.00000e+00  4.21108e-307  \n",
       "GO:0035725  1.00000e+00  1.10032e-306  \n",
       "\n",
       "[2813 rows x 7 columns]"
      ]
     },
     "execution_count": 4,
     "metadata": {},
     "output_type": "execute_result"
    }
   ],
   "source": [
    "enrichment_tot = great.tl.GREAT.enrichment(\n",
    "    test_file=test,\n",
    "    regdom_file=regdom,\n",
    "    chr_size_file=size,\n",
    "    annotation_file=\"../../data/human/ontologies.csv\",\n",
    "    binom=True,\n",
    "    hypergeom=True,\n",
    "    )\n",
    "great.tl.GREAT.set_bonferroni(enrichment_tot,0.05)\n",
    "great.tl.GREAT.set_fdr(enrichment_tot,0.05)"
   ]
  },
  {
   "cell_type": "markdown",
   "metadata": {},
   "source": [
    "## II Compare to GREAT webserver  "
   ]
  },
  {
   "cell_type": "markdown",
   "metadata": {},
   "source": [
    "### II.1 Import the data"
   ]
  },
  {
   "cell_type": "code",
   "execution_count": 5,
   "metadata": {},
   "outputs": [],
   "source": [
    "great_webserver = pd.read_csv(great_out,sep=\"\\t\",comment=\"#\",\n",
    "                    names=[\"ontologie\",\"term_name\",\"ID\",\"binom_p_value\",\"binom_bonferroni\",\"binom_fdr\",\"hyper_p_value\",\"hyper_bonferroni\",\"hyper_fdr\"],index_col=False,\n",
    "                    dtype={\"term_name\":\"object\", \"ID\":\"object\",\"binom_p_value\":\"float64\", \"binom_bonferroni\":\"float64\", \"binom_fdr\":\"float64\", \"hyper_p_value\":\"float64\", \"hyper_bonferroni\":\"float64\", \"hyper_fdr\":\"float64\"})\n",
    "great_webserver.rename(columns={\"ID\":\"id\"},inplace=True)\n",
    "del great_webserver[\"ontologie\"]\n",
    "del great_webserver[\"term_name\"]"
   ]
  },
  {
   "cell_type": "code",
   "execution_count": 6,
   "metadata": {},
   "outputs": [
    {
     "data": {
      "text/html": [
       "<div>\n",
       "<style scoped>\n",
       "    .dataframe tbody tr th:only-of-type {\n",
       "        vertical-align: middle;\n",
       "    }\n",
       "\n",
       "    .dataframe tbody tr th {\n",
       "        vertical-align: top;\n",
       "    }\n",
       "\n",
       "    .dataframe thead th {\n",
       "        text-align: right;\n",
       "    }\n",
       "</style>\n",
       "<table border=\"1\" class=\"dataframe\">\n",
       "  <thead>\n",
       "    <tr style=\"text-align: right;\">\n",
       "      <th></th>\n",
       "      <th>id</th>\n",
       "      <th>binom_p_value</th>\n",
       "      <th>binom_bonferroni</th>\n",
       "      <th>binom_fdr</th>\n",
       "      <th>hyper_p_value</th>\n",
       "      <th>hyper_bonferroni</th>\n",
       "      <th>hyper_fdr</th>\n",
       "    </tr>\n",
       "  </thead>\n",
       "  <tbody>\n",
       "    <tr>\n",
       "      <th>0</th>\n",
       "      <td>GO:0006342</td>\n",
       "      <td>3.53176e-39</td>\n",
       "      <td>4.64744e-35</td>\n",
       "      <td>4.64744e-35</td>\n",
       "      <td>1.08529e-21</td>\n",
       "      <td>1.42813e-17</td>\n",
       "      <td>3.57033e-18</td>\n",
       "    </tr>\n",
       "    <tr>\n",
       "      <th>1</th>\n",
       "      <td>GO:0045814</td>\n",
       "      <td>5.28757e-36</td>\n",
       "      <td>6.95791e-32</td>\n",
       "      <td>3.47896e-32</td>\n",
       "      <td>3.96693e-22</td>\n",
       "      <td>5.22008e-18</td>\n",
       "      <td>1.74003e-18</td>\n",
       "    </tr>\n",
       "    <tr>\n",
       "      <th>2</th>\n",
       "      <td>GO:0006335</td>\n",
       "      <td>1.77731e-35</td>\n",
       "      <td>2.33877e-31</td>\n",
       "      <td>7.79589e-32</td>\n",
       "      <td>1.13976e-12</td>\n",
       "      <td>1.49981e-08</td>\n",
       "      <td>7.89373e-10</td>\n",
       "    </tr>\n",
       "    <tr>\n",
       "      <th>3</th>\n",
       "      <td>GO:0000183</td>\n",
       "      <td>1.56573e-32</td>\n",
       "      <td>2.06034e-28</td>\n",
       "      <td>5.15085e-29</td>\n",
       "      <td>2.27289e-13</td>\n",
       "      <td>2.99089e-09</td>\n",
       "      <td>1.66161e-10</td>\n",
       "    </tr>\n",
       "    <tr>\n",
       "      <th>4</th>\n",
       "      <td>GO:0006334</td>\n",
       "      <td>3.80738e-31</td>\n",
       "      <td>5.01014e-27</td>\n",
       "      <td>1.00203e-27</td>\n",
       "      <td>1.03175e-22</td>\n",
       "      <td>1.35768e-18</td>\n",
       "      <td>1.35768e-18</td>\n",
       "    </tr>\n",
       "    <tr>\n",
       "      <th>...</th>\n",
       "      <td>...</td>\n",
       "      <td>...</td>\n",
       "      <td>...</td>\n",
       "      <td>...</td>\n",
       "      <td>...</td>\n",
       "      <td>...</td>\n",
       "      <td>...</td>\n",
       "    </tr>\n",
       "    <tr>\n",
       "      <th>625</th>\n",
       "      <td>GO:0043273</td>\n",
       "      <td>3.62685e-02</td>\n",
       "      <td>1.00000e+00</td>\n",
       "      <td>7.43328e-01</td>\n",
       "      <td>2.13027e-02</td>\n",
       "      <td>1.00000e+00</td>\n",
       "      <td>1.00000e+00</td>\n",
       "    </tr>\n",
       "    <tr>\n",
       "      <th>626</th>\n",
       "      <td>GO:0004129</td>\n",
       "      <td>4.17855e-02</td>\n",
       "      <td>1.00000e+00</td>\n",
       "      <td>8.24386e-01</td>\n",
       "      <td>3.16072e-03</td>\n",
       "      <td>1.00000e+00</td>\n",
       "      <td>3.17728e-01</td>\n",
       "    </tr>\n",
       "    <tr>\n",
       "      <th>627</th>\n",
       "      <td>GO:0016675</td>\n",
       "      <td>4.33918e-02</td>\n",
       "      <td>1.00000e+00</td>\n",
       "      <td>8.44240e-01</td>\n",
       "      <td>3.58653e-03</td>\n",
       "      <td>1.00000e+00</td>\n",
       "      <td>3.52147e-01</td>\n",
       "    </tr>\n",
       "    <tr>\n",
       "      <th>628</th>\n",
       "      <td>GO:0030544</td>\n",
       "      <td>4.51992e-02</td>\n",
       "      <td>1.00000e+00</td>\n",
       "      <td>8.75372e-01</td>\n",
       "      <td>4.37207e-02</td>\n",
       "      <td>1.00000e+00</td>\n",
       "      <td>1.00000e+00</td>\n",
       "    </tr>\n",
       "    <tr>\n",
       "      <th>629</th>\n",
       "      <td>GO:0043024</td>\n",
       "      <td>4.79640e-02</td>\n",
       "      <td>1.00000e+00</td>\n",
       "      <td>9.04035e-01</td>\n",
       "      <td>3.47853e-02</td>\n",
       "      <td>1.00000e+00</td>\n",
       "      <td>1.00000e+00</td>\n",
       "    </tr>\n",
       "  </tbody>\n",
       "</table>\n",
       "<p>630 rows × 7 columns</p>\n",
       "</div>"
      ],
      "text/plain": [
       "             id  binom_p_value  binom_bonferroni    binom_fdr  hyper_p_value  \\\n",
       "0    GO:0006342    3.53176e-39       4.64744e-35  4.64744e-35    1.08529e-21   \n",
       "1    GO:0045814    5.28757e-36       6.95791e-32  3.47896e-32    3.96693e-22   \n",
       "2    GO:0006335    1.77731e-35       2.33877e-31  7.79589e-32    1.13976e-12   \n",
       "3    GO:0000183    1.56573e-32       2.06034e-28  5.15085e-29    2.27289e-13   \n",
       "4    GO:0006334    3.80738e-31       5.01014e-27  1.00203e-27    1.03175e-22   \n",
       "..          ...            ...               ...          ...            ...   \n",
       "625  GO:0043273    3.62685e-02       1.00000e+00  7.43328e-01    2.13027e-02   \n",
       "626  GO:0004129    4.17855e-02       1.00000e+00  8.24386e-01    3.16072e-03   \n",
       "627  GO:0016675    4.33918e-02       1.00000e+00  8.44240e-01    3.58653e-03   \n",
       "628  GO:0030544    4.51992e-02       1.00000e+00  8.75372e-01    4.37207e-02   \n",
       "629  GO:0043024    4.79640e-02       1.00000e+00  9.04035e-01    3.47853e-02   \n",
       "\n",
       "     hyper_bonferroni    hyper_fdr  \n",
       "0         1.42813e-17  3.57033e-18  \n",
       "1         5.22008e-18  1.74003e-18  \n",
       "2         1.49981e-08  7.89373e-10  \n",
       "3         2.99089e-09  1.66161e-10  \n",
       "4         1.35768e-18  1.35768e-18  \n",
       "..                ...          ...  \n",
       "625       1.00000e+00  1.00000e+00  \n",
       "626       1.00000e+00  3.17728e-01  \n",
       "627       1.00000e+00  3.52147e-01  \n",
       "628       1.00000e+00  1.00000e+00  \n",
       "629       1.00000e+00  1.00000e+00  \n",
       "\n",
       "[630 rows x 7 columns]"
      ]
     },
     "execution_count": 6,
     "metadata": {},
     "output_type": "execute_result"
    }
   ],
   "source": [
    "great_webserver"
   ]
  },
  {
   "cell_type": "markdown",
   "metadata": {},
   "source": [
    "### II.2 Compare the results between greatpy and great "
   ]
  },
  {
   "cell_type": "markdown",
   "metadata": {},
   "source": [
    "#### II.2.1 Preprocessing"
   ]
  },
  {
   "cell_type": "code",
   "execution_count": 7,
   "metadata": {},
   "outputs": [],
   "source": [
    "before_pp = enrichment_tot.shape[0]\n",
    "enrichment_tot = enrichment_tot[enrichment_tot.index.isin(list(great_webserver[\"id\"]))]\n",
    "after_pp = enrichment_tot.shape[0]"
   ]
  },
  {
   "cell_type": "code",
   "execution_count": 8,
   "metadata": {},
   "outputs": [],
   "source": [
    "great_webserver = great_webserver[great_webserver[\"id\"].isin(list(enrichment_tot.index))]\n",
    "great_webserver = great_webserver.sort_values(\"id\")"
   ]
  },
  {
   "cell_type": "code",
   "execution_count": 9,
   "metadata": {},
   "outputs": [],
   "source": [
    "binom_greatpy = hyper_greatpy = binom_great = hyper_great = []\n",
    "for i in range(enrichment_tot.shape[0]) : \n",
    "    go_id = list(enrichment_tot.index)[i]\n",
    "    curr_enrichment = enrichment_tot.iloc[i]\n",
    "    curr_great_webserver = great_webserver.loc[great_webserver[\"id\"]==go_id]\n",
    "    binom_greatpy.append(float(curr_enrichment[\"binom_p_value\"]))\n",
    "    hyper_greatpy.append(float(curr_enrichment[\"hypergeom_p_value\"]))\n",
    "    binom_great.append(float(curr_great_webserver[\"binom_p_value\"]))\n",
    "    hyper_great.append(float(curr_great_webserver[\"hyper_p_value\"]))\n",
    "binom = pd.DataFrame({\"binom_greatpy\":binom_greatpy,\"binom_great\":binom_great})\n",
    "hyper = pd.DataFrame({\"hyper_greatpy\":hyper_greatpy,\"hyper_great\":hyper_great})"
   ]
  },
  {
   "cell_type": "markdown",
   "metadata": {},
   "source": [
    "#### II.2.b Graphical"
   ]
  },
  {
   "cell_type": "code",
   "execution_count": 10,
   "metadata": {},
   "outputs": [
    {
     "data": {
      "image/png": "[encoded data removed]",
      "text/plain": [
       "<Figure size 432x288 with 1 Axes>"
      ]
     },
     "metadata": {
      "needs_background": "light"
     },
     "output_type": "display_data"
    }
   ],
   "source": [
    "pl=great.pl.scatterplot(binom,colname_x=\"binom_greatpy\",colname_y=\"binom_great\")"
   ]
  },
  {
   "cell_type": "code",
   "execution_count": 11,
   "metadata": {},
   "outputs": [
    {
     "data": {
      "image/png": "[encoded data removed]",
      "text/plain": [
       "<Figure size 432x288 with 1 Axes>"
      ]
     },
     "metadata": {
      "needs_background": "light"
     },
     "output_type": "display_data"
    }
   ],
   "source": [
    "great.pl.scatterplot(hyper,colname_x=\"hyper_greatpy\",colname_y=\"hyper_great\")"
   ]
  },
  {
   "cell_type": "markdown",
   "metadata": {},
   "source": [
    "#### II.2.c Statistics"
   ]
  },
  {
   "cell_type": "code",
   "execution_count": 12,
   "metadata": {},
   "outputs": [],
   "source": [
    "def stat(binom_great_list_list, hyper_great_listpy_list,binom_great_list,hyper_great_list) : \n",
    "    if len(binom_great_list_list) >= 2 and len(hyper_great_listpy_list) >= 2 and len(binom_great_list) >= 2  and len(hyper_great_list) >= 2 : \n",
    "        return pd.DataFrame({\n",
    "            \"binom\": [cov(m = binom_great_list_list, y = binom_great_list)[0][1],pearsonr(binom_great_list_list,binom_great_list)[0]],\n",
    "            \"hyper\":[cov(m = hyper_great_listpy_list, y = hyper_great_list)[0][1],pearsonr(hyper_great_listpy_list,hyper_great_list)[0]]},\n",
    "            index=[\"correlation_coefficient\",\"pearson\"])\n",
    "    return False"
   ]
  },
  {
   "cell_type": "markdown",
   "metadata": {},
   "source": [
    "Issue is : NaN in hyper_fdr"
   ]
  },
  {
   "cell_type": "code",
   "execution_count": 13,
   "metadata": {},
   "outputs": [],
   "source": [
    "# stat(binom_greatpy, hyper_greatpy,binom_great,hyper_great)"
   ]
  },
  {
   "cell_type": "code",
   "execution_count": 14,
   "metadata": {},
   "outputs": [
    {
     "name": "stdout",
     "output_type": "stream",
     "text": [
      "2813\n",
      "335\n"
     ]
    }
   ],
   "source": [
    "print(before_pp)\n",
    "print(after_pp)"
   ]
  },
  {
   "cell_type": "markdown",
   "metadata": {},
   "source": [
    "We went from 2813 ontology terms in greatpy output to 335 ontology terms by selecting the GO identifiers present in both greatpy and great "
   ]
  },
  {
   "cell_type": "markdown",
   "metadata": {},
   "source": [
    "But when two ontology terms are selected they have the same binomial and hypergeometric probability value "
   ]
  },
  {
   "cell_type": "markdown",
   "metadata": {},
   "source": [
    "# How many associations are good or bad "
   ]
  },
  {
   "cell_type": "code",
   "execution_count": 5,
   "metadata": {},
   "outputs": [
    {
     "name": "stdout",
     "output_type": "stream",
     "text": [
      "Number of gene association present in greatpy and great : 208\n",
      "Number of gene association prensent in great and not in greatpy 145\n",
      "Number of gene association prensent in greatpy and not in great 272\n"
     ]
    }
   ],
   "source": [
    "gene_asso_great = pd.read_csv(great_asso,sep=\"\\t\",comment=\"#\",names=[\"ontologies\",\"gene\"],index_col=False, dtype={\"ontologies\":\"object\",\"gene\":\"object\"},usecols=[\"gene\"])\n",
    "gene_asso_greatpy = great.tl.get_association(\n",
    "    test = pd.read_csv(test,sep=\"\\t\",comment=\"#\",usecols=[0,1,2],names=[\"Chr\", \"Chr_Start\", \"Chr_End\"],dtype={\"Chr\":\"object\", \"Chr_Start\":\"int64\", \"Chr_End\":\"int64\"}),\n",
    "    regdom= pd.read_csv(regdom,sep=\"\\t\",comment=\"#\",names=[\"Chr\", \"Chr_Start\", \"Chr_End\",\"Name\",\"tss\",\"Strand\"],dtype={\"Chr\":\"object\", \"Chr_Start\":\"int64\", \"Chr_End\":\"int64\",\"Name\":\"object\",\"tss\":\"int64\",\"Strand\":\"object\"}))\n",
    "in_in = gene_asso_great[gene_asso_great[\"gene\"].isin(gene_asso_greatpy)].shape[0]\n",
    "in_out = [i for i in list(gene_asso_great[\"gene\"]) if i not in gene_asso_greatpy]\n",
    "out_in = [i for i in gene_asso_greatpy if i not in list(gene_asso_great[\"gene\"])]\n",
    "\n",
    "print(f\"Number of gene association present in greatpy and great : {in_in}\")\n",
    "print(f\"Number of gene association prensent in great and not in greatpy {len(in_out)}\")\n",
    "print(f\"Number of gene association prensent in greatpy and not in great {len(out_in)}\")"
   ]
  }
 ],
 "metadata": {
  "kernelspec": {
   "display_name": "Python 3.9.12 ('base')",
   "language": "python",
   "name": "python3"
  },
  "language_info": {
   "codemirror_mode": {
    "name": "ipython",
    "version": 3
   },
   "file_extension": ".py",
   "mimetype": "text/x-python",
   "name": "python",
   "nbconvert_exporter": "python",
   "pygments_lexer": "ipython3",
   "version": "3.9.12"
  },
  "orig_nbformat": 4,
  "vscode": {
   "interpreter": {
    "hash": "dd3aa23b046397ccf7f1ffb7cb82646c26b15f0b12555a0fca8fb427d9fb147f"
   }
  }
 },
 "nbformat": 4,
 "nbformat_minor": 2
}
