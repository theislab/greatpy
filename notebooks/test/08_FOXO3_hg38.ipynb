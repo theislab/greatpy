{
 "cells": [
  {
   "cell_type": "code",
   "execution_count": 3,
   "metadata": {},
   "outputs": [
    {
     "name": "stdout",
     "output_type": "stream",
     "text": [
      "The autoreload extension is already loaded. To reload it, use:\n",
      "  %reload_ext autoreload\n"
     ]
    }
   ],
   "source": [
    "%load_ext autoreload\n",
    "%autoreload 2"
   ]
  },
  {
   "cell_type": "code",
   "execution_count": 9,
   "metadata": {},
   "outputs": [],
   "source": [
    "import greatpy as great\n",
    "import bindome as bd \n",
    "import warnings\n",
    "warnings.filterwarnings('ignore')"
   ]
  },
  {
   "cell_type": "code",
   "execution_count": 11,
   "metadata": {},
   "outputs": [],
   "source": [
    "annpath = '/storage/groups/ml01/datasets/annotations'\n",
    "bd.bindome.constants.ANNOTATIONS_DIRECTORY = annpath\n"
   ]
  },
  {
   "cell_type": "code",
   "execution_count": 15,
   "metadata": {},
   "outputs": [
    {
     "ename": "AttributeError",
     "evalue": "module 'bindome' has no attribute 'constants'",
     "output_type": "error",
     "traceback": [
      "\u001b[0;31m---------------------------------------------------------------------------\u001b[0m",
      "\u001b[0;31mAttributeError\u001b[0m                            Traceback (most recent call last)",
      "\u001b[1;32m/home/icb/tom.mauger-birocheau/internship/greatpy/notebooks/test/08_FOXO3_hg38.ipynb Cell 4'\u001b[0m in \u001b[0;36m<cell line: 1>\u001b[0;34m()\u001b[0m\n\u001b[0;32m----> <a href='vscode-notebook-cell://ssh-remote%2Bicb-lisa/home/icb/tom.mauger-birocheau/internship/greatpy/notebooks/test/08_FOXO3_hg38.ipynb#ch0000004vscode-remote?line=0'>1</a>\u001b[0m df1 \u001b[39m=\u001b[39m bd\u001b[39m.\u001b[39;49mbindome\u001b[39m.\u001b[39;49mdatasets\u001b[39m.\u001b[39;49mREMAP2020\u001b[39m.\u001b[39;49mget_remap_peaks(\u001b[39m'\u001b[39;49m\u001b[39mSRF\u001b[39;49m\u001b[39m'\u001b[39;49m)\n\u001b[1;32m      <a href='vscode-notebook-cell://ssh-remote%2Bicb-lisa/home/icb/tom.mauger-birocheau/internship/greatpy/notebooks/test/08_FOXO3_hg38.ipynb#ch0000004vscode-remote?line=1'>2</a>\u001b[0m df1\n",
      "File \u001b[0;32m~/miniconda3/lib/python3.9/site-packages/bindome/datasets/remap2020.py:21\u001b[0m, in \u001b[0;36mREMAP2020.get_remap_peaks\u001b[0;34m(tf, genome, check, summit_extend, remove_non_canonical_chromosomes)\u001b[0m\n\u001b[1;32m     19\u001b[0m p \u001b[39m=\u001b[39m \u001b[39mNone\u001b[39;00m\n\u001b[1;32m     20\u001b[0m \u001b[39mif\u001b[39;00m tf \u001b[39mis\u001b[39;00m \u001b[39mnot\u001b[39;00m \u001b[39mNone\u001b[39;00m:\n\u001b[0;32m---> 21\u001b[0m     p \u001b[39m=\u001b[39m REMAP2020\u001b[39m.\u001b[39;49mget_remap_peaks_path(tf)\n\u001b[1;32m     22\u001b[0m \u001b[39melse\u001b[39;00m:\n\u001b[1;32m     23\u001b[0m     p \u001b[39m=\u001b[39m \u001b[39m'\u001b[39m\u001b[39m/g/scb2/zaugg/rio/data/remap2/ReMap2_nrPeaks_hg19.bed.gz\u001b[39m\u001b[39m'\u001b[39m\n",
      "File \u001b[0;32m~/miniconda3/lib/python3.9/site-packages/bindome/datasets/remap2020.py:196\u001b[0m, in \u001b[0;36mREMAP2020.get_remap_peaks_path\u001b[0;34m(tf_name)\u001b[0m\n\u001b[1;32m    192\u001b[0m \u001b[39m@staticmethod\u001b[39m\n\u001b[1;32m    193\u001b[0m \u001b[39mdef\u001b[39;00m \u001b[39mget_remap_peaks_path\u001b[39m(tf_name):\n\u001b[1;32m    194\u001b[0m     \u001b[39m#tf_id = tf_name.lower()\u001b[39;00m\n\u001b[0;32m--> 196\u001b[0m     basedir \u001b[39m=\u001b[39m join(bd\u001b[39m.\u001b[39;49mconstants\u001b[39m.\u001b[39mANNOTATIONS_DIRECTORY, \u001b[39m'\u001b[39m\u001b[39mremap/remap3/nrPeaks\u001b[39m\u001b[39m'\u001b[39m)\n\u001b[1;32m    198\u001b[0m     \u001b[39mif\u001b[39;00m \u001b[39mnot\u001b[39;00m exists(basedir):\n\u001b[1;32m    199\u001b[0m         \u001b[39mprint\u001b[39m(\u001b[39m'\u001b[39m\u001b[39mplease include this data directory to run loading of peaks successfully\u001b[39m\u001b[39m'\u001b[39m)\n",
      "\u001b[0;31mAttributeError\u001b[0m: module 'bindome' has no attribute 'constants'"
     ]
    }
   ],
   "source": [
    "df1 = bd.bindome.datasets.REMAP2020.get_remap_peaks('SRF')\n",
    "df1"
   ]
  },
  {
   "cell_type": "code",
   "execution_count": null,
   "metadata": {},
   "outputs": [],
   "source": [
    "import pandas as pd\n",
    "name = pd.unique(list(df1[3]))\n",
    "for n in name : \n",
    "    if df1[df1[3]==n].shape[0] > 450 and df1[df1[3]==n].shape[0] < 2000 : \n",
    "        print(df1[df1[3]==n].shape[0],n)\n"
   ]
  }
 ],
 "metadata": {
  "kernelspec": {
   "display_name": "Python 3.9.12 ('base')",
   "language": "python",
   "name": "python3"
  },
  "language_info": {
   "codemirror_mode": {
    "name": "ipython",
    "version": 3
   },
   "file_extension": ".py",
   "mimetype": "text/x-python",
   "name": "python",
   "nbconvert_exporter": "python",
   "pygments_lexer": "ipython3",
   "version": "3.9.12"
  },
  "orig_nbformat": 4,
  "vscode": {
   "interpreter": {
    "hash": "dd3aa23b046397ccf7f1ffb7cb82646c26b15f0b12555a0fca8fb427d9fb147f"
   }
  }
 },
 "nbformat": 4,
 "nbformat_minor": 2
}
