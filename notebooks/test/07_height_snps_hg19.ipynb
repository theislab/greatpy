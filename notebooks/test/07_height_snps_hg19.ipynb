{
 "cells": [
  {
   "cell_type": "markdown",
   "metadata": {},
   "source": [
    "# Computation of annotation enrichment in a genetic set "
   ]
  },
  {
   "cell_type": "markdown",
   "metadata": {},
   "source": [
    "This code excerpt shows how to use the annotation enrichment computation function in a genetic set.\n",
    "The funciton return a dataframe of binom and hypergeometric p-value (<= 0.05) and for each p-value a fdr correction with alpha = 0.05.   "
   ]
  },
  {
   "cell_type": "markdown",
   "metadata": {},
   "source": [
    "In the second part of the code we will compare the results obtained with the Great webserver and between the binomial and hypergeometric probability"
   ]
  },
  {
   "cell_type": "code",
   "execution_count": 3,
   "metadata": {},
   "outputs": [
    {
     "name": "stdout",
     "output_type": "stream",
     "text": [
      "The autoreload extension is already loaded. To reload it, use:\n",
      "  %reload_ext autoreload\n"
     ]
    }
   ],
   "source": [
    "%load_ext autoreload\n",
    "%autoreload 2"
   ]
  },
  {
   "cell_type": "code",
   "execution_count": 4,
   "metadata": {},
   "outputs": [],
   "source": [
    "import greatpy as great\n",
    "import pandas as pd\n",
    "from math import inf\n",
    "from numpy import log,nan, int64,cov,corrcoef\n",
    "from scipy.stats import pearsonr\n",
    "from seaborn import scatterplot as sp\n",
    "\n",
    "import warnings\n",
    "warnings.filterwarnings('ignore')"
   ]
  },
  {
   "cell_type": "code",
   "execution_count": 5,
   "metadata": {},
   "outputs": [],
   "source": [
    "test = \"../../data/test/07_height_snps_hg19.bed\"\n",
    "regdom = \"/home/icb/tom.mauger-birocheau/internship/regdom.hg19\"\n",
    "great_out = \"../../data/test/07_height_snps_hg19_output_great_webserver.tsv\"\n",
    "great_asso = \"../../data/test/07_height_snps_hg19_gene_asso.tsv\""
   ]
  },
  {
   "cell_type": "markdown",
   "metadata": {},
   "source": [
    "## I Compute the p-values"
   ]
  },
  {
   "cell_type": "code",
   "execution_count": 6,
   "metadata": {},
   "outputs": [],
   "source": [
    "enrichment_fdr = great.tl.enrichment(\n",
    "    test=test,\n",
    "    regdom_file=regdom,\n",
    "    chr_size_file=\"/storage/groups/ml01/datasets/annotations/hg19/hg19.chrom.sizes\",\n",
    "    annotation=\"../../data/human/ontologies.csv\",\n",
    "    binom=True,\n",
    "    hypergeom=True,\n",
    "    alpha=0.05,\n",
    "    correction=(\"fdr\",0.05)\n",
    "    )\n",
    "enrichment_fdr = enrichment_fdr[enrichment_fdr[\"binom_p_value\"]<=0.05]\n",
    "\n",
    "enrichment_bonferroni = great.tl.enrichment(\n",
    "    test=test,\n",
    "    regdom_file=regdom,\n",
    "    chr_size_file=\"/storage/groups/ml01/datasets/annotations/hg19/hg19.chrom.sizes\",\n",
    "    annotation=\"../../data/human/ontologies.csv\",\n",
    "    binom=True,\n",
    "    hypergeom=True,\n",
    "    alpha=0.05,\n",
    "    correction=(\"bonferroni\",0.05),\n",
    "    )\n",
    "enrichment_bonferroni = enrichment_bonferroni[enrichment_bonferroni[\"binom_p_value\"]<=0.05]\n",
    "\n",
    "enrichment_tot = enrichment_fdr \n",
    "enrichment_tot[\"binom_bonferroni_correction\"] = enrichment_bonferroni[\"binom_bonferroni_correction\"]\n",
    "enrichment_tot[\"hypergeom_bonferroni_correction\"] = enrichment_bonferroni[\"hypergeom_bonferroni_correction\"]\n",
    "enrichment_tot = enrichment_tot[[\"binom_p_value\",\"binom_bonferroni_correction\",\"binom_fdr_correction\",\"hypergeom_p_value\",\"hypergeom_bonferroni_correction\",\"hypergeom_fdr_correction\"]]\n",
    "enrichment_tot = enrichment_tot.reset_index().rename(columns={\"index\":\"id\",\"binom_bonferroni_correction\":\"binom_bonferroni\",\"binom_fdr_correction\":\"binom_fdr\",\"hypergeom_p_value\":\"hyper_p_value\",\"hypergeom_bonferroni_correction\":\"hyper_bonferroni\",\"hypergeom_fdr_correction\":\"hyper_fdr\"})"
   ]
  },
  {
   "cell_type": "markdown",
   "metadata": {},
   "source": [
    "## II Compare to GREAT webserver  "
   ]
  },
  {
   "cell_type": "markdown",
   "metadata": {},
   "source": [
    "### II.1 Import the data"
   ]
  },
  {
   "cell_type": "code",
   "execution_count": 7,
   "metadata": {},
   "outputs": [],
   "source": [
    "great_webserver = pd.read_csv(great_out,sep=\"\\t\",comment=\"#\",\n",
    "                    names=[\"ontologie\",\"term_name\",\"ID\",\"binom_p_value\",\"binom_bonferroni\",\"binom_fdr\",\"hyper_p_value\",\"hyper_bonferroni\",\"hyper_fdr\"],index_col=False,\n",
    "                    dtype={\"term_name\":\"object\", \"ID\":\"object\",\"binom_p_value\":\"float64\", \"binom_bonferroni\":\"float64\", \"binom_fdr\":\"float64\", \"hyper_p_value\":\"float64\", \"hyper_bonferroni\":\"float64\", \"hyper_fdr\":\"float64\"})\n",
    "great_webserver.rename(columns={\"ID\":\"id\"},inplace=True)\n",
    "del great_webserver[\"ontologie\"]\n",
    "del great_webserver[\"term_name\"]"
   ]
  },
  {
   "cell_type": "markdown",
   "metadata": {},
   "source": [
    "### II.2 Compare the results between greatpy and great "
   ]
  },
  {
   "cell_type": "markdown",
   "metadata": {},
   "source": [
    "#### II.2.1 Preprocessing"
   ]
  },
  {
   "cell_type": "code",
   "execution_count": 8,
   "metadata": {},
   "outputs": [],
   "source": [
    "before_pp = enrichment_tot.shape[0]\n",
    "enrichment_tot = enrichment_tot[enrichment_tot[\"id\"].isin(list(great_webserver[\"id\"]))]\n",
    "enrichment_tot = enrichment_tot.sort_values(\"id\")\n",
    "after_pp = enrichment_tot.shape[0]"
   ]
  },
  {
   "cell_type": "code",
   "execution_count": 9,
   "metadata": {},
   "outputs": [],
   "source": [
    "great_webserver = great_webserver[great_webserver[\"id\"].isin(list(enrichment_tot[\"id\"]))]\n",
    "great_webserver = great_webserver.sort_values(\"id\")"
   ]
  },
  {
   "cell_type": "code",
   "execution_count": 10,
   "metadata": {},
   "outputs": [],
   "source": [
    "binom_greatpy = hyper_greatpy = binom_great = hyper_great = []\n",
    "for i in range(enrichment_tot.shape[0]) : \n",
    "    curr_enrichment = enrichment_tot.iloc[i]\n",
    "    curr_great_webserver = great_webserver.loc[great_webserver[\"id\"]==curr_enrichment[\"id\"]]\n",
    "    binom_greatpy.append(float(curr_enrichment[\"binom_p_value\"]))\n",
    "    hyper_greatpy.append(float(curr_enrichment[\"hyper_p_value\"]))\n",
    "    binom_great.append(float(curr_great_webserver[\"binom_p_value\"]))\n",
    "    hyper_great.append(float(curr_great_webserver[\"hyper_p_value\"]))\n",
    "binom = pd.DataFrame({\"binom_greatpy\":binom_greatpy,\"binom_great\":binom_great})\n",
    "hyper = pd.DataFrame({\"hyper_greatpy\":hyper_greatpy,\"hyper_great\":hyper_great})"
   ]
  },
  {
   "cell_type": "markdown",
   "metadata": {},
   "source": [
    "#### II.2.b Graphical"
   ]
  },
  {
   "cell_type": "code",
   "execution_count": 11,
   "metadata": {},
   "outputs": [
    {
     "data": {
      "image/png": "[encoded data removed]",
      "text/plain": [
       "<Figure size 432x288 with 1 Axes>"
      ]
     },
     "metadata": {
      "needs_background": "light"
     },
     "output_type": "display_data"
    }
   ],
   "source": [
    "pl=great.pl.scatterplot(binom,colname_x=\"binom_greatpy\",colname_y=\"binom_great\")"
   ]
  },
  {
   "cell_type": "code",
   "execution_count": 12,
   "metadata": {},
   "outputs": [
    {
     "data": {
      "image/png": "[encoded data removed]",
      "text/plain": [
       "<Figure size 432x288 with 1 Axes>"
      ]
     },
     "metadata": {
      "needs_background": "light"
     },
     "output_type": "display_data"
    }
   ],
   "source": [
    "great.pl.scatterplot(hyper,colname_x=\"hyper_greatpy\",colname_y=\"hyper_great\")"
   ]
  },
  {
   "cell_type": "markdown",
   "metadata": {},
   "source": [
    "#### II.2.c Statistics"
   ]
  },
  {
   "cell_type": "code",
   "execution_count": 13,
   "metadata": {},
   "outputs": [],
   "source": [
    "def stat(binom_great_list_list, hyper_great_listpy_list,binom_great_list,hyper_great_list) : \n",
    "    if len(binom_great_list_list) >= 2 and len(hyper_great_listpy_list) >= 2 and len(binom_great_list) >= 2  and len(hyper_great_list) >= 2 : \n",
    "        return pd.DataFrame({\n",
    "            \"binom\": [cov(m = binom_great_list_list, y = binom_great_list)[0][1],pearsonr(binom_great_list_list,binom_great_list)[0]],\n",
    "            \"hyper\":[cov(m = hyper_great_listpy_list, y = hyper_great_list)[0][1],pearsonr(hyper_great_listpy_list,hyper_great_list)[0]]},\n",
    "            index=[\"correlation_coefficient\",\"pearson\"])\n",
    "    return False"
   ]
  },
  {
   "cell_type": "markdown",
   "metadata": {},
   "source": [
    "Issue is : NaN in hyper_fdr"
   ]
  },
  {
   "cell_type": "code",
   "execution_count": 14,
   "metadata": {},
   "outputs": [
    {
     "ename": "ValueError",
     "evalue": "array must not contain infs or NaNs",
     "output_type": "error",
     "traceback": [
      "\u001b[0;31m---------------------------------------------------------------------------\u001b[0m",
      "\u001b[0;31mValueError\u001b[0m                                Traceback (most recent call last)",
      "\u001b[1;32m/home/icb/tom.mauger-birocheau/internship/greatpy/notebooks/test/07_height_snps_hg19.ipynb Cell 22'\u001b[0m in \u001b[0;36m<cell line: 1>\u001b[0;34m()\u001b[0m\n\u001b[0;32m----> <a href='vscode-notebook-cell://ssh-remote%2Bicb-lisa/home/icb/tom.mauger-birocheau/internship/greatpy/notebooks/test/07_height_snps_hg19.ipynb#ch0000021vscode-remote?line=0'>1</a>\u001b[0m stat(binom_greatpy, hyper_greatpy,binom_great,hyper_great)\n",
      "\u001b[1;32m/home/icb/tom.mauger-birocheau/internship/greatpy/notebooks/test/07_height_snps_hg19.ipynb Cell 21'\u001b[0m in \u001b[0;36mstat\u001b[0;34m(binom_great_list_list, hyper_great_listpy_list, binom_great_list, hyper_great_list)\u001b[0m\n\u001b[1;32m      <a href='vscode-notebook-cell://ssh-remote%2Bicb-lisa/home/icb/tom.mauger-birocheau/internship/greatpy/notebooks/test/07_height_snps_hg19.ipynb#ch0000020vscode-remote?line=0'>1</a>\u001b[0m \u001b[39mdef\u001b[39;00m \u001b[39mstat\u001b[39m(binom_great_list_list, hyper_great_listpy_list,binom_great_list,hyper_great_list) : \n\u001b[1;32m      <a href='vscode-notebook-cell://ssh-remote%2Bicb-lisa/home/icb/tom.mauger-birocheau/internship/greatpy/notebooks/test/07_height_snps_hg19.ipynb#ch0000020vscode-remote?line=1'>2</a>\u001b[0m     \u001b[39mif\u001b[39;00m \u001b[39mlen\u001b[39m(binom_great_list_list) \u001b[39m>\u001b[39m\u001b[39m=\u001b[39m \u001b[39m2\u001b[39m \u001b[39mand\u001b[39;00m \u001b[39mlen\u001b[39m(hyper_great_listpy_list) \u001b[39m>\u001b[39m\u001b[39m=\u001b[39m \u001b[39m2\u001b[39m \u001b[39mand\u001b[39;00m \u001b[39mlen\u001b[39m(binom_great_list) \u001b[39m>\u001b[39m\u001b[39m=\u001b[39m \u001b[39m2\u001b[39m  \u001b[39mand\u001b[39;00m \u001b[39mlen\u001b[39m(hyper_great_list) \u001b[39m>\u001b[39m\u001b[39m=\u001b[39m \u001b[39m2\u001b[39m : \n\u001b[1;32m      <a href='vscode-notebook-cell://ssh-remote%2Bicb-lisa/home/icb/tom.mauger-birocheau/internship/greatpy/notebooks/test/07_height_snps_hg19.ipynb#ch0000020vscode-remote?line=2'>3</a>\u001b[0m         \u001b[39mreturn\u001b[39;00m pd\u001b[39m.\u001b[39mDataFrame({\n\u001b[0;32m----> <a href='vscode-notebook-cell://ssh-remote%2Bicb-lisa/home/icb/tom.mauger-birocheau/internship/greatpy/notebooks/test/07_height_snps_hg19.ipynb#ch0000020vscode-remote?line=3'>4</a>\u001b[0m             \u001b[39m\"\u001b[39m\u001b[39mbinom\u001b[39m\u001b[39m\"\u001b[39m: [cov(m \u001b[39m=\u001b[39m binom_great_list_list, y \u001b[39m=\u001b[39m binom_great_list)[\u001b[39m0\u001b[39m][\u001b[39m1\u001b[39m],pearsonr(binom_great_list_list,binom_great_list)[\u001b[39m0\u001b[39m]],\n\u001b[1;32m      <a href='vscode-notebook-cell://ssh-remote%2Bicb-lisa/home/icb/tom.mauger-birocheau/internship/greatpy/notebooks/test/07_height_snps_hg19.ipynb#ch0000020vscode-remote?line=4'>5</a>\u001b[0m             \u001b[39m\"\u001b[39m\u001b[39mhyper\u001b[39m\u001b[39m\"\u001b[39m:[cov(m \u001b[39m=\u001b[39m hyper_great_listpy_list, y \u001b[39m=\u001b[39m hyper_great_list)[\u001b[39m0\u001b[39m][\u001b[39m1\u001b[39m],pearsonr(hyper_great_listpy_list,hyper_great_list)[\u001b[39m0\u001b[39m]]},\n\u001b[1;32m      <a href='vscode-notebook-cell://ssh-remote%2Bicb-lisa/home/icb/tom.mauger-birocheau/internship/greatpy/notebooks/test/07_height_snps_hg19.ipynb#ch0000020vscode-remote?line=5'>6</a>\u001b[0m             index\u001b[39m=\u001b[39m[\u001b[39m\"\u001b[39m\u001b[39mcorrelation_coefficient\u001b[39m\u001b[39m\"\u001b[39m,\u001b[39m\"\u001b[39m\u001b[39mpearson\u001b[39m\u001b[39m\"\u001b[39m])\n\u001b[1;32m      <a href='vscode-notebook-cell://ssh-remote%2Bicb-lisa/home/icb/tom.mauger-birocheau/internship/greatpy/notebooks/test/07_height_snps_hg19.ipynb#ch0000020vscode-remote?line=6'>7</a>\u001b[0m     \u001b[39mreturn\u001b[39;00m \u001b[39mFalse\u001b[39;00m\n",
      "File \u001b[0;32m~/miniconda3/lib/python3.9/site-packages/scipy/stats/_stats_py.py:4090\u001b[0m, in \u001b[0;36mpearsonr\u001b[0;34m(x, y)\u001b[0m\n\u001b[1;32m   4085\u001b[0m ym \u001b[39m=\u001b[39m y\u001b[39m.\u001b[39mastype(dtype) \u001b[39m-\u001b[39m ymean\n\u001b[1;32m   4087\u001b[0m \u001b[39m# Unlike np.linalg.norm or the expression sqrt((xm*xm).sum()),\u001b[39;00m\n\u001b[1;32m   4088\u001b[0m \u001b[39m# scipy.linalg.norm(xm) does not overflow if xm is, for example,\u001b[39;00m\n\u001b[1;32m   4089\u001b[0m \u001b[39m# [-5e210, 5e210, 3e200, -3e200]\u001b[39;00m\n\u001b[0;32m-> 4090\u001b[0m normxm \u001b[39m=\u001b[39m linalg\u001b[39m.\u001b[39;49mnorm(xm)\n\u001b[1;32m   4091\u001b[0m normym \u001b[39m=\u001b[39m linalg\u001b[39m.\u001b[39mnorm(ym)\n\u001b[1;32m   4093\u001b[0m threshold \u001b[39m=\u001b[39m \u001b[39m1e-13\u001b[39m\n",
      "File \u001b[0;32m~/miniconda3/lib/python3.9/site-packages/scipy/linalg/_misc.py:145\u001b[0m, in \u001b[0;36mnorm\u001b[0;34m(a, ord, axis, keepdims, check_finite)\u001b[0m\n\u001b[1;32m    143\u001b[0m \u001b[39m# Differs from numpy only in non-finite handling and the use of blas.\u001b[39;00m\n\u001b[1;32m    144\u001b[0m \u001b[39mif\u001b[39;00m check_finite:\n\u001b[0;32m--> 145\u001b[0m     a \u001b[39m=\u001b[39m np\u001b[39m.\u001b[39;49masarray_chkfinite(a)\n\u001b[1;32m    146\u001b[0m \u001b[39melse\u001b[39;00m:\n\u001b[1;32m    147\u001b[0m     a \u001b[39m=\u001b[39m np\u001b[39m.\u001b[39masarray(a)\n",
      "File \u001b[0;32m~/miniconda3/lib/python3.9/site-packages/numpy/lib/function_base.py:627\u001b[0m, in \u001b[0;36masarray_chkfinite\u001b[0;34m(a, dtype, order)\u001b[0m\n\u001b[1;32m    625\u001b[0m a \u001b[39m=\u001b[39m asarray(a, dtype\u001b[39m=\u001b[39mdtype, order\u001b[39m=\u001b[39morder)\n\u001b[1;32m    626\u001b[0m \u001b[39mif\u001b[39;00m a\u001b[39m.\u001b[39mdtype\u001b[39m.\u001b[39mchar \u001b[39min\u001b[39;00m typecodes[\u001b[39m'\u001b[39m\u001b[39mAllFloat\u001b[39m\u001b[39m'\u001b[39m] \u001b[39mand\u001b[39;00m \u001b[39mnot\u001b[39;00m np\u001b[39m.\u001b[39misfinite(a)\u001b[39m.\u001b[39mall():\n\u001b[0;32m--> 627\u001b[0m     \u001b[39mraise\u001b[39;00m \u001b[39mValueError\u001b[39;00m(\n\u001b[1;32m    628\u001b[0m         \u001b[39m\"\u001b[39m\u001b[39marray must not contain infs or NaNs\u001b[39m\u001b[39m\"\u001b[39m)\n\u001b[1;32m    629\u001b[0m \u001b[39mreturn\u001b[39;00m a\n",
      "\u001b[0;31mValueError\u001b[0m: array must not contain infs or NaNs"
     ]
    }
   ],
   "source": [
    "stat(binom_greatpy, hyper_greatpy,binom_great,hyper_great)"
   ]
  },
  {
   "cell_type": "code",
   "execution_count": null,
   "metadata": {},
   "outputs": [
    {
     "name": "stdout",
     "output_type": "stream",
     "text": [
      "889\n",
      "191\n"
     ]
    }
   ],
   "source": [
    "print(before_pp)\n",
    "print(after_pp)"
   ]
  },
  {
   "cell_type": "markdown",
   "metadata": {},
   "source": [
    "We went from 268 ontology terms in greatpy output to 92 ontology terms by selecting the GO identifiers present in both greatpy and great "
   ]
  },
  {
   "cell_type": "markdown",
   "metadata": {},
   "source": [
    "But when two ontology terms are selected they have the same binomial and hypergeometric probability value "
   ]
  },
  {
   "cell_type": "markdown",
   "metadata": {},
   "source": [
    "# How many associations are good or bad "
   ]
  },
  {
   "cell_type": "code",
   "execution_count": null,
   "metadata": {},
   "outputs": [
    {
     "name": "stdout",
     "output_type": "stream",
     "text": [
      "Number of gene association present in greatpy and great : 452\n",
      "Number of gene association prensent in great and not in greatpy 124\n",
      "Number of gene association prensent in greatpy and not in great 546\n"
     ]
    }
   ],
   "source": [
    "gene_asso_great = pd.read_csv(great_asso,sep=\"\\t\",comment=\"#\",names=[\"ontologies\",\"gene\"],index_col=False, dtype={\"ontologies\":\"object\",\"gene\":\"object\"},usecols=[\"gene\"])\n",
    "gene_asso_greatpy = great.tl.get_association(\n",
    "    test = pd.read_csv(test,sep=\"\\t\",comment=\"#\",usecols=[0,1,2],names=[\"Chr\", \"Chr_Start\", \"Chr_End\"],dtype={\"Chr\":\"object\", \"Chr_Start\":\"int64\", \"Chr_End\":\"int64\"}),\n",
    "    regdom= pd.read_csv(regdom,sep=\"\\t\",comment=\"#\",names=[\"Chr\", \"Chr_Start\", \"Chr_End\",\"Name\",\"tss\",\"Strand\"],dtype={\"Chr\":\"object\", \"Chr_Start\":\"int64\", \"Chr_End\":\"int64\",\"Name\":\"object\",\"tss\":\"int64\",\"Strand\":\"object\"}))\n",
    "in_in = gene_asso_great[gene_asso_great[\"gene\"].isin(gene_asso_greatpy)].shape[0]\n",
    "in_out = [i for i in list(gene_asso_great[\"gene\"]) if i not in gene_asso_greatpy]\n",
    "out_in = [i for i in gene_asso_greatpy if i not in list(gene_asso_great[\"gene\"])]\n",
    "\n",
    "print(f\"Number of gene association present in greatpy and great : {in_in}\")\n",
    "print(f\"Number of gene association prensent in great and not in greatpy {len(in_out)}\")\n",
    "print(f\"Number of gene association prensent in greatpy and not in great {len(out_in)}\")"
   ]
  }
 ],
 "metadata": {
  "kernelspec": {
   "display_name": "Python 3.9.12 ('base')",
   "language": "python",
   "name": "python3"
  },
  "language_info": {
   "codemirror_mode": {
    "name": "ipython",
    "version": 3
   },
   "file_extension": ".py",
   "mimetype": "text/x-python",
   "name": "python",
   "nbconvert_exporter": "python",
   "pygments_lexer": "ipython3",
   "version": "3.9.12"
  },
  "orig_nbformat": 4,
  "vscode": {
   "interpreter": {
    "hash": "dd3aa23b046397ccf7f1ffb7cb82646c26b15f0b12555a0fca8fb427d9fb147f"
   }
  }
 },
 "nbformat": 4,
 "nbformat_minor": 2
}
