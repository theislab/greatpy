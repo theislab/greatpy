{
 "cells": [
  {
   "cell_type": "markdown",
   "metadata": {},
   "source": [
    "# Computation of annotation enrichment in a genetic set "
   ]
  },
  {
   "cell_type": "markdown",
   "metadata": {},
   "source": [
    "This code excerpt shows how to use the annotation enrichment computation function in a genetic set.\n",
    "The funciton return a dataframe of binom and hypergeometric p-value (<= 0.05) and for each p-value a fdr correction with alpha = 0.05.   "
   ]
  },
  {
   "cell_type": "markdown",
   "metadata": {},
   "source": [
    "In the second part of the code we will compare the results obtained with the Great webserver and between the binomial and hypergeometric probability"
   ]
  },
  {
   "cell_type": "code",
   "execution_count": 1,
   "metadata": {},
   "outputs": [],
   "source": [
    "%load_ext autoreload\n",
    "%autoreload 2"
   ]
  },
  {
   "cell_type": "code",
   "execution_count": 2,
   "metadata": {},
   "outputs": [],
   "source": [
    "import greatpy as great\n",
    "import pandas as pd\n",
    "from math import inf\n",
    "from numpy import log,nan, int64,cov,corrcoef\n",
    "from scipy.stats import pearsonr\n",
    "from seaborn import scatterplot as sp\n",
    "\n",
    "import warnings\n",
    "warnings.filterwarnings('ignore')"
   ]
  },
  {
   "cell_type": "code",
   "execution_count": 3,
   "metadata": {},
   "outputs": [],
   "source": [
    "test = \"../../data/test/06_height_snps_hg38.bed\"\n",
    "regdom = \"../../data/human/regulatory_domain.bed\"\n",
    "great_out = \"../../data/test/06_height_snps_hg38_output_great_webserver.tsv\"\n",
    "great_asso = \"../../data/test/06_height_snps_hg38_gene_asso.tsv\"\n",
    "size = \"../../data/human/chr_size.bed\""
   ]
  },
  {
   "cell_type": "markdown",
   "metadata": {},
   "source": [
    "## I Compute the p-values"
   ]
  },
  {
   "cell_type": "code",
   "execution_count": 5,
   "metadata": {},
   "outputs": [
    {
     "data": {
      "text/html": [
       "<div>\n",
       "<style scoped>\n",
       "    .dataframe tbody tr th:only-of-type {\n",
       "        vertical-align: middle;\n",
       "    }\n",
       "\n",
       "    .dataframe tbody tr th {\n",
       "        vertical-align: top;\n",
       "    }\n",
       "\n",
       "    .dataframe thead th {\n",
       "        text-align: right;\n",
       "    }\n",
       "</style>\n",
       "<table border=\"1\" class=\"dataframe\">\n",
       "  <thead>\n",
       "    <tr style=\"text-align: right;\">\n",
       "      <th></th>\n",
       "      <th>go_term</th>\n",
       "      <th>binom_p_value</th>\n",
       "      <th>hypergeom_p_value</th>\n",
       "    </tr>\n",
       "  </thead>\n",
       "  <tbody>\n",
       "    <tr>\n",
       "      <th>GO:0006355</th>\n",
       "      <td>regulation of transcription, DNA-templated</td>\n",
       "      <td>1.96935e-19</td>\n",
       "      <td>2.88000e-306</td>\n",
       "    </tr>\n",
       "    <tr>\n",
       "      <th>GO:0048050</th>\n",
       "      <td>post-embryonic eye morphogenesis</td>\n",
       "      <td>5.56683e-15</td>\n",
       "      <td>2.00000e-308</td>\n",
       "    </tr>\n",
       "    <tr>\n",
       "      <th>GO:0000175</th>\n",
       "      <td>3'-5'-exoribonuclease activity</td>\n",
       "      <td>2.26563e-14</td>\n",
       "      <td>3.80000e-307</td>\n",
       "    </tr>\n",
       "    <tr>\n",
       "      <th>GO:0004654</th>\n",
       "      <td>polyribonucleotide nucleotidyltransferase acti...</td>\n",
       "      <td>1.66066e-13</td>\n",
       "      <td>2.00000e-308</td>\n",
       "    </tr>\n",
       "    <tr>\n",
       "      <th>GO:0035927</th>\n",
       "      <td>RNA import into mitochondrion</td>\n",
       "      <td>1.66066e-13</td>\n",
       "      <td>1.00000e-308</td>\n",
       "    </tr>\n",
       "    <tr>\n",
       "      <th>...</th>\n",
       "      <td>...</td>\n",
       "      <td>...</td>\n",
       "      <td>...</td>\n",
       "    </tr>\n",
       "    <tr>\n",
       "      <th>GO:0021591</th>\n",
       "      <td>ventricular system development</td>\n",
       "      <td>1.00000e+00</td>\n",
       "      <td>1.50000e-307</td>\n",
       "    </tr>\n",
       "    <tr>\n",
       "      <th>GO:0021884</th>\n",
       "      <td>forebrain neuron development</td>\n",
       "      <td>1.00000e+00</td>\n",
       "      <td>5.00000e-308</td>\n",
       "    </tr>\n",
       "    <tr>\n",
       "      <th>GO:0030033</th>\n",
       "      <td>microvillus assembly</td>\n",
       "      <td>1.00000e+00</td>\n",
       "      <td>1.70000e-307</td>\n",
       "    </tr>\n",
       "    <tr>\n",
       "      <th>GO:0008076</th>\n",
       "      <td>voltage-gated potassium channel complex</td>\n",
       "      <td>1.00000e+00</td>\n",
       "      <td>1.52000e-306</td>\n",
       "    </tr>\n",
       "    <tr>\n",
       "      <th>GO:0034236</th>\n",
       "      <td>protein kinase A catalytic subunit binding</td>\n",
       "      <td>1.00000e+00</td>\n",
       "      <td>2.00000e-307</td>\n",
       "    </tr>\n",
       "  </tbody>\n",
       "</table>\n",
       "<p>2105 rows × 3 columns</p>\n",
       "</div>"
      ],
      "text/plain": [
       "                                                      go_term  binom_p_value  \\\n",
       "GO:0006355         regulation of transcription, DNA-templated    1.96935e-19   \n",
       "GO:0048050                   post-embryonic eye morphogenesis    5.56683e-15   \n",
       "GO:0000175                     3'-5'-exoribonuclease activity    2.26563e-14   \n",
       "GO:0004654  polyribonucleotide nucleotidyltransferase acti...    1.66066e-13   \n",
       "GO:0035927                      RNA import into mitochondrion    1.66066e-13   \n",
       "...                                                       ...            ...   \n",
       "GO:0021591                     ventricular system development    1.00000e+00   \n",
       "GO:0021884                       forebrain neuron development    1.00000e+00   \n",
       "GO:0030033                               microvillus assembly    1.00000e+00   \n",
       "GO:0008076            voltage-gated potassium channel complex    1.00000e+00   \n",
       "GO:0034236         protein kinase A catalytic subunit binding    1.00000e+00   \n",
       "\n",
       "            hypergeom_p_value  \n",
       "GO:0006355       2.88000e-306  \n",
       "GO:0048050       2.00000e-308  \n",
       "GO:0000175       3.80000e-307  \n",
       "GO:0004654       2.00000e-308  \n",
       "GO:0035927       1.00000e-308  \n",
       "...                       ...  \n",
       "GO:0021591       1.50000e-307  \n",
       "GO:0021884       5.00000e-308  \n",
       "GO:0030033       1.70000e-307  \n",
       "GO:0008076       1.52000e-306  \n",
       "GO:0034236       2.00000e-307  \n",
       "\n",
       "[2105 rows x 3 columns]"
      ]
     },
     "execution_count": 5,
     "metadata": {},
     "output_type": "execute_result"
    }
   ],
   "source": [
    "enrichment_tot = great.tl.GREAT.enrichment(\n",
    "    test_file=test,\n",
    "    regdom_file=regdom,\n",
    "    chr_size_file=size,\n",
    "    annotation_file=\"../../data/human/ontologies.csv\",\n",
    "    binom=True,\n",
    "    hypergeom=True,\n",
    "    )\n",
    "great.tl.GREAT.set_bonferroni(enrichment_tot,0.05)\n",
    "great.tl.GREAT.set_fdr(enrichment_tot,0.05)"
   ]
  },
  {
   "cell_type": "markdown",
   "metadata": {},
   "source": [
    "## II Compare to GREAT webserver  "
   ]
  },
  {
   "cell_type": "markdown",
   "metadata": {},
   "source": [
    "### II.1 Import the data"
   ]
  },
  {
   "cell_type": "code",
   "execution_count": 10,
   "metadata": {},
   "outputs": [],
   "source": [
    "great_webserver = pd.read_csv(great_out,sep=\"\\t\",comment=\"#\",\n",
    "                    names=[\"ontologie\",\"term_name\",\"ID\",\"binom_p_value\",\"binom_bonferroni\",\"binom_fdr\",\"hyper_p_value\",\"hyper_bonferroni\",\"hyper_fdr\"],index_col=False,\n",
    "                    dtype={\"term_name\":\"object\", \"ID\":\"object\",\"binom_p_value\":\"float64\", \"binom_bonferroni\":\"float64\", \"binom_fdr\":\"float64\", \"hyper_p_value\":\"float64\", \"hyper_bonferroni\":\"float64\", \"hyper_fdr\":\"float64\"})\n",
    "great_webserver.rename(columns={\"ID\":\"id\"},inplace=True)\n",
    "del great_webserver[\"ontologie\"]\n",
    "del great_webserver[\"term_name\"]"
   ]
  },
  {
   "cell_type": "code",
   "execution_count": 15,
   "metadata": {},
   "outputs": [
    {
     "data": {
      "text/html": [
       "<div>\n",
       "<style scoped>\n",
       "    .dataframe tbody tr th:only-of-type {\n",
       "        vertical-align: middle;\n",
       "    }\n",
       "\n",
       "    .dataframe tbody tr th {\n",
       "        vertical-align: top;\n",
       "    }\n",
       "\n",
       "    .dataframe thead th {\n",
       "        text-align: right;\n",
       "    }\n",
       "</style>\n",
       "<table border=\"1\" class=\"dataframe\">\n",
       "  <thead>\n",
       "    <tr style=\"text-align: right;\">\n",
       "      <th></th>\n",
       "      <th>id</th>\n",
       "      <th>binom_p_value</th>\n",
       "      <th>binom_bonferroni</th>\n",
       "      <th>binom_fdr</th>\n",
       "      <th>hyper_p_value</th>\n",
       "      <th>hyper_bonferroni</th>\n",
       "      <th>hyper_fdr</th>\n",
       "    </tr>\n",
       "  </thead>\n",
       "  <tbody>\n",
       "    <tr>\n",
       "      <th>0</th>\n",
       "      <td>GO:2000772</td>\n",
       "      <td>2.87359e-21</td>\n",
       "      <td>3.77734e-17</td>\n",
       "      <td>3.77734e-17</td>\n",
       "      <td>1.12006e-03</td>\n",
       "      <td>1.00000e+00</td>\n",
       "      <td>1.31457e-01</td>\n",
       "    </tr>\n",
       "    <tr>\n",
       "      <th>1</th>\n",
       "      <td>GO:0090342</td>\n",
       "      <td>8.61784e-21</td>\n",
       "      <td>1.13282e-16</td>\n",
       "      <td>5.66408e-17</td>\n",
       "      <td>2.47996e-03</td>\n",
       "      <td>1.00000e+00</td>\n",
       "      <td>2.23282e-01</td>\n",
       "    </tr>\n",
       "    <tr>\n",
       "      <th>2</th>\n",
       "      <td>GO:0090402</td>\n",
       "      <td>1.72724e-18</td>\n",
       "      <td>2.27046e-14</td>\n",
       "      <td>7.56820e-15</td>\n",
       "      <td>2.38578e-04</td>\n",
       "      <td>1.00000e+00</td>\n",
       "      <td>4.18148e-02</td>\n",
       "    </tr>\n",
       "    <tr>\n",
       "      <th>3</th>\n",
       "      <td>GO:0035986</td>\n",
       "      <td>1.20387e-17</td>\n",
       "      <td>1.58248e-13</td>\n",
       "      <td>3.95621e-14</td>\n",
       "      <td>7.08402e-04</td>\n",
       "      <td>1.00000e+00</td>\n",
       "      <td>9.80204e-02</td>\n",
       "    </tr>\n",
       "    <tr>\n",
       "      <th>4</th>\n",
       "      <td>GO:0031507</td>\n",
       "      <td>3.87533e-15</td>\n",
       "      <td>5.09413e-11</td>\n",
       "      <td>1.01883e-11</td>\n",
       "      <td>7.99370e-03</td>\n",
       "      <td>1.00000e+00</td>\n",
       "      <td>4.58852e-01</td>\n",
       "    </tr>\n",
       "    <tr>\n",
       "      <th>...</th>\n",
       "      <td>...</td>\n",
       "      <td>...</td>\n",
       "      <td>...</td>\n",
       "      <td>...</td>\n",
       "      <td>...</td>\n",
       "      <td>...</td>\n",
       "      <td>...</td>\n",
       "    </tr>\n",
       "    <tr>\n",
       "      <th>471</th>\n",
       "      <td>GO:0001221</td>\n",
       "      <td>4.22852e-02</td>\n",
       "      <td>1.00000e+00</td>\n",
       "      <td>9.54018e-01</td>\n",
       "      <td>1.79621e-02</td>\n",
       "      <td>1.00000e+00</td>\n",
       "      <td>1.00000e+00</td>\n",
       "    </tr>\n",
       "    <tr>\n",
       "      <th>472</th>\n",
       "      <td>GO:0005018</td>\n",
       "      <td>4.43183e-02</td>\n",
       "      <td>1.00000e+00</td>\n",
       "      <td>9.94568e-01</td>\n",
       "      <td>1.54725e-02</td>\n",
       "      <td>1.00000e+00</td>\n",
       "      <td>1.00000e+00</td>\n",
       "    </tr>\n",
       "    <tr>\n",
       "      <th>473</th>\n",
       "      <td>GO:0050211</td>\n",
       "      <td>4.68423e-02</td>\n",
       "      <td>1.00000e+00</td>\n",
       "      <td>1.00000e+00</td>\n",
       "      <td>4.57055e-02</td>\n",
       "      <td>1.00000e+00</td>\n",
       "      <td>1.00000e+00</td>\n",
       "    </tr>\n",
       "    <tr>\n",
       "      <th>474</th>\n",
       "      <td>GO:0005519</td>\n",
       "      <td>4.80793e-02</td>\n",
       "      <td>1.00000e+00</td>\n",
       "      <td>1.00000e+00</td>\n",
       "      <td>1.54725e-02</td>\n",
       "      <td>1.00000e+00</td>\n",
       "      <td>1.00000e+00</td>\n",
       "    </tr>\n",
       "    <tr>\n",
       "      <th>475</th>\n",
       "      <td>GO:1903135</td>\n",
       "      <td>4.88392e-02</td>\n",
       "      <td>1.00000e+00</td>\n",
       "      <td>1.00000e+00</td>\n",
       "      <td>4.57055e-02</td>\n",
       "      <td>1.00000e+00</td>\n",
       "      <td>1.00000e+00</td>\n",
       "    </tr>\n",
       "  </tbody>\n",
       "</table>\n",
       "<p>476 rows × 7 columns</p>\n",
       "</div>"
      ],
      "text/plain": [
       "             id  binom_p_value  binom_bonferroni    binom_fdr  hyper_p_value  \\\n",
       "0    GO:2000772    2.87359e-21       3.77734e-17  3.77734e-17    1.12006e-03   \n",
       "1    GO:0090342    8.61784e-21       1.13282e-16  5.66408e-17    2.47996e-03   \n",
       "2    GO:0090402    1.72724e-18       2.27046e-14  7.56820e-15    2.38578e-04   \n",
       "3    GO:0035986    1.20387e-17       1.58248e-13  3.95621e-14    7.08402e-04   \n",
       "4    GO:0031507    3.87533e-15       5.09413e-11  1.01883e-11    7.99370e-03   \n",
       "..          ...            ...               ...          ...            ...   \n",
       "471  GO:0001221    4.22852e-02       1.00000e+00  9.54018e-01    1.79621e-02   \n",
       "472  GO:0005018    4.43183e-02       1.00000e+00  9.94568e-01    1.54725e-02   \n",
       "473  GO:0050211    4.68423e-02       1.00000e+00  1.00000e+00    4.57055e-02   \n",
       "474  GO:0005519    4.80793e-02       1.00000e+00  1.00000e+00    1.54725e-02   \n",
       "475  GO:1903135    4.88392e-02       1.00000e+00  1.00000e+00    4.57055e-02   \n",
       "\n",
       "     hyper_bonferroni    hyper_fdr  \n",
       "0         1.00000e+00  1.31457e-01  \n",
       "1         1.00000e+00  2.23282e-01  \n",
       "2         1.00000e+00  4.18148e-02  \n",
       "3         1.00000e+00  9.80204e-02  \n",
       "4         1.00000e+00  4.58852e-01  \n",
       "..                ...          ...  \n",
       "471       1.00000e+00  1.00000e+00  \n",
       "472       1.00000e+00  1.00000e+00  \n",
       "473       1.00000e+00  1.00000e+00  \n",
       "474       1.00000e+00  1.00000e+00  \n",
       "475       1.00000e+00  1.00000e+00  \n",
       "\n",
       "[476 rows x 7 columns]"
      ]
     },
     "execution_count": 15,
     "metadata": {},
     "output_type": "execute_result"
    }
   ],
   "source": [
    "great_webserver"
   ]
  },
  {
   "cell_type": "markdown",
   "metadata": {},
   "source": [
    "### II.2 Compare the results between greatpy and great "
   ]
  },
  {
   "cell_type": "markdown",
   "metadata": {},
   "source": [
    "#### II.2.1 Preprocessing"
   ]
  },
  {
   "cell_type": "code",
   "execution_count": 13,
   "metadata": {},
   "outputs": [],
   "source": [
    "before_pp = enrichment_tot.shape[0]\n",
    "enrichment_tot = enrichment_tot[enrichment_tot.index.isin(list(great_webserver[\"id\"]))]\n",
    "after_pp = enrichment_tot.shape[0]"
   ]
  },
  {
   "cell_type": "code",
   "execution_count": 16,
   "metadata": {},
   "outputs": [],
   "source": [
    "great_webserver = great_webserver[great_webserver[\"id\"].isin(list(enrichment_tot.index))]\n",
    "great_webserver = great_webserver.sort_values(\"id\")"
   ]
  },
  {
   "cell_type": "code",
   "execution_count": 23,
   "metadata": {},
   "outputs": [],
   "source": [
    "binom_greatpy = hyper_greatpy = binom_great = hyper_great = []\n",
    "for i in range(enrichment_tot.shape[0]) : \n",
    "    go_id = list(enrichment_tot.index)[i]\n",
    "    curr_enrichment = enrichment_tot.iloc[i]\n",
    "    curr_great_webserver = great_webserver.loc[great_webserver[\"id\"]==go_id]\n",
    "    binom_greatpy.append(float(curr_enrichment[\"binom_p_value\"]))\n",
    "    hyper_greatpy.append(float(curr_enrichment[\"hypergeom_p_value\"]))\n",
    "    binom_great.append(float(curr_great_webserver[\"binom_p_value\"]))\n",
    "    hyper_great.append(float(curr_great_webserver[\"hyper_p_value\"]))\n",
    "binom = pd.DataFrame({\"binom_greatpy\":binom_greatpy,\"binom_great\":binom_great})\n",
    "hyper = pd.DataFrame({\"hyper_greatpy\":hyper_greatpy,\"hyper_great\":hyper_great})"
   ]
  },
  {
   "cell_type": "markdown",
   "metadata": {},
   "source": [
    "#### II.2.b Graphical"
   ]
  },
  {
   "cell_type": "code",
   "execution_count": 24,
   "metadata": {},
   "outputs": [
    {
     "data": {
      "image/png": "[encoded data removed]",
      "text/plain": [
       "<Figure size 432x288 with 1 Axes>"
      ]
     },
     "metadata": {
      "needs_background": "light"
     },
     "output_type": "display_data"
    }
   ],
   "source": [
    "pl=great.pl.scatterplot(binom,colname_x=\"binom_greatpy\",colname_y=\"binom_great\")"
   ]
  },
  {
   "cell_type": "code",
   "execution_count": 25,
   "metadata": {},
   "outputs": [
    {
     "data": {
      "image/png": "[encoded data removed]",
      "text/plain": [
       "<Figure size 432x288 with 1 Axes>"
      ]
     },
     "metadata": {
      "needs_background": "light"
     },
     "output_type": "display_data"
    }
   ],
   "source": [
    "great.pl.scatterplot(hyper,colname_x=\"hyper_greatpy\",colname_y=\"hyper_great\")"
   ]
  },
  {
   "cell_type": "markdown",
   "metadata": {},
   "source": [
    "#### II.2.c Statistics"
   ]
  },
  {
   "cell_type": "code",
   "execution_count": 26,
   "metadata": {},
   "outputs": [],
   "source": [
    "def stat(binom_great_list_list, hyper_great_listpy_list,binom_great_list,hyper_great_list) : \n",
    "    if len(binom_great_list_list) >= 2 and len(hyper_great_listpy_list) >= 2 and len(binom_great_list) >= 2  and len(hyper_great_list) >= 2 : \n",
    "        return pd.DataFrame({\n",
    "            \"binom\": [cov(m = binom_great_list_list, y = binom_great_list)[0][1],pearsonr(binom_great_list_list,binom_great_list)[0]],\n",
    "            \"hyper\":[cov(m = hyper_great_listpy_list, y = hyper_great_list)[0][1],pearsonr(hyper_great_listpy_list,hyper_great_list)[0]]},\n",
    "            index=[\"correlation_coefficient\",\"pearson\"])\n",
    "    return False"
   ]
  },
  {
   "cell_type": "markdown",
   "metadata": {},
   "source": [
    "Issue is : NaN in hyper_fdr"
   ]
  },
  {
   "cell_type": "code",
   "execution_count": 28,
   "metadata": {},
   "outputs": [],
   "source": [
    "# stat(binom_greatpy, hyper_greatpy,binom_great,hyper_great)"
   ]
  },
  {
   "cell_type": "code",
   "execution_count": 29,
   "metadata": {},
   "outputs": [
    {
     "name": "stdout",
     "output_type": "stream",
     "text": [
      "286\n",
      "286\n"
     ]
    }
   ],
   "source": [
    "print(before_pp)\n",
    "print(after_pp)"
   ]
  },
  {
   "cell_type": "markdown",
   "metadata": {},
   "source": [
    "We went from 268 ontology terms in greatpy output to 92 ontology terms by selecting the GO identifiers present in both greatpy and great "
   ]
  },
  {
   "cell_type": "markdown",
   "metadata": {},
   "source": [
    "But when two ontology terms are selected they have the same binomial and hypergeometric probability value "
   ]
  },
  {
   "cell_type": "markdown",
   "metadata": {},
   "source": [
    "# How many associations are good or bad "
   ]
  },
  {
   "cell_type": "code",
   "execution_count": 30,
   "metadata": {},
   "outputs": [
    {
     "name": "stdout",
     "output_type": "stream",
     "text": [
      "Number of gene association present in greatpy and great : 194\n",
      "Number of gene association prensent in great and not in greatpy 46\n",
      "Number of gene association prensent in greatpy and not in great 114\n"
     ]
    }
   ],
   "source": [
    "gene_asso_great = pd.read_csv(great_asso,sep=\"\\t\",comment=\"#\",names=[\"ontologies\",\"gene\"],index_col=False, dtype={\"ontologies\":\"object\",\"gene\":\"object\"},usecols=[\"gene\"])\n",
    "gene_asso_greatpy = great.tl.get_association(\n",
    "    test = pd.read_csv(test,sep=\"\\t\",comment=\"#\",usecols=[0,1,2],names=[\"Chr\", \"Chr_Start\", \"Chr_End\"],dtype={\"Chr\":\"object\", \"Chr_Start\":\"int64\", \"Chr_End\":\"int64\"}),\n",
    "    regdom= pd.read_csv(regdom,sep=\"\\t\",comment=\"#\",names=[\"Chr\", \"Chr_Start\", \"Chr_End\",\"Name\",\"tss\",\"Strand\"],dtype={\"Chr\":\"object\", \"Chr_Start\":\"int64\", \"Chr_End\":\"int64\",\"Name\":\"object\",\"tss\":\"int64\",\"Strand\":\"object\"}))\n",
    "in_in = gene_asso_great[gene_asso_great[\"gene\"].isin(gene_asso_greatpy)].shape[0]\n",
    "in_out = [i for i in list(gene_asso_great[\"gene\"]) if i not in gene_asso_greatpy]\n",
    "out_in = [i for i in gene_asso_greatpy if i not in list(gene_asso_great[\"gene\"])]\n",
    "\n",
    "print(f\"Number of gene association present in greatpy and great : {in_in}\")\n",
    "print(f\"Number of gene association prensent in great and not in greatpy {len(in_out)}\")\n",
    "print(f\"Number of gene association prensent in greatpy and not in great {len(out_in)}\")"
   ]
  }
 ],
 "metadata": {
  "kernelspec": {
   "display_name": "Python 3.9.12 ('base')",
   "language": "python",
   "name": "python3"
  },
  "language_info": {
   "codemirror_mode": {
    "name": "ipython",
    "version": 3
   },
   "file_extension": ".py",
   "mimetype": "text/x-python",
   "name": "python",
   "nbconvert_exporter": "python",
   "pygments_lexer": "ipython3",
   "version": "3.9.12"
  },
  "orig_nbformat": 4,
  "vscode": {
   "interpreter": {
    "hash": "dd3aa23b046397ccf7f1ffb7cb82646c26b15f0b12555a0fca8fb427d9fb147f"
   }
  }
 },
 "nbformat": 4,
 "nbformat_minor": 2
}
