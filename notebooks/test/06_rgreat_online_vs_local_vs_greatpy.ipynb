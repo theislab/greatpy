{
 "cells": [
  {
   "cell_type": "markdown",
   "metadata": {},
   "source": [
    "# rGreat local vs greatpy"
   ]
  },
  {
   "cell_type": "markdown",
   "metadata": {},
   "source": [
    "This notebook allows you to compare results between local rGreat and enrichment function from greatpy. "
   ]
  },
  {
   "cell_type": "markdown",
   "metadata": {},
   "source": [
    "r-base == 3.6.1\n",
    "\n",
    "python version == 3.8 "
   ]
  },
  {
   "cell_type": "code",
   "execution_count": 3,
   "metadata": {},
   "outputs": [],
   "source": [
    "%load_ext autoreload\n",
    "%autoreload 2"
   ]
  },
  {
   "cell_type": "code",
   "execution_count": 4,
   "metadata": {},
   "outputs": [],
   "source": [
    "import rpy2\n",
    "from rpy2.robjects.packages import importr\n",
    "from rpy2.robjects import pandas2ri\n",
    "from rpy2.robjects import r as r\n",
    "pandas2ri.activate()\n",
    "import pandas as pd\n",
    "\n",
    "import os \n",
    "import matplotlib.pyplot as plt\n",
    "import greatpy as great \n",
    "from scipy.stats import pearsonr\n",
    "import re\n",
    "import time \n",
    "import seaborn as sns \n",
    "import numpy as np"
   ]
  },
  {
   "cell_type": "code",
   "execution_count": 5,
   "metadata": {},
   "outputs": [
    {
     "data": {
      "text/plain": [
       "'3.5.2'"
      ]
     },
     "execution_count": 5,
     "metadata": {},
     "output_type": "execute_result"
    }
   ],
   "source": [
    "rpy2.__version__"
   ]
  },
  {
   "cell_type": "code",
   "execution_count": 6,
   "metadata": {},
   "outputs": [],
   "source": [
    "importr('rGREAT')\n",
    "ranges = importr('GenomicRanges')"
   ]
  },
  {
   "cell_type": "code",
   "execution_count": 7,
   "metadata": {},
   "outputs": [],
   "source": [
    "def rgreat_online_vs_local_vs_greatpy(): \n",
    "    stat_df = {\n",
    "        \"name\" : [],\n",
    "        \"pearson_binom\" : [], \n",
    "        \"pearson_hypergeom\" : []\n",
    "    }\n",
    "    pp = {\n",
    "        \"name\" : [],\n",
    "        \"before_pp_greatpy_size\" : [], \n",
    "        \"before_pp_local_size\" : [],\n",
    "        \"final_size\" : [],\n",
    "        \"%_of_diffrent_GO_term\" : [],\n",
    "    }\n",
    "    # test_file = [\"01_random.bed\",\"06_height_snps_hg38.bed\",\"07_height_snps_hg19.bed\",\"10_MAX.bed\"]\n",
    "    test_file = [\"06_height_snps_hg38.bed\",\"10_MAX.bed\"]\n",
    "\n",
    "    # test_file = [\"06_height_snps_hg38.bed\"]\n",
    "\n",
    "    for name in test_file : \n",
    "        # find the assembly \n",
    "        if re.match(\".*hg19.*\",name) != None : \n",
    "            assembly = \"hg19\"\n",
    "        else : \n",
    "            assembly = \"hg38\"\n",
    "\n",
    "        # online test \n",
    "        # res_online = rpy2.robjects.r['submitGreatJob'](f\"../../data/tests/test_data/input/{name}\",species=f\"{assembly}\",help=False)\n",
    "        # res_online = rpy2.robjects.r['getEnrichmentTables'](res_online)\n",
    "\n",
    "        # time.sleep(30)\n",
    "\n",
    "        # local test\n",
    "            # proprocessing : make a Grange frame \n",
    "        df = r[\"read.csv\"](f\"../../data/tests/test_data/input/{name}\",sep='\\t')\n",
    "        seqname = rpy2.robjects.StrVector([\"seqnames\", \"seqname\",\"chromosome\", \"X.Chr\",\"chr\", \"chromosome_name\",\"seqid\"])\n",
    "        end = rpy2.robjects.StrVector(['end', 'stop'])\n",
    "        df = ranges.makeGRangesFromDataFrame(df,seqnames_field=seqname)\n",
    "\n",
    "            # great calculation\n",
    "        local = rpy2.robjects.r['great'](df, \"msigdb:C5\", f\"GREAT:{assembly}\",verbose=False)\n",
    "        local = rpy2.robjects.r['getEnrichmentTables'](local)\n",
    "\n",
    "        time.sleep(30)\n",
    "\n",
    "        # greatpy calculation\n",
    "        # greatpy = great.tl.GREAT.enrichment(\n",
    "        #     test_file=f\"../../data/tests/test_data/input/{name}\",\n",
    "        #     regdom_file=f\"../../data/human/{assembly}/regulatory_domain.bed\",\n",
    "        #     chr_size_file=f\"../../data/human/{assembly}/chr_size.bed\",\n",
    "        #     annotation_file=f\"../../data/human/ontologies.csv\",\n",
    "        #     binom=True,\n",
    "        #     hypergeom=True,\n",
    "        #     )\n",
    "        # time.sleep(30)\n",
    "\n",
    "        # create each dataframe\n",
    "            # online\n",
    "        # name = [cdc.lower() for cdc in list(res_online.rx2(\"GO Molecular Function\").rx2(\"name\"))+list(res_online.rx2(\"GO Biological Process\").rx2(\"name\"))+list(res_online.rx2(\"GO Cellular Component\").rx2(\"name\"))]\n",
    "        # online = pd.DataFrame({\n",
    "        #     \"id\" : list(res_online.rx2(\"GO Molecular Function\").rx2(\"ID\"))+list(res_online.rx2(\"GO Biological Process\").rx2(\"ID\"))+list(res_online.rx2(\"GO Cellular Component\").rx2(\"ID\")),\n",
    "        #     \"name\" : name,\n",
    "        #     \"binom_p_val\" : list(res_online.rx2(\"GO Molecular Function\").rx2(\"Binom_Raw_PValue\"))+list(res_online.rx2(\"GO Biological Process\").rx2(\"Binom_Raw_PValue\"))+list(res_online.rx2(\"GO Cellular Component\").rx2(\"Binom_Raw_PValue\")),\n",
    "        #     \"hyper_p_val\" : list(res_online.rx2(\"GO Molecular Function\").rx2(\"Hyper_Raw_PValue\"))+list(res_online.rx2(\"GO Biological Process\").rx2(\"Hyper_Raw_PValue\"))+list(res_online.rx2(\"GO Cellular Component\").rx2(\"Hyper_Raw_PValue\"))\n",
    "        #     })\n",
    "\n",
    "            # local\n",
    "        name_go = list(local.rx2(\"id\")) \n",
    "        name_go = [\" \".join(cdc.lower().split(\"_\")[1:]) for cdc in list(local.rx2(\"id\"))]\n",
    "        local = pd.DataFrame({\n",
    "            \"name\": name_go,\n",
    "            \"binom_p_val\" : list(local.rx2(\"p_value\")),\n",
    "            \"hyper_p_val\" : list(local.rx2(\"p_value_hyper\"))\n",
    "            })\n",
    "\n",
    "        ann = pd.read_csv(\"../../data/human/ontologies.csv\",sep=';',comment='#',header=0,)\n",
    "        ann[\"name\"] = ann['name'].str.lower()\n",
    "        go = []\n",
    "        for i in range(local.shape[0]) : \n",
    "            curr = local.iloc[i]\n",
    "\n",
    "            if ann.loc[ann[\"name\"].isin([curr[\"name\"]])].shape[0]>0 : \n",
    "                # print(ann.loc[ann[\"name\"].isin([curr[\"name\"]])].iloc[0][\"id\"])\n",
    "                go.append(ann.loc[ann[\"name\"].isin([curr[\"name\"]])].iloc[0][\"id\"])\n",
    "            else :\n",
    "                go.append(\"\")\n",
    "        local[\"id\"] = go \n",
    "        local = local.loc[local[\"id\"]!=\"\"]\n",
    "        return local \n",
    "            # greatpy\n",
    "        greatpy[\"go_term\"] = greatpy[\"go_term\"].str.lower()\n",
    "\n",
    "        # correlation between online and greatpy \n",
    "        online = online[online[\"id\"].isin(greatpy[\"id\"])]\n",
    "        greatpy = greatpy[greatpy[\"id\"].isin(online[\"id\"])]\n",
    "        res_bin=[]\n",
    "        res_hyp=[]\n",
    "        cols_to_supr = []\n",
    "        for i in range(len(online)) : \n",
    "            curr_o = online.iloc[i]\n",
    "            if greatpy.loc[greatpy[\"id\"] == curr_o[\"id\"]].shape[0] > 0 : \n",
    "                res_bin.append( float(greatpy.loc[greatpy[\"id\"] == curr_o[\"id\"]][\"binom_p_value\"]) )\n",
    "                res_hyp.append( float( greatpy.loc[greatpy[\"id\"] == curr_o[\"id\"]][\"hypergeom_p_value\"] ))\n",
    "            else : \n",
    "                cols_to_supr.append(i)\n",
    "        online[\"binom_p_value_greatpy\"] = -np.log(res_bin)\n",
    "        online[\"hypergeom_p_value_greatpy\"] = -np.log(res_hyp)\n",
    "        online = online.drop(cols_to_supr,axis=1)\n",
    "\n",
    "        # correlation between local and online \n",
    "        online = online[online[\"id\"].isin(local[\"id\"])]\n",
    "        local = local[local[\"id\"].isin(online[\"id\"])]\n",
    "        res_bin = []\n",
    "        res_hyp = []\n",
    "        cols_to_supr = []\n",
    "        for i in range(len(online)) : \n",
    "            curr_o = online.iloc[i]\n",
    "            if local.loc[local[\"id\"] == curr_o[\"id\"]].shape[0] > 0 : \n",
    "                res_bin.append( float(local.loc[local[\"id\"] == curr_o[\"id\"]][\"binom_p_value\"]) )\n",
    "                res_hyp.append( float( local.loc[local[\"id\"] == curr_o[\"id\"]][\"hypergeom_p_value\"] ))\n",
    "            else : \n",
    "                cols_to_supr.append(i)\n",
    "        online[\"binom_p_value_local\"] = -np.log(res_bin)\n",
    "        online[\"hypergeom_p_value_local\"] = -np.log(res_hyp)\n",
    "        online = online.drop(cols_to_supr,axis=1)\n",
    "\n",
    "        res = {\"name1\":[],\"name2\":[],\"value\":[]}\n",
    "\n",
    "        res[\"name1\"].append(\"online\")\n",
    "        res[\"name2\"].append(\"greatpy\")\n",
    "        res[\"value\"].append(pearsonr(online[\"binom_p_value\"],online[\"binom_p_value_greatpy\"])[0])\n",
    "\n",
    "        res[\"name1\"].append(\"greatpy\")\n",
    "        res[\"name2\"].append(\"online\")\n",
    "        res[\"value\"].append(pearsonr(online[\"binom_p_value_greatpy\"],online[\"binom_p_value\"])[0])\n",
    "\n",
    "        res[\"name1\"].append(\"online\")\n",
    "        res[\"name2\"].append(\"local\")\n",
    "        res[\"value\"].append(pearsonr(online[\"binom_p_value\"],online[\"binom_p_value_local\"])[0])\n",
    "\n",
    "        res[\"name1\"].append(\"local\")\n",
    "        res[\"name2\"].append(\"online\")\n",
    "        res[\"value\"].append(pearsonr(online[\"binom_p_value\"],online[\"binom_p_value_local\"])[0])\n",
    "\n",
    "        res[\"name1\"].append(\"online\")\n",
    "        res[\"name2\"].append(\"online\")\n",
    "        res[\"value\"].append(pearsonr(online[\"binom_p_value\"],online[\"binom_p_value\"])[0])\n",
    "\n",
    "        res[\"name1\"].append(\"local\")\n",
    "        res[\"name2\"].append(\"greatpy\")\n",
    "        res[\"value\"].append(pearsonr(online[\"binom_p_value_greatpy\"],online[\"binom_p_value_local\"])[0])\n",
    "\n",
    "        res[\"name1\"].append(\"greatpy\")\n",
    "        res[\"name2\"].append(\"local\")\n",
    "        res[\"value\"].append(pearsonr(online[\"binom_p_value_local\"],online[\"binom_p_value_local\"])[0])\n",
    "\n",
    "        res[\"name1\"].append(\"local\")\n",
    "        res[\"name2\"].append(\"local\")\n",
    "        res[\"value\"].append(pearsonr(online[\"binom_p_value_local\"],online[\"binom_p_value_local\"])[0])\n",
    "\n",
    "\n",
    "        test = pd.DataFrame(res)\n",
    "        test = test.pivot(\"name1\",\"name2\",\"value\")\n",
    "        test.replace(np.nan,1,inplace=True)\n",
    "        test\n",
    "\n",
    "        sns.clustermap(test,figsize=(5,5))\n",
    "\n",
    "\n",
    "        time.sleep(90) # just to have not a burning computer ^^ \n",
    "        \n",
    "    "
   ]
  },
  {
   "cell_type": "code",
   "execution_count": 8,
   "metadata": {},
   "outputs": [
    {
     "name": "stderr",
     "output_type": "stream",
     "text": [
      "R[write to console]: The default enrichment tables contain no associated genes for the input\n",
      "regions.You can set `download_by = 'tsv'` to download the complete\n",
      "table,but note only the top 500 regions can be retreived. See the\n",
      "following link:\n",
      "\n",
      "https://great-help.atlassian.net/wiki/spaces/GREAT/pages/655401/Export#Export-GlobalExport\n",
      "\n",
      "R[write to console]: * use genome 'hg38'.\n",
      "\n",
      "R[write to console]: * TSS extension mode is 'basalPlusExt'.\n",
      "\n",
      "R[write to console]: * construct the basal domains by extending 5000bp to upstream and 1000bp to downsteram of TSS.\n",
      "\n",
      "R[write to console]: * calculate distances to neighbour regions.\n",
      "\n",
      "R[write to console]: * extend to both sides until reaching the neighbour genes or to the maximal extension (1000000bp).\n",
      "\n"
     ]
    },
    {
     "ename": "KeyError",
     "evalue": "'id'",
     "output_type": "error",
     "traceback": [
      "\u001b[0;31m---------------------------------------------------------------------------\u001b[0m",
      "\u001b[0;31mKeyError\u001b[0m                                  Traceback (most recent call last)",
      "File \u001b[0;32m~/.local/lib/python3.8/site-packages/pandas/core/indexes/base.py:3621\u001b[0m, in \u001b[0;36mIndex.get_loc\u001b[0;34m(self, key, method, tolerance)\u001b[0m\n\u001b[1;32m   3620\u001b[0m \u001b[39mtry\u001b[39;00m:\n\u001b[0;32m-> 3621\u001b[0m     \u001b[39mreturn\u001b[39;00m \u001b[39mself\u001b[39;49m\u001b[39m.\u001b[39;49m_engine\u001b[39m.\u001b[39;49mget_loc(casted_key)\n\u001b[1;32m   3622\u001b[0m \u001b[39mexcept\u001b[39;00m \u001b[39mKeyError\u001b[39;00m \u001b[39mas\u001b[39;00m err:\n",
      "File \u001b[0;32m~/.local/lib/python3.8/site-packages/pandas/_libs/index.pyx:136\u001b[0m, in \u001b[0;36mpandas._libs.index.IndexEngine.get_loc\u001b[0;34m()\u001b[0m\n",
      "File \u001b[0;32m~/.local/lib/python3.8/site-packages/pandas/_libs/index.pyx:163\u001b[0m, in \u001b[0;36mpandas._libs.index.IndexEngine.get_loc\u001b[0;34m()\u001b[0m\n",
      "File \u001b[0;32mpandas/_libs/hashtable_class_helper.pxi:5198\u001b[0m, in \u001b[0;36mpandas._libs.hashtable.PyObjectHashTable.get_item\u001b[0;34m()\u001b[0m\n",
      "File \u001b[0;32mpandas/_libs/hashtable_class_helper.pxi:5206\u001b[0m, in \u001b[0;36mpandas._libs.hashtable.PyObjectHashTable.get_item\u001b[0;34m()\u001b[0m\n",
      "\u001b[0;31mKeyError\u001b[0m: 'id'",
      "\nThe above exception was the direct cause of the following exception:\n",
      "\u001b[0;31mKeyError\u001b[0m                                  Traceback (most recent call last)",
      "\u001b[1;32m/home/tom/Stage/greatpy/notebooks/test/06_rgreat_online_vs_local_vs_greatpy.ipynb Cell 9\u001b[0m in \u001b[0;36m<cell line: 1>\u001b[0;34m()\u001b[0m\n\u001b[0;32m----> <a href='vscode-notebook-cell://wsl%2Bubuntu/home/tom/Stage/greatpy/notebooks/test/06_rgreat_online_vs_local_vs_greatpy.ipynb#ch0000008vscode-remote?line=0'>1</a>\u001b[0m local,online,greatpy \u001b[39m=\u001b[39m rgreat_online_vs_local_vs_greatpy()\n",
      "\u001b[1;32m/home/tom/Stage/greatpy/notebooks/test/06_rgreat_online_vs_local_vs_greatpy.ipynb Cell 9\u001b[0m in \u001b[0;36mrgreat_online_vs_local_vs_greatpy\u001b[0;34m()\u001b[0m\n\u001b[1;32m     <a href='vscode-notebook-cell://wsl%2Bubuntu/home/tom/Stage/greatpy/notebooks/test/06_rgreat_online_vs_local_vs_greatpy.ipynb#ch0000008vscode-remote?line=89'>90</a>\u001b[0m greatpy[\u001b[39m\"\u001b[39m\u001b[39mgo_term\u001b[39m\u001b[39m\"\u001b[39m] \u001b[39m=\u001b[39m greatpy[\u001b[39m\"\u001b[39m\u001b[39mgo_term\u001b[39m\u001b[39m\"\u001b[39m]\u001b[39m.\u001b[39mstr\u001b[39m.\u001b[39mlower()\n\u001b[1;32m     <a href='vscode-notebook-cell://wsl%2Bubuntu/home/tom/Stage/greatpy/notebooks/test/06_rgreat_online_vs_local_vs_greatpy.ipynb#ch0000008vscode-remote?line=91'>92</a>\u001b[0m \u001b[39m# correlation between online and greatpy \u001b[39;00m\n\u001b[0;32m---> <a href='vscode-notebook-cell://wsl%2Bubuntu/home/tom/Stage/greatpy/notebooks/test/06_rgreat_online_vs_local_vs_greatpy.ipynb#ch0000008vscode-remote?line=92'>93</a>\u001b[0m online \u001b[39m=\u001b[39m online[online[\u001b[39m\"\u001b[39m\u001b[39mid\u001b[39m\u001b[39m\"\u001b[39m]\u001b[39m.\u001b[39misin(greatpy[\u001b[39m\"\u001b[39;49m\u001b[39mid\u001b[39;49m\u001b[39m\"\u001b[39;49m])]\n\u001b[1;32m     <a href='vscode-notebook-cell://wsl%2Bubuntu/home/tom/Stage/greatpy/notebooks/test/06_rgreat_online_vs_local_vs_greatpy.ipynb#ch0000008vscode-remote?line=93'>94</a>\u001b[0m greatpy \u001b[39m=\u001b[39m greatpy[greatpy[\u001b[39m\"\u001b[39m\u001b[39mid\u001b[39m\u001b[39m\"\u001b[39m]\u001b[39m.\u001b[39misin(online[\u001b[39m\"\u001b[39m\u001b[39mid\u001b[39m\u001b[39m\"\u001b[39m])]\n\u001b[1;32m     <a href='vscode-notebook-cell://wsl%2Bubuntu/home/tom/Stage/greatpy/notebooks/test/06_rgreat_online_vs_local_vs_greatpy.ipynb#ch0000008vscode-remote?line=94'>95</a>\u001b[0m res_bin\u001b[39m=\u001b[39m[]\n",
      "File \u001b[0;32m~/.local/lib/python3.8/site-packages/pandas/core/frame.py:3505\u001b[0m, in \u001b[0;36mDataFrame.__getitem__\u001b[0;34m(self, key)\u001b[0m\n\u001b[1;32m   3503\u001b[0m \u001b[39mif\u001b[39;00m \u001b[39mself\u001b[39m\u001b[39m.\u001b[39mcolumns\u001b[39m.\u001b[39mnlevels \u001b[39m>\u001b[39m \u001b[39m1\u001b[39m:\n\u001b[1;32m   3504\u001b[0m     \u001b[39mreturn\u001b[39;00m \u001b[39mself\u001b[39m\u001b[39m.\u001b[39m_getitem_multilevel(key)\n\u001b[0;32m-> 3505\u001b[0m indexer \u001b[39m=\u001b[39m \u001b[39mself\u001b[39;49m\u001b[39m.\u001b[39;49mcolumns\u001b[39m.\u001b[39;49mget_loc(key)\n\u001b[1;32m   3506\u001b[0m \u001b[39mif\u001b[39;00m is_integer(indexer):\n\u001b[1;32m   3507\u001b[0m     indexer \u001b[39m=\u001b[39m [indexer]\n",
      "File \u001b[0;32m~/.local/lib/python3.8/site-packages/pandas/core/indexes/base.py:3623\u001b[0m, in \u001b[0;36mIndex.get_loc\u001b[0;34m(self, key, method, tolerance)\u001b[0m\n\u001b[1;32m   3621\u001b[0m     \u001b[39mreturn\u001b[39;00m \u001b[39mself\u001b[39m\u001b[39m.\u001b[39m_engine\u001b[39m.\u001b[39mget_loc(casted_key)\n\u001b[1;32m   3622\u001b[0m \u001b[39mexcept\u001b[39;00m \u001b[39mKeyError\u001b[39;00m \u001b[39mas\u001b[39;00m err:\n\u001b[0;32m-> 3623\u001b[0m     \u001b[39mraise\u001b[39;00m \u001b[39mKeyError\u001b[39;00m(key) \u001b[39mfrom\u001b[39;00m \u001b[39merr\u001b[39;00m\n\u001b[1;32m   3624\u001b[0m \u001b[39mexcept\u001b[39;00m \u001b[39mTypeError\u001b[39;00m:\n\u001b[1;32m   3625\u001b[0m     \u001b[39m# If we have a listlike key, _check_indexing_error will raise\u001b[39;00m\n\u001b[1;32m   3626\u001b[0m     \u001b[39m#  InvalidIndexError. Otherwise we fall through and re-raise\u001b[39;00m\n\u001b[1;32m   3627\u001b[0m     \u001b[39m#  the TypeError.\u001b[39;00m\n\u001b[1;32m   3628\u001b[0m     \u001b[39mself\u001b[39m\u001b[39m.\u001b[39m_check_indexing_error(key)\n",
      "\u001b[0;31mKeyError\u001b[0m: 'id'"
     ]
    },
    {
     "ename": "",
     "evalue": "",
     "output_type": "error",
     "traceback": [
      "\u001b[1;31mThe Kernel crashed while executing code in the the current cell or a previous cell. Please review the code in the cell(s) to identify a possible cause of the failure. Click <a href='https://aka.ms/vscodeJupyterKernelCrash'>here</a> for more info. View Jupyter <a href='command:jupyter.viewOutput'>log</a> for further details."
     ]
    }
   ],
   "source": [
    "# local,online,greatpy = rgreat_online_vs_local_vs_greatpy()"
   ]
  },
  {
   "cell_type": "code",
   "execution_count": null,
   "metadata": {},
   "outputs": [],
   "source": [
    "rgreat_online_vs_local_vs_greatpy()"
   ]
  }
 ],
 "metadata": {
  "kernelspec": {
   "display_name": "Python 3.8.13 ('gpy')",
   "language": "python",
   "name": "python3"
  },
  "language_info": {
   "codemirror_mode": {
    "name": "ipython",
    "version": 3
   },
   "file_extension": ".py",
   "mimetype": "text/x-python",
   "name": "python",
   "nbconvert_exporter": "python",
   "pygments_lexer": "ipython3",
   "version": "3.8.13"
  },
  "orig_nbformat": 4,
  "vscode": {
   "interpreter": {
    "hash": "610c73e5f1997caa668091b43a573fbafba1e2b96e55fbc05d56c58d21b90949"
   }
  }
 },
 "nbformat": 4,
 "nbformat_minor": 2
}
