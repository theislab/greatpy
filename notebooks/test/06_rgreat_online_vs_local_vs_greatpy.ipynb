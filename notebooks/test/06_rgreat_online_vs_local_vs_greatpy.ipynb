{
 "cells": [
  {
   "cell_type": "markdown",
   "metadata": {},
   "source": [
    "# rGREAT online vs rGreat local vs greatpy"
   ]
  },
  {
   "cell_type": "markdown",
   "metadata": {},
   "source": [
    "This notebook allows you to compare results between local rGreat online, rGREAT local and enrichment function from greatpy. "
   ]
  },
  {
   "cell_type": "markdown",
   "metadata": {},
   "source": [
    "r-base == 3.6.1\n",
    "\n",
    "python version == 3.8 "
   ]
  },
  {
   "cell_type": "code",
   "execution_count": 1,
   "metadata": {},
   "outputs": [],
   "source": [
    "%load_ext autoreload\n",
    "%autoreload 2"
   ]
  },
  {
   "cell_type": "code",
   "execution_count": 2,
   "metadata": {},
   "outputs": [],
   "source": [
    "# import rpy2\n",
    "# from rpy2.robjects.packages import importr\n",
    "# from rpy2.robjects import pandas2ri\n",
    "# from rpy2.robjects import r as r\n",
    "# pandas2ri.activate()\n",
    "import pandas as pd\n",
    "\n",
    "import os \n",
    "import matplotlib.pyplot as plt\n",
    "import greatpy as great \n",
    "from scipy.stats import pearsonr\n",
    "import re\n",
    "import time \n",
    "import seaborn as sns \n",
    "import numpy as np\n",
    "import warnings\n",
    "warnings.filterwarnings('ignore')"
   ]
  },
  {
   "cell_type": "code",
   "execution_count": 3,
   "metadata": {},
   "outputs": [],
   "source": [
    "# rpy2.__version__"
   ]
  },
  {
   "cell_type": "code",
   "execution_count": 4,
   "metadata": {},
   "outputs": [],
   "source": [
    "# importr('rGREAT')\n",
    "# ranges = importr('GenomicRanges')"
   ]
  },
  {
   "cell_type": "code",
   "execution_count": 11,
   "metadata": {},
   "outputs": [],
   "source": [
    "def rgreat_online_vs_local_vs_greatpy(): \n",
    "    stat_df = {\n",
    "        \"name\" : [],\n",
    "        \"pearson_binom\" : [], \n",
    "        \"pearson_hypergeom\" : []\n",
    "    }\n",
    "    pp = {\n",
    "        \"name\" : [],\n",
    "        \"before_pp_greatpy_size\" : [], \n",
    "        \"before_pp_local_size\" : [],\n",
    "        \"final_size\" : [],\n",
    "        \"%_of_diffrent_GO_term\" : [],\n",
    "    }\n",
    "    test_file = [\"01_random.bed\",\"04_ultra_hg38.bed\",\"06_height_snps_hg38.bed\",\"07_height_snps_hg19.bed\",\"10_MAX.bed\"]\n",
    "\n",
    "    ann = pd.read_csv(\"../../data/human/ontologies.csv\",sep=';',comment='#',header=0,)\n",
    "    ann[\"name\"] = ann['name'].str.lower()\n",
    "    table = pd.DataFrame()\n",
    "\n",
    "    res = {\"name1\":[],\"file\":[],\"name3\":[],\"value\":[]}\n",
    "\n",
    "    for name in test_file : \n",
    "        # find the assembly \n",
    "        # if re.match(\".*hg19.*\",name) != None : \n",
    "        #     assembly = \"hg19\"\n",
    "        # else : \n",
    "        #     assembly = \"hg38\"\n",
    "\n",
    "        # # online test \n",
    "        # res_online = rpy2.robjects.r['submitGreatJob'](f\"../../data/tests/test_data/input/{name}\",species=f\"{assembly}\",help=False)\n",
    "        # res_online = rpy2.robjects.r['getEnrichmentTables'](res_online)\n",
    "\n",
    "        # time.sleep(30)\n",
    "\n",
    "        # # local test\n",
    "        #     # proprocessing : make a Grange frame \n",
    "        # df = r[\"read.csv\"](f\"../../data/tests/test_data/input/{name}\",sep='\\t')\n",
    "        # seqname = rpy2.robjects.StrVector([\"seqnames\", \"seqname\",\"chromosome\", \"X.Chr\",\"chr\", \"chromosome_name\",\"seqid\"])\n",
    "        # end = rpy2.robjects.StrVector(['end', 'stop'])\n",
    "        # df = ranges.makeGRangesFromDataFrame(df,seqnames_field=seqname)\n",
    "\n",
    "        #     # great calculation\n",
    "        # local = rpy2.robjects.r['great'](df, \"GREAT:C5\", f\"txdb:{assembly}\",verbose=False)\n",
    "        # local = rpy2.robjects.r['getEnrichmentTables'](local)\n",
    "\n",
    "        # time.sleep(30)\n",
    "\n",
    "        # # greatpy calculation\n",
    "        # greatpy = great.tl.GREAT.enrichment(\n",
    "        #     test_file=f\"../../data/tests/test_data/input/{name}\",\n",
    "        #     regdom_file=f\"../../data/human/{assembly}/regulatory_domain.bed\",\n",
    "        #     chr_size_file=f\"../../data/human/{assembly}/chr_size.bed\",\n",
    "        #     annotation_file=f\"../../data/human/ontologies.csv\",\n",
    "        #     binom=True,\n",
    "        #     hypergeom=True,\n",
    "        #     )\n",
    "        # time.sleep(30)\n",
    "\n",
    "        # # create each dataframe\n",
    "        #     # online\n",
    "        # name_online = [cdc.lower() for cdc in list(res_online.rx2(\"GO Molecular Function\").rx2(\"name\"))+list(res_online.rx2(\"GO Biological Process\").rx2(\"name\"))+list(res_online.rx2(\"GO Cellular Component\").rx2(\"name\"))]\n",
    "        # online = pd.DataFrame({\n",
    "        #     \"id\" : list(res_online.rx2(\"GO Molecular Function\").rx2(\"ID\"))+list(res_online.rx2(\"GO Biological Process\").rx2(\"ID\"))+list(res_online.rx2(\"GO Cellular Component\").rx2(\"ID\")),\n",
    "        #     \"name\" : name_online,\n",
    "        #     \"binom_p_val\" : list(res_online.rx2(\"GO Molecular Function\").rx2(\"Binom_Raw_PValue\"))+list(res_online.rx2(\"GO Biological Process\").rx2(\"Binom_Raw_PValue\"))+list(res_online.rx2(\"GO Cellular Component\").rx2(\"Binom_Raw_PValue\")),\n",
    "        #     \"hyper_p_val\" : list(res_online.rx2(\"GO Molecular Function\").rx2(\"Hyper_Raw_PValue\"))+list(res_online.rx2(\"GO Biological Process\").rx2(\"Hyper_Raw_PValue\"))+list(res_online.rx2(\"GO Cellular Component\").rx2(\"Hyper_Raw_PValue\"))\n",
    "        #     })\n",
    "\n",
    "        #     # local\n",
    "        # name_local = list(local.rx2(\"id\")) \n",
    "        # name_local = [\" \".join(cdc.lower().split(\"_\")[1:]) for cdc in list(local.rx2(\"id\"))]\n",
    "        # local = pd.DataFrame({\n",
    "        #     \"name\": name_local,\n",
    "        #     \"binom_p_val\" : list(local.rx2(\"p_value\")),\n",
    "        #     \"hyper_p_val\" : list(local.rx2(\"p_value_hyper\"))\n",
    "        #     })\n",
    "\n",
    "        file_out = name.split(\".\")\n",
    "        greatpy = pd.read_csv(f\"../../../{file_out[0]}.out\",sep = \",\",header=0,index_col=0)\n",
    "        local = pd.read_csv(f\"../../../{file_out[0]}.out_local.out\",sep=',',header=0,index_col=0)\n",
    "        online = pd.read_csv(f\"../../../{file_out[0]}.out_online.out\",sep=',',header=0,index_col=0)\n",
    "\n",
    "            # greatpy\n",
    "        greatpy[\"go_term\"] = greatpy[\"go_term\"].str.lower()\n",
    "\n",
    "        # correlation between online and greatpy \n",
    "        o_great = online[online[\"id\"].isin(list(greatpy.index))]\n",
    "        great_o = greatpy[greatpy.index.isin(list(online[\"id\"]))]\n",
    "\n",
    "        tot = pd.DataFrame()\n",
    "        res_bin=[]\n",
    "        res_hyp=[]\n",
    "        cols_to_supr = []\n",
    "        for i in range(len(o_great)) : \n",
    "            curr_o = o_great.iloc[i]\n",
    "            if greatpy.loc[greatpy.index == curr_o[\"id\"]].shape[0] > 0 : \n",
    "                res_bin.append( float(greatpy.loc[greatpy.index == curr_o[\"id\"]][\"binom_p_value\"]) )\n",
    "                res_hyp.append( float( greatpy.loc[greatpy.index == curr_o[\"id\"]][\"hypergeom_p_value\"] ))\n",
    "            else : \n",
    "                cols_to_supr.append(i)\n",
    "        \n",
    "        tot[\"id\"] = o_great[\"id\"]\n",
    "        tot[\"binom_p_value_online\"] = -np.log(list(o_great[\"binom_p_val\"]))\n",
    "        tot[\"hyper_p_value_online\"] = -np.log(list(o_great[\"hyper_p_val\"]))\n",
    "        tot[\"binom_p_value_greatpy\"] = -np.log(res_bin)\n",
    "        tot[\"hypergeom_p_value_greatpy\"] = -np.log(res_hyp)\n",
    "\n",
    "        # add GO id to local \n",
    "        go = []\n",
    "        for i in range(local.shape[0]) : \n",
    "            curr = local.iloc[i]\n",
    "\n",
    "            if ann.loc[ann[\"name\"].isin([curr[\"name\"]])].shape[0]>0 : \n",
    "                go.append(ann.loc[ann[\"name\"].isin([curr[\"name\"]])].iloc[0][\"id\"])\n",
    "            else :\n",
    "                go.append(\"\")\n",
    "        local[\"id\"] = go \n",
    "        local = local.loc[local[\"id\"]!=\"\"]\n",
    "\n",
    "        # Correlation between online and local \n",
    "        o_loc = online[online[\"id\"].isin(local[\"id\"])]\n",
    "        loc_o = local[local[\"id\"].isin(online[\"id\"])]\n",
    "        tot_2 = pd.DataFrame()\n",
    "\n",
    "        res_bin=[]\n",
    "        res_hyp=[]\n",
    "        cols_to_supr = []\n",
    "        for i in range(len(o_loc)) : \n",
    "            curr_o = o_loc.iloc[i]\n",
    "            if loc_o.loc[loc_o[\"id\"] == curr_o[\"id\"]].shape[0] > 0 : \n",
    "                res_bin.append(float(loc_o.loc[loc_o[\"id\"] == curr_o[\"id\"]].iloc[0][\"binom_p_val\"]) )\n",
    "                res_hyp.append(float(loc_o.loc[loc_o[\"id\"] == curr_o[\"id\"]].iloc[0][\"hyper_p_val\"] ))\n",
    "            else : \n",
    "                cols_to_supr.append(i)\n",
    "        tot_2[\"id\"] = o_loc[\"id\"]\n",
    "        tot_2[\"binom_p_value_online\"] = -np.log(list(o_loc[\"binom_p_val\"]))\n",
    "        tot_2[\"hyper_p_value_online\"] = -np.log(list(o_loc[\"hyper_p_val\"]))\n",
    "        tot_2[\"binom_p_value_local\"] = -np.log(res_bin)\n",
    "        tot_2[\"hypergeom_p_value_local\"] = -np.log(res_hyp)\n",
    "\n",
    "        # Correlation between greatpy and local \n",
    "        g_loc = greatpy[greatpy.index.isin(local[\"id\"])]\n",
    "        loc_g = local[local[\"id\"].isin(greatpy.index)]\n",
    "        tot_3 = pd.DataFrame()\n",
    "\n",
    "        res_bin=[]\n",
    "        res_hyp=[]\n",
    "        cols_to_supr = []\n",
    "        g_loc = g_loc.reset_index().rename(columns={\"index\":\"id\"})\n",
    "        for i in range(g_loc.shape[0]) :  \n",
    "            curr_o = g_loc.iloc[i]\n",
    "            if loc_g.loc[loc_g[\"id\"] == curr_o[\"id\"]].shape[0] > 0 : \n",
    "                res_bin.append(float(loc_g.loc[loc_g[\"id\"] == curr_o[\"id\"]].iloc[0][\"binom_p_val\"]) )\n",
    "                res_hyp.append(float(loc_g.loc[loc_g[\"id\"] == curr_o[\"id\"]].iloc[0][\"hyper_p_val\"] ))\n",
    "            else : \n",
    "                cols_to_supr.append(i)\n",
    "        tot_3[\"id\"] = g_loc[\"id\"]\n",
    "        tot_3[\"binom_p_value_greatpy\"] = -np.log(list(g_loc[\"binom_p_value\"]))\n",
    "        tot_3[\"hyper_p_value_greatpy\"] = -np.log(list(g_loc[\"hypergeom_p_value\"]))\n",
    "        tot_3[\"binom_p_value_local\"] = -np.log(res_bin)\n",
    "        tot_3[\"hypergeom_p_value_local\"] = -np.log(res_hyp)\n",
    "\n",
    "        tot = tot.replace(np.inf,np.nan)\n",
    "        tot_2 = tot_2.replace(np.inf,np.nan)\n",
    "        tot_3 = tot_3.replace(np.inf,np.nan)\n",
    "        \n",
    "        tot = tot.dropna()\n",
    "        tot_2 = tot_2.dropna()\n",
    "        tot_3 = tot_3.dropna()\n",
    "\n",
    "        # create the table \n",
    "        \n",
    "\n",
    "        name_plot = \" \".join(name.split(\".\")[0].split(\"_\")[1:])\n",
    "\n",
    "        # res[\"name1\"].append(\"greatpy\")\n",
    "        # res[\"name3\"].append(\"greatpy\")\n",
    "        # res[\"value\"].append(pearsonr(tot[\"binom_p_value_greatpy\"],tot[\"binom_p_value_greatpy\"])[0])\n",
    "\n",
    "        res[\"name1\"].append(\"online\")\n",
    "        res[\"file\"].append(name_plot)\n",
    "        res[\"name3\"].append(\"greatpy\")\n",
    "        res[\"value\"].append(pearsonr(tot[\"binom_p_value_online\"],tot[\"binom_p_value_greatpy\"])[0])\n",
    "\n",
    "        # res[\"name1\"].append(\"greatpy\")\n",
    "        # res[\"name3\"].append(\"online\")\n",
    "        # res[\"value\"].append(pearsonr(tot[\"binom_p_value_greatpy\"],tot[\"binom_p_value_online\"])[0])\n",
    "\n",
    "        res[\"name1\"].append(\"online\")\n",
    "        res[\"file\"].append(name_plot)\n",
    "        res[\"name3\"].append(\"local\")\n",
    "        res[\"value\"].append(pearsonr(tot_2[\"binom_p_value_online\"],tot_2[\"binom_p_value_local\"])[0])\n",
    "\n",
    "        # res[\"name1\"].append(\"local\")\n",
    "        # res[\"name3\"].append(\"online\")\n",
    "        # res[\"value\"].append(pearsonr(tot_2[\"binom_p_value_online\"],tot_2[\"binom_p_value_local\"])[0])\n",
    "\n",
    "        # res[\"name1\"].append(\"online\")\n",
    "        # res[\"name3\"].append(\"online\")\n",
    "        # res[\"value\"].append(pearsonr(tot[\"binom_p_value_online\"],tot[\"binom_p_value_online\"])[0])\n",
    "\n",
    "        # res[\"name1\"].append(\"local\")\n",
    "        # res[\"name3\"].append(\"greatpy\")\n",
    "        # res[\"value\"].append(pearsonr(tot_3[\"binom_p_value_greatpy\"],tot_3[\"binom_p_value_local\"])[0])\n",
    "\n",
    "        # res[\"name1\"].append(\"greatpy\")\n",
    "        # res[\"name3\"].append(\"local\")\n",
    "        # res[\"value\"].append(pearsonr(tot_3[\"binom_p_value_greatpy\"],tot_3[\"binom_p_value_local\"])[0])\n",
    "        \n",
    "        # res[\"name1\"].append(\"local\")\n",
    "        # res[\"name3\"].append(\"local\")\n",
    "        # res[\"value\"].append(pearsonr(tot_2[\"binom_p_value_local\"],tot_2[\"binom_p_value_local\"])[0])\n",
    "\n",
    "        # test = pd.DataFrame(res)\n",
    "        # test = test.pivot(\"name1\",\"name3\",\"value\")\n",
    "        # test[\"file\"] = [name_plot]*test.shape[0]\n",
    "        # test = test.set_index(\"file\",append=True).reorder_levels([\"file\",\"name1\"])\n",
    "        # if table.shape[0] == 0 : \n",
    "        #     table = test \n",
    "        # else : \n",
    "        #     table = pd.concat([table, test])\n",
    "\n",
    "        # g = sns.clustermap(test,figsize=(3,3),annot = True)\n",
    "        # g.ax_heatmap.set_title(f\"{name}\")\n",
    "\n",
    "    res = pd.DataFrame(res)\n",
    "    res = res.pivot(\"file\",\"name3\",\"value\")\n",
    "    g = sns.heatmap(data=res,cmap=\"Reds\",annot=True)\n",
    "    g.set_title(\"correlation with GREAT server\")\n",
    "    g.set_ylabel(\"online results for each file\")\n",
    "    g.set_xlabel(\"algorithm results for each file\")\n",
    "        \n",
    "    plt.show(g)"
   ]
  },
  {
   "cell_type": "code",
   "execution_count": 12,
   "metadata": {},
   "outputs": [
    {
     "data": {
      "image/png": "[encoded data removed]",
      "text/plain": [
       "<Figure size 432x288 with 2 Axes>"
      ]
     },
     "metadata": {
      "needs_background": "light"
     },
     "output_type": "display_data"
    }
   ],
   "source": [
    "rgreat_online_vs_local_vs_greatpy()"
   ]
  },
  {
   "cell_type": "code",
   "execution_count": 103,
   "metadata": {},
   "outputs": [
    {
     "data": {
      "text/plain": [
       "<seaborn.matrix.ClusterGrid at 0x7f646bd95f40>"
      ]
     },
     "execution_count": 103,
     "metadata": {},
     "output_type": "execute_result"
    },
    {
     "data": {
      "image/png": "[encoded data removed]",
      "text/plain": [
       "<Figure size 720x720 with 4 Axes>"
      ]
     },
     "metadata": {
      "needs_background": "light"
     },
     "output_type": "display_data"
    }
   ],
   "source": [
    "sns.clustermap(test)"
   ]
  },
  {
   "cell_type": "markdown",
   "metadata": {},
   "source": [
    "## Compare greatpy and online with threshold = 0.05 on fdr correction "
   ]
  },
  {
   "cell_type": "code",
   "execution_count": 7,
   "metadata": {},
   "outputs": [],
   "source": [
    "from statsmodels.stats.multitest import multipletests"
   ]
  },
  {
   "cell_type": "code",
   "execution_count": 8,
   "metadata": {},
   "outputs": [
    {
     "name": "stdout",
     "output_type": "stream",
     "text": [
      "after threshold : greatpy shape = 292, online shape = 144\n",
      "after get same go ID : greatpy shape = 82, online shape = 82 \n",
      "\n",
      "after threshold : greatpy shape = 494, online shape = 577\n",
      "after get same go ID : greatpy shape = 217, online shape = 217 \n",
      "\n",
      "after threshold : greatpy shape = 553, online shape = 652\n",
      "after get same go ID : greatpy shape = 242, online shape = 242 \n",
      "\n",
      "after threshold : greatpy shape = 3, online shape = 17\n",
      "after get same go ID : greatpy shape = 1, online shape = 1 \n",
      "\n"
     ]
    },
    {
     "data": {
      "text/html": [
       "<div>\n",
       "<style scoped>\n",
       "    .dataframe tbody tr th:only-of-type {\n",
       "        vertical-align: middle;\n",
       "    }\n",
       "\n",
       "    .dataframe tbody tr th {\n",
       "        vertical-align: top;\n",
       "    }\n",
       "\n",
       "    .dataframe thead th {\n",
       "        text-align: right;\n",
       "    }\n",
       "</style>\n",
       "<table border=\"1\" class=\"dataframe\">\n",
       "  <thead>\n",
       "    <tr style=\"text-align: right;\">\n",
       "      <th></th>\n",
       "      <th>name</th>\n",
       "      <th>binom_correlation</th>\n",
       "    </tr>\n",
       "  </thead>\n",
       "  <tbody>\n",
       "    <tr>\n",
       "      <th>0</th>\n",
       "      <td>01_random</td>\n",
       "      <td>3.74254e-01</td>\n",
       "    </tr>\n",
       "    <tr>\n",
       "      <th>1</th>\n",
       "      <td>06_height_snps_hg38</td>\n",
       "      <td>4.73357e-01</td>\n",
       "    </tr>\n",
       "    <tr>\n",
       "      <th>2</th>\n",
       "      <td>07_height_snps_hg19</td>\n",
       "      <td>3.94162e-01</td>\n",
       "    </tr>\n",
       "    <tr>\n",
       "      <th>3</th>\n",
       "      <td>10_MAX</td>\n",
       "      <td>Error : df.shape = 1</td>\n",
       "    </tr>\n",
       "  </tbody>\n",
       "</table>\n",
       "</div>"
      ],
      "text/plain": [
       "                  name     binom_correlation\n",
       "0            01_random           3.74254e-01\n",
       "1  06_height_snps_hg38           4.73357e-01\n",
       "2  07_height_snps_hg19           3.94162e-01\n",
       "3               10_MAX  Error : df.shape = 1"
      ]
     },
     "execution_count": 8,
     "metadata": {},
     "output_type": "execute_result"
    }
   ],
   "source": [
    "stat = {\n",
    "        \"name\" : [], \n",
    "        \"binom_correlation\" : [],\n",
    "    }\n",
    "\n",
    "for name in [\"01_random.bed\",\"06_height_snps_hg38.bed\",\"07_height_snps_hg19.bed\",\"10_MAX.bed\"] : \n",
    "    file_out = name.split(\".\")\n",
    "    greatpy = pd.read_csv(f\"../../../{file_out[0]}.out\",sep = \",\",header=0,index_col=0)\n",
    "    online = pd.read_csv(f\"../../../{file_out[0]}.out_online.out\",sep=',',header=0,index_col=0) \n",
    "\n",
    "    online[\"binom_fdr\"] = multipletests(online[\"binom_p_val\"], alpha=0.05, method='fdr_bh')[1]\n",
    "\n",
    "    # réduction of df \n",
    "    greatpy = greatpy[greatpy[\"binom_fdr\"] <= 0.1]\n",
    "    online = online[online[\"binom_fdr\"] <= 0.1]\n",
    "\n",
    "    print(f\"after threshold : greatpy shape = {greatpy.shape[0]}, online shape = {online.shape[0]}\")\n",
    "    greatpy = greatpy[greatpy.index.isin(list(online[\"id\"]))]\n",
    "    online = online[online[\"id\"].isin(list(greatpy.index))]\n",
    "\n",
    "    print(f\"after get same go ID : greatpy shape = {greatpy.shape[0]}, online shape = {online.shape[0]} \\n\")\n",
    "\n",
    "    \n",
    "    stat[\"name\"].append(file_out[0])\n",
    "    try : \n",
    "        stat[\"binom_correlation\"].append(pearsonr(online[\"binom_fdr\"],greatpy[\"binom_fdr\"])[0])\n",
    "    except : \n",
    "        stat[\"binom_correlation\"].append(f\"Error : df.shape = {online.shape[0]}\")\n",
    "\n",
    "pd.DataFrame(stat)\n"
   ]
  }
 ],
 "metadata": {
  "kernelspec": {
   "display_name": "Python 3.8.13 ('base')",
   "language": "python",
   "name": "python3"
  },
  "language_info": {
   "codemirror_mode": {
    "name": "ipython",
    "version": 3
   },
   "file_extension": ".py",
   "mimetype": "text/x-python",
   "name": "python",
   "nbconvert_exporter": "python",
   "pygments_lexer": "ipython3",
   "version": "3.8.13"
  },
  "orig_nbformat": 4,
  "vscode": {
   "interpreter": {
    "hash": "dd3aa23b046397ccf7f1ffb7cb82646c26b15f0b12555a0fca8fb427d9fb147f"
   }
  }
 },
 "nbformat": 4,
 "nbformat_minor": 2
}
