{
 "cells": [
  {
   "cell_type": "markdown",
   "metadata": {},
   "source": [
    "# rGreat local vs greatpy"
   ]
  },
  {
   "cell_type": "markdown",
   "metadata": {},
   "source": [
    "This notebook allows you to compare results between local rGreat and enrichment function from greatpy. "
   ]
  },
  {
   "cell_type": "markdown",
   "metadata": {},
   "source": [
    "r-base == 3.6.1\n",
    "\n",
    "python version == 3.8 "
   ]
  },
  {
   "cell_type": "code",
   "execution_count": 1,
   "metadata": {},
   "outputs": [],
   "source": [
    "%load_ext autoreload\n",
    "%autoreload 2"
   ]
  },
  {
   "cell_type": "code",
   "execution_count": 2,
   "metadata": {},
   "outputs": [],
   "source": [
    "import rpy2\n",
    "from rpy2.robjects.packages import importr\n",
    "from rpy2.robjects import pandas2ri\n",
    "from rpy2.robjects import r as r\n",
    "pandas2ri.activate()\n",
    "import pandas as pd\n",
    "\n",
    "import os \n",
    "import matplotlib.pyplot as plt\n",
    "import greatpy as great \n",
    "from scipy.stats import pearsonr\n",
    "import re\n",
    "import time "
   ]
  },
  {
   "cell_type": "code",
   "execution_count": 7,
   "metadata": {},
   "outputs": [
    {
     "data": {
      "text/plain": [
       "'3.5.2'"
      ]
     },
     "execution_count": 7,
     "metadata": {},
     "output_type": "execute_result"
    }
   ],
   "source": [
    "rpy2.__version__"
   ]
  },
  {
   "cell_type": "code",
   "execution_count": 3,
   "metadata": {},
   "outputs": [],
   "source": [
    "importr('rGREAT')\n",
    "ranges = importr('GenomicRanges')"
   ]
  },
  {
   "cell_type": "code",
   "execution_count": 12,
   "metadata": {},
   "outputs": [],
   "source": [
    "def rgreat_online_vs_local_vs_greatpy(): \n",
    "    stat_df = {\n",
    "        \"name\" : [],\n",
    "        \"pearson_binom\" : [], \n",
    "        \"pearson_hypergeom\" : []\n",
    "    }\n",
    "    pp = {\n",
    "        \"name\" : [],\n",
    "        \"before_pp_greatpy_size\" : [], \n",
    "        \"before_pp_local_size\" : [],\n",
    "        \"final_size\" : [],\n",
    "        \"%_of_diffrent_GO_term\" : [],\n",
    "    }\n",
    "    # test_file = [\"01_random.bed\",\"06_height_snps_hg38.bed\",\"07_height_snps_hg19.bed\",\"10_MAX.bed\"]\n",
    "    test_file = [\"06_height_snps_hg38.bed\"]\n",
    "\n",
    "    for name in test_file : \n",
    "        # find the assembly \n",
    "        if re.match(\".*hg19.*\",name) != None : \n",
    "            assembly = \"hg19\"\n",
    "        else : \n",
    "            assembly = \"hg38\"\n",
    "\n",
    "        # online test \n",
    "        res_online = rpy2.robjects.r['submitGreatJob'](f\"../../data/tests/test_data/input/{name}\",species=f\"{assembly}\",help=False)\n",
    "        res_online = rpy2.robjects.r['getEnrichmentTables'](res_online)\n",
    "\n",
    "        time.sleep(30)\n",
    "\n",
    "        # local test\n",
    "            # proprocessing : make a Grange frame \n",
    "        df = r[\"read.csv\"](f\"../../data/tests/test_data/input/{name}\",sep='\\t')\n",
    "        seqname = rpy2.robjects.StrVector([\"seqnames\", \"seqname\",\"chromosome\", \"X.Chr\",\"chr\", \"chromosome_name\",\"seqid\"])\n",
    "        end = rpy2.robjects.StrVector(['end', 'stop'])\n",
    "        df = ranges.makeGRangesFromDataFrame(df,seqnames_field=seqname)\n",
    "\n",
    "            # great calculation\n",
    "        local = rpy2.robjects.r['great'](df, \"msigdb:C5\", f\"txdb:{assembly}\",verbose=False)\n",
    "        local = rpy2.robjects.r['getEnrichmentTables'](local)\n",
    "\n",
    "        time.sleep(30)\n",
    "\n",
    "        # greatpy calculation\n",
    "        greatpy = great.tl.GREAT.enrichment(\n",
    "            test_file=f\"../../data/tests/test_data/input/{name}\",\n",
    "            regdom_file=f\"../../data/human/{assembly}/regulatory_domain.bed\",\n",
    "            chr_size_file=f\"../../data/human/{assembly}/chr_size.bed\",\n",
    "            annotation_file=f\"../../data/human/ontologies.csv\",\n",
    "            binom=True,\n",
    "            hypergeom=True,\n",
    "            )\n",
    "\n",
    "        # create each dataframe\n",
    "            # online\n",
    "        name = [cdc.lower() for cdc in list(res_online.rx2(\"GO Molecular Function\").rx2(\"name\"))+list(res_online.rx2(\"GO Biological Process\").rx2(\"name\"))+list(res_online.rx2(\"GO Cellular Component\").rx2(\"name\"))]\n",
    "        online = pd.DataFrame({\n",
    "            \"id\" : list(res_online.rx2(\"GO Molecular Function\").rx2(\"ID\"))+list(res_online.rx2(\"GO Biological Process\").rx2(\"ID\"))+list(res_online.rx2(\"GO Cellular Component\").rx2(\"ID\")),\n",
    "            \"name\" : name,\n",
    "            \"binom_p_val\" : list(res_online.rx2(\"GO Molecular Function\").rx2(\"Binom_Raw_PValue\"))+list(res_online.rx2(\"GO Biological Process\").rx2(\"Binom_Raw_PValue\"))+list(res_online.rx2(\"GO Cellular Component\").rx2(\"Binom_Raw_PValue\")),\n",
    "            \"hyper_p_val\" : list(res_online.rx2(\"GO Molecular Function\").rx2(\"Hyper_Raw_PValue\"))+list(res_online.rx2(\"GO Biological Process\").rx2(\"Hyper_Raw_PValue\"))+list(res_online.rx2(\"GO Cellular Component\").rx2(\"Hyper_Raw_PValue\"))\n",
    "            })\n",
    "\n",
    "            # local\n",
    "        name_go = list(local.rx2(\"id\")) \n",
    "        name_go = [\" \".join(cdc.lower().split(\"_\")[1:]) for cdc in list(local.rx2(\"id\"))]\n",
    "        local = pd.DataFrame({\n",
    "            \"name\": name_go,\n",
    "            \"binom_p_val\" : list(local.rx2(\"p_value\")),\n",
    "            \"hyper_p_val\" : list(local.rx2(\"p_value_hyper\"))\n",
    "            })\n",
    "\n",
    "            # greatpy\n",
    "        greatpy[\"go_term\"] = greatpy[\"go_term\"].str.lower()\n",
    "\n",
    "        \n",
    "        time.sleep(90) # just to have not a burning computer ^^ \n",
    "        \n",
    "    return local, online, greatpy"
   ]
  },
  {
   "cell_type": "code",
   "execution_count": 13,
   "metadata": {},
   "outputs": [
    {
     "ename": "NameError",
     "evalue": "name 're' is not defined",
     "output_type": "error",
     "traceback": [
      "\u001b[0;31m---------------------------------------------------------------------------\u001b[0m",
      "\u001b[0;31mNameError\u001b[0m                                 Traceback (most recent call last)",
      "\u001b[1;32m/home/tom/Stage/greatpy/notebooks/test/06_rgreat_online_vs_local_vs_greatpy.ipynb Cell 9\u001b[0m in \u001b[0;36m<cell line: 1>\u001b[0;34m()\u001b[0m\n\u001b[0;32m----> <a href='vscode-notebook-cell://wsl%2Bubuntu/home/tom/Stage/greatpy/notebooks/test/06_rgreat_online_vs_local_vs_greatpy.ipynb#ch0000008vscode-remote?line=0'>1</a>\u001b[0m local,online,greatpy \u001b[39m=\u001b[39m rgreat_online_vs_local_vs_greatpy()\n",
      "\u001b[1;32m/home/tom/Stage/greatpy/notebooks/test/06_rgreat_online_vs_local_vs_greatpy.ipynb Cell 9\u001b[0m in \u001b[0;36mrgreat_online_vs_local_vs_greatpy\u001b[0;34m()\u001b[0m\n\u001b[1;32m     <a href='vscode-notebook-cell://wsl%2Bubuntu/home/tom/Stage/greatpy/notebooks/test/06_rgreat_online_vs_local_vs_greatpy.ipynb#ch0000008vscode-remote?line=14'>15</a>\u001b[0m test_file \u001b[39m=\u001b[39m [\u001b[39m\"\u001b[39m\u001b[39m06_height_snps_hg38.bed\u001b[39m\u001b[39m\"\u001b[39m]\n\u001b[1;32m     <a href='vscode-notebook-cell://wsl%2Bubuntu/home/tom/Stage/greatpy/notebooks/test/06_rgreat_online_vs_local_vs_greatpy.ipynb#ch0000008vscode-remote?line=16'>17</a>\u001b[0m \u001b[39mfor\u001b[39;00m name \u001b[39min\u001b[39;00m test_file : \n\u001b[1;32m     <a href='vscode-notebook-cell://wsl%2Bubuntu/home/tom/Stage/greatpy/notebooks/test/06_rgreat_online_vs_local_vs_greatpy.ipynb#ch0000008vscode-remote?line=17'>18</a>\u001b[0m     \u001b[39m# find the assembly \u001b[39;00m\n\u001b[0;32m---> <a href='vscode-notebook-cell://wsl%2Bubuntu/home/tom/Stage/greatpy/notebooks/test/06_rgreat_online_vs_local_vs_greatpy.ipynb#ch0000008vscode-remote?line=18'>19</a>\u001b[0m     \u001b[39mif\u001b[39;00m re\u001b[39m.\u001b[39mmatch(\u001b[39m\"\u001b[39m\u001b[39m.*hg19.*\u001b[39m\u001b[39m\"\u001b[39m,name) \u001b[39m!=\u001b[39m \u001b[39mNone\u001b[39;00m : \n\u001b[1;32m     <a href='vscode-notebook-cell://wsl%2Bubuntu/home/tom/Stage/greatpy/notebooks/test/06_rgreat_online_vs_local_vs_greatpy.ipynb#ch0000008vscode-remote?line=19'>20</a>\u001b[0m         assembly \u001b[39m=\u001b[39m \u001b[39m\"\u001b[39m\u001b[39mhg19\u001b[39m\u001b[39m\"\u001b[39m\n\u001b[1;32m     <a href='vscode-notebook-cell://wsl%2Bubuntu/home/tom/Stage/greatpy/notebooks/test/06_rgreat_online_vs_local_vs_greatpy.ipynb#ch0000008vscode-remote?line=20'>21</a>\u001b[0m     \u001b[39melse\u001b[39;00m : \n",
      "\u001b[0;31mNameError\u001b[0m: name 're' is not defined"
     ]
    }
   ],
   "source": [
    "local,online,greatpy = rgreat_online_vs_local_vs_greatpy()"
   ]
  },
  {
   "cell_type": "code",
   "execution_count": 9,
   "metadata": {},
   "outputs": [],
   "source": [
    "import pandas as pd\n",
    "stat = pd.DataFrame({\n",
    "    \"name\" : [1,2,3,4],\n",
    "    \"type\" : [0,0,1,1],\n",
    "    \"pearson_binom_1\" : [0.56,0.45,0.54,0.26],\n",
    "})"
   ]
  },
  {
   "cell_type": "code",
   "execution_count": 10,
   "metadata": {},
   "outputs": [
    {
     "data": {
      "text/plain": [
       "<seaborn.matrix.ClusterGrid at 0x7fef3f113d00>"
      ]
     },
     "execution_count": 10,
     "metadata": {},
     "output_type": "execute_result"
    },
    {
     "data": {
      "image/png": "[encoded data removed]",
      "text/plain": [
       "<Figure size 720x720 with 4 Axes>"
      ]
     },
     "metadata": {
      "needs_background": "light"
     },
     "output_type": "display_data"
    }
   ],
   "source": [
    "import seaborn as sns \n",
    "sns.clustermap(stat)"
   ]
  },
  {
   "cell_type": "markdown",
   "metadata": {},
   "source": [
    "As we can see the correlation between greatpy and local analysis of rGreat is not good."
   ]
  },
  {
   "cell_type": "code",
   "execution_count": 15,
   "metadata": {},
   "outputs": [
    {
     "data": {
      "text/html": [
       "<div>\n",
       "<style scoped>\n",
       "    .dataframe tbody tr th:only-of-type {\n",
       "        vertical-align: middle;\n",
       "    }\n",
       "\n",
       "    .dataframe tbody tr th {\n",
       "        vertical-align: top;\n",
       "    }\n",
       "\n",
       "    .dataframe thead th {\n",
       "        text-align: right;\n",
       "    }\n",
       "</style>\n",
       "<table border=\"1\" class=\"dataframe\">\n",
       "  <thead>\n",
       "    <tr style=\"text-align: right;\">\n",
       "      <th></th>\n",
       "      <th>name</th>\n",
       "      <th>before_pp_greatpy_size</th>\n",
       "      <th>before_pp_local_size</th>\n",
       "      <th>final_size</th>\n",
       "      <th>%_of_diffrent_GO_term</th>\n",
       "    </tr>\n",
       "  </thead>\n",
       "  <tbody>\n",
       "    <tr>\n",
       "      <th>0</th>\n",
       "      <td>01_random.bed</td>\n",
       "      <td>581</td>\n",
       "      <td>577</td>\n",
       "      <td>47</td>\n",
       "      <td>-1.13617e+03</td>\n",
       "    </tr>\n",
       "    <tr>\n",
       "      <th>1</th>\n",
       "      <td>06_height_snps_hg38.bed</td>\n",
       "      <td>2287</td>\n",
       "      <td>1835</td>\n",
       "      <td>367</td>\n",
       "      <td>-5.23160e+02</td>\n",
       "    </tr>\n",
       "    <tr>\n",
       "      <th>2</th>\n",
       "      <td>07_height_snps_hg19.bed</td>\n",
       "      <td>2299</td>\n",
       "      <td>1834</td>\n",
       "      <td>369</td>\n",
       "      <td>-5.23040e+02</td>\n",
       "    </tr>\n",
       "    <tr>\n",
       "      <th>3</th>\n",
       "      <td>10_MAX.bed</td>\n",
       "      <td>3013</td>\n",
       "      <td>1990</td>\n",
       "      <td>402</td>\n",
       "      <td>-6.49500e+02</td>\n",
       "    </tr>\n",
       "  </tbody>\n",
       "</table>\n",
       "</div>"
      ],
      "text/plain": [
       "                      name  before_pp_greatpy_size  before_pp_local_size  \\\n",
       "0            01_random.bed                     581                   577   \n",
       "1  06_height_snps_hg38.bed                    2287                  1835   \n",
       "2  07_height_snps_hg19.bed                    2299                  1834   \n",
       "3               10_MAX.bed                    3013                  1990   \n",
       "\n",
       "   final_size  %_of_diffrent_GO_term  \n",
       "0          47           -1.13617e+03  \n",
       "1         367           -5.23160e+02  \n",
       "2         369           -5.23040e+02  \n",
       "3         402           -6.49500e+02  "
      ]
     },
     "execution_count": 15,
     "metadata": {},
     "output_type": "execute_result"
    }
   ],
   "source": [
    "preprocess"
   ]
  },
  {
   "cell_type": "markdown",
   "metadata": {},
   "source": [
    "As we can see, the shape reduction is very high so It would to say : the GO term pick by the two function is diffrent."
   ]
  }
 ],
 "metadata": {
  "kernelspec": {
   "display_name": "Python 3.8.13 ('gpy')",
   "language": "python",
   "name": "python3"
  },
  "language_info": {
   "codemirror_mode": {
    "name": "ipython",
    "version": 3
   },
   "file_extension": ".py",
   "mimetype": "text/x-python",
   "name": "python",
   "nbconvert_exporter": "python",
   "pygments_lexer": "ipython3",
   "version": "3.8.13"
  },
  "orig_nbformat": 4,
  "vscode": {
   "interpreter": {
    "hash": "610c73e5f1997caa668091b43a573fbafba1e2b96e55fbc05d56c58d21b90949"
   }
  }
 },
 "nbformat": 4,
 "nbformat_minor": 2
}
