{
 "cells": [
  {
   "cell_type": "markdown",
   "metadata": {},
   "source": [
    "# Computation of annotation enrichment in a genetic set "
   ]
  },
  {
   "cell_type": "markdown",
   "metadata": {},
   "source": [
    "This code excerpt shows how to use the annotation enrichment computation function in a genetic set.\n",
    "The funciton return a dataframe of binom and hypergeometric p-value (<= 0.05) and for each p-value a fdr correction with alpha = 0.05.   "
   ]
  },
  {
   "cell_type": "markdown",
   "metadata": {},
   "source": [
    "In the second part of the code we will compare the results obtained with the Great webserver and between the binomial and hypergeometric probability"
   ]
  },
  {
   "cell_type": "code",
   "execution_count": 2,
   "metadata": {},
   "outputs": [],
   "source": [
    "%load_ext autoreload\n",
    "%autoreload 2"
   ]
  },
  {
   "cell_type": "code",
   "execution_count": 3,
   "metadata": {},
   "outputs": [],
   "source": [
    "import greatpy as great\n",
    "import pandas as pd\n",
    "from math import inf\n",
    "from numpy import log,nan, int64,cov,corrcoef\n",
    "from scipy.stats import pearsonr\n",
    "from seaborn import scatterplot as sp\n",
    "\n",
    "import warnings\n",
    "warnings.filterwarnings('ignore')"
   ]
  },
  {
   "cell_type": "markdown",
   "metadata": {},
   "source": [
    "## I Compute the p-values"
   ]
  },
  {
   "cell_type": "code",
   "execution_count": 5,
   "metadata": {},
   "outputs": [
    {
     "ename": "ValueError",
     "evalue": "invalid literal for int() with base 10: 'SRF.1'",
     "output_type": "error",
     "traceback": [
      "\u001b[0;31m---------------------------------------------------------------------------\u001b[0m",
      "\u001b[0;31mTypeError\u001b[0m                                 Traceback (most recent call last)",
      "File \u001b[0;32m~/.local/lib/python3.8/site-packages/pandas/_libs/parsers.pyx:1113\u001b[0m, in \u001b[0;36mpandas._libs.parsers.TextReader._convert_tokens\u001b[0;34m()\u001b[0m\n",
      "\u001b[0;31mTypeError\u001b[0m: Cannot cast array data from dtype('O') to dtype('int64') according to the rule 'safe'",
      "\nDuring handling of the above exception, another exception occurred:\n",
      "\u001b[0;31mValueError\u001b[0m                                Traceback (most recent call last)",
      "\u001b[1;32m/home/tom/Stage/greatpy/notebooks/test/02_srf_hg38.ipynb Cell 8'\u001b[0m in \u001b[0;36m<cell line: 1>\u001b[0;34m()\u001b[0m\n\u001b[0;32m----> <a href='vscode-notebook-cell://wsl%2Bubuntu/home/tom/Stage/greatpy/notebooks/test/02_srf_hg38.ipynb#ch0000006vscode-remote?line=0'>1</a>\u001b[0m enrichment_fdr \u001b[39m=\u001b[39m great\u001b[39m.\u001b[39;49mtl\u001b[39m.\u001b[39;49menrichment(\n\u001b[1;32m      <a href='vscode-notebook-cell://wsl%2Bubuntu/home/tom/Stage/greatpy/notebooks/test/02_srf_hg38.ipynb#ch0000006vscode-remote?line=1'>2</a>\u001b[0m     test\u001b[39m=\u001b[39;49m\u001b[39m\"\u001b[39;49m\u001b[39m../../data/test/02_srf_hg38.bed\u001b[39;49m\u001b[39m\"\u001b[39;49m,\n\u001b[1;32m      <a href='vscode-notebook-cell://wsl%2Bubuntu/home/tom/Stage/greatpy/notebooks/test/02_srf_hg38.ipynb#ch0000006vscode-remote?line=2'>3</a>\u001b[0m     regdom_file\u001b[39m=\u001b[39;49m\u001b[39m\"\u001b[39;49m\u001b[39m../../data/human/regulatory_domain.bed\u001b[39;49m\u001b[39m\"\u001b[39;49m,\n\u001b[1;32m      <a href='vscode-notebook-cell://wsl%2Bubuntu/home/tom/Stage/greatpy/notebooks/test/02_srf_hg38.ipynb#ch0000006vscode-remote?line=3'>4</a>\u001b[0m     chr_size_file\u001b[39m=\u001b[39;49m\u001b[39m\"\u001b[39;49m\u001b[39m../../data/human/chr_size.bed\u001b[39;49m\u001b[39m\"\u001b[39;49m,\n\u001b[1;32m      <a href='vscode-notebook-cell://wsl%2Bubuntu/home/tom/Stage/greatpy/notebooks/test/02_srf_hg38.ipynb#ch0000006vscode-remote?line=4'>5</a>\u001b[0m     annotation\u001b[39m=\u001b[39;49m\u001b[39m\"\u001b[39;49m\u001b[39m../../data/human/ontologies.csv\u001b[39;49m\u001b[39m\"\u001b[39;49m,\n\u001b[1;32m      <a href='vscode-notebook-cell://wsl%2Bubuntu/home/tom/Stage/greatpy/notebooks/test/02_srf_hg38.ipynb#ch0000006vscode-remote?line=5'>6</a>\u001b[0m     binom\u001b[39m=\u001b[39;49m\u001b[39mTrue\u001b[39;49;00m,\n\u001b[1;32m      <a href='vscode-notebook-cell://wsl%2Bubuntu/home/tom/Stage/greatpy/notebooks/test/02_srf_hg38.ipynb#ch0000006vscode-remote?line=6'>7</a>\u001b[0m     hypergeom\u001b[39m=\u001b[39;49m\u001b[39mTrue\u001b[39;49;00m,\n\u001b[1;32m      <a href='vscode-notebook-cell://wsl%2Bubuntu/home/tom/Stage/greatpy/notebooks/test/02_srf_hg38.ipynb#ch0000006vscode-remote?line=7'>8</a>\u001b[0m     alpha\u001b[39m=\u001b[39;49m\u001b[39m0.05\u001b[39;49m,\n\u001b[1;32m      <a href='vscode-notebook-cell://wsl%2Bubuntu/home/tom/Stage/greatpy/notebooks/test/02_srf_hg38.ipynb#ch0000006vscode-remote?line=8'>9</a>\u001b[0m     correction\u001b[39m=\u001b[39;49m(\u001b[39m\"\u001b[39;49m\u001b[39mfdr\u001b[39;49m\u001b[39m\"\u001b[39;49m,\u001b[39m0.05\u001b[39;49m)\n\u001b[1;32m     <a href='vscode-notebook-cell://wsl%2Bubuntu/home/tom/Stage/greatpy/notebooks/test/02_srf_hg38.ipynb#ch0000006vscode-remote?line=9'>10</a>\u001b[0m     )\n",
      "File \u001b[0;32m~/.local/lib/python3.8/site-packages/greatpy/tl/basic.py:328\u001b[0m, in \u001b[0;36menrichment\u001b[0;34m(test, regdom_file, chr_size_file, annotation, binom, hypergeom, alpha, correction, sort_by)\u001b[0m\n\u001b[1;32m    324\u001b[0m regdom \u001b[39m=\u001b[39m pd\u001b[39m.\u001b[39mread_csv(regdom_file,sep\u001b[39m=\u001b[39m\u001b[39m\"\u001b[39m\u001b[39m\\t\u001b[39;00m\u001b[39m\"\u001b[39m,comment\u001b[39m=\u001b[39m\u001b[39m\"\u001b[39m\u001b[39m#\u001b[39m\u001b[39m\"\u001b[39m,\n\u001b[1;32m    325\u001b[0m                 names\u001b[39m=\u001b[39m[\u001b[39m\"\u001b[39m\u001b[39mChr\u001b[39m\u001b[39m\"\u001b[39m, \u001b[39m\"\u001b[39m\u001b[39mChr_Start\u001b[39m\u001b[39m\"\u001b[39m, \u001b[39m\"\u001b[39m\u001b[39mChr_End\u001b[39m\u001b[39m\"\u001b[39m,\u001b[39m\"\u001b[39m\u001b[39mName\u001b[39m\u001b[39m\"\u001b[39m,\u001b[39m\"\u001b[39m\u001b[39mtss\u001b[39m\u001b[39m\"\u001b[39m,\u001b[39m\"\u001b[39m\u001b[39mStrand\u001b[39m\u001b[39m\"\u001b[39m],dtype\u001b[39m=\u001b[39m{\u001b[39m\"\u001b[39m\u001b[39mChr\u001b[39m\u001b[39m\"\u001b[39m:\u001b[39m\"\u001b[39m\u001b[39mobject\u001b[39m\u001b[39m\"\u001b[39m, \u001b[39m\"\u001b[39m\u001b[39mChr_Start\u001b[39m\u001b[39m\"\u001b[39m:\u001b[39m\"\u001b[39m\u001b[39mint64\u001b[39m\u001b[39m\"\u001b[39m, \u001b[39m\"\u001b[39m\u001b[39mChr_End\u001b[39m\u001b[39m\"\u001b[39m:\u001b[39m\"\u001b[39m\u001b[39mint64\u001b[39m\u001b[39m\"\u001b[39m,\u001b[39m\"\u001b[39m\u001b[39mName\u001b[39m\u001b[39m\"\u001b[39m:\u001b[39m\"\u001b[39m\u001b[39mobject\u001b[39m\u001b[39m\"\u001b[39m,\u001b[39m\"\u001b[39m\u001b[39mtss\u001b[39m\u001b[39m\"\u001b[39m:\u001b[39m\"\u001b[39m\u001b[39mint64\u001b[39m\u001b[39m\"\u001b[39m,\u001b[39m\"\u001b[39m\u001b[39mStrand\u001b[39m\u001b[39m\"\u001b[39m:\u001b[39m\"\u001b[39m\u001b[39mobject\u001b[39m\u001b[39m\"\u001b[39m})\n\u001b[1;32m    327\u001b[0m \u001b[39mif\u001b[39;00m \u001b[39mtype\u001b[39m(test) \u001b[39m==\u001b[39m \u001b[39mstr\u001b[39m : \n\u001b[0;32m--> 328\u001b[0m     test \u001b[39m=\u001b[39m pd\u001b[39m.\u001b[39;49mread_csv(test,sep\u001b[39m=\u001b[39;49m\u001b[39m\"\u001b[39;49m\u001b[39m\\t\u001b[39;49;00m\u001b[39m\"\u001b[39;49m,comment\u001b[39m=\u001b[39;49m\u001b[39m\"\u001b[39;49m\u001b[39m#\u001b[39;49m\u001b[39m\"\u001b[39;49m,\n\u001b[1;32m    329\u001b[0m                     names\u001b[39m=\u001b[39;49m[\u001b[39m\"\u001b[39;49m\u001b[39mChr\u001b[39;49m\u001b[39m\"\u001b[39;49m, \u001b[39m\"\u001b[39;49m\u001b[39mChr_Start\u001b[39;49m\u001b[39m\"\u001b[39;49m, \u001b[39m\"\u001b[39;49m\u001b[39mChr_End\u001b[39;49m\u001b[39m\"\u001b[39;49m],dtype\u001b[39m=\u001b[39;49m{\u001b[39m\"\u001b[39;49m\u001b[39mChr\u001b[39;49m\u001b[39m\"\u001b[39;49m:\u001b[39m\"\u001b[39;49m\u001b[39mobject\u001b[39;49m\u001b[39m\"\u001b[39;49m, \u001b[39m\"\u001b[39;49m\u001b[39mChr_Start\u001b[39;49m\u001b[39m\"\u001b[39;49m:\u001b[39m\"\u001b[39;49m\u001b[39mint64\u001b[39;49m\u001b[39m\"\u001b[39;49m, \u001b[39m\"\u001b[39;49m\u001b[39mChr_End\u001b[39;49m\u001b[39m\"\u001b[39;49m:\u001b[39m\"\u001b[39;49m\u001b[39mint64\u001b[39;49m\u001b[39m\"\u001b[39;49m})\n\u001b[1;32m    330\u001b[0m \u001b[39melse\u001b[39;00m : \n\u001b[1;32m    331\u001b[0m     test \u001b[39m=\u001b[39m test\u001b[39m.\u001b[39miloc[:,:\u001b[39m3\u001b[39m]\n",
      "File \u001b[0;32m~/.local/lib/python3.8/site-packages/pandas/util/_decorators.py:311\u001b[0m, in \u001b[0;36mdeprecate_nonkeyword_arguments.<locals>.decorate.<locals>.wrapper\u001b[0;34m(*args, **kwargs)\u001b[0m\n\u001b[1;32m    305\u001b[0m \u001b[39mif\u001b[39;00m \u001b[39mlen\u001b[39m(args) \u001b[39m>\u001b[39m num_allow_args:\n\u001b[1;32m    306\u001b[0m     warnings\u001b[39m.\u001b[39mwarn(\n\u001b[1;32m    307\u001b[0m         msg\u001b[39m.\u001b[39mformat(arguments\u001b[39m=\u001b[39marguments),\n\u001b[1;32m    308\u001b[0m         \u001b[39mFutureWarning\u001b[39;00m,\n\u001b[1;32m    309\u001b[0m         stacklevel\u001b[39m=\u001b[39mstacklevel,\n\u001b[1;32m    310\u001b[0m     )\n\u001b[0;32m--> 311\u001b[0m \u001b[39mreturn\u001b[39;00m func(\u001b[39m*\u001b[39;49margs, \u001b[39m*\u001b[39;49m\u001b[39m*\u001b[39;49mkwargs)\n",
      "File \u001b[0;32m~/.local/lib/python3.8/site-packages/pandas/io/parsers/readers.py:680\u001b[0m, in \u001b[0;36mread_csv\u001b[0;34m(filepath_or_buffer, sep, delimiter, header, names, index_col, usecols, squeeze, prefix, mangle_dupe_cols, dtype, engine, converters, true_values, false_values, skipinitialspace, skiprows, skipfooter, nrows, na_values, keep_default_na, na_filter, verbose, skip_blank_lines, parse_dates, infer_datetime_format, keep_date_col, date_parser, dayfirst, cache_dates, iterator, chunksize, compression, thousands, decimal, lineterminator, quotechar, quoting, doublequote, escapechar, comment, encoding, encoding_errors, dialect, error_bad_lines, warn_bad_lines, on_bad_lines, delim_whitespace, low_memory, memory_map, float_precision, storage_options)\u001b[0m\n\u001b[1;32m    665\u001b[0m kwds_defaults \u001b[39m=\u001b[39m _refine_defaults_read(\n\u001b[1;32m    666\u001b[0m     dialect,\n\u001b[1;32m    667\u001b[0m     delimiter,\n\u001b[0;32m   (...)\u001b[0m\n\u001b[1;32m    676\u001b[0m     defaults\u001b[39m=\u001b[39m{\u001b[39m\"\u001b[39m\u001b[39mdelimiter\u001b[39m\u001b[39m\"\u001b[39m: \u001b[39m\"\u001b[39m\u001b[39m,\u001b[39m\u001b[39m\"\u001b[39m},\n\u001b[1;32m    677\u001b[0m )\n\u001b[1;32m    678\u001b[0m kwds\u001b[39m.\u001b[39mupdate(kwds_defaults)\n\u001b[0;32m--> 680\u001b[0m \u001b[39mreturn\u001b[39;00m _read(filepath_or_buffer, kwds)\n",
      "File \u001b[0;32m~/.local/lib/python3.8/site-packages/pandas/io/parsers/readers.py:581\u001b[0m, in \u001b[0;36m_read\u001b[0;34m(filepath_or_buffer, kwds)\u001b[0m\n\u001b[1;32m    578\u001b[0m     \u001b[39mreturn\u001b[39;00m parser\n\u001b[1;32m    580\u001b[0m \u001b[39mwith\u001b[39;00m parser:\n\u001b[0;32m--> 581\u001b[0m     \u001b[39mreturn\u001b[39;00m parser\u001b[39m.\u001b[39;49mread(nrows)\n",
      "File \u001b[0;32m~/.local/lib/python3.8/site-packages/pandas/io/parsers/readers.py:1255\u001b[0m, in \u001b[0;36mTextFileReader.read\u001b[0;34m(self, nrows)\u001b[0m\n\u001b[1;32m   1253\u001b[0m nrows \u001b[39m=\u001b[39m validate_integer(\u001b[39m\"\u001b[39m\u001b[39mnrows\u001b[39m\u001b[39m\"\u001b[39m, nrows)\n\u001b[1;32m   1254\u001b[0m \u001b[39mtry\u001b[39;00m:\n\u001b[0;32m-> 1255\u001b[0m     index, columns, col_dict \u001b[39m=\u001b[39m \u001b[39mself\u001b[39;49m\u001b[39m.\u001b[39;49m_engine\u001b[39m.\u001b[39;49mread(nrows)\n\u001b[1;32m   1256\u001b[0m \u001b[39mexcept\u001b[39;00m \u001b[39mException\u001b[39;00m:\n\u001b[1;32m   1257\u001b[0m     \u001b[39mself\u001b[39m\u001b[39m.\u001b[39mclose()\n",
      "File \u001b[0;32m~/.local/lib/python3.8/site-packages/pandas/io/parsers/c_parser_wrapper.py:225\u001b[0m, in \u001b[0;36mCParserWrapper.read\u001b[0;34m(self, nrows)\u001b[0m\n\u001b[1;32m    223\u001b[0m \u001b[39mtry\u001b[39;00m:\n\u001b[1;32m    224\u001b[0m     \u001b[39mif\u001b[39;00m \u001b[39mself\u001b[39m\u001b[39m.\u001b[39mlow_memory:\n\u001b[0;32m--> 225\u001b[0m         chunks \u001b[39m=\u001b[39m \u001b[39mself\u001b[39;49m\u001b[39m.\u001b[39;49m_reader\u001b[39m.\u001b[39;49mread_low_memory(nrows)\n\u001b[1;32m    226\u001b[0m         \u001b[39m# destructive to chunks\u001b[39;00m\n\u001b[1;32m    227\u001b[0m         data \u001b[39m=\u001b[39m _concatenate_chunks(chunks)\n",
      "File \u001b[0;32m~/.local/lib/python3.8/site-packages/pandas/_libs/parsers.pyx:805\u001b[0m, in \u001b[0;36mpandas._libs.parsers.TextReader.read_low_memory\u001b[0;34m()\u001b[0m\n",
      "File \u001b[0;32m~/.local/lib/python3.8/site-packages/pandas/_libs/parsers.pyx:883\u001b[0m, in \u001b[0;36mpandas._libs.parsers.TextReader._read_rows\u001b[0;34m()\u001b[0m\n",
      "File \u001b[0;32m~/.local/lib/python3.8/site-packages/pandas/_libs/parsers.pyx:1026\u001b[0m, in \u001b[0;36mpandas._libs.parsers.TextReader._convert_column_data\u001b[0;34m()\u001b[0m\n",
      "File \u001b[0;32m~/.local/lib/python3.8/site-packages/pandas/_libs/parsers.pyx:1119\u001b[0m, in \u001b[0;36mpandas._libs.parsers.TextReader._convert_tokens\u001b[0;34m()\u001b[0m\n",
      "\u001b[0;31mValueError\u001b[0m: invalid literal for int() with base 10: 'SRF.1'"
     ]
    }
   ],
   "source": [
    "enrichment_fdr = great.tl.enrichment(\n",
    "    test=\"../../data/test/02_srf_hg38.bed\",\n",
    "    regdom_file=\"../../data/human/regulatory_domain.bed\",\n",
    "    chr_size_file=\"../../data/human/chr_size.bed\",\n",
    "    annotation=\"../../data/human/ontologies.csv\",\n",
    "    binom=True,\n",
    "    hypergeom=True,\n",
    "    alpha=0.05,\n",
    "    correction=(\"fdr\",0.05)\n",
    "    )"
   ]
  },
  {
   "cell_type": "code",
   "execution_count": 4,
   "metadata": {},
   "outputs": [
    {
     "data": {
      "text/html": [
       "<div>\n",
       "<style scoped>\n",
       "    .dataframe tbody tr th:only-of-type {\n",
       "        vertical-align: middle;\n",
       "    }\n",
       "\n",
       "    .dataframe tbody tr th {\n",
       "        vertical-align: top;\n",
       "    }\n",
       "\n",
       "    .dataframe thead th {\n",
       "        text-align: right;\n",
       "    }\n",
       "</style>\n",
       "<table border=\"1\" class=\"dataframe\">\n",
       "  <thead>\n",
       "    <tr style=\"text-align: right;\">\n",
       "      <th></th>\n",
       "      <th>go_term</th>\n",
       "      <th>binom_p_value</th>\n",
       "      <th>hypergeom_p_value</th>\n",
       "      <th>binom_fdr_correction</th>\n",
       "      <th>hypergeom_fdr_correction</th>\n",
       "    </tr>\n",
       "  </thead>\n",
       "  <tbody>\n",
       "    <tr>\n",
       "      <th>GO:0001523</th>\n",
       "      <td>retinoid metabolic process</td>\n",
       "      <td>4.70169e-04</td>\n",
       "      <td>1.76153e-01</td>\n",
       "      <td>2.09985e-03</td>\n",
       "      <td>NaN</td>\n",
       "    </tr>\n",
       "    <tr>\n",
       "      <th>GO:0002162</th>\n",
       "      <td>dystroglycan binding</td>\n",
       "      <td>1.29786e-05</td>\n",
       "      <td>4.02252e-02</td>\n",
       "      <td>1.24343e-04</td>\n",
       "      <td>NaN</td>\n",
       "    </tr>\n",
       "    <tr>\n",
       "      <th>GO:0005200</th>\n",
       "      <td>structural constituent of cytoskeleton</td>\n",
       "      <td>3.73899e-03</td>\n",
       "      <td>2.76213e-01</td>\n",
       "      <td>1.12170e-02</td>\n",
       "      <td>NaN</td>\n",
       "    </tr>\n",
       "    <tr>\n",
       "      <th>GO:0005201</th>\n",
       "      <td>extracellular matrix structural constituent</td>\n",
       "      <td>1.34489e-03</td>\n",
       "      <td>3.51826e-02</td>\n",
       "      <td>4.95080e-03</td>\n",
       "      <td>NaN</td>\n",
       "    </tr>\n",
       "    <tr>\n",
       "      <th>GO:0005604</th>\n",
       "      <td>basement membrane</td>\n",
       "      <td>1.05040e-02</td>\n",
       "      <td>2.50177e-01</td>\n",
       "      <td>2.55711e-02</td>\n",
       "      <td>NaN</td>\n",
       "    </tr>\n",
       "    <tr>\n",
       "      <th>...</th>\n",
       "      <td>...</td>\n",
       "      <td>...</td>\n",
       "      <td>...</td>\n",
       "      <td>...</td>\n",
       "      <td>...</td>\n",
       "    </tr>\n",
       "    <tr>\n",
       "      <th>GO:0045665</th>\n",
       "      <td>negative regulation of neuron differentiation</td>\n",
       "      <td>4.33459e-03</td>\n",
       "      <td>1.59024e-01</td>\n",
       "      <td>1.27463e-02</td>\n",
       "      <td>NaN</td>\n",
       "    </tr>\n",
       "    <tr>\n",
       "      <th>GO:0048387</th>\n",
       "      <td>negative regulation of retinoic acid receptor ...</td>\n",
       "      <td>8.90815e-06</td>\n",
       "      <td>2.60455e-02</td>\n",
       "      <td>9.62080e-05</td>\n",
       "      <td>NaN</td>\n",
       "    </tr>\n",
       "    <tr>\n",
       "      <th>GO:0002087</th>\n",
       "      <td>regulation of respiratory gaseous exchange by ...</td>\n",
       "      <td>2.07002e-05</td>\n",
       "      <td>3.74057e-02</td>\n",
       "      <td>1.70777e-04</td>\n",
       "      <td>NaN</td>\n",
       "    </tr>\n",
       "    <tr>\n",
       "      <th>GO:0051968</th>\n",
       "      <td>positive regulation of synaptic transmission, ...</td>\n",
       "      <td>5.94155e-04</td>\n",
       "      <td>8.15551e-02</td>\n",
       "      <td>2.53905e-03</td>\n",
       "      <td>NaN</td>\n",
       "    </tr>\n",
       "    <tr>\n",
       "      <th>GO:0060291</th>\n",
       "      <td>long-term synaptic potentiation</td>\n",
       "      <td>2.44283e-03</td>\n",
       "      <td>1.31397e-01</td>\n",
       "      <td>8.10638e-03</td>\n",
       "      <td>NaN</td>\n",
       "    </tr>\n",
       "  </tbody>\n",
       "</table>\n",
       "<p>268 rows × 5 columns</p>\n",
       "</div>"
      ],
      "text/plain": [
       "                                                      go_term  binom_p_value  \\\n",
       "GO:0001523                         retinoid metabolic process    4.70169e-04   \n",
       "GO:0002162                               dystroglycan binding    1.29786e-05   \n",
       "GO:0005200             structural constituent of cytoskeleton    3.73899e-03   \n",
       "GO:0005201        extracellular matrix structural constituent    1.34489e-03   \n",
       "GO:0005604                                  basement membrane    1.05040e-02   \n",
       "...                                                       ...            ...   \n",
       "GO:0045665      negative regulation of neuron differentiation    4.33459e-03   \n",
       "GO:0048387  negative regulation of retinoic acid receptor ...    8.90815e-06   \n",
       "GO:0002087  regulation of respiratory gaseous exchange by ...    2.07002e-05   \n",
       "GO:0051968  positive regulation of synaptic transmission, ...    5.94155e-04   \n",
       "GO:0060291                    long-term synaptic potentiation    2.44283e-03   \n",
       "\n",
       "            hypergeom_p_value  binom_fdr_correction  hypergeom_fdr_correction  \n",
       "GO:0001523        1.76153e-01           2.09985e-03                       NaN  \n",
       "GO:0002162        4.02252e-02           1.24343e-04                       NaN  \n",
       "GO:0005200        2.76213e-01           1.12170e-02                       NaN  \n",
       "GO:0005201        3.51826e-02           4.95080e-03                       NaN  \n",
       "GO:0005604        2.50177e-01           2.55711e-02                       NaN  \n",
       "...                       ...                   ...                       ...  \n",
       "GO:0045665        1.59024e-01           1.27463e-02                       NaN  \n",
       "GO:0048387        2.60455e-02           9.62080e-05                       NaN  \n",
       "GO:0002087        3.74057e-02           1.70777e-04                       NaN  \n",
       "GO:0051968        8.15551e-02           2.53905e-03                       NaN  \n",
       "GO:0060291        1.31397e-01           8.10638e-03                       NaN  \n",
       "\n",
       "[268 rows x 5 columns]"
      ]
     },
     "execution_count": 4,
     "metadata": {},
     "output_type": "execute_result"
    }
   ],
   "source": [
    "enrichment_fdr"
   ]
  },
  {
   "cell_type": "code",
   "execution_count": 5,
   "metadata": {},
   "outputs": [],
   "source": [
    "enrichment_bonferroni = great.tl.enrichment(\n",
    "    test=\"../../data/human/test_genomic_region.bed\",\n",
    "    regdom_file=\"../../data/human/regulatory_domain.bed\",\n",
    "    chr_size_file=\"../../data/human/chr_size.bed\",\n",
    "    annotation=\"../../data/human/ontologies.csv\",\n",
    "    binom=True,\n",
    "    hypergeom=True,\n",
    "    alpha=0.05,\n",
    "    correction=(\"bonferroni\",0.05),\n",
    "    )"
   ]
  },
  {
   "cell_type": "code",
   "execution_count": 6,
   "metadata": {},
   "outputs": [
    {
     "data": {
      "text/html": [
       "<div>\n",
       "<style scoped>\n",
       "    .dataframe tbody tr th:only-of-type {\n",
       "        vertical-align: middle;\n",
       "    }\n",
       "\n",
       "    .dataframe tbody tr th {\n",
       "        vertical-align: top;\n",
       "    }\n",
       "\n",
       "    .dataframe thead th {\n",
       "        text-align: right;\n",
       "    }\n",
       "</style>\n",
       "<table border=\"1\" class=\"dataframe\">\n",
       "  <thead>\n",
       "    <tr style=\"text-align: right;\">\n",
       "      <th></th>\n",
       "      <th>go_term</th>\n",
       "      <th>binom_p_value</th>\n",
       "      <th>hypergeom_p_value</th>\n",
       "      <th>binom_bonferroni_correction</th>\n",
       "      <th>hypergeom_bonferroni_correction</th>\n",
       "    </tr>\n",
       "  </thead>\n",
       "  <tbody>\n",
       "    <tr>\n",
       "      <th>GO:0002162</th>\n",
       "      <td>dystroglycan binding</td>\n",
       "      <td>1.29786e-05</td>\n",
       "      <td>4.02252e-02</td>\n",
       "      <td>7.70928e-03</td>\n",
       "      <td>1.00000e+00</td>\n",
       "    </tr>\n",
       "    <tr>\n",
       "      <th>GO:0007213</th>\n",
       "      <td>G protein-coupled acetylcholine receptor signa...</td>\n",
       "      <td>4.28794e-05</td>\n",
       "      <td>4.86352e-02</td>\n",
       "      <td>2.54703e-02</td>\n",
       "      <td>1.00000e+00</td>\n",
       "    </tr>\n",
       "    <tr>\n",
       "      <th>GO:0033691</th>\n",
       "      <td>sialic acid binding</td>\n",
       "      <td>1.83861e-06</td>\n",
       "      <td>3.45779e-02</td>\n",
       "      <td>1.09214e-03</td>\n",
       "      <td>1.00000e+00</td>\n",
       "    </tr>\n",
       "    <tr>\n",
       "      <th>GO:0035374</th>\n",
       "      <td>chondroitin sulfate binding</td>\n",
       "      <td>1.06551e-06</td>\n",
       "      <td>2.60455e-02</td>\n",
       "      <td>6.32912e-04</td>\n",
       "      <td>1.00000e+00</td>\n",
       "    </tr>\n",
       "    <tr>\n",
       "      <th>GO:0043113</th>\n",
       "      <td>receptor clustering</td>\n",
       "      <td>6.53249e-05</td>\n",
       "      <td>7.61475e-02</td>\n",
       "      <td>3.88030e-02</td>\n",
       "      <td>1.00000e+00</td>\n",
       "    </tr>\n",
       "    <tr>\n",
       "      <th>...</th>\n",
       "      <td>...</td>\n",
       "      <td>...</td>\n",
       "      <td>...</td>\n",
       "      <td>...</td>\n",
       "      <td>...</td>\n",
       "    </tr>\n",
       "    <tr>\n",
       "      <th>GO:0008479</th>\n",
       "      <td>queuine tRNA-ribosyltransferase activity</td>\n",
       "      <td>1.75630e-05</td>\n",
       "      <td>1.16594e-02</td>\n",
       "      <td>1.04324e-02</td>\n",
       "      <td>1.00000e+00</td>\n",
       "    </tr>\n",
       "    <tr>\n",
       "      <th>GO:0101030</th>\n",
       "      <td>tRNA-guanine transglycosylation</td>\n",
       "      <td>2.90290e-05</td>\n",
       "      <td>1.16594e-02</td>\n",
       "      <td>1.72432e-02</td>\n",
       "      <td>1.00000e+00</td>\n",
       "    </tr>\n",
       "    <tr>\n",
       "      <th>GO:0044323</th>\n",
       "      <td>retinoic acid-responsive element binding</td>\n",
       "      <td>4.63051e-07</td>\n",
       "      <td>1.16594e-02</td>\n",
       "      <td>2.75052e-04</td>\n",
       "      <td>1.00000e+00</td>\n",
       "    </tr>\n",
       "    <tr>\n",
       "      <th>GO:0048387</th>\n",
       "      <td>negative regulation of retinoic acid receptor ...</td>\n",
       "      <td>8.90815e-06</td>\n",
       "      <td>2.60455e-02</td>\n",
       "      <td>5.29144e-03</td>\n",
       "      <td>1.00000e+00</td>\n",
       "    </tr>\n",
       "    <tr>\n",
       "      <th>GO:0002087</th>\n",
       "      <td>regulation of respiratory gaseous exchange by ...</td>\n",
       "      <td>2.07002e-05</td>\n",
       "      <td>3.74057e-02</td>\n",
       "      <td>1.22959e-02</td>\n",
       "      <td>1.00000e+00</td>\n",
       "    </tr>\n",
       "  </tbody>\n",
       "</table>\n",
       "<p>101 rows × 5 columns</p>\n",
       "</div>"
      ],
      "text/plain": [
       "                                                      go_term  binom_p_value  \\\n",
       "GO:0002162                               dystroglycan binding    1.29786e-05   \n",
       "GO:0007213  G protein-coupled acetylcholine receptor signa...    4.28794e-05   \n",
       "GO:0033691                                sialic acid binding    1.83861e-06   \n",
       "GO:0035374                        chondroitin sulfate binding    1.06551e-06   \n",
       "GO:0043113                                receptor clustering    6.53249e-05   \n",
       "...                                                       ...            ...   \n",
       "GO:0008479           queuine tRNA-ribosyltransferase activity    1.75630e-05   \n",
       "GO:0101030                    tRNA-guanine transglycosylation    2.90290e-05   \n",
       "GO:0044323           retinoic acid-responsive element binding    4.63051e-07   \n",
       "GO:0048387  negative regulation of retinoic acid receptor ...    8.90815e-06   \n",
       "GO:0002087  regulation of respiratory gaseous exchange by ...    2.07002e-05   \n",
       "\n",
       "            hypergeom_p_value  binom_bonferroni_correction  \\\n",
       "GO:0002162        4.02252e-02                  7.70928e-03   \n",
       "GO:0007213        4.86352e-02                  2.54703e-02   \n",
       "GO:0033691        3.45779e-02                  1.09214e-03   \n",
       "GO:0035374        2.60455e-02                  6.32912e-04   \n",
       "GO:0043113        7.61475e-02                  3.88030e-02   \n",
       "...                       ...                          ...   \n",
       "GO:0008479        1.16594e-02                  1.04324e-02   \n",
       "GO:0101030        1.16594e-02                  1.72432e-02   \n",
       "GO:0044323        1.16594e-02                  2.75052e-04   \n",
       "GO:0048387        2.60455e-02                  5.29144e-03   \n",
       "GO:0002087        3.74057e-02                  1.22959e-02   \n",
       "\n",
       "            hypergeom_bonferroni_correction  \n",
       "GO:0002162                      1.00000e+00  \n",
       "GO:0007213                      1.00000e+00  \n",
       "GO:0033691                      1.00000e+00  \n",
       "GO:0035374                      1.00000e+00  \n",
       "GO:0043113                      1.00000e+00  \n",
       "...                                     ...  \n",
       "GO:0008479                      1.00000e+00  \n",
       "GO:0101030                      1.00000e+00  \n",
       "GO:0044323                      1.00000e+00  \n",
       "GO:0048387                      1.00000e+00  \n",
       "GO:0002087                      1.00000e+00  \n",
       "\n",
       "[101 rows x 5 columns]"
      ]
     },
     "execution_count": 6,
     "metadata": {},
     "output_type": "execute_result"
    }
   ],
   "source": [
    "enrichment_bonferroni"
   ]
  },
  {
   "cell_type": "code",
   "execution_count": 7,
   "metadata": {},
   "outputs": [
    {
     "data": {
      "text/html": [
       "<div>\n",
       "<style scoped>\n",
       "    .dataframe tbody tr th:only-of-type {\n",
       "        vertical-align: middle;\n",
       "    }\n",
       "\n",
       "    .dataframe tbody tr th {\n",
       "        vertical-align: top;\n",
       "    }\n",
       "\n",
       "    .dataframe thead th {\n",
       "        text-align: right;\n",
       "    }\n",
       "</style>\n",
       "<table border=\"1\" class=\"dataframe\">\n",
       "  <thead>\n",
       "    <tr style=\"text-align: right;\">\n",
       "      <th></th>\n",
       "      <th>id</th>\n",
       "      <th>binom_p_value</th>\n",
       "      <th>binom_bonferroni</th>\n",
       "      <th>binom_fdr</th>\n",
       "      <th>hyper_p_value</th>\n",
       "      <th>hyper_bonferroni</th>\n",
       "      <th>hyper_fdr</th>\n",
       "    </tr>\n",
       "  </thead>\n",
       "  <tbody>\n",
       "    <tr>\n",
       "      <th>0</th>\n",
       "      <td>GO:0001523</td>\n",
       "      <td>4.70169e-04</td>\n",
       "      <td>NaN</td>\n",
       "      <td>2.09985e-03</td>\n",
       "      <td>1.76153e-01</td>\n",
       "      <td>NaN</td>\n",
       "      <td>NaN</td>\n",
       "    </tr>\n",
       "    <tr>\n",
       "      <th>1</th>\n",
       "      <td>GO:0002162</td>\n",
       "      <td>1.29786e-05</td>\n",
       "      <td>7.70928e-03</td>\n",
       "      <td>1.24343e-04</td>\n",
       "      <td>4.02252e-02</td>\n",
       "      <td>1.00000e+00</td>\n",
       "      <td>NaN</td>\n",
       "    </tr>\n",
       "    <tr>\n",
       "      <th>2</th>\n",
       "      <td>GO:0005200</td>\n",
       "      <td>3.73899e-03</td>\n",
       "      <td>NaN</td>\n",
       "      <td>1.12170e-02</td>\n",
       "      <td>2.76213e-01</td>\n",
       "      <td>NaN</td>\n",
       "      <td>NaN</td>\n",
       "    </tr>\n",
       "    <tr>\n",
       "      <th>3</th>\n",
       "      <td>GO:0005201</td>\n",
       "      <td>1.34489e-03</td>\n",
       "      <td>NaN</td>\n",
       "      <td>4.95080e-03</td>\n",
       "      <td>3.51826e-02</td>\n",
       "      <td>NaN</td>\n",
       "      <td>NaN</td>\n",
       "    </tr>\n",
       "    <tr>\n",
       "      <th>4</th>\n",
       "      <td>GO:0005604</td>\n",
       "      <td>1.05040e-02</td>\n",
       "      <td>NaN</td>\n",
       "      <td>2.55711e-02</td>\n",
       "      <td>2.50177e-01</td>\n",
       "      <td>NaN</td>\n",
       "      <td>NaN</td>\n",
       "    </tr>\n",
       "    <tr>\n",
       "      <th>...</th>\n",
       "      <td>...</td>\n",
       "      <td>...</td>\n",
       "      <td>...</td>\n",
       "      <td>...</td>\n",
       "      <td>...</td>\n",
       "      <td>...</td>\n",
       "      <td>...</td>\n",
       "    </tr>\n",
       "    <tr>\n",
       "      <th>263</th>\n",
       "      <td>GO:0045665</td>\n",
       "      <td>4.33459e-03</td>\n",
       "      <td>NaN</td>\n",
       "      <td>1.27463e-02</td>\n",
       "      <td>1.59024e-01</td>\n",
       "      <td>NaN</td>\n",
       "      <td>NaN</td>\n",
       "    </tr>\n",
       "    <tr>\n",
       "      <th>264</th>\n",
       "      <td>GO:0048387</td>\n",
       "      <td>8.90815e-06</td>\n",
       "      <td>5.29144e-03</td>\n",
       "      <td>9.62080e-05</td>\n",
       "      <td>2.60455e-02</td>\n",
       "      <td>1.00000e+00</td>\n",
       "      <td>NaN</td>\n",
       "    </tr>\n",
       "    <tr>\n",
       "      <th>265</th>\n",
       "      <td>GO:0002087</td>\n",
       "      <td>2.07002e-05</td>\n",
       "      <td>1.22959e-02</td>\n",
       "      <td>1.70777e-04</td>\n",
       "      <td>3.74057e-02</td>\n",
       "      <td>1.00000e+00</td>\n",
       "      <td>NaN</td>\n",
       "    </tr>\n",
       "    <tr>\n",
       "      <th>266</th>\n",
       "      <td>GO:0051968</td>\n",
       "      <td>5.94155e-04</td>\n",
       "      <td>NaN</td>\n",
       "      <td>2.53905e-03</td>\n",
       "      <td>8.15551e-02</td>\n",
       "      <td>NaN</td>\n",
       "      <td>NaN</td>\n",
       "    </tr>\n",
       "    <tr>\n",
       "      <th>267</th>\n",
       "      <td>GO:0060291</td>\n",
       "      <td>2.44283e-03</td>\n",
       "      <td>NaN</td>\n",
       "      <td>8.10638e-03</td>\n",
       "      <td>1.31397e-01</td>\n",
       "      <td>NaN</td>\n",
       "      <td>NaN</td>\n",
       "    </tr>\n",
       "  </tbody>\n",
       "</table>\n",
       "<p>268 rows × 7 columns</p>\n",
       "</div>"
      ],
      "text/plain": [
       "             id  binom_p_value  binom_bonferroni    binom_fdr  hyper_p_value  \\\n",
       "0    GO:0001523    4.70169e-04               NaN  2.09985e-03    1.76153e-01   \n",
       "1    GO:0002162    1.29786e-05       7.70928e-03  1.24343e-04    4.02252e-02   \n",
       "2    GO:0005200    3.73899e-03               NaN  1.12170e-02    2.76213e-01   \n",
       "3    GO:0005201    1.34489e-03               NaN  4.95080e-03    3.51826e-02   \n",
       "4    GO:0005604    1.05040e-02               NaN  2.55711e-02    2.50177e-01   \n",
       "..          ...            ...               ...          ...            ...   \n",
       "263  GO:0045665    4.33459e-03               NaN  1.27463e-02    1.59024e-01   \n",
       "264  GO:0048387    8.90815e-06       5.29144e-03  9.62080e-05    2.60455e-02   \n",
       "265  GO:0002087    2.07002e-05       1.22959e-02  1.70777e-04    3.74057e-02   \n",
       "266  GO:0051968    5.94155e-04               NaN  2.53905e-03    8.15551e-02   \n",
       "267  GO:0060291    2.44283e-03               NaN  8.10638e-03    1.31397e-01   \n",
       "\n",
       "     hyper_bonferroni  hyper_fdr  \n",
       "0                 NaN        NaN  \n",
       "1         1.00000e+00        NaN  \n",
       "2                 NaN        NaN  \n",
       "3                 NaN        NaN  \n",
       "4                 NaN        NaN  \n",
       "..                ...        ...  \n",
       "263               NaN        NaN  \n",
       "264       1.00000e+00        NaN  \n",
       "265       1.00000e+00        NaN  \n",
       "266               NaN        NaN  \n",
       "267               NaN        NaN  \n",
       "\n",
       "[268 rows x 7 columns]"
      ]
     },
     "execution_count": 7,
     "metadata": {},
     "output_type": "execute_result"
    }
   ],
   "source": [
    "enrichment_tot = enrichment_fdr \n",
    "enrichment_tot[\"binom_bonferroni_correction\"] = enrichment_bonferroni[\"binom_bonferroni_correction\"]\n",
    "enrichment_tot[\"hypergeom_bonferroni_correction\"] = enrichment_bonferroni[\"hypergeom_bonferroni_correction\"]\n",
    "enrichment_tot = enrichment_tot[[\"binom_p_value\",\"binom_bonferroni_correction\",\"binom_fdr_correction\",\"hypergeom_p_value\",\"hypergeom_bonferroni_correction\",\"hypergeom_fdr_correction\"]]\n",
    "enrichment_tot = enrichment_tot.reset_index().rename(columns={\"index\":\"id\",\"binom_bonferroni_correction\":\"binom_bonferroni\",\"binom_fdr_correction\":\"binom_fdr\",\"hypergeom_p_value\":\"hyper_p_value\",\"hypergeom_bonferroni_correction\":\"hyper_bonferroni\",\"hypergeom_fdr_correction\":\"hyper_fdr\"})\n",
    "enrichment_tot"
   ]
  },
  {
   "cell_type": "markdown",
   "metadata": {},
   "source": [
    "## II Compare to GREAT webserver  "
   ]
  },
  {
   "cell_type": "markdown",
   "metadata": {},
   "source": [
    "### II.1 Import the data"
   ]
  },
  {
   "cell_type": "code",
   "execution_count": 8,
   "metadata": {},
   "outputs": [],
   "source": [
    "great_webserver = pd.read_csv(\"../../data/output_great_webserver.tsv\",sep=\"\\t\",comment=\"#\",\n",
    "                    names=[\"ontologie\",\"term_name\",\"ID\",\"binom_p_value\",\"binom_bonferroni\",\"binom_fdr\",\"hyper_p_value\",\"hyper_bonferroni\",\"hyper_fdr\"],index_col=False,\n",
    "                    dtype={\"term_name\":\"object\", \"ID\":\"object\",\"binom_p_value\":\"float64\", \"binom_bonferroni\":\"float64\", \"binom_fdr\":\"float64\", \"hyper_p_value\":\"float64\", \"hyper_bonferroni\":\"float64\", \"hyper_fdr\":\"float64\"})\n",
    "great_webserver.rename(columns={\"ID\":\"id\"},inplace=True)\n",
    "del great_webserver[\"ontologie\"]\n",
    "del great_webserver[\"term_name\"]"
   ]
  },
  {
   "cell_type": "markdown",
   "metadata": {},
   "source": [
    "### II.2 Compare the results between greatpy and great "
   ]
  },
  {
   "cell_type": "markdown",
   "metadata": {},
   "source": [
    "#### II.2.1 Preprocessing"
   ]
  },
  {
   "cell_type": "code",
   "execution_count": 9,
   "metadata": {},
   "outputs": [],
   "source": [
    "before_pp = enrichment_tot.shape[0]"
   ]
  },
  {
   "cell_type": "code",
   "execution_count": 10,
   "metadata": {},
   "outputs": [],
   "source": [
    "enrichment_tot = enrichment_tot[enrichment_tot[\"id\"].isin(list(great_webserver[\"id\"]))]\n",
    "enrichment_tot = enrichment_tot.sort_values(\"id\")\n",
    "after_pp = enrichment_tot.shape[0]"
   ]
  },
  {
   "cell_type": "code",
   "execution_count": 11,
   "metadata": {},
   "outputs": [],
   "source": [
    "great_webserver = great_webserver[great_webserver[\"id\"].isin(list(enrichment_tot[\"id\"]))]\n",
    "great_webserver = great_webserver.sort_values(\"id\")"
   ]
  },
  {
   "cell_type": "code",
   "execution_count": 12,
   "metadata": {},
   "outputs": [],
   "source": [
    "binom_greatpy = hyper_greatpy = binom_great = hyper_great = []\n",
    "for i in range(enrichment_tot.shape[0]) : \n",
    "    curr_enrichment = enrichment_tot.iloc[i]\n",
    "    curr_great_webserver = great_webserver.loc[great_webserver[\"id\"]==curr_enrichment[\"id\"]]\n",
    "    binom_greatpy.append(float(curr_enrichment[\"binom_p_value\"]))\n",
    "    hyper_greatpy.append(float(curr_enrichment[\"hyper_p_value\"]))\n",
    "    binom_great.append(float(curr_great_webserver[\"binom_p_value\"]))\n",
    "    hyper_great.append(float(curr_great_webserver[\"hyper_p_value\"]))\n",
    "binom = pd.DataFrame({\"binom_greatpy\":binom_greatpy,\"binom_great\":binom_great})\n",
    "hyper = pd.DataFrame({\"hyper_greatpy\":hyper_greatpy,\"hyper_great\":hyper_great})"
   ]
  },
  {
   "cell_type": "markdown",
   "metadata": {},
   "source": [
    "#### II.2.b Graphical"
   ]
  },
  {
   "cell_type": "code",
   "execution_count": 13,
   "metadata": {},
   "outputs": [
    {
     "data": {
      "image/png": "[encoded data removed]",
      "text/plain": [
       "<Figure size 432x288 with 1 Axes>"
      ]
     },
     "metadata": {
      "needs_background": "light"
     },
     "output_type": "display_data"
    }
   ],
   "source": [
    "pl=great.pl.scatterplot(binom,colname_x=\"binom_greatpy\",colname_y=\"binom_great\")"
   ]
  },
  {
   "cell_type": "code",
   "execution_count": 14,
   "metadata": {},
   "outputs": [
    {
     "data": {
      "image/png": "[encoded data removed]",
      "text/plain": [
       "<Figure size 432x288 with 1 Axes>"
      ]
     },
     "metadata": {
      "needs_background": "light"
     },
     "output_type": "display_data"
    }
   ],
   "source": [
    "great.pl.scatterplot(hyper,colname_x=\"hyper_greatpy\",colname_y=\"hyper_great\")"
   ]
  },
  {
   "cell_type": "markdown",
   "metadata": {},
   "source": [
    "#### II.2.c Statistics"
   ]
  },
  {
   "cell_type": "code",
   "execution_count": 15,
   "metadata": {},
   "outputs": [],
   "source": [
    "def stat(binom_great_list_list, hyper_great_listpy_list,binom_great_list,hyper_great_list) : \n",
    "    return pd.DataFrame({\n",
    "        \"binom\": [cov(m = binom_great_list_list, y = binom_great_list)[0][1],pearsonr(binom_great_list_list,binom_great_list)[0]],\n",
    "        \"hyper\":[cov(m = hyper_great_listpy_list, y = hyper_great_list)[0][1],pearsonr(hyper_great_listpy_list,hyper_great_list)[0]]},\n",
    "        index=[\"correlation_coefficient\",\"pearson\"])"
   ]
  },
  {
   "cell_type": "code",
   "execution_count": 16,
   "metadata": {},
   "outputs": [
    {
     "data": {
      "text/html": [
       "<div>\n",
       "<style scoped>\n",
       "    .dataframe tbody tr th:only-of-type {\n",
       "        vertical-align: middle;\n",
       "    }\n",
       "\n",
       "    .dataframe tbody tr th {\n",
       "        vertical-align: top;\n",
       "    }\n",
       "\n",
       "    .dataframe thead th {\n",
       "        text-align: right;\n",
       "    }\n",
       "</style>\n",
       "<table border=\"1\" class=\"dataframe\">\n",
       "  <thead>\n",
       "    <tr style=\"text-align: right;\">\n",
       "      <th></th>\n",
       "      <th>binom</th>\n",
       "      <th>hyper</th>\n",
       "    </tr>\n",
       "  </thead>\n",
       "  <tbody>\n",
       "    <tr>\n",
       "      <th>correlation_coefficient</th>\n",
       "      <td>1.30859e-03</td>\n",
       "      <td>1.30859e-03</td>\n",
       "    </tr>\n",
       "    <tr>\n",
       "      <th>pearson</th>\n",
       "      <td>1.00000e+00</td>\n",
       "      <td>1.00000e+00</td>\n",
       "    </tr>\n",
       "  </tbody>\n",
       "</table>\n",
       "</div>"
      ],
      "text/plain": [
       "                               binom        hyper\n",
       "correlation_coefficient  1.30859e-03  1.30859e-03\n",
       "pearson                  1.00000e+00  1.00000e+00"
      ]
     },
     "execution_count": 16,
     "metadata": {},
     "output_type": "execute_result"
    }
   ],
   "source": [
    "stat(binom_greatpy, hyper_greatpy,binom_great,hyper_great)"
   ]
  },
  {
   "cell_type": "code",
   "execution_count": 17,
   "metadata": {},
   "outputs": [
    {
     "name": "stdout",
     "output_type": "stream",
     "text": [
      "268\n",
      "92\n"
     ]
    }
   ],
   "source": [
    "print(before_pp)\n",
    "print(after_pp)"
   ]
  },
  {
   "cell_type": "markdown",
   "metadata": {},
   "source": [
    "We went from 268 ontology terms in greatpy output to 92 ontology terms by selecting the GO identifiers present in both greatpy and great "
   ]
  },
  {
   "cell_type": "markdown",
   "metadata": {},
   "source": [
    "But when two ontology terms are selected they have the same binomial and hypergeometric probability value "
   ]
  }
 ],
 "metadata": {
  "kernelspec": {
   "display_name": "Python 3.8.10 64-bit",
   "language": "python",
   "name": "python3"
  },
  "language_info": {
   "codemirror_mode": {
    "name": "ipython",
    "version": 3
   },
   "file_extension": ".py",
   "mimetype": "text/x-python",
   "name": "python",
   "nbconvert_exporter": "python",
   "pygments_lexer": "ipython3",
   "version": "3.8.10"
  },
  "orig_nbformat": 4,
  "vscode": {
   "interpreter": {
    "hash": "916dbcbb3f70747c44a77c7bcd40155683ae19c65e1c03b4aa3499c5328201f1"
   }
  }
 },
 "nbformat": 4,
 "nbformat_minor": 2
}
