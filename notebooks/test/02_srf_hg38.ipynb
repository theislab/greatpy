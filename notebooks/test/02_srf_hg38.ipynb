{
 "cells": [
  {
   "cell_type": "markdown",
   "metadata": {},
   "source": [
    "# Computation of annotation enrichment in a genetic set "
   ]
  },
  {
   "cell_type": "markdown",
   "metadata": {},
   "source": [
    "This code excerpt shows how to use the annotation enrichment computation function in a genetic set.\n",
    "The funciton return a dataframe of binom and hypergeometric p-value (<= 0.05) and for each p-value a fdr correction with alpha = 0.05.   "
   ]
  },
  {
   "cell_type": "markdown",
   "metadata": {},
   "source": [
    "In the second part of the code we will compare the results obtained with the Great webserver and between the binomial and hypergeometric probability"
   ]
  },
  {
   "cell_type": "code",
   "execution_count": 4,
   "metadata": {},
   "outputs": [
    {
     "name": "stdout",
     "output_type": "stream",
     "text": [
      "The autoreload extension is already loaded. To reload it, use:\n",
      "  %reload_ext autoreload\n"
     ]
    }
   ],
   "source": [
    "%load_ext autoreload\n",
    "%autoreload 2"
   ]
  },
  {
   "cell_type": "code",
   "execution_count": 2,
   "metadata": {},
   "outputs": [],
   "source": [
    "import greatpy as great\n",
    "import pandas as pd\n",
    "from math import inf\n",
    "from numpy import log,nan, int64,cov,corrcoef\n",
    "from scipy.stats import pearsonr\n",
    "from seaborn import scatterplot as sp\n",
    "\n",
    "import warnings\n",
    "warnings.filterwarnings('ignore')"
   ]
  },
  {
   "cell_type": "code",
   "execution_count": 8,
   "metadata": {},
   "outputs": [],
   "source": [
    "test = \"../../data/tests/test_data/input/02_srf_hg38.bed\"\n",
    "regdom = \"../../data/human/hg38/regdom_from_great.bed\"\n",
    "great_out = \"../../data/tests/test_data/output/02_srf_hg38_output_great_webserver.tsv\"\n",
    "great_asso = \"../../data/tests/test_data/output/02_srf_hg38_gene_asso.tsv\"\n",
    "size = \"../../data/human/hg38/chr_size.bed\""
   ]
  },
  {
   "cell_type": "markdown",
   "metadata": {},
   "source": [
    "## I Compute the p-values"
   ]
  },
  {
   "cell_type": "code",
   "execution_count": 9,
   "metadata": {},
   "outputs": [
    {
     "data": {
      "text/html": [
       "<div>\n",
       "<style scoped>\n",
       "    .dataframe tbody tr th:only-of-type {\n",
       "        vertical-align: middle;\n",
       "    }\n",
       "\n",
       "    .dataframe tbody tr th {\n",
       "        vertical-align: top;\n",
       "    }\n",
       "\n",
       "    .dataframe thead th {\n",
       "        text-align: right;\n",
       "    }\n",
       "</style>\n",
       "<table border=\"1\" class=\"dataframe\">\n",
       "  <thead>\n",
       "    <tr style=\"text-align: right;\">\n",
       "      <th></th>\n",
       "      <th>go_term</th>\n",
       "      <th>binom_p_value</th>\n",
       "      <th>hypergeom_p_value</th>\n",
       "      <th>binom_bonferroni</th>\n",
       "      <th>hypergeom_bonferroni</th>\n",
       "      <th>binom_fdr</th>\n",
       "      <th>hypergeom_fdr</th>\n",
       "    </tr>\n",
       "  </thead>\n",
       "  <tbody>\n",
       "    <tr>\n",
       "      <th>GO:0072749</th>\n",
       "      <td>cellular response to cytochalasin B</td>\n",
       "      <td>8.17019e-10</td>\n",
       "      <td>1.00000e-308</td>\n",
       "      <td>3.93150e-06</td>\n",
       "      <td>4.81200e-305</td>\n",
       "      <td>1.96575e-06</td>\n",
       "      <td>1.98843e-307</td>\n",
       "    </tr>\n",
       "    <tr>\n",
       "      <th>GO:0051623</th>\n",
       "      <td>positive regulation of norepinephrine uptake</td>\n",
       "      <td>8.17019e-10</td>\n",
       "      <td>1.00000e-308</td>\n",
       "      <td>3.93150e-06</td>\n",
       "      <td>4.81200e-305</td>\n",
       "      <td>1.96575e-06</td>\n",
       "      <td>1.98843e-307</td>\n",
       "    </tr>\n",
       "    <tr>\n",
       "      <th>GO:0035089</th>\n",
       "      <td>establishment of apical/basal cell polarity</td>\n",
       "      <td>2.08657e-09</td>\n",
       "      <td>4.00000e-308</td>\n",
       "      <td>1.00406e-05</td>\n",
       "      <td>1.92480e-304</td>\n",
       "      <td>3.34686e-06</td>\n",
       "      <td>2.09445e-307</td>\n",
       "    </tr>\n",
       "    <tr>\n",
       "      <th>GO:0044393</th>\n",
       "      <td>microspike</td>\n",
       "      <td>3.08450e-09</td>\n",
       "      <td>5.00000e-308</td>\n",
       "      <td>1.48426e-05</td>\n",
       "      <td>2.40600e-304</td>\n",
       "      <td>3.71066e-06</td>\n",
       "      <td>2.17738e-307</td>\n",
       "    </tr>\n",
       "    <tr>\n",
       "      <th>GO:0098973</th>\n",
       "      <td>structural constituent of postsynaptic actin c...</td>\n",
       "      <td>3.12578e-08</td>\n",
       "      <td>4.00000e-308</td>\n",
       "      <td>1.50412e-04</td>\n",
       "      <td>1.92480e-304</td>\n",
       "      <td>3.00825e-05</td>\n",
       "      <td>2.09445e-307</td>\n",
       "    </tr>\n",
       "    <tr>\n",
       "      <th>...</th>\n",
       "      <td>...</td>\n",
       "      <td>...</td>\n",
       "      <td>...</td>\n",
       "      <td>...</td>\n",
       "      <td>...</td>\n",
       "      <td>...</td>\n",
       "      <td>...</td>\n",
       "    </tr>\n",
       "    <tr>\n",
       "      <th>GO:0043547</th>\n",
       "      <td>positive regulation of GTPase activity</td>\n",
       "      <td>9.93716e-01</td>\n",
       "      <td>3.51000e-306</td>\n",
       "      <td>1</td>\n",
       "      <td>1.68901e-302</td>\n",
       "      <td>9.94543e-01</td>\n",
       "      <td>3.58830e-306</td>\n",
       "    </tr>\n",
       "    <tr>\n",
       "      <th>GO:0099056</th>\n",
       "      <td>integral component of presynaptic membrane</td>\n",
       "      <td>9.96272e-01</td>\n",
       "      <td>6.30000e-307</td>\n",
       "      <td>1</td>\n",
       "      <td>3.03156e-303</td>\n",
       "      <td>9.96893e-01</td>\n",
       "      <td>7.44306e-307</td>\n",
       "    </tr>\n",
       "    <tr>\n",
       "      <th>GO:0045669</th>\n",
       "      <td>positive regulation of osteoblast differentiation</td>\n",
       "      <td>9.96478e-01</td>\n",
       "      <td>6.20000e-307</td>\n",
       "      <td>1</td>\n",
       "      <td>2.98344e-303</td>\n",
       "      <td>9.96893e-01</td>\n",
       "      <td>7.34656e-307</td>\n",
       "    </tr>\n",
       "    <tr>\n",
       "      <th>GO:0032355</th>\n",
       "      <td>response to estradiol</td>\n",
       "      <td>9.96751e-01</td>\n",
       "      <td>9.40000e-307</td>\n",
       "      <td>1</td>\n",
       "      <td>4.52328e-303</td>\n",
       "      <td>9.96958e-01</td>\n",
       "      <td>1.04295e-306</td>\n",
       "    </tr>\n",
       "    <tr>\n",
       "      <th>GO:0007626</th>\n",
       "      <td>locomotory behavior</td>\n",
       "      <td>9.98396e-01</td>\n",
       "      <td>8.60000e-307</td>\n",
       "      <td>1</td>\n",
       "      <td>4.13832e-303</td>\n",
       "      <td>9.98396e-01</td>\n",
       "      <td>9.66897e-307</td>\n",
       "    </tr>\n",
       "  </tbody>\n",
       "</table>\n",
       "<p>4812 rows × 7 columns</p>\n",
       "</div>"
      ],
      "text/plain": [
       "                                                      go_term binom_p_value  \\\n",
       "GO:0072749                cellular response to cytochalasin B   8.17019e-10   \n",
       "GO:0051623       positive regulation of norepinephrine uptake   8.17019e-10   \n",
       "GO:0035089        establishment of apical/basal cell polarity   2.08657e-09   \n",
       "GO:0044393                                         microspike   3.08450e-09   \n",
       "GO:0098973  structural constituent of postsynaptic actin c...   3.12578e-08   \n",
       "...                                                       ...           ...   \n",
       "GO:0043547             positive regulation of GTPase activity   9.93716e-01   \n",
       "GO:0099056         integral component of presynaptic membrane   9.96272e-01   \n",
       "GO:0045669  positive regulation of osteoblast differentiation   9.96478e-01   \n",
       "GO:0032355                              response to estradiol   9.96751e-01   \n",
       "GO:0007626                                locomotory behavior   9.98396e-01   \n",
       "\n",
       "           hypergeom_p_value binom_bonferroni hypergeom_bonferroni  \\\n",
       "GO:0072749      1.00000e-308      3.93150e-06         4.81200e-305   \n",
       "GO:0051623      1.00000e-308      3.93150e-06         4.81200e-305   \n",
       "GO:0035089      4.00000e-308      1.00406e-05         1.92480e-304   \n",
       "GO:0044393      5.00000e-308      1.48426e-05         2.40600e-304   \n",
       "GO:0098973      4.00000e-308      1.50412e-04         1.92480e-304   \n",
       "...                      ...              ...                  ...   \n",
       "GO:0043547      3.51000e-306                1         1.68901e-302   \n",
       "GO:0099056      6.30000e-307                1         3.03156e-303   \n",
       "GO:0045669      6.20000e-307                1         2.98344e-303   \n",
       "GO:0032355      9.40000e-307                1         4.52328e-303   \n",
       "GO:0007626      8.60000e-307                1         4.13832e-303   \n",
       "\n",
       "              binom_fdr hypergeom_fdr  \n",
       "GO:0072749  1.96575e-06  1.98843e-307  \n",
       "GO:0051623  1.96575e-06  1.98843e-307  \n",
       "GO:0035089  3.34686e-06  2.09445e-307  \n",
       "GO:0044393  3.71066e-06  2.17738e-307  \n",
       "GO:0098973  3.00825e-05  2.09445e-307  \n",
       "...                 ...           ...  \n",
       "GO:0043547  9.94543e-01  3.58830e-306  \n",
       "GO:0099056  9.96893e-01  7.44306e-307  \n",
       "GO:0045669  9.96893e-01  7.34656e-307  \n",
       "GO:0032355  9.96958e-01  1.04295e-306  \n",
       "GO:0007626  9.98396e-01  9.66897e-307  \n",
       "\n",
       "[4812 rows x 7 columns]"
      ]
     },
     "execution_count": 9,
     "metadata": {},
     "output_type": "execute_result"
    }
   ],
   "source": [
    "enrichment_tot = great.tl.GREAT.enrichment(\n",
    "    test_file=test,\n",
    "    regdom_file=regdom,\n",
    "    chr_size_file=size,\n",
    "    annotation_file=\"../../data/human/ontologies.csv\",\n",
    "    binom=True,\n",
    "    hypergeom=True,\n",
    "    )\n",
    "great.tl.GREAT.set_bonferroni(enrichment_tot,0.05)\n",
    "great.tl.GREAT.set_fdr(enrichment_tot,0.05)"
   ]
  },
  {
   "cell_type": "markdown",
   "metadata": {},
   "source": [
    "## II Compare to GREAT webserver  "
   ]
  },
  {
   "cell_type": "markdown",
   "metadata": {},
   "source": [
    "### II.1 Import the data"
   ]
  },
  {
   "cell_type": "code",
   "execution_count": 10,
   "metadata": {},
   "outputs": [],
   "source": [
    "great_webserver = pd.read_csv(great_out,sep=\"\\t\",comment=\"#\",\n",
    "                    names=[\"ontologie\",\"term_name\",\"ID\",\"binom_p_value\",\"binom_bonferroni\",\"binom_fdr\",\"hyper_p_value\",\"hyper_bonferroni\",\"hyper_fdr\"],index_col=False,\n",
    "                    dtype={\"term_name\":\"object\", \"ID\":\"object\",\"binom_p_value\":\"float64\", \"binom_bonferroni\":\"float64\", \"binom_fdr\":\"float64\", \"hyper_p_value\":\"float64\", \"hyper_bonferroni\":\"float64\", \"hyper_fdr\":\"float64\"})\n",
    "great_webserver.rename(columns={\"ID\":\"id\"},inplace=True)\n",
    "del great_webserver[\"ontologie\"]\n",
    "del great_webserver[\"term_name\"]"
   ]
  },
  {
   "cell_type": "code",
   "execution_count": 11,
   "metadata": {},
   "outputs": [
    {
     "data": {
      "text/html": [
       "<div>\n",
       "<style scoped>\n",
       "    .dataframe tbody tr th:only-of-type {\n",
       "        vertical-align: middle;\n",
       "    }\n",
       "\n",
       "    .dataframe tbody tr th {\n",
       "        vertical-align: top;\n",
       "    }\n",
       "\n",
       "    .dataframe thead th {\n",
       "        text-align: right;\n",
       "    }\n",
       "</style>\n",
       "<table border=\"1\" class=\"dataframe\">\n",
       "  <thead>\n",
       "    <tr style=\"text-align: right;\">\n",
       "      <th></th>\n",
       "      <th>id</th>\n",
       "      <th>binom_p_value</th>\n",
       "      <th>binom_bonferroni</th>\n",
       "      <th>binom_fdr</th>\n",
       "      <th>hyper_p_value</th>\n",
       "      <th>hyper_bonferroni</th>\n",
       "      <th>hyper_fdr</th>\n",
       "    </tr>\n",
       "  </thead>\n",
       "  <tbody>\n",
       "    <tr>\n",
       "      <th>0</th>\n",
       "      <td>GO:0098974</td>\n",
       "      <td>1.16271e-09</td>\n",
       "      <td>1.53001e-05</td>\n",
       "      <td>1.53001e-05</td>\n",
       "      <td>4.91559e-02</td>\n",
       "      <td>1.00000e+00</td>\n",
       "      <td>1.00000e+00</td>\n",
       "    </tr>\n",
       "    <tr>\n",
       "      <th>1</th>\n",
       "      <td>GO:0030035</td>\n",
       "      <td>6.86116e-08</td>\n",
       "      <td>9.02861e-04</td>\n",
       "      <td>3.00954e-04</td>\n",
       "      <td>1.82609e-01</td>\n",
       "      <td>1.00000e+00</td>\n",
       "      <td>1.00000e+00</td>\n",
       "    </tr>\n",
       "    <tr>\n",
       "      <th>2</th>\n",
       "      <td>GO:0002478</td>\n",
       "      <td>3.37650e-07</td>\n",
       "      <td>4.44314e-03</td>\n",
       "      <td>8.88627e-04</td>\n",
       "      <td>8.26639e-03</td>\n",
       "      <td>1.00000e+00</td>\n",
       "      <td>7.01790e-01</td>\n",
       "    </tr>\n",
       "    <tr>\n",
       "      <th>3</th>\n",
       "      <td>GO:0019884</td>\n",
       "      <td>5.84360e-07</td>\n",
       "      <td>7.68959e-03</td>\n",
       "      <td>1.09851e-03</td>\n",
       "      <td>1.19953e-02</td>\n",
       "      <td>1.00000e+00</td>\n",
       "      <td>7.85306e-01</td>\n",
       "    </tr>\n",
       "    <tr>\n",
       "      <th>4</th>\n",
       "      <td>GO:0048254</td>\n",
       "      <td>7.09959e-07</td>\n",
       "      <td>9.34235e-03</td>\n",
       "      <td>1.03804e-03</td>\n",
       "      <td>1.35530e-02</td>\n",
       "      <td>1.00000e+00</td>\n",
       "      <td>8.33383e-01</td>\n",
       "    </tr>\n",
       "    <tr>\n",
       "      <th>...</th>\n",
       "      <td>...</td>\n",
       "      <td>...</td>\n",
       "      <td>...</td>\n",
       "      <td>...</td>\n",
       "      <td>...</td>\n",
       "      <td>...</td>\n",
       "      <td>...</td>\n",
       "    </tr>\n",
       "    <tr>\n",
       "      <th>2676</th>\n",
       "      <td>GO:0090722</td>\n",
       "      <td>3.87433e-01</td>\n",
       "      <td>1.00000e+00</td>\n",
       "      <td>1.00000e+00</td>\n",
       "      <td>1.82609e-01</td>\n",
       "      <td>1.00000e+00</td>\n",
       "      <td>1.00000e+00</td>\n",
       "    </tr>\n",
       "    <tr>\n",
       "      <th>2677</th>\n",
       "      <td>GO:0031698</td>\n",
       "      <td>3.88983e-01</td>\n",
       "      <td>1.00000e+00</td>\n",
       "      <td>1.00000e+00</td>\n",
       "      <td>1.82609e-01</td>\n",
       "      <td>1.00000e+00</td>\n",
       "      <td>1.00000e+00</td>\n",
       "    </tr>\n",
       "    <tr>\n",
       "      <th>2678</th>\n",
       "      <td>GO:0046935</td>\n",
       "      <td>3.89202e-01</td>\n",
       "      <td>1.00000e+00</td>\n",
       "      <td>1.00000e+00</td>\n",
       "      <td>2.97348e-01</td>\n",
       "      <td>1.00000e+00</td>\n",
       "      <td>1.00000e+00</td>\n",
       "    </tr>\n",
       "    <tr>\n",
       "      <th>2679</th>\n",
       "      <td>GO:0015129</td>\n",
       "      <td>3.91083e-01</td>\n",
       "      <td>1.00000e+00</td>\n",
       "      <td>1.00000e+00</td>\n",
       "      <td>2.22797e-01</td>\n",
       "      <td>1.00000e+00</td>\n",
       "      <td>1.00000e+00</td>\n",
       "    </tr>\n",
       "    <tr>\n",
       "      <th>2680</th>\n",
       "      <td>GO:0098847</td>\n",
       "      <td>3.92261e-01</td>\n",
       "      <td>1.00000e+00</td>\n",
       "      <td>1.00000e+00</td>\n",
       "      <td>5.06347e-01</td>\n",
       "      <td>1.00000e+00</td>\n",
       "      <td>1.00000e+00</td>\n",
       "    </tr>\n",
       "  </tbody>\n",
       "</table>\n",
       "<p>2681 rows × 7 columns</p>\n",
       "</div>"
      ],
      "text/plain": [
       "              id  binom_p_value  binom_bonferroni    binom_fdr  hyper_p_value  \\\n",
       "0     GO:0098974    1.16271e-09       1.53001e-05  1.53001e-05    4.91559e-02   \n",
       "1     GO:0030035    6.86116e-08       9.02861e-04  3.00954e-04    1.82609e-01   \n",
       "2     GO:0002478    3.37650e-07       4.44314e-03  8.88627e-04    8.26639e-03   \n",
       "3     GO:0019884    5.84360e-07       7.68959e-03  1.09851e-03    1.19953e-02   \n",
       "4     GO:0048254    7.09959e-07       9.34235e-03  1.03804e-03    1.35530e-02   \n",
       "...          ...            ...               ...          ...            ...   \n",
       "2676  GO:0090722    3.87433e-01       1.00000e+00  1.00000e+00    1.82609e-01   \n",
       "2677  GO:0031698    3.88983e-01       1.00000e+00  1.00000e+00    1.82609e-01   \n",
       "2678  GO:0046935    3.89202e-01       1.00000e+00  1.00000e+00    2.97348e-01   \n",
       "2679  GO:0015129    3.91083e-01       1.00000e+00  1.00000e+00    2.22797e-01   \n",
       "2680  GO:0098847    3.92261e-01       1.00000e+00  1.00000e+00    5.06347e-01   \n",
       "\n",
       "      hyper_bonferroni    hyper_fdr  \n",
       "0          1.00000e+00  1.00000e+00  \n",
       "1          1.00000e+00  1.00000e+00  \n",
       "2          1.00000e+00  7.01790e-01  \n",
       "3          1.00000e+00  7.85306e-01  \n",
       "4          1.00000e+00  8.33383e-01  \n",
       "...                ...          ...  \n",
       "2676       1.00000e+00  1.00000e+00  \n",
       "2677       1.00000e+00  1.00000e+00  \n",
       "2678       1.00000e+00  1.00000e+00  \n",
       "2679       1.00000e+00  1.00000e+00  \n",
       "2680       1.00000e+00  1.00000e+00  \n",
       "\n",
       "[2681 rows x 7 columns]"
      ]
     },
     "execution_count": 11,
     "metadata": {},
     "output_type": "execute_result"
    }
   ],
   "source": [
    "great_webserver"
   ]
  },
  {
   "cell_type": "markdown",
   "metadata": {},
   "source": [
    "### II.2 Compare the results between greatpy and great "
   ]
  },
  {
   "cell_type": "markdown",
   "metadata": {},
   "source": [
    "#### II.2.1 Preprocessing"
   ]
  },
  {
   "cell_type": "code",
   "execution_count": 12,
   "metadata": {},
   "outputs": [],
   "source": [
    "before_pp = enrichment_tot.shape[0]\n",
    "enrichment_tot = enrichment_tot[enrichment_tot.index.isin(list(great_webserver[\"id\"]))]\n",
    "after_pp = enrichment_tot.shape[0]"
   ]
  },
  {
   "cell_type": "code",
   "execution_count": 13,
   "metadata": {},
   "outputs": [],
   "source": [
    "great_webserver = great_webserver[great_webserver[\"id\"].isin(list(enrichment_tot.index))]\n",
    "great_webserver = great_webserver.sort_values(\"id\")"
   ]
  },
  {
   "cell_type": "code",
   "execution_count": 14,
   "metadata": {},
   "outputs": [],
   "source": [
    "binom_greatpy = hyper_greatpy = binom_great = hyper_great = []\n",
    "for i in range(enrichment_tot.shape[0]) : \n",
    "    go_id = list(enrichment_tot.index)[i]\n",
    "    curr_enrichment = enrichment_tot.iloc[i]\n",
    "    curr_great_webserver = great_webserver.loc[great_webserver[\"id\"]==go_id]\n",
    "    binom_greatpy.append(float(curr_enrichment[\"binom_p_value\"]))\n",
    "    hyper_greatpy.append(float(curr_enrichment[\"hypergeom_p_value\"]))\n",
    "    binom_great.append(float(curr_great_webserver[\"binom_p_value\"]))\n",
    "    hyper_great.append(float(curr_great_webserver[\"hyper_p_value\"]))\n",
    "binom = pd.DataFrame({\"binom_greatpy\":binom_greatpy,\"binom_great\":binom_great})\n",
    "hyper = pd.DataFrame({\"hyper_greatpy\":hyper_greatpy,\"hyper_great\":hyper_great})"
   ]
  },
  {
   "cell_type": "markdown",
   "metadata": {},
   "source": [
    "#### II.2.b Graphical"
   ]
  },
  {
   "cell_type": "code",
   "execution_count": 15,
   "metadata": {},
   "outputs": [
    {
     "data": {
      "image/png": "[encoded data removed]",
      "text/plain": [
       "<Figure size 432x288 with 1 Axes>"
      ]
     },
     "metadata": {
      "needs_background": "light"
     },
     "output_type": "display_data"
    }
   ],
   "source": [
    "pl=great.pl.scatterplot(binom,colname_x=\"binom_greatpy\",colname_y=\"binom_great\")"
   ]
  },
  {
   "cell_type": "code",
   "execution_count": 16,
   "metadata": {},
   "outputs": [
    {
     "data": {
      "image/png": "[encoded data removed]",
      "text/plain": [
       "<Figure size 432x288 with 1 Axes>"
      ]
     },
     "metadata": {
      "needs_background": "light"
     },
     "output_type": "display_data"
    }
   ],
   "source": [
    "great.pl.scatterplot(hyper,colname_x=\"hyper_greatpy\",colname_y=\"hyper_great\")"
   ]
  },
  {
   "cell_type": "markdown",
   "metadata": {},
   "source": [
    "#### II.2.c Statistics"
   ]
  },
  {
   "cell_type": "code",
   "execution_count": 17,
   "metadata": {},
   "outputs": [],
   "source": [
    "def stat(binom_great_list_list, hyper_great_listpy_list,binom_great_list,hyper_great_list) : \n",
    "    if len(binom_great_list_list) >= 2 and len(hyper_great_listpy_list) >= 2 and len(binom_great_list) >= 2  and len(hyper_great_list) >= 2 : \n",
    "        return pd.DataFrame({\n",
    "            \"binom\": [cov(m = binom_great_list_list, y = binom_great_list)[0][1],pearsonr(binom_great_list_list,binom_great_list)[0]],\n",
    "            \"hyper\":[cov(m = hyper_great_listpy_list, y = hyper_great_list)[0][1],pearsonr(hyper_great_listpy_list,hyper_great_list)[0]]},\n",
    "            index=[\"correlation_coefficient\",\"pearson\"])\n",
    "    return False"
   ]
  },
  {
   "cell_type": "markdown",
   "metadata": {},
   "source": [
    "Issue is : NaN in hyper_fdr"
   ]
  },
  {
   "cell_type": "code",
   "execution_count": null,
   "metadata": {},
   "outputs": [],
   "source": [
    "# stat(binom_greatpy, hyper_greatpy,binom_great,hyper_great)"
   ]
  },
  {
   "cell_type": "code",
   "execution_count": 18,
   "metadata": {},
   "outputs": [
    {
     "name": "stdout",
     "output_type": "stream",
     "text": [
      "4812\n",
      "1854\n"
     ]
    }
   ],
   "source": [
    "print(before_pp)\n",
    "print(after_pp)"
   ]
  },
  {
   "cell_type": "markdown",
   "metadata": {},
   "source": [
    "We went from 4396 ontology terms in greatpy output to 281 ontology terms by selecting the GO identifiers present in both greatpy and great "
   ]
  },
  {
   "cell_type": "markdown",
   "metadata": {},
   "source": [
    "But when two ontology terms are selected they have the same binomial and hypergeometric probability value "
   ]
  },
  {
   "cell_type": "markdown",
   "metadata": {},
   "source": [
    "# How many associations are good or bad "
   ]
  },
  {
   "cell_type": "code",
   "execution_count": 19,
   "metadata": {},
   "outputs": [
    {
     "name": "stdout",
     "output_type": "stream",
     "text": [
      "Number of gene association present in greatpy and great : 923\n",
      "Number of gene association prensent in great and not in greatpy 0\n",
      "Number of gene association prensent in greatpy and not in great 4\n"
     ]
    }
   ],
   "source": [
    "gene_asso_great = pd.read_csv(great_asso,sep=\"\\t\",comment=\"#\",names=[\"ontologies\",\"gene\"],index_col=False, dtype={\"ontologies\":\"object\",\"gene\":\"object\"},usecols=[\"gene\"])\n",
    "gene_asso_greatpy = great.tl.get_association(\n",
    "    test = pd.read_csv(test,sep=\"\\t\",comment=\"#\",usecols=[0,1,2],names=[\"Chr\", \"Chr_Start\", \"Chr_End\"],dtype={\"Chr\":\"object\", \"Chr_Start\":\"int64\", \"Chr_End\":\"int64\"}),\n",
    "    regdom= pd.read_csv(regdom,sep=\"\\t\",comment=\"#\",names=[\"Chr\", \"Chr_Start\", \"Chr_End\",\"Name\",\"tss\",\"Strand\"],dtype={\"Chr\":\"object\", \"Chr_Start\":\"int64\", \"Chr_End\":\"int64\",\"Name\":\"object\",\"tss\":\"int64\",\"Strand\":\"object\"}))\n",
    "in_in = gene_asso_great[gene_asso_great[\"gene\"].isin(gene_asso_greatpy)].shape[0]\n",
    "in_out = [i for i in list(gene_asso_great[\"gene\"]) if i not in gene_asso_greatpy]\n",
    "out_in = [i for i in gene_asso_greatpy if i not in list(gene_asso_great[\"gene\"])]\n",
    "\n",
    "print(f\"Number of gene association present in greatpy and great : {in_in}\")\n",
    "print(f\"Number of gene association prensent in great and not in greatpy {len(in_out)}\")\n",
    "print(f\"Number of gene association prensent in greatpy and not in great {len(out_in)}\")"
   ]
  },
  {
   "cell_type": "code",
   "execution_count": 20,
   "metadata": {},
   "outputs": [
    {
     "data": {
      "text/plain": [
       "['RAB41', 'MAN2A2', 'HOXB13', 'TNFAIP8L2']"
      ]
     },
     "execution_count": 20,
     "metadata": {},
     "output_type": "execute_result"
    }
   ],
   "source": [
    "out_in"
   ]
  }
 ],
 "metadata": {
  "kernelspec": {
   "display_name": "Python 3.9.12 ('base')",
   "language": "python",
   "name": "python3"
  },
  "language_info": {
   "codemirror_mode": {
    "name": "ipython",
    "version": 3
   },
   "file_extension": ".py",
   "mimetype": "text/x-python",
   "name": "python",
   "nbconvert_exporter": "python",
   "pygments_lexer": "ipython3",
   "version": "3.9.12"
  },
  "orig_nbformat": 4,
  "vscode": {
   "interpreter": {
    "hash": "dd3aa23b046397ccf7f1ffb7cb82646c26b15f0b12555a0fca8fb427d9fb147f"
   }
  }
 },
 "nbformat": 4,
 "nbformat_minor": 2
}
