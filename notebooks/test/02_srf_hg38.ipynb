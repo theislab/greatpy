{
 "cells": [
  {
   "cell_type": "markdown",
   "metadata": {},
   "source": [
    "# Computation of annotation enrichment in a genetic set "
   ]
  },
  {
   "cell_type": "markdown",
   "metadata": {},
   "source": [
    "This code excerpt shows how to use the annotation enrichment computation function in a genetic set.\n",
    "The funciton return a dataframe of binom and hypergeometric p-value (<= 0.05) and for each p-value a fdr correction with alpha = 0.05.   "
   ]
  },
  {
   "cell_type": "markdown",
   "metadata": {},
   "source": [
    "In the second part of the code we will compare the results obtained with the Great webserver and between the binomial and hypergeometric probability"
   ]
  },
  {
   "cell_type": "code",
   "execution_count": 1,
   "metadata": {},
   "outputs": [],
   "source": [
    "%load_ext autoreload\n",
    "%autoreload 2"
   ]
  },
  {
   "cell_type": "code",
   "execution_count": 2,
   "metadata": {},
   "outputs": [],
   "source": [
    "import greatpy as great\n",
    "import pandas as pd\n",
    "from math import inf\n",
    "from numpy import log,nan, int64,cov,corrcoef\n",
    "from scipy.stats import pearsonr\n",
    "from seaborn import scatterplot as sp\n",
    "\n",
    "import warnings\n",
    "warnings.filterwarnings('ignore')"
   ]
  },
  {
   "cell_type": "code",
   "execution_count": 3,
   "metadata": {},
   "outputs": [],
   "source": [
    "test = \"../../data/test/02_srf_hg38.bed\"\n",
    "regdom = \"../../data/human/regulatory_domain.bed\"\n",
    "great_out = \"../../data/test/02_srf_hg38_output_great_webserver.tsv\"\n",
    "great_asso = \"../../data/test/02_srf_hg38_gene_asso.tsv\"\n",
    "size = \"../../data/human/chr_size.bed\""
   ]
  },
  {
   "cell_type": "markdown",
   "metadata": {},
   "source": [
    "## I Compute the p-values"
   ]
  },
  {
   "cell_type": "code",
   "execution_count": 4,
   "metadata": {},
   "outputs": [
    {
     "data": {
      "text/html": [
       "<div>\n",
       "<style scoped>\n",
       "    .dataframe tbody tr th:only-of-type {\n",
       "        vertical-align: middle;\n",
       "    }\n",
       "\n",
       "    .dataframe tbody tr th {\n",
       "        vertical-align: top;\n",
       "    }\n",
       "\n",
       "    .dataframe thead th {\n",
       "        text-align: right;\n",
       "    }\n",
       "</style>\n",
       "<table border=\"1\" class=\"dataframe\">\n",
       "  <thead>\n",
       "    <tr style=\"text-align: right;\">\n",
       "      <th></th>\n",
       "      <th>go_term</th>\n",
       "      <th>binom_p_value</th>\n",
       "      <th>hypergeom_p_value</th>\n",
       "      <th>binom_bonferroni</th>\n",
       "      <th>hypergeom_bonferroni</th>\n",
       "      <th>binom_fdr</th>\n",
       "      <th>hypergeom_fdr</th>\n",
       "    </tr>\n",
       "  </thead>\n",
       "  <tbody>\n",
       "    <tr>\n",
       "      <th>GO:0051623</th>\n",
       "      <td>positive regulation of norepinephrine uptake</td>\n",
       "      <td>8.16170e-10</td>\n",
       "      <td>1.00000e-308</td>\n",
       "      <td>3.58788e-06</td>\n",
       "      <td>4.39600e-305</td>\n",
       "      <td>1.79394e-06</td>\n",
       "      <td>1.96250e-307</td>\n",
       "    </tr>\n",
       "    <tr>\n",
       "      <th>GO:0072749</th>\n",
       "      <td>cellular response to cytochalasin B</td>\n",
       "      <td>8.16170e-10</td>\n",
       "      <td>1.00000e-308</td>\n",
       "      <td>3.58788e-06</td>\n",
       "      <td>4.39600e-305</td>\n",
       "      <td>1.79394e-06</td>\n",
       "      <td>1.96250e-307</td>\n",
       "    </tr>\n",
       "    <tr>\n",
       "      <th>GO:0044393</th>\n",
       "      <td>microspike</td>\n",
       "      <td>6.78366e-09</td>\n",
       "      <td>5.00000e-308</td>\n",
       "      <td>2.98210e-05</td>\n",
       "      <td>2.19800e-304</td>\n",
       "      <td>8.95359e-06</td>\n",
       "      <td>2.21127e-307</td>\n",
       "    </tr>\n",
       "    <tr>\n",
       "      <th>GO:0051621</th>\n",
       "      <td>regulation of norepinephrine uptake</td>\n",
       "      <td>8.14704e-09</td>\n",
       "      <td>4.00000e-308</td>\n",
       "      <td>3.58144e-05</td>\n",
       "      <td>1.75840e-304</td>\n",
       "      <td>8.95359e-06</td>\n",
       "      <td>2.12367e-307</td>\n",
       "    </tr>\n",
       "    <tr>\n",
       "      <th>GO:0098973</th>\n",
       "      <td>structural constituent of postsynaptic actin c...</td>\n",
       "      <td>3.12491e-08</td>\n",
       "      <td>4.00000e-308</td>\n",
       "      <td>1.37371e-04</td>\n",
       "      <td>1.75840e-304</td>\n",
       "      <td>2.28427e-05</td>\n",
       "      <td>2.12367e-307</td>\n",
       "    </tr>\n",
       "    <tr>\n",
       "      <th>...</th>\n",
       "      <td>...</td>\n",
       "      <td>...</td>\n",
       "      <td>...</td>\n",
       "      <td>...</td>\n",
       "      <td>...</td>\n",
       "      <td>...</td>\n",
       "      <td>...</td>\n",
       "    </tr>\n",
       "    <tr>\n",
       "      <th>GO:0060007</th>\n",
       "      <td>linear vestibuloocular reflex</td>\n",
       "      <td>1</td>\n",
       "      <td>1.00000e-308</td>\n",
       "      <td>1</td>\n",
       "      <td>4.39600e-305</td>\n",
       "      <td>1.00000e+00</td>\n",
       "      <td>1.96250e-307</td>\n",
       "    </tr>\n",
       "    <tr>\n",
       "      <th>GO:0030241</th>\n",
       "      <td>skeletal muscle myosin thick filament assembly</td>\n",
       "      <td>1</td>\n",
       "      <td>1.20000e-307</td>\n",
       "      <td>1</td>\n",
       "      <td>5.27520e-304</td>\n",
       "      <td>1.00000e+00</td>\n",
       "      <td>2.83918e-307</td>\n",
       "    </tr>\n",
       "    <tr>\n",
       "      <th>GO:0005865</th>\n",
       "      <td>striated muscle thin filament</td>\n",
       "      <td>1</td>\n",
       "      <td>2.30000e-307</td>\n",
       "      <td>1</td>\n",
       "      <td>1.01108e-303</td>\n",
       "      <td>1.00000e+00</td>\n",
       "      <td>3.83275e-307</td>\n",
       "    </tr>\n",
       "    <tr>\n",
       "      <th>GO:0003756</th>\n",
       "      <td>protein disulfide isomerase activity</td>\n",
       "      <td>1</td>\n",
       "      <td>2.50000e-307</td>\n",
       "      <td>1</td>\n",
       "      <td>1.09900e-303</td>\n",
       "      <td>1.00000e+00</td>\n",
       "      <td>4.02712e-307</td>\n",
       "    </tr>\n",
       "    <tr>\n",
       "      <th>GO:0042113</th>\n",
       "      <td>B cell activation</td>\n",
       "      <td>1</td>\n",
       "      <td>2.60000e-307</td>\n",
       "      <td>1</td>\n",
       "      <td>1.14296e-303</td>\n",
       "      <td>1.00000e+00</td>\n",
       "      <td>4.11285e-307</td>\n",
       "    </tr>\n",
       "  </tbody>\n",
       "</table>\n",
       "<p>4396 rows × 7 columns</p>\n",
       "</div>"
      ],
      "text/plain": [
       "                                                      go_term binom_p_value  \\\n",
       "GO:0051623       positive regulation of norepinephrine uptake   8.16170e-10   \n",
       "GO:0072749                cellular response to cytochalasin B   8.16170e-10   \n",
       "GO:0044393                                         microspike   6.78366e-09   \n",
       "GO:0051621                regulation of norepinephrine uptake   8.14704e-09   \n",
       "GO:0098973  structural constituent of postsynaptic actin c...   3.12491e-08   \n",
       "...                                                       ...           ...   \n",
       "GO:0060007                      linear vestibuloocular reflex             1   \n",
       "GO:0030241     skeletal muscle myosin thick filament assembly             1   \n",
       "GO:0005865                      striated muscle thin filament             1   \n",
       "GO:0003756               protein disulfide isomerase activity             1   \n",
       "GO:0042113                                  B cell activation             1   \n",
       "\n",
       "           hypergeom_p_value binom_bonferroni hypergeom_bonferroni  \\\n",
       "GO:0051623      1.00000e-308      3.58788e-06         4.39600e-305   \n",
       "GO:0072749      1.00000e-308      3.58788e-06         4.39600e-305   \n",
       "GO:0044393      5.00000e-308      2.98210e-05         2.19800e-304   \n",
       "GO:0051621      4.00000e-308      3.58144e-05         1.75840e-304   \n",
       "GO:0098973      4.00000e-308      1.37371e-04         1.75840e-304   \n",
       "...                      ...              ...                  ...   \n",
       "GO:0060007      1.00000e-308                1         4.39600e-305   \n",
       "GO:0030241      1.20000e-307                1         5.27520e-304   \n",
       "GO:0005865      2.30000e-307                1         1.01108e-303   \n",
       "GO:0003756      2.50000e-307                1         1.09900e-303   \n",
       "GO:0042113      2.60000e-307                1         1.14296e-303   \n",
       "\n",
       "              binom_fdr hypergeom_fdr  \n",
       "GO:0051623  1.79394e-06  1.96250e-307  \n",
       "GO:0072749  1.79394e-06  1.96250e-307  \n",
       "GO:0044393  8.95359e-06  2.21127e-307  \n",
       "GO:0051621  8.95359e-06  2.12367e-307  \n",
       "GO:0098973  2.28427e-05  2.12367e-307  \n",
       "...                 ...           ...  \n",
       "GO:0060007  1.00000e+00  1.96250e-307  \n",
       "GO:0030241  1.00000e+00  2.83918e-307  \n",
       "GO:0005865  1.00000e+00  3.83275e-307  \n",
       "GO:0003756  1.00000e+00  4.02712e-307  \n",
       "GO:0042113  1.00000e+00  4.11285e-307  \n",
       "\n",
       "[4396 rows x 7 columns]"
      ]
     },
     "execution_count": 4,
     "metadata": {},
     "output_type": "execute_result"
    }
   ],
   "source": [
    "enrichment_tot = great.tl.GREAT.enrichment(\n",
    "    test_file=test,\n",
    "    regdom_file=regdom,\n",
    "    chr_size_file=size,\n",
    "    annotation_file=\"../../data/human/ontologies.csv\",\n",
    "    binom=True,\n",
    "    hypergeom=True,\n",
    "    )\n",
    "great.tl.GREAT.set_bonferroni(enrichment_tot,0.05)\n",
    "great.tl.GREAT.set_fdr(enrichment_tot,0.05)"
   ]
  },
  {
   "cell_type": "markdown",
   "metadata": {},
   "source": [
    "## II Compare to GREAT webserver  "
   ]
  },
  {
   "cell_type": "markdown",
   "metadata": {},
   "source": [
    "### II.1 Import the data"
   ]
  },
  {
   "cell_type": "code",
   "execution_count": 5,
   "metadata": {},
   "outputs": [],
   "source": [
    "great_webserver = pd.read_csv(great_out,sep=\"\\t\",comment=\"#\",\n",
    "                    names=[\"ontologie\",\"term_name\",\"ID\",\"binom_p_value\",\"binom_bonferroni\",\"binom_fdr\",\"hyper_p_value\",\"hyper_bonferroni\",\"hyper_fdr\"],index_col=False,\n",
    "                    dtype={\"term_name\":\"object\", \"ID\":\"object\",\"binom_p_value\":\"float64\", \"binom_bonferroni\":\"float64\", \"binom_fdr\":\"float64\", \"hyper_p_value\":\"float64\", \"hyper_bonferroni\":\"float64\", \"hyper_fdr\":\"float64\"})\n",
    "great_webserver.rename(columns={\"ID\":\"id\"},inplace=True)\n",
    "del great_webserver[\"ontologie\"]\n",
    "del great_webserver[\"term_name\"]"
   ]
  },
  {
   "cell_type": "code",
   "execution_count": 6,
   "metadata": {},
   "outputs": [
    {
     "data": {
      "text/html": [
       "<div>\n",
       "<style scoped>\n",
       "    .dataframe tbody tr th:only-of-type {\n",
       "        vertical-align: middle;\n",
       "    }\n",
       "\n",
       "    .dataframe tbody tr th {\n",
       "        vertical-align: top;\n",
       "    }\n",
       "\n",
       "    .dataframe thead th {\n",
       "        text-align: right;\n",
       "    }\n",
       "</style>\n",
       "<table border=\"1\" class=\"dataframe\">\n",
       "  <thead>\n",
       "    <tr style=\"text-align: right;\">\n",
       "      <th></th>\n",
       "      <th>id</th>\n",
       "      <th>binom_p_value</th>\n",
       "      <th>binom_bonferroni</th>\n",
       "      <th>binom_fdr</th>\n",
       "      <th>hyper_p_value</th>\n",
       "      <th>hyper_bonferroni</th>\n",
       "      <th>hyper_fdr</th>\n",
       "    </tr>\n",
       "  </thead>\n",
       "  <tbody>\n",
       "    <tr>\n",
       "      <th>0</th>\n",
       "      <td>GO:0098974</td>\n",
       "      <td>1.16271e-09</td>\n",
       "      <td>1.53001e-05</td>\n",
       "      <td>1.53001e-05</td>\n",
       "      <td>4.91559e-02</td>\n",
       "      <td>1.00000e+00</td>\n",
       "      <td>1.00000e+00</td>\n",
       "    </tr>\n",
       "    <tr>\n",
       "      <th>1</th>\n",
       "      <td>GO:0002478</td>\n",
       "      <td>3.37650e-07</td>\n",
       "      <td>4.44314e-03</td>\n",
       "      <td>8.88627e-04</td>\n",
       "      <td>8.26639e-03</td>\n",
       "      <td>1.00000e+00</td>\n",
       "      <td>7.01790e-01</td>\n",
       "    </tr>\n",
       "    <tr>\n",
       "      <th>2</th>\n",
       "      <td>GO:0019884</td>\n",
       "      <td>5.84360e-07</td>\n",
       "      <td>7.68959e-03</td>\n",
       "      <td>1.09851e-03</td>\n",
       "      <td>1.19953e-02</td>\n",
       "      <td>1.00000e+00</td>\n",
       "      <td>7.85306e-01</td>\n",
       "    </tr>\n",
       "    <tr>\n",
       "      <th>3</th>\n",
       "      <td>GO:0048254</td>\n",
       "      <td>7.09959e-07</td>\n",
       "      <td>9.34235e-03</td>\n",
       "      <td>1.03804e-03</td>\n",
       "      <td>1.35530e-02</td>\n",
       "      <td>1.00000e+00</td>\n",
       "      <td>8.33383e-01</td>\n",
       "    </tr>\n",
       "    <tr>\n",
       "      <th>4</th>\n",
       "      <td>GO:0048002</td>\n",
       "      <td>8.89235e-07</td>\n",
       "      <td>1.17014e-02</td>\n",
       "      <td>1.17014e-03</td>\n",
       "      <td>1.39503e-02</td>\n",
       "      <td>1.00000e+00</td>\n",
       "      <td>7.87862e-01</td>\n",
       "    </tr>\n",
       "    <tr>\n",
       "      <th>...</th>\n",
       "      <td>...</td>\n",
       "      <td>...</td>\n",
       "      <td>...</td>\n",
       "      <td>...</td>\n",
       "      <td>...</td>\n",
       "      <td>...</td>\n",
       "      <td>...</td>\n",
       "    </tr>\n",
       "    <tr>\n",
       "      <th>384</th>\n",
       "      <td>GO:0070410</td>\n",
       "      <td>3.67040e-02</td>\n",
       "      <td>1.00000e+00</td>\n",
       "      <td>7.94688e-01</td>\n",
       "      <td>1.86624e-02</td>\n",
       "      <td>1.00000e+00</td>\n",
       "      <td>1.00000e+00</td>\n",
       "    </tr>\n",
       "    <tr>\n",
       "      <th>385</th>\n",
       "      <td>GO:0022824</td>\n",
       "      <td>3.87645e-02</td>\n",
       "      <td>1.00000e+00</td>\n",
       "      <td>8.30780e-01</td>\n",
       "      <td>1.06942e-02</td>\n",
       "      <td>1.00000e+00</td>\n",
       "      <td>1.00000e+00</td>\n",
       "    </tr>\n",
       "    <tr>\n",
       "      <th>386</th>\n",
       "      <td>GO:0043533</td>\n",
       "      <td>4.34124e-02</td>\n",
       "      <td>1.00000e+00</td>\n",
       "      <td>8.68658e-01</td>\n",
       "      <td>2.18558e-02</td>\n",
       "      <td>1.00000e+00</td>\n",
       "      <td>1.00000e+00</td>\n",
       "    </tr>\n",
       "    <tr>\n",
       "      <th>387</th>\n",
       "      <td>GO:0051864</td>\n",
       "      <td>4.70603e-02</td>\n",
       "      <td>1.00000e+00</td>\n",
       "      <td>8.90981e-01</td>\n",
       "      <td>1.09550e-02</td>\n",
       "      <td>1.00000e+00</td>\n",
       "      <td>1.00000e+00</td>\n",
       "    </tr>\n",
       "    <tr>\n",
       "      <th>388</th>\n",
       "      <td>GO:0033858</td>\n",
       "      <td>4.73070e-02</td>\n",
       "      <td>1.00000e+00</td>\n",
       "      <td>8.87689e-01</td>\n",
       "      <td>4.91559e-02</td>\n",
       "      <td>1.00000e+00</td>\n",
       "      <td>1.00000e+00</td>\n",
       "    </tr>\n",
       "  </tbody>\n",
       "</table>\n",
       "<p>389 rows × 7 columns</p>\n",
       "</div>"
      ],
      "text/plain": [
       "             id  binom_p_value  binom_bonferroni    binom_fdr  hyper_p_value  \\\n",
       "0    GO:0098974    1.16271e-09       1.53001e-05  1.53001e-05    4.91559e-02   \n",
       "1    GO:0002478    3.37650e-07       4.44314e-03  8.88627e-04    8.26639e-03   \n",
       "2    GO:0019884    5.84360e-07       7.68959e-03  1.09851e-03    1.19953e-02   \n",
       "3    GO:0048254    7.09959e-07       9.34235e-03  1.03804e-03    1.35530e-02   \n",
       "4    GO:0048002    8.89235e-07       1.17014e-02  1.17014e-03    1.39503e-02   \n",
       "..          ...            ...               ...          ...            ...   \n",
       "384  GO:0070410    3.67040e-02       1.00000e+00  7.94688e-01    1.86624e-02   \n",
       "385  GO:0022824    3.87645e-02       1.00000e+00  8.30780e-01    1.06942e-02   \n",
       "386  GO:0043533    4.34124e-02       1.00000e+00  8.68658e-01    2.18558e-02   \n",
       "387  GO:0051864    4.70603e-02       1.00000e+00  8.90981e-01    1.09550e-02   \n",
       "388  GO:0033858    4.73070e-02       1.00000e+00  8.87689e-01    4.91559e-02   \n",
       "\n",
       "     hyper_bonferroni    hyper_fdr  \n",
       "0         1.00000e+00  1.00000e+00  \n",
       "1         1.00000e+00  7.01790e-01  \n",
       "2         1.00000e+00  7.85306e-01  \n",
       "3         1.00000e+00  8.33383e-01  \n",
       "4         1.00000e+00  7.87862e-01  \n",
       "..                ...          ...  \n",
       "384       1.00000e+00  1.00000e+00  \n",
       "385       1.00000e+00  1.00000e+00  \n",
       "386       1.00000e+00  1.00000e+00  \n",
       "387       1.00000e+00  1.00000e+00  \n",
       "388       1.00000e+00  1.00000e+00  \n",
       "\n",
       "[389 rows x 7 columns]"
      ]
     },
     "execution_count": 6,
     "metadata": {},
     "output_type": "execute_result"
    }
   ],
   "source": [
    "great_webserver"
   ]
  },
  {
   "cell_type": "markdown",
   "metadata": {},
   "source": [
    "### II.2 Compare the results between greatpy and great "
   ]
  },
  {
   "cell_type": "markdown",
   "metadata": {},
   "source": [
    "#### II.2.1 Preprocessing"
   ]
  },
  {
   "cell_type": "code",
   "execution_count": 7,
   "metadata": {},
   "outputs": [],
   "source": [
    "before_pp = enrichment_tot.shape[0]\n",
    "enrichment_tot = enrichment_tot[enrichment_tot.index.isin(list(great_webserver[\"id\"]))]\n",
    "after_pp = enrichment_tot.shape[0]"
   ]
  },
  {
   "cell_type": "code",
   "execution_count": 8,
   "metadata": {},
   "outputs": [],
   "source": [
    "great_webserver = great_webserver[great_webserver[\"id\"].isin(list(enrichment_tot.index))]\n",
    "great_webserver = great_webserver.sort_values(\"id\")"
   ]
  },
  {
   "cell_type": "code",
   "execution_count": 9,
   "metadata": {},
   "outputs": [],
   "source": [
    "binom_greatpy = hyper_greatpy = binom_great = hyper_great = []\n",
    "for i in range(enrichment_tot.shape[0]) : \n",
    "    go_id = list(enrichment_tot.index)[i]\n",
    "    curr_enrichment = enrichment_tot.iloc[i]\n",
    "    curr_great_webserver = great_webserver.loc[great_webserver[\"id\"]==go_id]\n",
    "    binom_greatpy.append(float(curr_enrichment[\"binom_p_value\"]))\n",
    "    hyper_greatpy.append(float(curr_enrichment[\"hypergeom_p_value\"]))\n",
    "    binom_great.append(float(curr_great_webserver[\"binom_p_value\"]))\n",
    "    hyper_great.append(float(curr_great_webserver[\"hyper_p_value\"]))\n",
    "binom = pd.DataFrame({\"binom_greatpy\":binom_greatpy,\"binom_great\":binom_great})\n",
    "hyper = pd.DataFrame({\"hyper_greatpy\":hyper_greatpy,\"hyper_great\":hyper_great})"
   ]
  },
  {
   "cell_type": "markdown",
   "metadata": {},
   "source": [
    "#### II.2.b Graphical"
   ]
  },
  {
   "cell_type": "code",
   "execution_count": 10,
   "metadata": {},
   "outputs": [
    {
     "data": {
      "image/png": "[encoded data removed]",
      "text/plain": [
       "<Figure size 432x288 with 1 Axes>"
      ]
     },
     "metadata": {
      "needs_background": "light"
     },
     "output_type": "display_data"
    }
   ],
   "source": [
    "pl=great.pl.scatterplot(binom,colname_x=\"binom_greatpy\",colname_y=\"binom_great\")"
   ]
  },
  {
   "cell_type": "code",
   "execution_count": 11,
   "metadata": {},
   "outputs": [
    {
     "data": {
      "image/png": "[encoded data removed]",
      "text/plain": [
       "<Figure size 432x288 with 1 Axes>"
      ]
     },
     "metadata": {
      "needs_background": "light"
     },
     "output_type": "display_data"
    }
   ],
   "source": [
    "great.pl.scatterplot(hyper,colname_x=\"hyper_greatpy\",colname_y=\"hyper_great\")"
   ]
  },
  {
   "cell_type": "markdown",
   "metadata": {},
   "source": [
    "#### II.2.c Statistics"
   ]
  },
  {
   "cell_type": "code",
   "execution_count": 12,
   "metadata": {},
   "outputs": [],
   "source": [
    "def stat(binom_great_list_list, hyper_great_listpy_list,binom_great_list,hyper_great_list) : \n",
    "    if len(binom_great_list_list) >= 2 and len(hyper_great_listpy_list) >= 2 and len(binom_great_list) >= 2  and len(hyper_great_list) >= 2 : \n",
    "        return pd.DataFrame({\n",
    "            \"binom\": [cov(m = binom_great_list_list, y = binom_great_list)[0][1],pearsonr(binom_great_list_list,binom_great_list)[0]],\n",
    "            \"hyper\":[cov(m = hyper_great_listpy_list, y = hyper_great_list)[0][1],pearsonr(hyper_great_listpy_list,hyper_great_list)[0]]},\n",
    "            index=[\"correlation_coefficient\",\"pearson\"])\n",
    "    return False"
   ]
  },
  {
   "cell_type": "markdown",
   "metadata": {},
   "source": [
    "Issue is : NaN in hyper_fdr"
   ]
  },
  {
   "cell_type": "code",
   "execution_count": 13,
   "metadata": {},
   "outputs": [],
   "source": [
    "# stat(binom_greatpy, hyper_greatpy,binom_great,hyper_great)"
   ]
  },
  {
   "cell_type": "code",
   "execution_count": 14,
   "metadata": {},
   "outputs": [
    {
     "name": "stdout",
     "output_type": "stream",
     "text": [
      "4396\n",
      "281\n"
     ]
    }
   ],
   "source": [
    "print(before_pp)\n",
    "print(after_pp)"
   ]
  },
  {
   "cell_type": "markdown",
   "metadata": {},
   "source": [
    "We went from 268 ontology terms in greatpy output to 92 ontology terms by selecting the GO identifiers present in both greatpy and great "
   ]
  },
  {
   "cell_type": "markdown",
   "metadata": {},
   "source": [
    "But when two ontology terms are selected they have the same binomial and hypergeometric probability value "
   ]
  },
  {
   "cell_type": "markdown",
   "metadata": {},
   "source": [
    "# How many associations are good or bad "
   ]
  },
  {
   "cell_type": "code",
   "execution_count": 15,
   "metadata": {},
   "outputs": [
    {
     "name": "stdout",
     "output_type": "stream",
     "text": [
      "Number of gene association present in greatpy and great : 452\n",
      "Number of gene association prensent in great and not in greatpy 124\n",
      "Number of gene association prensent in greatpy and not in great 546\n"
     ]
    }
   ],
   "source": [
    "gene_asso_great = pd.read_csv(great_asso,sep=\"\\t\",comment=\"#\",names=[\"ontologies\",\"gene\"],index_col=False, dtype={\"ontologies\":\"object\",\"gene\":\"object\"},usecols=[\"gene\"])\n",
    "gene_asso_greatpy = great.tl.get_association(\n",
    "    test = pd.read_csv(test,sep=\"\\t\",comment=\"#\",usecols=[0,1,2],names=[\"Chr\", \"Chr_Start\", \"Chr_End\"],dtype={\"Chr\":\"object\", \"Chr_Start\":\"int64\", \"Chr_End\":\"int64\"}),\n",
    "    regdom= pd.read_csv(regdom,sep=\"\\t\",comment=\"#\",names=[\"Chr\", \"Chr_Start\", \"Chr_End\",\"Name\",\"tss\",\"Strand\"],dtype={\"Chr\":\"object\", \"Chr_Start\":\"int64\", \"Chr_End\":\"int64\",\"Name\":\"object\",\"tss\":\"int64\",\"Strand\":\"object\"}))\n",
    "in_in = gene_asso_great[gene_asso_great[\"gene\"].isin(gene_asso_greatpy)].shape[0]\n",
    "in_out = [i for i in list(gene_asso_great[\"gene\"]) if i not in gene_asso_greatpy]\n",
    "out_in = [i for i in gene_asso_greatpy if i not in list(gene_asso_great[\"gene\"])]\n",
    "\n",
    "print(f\"Number of gene association present in greatpy and great : {in_in}\")\n",
    "print(f\"Number of gene association prensent in great and not in greatpy {len(in_out)}\")\n",
    "print(f\"Number of gene association prensent in greatpy and not in great {len(out_in)}\")"
   ]
  }
 ],
 "metadata": {
  "kernelspec": {
   "display_name": "Python 3.9.12 ('base')",
   "language": "python",
   "name": "python3"
  },
  "language_info": {
   "codemirror_mode": {
    "name": "ipython",
    "version": 3
   },
   "file_extension": ".py",
   "mimetype": "text/x-python",
   "name": "python",
   "nbconvert_exporter": "python",
   "pygments_lexer": "ipython3",
   "version": "3.9.12"
  },
  "orig_nbformat": 4,
  "vscode": {
   "interpreter": {
    "hash": "dd3aa23b046397ccf7f1ffb7cb82646c26b15f0b12555a0fca8fb427d9fb147f"
   }
  }
 },
 "nbformat": 4,
 "nbformat_minor": 2
}
