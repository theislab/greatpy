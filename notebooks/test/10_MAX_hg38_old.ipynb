{
 "cells": [
  {
   "cell_type": "markdown",
   "metadata": {},
   "source": [
    "# Computation of annotation enrichment in a genetic set "
   ]
  },
  {
   "cell_type": "markdown",
   "metadata": {},
   "source": [
    "This code excerpt shows how to use the annotation enrichment computation function in a genetic set.\n",
    "The funciton return a dataframe of binom and hypergeometric p-value (<= 0.05) and for each p-value a fdr correction with alpha = 0.05.   "
   ]
  },
  {
   "cell_type": "markdown",
   "metadata": {},
   "source": [
    "In the second part of the code we will compare the results obtained with the Great webserver and between the binomial and hypergeometric probability"
   ]
  },
  {
   "cell_type": "code",
   "execution_count": 20,
   "metadata": {},
   "outputs": [
    {
     "name": "stdout",
     "output_type": "stream",
     "text": [
      "The autoreload extension is already loaded. To reload it, use:\n",
      "  %reload_ext autoreload\n"
     ]
    }
   ],
   "source": [
    "%load_ext autoreload\n",
    "%autoreload 2"
   ]
  },
  {
   "cell_type": "code",
   "execution_count": 21,
   "metadata": {},
   "outputs": [],
   "source": [
    "import greatpy as great\n",
    "import pandas as pd\n",
    "from math import inf\n",
    "from numpy import log,nan, int64,cov,corrcoef\n",
    "from scipy.stats import pearsonr\n",
    "from seaborn import scatterplot as sp\n",
    "\n",
    "import warnings\n",
    "warnings.filterwarnings('ignore')"
   ]
  },
  {
   "cell_type": "code",
   "execution_count": 22,
   "metadata": {},
   "outputs": [],
   "source": [
    "test = \"../../data/tests/test_data/input/10_MAX.bed\"\n",
    "regdom = \"../../data/human/hg38/regulatory_domain.bed\"\n",
    "great_out = \"../../data/tests/test_data/output/10_MAX_output_great_webserver.tsv\"\n",
    "great_asso = \"../../data/tests/test_data/output/10_MAX_gene_asso.tsv\"\n",
    "size = \"../../data/human/hg38/chr_size.bed\""
   ]
  },
  {
   "cell_type": "markdown",
   "metadata": {},
   "source": [
    "## I Compute the p-values"
   ]
  },
  {
   "cell_type": "code",
   "execution_count": 23,
   "metadata": {},
   "outputs": [
    {
     "data": {
      "text/html": [
       "<div>\n",
       "<style scoped>\n",
       "    .dataframe tbody tr th:only-of-type {\n",
       "        vertical-align: middle;\n",
       "    }\n",
       "\n",
       "    .dataframe tbody tr th {\n",
       "        vertical-align: top;\n",
       "    }\n",
       "\n",
       "    .dataframe thead th {\n",
       "        text-align: right;\n",
       "    }\n",
       "</style>\n",
       "<table border=\"1\" class=\"dataframe\">\n",
       "  <thead>\n",
       "    <tr style=\"text-align: right;\">\n",
       "      <th></th>\n",
       "      <th>go_term</th>\n",
       "      <th>binom_p_value</th>\n",
       "      <th>hypergeom_p_value</th>\n",
       "      <th>binom_bonferroni</th>\n",
       "      <th>hypergeom_bonferroni</th>\n",
       "      <th>binom_fdr</th>\n",
       "      <th>hypergeom_fdr</th>\n",
       "    </tr>\n",
       "  </thead>\n",
       "  <tbody>\n",
       "    <tr>\n",
       "      <th>GO:0015727</th>\n",
       "      <td>lactate transport</td>\n",
       "      <td>7.60590e-06</td>\n",
       "      <td>1.00000e-308</td>\n",
       "      <td>2.28025e-02</td>\n",
       "      <td>2.99800e-305</td>\n",
       "      <td>2.28025e-02</td>\n",
       "      <td>2.11127e-307</td>\n",
       "    </tr>\n",
       "    <tr>\n",
       "      <th>GO:0030574</th>\n",
       "      <td>collagen catabolic process</td>\n",
       "      <td>6.55513e-05</td>\n",
       "      <td>4.40000e-307</td>\n",
       "      <td>1.96523e-01</td>\n",
       "      <td>1.31912e-303</td>\n",
       "      <td>9.71341e-02</td>\n",
       "      <td>6.21933e-307</td>\n",
       "    </tr>\n",
       "    <tr>\n",
       "      <th>GO:0009925</th>\n",
       "      <td>basal plasma membrane</td>\n",
       "      <td>9.71989e-05</td>\n",
       "      <td>2.90000e-307</td>\n",
       "      <td>2.91402e-01</td>\n",
       "      <td>8.69420e-304</td>\n",
       "      <td>9.71341e-02</td>\n",
       "      <td>4.83011e-307</td>\n",
       "    </tr>\n",
       "    <tr>\n",
       "      <th>GO:0001664</th>\n",
       "      <td>G protein-coupled receptor binding</td>\n",
       "      <td>1.34590e-04</td>\n",
       "      <td>7.50000e-307</td>\n",
       "      <td>4.03501e-01</td>\n",
       "      <td>2.24850e-303</td>\n",
       "      <td>1.00875e-01</td>\n",
       "      <td>9.20008e-307</td>\n",
       "    </tr>\n",
       "    <tr>\n",
       "      <th>GO:0051403</th>\n",
       "      <td>stress-activated MAPK cascade</td>\n",
       "      <td>1.88598e-04</td>\n",
       "      <td>2.50000e-307</td>\n",
       "      <td>5.65416e-01</td>\n",
       "      <td>7.49500e-304</td>\n",
       "      <td>1.13083e-01</td>\n",
       "      <td>4.44017e-307</td>\n",
       "    </tr>\n",
       "    <tr>\n",
       "      <th>...</th>\n",
       "      <td>...</td>\n",
       "      <td>...</td>\n",
       "      <td>...</td>\n",
       "      <td>...</td>\n",
       "      <td>...</td>\n",
       "      <td>...</td>\n",
       "      <td>...</td>\n",
       "    </tr>\n",
       "    <tr>\n",
       "      <th>GO:0060271</th>\n",
       "      <td>cilium assembly</td>\n",
       "      <td>9.69389e-01</td>\n",
       "      <td>2.44000e-306</td>\n",
       "      <td>1</td>\n",
       "      <td>7.31512e-303</td>\n",
       "      <td>9.70684e-01</td>\n",
       "      <td>2.57032e-306</td>\n",
       "    </tr>\n",
       "    <tr>\n",
       "      <th>GO:0018105</th>\n",
       "      <td>peptidyl-serine phosphorylation</td>\n",
       "      <td>9.71387e-01</td>\n",
       "      <td>2.03000e-306</td>\n",
       "      <td>1</td>\n",
       "      <td>6.08594e-303</td>\n",
       "      <td>9.72360e-01</td>\n",
       "      <td>2.17122e-306</td>\n",
       "    </tr>\n",
       "    <tr>\n",
       "      <th>GO:0005768</th>\n",
       "      <td>endosome</td>\n",
       "      <td>9.79136e-01</td>\n",
       "      <td>3.16000e-306</td>\n",
       "      <td>1</td>\n",
       "      <td>9.47368e-303</td>\n",
       "      <td>9.79790e-01</td>\n",
       "      <td>3.28947e-306</td>\n",
       "    </tr>\n",
       "    <tr>\n",
       "      <th>GO:0007420</th>\n",
       "      <td>brain development</td>\n",
       "      <td>9.87730e-01</td>\n",
       "      <td>2.12000e-306</td>\n",
       "      <td>1</td>\n",
       "      <td>6.35576e-303</td>\n",
       "      <td>9.88060e-01</td>\n",
       "      <td>2.25782e-306</td>\n",
       "    </tr>\n",
       "    <tr>\n",
       "      <th>GO:0007156</th>\n",
       "      <td>homophilic cell adhesion via plasma membrane a...</td>\n",
       "      <td>9.98702e-01</td>\n",
       "      <td>1.80000e-306</td>\n",
       "      <td>1</td>\n",
       "      <td>5.39640e-303</td>\n",
       "      <td>9.98702e-01</td>\n",
       "      <td>1.94395e-306</td>\n",
       "    </tr>\n",
       "  </tbody>\n",
       "</table>\n",
       "<p>2998 rows × 7 columns</p>\n",
       "</div>"
      ],
      "text/plain": [
       "                                                      go_term binom_p_value  \\\n",
       "GO:0015727                                  lactate transport   7.60590e-06   \n",
       "GO:0030574                         collagen catabolic process   6.55513e-05   \n",
       "GO:0009925                              basal plasma membrane   9.71989e-05   \n",
       "GO:0001664                 G protein-coupled receptor binding   1.34590e-04   \n",
       "GO:0051403                      stress-activated MAPK cascade   1.88598e-04   \n",
       "...                                                       ...           ...   \n",
       "GO:0060271                                    cilium assembly   9.69389e-01   \n",
       "GO:0018105                    peptidyl-serine phosphorylation   9.71387e-01   \n",
       "GO:0005768                                           endosome   9.79136e-01   \n",
       "GO:0007420                                  brain development   9.87730e-01   \n",
       "GO:0007156  homophilic cell adhesion via plasma membrane a...   9.98702e-01   \n",
       "\n",
       "           hypergeom_p_value binom_bonferroni hypergeom_bonferroni  \\\n",
       "GO:0015727      1.00000e-308      2.28025e-02         2.99800e-305   \n",
       "GO:0030574      4.40000e-307      1.96523e-01         1.31912e-303   \n",
       "GO:0009925      2.90000e-307      2.91402e-01         8.69420e-304   \n",
       "GO:0001664      7.50000e-307      4.03501e-01         2.24850e-303   \n",
       "GO:0051403      2.50000e-307      5.65416e-01         7.49500e-304   \n",
       "...                      ...              ...                  ...   \n",
       "GO:0060271      2.44000e-306                1         7.31512e-303   \n",
       "GO:0018105      2.03000e-306                1         6.08594e-303   \n",
       "GO:0005768      3.16000e-306                1         9.47368e-303   \n",
       "GO:0007420      2.12000e-306                1         6.35576e-303   \n",
       "GO:0007156      1.80000e-306                1         5.39640e-303   \n",
       "\n",
       "              binom_fdr hypergeom_fdr  \n",
       "GO:0015727  2.28025e-02  2.11127e-307  \n",
       "GO:0030574  9.71341e-02  6.21933e-307  \n",
       "GO:0009925  9.71341e-02  4.83011e-307  \n",
       "GO:0001664  1.00875e-01  9.20008e-307  \n",
       "GO:0051403  1.13083e-01  4.44017e-307  \n",
       "...                 ...           ...  \n",
       "GO:0060271  9.70684e-01  2.57032e-306  \n",
       "GO:0018105  9.72360e-01  2.17122e-306  \n",
       "GO:0005768  9.79790e-01  3.28947e-306  \n",
       "GO:0007420  9.88060e-01  2.25782e-306  \n",
       "GO:0007156  9.98702e-01  1.94395e-306  \n",
       "\n",
       "[2998 rows x 7 columns]"
      ]
     },
     "execution_count": 23,
     "metadata": {},
     "output_type": "execute_result"
    }
   ],
   "source": [
    "enrichment_tot = great.tl.GREAT.enrichment(\n",
    "    test_file=test,\n",
    "    regdom_file=regdom,\n",
    "    chr_size_file=size,\n",
    "    annotation_file=\"../../data/human/ontologies.csv\",\n",
    "    binom=True,\n",
    "    hypergeom=True,\n",
    "    )\n",
    "great.tl.GREAT.set_bonferroni(enrichment_tot,0.05)\n",
    "great.tl.GREAT.set_fdr(enrichment_tot,0.05)"
   ]
  },
  {
   "cell_type": "markdown",
   "metadata": {},
   "source": [
    "## II Compare to GREAT webserver  "
   ]
  },
  {
   "cell_type": "markdown",
   "metadata": {},
   "source": [
    "### II.1 Import the data"
   ]
  },
  {
   "cell_type": "code",
   "execution_count": 24,
   "metadata": {},
   "outputs": [],
   "source": [
    "great_webserver = pd.read_csv(great_out,sep=\"\\t\",comment=\"#\",\n",
    "                    names=[\"ontologie\",\"term_name\",\"ID\",\"binom_p_value\",\"binom_bonferroni\",\"binom_fdr\",\"hyper_p_value\",\"hyper_bonferroni\",\"hyper_fdr\"],index_col=False,\n",
    "                    dtype={\"term_name\":\"object\", \"ID\":\"object\",\"binom_p_value\":\"float64\", \"binom_bonferroni\":\"float64\", \"binom_fdr\":\"float64\", \"hyper_p_value\":\"float64\", \"hyper_bonferroni\":\"float64\", \"hyper_fdr\":\"float64\"})\n",
    "great_webserver.rename(columns={\"ID\":\"id\"},inplace=True)\n",
    "del great_webserver[\"ontologie\"]\n",
    "del great_webserver[\"term_name\"]"
   ]
  },
  {
   "cell_type": "code",
   "execution_count": 25,
   "metadata": {},
   "outputs": [
    {
     "data": {
      "text/html": [
       "<div>\n",
       "<style scoped>\n",
       "    .dataframe tbody tr th:only-of-type {\n",
       "        vertical-align: middle;\n",
       "    }\n",
       "\n",
       "    .dataframe tbody tr th {\n",
       "        vertical-align: top;\n",
       "    }\n",
       "\n",
       "    .dataframe thead th {\n",
       "        text-align: right;\n",
       "    }\n",
       "</style>\n",
       "<table border=\"1\" class=\"dataframe\">\n",
       "  <thead>\n",
       "    <tr style=\"text-align: right;\">\n",
       "      <th></th>\n",
       "      <th>id</th>\n",
       "      <th>binom_p_value</th>\n",
       "      <th>binom_bonferroni</th>\n",
       "      <th>binom_fdr</th>\n",
       "      <th>hyper_p_value</th>\n",
       "      <th>hyper_bonferroni</th>\n",
       "      <th>hyper_fdr</th>\n",
       "    </tr>\n",
       "  </thead>\n",
       "  <tbody>\n",
       "    <tr>\n",
       "      <th>0</th>\n",
       "      <td>GO:0016055</td>\n",
       "      <td>1.00673e-04</td>\n",
       "      <td>1.00000e+00</td>\n",
       "      <td>4.41584e-01</td>\n",
       "      <td>4.73339e-05</td>\n",
       "      <td>6.22867e-01</td>\n",
       "      <td>2.96603e-02</td>\n",
       "    </tr>\n",
       "    <tr>\n",
       "      <th>1</th>\n",
       "      <td>GO:0071464</td>\n",
       "      <td>1.29812e-04</td>\n",
       "      <td>1.00000e+00</td>\n",
       "      <td>4.27048e-01</td>\n",
       "      <td>5.18373e-04</td>\n",
       "      <td>1.00000e+00</td>\n",
       "      <td>1.15615e-01</td>\n",
       "    </tr>\n",
       "    <tr>\n",
       "      <th>2</th>\n",
       "      <td>GO:1905114</td>\n",
       "      <td>1.31545e-04</td>\n",
       "      <td>1.00000e+00</td>\n",
       "      <td>3.46200e-01</td>\n",
       "      <td>4.66024e-06</td>\n",
       "      <td>6.13241e-02</td>\n",
       "      <td>6.81379e-03</td>\n",
       "    </tr>\n",
       "    <tr>\n",
       "      <th>3</th>\n",
       "      <td>GO:1902202</td>\n",
       "      <td>4.61552e-04</td>\n",
       "      <td>1.00000e+00</td>\n",
       "      <td>6.74840e-01</td>\n",
       "      <td>3.01694e-03</td>\n",
       "      <td>1.00000e+00</td>\n",
       "      <td>2.43558e-01</td>\n",
       "    </tr>\n",
       "    <tr>\n",
       "      <th>4</th>\n",
       "      <td>GO:0071888</td>\n",
       "      <td>5.02180e-04</td>\n",
       "      <td>1.00000e+00</td>\n",
       "      <td>6.60819e-01</td>\n",
       "      <td>4.50693e-02</td>\n",
       "      <td>1.00000e+00</td>\n",
       "      <td>8.10201e-01</td>\n",
       "    </tr>\n",
       "    <tr>\n",
       "      <th>...</th>\n",
       "      <td>...</td>\n",
       "      <td>...</td>\n",
       "      <td>...</td>\n",
       "      <td>...</td>\n",
       "      <td>...</td>\n",
       "      <td>...</td>\n",
       "      <td>...</td>\n",
       "    </tr>\n",
       "    <tr>\n",
       "      <th>2390</th>\n",
       "      <td>GO:0031418</td>\n",
       "      <td>3.76706e-01</td>\n",
       "      <td>1.00000e+00</td>\n",
       "      <td>1.00000e+00</td>\n",
       "      <td>3.69593e-01</td>\n",
       "      <td>1.00000e+00</td>\n",
       "      <td>1.00000e+00</td>\n",
       "    </tr>\n",
       "    <tr>\n",
       "      <th>2391</th>\n",
       "      <td>GO:0031005</td>\n",
       "      <td>3.81553e-01</td>\n",
       "      <td>1.00000e+00</td>\n",
       "      <td>1.00000e+00</td>\n",
       "      <td>2.59068e-01</td>\n",
       "      <td>1.00000e+00</td>\n",
       "      <td>1.00000e+00</td>\n",
       "    </tr>\n",
       "    <tr>\n",
       "      <th>2392</th>\n",
       "      <td>GO:0005248</td>\n",
       "      <td>3.91741e-01</td>\n",
       "      <td>1.00000e+00</td>\n",
       "      <td>1.00000e+00</td>\n",
       "      <td>4.11772e-01</td>\n",
       "      <td>1.00000e+00</td>\n",
       "      <td>1.00000e+00</td>\n",
       "    </tr>\n",
       "    <tr>\n",
       "      <th>2393</th>\n",
       "      <td>GO:0042162</td>\n",
       "      <td>3.91754e-01</td>\n",
       "      <td>1.00000e+00</td>\n",
       "      <td>1.00000e+00</td>\n",
       "      <td>5.43724e-01</td>\n",
       "      <td>1.00000e+00</td>\n",
       "      <td>1.00000e+00</td>\n",
       "    </tr>\n",
       "    <tr>\n",
       "      <th>2394</th>\n",
       "      <td>GO:0003680</td>\n",
       "      <td>3.92465e-01</td>\n",
       "      <td>1.00000e+00</td>\n",
       "      <td>1.00000e+00</td>\n",
       "      <td>1.87438e-01</td>\n",
       "      <td>1.00000e+00</td>\n",
       "      <td>1.00000e+00</td>\n",
       "    </tr>\n",
       "  </tbody>\n",
       "</table>\n",
       "<p>2395 rows × 7 columns</p>\n",
       "</div>"
      ],
      "text/plain": [
       "              id  binom_p_value  binom_bonferroni    binom_fdr  hyper_p_value  \\\n",
       "0     GO:0016055    1.00673e-04       1.00000e+00  4.41584e-01    4.73339e-05   \n",
       "1     GO:0071464    1.29812e-04       1.00000e+00  4.27048e-01    5.18373e-04   \n",
       "2     GO:1905114    1.31545e-04       1.00000e+00  3.46200e-01    4.66024e-06   \n",
       "3     GO:1902202    4.61552e-04       1.00000e+00  6.74840e-01    3.01694e-03   \n",
       "4     GO:0071888    5.02180e-04       1.00000e+00  6.60819e-01    4.50693e-02   \n",
       "...          ...            ...               ...          ...            ...   \n",
       "2390  GO:0031418    3.76706e-01       1.00000e+00  1.00000e+00    3.69593e-01   \n",
       "2391  GO:0031005    3.81553e-01       1.00000e+00  1.00000e+00    2.59068e-01   \n",
       "2392  GO:0005248    3.91741e-01       1.00000e+00  1.00000e+00    4.11772e-01   \n",
       "2393  GO:0042162    3.91754e-01       1.00000e+00  1.00000e+00    5.43724e-01   \n",
       "2394  GO:0003680    3.92465e-01       1.00000e+00  1.00000e+00    1.87438e-01   \n",
       "\n",
       "      hyper_bonferroni    hyper_fdr  \n",
       "0          6.22867e-01  2.96603e-02  \n",
       "1          1.00000e+00  1.15615e-01  \n",
       "2          6.13241e-02  6.81379e-03  \n",
       "3          1.00000e+00  2.43558e-01  \n",
       "4          1.00000e+00  8.10201e-01  \n",
       "...                ...          ...  \n",
       "2390       1.00000e+00  1.00000e+00  \n",
       "2391       1.00000e+00  1.00000e+00  \n",
       "2392       1.00000e+00  1.00000e+00  \n",
       "2393       1.00000e+00  1.00000e+00  \n",
       "2394       1.00000e+00  1.00000e+00  \n",
       "\n",
       "[2395 rows x 7 columns]"
      ]
     },
     "execution_count": 25,
     "metadata": {},
     "output_type": "execute_result"
    }
   ],
   "source": [
    "great_webserver"
   ]
  },
  {
   "cell_type": "markdown",
   "metadata": {},
   "source": [
    "### II.2 Compare the results between greatpy and great "
   ]
  },
  {
   "cell_type": "markdown",
   "metadata": {},
   "source": [
    "#### II.2.1 Preprocessing"
   ]
  },
  {
   "cell_type": "code",
   "execution_count": 19,
   "metadata": {},
   "outputs": [
    {
     "data": {
      "text/html": [
       "<div>\n",
       "<style scoped>\n",
       "    .dataframe tbody tr th:only-of-type {\n",
       "        vertical-align: middle;\n",
       "    }\n",
       "\n",
       "    .dataframe tbody tr th {\n",
       "        vertical-align: top;\n",
       "    }\n",
       "\n",
       "    .dataframe thead th {\n",
       "        text-align: right;\n",
       "    }\n",
       "</style>\n",
       "<table border=\"1\" class=\"dataframe\">\n",
       "  <thead>\n",
       "    <tr style=\"text-align: right;\">\n",
       "      <th></th>\n",
       "      <th>id</th>\n",
       "      <th>binom_p_value</th>\n",
       "      <th>binom_bonferroni</th>\n",
       "      <th>binom_fdr</th>\n",
       "      <th>hyper_p_value</th>\n",
       "      <th>hyper_bonferroni</th>\n",
       "      <th>hyper_fdr</th>\n",
       "    </tr>\n",
       "  </thead>\n",
       "  <tbody>\n",
       "  </tbody>\n",
       "</table>\n",
       "</div>"
      ],
      "text/plain": [
       "Empty DataFrame\n",
       "Columns: [id, binom_p_value, binom_bonferroni, binom_fdr, hyper_p_value, hyper_bonferroni, hyper_fdr]\n",
       "Index: []"
      ]
     },
     "execution_count": 19,
     "metadata": {},
     "output_type": "execute_result"
    }
   ],
   "source": [
    "great_webserver[great_webserver[\"id\"].isin(list(enrichment_tot.index))==False]"
   ]
  },
  {
   "cell_type": "code",
   "execution_count": 8,
   "metadata": {},
   "outputs": [],
   "source": [
    "before_pp = enrichment_tot.shape[0]\n",
    "enrichment_tot = enrichment_tot[enrichment_tot.index.isin(list(great_webserver[\"id\"]))]\n",
    "after_pp = enrichment_tot.shape[0]"
   ]
  },
  {
   "cell_type": "code",
   "execution_count": 9,
   "metadata": {},
   "outputs": [],
   "source": [
    "great_webserver = great_webserver[great_webserver[\"id\"].isin(list(enrichment_tot.index))]\n",
    "great_webserver = great_webserver.sort_values(\"id\")"
   ]
  },
  {
   "cell_type": "code",
   "execution_count": 10,
   "metadata": {},
   "outputs": [
    {
     "data": {
      "text/plain": [
       "(      binom_greatpy  binom_great\n",
       " 0       6.55513e-05  1.25691e-03\n",
       " 1       9.71989e-05  3.40662e-05\n",
       " 2       1.34590e-04  1.88231e-04\n",
       " 3       1.88598e-04  3.79792e-03\n",
       " 4       2.83699e-04  1.19788e-03\n",
       " ...             ...          ...\n",
       " 1476    6.56073e-01  3.01600e-01\n",
       " 1477    6.60306e-01  5.81425e-02\n",
       " 1478    6.64718e-01  2.75058e-02\n",
       " 1479    6.66521e-01  4.53607e-02\n",
       " 1480    7.22644e-01  3.20479e-01\n",
       " \n",
       " [1481 rows x 2 columns],\n",
       "       hyper_greatpy  hyper_great\n",
       " 0      4.40000e-307  3.59850e-03\n",
       " 1      2.90000e-307  5.05428e-05\n",
       " 2      7.50000e-307  3.01450e-04\n",
       " 3      2.50000e-307  8.11676e-02\n",
       " 4      2.52000e-306  6.97135e-03\n",
       " ...             ...          ...\n",
       " 1476   3.30000e-307  2.59068e-01\n",
       " 1477   4.40000e-307  3.76094e-02\n",
       " 1478   3.70000e-307  1.88778e-02\n",
       " 1479   3.20000e-307  1.79668e-03\n",
       " 1480   3.80000e-307  6.86814e-02\n",
       " \n",
       " [1481 rows x 2 columns])"
      ]
     },
     "execution_count": 10,
     "metadata": {},
     "output_type": "execute_result"
    }
   ],
   "source": [
    "binom_greatpy = []\n",
    "hyper_greatpy = []\n",
    "binom_great = []\n",
    "hyper_great = []\n",
    "for i in range(enrichment_tot.shape[0]) : \n",
    "    go_id = list(enrichment_tot.index)[i]\n",
    "    curr_enrichment = enrichment_tot.iloc[i]\n",
    "    curr_great_webserver = great_webserver.loc[great_webserver[\"id\"]==go_id]\n",
    "    binom_greatpy.append(float(curr_enrichment[\"binom_p_value\"]))\n",
    "    hyper_greatpy.append(float(curr_enrichment[\"hypergeom_p_value\"]))\n",
    "    binom_great.append(float(curr_great_webserver[\"binom_p_value\"]))\n",
    "    hyper_great.append(float(curr_great_webserver[\"hyper_p_value\"]))\n",
    "binom = pd.DataFrame({\"binom_greatpy\":binom_greatpy,\"binom_great\":binom_great})\n",
    "hyper = pd.DataFrame({\"hyper_greatpy\":hyper_greatpy,\"hyper_great\":hyper_great})\n",
    "binom,hyper"
   ]
  },
  {
   "cell_type": "markdown",
   "metadata": {},
   "source": [
    "#### II.2.b Graphical"
   ]
  },
  {
   "cell_type": "code",
   "execution_count": 11,
   "metadata": {},
   "outputs": [
    {
     "data": {
      "image/png": "[encoded data removed]",
      "text/plain": [
       "<Figure size 432x288 with 1 Axes>"
      ]
     },
     "metadata": {
      "needs_background": "light"
     },
     "output_type": "display_data"
    }
   ],
   "source": [
    "pl=great.pl.scatterplot(binom,colname_x=\"binom_greatpy\",colname_y=\"binom_great\")"
   ]
  },
  {
   "cell_type": "code",
   "execution_count": 12,
   "metadata": {},
   "outputs": [
    {
     "data": {
      "image/png": "[encoded data removed]",
      "text/plain": [
       "<Figure size 432x288 with 1 Axes>"
      ]
     },
     "metadata": {
      "needs_background": "light"
     },
     "output_type": "display_data"
    }
   ],
   "source": [
    "great.pl.scatterplot(hyper,colname_x=\"hyper_greatpy\",colname_y=\"hyper_great\")"
   ]
  },
  {
   "cell_type": "markdown",
   "metadata": {},
   "source": [
    "#### II.2.c Statistics"
   ]
  },
  {
   "cell_type": "code",
   "execution_count": 13,
   "metadata": {},
   "outputs": [],
   "source": [
    "def stat(binom_great_list_list, hyper_great_listpy_list,binom_great_list,hyper_great_list) : \n",
    "    if len(binom_great_list_list) >= 2 and len(hyper_great_listpy_list) >= 2 and len(binom_great_list) >= 2  and len(hyper_great_list) >= 2 : \n",
    "        return pd.DataFrame({\n",
    "            \"binom\": [cov(m = binom_great_list_list, y = binom_great_list)[0][1],pearsonr(binom_great_list_list,binom_great_list)[0]],\n",
    "            \"hyper\":[cov(m = hyper_great_listpy_list, y = hyper_great_list)[0][1],pearsonr(hyper_great_listpy_list,hyper_great_list)[0]]},\n",
    "            index=[\"correlation_coefficient\",\"pearson\"])\n",
    "    return False"
   ]
  },
  {
   "cell_type": "markdown",
   "metadata": {},
   "source": [
    "Issue is : NaN in hyper_fdr"
   ]
  },
  {
   "cell_type": "code",
   "execution_count": 18,
   "metadata": {},
   "outputs": [
    {
     "data": {
      "text/html": [
       "<div>\n",
       "<style scoped>\n",
       "    .dataframe tbody tr th:only-of-type {\n",
       "        vertical-align: middle;\n",
       "    }\n",
       "\n",
       "    .dataframe tbody tr th {\n",
       "        vertical-align: top;\n",
       "    }\n",
       "\n",
       "    .dataframe thead th {\n",
       "        text-align: right;\n",
       "    }\n",
       "</style>\n",
       "<table border=\"1\" class=\"dataframe\">\n",
       "  <thead>\n",
       "    <tr style=\"text-align: right;\">\n",
       "      <th></th>\n",
       "      <th>binom</th>\n",
       "      <th>hyper</th>\n",
       "    </tr>\n",
       "  </thead>\n",
       "  <tbody>\n",
       "    <tr>\n",
       "      <th>correlation_coefficient</th>\n",
       "      <td>7.56919e-03</td>\n",
       "      <td>6.63734e-309</td>\n",
       "    </tr>\n",
       "    <tr>\n",
       "      <th>pearson</th>\n",
       "      <td>6.01492e-01</td>\n",
       "      <td>1.45798e-01</td>\n",
       "    </tr>\n",
       "  </tbody>\n",
       "</table>\n",
       "</div>"
      ],
      "text/plain": [
       "                               binom        hyper\n",
       "correlation_coefficient  7.56919e-03 6.63734e-309\n",
       "pearson                  6.01492e-01  1.45798e-01"
      ]
     },
     "execution_count": 18,
     "metadata": {},
     "output_type": "execute_result"
    }
   ],
   "source": [
    "stat(binom_greatpy, hyper_greatpy,binom_great,hyper_great)"
   ]
  },
  {
   "cell_type": "code",
   "execution_count": 15,
   "metadata": {},
   "outputs": [
    {
     "name": "stdout",
     "output_type": "stream",
     "text": [
      "2998\n",
      "1481\n"
     ]
    }
   ],
   "source": [
    "print(before_pp)\n",
    "print(after_pp)"
   ]
  },
  {
   "cell_type": "markdown",
   "metadata": {},
   "source": [
    "We went from 2766 ontology terms in greatpy output to 248 ontology terms by selecting the GO identifiers present in both greatpy and great "
   ]
  },
  {
   "cell_type": "markdown",
   "metadata": {},
   "source": [
    "But when two ontology terms are selected they have the same binomial and hypergeometric probability value "
   ]
  },
  {
   "cell_type": "markdown",
   "metadata": {},
   "source": [
    "# How many associations are good or bad "
   ]
  },
  {
   "cell_type": "code",
   "execution_count": 16,
   "metadata": {},
   "outputs": [
    {
     "name": "stdout",
     "output_type": "stream",
     "text": [
      "Number of gene association present in greatpy and great : 426\n",
      "Number of gene association prensent in great and not in greatpy 2\n",
      "Number of gene association prensent in greatpy and not in great 1\n"
     ]
    }
   ],
   "source": [
    "gene_asso_great = pd.read_csv(great_asso,sep=\"\\t\",comment=\"#\",names=[\"ontologies\",\"gene\"],index_col=False, dtype={\"ontologies\":\"object\",\"gene\":\"object\"},usecols=[\"gene\"])\n",
    "gene_asso_greatpy = great.tl.get_association(\n",
    "    test = pd.read_csv(test,sep=\"\\t\",comment=\"#\",usecols=[0,1,2],names=[\"Chr\", \"Chr_Start\", \"Chr_End\"],dtype={\"Chr\":\"object\", \"Chr_Start\":\"int64\", \"Chr_End\":\"int64\"}),\n",
    "    regdom= pd.read_csv(regdom,sep=\"\\t\",comment=\"#\",names=[\"Chr\", \"Chr_Start\", \"Chr_End\",\"Name\",\"tss\",\"Strand\"],dtype={\"Chr\":\"object\", \"Chr_Start\":\"int64\", \"Chr_End\":\"int64\",\"Name\":\"object\",\"tss\":\"int64\",\"Strand\":\"object\"}))\n",
    "in_in = gene_asso_great[gene_asso_great[\"gene\"].isin(gene_asso_greatpy)].shape[0]\n",
    "in_out = [i for i in list(gene_asso_great[\"gene\"]) if i not in gene_asso_greatpy]\n",
    "out_in = [i for i in gene_asso_greatpy if i not in list(gene_asso_great[\"gene\"])]\n",
    "\n",
    "print(f\"Number of gene association present in greatpy and great : {in_in}\")\n",
    "print(f\"Number of gene association prensent in great and not in greatpy {len(in_out)}\")\n",
    "print(f\"Number of gene association prensent in greatpy and not in great {len(out_in)}\")"
   ]
  },
  {
   "cell_type": "code",
   "execution_count": 26,
   "metadata": {},
   "outputs": [
    {
     "data": {
      "text/plain": [
       "['CPA2']"
      ]
     },
     "execution_count": 26,
     "metadata": {},
     "output_type": "execute_result"
    }
   ],
   "source": [
    "out_in"
   ]
  }
 ],
 "metadata": {
  "kernelspec": {
   "display_name": "Python 3.9.12 ('base')",
   "language": "python",
   "name": "python3"
  },
  "language_info": {
   "codemirror_mode": {
    "name": "ipython",
    "version": 3
   },
   "file_extension": ".py",
   "mimetype": "text/x-python",
   "name": "python",
   "nbconvert_exporter": "python",
   "pygments_lexer": "ipython3",
   "version": "3.9.12"
  },
  "orig_nbformat": 4,
  "vscode": {
   "interpreter": {
    "hash": "dd3aa23b046397ccf7f1ffb7cb82646c26b15f0b12555a0fca8fb427d9fb147f"
   }
  }
 },
 "nbformat": 4,
 "nbformat_minor": 2
}
