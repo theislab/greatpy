{
 "cells": [
  {
   "cell_type": "markdown",
   "metadata": {},
   "source": [
    "# Computation of annotation enrichment in a genetic set "
   ]
  },
  {
   "cell_type": "markdown",
   "metadata": {},
   "source": [
    "This code excerpt shows how to use the annotation enrichment computation function in a genetic set.\n",
    "The funciton return a dataframe of binom and hypergeometric p-value (<= 0.05) and for each p-value a fdr correction with alpha = 0.05.   "
   ]
  },
  {
   "cell_type": "markdown",
   "metadata": {},
   "source": [
    "In the second part of the code we will compare the results obtained with the Great webserver and between the binomial and hypergeometric probability"
   ]
  },
  {
   "cell_type": "code",
   "execution_count": 1,
   "metadata": {},
   "outputs": [],
   "source": [
    "%load_ext autoreload\n",
    "%autoreload 2"
   ]
  },
  {
   "cell_type": "code",
   "execution_count": 2,
   "metadata": {},
   "outputs": [],
   "source": [
    "import greatpy as great\n",
    "import pandas as pd\n",
    "from math import inf\n",
    "from numpy import log,nan, int64,cov,corrcoef\n",
    "from scipy.stats import pearsonr\n",
    "from seaborn import scatterplot as sp\n",
    "\n",
    "import warnings\n",
    "warnings.filterwarnings('ignore')"
   ]
  },
  {
   "cell_type": "code",
   "execution_count": 3,
   "metadata": {},
   "outputs": [],
   "source": [
    "test = \"../../data/test/05_ultra_hg19.bed\"\n",
    "regdom = \"/home/icb/tom.mauger-birocheau/internship/regdom.hg19\"\n",
    "great_out = \"../../data/test/05_ultra_hg19_output_great_webserver.tsv\"\n",
    "great_asso = \"../../data/test/05_ultra_hg19_gene_asso.tsv\"\n",
    "size = \"/storage/groups/ml01/datasets/annotations/hg19/hg19.chrom.sizes\""
   ]
  },
  {
   "cell_type": "markdown",
   "metadata": {},
   "source": [
    "## I Compute the p-values"
   ]
  },
  {
   "cell_type": "code",
   "execution_count": 4,
   "metadata": {},
   "outputs": [
    {
     "data": {
      "text/html": [
       "<div>\n",
       "<style scoped>\n",
       "    .dataframe tbody tr th:only-of-type {\n",
       "        vertical-align: middle;\n",
       "    }\n",
       "\n",
       "    .dataframe tbody tr th {\n",
       "        vertical-align: top;\n",
       "    }\n",
       "\n",
       "    .dataframe thead th {\n",
       "        text-align: right;\n",
       "    }\n",
       "</style>\n",
       "<table border=\"1\" class=\"dataframe\">\n",
       "  <thead>\n",
       "    <tr style=\"text-align: right;\">\n",
       "      <th></th>\n",
       "      <th>go_term</th>\n",
       "      <th>binom_p_value</th>\n",
       "      <th>hypergeom_p_value</th>\n",
       "      <th>binom_bonferroni</th>\n",
       "      <th>hypergeom_bonferroni</th>\n",
       "      <th>binom_fdr</th>\n",
       "      <th>hypergeom_fdr</th>\n",
       "    </tr>\n",
       "  </thead>\n",
       "  <tbody>\n",
       "    <tr>\n",
       "      <th>GO:0000981</th>\n",
       "      <td>DNA-binding transcription factor activity, RNA...</td>\n",
       "      <td>2.03045e-75</td>\n",
       "      <td>4.48000e-306</td>\n",
       "      <td>5.25886e-72</td>\n",
       "      <td>1.16032e-302</td>\n",
       "      <td>5.25886e-72</td>\n",
       "      <td>NaN</td>\n",
       "    </tr>\n",
       "    <tr>\n",
       "      <th>GO:0005634</th>\n",
       "      <td>nucleus</td>\n",
       "      <td>3.51282e-36</td>\n",
       "      <td>3.57000e-306</td>\n",
       "      <td>9.09820e-33</td>\n",
       "      <td>9.24630e-303</td>\n",
       "      <td>4.54910e-33</td>\n",
       "      <td>NaN</td>\n",
       "    </tr>\n",
       "    <tr>\n",
       "      <th>GO:0006357</th>\n",
       "      <td>regulation of transcription by RNA polymerase II</td>\n",
       "      <td>6.21029e-34</td>\n",
       "      <td>4.97000e-306</td>\n",
       "      <td>1.60846e-30</td>\n",
       "      <td>1.28723e-302</td>\n",
       "      <td>5.36155e-31</td>\n",
       "      <td>NaN</td>\n",
       "    </tr>\n",
       "    <tr>\n",
       "      <th>GO:0045892</th>\n",
       "      <td>negative regulation of transcription, DNA-temp...</td>\n",
       "      <td>2.41758e-29</td>\n",
       "      <td>5.23000e-306</td>\n",
       "      <td>6.26152e-26</td>\n",
       "      <td>1.35457e-302</td>\n",
       "      <td>1.56538e-26</td>\n",
       "      <td>NaN</td>\n",
       "    </tr>\n",
       "    <tr>\n",
       "      <th>GO:0000978</th>\n",
       "      <td>RNA polymerase II proximal promoter sequence-s...</td>\n",
       "      <td>3.82659e-28</td>\n",
       "      <td>4.89000e-306</td>\n",
       "      <td>9.91087e-25</td>\n",
       "      <td>1.26651e-302</td>\n",
       "      <td>1.98217e-25</td>\n",
       "      <td>NaN</td>\n",
       "    </tr>\n",
       "    <tr>\n",
       "      <th>...</th>\n",
       "      <td>...</td>\n",
       "      <td>...</td>\n",
       "      <td>...</td>\n",
       "      <td>...</td>\n",
       "      <td>...</td>\n",
       "      <td>...</td>\n",
       "      <td>...</td>\n",
       "    </tr>\n",
       "    <tr>\n",
       "      <th>GO:0004675</th>\n",
       "      <td>transmembrane receptor protein serine/threonin...</td>\n",
       "      <td>1.00000e+00</td>\n",
       "      <td>8.00000e-308</td>\n",
       "      <td>1.00000e+00</td>\n",
       "      <td>2.07200e-304</td>\n",
       "      <td>1.00000e+00</td>\n",
       "      <td>NaN</td>\n",
       "    </tr>\n",
       "    <tr>\n",
       "      <th>GO:0007178</th>\n",
       "      <td>transmembrane receptor protein serine/threonin...</td>\n",
       "      <td>1.00000e+00</td>\n",
       "      <td>1.00000e-307</td>\n",
       "      <td>1.00000e+00</td>\n",
       "      <td>2.59000e-304</td>\n",
       "      <td>1.00000e+00</td>\n",
       "      <td>NaN</td>\n",
       "    </tr>\n",
       "    <tr>\n",
       "      <th>GO:0005026</th>\n",
       "      <td>transforming growth factor beta receptor activ...</td>\n",
       "      <td>1.00000e+00</td>\n",
       "      <td>5.00000e-308</td>\n",
       "      <td>1.00000e+00</td>\n",
       "      <td>1.29500e-304</td>\n",
       "      <td>1.00000e+00</td>\n",
       "      <td>NaN</td>\n",
       "    </tr>\n",
       "    <tr>\n",
       "      <th>GO:1902083</th>\n",
       "      <td>negative regulation of peptidyl-cysteine S-nit...</td>\n",
       "      <td>1.00000e+00</td>\n",
       "      <td>6.00000e-308</td>\n",
       "      <td>1.00000e+00</td>\n",
       "      <td>1.55400e-304</td>\n",
       "      <td>1.00000e+00</td>\n",
       "      <td>NaN</td>\n",
       "    </tr>\n",
       "    <tr>\n",
       "      <th>GO:0005242</th>\n",
       "      <td>inward rectifier potassium channel activity</td>\n",
       "      <td>1.00000e+00</td>\n",
       "      <td>3.70000e-307</td>\n",
       "      <td>1.00000e+00</td>\n",
       "      <td>9.58300e-304</td>\n",
       "      <td>1.00000e+00</td>\n",
       "      <td>NaN</td>\n",
       "    </tr>\n",
       "  </tbody>\n",
       "</table>\n",
       "<p>2590 rows × 7 columns</p>\n",
       "</div>"
      ],
      "text/plain": [
       "                                                      go_term  binom_p_value  \\\n",
       "GO:0000981  DNA-binding transcription factor activity, RNA...    2.03045e-75   \n",
       "GO:0005634                                            nucleus    3.51282e-36   \n",
       "GO:0006357   regulation of transcription by RNA polymerase II    6.21029e-34   \n",
       "GO:0045892  negative regulation of transcription, DNA-temp...    2.41758e-29   \n",
       "GO:0000978  RNA polymerase II proximal promoter sequence-s...    3.82659e-28   \n",
       "...                                                       ...            ...   \n",
       "GO:0004675  transmembrane receptor protein serine/threonin...    1.00000e+00   \n",
       "GO:0007178  transmembrane receptor protein serine/threonin...    1.00000e+00   \n",
       "GO:0005026  transforming growth factor beta receptor activ...    1.00000e+00   \n",
       "GO:1902083  negative regulation of peptidyl-cysteine S-nit...    1.00000e+00   \n",
       "GO:0005242        inward rectifier potassium channel activity    1.00000e+00   \n",
       "\n",
       "            hypergeom_p_value  binom_bonferroni  hypergeom_bonferroni  \\\n",
       "GO:0000981       4.48000e-306       5.25886e-72          1.16032e-302   \n",
       "GO:0005634       3.57000e-306       9.09820e-33          9.24630e-303   \n",
       "GO:0006357       4.97000e-306       1.60846e-30          1.28723e-302   \n",
       "GO:0045892       5.23000e-306       6.26152e-26          1.35457e-302   \n",
       "GO:0000978       4.89000e-306       9.91087e-25          1.26651e-302   \n",
       "...                       ...               ...                   ...   \n",
       "GO:0004675       8.00000e-308       1.00000e+00          2.07200e-304   \n",
       "GO:0007178       1.00000e-307       1.00000e+00          2.59000e-304   \n",
       "GO:0005026       5.00000e-308       1.00000e+00          1.29500e-304   \n",
       "GO:1902083       6.00000e-308       1.00000e+00          1.55400e-304   \n",
       "GO:0005242       3.70000e-307       1.00000e+00          9.58300e-304   \n",
       "\n",
       "              binom_fdr  hypergeom_fdr  \n",
       "GO:0000981  5.25886e-72            NaN  \n",
       "GO:0005634  4.54910e-33            NaN  \n",
       "GO:0006357  5.36155e-31            NaN  \n",
       "GO:0045892  1.56538e-26            NaN  \n",
       "GO:0000978  1.98217e-25            NaN  \n",
       "...                 ...            ...  \n",
       "GO:0004675  1.00000e+00            NaN  \n",
       "GO:0007178  1.00000e+00            NaN  \n",
       "GO:0005026  1.00000e+00            NaN  \n",
       "GO:1902083  1.00000e+00            NaN  \n",
       "GO:0005242  1.00000e+00            NaN  \n",
       "\n",
       "[2590 rows x 7 columns]"
      ]
     },
     "execution_count": 4,
     "metadata": {},
     "output_type": "execute_result"
    }
   ],
   "source": [
    "enrichment_tot = great.tl.GREAT.enrichment(\n",
    "    test_file=test,\n",
    "    regdom_file=regdom,\n",
    "    chr_size_file=size,\n",
    "    annotation_file=\"../../data/human/ontologies.csv\",\n",
    "    binom=True,\n",
    "    hypergeom=True,\n",
    "    )\n",
    "great.tl.GREAT.set_bonferroni(enrichment_tot,0.05)\n",
    "great.tl.GREAT.set_fdr(enrichment_tot,0.05)"
   ]
  },
  {
   "cell_type": "markdown",
   "metadata": {},
   "source": [
    "## II Compare to GREAT webserver  "
   ]
  },
  {
   "cell_type": "markdown",
   "metadata": {},
   "source": [
    "### II.1 Import the data"
   ]
  },
  {
   "cell_type": "code",
   "execution_count": 5,
   "metadata": {},
   "outputs": [],
   "source": [
    "great_webserver = pd.read_csv(great_out,sep=\"\\t\",comment=\"#\",\n",
    "                    names=[\"ontologie\",\"term_name\",\"ID\",\"binom_p_value\",\"binom_bonferroni\",\"binom_fdr\",\"hyper_p_value\",\"hyper_bonferroni\",\"hyper_fdr\"],index_col=False,\n",
    "                    dtype={\"term_name\":\"object\", \"ID\":\"object\",\"binom_p_value\":\"float64\", \"binom_bonferroni\":\"float64\", \"binom_fdr\":\"float64\", \"hyper_p_value\":\"float64\", \"hyper_bonferroni\":\"float64\", \"hyper_fdr\":\"float64\"})\n",
    "great_webserver.rename(columns={\"ID\":\"id\"},inplace=True)\n",
    "del great_webserver[\"ontologie\"]\n",
    "del great_webserver[\"term_name\"]"
   ]
  },
  {
   "cell_type": "code",
   "execution_count": 6,
   "metadata": {},
   "outputs": [
    {
     "data": {
      "text/html": [
       "<div>\n",
       "<style scoped>\n",
       "    .dataframe tbody tr th:only-of-type {\n",
       "        vertical-align: middle;\n",
       "    }\n",
       "\n",
       "    .dataframe tbody tr th {\n",
       "        vertical-align: top;\n",
       "    }\n",
       "\n",
       "    .dataframe thead th {\n",
       "        text-align: right;\n",
       "    }\n",
       "</style>\n",
       "<table border=\"1\" class=\"dataframe\">\n",
       "  <thead>\n",
       "    <tr style=\"text-align: right;\">\n",
       "      <th></th>\n",
       "      <th>id</th>\n",
       "      <th>binom_p_value</th>\n",
       "      <th>binom_bonferroni</th>\n",
       "      <th>binom_fdr</th>\n",
       "      <th>hyper_p_value</th>\n",
       "      <th>hyper_bonferroni</th>\n",
       "      <th>hyper_fdr</th>\n",
       "    </tr>\n",
       "  </thead>\n",
       "  <tbody>\n",
       "    <tr>\n",
       "      <th>0</th>\n",
       "      <td>GO:0016070</td>\n",
       "      <td>1.97513e-83</td>\n",
       "      <td>2.59631e-79</td>\n",
       "      <td>2.59631e-79</td>\n",
       "      <td>1.31027e-41</td>\n",
       "      <td>1.72236e-37</td>\n",
       "      <td>5.74118e-38</td>\n",
       "    </tr>\n",
       "    <tr>\n",
       "      <th>1</th>\n",
       "      <td>GO:0090304</td>\n",
       "      <td>3.50940e-82</td>\n",
       "      <td>4.61311e-78</td>\n",
       "      <td>2.30656e-78</td>\n",
       "      <td>3.00529e-37</td>\n",
       "      <td>3.95045e-33</td>\n",
       "      <td>4.38939e-34</td>\n",
       "    </tr>\n",
       "    <tr>\n",
       "      <th>2</th>\n",
       "      <td>GO:0006351</td>\n",
       "      <td>9.63683e-79</td>\n",
       "      <td>1.26676e-74</td>\n",
       "      <td>4.22254e-75</td>\n",
       "      <td>4.24888e-42</td>\n",
       "      <td>5.58515e-38</td>\n",
       "      <td>5.58515e-38</td>\n",
       "    </tr>\n",
       "    <tr>\n",
       "      <th>3</th>\n",
       "      <td>GO:0097659</td>\n",
       "      <td>1.00750e-78</td>\n",
       "      <td>1.32437e-74</td>\n",
       "      <td>3.31091e-75</td>\n",
       "      <td>4.49280e-42</td>\n",
       "      <td>5.90578e-38</td>\n",
       "      <td>2.95289e-38</td>\n",
       "    </tr>\n",
       "    <tr>\n",
       "      <th>4</th>\n",
       "      <td>GO:0051252</td>\n",
       "      <td>5.34892e-78</td>\n",
       "      <td>7.03116e-74</td>\n",
       "      <td>1.40623e-74</td>\n",
       "      <td>1.89710e-40</td>\n",
       "      <td>2.49373e-36</td>\n",
       "      <td>6.23433e-37</td>\n",
       "    </tr>\n",
       "    <tr>\n",
       "      <th>...</th>\n",
       "      <td>...</td>\n",
       "      <td>...</td>\n",
       "      <td>...</td>\n",
       "      <td>...</td>\n",
       "      <td>...</td>\n",
       "      <td>...</td>\n",
       "      <td>...</td>\n",
       "    </tr>\n",
       "    <tr>\n",
       "      <th>619</th>\n",
       "      <td>GO:0008143</td>\n",
       "      <td>3.61142e-02</td>\n",
       "      <td>1.00000e+00</td>\n",
       "      <td>7.50571e-01</td>\n",
       "      <td>6.21354e-03</td>\n",
       "      <td>1.00000e+00</td>\n",
       "      <td>3.91267e-01</td>\n",
       "    </tr>\n",
       "    <tr>\n",
       "      <th>620</th>\n",
       "      <td>GO:0008483</td>\n",
       "      <td>3.93489e-02</td>\n",
       "      <td>1.00000e+00</td>\n",
       "      <td>8.05889e-01</td>\n",
       "      <td>1.61956e-02</td>\n",
       "      <td>1.00000e+00</td>\n",
       "      <td>9.23366e-01</td>\n",
       "    </tr>\n",
       "    <tr>\n",
       "      <th>621</th>\n",
       "      <td>GO:0016783</td>\n",
       "      <td>4.12816e-02</td>\n",
       "      <td>1.00000e+00</td>\n",
       "      <td>8.41387e-01</td>\n",
       "      <td>3.14900e-02</td>\n",
       "      <td>1.00000e+00</td>\n",
       "      <td>1.00000e+00</td>\n",
       "    </tr>\n",
       "    <tr>\n",
       "      <th>622</th>\n",
       "      <td>GO:0016769</td>\n",
       "      <td>4.26168e-02</td>\n",
       "      <td>1.00000e+00</td>\n",
       "      <td>8.56192e-01</td>\n",
       "      <td>2.07616e-02</td>\n",
       "      <td>1.00000e+00</td>\n",
       "      <td>1.00000e+00</td>\n",
       "    </tr>\n",
       "    <tr>\n",
       "      <th>623</th>\n",
       "      <td>GO:0033592</td>\n",
       "      <td>4.27741e-02</td>\n",
       "      <td>1.00000e+00</td>\n",
       "      <td>8.55279e-01</td>\n",
       "      <td>6.34495e-03</td>\n",
       "      <td>1.00000e+00</td>\n",
       "      <td>3.93667e-01</td>\n",
       "    </tr>\n",
       "  </tbody>\n",
       "</table>\n",
       "<p>624 rows × 7 columns</p>\n",
       "</div>"
      ],
      "text/plain": [
       "             id  binom_p_value  binom_bonferroni    binom_fdr  hyper_p_value  \\\n",
       "0    GO:0016070    1.97513e-83       2.59631e-79  2.59631e-79    1.31027e-41   \n",
       "1    GO:0090304    3.50940e-82       4.61311e-78  2.30656e-78    3.00529e-37   \n",
       "2    GO:0006351    9.63683e-79       1.26676e-74  4.22254e-75    4.24888e-42   \n",
       "3    GO:0097659    1.00750e-78       1.32437e-74  3.31091e-75    4.49280e-42   \n",
       "4    GO:0051252    5.34892e-78       7.03116e-74  1.40623e-74    1.89710e-40   \n",
       "..          ...            ...               ...          ...            ...   \n",
       "619  GO:0008143    3.61142e-02       1.00000e+00  7.50571e-01    6.21354e-03   \n",
       "620  GO:0008483    3.93489e-02       1.00000e+00  8.05889e-01    1.61956e-02   \n",
       "621  GO:0016783    4.12816e-02       1.00000e+00  8.41387e-01    3.14900e-02   \n",
       "622  GO:0016769    4.26168e-02       1.00000e+00  8.56192e-01    2.07616e-02   \n",
       "623  GO:0033592    4.27741e-02       1.00000e+00  8.55279e-01    6.34495e-03   \n",
       "\n",
       "     hyper_bonferroni    hyper_fdr  \n",
       "0         1.72236e-37  5.74118e-38  \n",
       "1         3.95045e-33  4.38939e-34  \n",
       "2         5.58515e-38  5.58515e-38  \n",
       "3         5.90578e-38  2.95289e-38  \n",
       "4         2.49373e-36  6.23433e-37  \n",
       "..                ...          ...  \n",
       "619       1.00000e+00  3.91267e-01  \n",
       "620       1.00000e+00  9.23366e-01  \n",
       "621       1.00000e+00  1.00000e+00  \n",
       "622       1.00000e+00  1.00000e+00  \n",
       "623       1.00000e+00  3.93667e-01  \n",
       "\n",
       "[624 rows x 7 columns]"
      ]
     },
     "execution_count": 6,
     "metadata": {},
     "output_type": "execute_result"
    }
   ],
   "source": [
    "great_webserver"
   ]
  },
  {
   "cell_type": "markdown",
   "metadata": {},
   "source": [
    "### II.2 Compare the results between greatpy and great "
   ]
  },
  {
   "cell_type": "markdown",
   "metadata": {},
   "source": [
    "#### II.2.1 Preprocessing"
   ]
  },
  {
   "cell_type": "code",
   "execution_count": 7,
   "metadata": {},
   "outputs": [],
   "source": [
    "before_pp = enrichment_tot.shape[0]\n",
    "enrichment_tot = enrichment_tot[enrichment_tot.index.isin(list(great_webserver[\"id\"]))]\n",
    "after_pp = enrichment_tot.shape[0]"
   ]
  },
  {
   "cell_type": "code",
   "execution_count": 8,
   "metadata": {},
   "outputs": [],
   "source": [
    "great_webserver = great_webserver[great_webserver[\"id\"].isin(list(enrichment_tot.index))]\n",
    "great_webserver = great_webserver.sort_values(\"id\")"
   ]
  },
  {
   "cell_type": "code",
   "execution_count": 9,
   "metadata": {},
   "outputs": [],
   "source": [
    "binom_greatpy = hyper_greatpy = binom_great = hyper_great = []\n",
    "for i in range(enrichment_tot.shape[0]) : \n",
    "    go_id = list(enrichment_tot.index)[i]\n",
    "    curr_enrichment = enrichment_tot.iloc[i]\n",
    "    curr_great_webserver = great_webserver.loc[great_webserver[\"id\"]==go_id]\n",
    "    binom_greatpy.append(float(curr_enrichment[\"binom_p_value\"]))\n",
    "    hyper_greatpy.append(float(curr_enrichment[\"hypergeom_p_value\"]))\n",
    "    binom_great.append(float(curr_great_webserver[\"binom_p_value\"]))\n",
    "    hyper_great.append(float(curr_great_webserver[\"hyper_p_value\"]))\n",
    "binom = pd.DataFrame({\"binom_greatpy\":binom_greatpy,\"binom_great\":binom_great})\n",
    "hyper = pd.DataFrame({\"hyper_greatpy\":hyper_greatpy,\"hyper_great\":hyper_great})"
   ]
  },
  {
   "cell_type": "markdown",
   "metadata": {},
   "source": [
    "#### II.2.b Graphical"
   ]
  },
  {
   "cell_type": "code",
   "execution_count": 10,
   "metadata": {},
   "outputs": [
    {
     "data": {
      "image/png": "[encoded data removed]",
      "text/plain": [
       "<Figure size 432x288 with 1 Axes>"
      ]
     },
     "metadata": {
      "needs_background": "light"
     },
     "output_type": "display_data"
    }
   ],
   "source": [
    "pl=great.pl.scatterplot(binom,colname_x=\"binom_greatpy\",colname_y=\"binom_great\")"
   ]
  },
  {
   "cell_type": "code",
   "execution_count": 11,
   "metadata": {},
   "outputs": [
    {
     "data": {
      "image/png": "[encoded data removed]",
      "text/plain": [
       "<Figure size 432x288 with 1 Axes>"
      ]
     },
     "metadata": {
      "needs_background": "light"
     },
     "output_type": "display_data"
    }
   ],
   "source": [
    "great.pl.scatterplot(hyper,colname_x=\"hyper_greatpy\",colname_y=\"hyper_great\")"
   ]
  },
  {
   "cell_type": "markdown",
   "metadata": {},
   "source": [
    "#### II.2.c Statistics"
   ]
  },
  {
   "cell_type": "code",
   "execution_count": 12,
   "metadata": {},
   "outputs": [],
   "source": [
    "def stat(binom_great_list_list, hyper_great_listpy_list,binom_great_list,hyper_great_list) : \n",
    "    if len(binom_great_list_list) >= 2 and len(hyper_great_listpy_list) >= 2 and len(binom_great_list) >= 2  and len(hyper_great_list) >= 2 : \n",
    "        return pd.DataFrame({\n",
    "            \"binom\": [cov(m = binom_great_list_list, y = binom_great_list)[0][1],pearsonr(binom_great_list_list,binom_great_list)[0]],\n",
    "            \"hyper\":[cov(m = hyper_great_listpy_list, y = hyper_great_list)[0][1],pearsonr(hyper_great_listpy_list,hyper_great_list)[0]]},\n",
    "            index=[\"correlation_coefficient\",\"pearson\"])\n",
    "    return False"
   ]
  },
  {
   "cell_type": "markdown",
   "metadata": {},
   "source": [
    "Issue is : NaN in hyper_fdr"
   ]
  },
  {
   "cell_type": "code",
   "execution_count": 13,
   "metadata": {},
   "outputs": [],
   "source": [
    "# stat(binom_greatpy, hyper_greatpy,binom_great,hyper_great)"
   ]
  },
  {
   "cell_type": "code",
   "execution_count": 14,
   "metadata": {},
   "outputs": [
    {
     "name": "stdout",
     "output_type": "stream",
     "text": [
      "2590\n",
      "372\n"
     ]
    }
   ],
   "source": [
    "print(before_pp)\n",
    "print(after_pp)"
   ]
  },
  {
   "cell_type": "markdown",
   "metadata": {},
   "source": [
    "We went from 2590 ontology terms in greatpy output to 372 ontology terms by selecting the GO identifiers present in both greatpy and great "
   ]
  },
  {
   "cell_type": "markdown",
   "metadata": {},
   "source": [
    "But when two ontology terms are selected they have the same binomial and hypergeometric probability value "
   ]
  },
  {
   "cell_type": "markdown",
   "metadata": {},
   "source": [
    "# How many associations are good or bad "
   ]
  },
  {
   "cell_type": "code",
   "execution_count": 15,
   "metadata": {},
   "outputs": [
    {
     "name": "stdout",
     "output_type": "stream",
     "text": [
      "Number of gene association present in greatpy and great : 235\n",
      "Number of gene association prensent in great and not in greatpy 62\n",
      "Number of gene association prensent in greatpy and not in great 326\n"
     ]
    }
   ],
   "source": [
    "gene_asso_great = pd.read_csv(great_asso,sep=\"\\t\",comment=\"#\",names=[\"ontologies\",\"gene\"],index_col=False, dtype={\"ontologies\":\"object\",\"gene\":\"object\"},usecols=[\"gene\"])\n",
    "gene_asso_greatpy = great.tl.get_association(\n",
    "    test = pd.read_csv(test,sep=\"\\t\",comment=\"#\",usecols=[0,1,2],names=[\"Chr\", \"Chr_Start\", \"Chr_End\"],dtype={\"Chr\":\"object\", \"Chr_Start\":\"int64\", \"Chr_End\":\"int64\"}),\n",
    "    regdom= pd.read_csv(regdom,sep=\"\\t\",comment=\"#\",names=[\"Chr\", \"Chr_Start\", \"Chr_End\",\"Name\",\"tss\",\"Strand\"],dtype={\"Chr\":\"object\", \"Chr_Start\":\"int64\", \"Chr_End\":\"int64\",\"Name\":\"object\",\"tss\":\"int64\",\"Strand\":\"object\"}))\n",
    "in_in = gene_asso_great[gene_asso_great[\"gene\"].isin(gene_asso_greatpy)].shape[0]\n",
    "in_out = [i for i in list(gene_asso_great[\"gene\"]) if i not in gene_asso_greatpy]\n",
    "out_in = [i for i in gene_asso_greatpy if i not in list(gene_asso_great[\"gene\"])]\n",
    "\n",
    "print(f\"Number of gene association present in greatpy and great : {in_in}\")\n",
    "print(f\"Number of gene association prensent in great and not in greatpy {len(in_out)}\")\n",
    "print(f\"Number of gene association prensent in greatpy and not in great {len(out_in)}\")"
   ]
  }
 ],
 "metadata": {
  "kernelspec": {
   "display_name": "Python 3.9.12 ('base')",
   "language": "python",
   "name": "python3"
  },
  "language_info": {
   "codemirror_mode": {
    "name": "ipython",
    "version": 3
   },
   "file_extension": ".py",
   "mimetype": "text/x-python",
   "name": "python",
   "nbconvert_exporter": "python",
   "pygments_lexer": "ipython3",
   "version": "3.9.12"
  },
  "orig_nbformat": 4,
  "vscode": {
   "interpreter": {
    "hash": "dd3aa23b046397ccf7f1ffb7cb82646c26b15f0b12555a0fca8fb427d9fb147f"
   }
  }
 },
 "nbformat": 4,
 "nbformat_minor": 2
}
