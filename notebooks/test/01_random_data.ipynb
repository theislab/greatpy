{
 "cells": [
  {
   "cell_type": "markdown",
   "metadata": {},
   "source": [
    "# Computation of annotation enrichment in a genetic set "
   ]
  },
  {
   "cell_type": "markdown",
   "metadata": {},
   "source": [
    "This code excerpt shows how to use the GREAT class enrichment to compute a genetic set.\n",
    "The funciton return a dataframe of binom and hypergeometric p-value (<= 0.05) and for each p-value a fdr correction with alpha = 0.05.   "
   ]
  },
  {
   "cell_type": "markdown",
   "metadata": {},
   "source": [
    "In the second part of the code we will compare the results obtained with the Great webserver and between the binomial and hypergeometric probability"
   ]
  },
  {
   "cell_type": "code",
   "execution_count": 1,
   "metadata": {},
   "outputs": [],
   "source": [
    "%load_ext autoreload\n",
    "%autoreload 2"
   ]
  },
  {
   "cell_type": "code",
   "execution_count": 2,
   "metadata": {},
   "outputs": [],
   "source": [
    "import greatpy as great\n",
    "import pandas as pd\n",
    "from math import inf\n",
    "from numpy import log,nan, int64,cov,corrcoef\n",
    "from scipy.stats import pearsonr\n",
    "from seaborn import scatterplot as sp\n",
    "\n",
    "import warnings\n",
    "warnings.filterwarnings('ignore')"
   ]
  },
  {
   "cell_type": "code",
   "execution_count": 3,
   "metadata": {},
   "outputs": [],
   "source": [
    "test = \"../../data/tests/test_data/input/01_random.bed\"\n",
    "regdom = \"../../data/human/hg38/regulatory_domain.bed\"\n",
    "great_out = \"../../data/tests/test_data/output/01_random_hg38_output_great_webserver.tsv\"\n",
    "great_asso = \"../../data/tests/test_data/output/01_random_hg38_gene_asso.tsv\"\n",
    "size = \"../../data/human/hg38/chr_size.bed\""
   ]
  },
  {
   "cell_type": "markdown",
   "metadata": {},
   "source": [
    "## I Compute the p-values"
   ]
  },
  {
   "cell_type": "code",
   "execution_count": 4,
   "metadata": {},
   "outputs": [
    {
     "data": {
      "text/html": [
       "<div>\n",
       "<style scoped>\n",
       "    .dataframe tbody tr th:only-of-type {\n",
       "        vertical-align: middle;\n",
       "    }\n",
       "\n",
       "    .dataframe tbody tr th {\n",
       "        vertical-align: top;\n",
       "    }\n",
       "\n",
       "    .dataframe thead th {\n",
       "        text-align: right;\n",
       "    }\n",
       "</style>\n",
       "<table border=\"1\" class=\"dataframe\">\n",
       "  <thead>\n",
       "    <tr style=\"text-align: right;\">\n",
       "      <th></th>\n",
       "      <th>go_term</th>\n",
       "      <th>binom_p_value</th>\n",
       "      <th>hypergeom_p_value</th>\n",
       "      <th>binom_bonferroni</th>\n",
       "      <th>hypergeom_bonferroni</th>\n",
       "      <th>binom_fdr</th>\n",
       "      <th>hypergeom_fdr</th>\n",
       "    </tr>\n",
       "  </thead>\n",
       "  <tbody>\n",
       "    <tr>\n",
       "      <th>GO:0045887</th>\n",
       "      <td>positive regulation of synaptic growth at neur...</td>\n",
       "      <td>5.20389e-13</td>\n",
       "      <td>3.08889e-03</td>\n",
       "      <td>3.02346e-10</td>\n",
       "      <td>1</td>\n",
       "      <td>3.02346e-10</td>\n",
       "      <td>8.14508e-02</td>\n",
       "    </tr>\n",
       "    <tr>\n",
       "      <th>GO:0044721</th>\n",
       "      <td>protein import into peroxisome matrix, substra...</td>\n",
       "      <td>4.84198e-10</td>\n",
       "      <td>3.08889e-03</td>\n",
       "      <td>2.81319e-07</td>\n",
       "      <td>1</td>\n",
       "      <td>9.17770e-08</td>\n",
       "      <td>8.14508e-02</td>\n",
       "    </tr>\n",
       "    <tr>\n",
       "      <th>GO:0036250</th>\n",
       "      <td>peroxisome transport along microtubule</td>\n",
       "      <td>4.84198e-10</td>\n",
       "      <td>3.08889e-03</td>\n",
       "      <td>2.81319e-07</td>\n",
       "      <td>1</td>\n",
       "      <td>9.17770e-08</td>\n",
       "      <td>8.14508e-02</td>\n",
       "    </tr>\n",
       "    <tr>\n",
       "      <th>GO:0016561</th>\n",
       "      <td>protein import into peroxisome matrix, translo...</td>\n",
       "      <td>6.31855e-10</td>\n",
       "      <td>6.16839e-03</td>\n",
       "      <td>3.67108e-07</td>\n",
       "      <td>1</td>\n",
       "      <td>9.17770e-08</td>\n",
       "      <td>8.14508e-02</td>\n",
       "    </tr>\n",
       "    <tr>\n",
       "      <th>GO:0030576</th>\n",
       "      <td>Cajal body organization</td>\n",
       "      <td>1.49190e-09</td>\n",
       "      <td>1.83932e-02</td>\n",
       "      <td>8.66796e-07</td>\n",
       "      <td>1</td>\n",
       "      <td>1.61138e-07</td>\n",
       "      <td>1.04769e-01</td>\n",
       "    </tr>\n",
       "    <tr>\n",
       "      <th>...</th>\n",
       "      <td>...</td>\n",
       "      <td>...</td>\n",
       "      <td>...</td>\n",
       "      <td>...</td>\n",
       "      <td>...</td>\n",
       "      <td>...</td>\n",
       "      <td>...</td>\n",
       "    </tr>\n",
       "    <tr>\n",
       "      <th>GO:0006915</th>\n",
       "      <td>apoptotic process</td>\n",
       "      <td>9.95014e-01</td>\n",
       "      <td>5.39651e-01</td>\n",
       "      <td>1</td>\n",
       "      <td>1</td>\n",
       "      <td>9.99465e-01</td>\n",
       "      <td>6.07630e-01</td>\n",
       "    </tr>\n",
       "    <tr>\n",
       "      <th>GO:0005515</th>\n",
       "      <td>protein binding</td>\n",
       "      <td>9.96314e-01</td>\n",
       "      <td>2.70000e-307</td>\n",
       "      <td>1</td>\n",
       "      <td>1.56870e-304</td>\n",
       "      <td>9.99465e-01</td>\n",
       "      <td>1.16200e-304</td>\n",
       "    </tr>\n",
       "    <tr>\n",
       "      <th>GO:0042803</th>\n",
       "      <td>protein homodimerization activity</td>\n",
       "      <td>9.98551e-01</td>\n",
       "      <td>9.54394e-01</td>\n",
       "      <td>1</td>\n",
       "      <td>1</td>\n",
       "      <td>9.99465e-01</td>\n",
       "      <td>9.71108e-01</td>\n",
       "    </tr>\n",
       "    <tr>\n",
       "      <th>GO:0005737</th>\n",
       "      <td>cytoplasm</td>\n",
       "      <td>9.98903e-01</td>\n",
       "      <td>9.92060e-01</td>\n",
       "      <td>1</td>\n",
       "      <td>1</td>\n",
       "      <td>9.99465e-01</td>\n",
       "      <td>9.97209e-01</td>\n",
       "    </tr>\n",
       "    <tr>\n",
       "      <th>GO:0005887</th>\n",
       "      <td>integral component of plasma membrane</td>\n",
       "      <td>9.99465e-01</td>\n",
       "      <td>9.63640e-01</td>\n",
       "      <td>1</td>\n",
       "      <td>1</td>\n",
       "      <td>9.99465e-01</td>\n",
       "      <td>9.78802e-01</td>\n",
       "    </tr>\n",
       "  </tbody>\n",
       "</table>\n",
       "<p>581 rows × 7 columns</p>\n",
       "</div>"
      ],
      "text/plain": [
       "                                                      go_term binom_p_value  \\\n",
       "GO:0045887  positive regulation of synaptic growth at neur...   5.20389e-13   \n",
       "GO:0044721  protein import into peroxisome matrix, substra...   4.84198e-10   \n",
       "GO:0036250             peroxisome transport along microtubule   4.84198e-10   \n",
       "GO:0016561  protein import into peroxisome matrix, translo...   6.31855e-10   \n",
       "GO:0030576                            Cajal body organization   1.49190e-09   \n",
       "...                                                       ...           ...   \n",
       "GO:0006915                                  apoptotic process   9.95014e-01   \n",
       "GO:0005515                                    protein binding   9.96314e-01   \n",
       "GO:0042803                  protein homodimerization activity   9.98551e-01   \n",
       "GO:0005737                                          cytoplasm   9.98903e-01   \n",
       "GO:0005887              integral component of plasma membrane   9.99465e-01   \n",
       "\n",
       "           hypergeom_p_value binom_bonferroni hypergeom_bonferroni  \\\n",
       "GO:0045887       3.08889e-03      3.02346e-10                    1   \n",
       "GO:0044721       3.08889e-03      2.81319e-07                    1   \n",
       "GO:0036250       3.08889e-03      2.81319e-07                    1   \n",
       "GO:0016561       6.16839e-03      3.67108e-07                    1   \n",
       "GO:0030576       1.83932e-02      8.66796e-07                    1   \n",
       "...                      ...              ...                  ...   \n",
       "GO:0006915       5.39651e-01                1                    1   \n",
       "GO:0005515      2.70000e-307                1         1.56870e-304   \n",
       "GO:0042803       9.54394e-01                1                    1   \n",
       "GO:0005737       9.92060e-01                1                    1   \n",
       "GO:0005887       9.63640e-01                1                    1   \n",
       "\n",
       "              binom_fdr hypergeom_fdr  \n",
       "GO:0045887  3.02346e-10   8.14508e-02  \n",
       "GO:0044721  9.17770e-08   8.14508e-02  \n",
       "GO:0036250  9.17770e-08   8.14508e-02  \n",
       "GO:0016561  9.17770e-08   8.14508e-02  \n",
       "GO:0030576  1.61138e-07   1.04769e-01  \n",
       "...                 ...           ...  \n",
       "GO:0006915  9.99465e-01   6.07630e-01  \n",
       "GO:0005515  9.99465e-01  1.16200e-304  \n",
       "GO:0042803  9.99465e-01   9.71108e-01  \n",
       "GO:0005737  9.99465e-01   9.97209e-01  \n",
       "GO:0005887  9.99465e-01   9.78802e-01  \n",
       "\n",
       "[581 rows x 7 columns]"
      ]
     },
     "execution_count": 4,
     "metadata": {},
     "output_type": "execute_result"
    }
   ],
   "source": [
    "enrichment_tot = great.tl.GREAT.enrichment(\n",
    "    test_file=test,\n",
    "    regdom_file=regdom,\n",
    "    chr_size_file=size,\n",
    "    annotation_file=\"../../data/human/ontologies.csv\",\n",
    "    binom=True,\n",
    "    hypergeom=True,\n",
    "    )\n",
    "great.tl.GREAT.set_bonferroni(enrichment_tot,0.05)\n",
    "great.tl.GREAT.set_fdr(enrichment_tot,0.05)"
   ]
  },
  {
   "cell_type": "markdown",
   "metadata": {},
   "source": [
    "## II Compare to GREAT webserver  "
   ]
  },
  {
   "cell_type": "markdown",
   "metadata": {},
   "source": [
    "### II.1 Import the data"
   ]
  },
  {
   "cell_type": "code",
   "execution_count": 5,
   "metadata": {},
   "outputs": [],
   "source": [
    "great_webserver = pd.read_csv(great_out,sep=\"\\t\",comment=\"#\",\n",
    "                    names=[\"ontologie\",\"term_name\",\"ID\",\"binom_p_value\",\"binom_bonferroni\",\"binom_fdr\",\"hyper_p_value\",\"hyper_bonferroni\",\"hyper_fdr\"],index_col=False,\n",
    "                    dtype={\"term_name\":\"object\", \"ID\":\"object\",\"binom_p_value\":\"float64\", \"binom_bonferroni\":\"float64\", \"binom_fdr\":\"float64\", \"hyper_p_value\":\"float64\", \"hyper_bonferroni\":\"float64\", \"hyper_fdr\":\"float64\"})\n",
    "great_webserver.rename(columns={\"ID\":\"id\"},inplace=True)\n",
    "del great_webserver[\"ontologie\"]\n",
    "del great_webserver[\"term_name\"]"
   ]
  },
  {
   "cell_type": "code",
   "execution_count": 6,
   "metadata": {},
   "outputs": [
    {
     "data": {
      "text/html": [
       "<div>\n",
       "<style scoped>\n",
       "    .dataframe tbody tr th:only-of-type {\n",
       "        vertical-align: middle;\n",
       "    }\n",
       "\n",
       "    .dataframe tbody tr th {\n",
       "        vertical-align: top;\n",
       "    }\n",
       "\n",
       "    .dataframe thead th {\n",
       "        text-align: right;\n",
       "    }\n",
       "</style>\n",
       "<table border=\"1\" class=\"dataframe\">\n",
       "  <thead>\n",
       "    <tr style=\"text-align: right;\">\n",
       "      <th></th>\n",
       "      <th>id</th>\n",
       "      <th>binom_p_value</th>\n",
       "      <th>binom_bonferroni</th>\n",
       "      <th>binom_fdr</th>\n",
       "      <th>hyper_p_value</th>\n",
       "      <th>hyper_bonferroni</th>\n",
       "      <th>hyper_fdr</th>\n",
       "    </tr>\n",
       "  </thead>\n",
       "  <tbody>\n",
       "    <tr>\n",
       "      <th>0</th>\n",
       "      <td>GO:0045887</td>\n",
       "      <td>7.41119e-13</td>\n",
       "      <td>9.75238e-09</td>\n",
       "      <td>9.75238e-09</td>\n",
       "      <td>3.08888e-03</td>\n",
       "      <td>1.00000e+00</td>\n",
       "      <td>1.00000e+00</td>\n",
       "    </tr>\n",
       "    <tr>\n",
       "      <th>1</th>\n",
       "      <td>GO:0036250</td>\n",
       "      <td>6.89152e-10</td>\n",
       "      <td>9.06855e-06</td>\n",
       "      <td>4.53427e-06</td>\n",
       "      <td>3.08888e-03</td>\n",
       "      <td>1.00000e+00</td>\n",
       "      <td>1.00000e+00</td>\n",
       "    </tr>\n",
       "    <tr>\n",
       "      <th>2</th>\n",
       "      <td>GO:0044721</td>\n",
       "      <td>6.89152e-10</td>\n",
       "      <td>9.06855e-06</td>\n",
       "      <td>4.53427e-06</td>\n",
       "      <td>3.08888e-03</td>\n",
       "      <td>1.00000e+00</td>\n",
       "      <td>1.00000e+00</td>\n",
       "    </tr>\n",
       "    <tr>\n",
       "      <th>3</th>\n",
       "      <td>GO:0016561</td>\n",
       "      <td>8.99265e-10</td>\n",
       "      <td>1.18334e-05</td>\n",
       "      <td>2.95836e-06</td>\n",
       "      <td>6.16839e-03</td>\n",
       "      <td>1.00000e+00</td>\n",
       "      <td>1.00000e+00</td>\n",
       "    </tr>\n",
       "    <tr>\n",
       "      <th>4</th>\n",
       "      <td>GO:0030576</td>\n",
       "      <td>1.51252e-09</td>\n",
       "      <td>1.99033e-05</td>\n",
       "      <td>3.98065e-06</td>\n",
       "      <td>9.23855e-03</td>\n",
       "      <td>1.00000e+00</td>\n",
       "      <td>1.00000e+00</td>\n",
       "    </tr>\n",
       "    <tr>\n",
       "      <th>...</th>\n",
       "      <td>...</td>\n",
       "      <td>...</td>\n",
       "      <td>...</td>\n",
       "      <td>...</td>\n",
       "      <td>...</td>\n",
       "      <td>...</td>\n",
       "      <td>...</td>\n",
       "    </tr>\n",
       "    <tr>\n",
       "      <th>192</th>\n",
       "      <td>GO:0004000</td>\n",
       "      <td>7.81977e-03</td>\n",
       "      <td>1.00000e+00</td>\n",
       "      <td>6.47354e-01</td>\n",
       "      <td>3.34666e-02</td>\n",
       "      <td>1.00000e+00</td>\n",
       "      <td>1.00000e+00</td>\n",
       "    </tr>\n",
       "    <tr>\n",
       "      <th>193</th>\n",
       "      <td>GO:0010858</td>\n",
       "      <td>1.60065e-02</td>\n",
       "      <td>1.00000e+00</td>\n",
       "      <td>1.00000e+00</td>\n",
       "      <td>1.22994e-02</td>\n",
       "      <td>1.00000e+00</td>\n",
       "      <td>1.00000e+00</td>\n",
       "    </tr>\n",
       "    <tr>\n",
       "      <th>194</th>\n",
       "      <td>GO:0050786</td>\n",
       "      <td>2.85759e-02</td>\n",
       "      <td>1.00000e+00</td>\n",
       "      <td>1.00000e+00</td>\n",
       "      <td>3.34666e-02</td>\n",
       "      <td>1.00000e+00</td>\n",
       "      <td>1.00000e+00</td>\n",
       "    </tr>\n",
       "    <tr>\n",
       "      <th>195</th>\n",
       "      <td>GO:0019958</td>\n",
       "      <td>4.25174e-02</td>\n",
       "      <td>1.00000e+00</td>\n",
       "      <td>1.00000e+00</td>\n",
       "      <td>1.83932e-02</td>\n",
       "      <td>1.00000e+00</td>\n",
       "      <td>1.00000e+00</td>\n",
       "    </tr>\n",
       "    <tr>\n",
       "      <th>196</th>\n",
       "      <td>GO:0003727</td>\n",
       "      <td>4.84132e-02</td>\n",
       "      <td>1.00000e+00</td>\n",
       "      <td>1.00000e+00</td>\n",
       "      <td>2.59953e-02</td>\n",
       "      <td>1.00000e+00</td>\n",
       "      <td>1.00000e+00</td>\n",
       "    </tr>\n",
       "  </tbody>\n",
       "</table>\n",
       "<p>197 rows × 7 columns</p>\n",
       "</div>"
      ],
      "text/plain": [
       "             id  binom_p_value  binom_bonferroni    binom_fdr  hyper_p_value  \\\n",
       "0    GO:0045887    7.41119e-13       9.75238e-09  9.75238e-09    3.08888e-03   \n",
       "1    GO:0036250    6.89152e-10       9.06855e-06  4.53427e-06    3.08888e-03   \n",
       "2    GO:0044721    6.89152e-10       9.06855e-06  4.53427e-06    3.08888e-03   \n",
       "3    GO:0016561    8.99265e-10       1.18334e-05  2.95836e-06    6.16839e-03   \n",
       "4    GO:0030576    1.51252e-09       1.99033e-05  3.98065e-06    9.23855e-03   \n",
       "..          ...            ...               ...          ...            ...   \n",
       "192  GO:0004000    7.81977e-03       1.00000e+00  6.47354e-01    3.34666e-02   \n",
       "193  GO:0010858    1.60065e-02       1.00000e+00  1.00000e+00    1.22994e-02   \n",
       "194  GO:0050786    2.85759e-02       1.00000e+00  1.00000e+00    3.34666e-02   \n",
       "195  GO:0019958    4.25174e-02       1.00000e+00  1.00000e+00    1.83932e-02   \n",
       "196  GO:0003727    4.84132e-02       1.00000e+00  1.00000e+00    2.59953e-02   \n",
       "\n",
       "     hyper_bonferroni    hyper_fdr  \n",
       "0         1.00000e+00  1.00000e+00  \n",
       "1         1.00000e+00  1.00000e+00  \n",
       "2         1.00000e+00  1.00000e+00  \n",
       "3         1.00000e+00  1.00000e+00  \n",
       "4         1.00000e+00  1.00000e+00  \n",
       "..                ...          ...  \n",
       "192       1.00000e+00  1.00000e+00  \n",
       "193       1.00000e+00  1.00000e+00  \n",
       "194       1.00000e+00  1.00000e+00  \n",
       "195       1.00000e+00  1.00000e+00  \n",
       "196       1.00000e+00  1.00000e+00  \n",
       "\n",
       "[197 rows x 7 columns]"
      ]
     },
     "execution_count": 6,
     "metadata": {},
     "output_type": "execute_result"
    }
   ],
   "source": [
    "great_webserver"
   ]
  },
  {
   "cell_type": "markdown",
   "metadata": {},
   "source": [
    "### II.2 Compare the results between greatpy and great "
   ]
  },
  {
   "cell_type": "markdown",
   "metadata": {},
   "source": [
    "#### II.2.1 Preprocessing"
   ]
  },
  {
   "cell_type": "code",
   "execution_count": 7,
   "metadata": {},
   "outputs": [],
   "source": [
    "before_pp = enrichment_tot.shape[0]\n",
    "enrichment_tot = enrichment_tot[enrichment_tot.index.isin(list(great_webserver[\"id\"]))]\n",
    "after_pp = enrichment_tot.shape[0]"
   ]
  },
  {
   "cell_type": "code",
   "execution_count": 8,
   "metadata": {},
   "outputs": [],
   "source": [
    "great_webserver = great_webserver[great_webserver[\"id\"].isin(list(enrichment_tot.index))]\n",
    "great_webserver = great_webserver.sort_values(\"id\")"
   ]
  },
  {
   "cell_type": "code",
   "execution_count": 9,
   "metadata": {},
   "outputs": [],
   "source": [
    "binom_greatpy = []\n",
    "hyper_greatpy = []\n",
    "binom_great = []\n",
    "hyper_great = []\n",
    "for i in range(enrichment_tot.shape[0]) : \n",
    "    go_id = list(enrichment_tot.index)[i]\n",
    "    curr_enrichment = enrichment_tot.iloc[i]\n",
    "    curr_great_webserver = great_webserver.loc[great_webserver[\"id\"]==go_id]\n",
    "    binom_greatpy.append(float(curr_enrichment[\"binom_p_value\"]))\n",
    "    hyper_greatpy.append(float(curr_enrichment[\"hypergeom_p_value\"]))\n",
    "    binom_great.append(float(curr_great_webserver[\"binom_p_value\"]))\n",
    "    hyper_great.append(float(curr_great_webserver[\"hyper_p_value\"]))\n",
    "binom = pd.DataFrame({\"binom_greatpy\":binom_greatpy,\"binom_great\":binom_great})\n",
    "hyper = pd.DataFrame({\"hyper_greatpy\":hyper_greatpy,\"hyper_great\":hyper_great})"
   ]
  },
  {
   "cell_type": "markdown",
   "metadata": {},
   "source": [
    "#### II.2.b Graphical"
   ]
  },
  {
   "cell_type": "code",
   "execution_count": 10,
   "metadata": {},
   "outputs": [
    {
     "data": {
      "image/png": "[encoded data removed]",
      "text/plain": [
       "<Figure size 432x288 with 1 Axes>"
      ]
     },
     "metadata": {
      "needs_background": "light"
     },
     "output_type": "display_data"
    }
   ],
   "source": [
    "pl=great.pl.scatterplot(binom,colname_x=\"binom_greatpy\",colname_y=\"binom_great\")"
   ]
  },
  {
   "cell_type": "code",
   "execution_count": 11,
   "metadata": {},
   "outputs": [
    {
     "data": {
      "image/png": "[encoded data removed]",
      "text/plain": [
       "<Figure size 432x288 with 1 Axes>"
      ]
     },
     "metadata": {
      "needs_background": "light"
     },
     "output_type": "display_data"
    }
   ],
   "source": [
    "great.pl.scatterplot(hyper,colname_x=\"hyper_greatpy\",colname_y=\"hyper_great\")"
   ]
  },
  {
   "cell_type": "markdown",
   "metadata": {},
   "source": [
    "#### II.2.c Statistics"
   ]
  },
  {
   "cell_type": "code",
   "execution_count": 12,
   "metadata": {},
   "outputs": [],
   "source": [
    "def stat(binom_great_list_list, hyper_great_listpy_list,binom_great_list,hyper_great_list) : \n",
    "    if len(binom_great_list_list) >= 2 and len(hyper_great_listpy_list) >= 2 and len(binom_great_list) >= 2  and len(hyper_great_list) >= 2 : \n",
    "        return pd.DataFrame({\n",
    "            \"binom\": [cov(m = binom_great_list_list, y = binom_great_list)[0][1],pearsonr(binom_great_list_list,binom_great_list)[0]],\n",
    "            \"hyper\":[cov(m = hyper_great_listpy_list, y = hyper_great_list)[0][1],pearsonr(hyper_great_listpy_list,hyper_great_list)[0]]},\n",
    "            index=[\"correlation_coefficient\",\"pearson\"])\n",
    "    return False"
   ]
  },
  {
   "cell_type": "markdown",
   "metadata": {},
   "source": [
    "Issue is : NaN in hyper_fdr"
   ]
  },
  {
   "cell_type": "code",
   "execution_count": 13,
   "metadata": {},
   "outputs": [],
   "source": [
    "# stat(binom_greatpy, hyper_greatpy,binom_great,hyper_great)"
   ]
  },
  {
   "cell_type": "code",
   "execution_count": 14,
   "metadata": {},
   "outputs": [
    {
     "name": "stdout",
     "output_type": "stream",
     "text": [
      "581\n",
      "117\n"
     ]
    }
   ],
   "source": [
    "print(before_pp)\n",
    "print(after_pp)"
   ]
  },
  {
   "cell_type": "markdown",
   "metadata": {},
   "source": [
    "We went from 594 ontology terms in greatpy output to 108 ontology terms by selecting the GO identifiers present in both greatpy and great "
   ]
  },
  {
   "cell_type": "markdown",
   "metadata": {},
   "source": [
    "But when two ontology terms are selected they have the same binomial and hypergeometric probability value "
   ]
  },
  {
   "cell_type": "markdown",
   "metadata": {},
   "source": [
    "# How many associations are good or bad "
   ]
  },
  {
   "cell_type": "code",
   "execution_count": 15,
   "metadata": {},
   "outputs": [
    {
     "name": "stdout",
     "output_type": "stream",
     "text": [
      "Number of gene association present in greatpy and great : 57\n",
      "Number of gene association prensent in great and not in greatpy 0\n",
      "Number of gene association prensent in greatpy and not in great 1\n"
     ]
    }
   ],
   "source": [
    "gene_asso_great = pd.read_csv(great_asso,sep=\"\\t\",comment=\"#\",names=[\"ontologies\",\"gene\"],index_col=False, dtype={\"ontologies\":\"object\",\"gene\":\"object\"},usecols=[\"gene\"])\n",
    "gene_asso_greatpy = great.tl.get_association(\n",
    "    test = pd.read_csv(test,sep=\"\\t\",comment=\"#\",usecols=[0,1,2],names=[\"Chr\", \"Chr_Start\", \"Chr_End\"],dtype={\"Chr\":\"object\", \"Chr_Start\":\"int64\", \"Chr_End\":\"int64\"}),\n",
    "    regdom= pd.read_csv(regdom,sep=\"\\t\",comment=\"#\",names=[\"Chr\", \"Chr_Start\", \"Chr_End\",\"Name\",\"tss\",\"Strand\"],dtype={\"Chr\":\"object\", \"Chr_Start\":\"int64\", \"Chr_End\":\"int64\",\"Name\":\"object\",\"tss\":\"int64\",\"Strand\":\"object\"}))\n",
    "in_in = gene_asso_great[gene_asso_great[\"gene\"].isin(gene_asso_greatpy)].shape[0]\n",
    "in_out = [i for i in list(gene_asso_great[\"gene\"]) if i not in gene_asso_greatpy]\n",
    "out_in = [i for i in gene_asso_greatpy if i not in list(gene_asso_great[\"gene\"])]\n",
    "\n",
    "print(f\"Number of gene association present in greatpy and great : {in_in}\")\n",
    "print(f\"Number of gene association prensent in great and not in greatpy {len(in_out)}\")\n",
    "print(f\"Number of gene association prensent in greatpy and not in great {len(out_in)}\")"
   ]
  }
 ],
 "metadata": {
  "kernelspec": {
   "display_name": "Python 3.9.12 ('base')",
   "language": "python",
   "name": "python3"
  },
  "language_info": {
   "codemirror_mode": {
    "name": "ipython",
    "version": 3
   },
   "file_extension": ".py",
   "mimetype": "text/x-python",
   "name": "python",
   "nbconvert_exporter": "python",
   "pygments_lexer": "ipython3",
   "version": "3.9.12"
  },
  "orig_nbformat": 4,
  "vscode": {
   "interpreter": {
    "hash": "dd3aa23b046397ccf7f1ffb7cb82646c26b15f0b12555a0fca8fb427d9fb147f"
   }
  }
 },
 "nbformat": 4,
 "nbformat_minor": 2
}
