{
 "cells": [
  {
   "cell_type": "markdown",
   "metadata": {},
   "source": [
    "# Computation of annotation enrichment in a genetic set "
   ]
  },
  {
   "cell_type": "markdown",
   "metadata": {},
   "source": [
    "This code excerpt shows how to use the annotation enrichment computation function in a genetic set.\n",
    "The funciton return a dataframe of binom and hypergeometric p-value (<= 0.05) and for each p-value a fdr correction with alpha = 0.05.   "
   ]
  },
  {
   "cell_type": "markdown",
   "metadata": {},
   "source": [
    "In the second part of the code we will compare the results obtained with the Great webserver and between the binomial and hypergeometric probability"
   ]
  },
  {
   "cell_type": "code",
   "execution_count": 1,
   "metadata": {},
   "outputs": [],
   "source": [
    "%load_ext autoreload\n",
    "%autoreload 2"
   ]
  },
  {
   "cell_type": "code",
   "execution_count": 2,
   "metadata": {},
   "outputs": [],
   "source": [
    "import greatpy as great\n",
    "import pandas as pd\n",
    "from math import inf\n",
    "from numpy import log,nan, int64,cov,corrcoef\n",
    "from scipy.stats import pearsonr\n",
    "from seaborn import scatterplot as sp\n",
    "\n",
    "import warnings\n",
    "warnings.filterwarnings('ignore')"
   ]
  },
  {
   "cell_type": "code",
   "execution_count": 3,
   "metadata": {},
   "outputs": [],
   "source": [
    "test = \"../../data/test/04_ultra_hg38.bed\"\n",
    "regdom = \"../../data/human/regulatory_domain.bed\"\n",
    "great_out = \"../../data/test/04_ultra_hg38_output_great_webserver.tsv\"\n",
    "great_asso = \"../../data/test/04_ultra_hg38_gene_asso.tsv\"\n",
    "size = \"../../data/human/chr_size.bed\""
   ]
  },
  {
   "cell_type": "markdown",
   "metadata": {},
   "source": [
    "## I Compute the p-values"
   ]
  },
  {
   "cell_type": "code",
   "execution_count": 4,
   "metadata": {},
   "outputs": [
    {
     "data": {
      "text/html": [
       "<div>\n",
       "<style scoped>\n",
       "    .dataframe tbody tr th:only-of-type {\n",
       "        vertical-align: middle;\n",
       "    }\n",
       "\n",
       "    .dataframe tbody tr th {\n",
       "        vertical-align: top;\n",
       "    }\n",
       "\n",
       "    .dataframe thead th {\n",
       "        text-align: right;\n",
       "    }\n",
       "</style>\n",
       "<table border=\"1\" class=\"dataframe\">\n",
       "  <thead>\n",
       "    <tr style=\"text-align: right;\">\n",
       "      <th></th>\n",
       "      <th>go_term</th>\n",
       "      <th>binom_p_value</th>\n",
       "      <th>hypergeom_p_value</th>\n",
       "      <th>binom_bonferroni</th>\n",
       "      <th>hypergeom_bonferroni</th>\n",
       "      <th>binom_fdr</th>\n",
       "      <th>hypergeom_fdr</th>\n",
       "    </tr>\n",
       "  </thead>\n",
       "  <tbody>\n",
       "    <tr>\n",
       "      <th>GO:0000981</th>\n",
       "      <td>DNA-binding transcription factor activity, RNA...</td>\n",
       "      <td>3.28914e-22</td>\n",
       "      <td>4.94000e-306</td>\n",
       "      <td>9.54180e-19</td>\n",
       "      <td>1.43309e-302</td>\n",
       "      <td>9.54180e-19</td>\n",
       "      <td>5.05144e-306</td>\n",
       "    </tr>\n",
       "    <tr>\n",
       "      <th>GO:0021831</th>\n",
       "      <td>embryonic olfactory bulb interneuron precursor...</td>\n",
       "      <td>2.19687e-16</td>\n",
       "      <td>1.00000e-308</td>\n",
       "      <td>6.37312e-13</td>\n",
       "      <td>2.90100e-305</td>\n",
       "      <td>2.12437e-13</td>\n",
       "      <td>2.19773e-307</td>\n",
       "    </tr>\n",
       "    <tr>\n",
       "      <th>GO:0072148</th>\n",
       "      <td>epithelial cell fate commitment</td>\n",
       "      <td>2.19687e-16</td>\n",
       "      <td>1.00000e-308</td>\n",
       "      <td>6.37312e-13</td>\n",
       "      <td>2.90100e-305</td>\n",
       "      <td>2.12437e-13</td>\n",
       "      <td>2.19773e-307</td>\n",
       "    </tr>\n",
       "    <tr>\n",
       "      <th>GO:0000122</th>\n",
       "      <td>negative regulation of transcription by RNA po...</td>\n",
       "      <td>4.82448e-16</td>\n",
       "      <td>5.29000e-306</td>\n",
       "      <td>1.39958e-12</td>\n",
       "      <td>1.53463e-302</td>\n",
       "      <td>2.92971e-13</td>\n",
       "      <td>5.39223e-306</td>\n",
       "    </tr>\n",
       "    <tr>\n",
       "      <th>GO:0044241</th>\n",
       "      <td>lipid digestion</td>\n",
       "      <td>5.04948e-16</td>\n",
       "      <td>3.00000e-308</td>\n",
       "      <td>1.46485e-12</td>\n",
       "      <td>8.70300e-305</td>\n",
       "      <td>2.92971e-13</td>\n",
       "      <td>2.21450e-307</td>\n",
       "    </tr>\n",
       "    <tr>\n",
       "      <th>...</th>\n",
       "      <td>...</td>\n",
       "      <td>...</td>\n",
       "      <td>...</td>\n",
       "      <td>...</td>\n",
       "      <td>...</td>\n",
       "      <td>...</td>\n",
       "      <td>...</td>\n",
       "    </tr>\n",
       "    <tr>\n",
       "      <th>GO:0003680</th>\n",
       "      <td>AT DNA binding</td>\n",
       "      <td>1</td>\n",
       "      <td>1.70000e-307</td>\n",
       "      <td>1</td>\n",
       "      <td>4.93170e-304</td>\n",
       "      <td>1.00000e+00</td>\n",
       "      <td>3.65853e-307</td>\n",
       "    </tr>\n",
       "    <tr>\n",
       "      <th>GO:0021879</th>\n",
       "      <td>forebrain neuron differentiation</td>\n",
       "      <td>1</td>\n",
       "      <td>4.00000e-308</td>\n",
       "      <td>1</td>\n",
       "      <td>1.16040e-304</td>\n",
       "      <td>1.00000e+00</td>\n",
       "      <td>2.30238e-307</td>\n",
       "    </tr>\n",
       "    <tr>\n",
       "      <th>GO:0090103</th>\n",
       "      <td>cochlea morphogenesis</td>\n",
       "      <td>1</td>\n",
       "      <td>2.40000e-307</td>\n",
       "      <td>1</td>\n",
       "      <td>6.96240e-304</td>\n",
       "      <td>1.00000e+00</td>\n",
       "      <td>4.45451e-307</td>\n",
       "    </tr>\n",
       "    <tr>\n",
       "      <th>GO:0004559</th>\n",
       "      <td>alpha-mannosidase activity</td>\n",
       "      <td>1</td>\n",
       "      <td>1.10000e-307</td>\n",
       "      <td>1</td>\n",
       "      <td>3.19110e-304</td>\n",
       "      <td>1.00000e+00</td>\n",
       "      <td>2.97677e-307</td>\n",
       "    </tr>\n",
       "    <tr>\n",
       "      <th>GO:0098855</th>\n",
       "      <td>HCN channel complex</td>\n",
       "      <td>1</td>\n",
       "      <td>4.00000e-308</td>\n",
       "      <td>1</td>\n",
       "      <td>1.16040e-304</td>\n",
       "      <td>1.00000e+00</td>\n",
       "      <td>2.30238e-307</td>\n",
       "    </tr>\n",
       "  </tbody>\n",
       "</table>\n",
       "<p>2901 rows × 7 columns</p>\n",
       "</div>"
      ],
      "text/plain": [
       "                                                      go_term binom_p_value  \\\n",
       "GO:0000981  DNA-binding transcription factor activity, RNA...   3.28914e-22   \n",
       "GO:0021831  embryonic olfactory bulb interneuron precursor...   2.19687e-16   \n",
       "GO:0072148                    epithelial cell fate commitment   2.19687e-16   \n",
       "GO:0000122  negative regulation of transcription by RNA po...   4.82448e-16   \n",
       "GO:0044241                                    lipid digestion   5.04948e-16   \n",
       "...                                                       ...           ...   \n",
       "GO:0003680                                     AT DNA binding             1   \n",
       "GO:0021879                   forebrain neuron differentiation             1   \n",
       "GO:0090103                              cochlea morphogenesis             1   \n",
       "GO:0004559                         alpha-mannosidase activity             1   \n",
       "GO:0098855                                HCN channel complex             1   \n",
       "\n",
       "           hypergeom_p_value binom_bonferroni hypergeom_bonferroni  \\\n",
       "GO:0000981      4.94000e-306      9.54180e-19         1.43309e-302   \n",
       "GO:0021831      1.00000e-308      6.37312e-13         2.90100e-305   \n",
       "GO:0072148      1.00000e-308      6.37312e-13         2.90100e-305   \n",
       "GO:0000122      5.29000e-306      1.39958e-12         1.53463e-302   \n",
       "GO:0044241      3.00000e-308      1.46485e-12         8.70300e-305   \n",
       "...                      ...              ...                  ...   \n",
       "GO:0003680      1.70000e-307                1         4.93170e-304   \n",
       "GO:0021879      4.00000e-308                1         1.16040e-304   \n",
       "GO:0090103      2.40000e-307                1         6.96240e-304   \n",
       "GO:0004559      1.10000e-307                1         3.19110e-304   \n",
       "GO:0098855      4.00000e-308                1         1.16040e-304   \n",
       "\n",
       "              binom_fdr hypergeom_fdr  \n",
       "GO:0000981  9.54180e-19  5.05144e-306  \n",
       "GO:0021831  2.12437e-13  2.19773e-307  \n",
       "GO:0072148  2.12437e-13  2.19773e-307  \n",
       "GO:0000122  2.92971e-13  5.39223e-306  \n",
       "GO:0044241  2.92971e-13  2.21450e-307  \n",
       "...                 ...           ...  \n",
       "GO:0003680  1.00000e+00  3.65853e-307  \n",
       "GO:0021879  1.00000e+00  2.30238e-307  \n",
       "GO:0090103  1.00000e+00  4.45451e-307  \n",
       "GO:0004559  1.00000e+00  2.97677e-307  \n",
       "GO:0098855  1.00000e+00  2.30238e-307  \n",
       "\n",
       "[2901 rows x 7 columns]"
      ]
     },
     "execution_count": 4,
     "metadata": {},
     "output_type": "execute_result"
    }
   ],
   "source": [
    "enrichment_tot = great.tl.GREAT.enrichment(\n",
    "    test_file=test,\n",
    "    regdom_file=regdom,\n",
    "    chr_size_file=size,\n",
    "    annotation_file=\"../../data/human/ontologies.csv\",\n",
    "    binom=True,\n",
    "    hypergeom=True,\n",
    "    )\n",
    "great.tl.GREAT.set_bonferroni(enrichment_tot,0.05)\n",
    "great.tl.GREAT.set_fdr(enrichment_tot,0.05)"
   ]
  },
  {
   "cell_type": "markdown",
   "metadata": {},
   "source": [
    "## II Compare to GREAT webserver  "
   ]
  },
  {
   "cell_type": "markdown",
   "metadata": {},
   "source": [
    "### II.1 Import the data"
   ]
  },
  {
   "cell_type": "code",
   "execution_count": 5,
   "metadata": {},
   "outputs": [],
   "source": [
    "great_webserver = pd.read_csv(great_out,sep=\"\\t\",comment=\"#\",\n",
    "                    names=[\"ontologie\",\"term_name\",\"ID\",\"binom_p_value\",\"binom_bonferroni\",\"binom_fdr\",\"hyper_p_value\",\"hyper_bonferroni\",\"hyper_fdr\"],index_col=False,\n",
    "                    dtype={\"term_name\":\"object\", \"ID\":\"object\",\"binom_p_value\":\"float64\", \"binom_bonferroni\":\"float64\", \"binom_fdr\":\"float64\", \"hyper_p_value\":\"float64\", \"hyper_bonferroni\":\"float64\", \"hyper_fdr\":\"float64\"})\n",
    "great_webserver.rename(columns={\"ID\":\"id\"},inplace=True)\n",
    "del great_webserver[\"ontologie\"]\n",
    "del great_webserver[\"term_name\"]"
   ]
  },
  {
   "cell_type": "code",
   "execution_count": 6,
   "metadata": {},
   "outputs": [
    {
     "data": {
      "text/html": [
       "<div>\n",
       "<style scoped>\n",
       "    .dataframe tbody tr th:only-of-type {\n",
       "        vertical-align: middle;\n",
       "    }\n",
       "\n",
       "    .dataframe tbody tr th {\n",
       "        vertical-align: top;\n",
       "    }\n",
       "\n",
       "    .dataframe thead th {\n",
       "        text-align: right;\n",
       "    }\n",
       "</style>\n",
       "<table border=\"1\" class=\"dataframe\">\n",
       "  <thead>\n",
       "    <tr style=\"text-align: right;\">\n",
       "      <th></th>\n",
       "      <th>id</th>\n",
       "      <th>binom_p_value</th>\n",
       "      <th>binom_bonferroni</th>\n",
       "      <th>binom_fdr</th>\n",
       "      <th>hyper_p_value</th>\n",
       "      <th>hyper_bonferroni</th>\n",
       "      <th>hyper_fdr</th>\n",
       "    </tr>\n",
       "  </thead>\n",
       "  <tbody>\n",
       "    <tr>\n",
       "      <th>0</th>\n",
       "      <td>GO:1902679</td>\n",
       "      <td>5.95293e-35</td>\n",
       "      <td>7.83346e-31</td>\n",
       "      <td>7.83346e-31</td>\n",
       "      <td>1.74096e-10</td>\n",
       "      <td>2.29092e-06</td>\n",
       "      <td>3.81820e-07</td>\n",
       "    </tr>\n",
       "    <tr>\n",
       "      <th>1</th>\n",
       "      <td>GO:0051253</td>\n",
       "      <td>1.22290e-34</td>\n",
       "      <td>1.60922e-30</td>\n",
       "      <td>8.04608e-31</td>\n",
       "      <td>1.58782e-10</td>\n",
       "      <td>2.08941e-06</td>\n",
       "      <td>4.17881e-07</td>\n",
       "    </tr>\n",
       "    <tr>\n",
       "      <th>2</th>\n",
       "      <td>GO:0010629</td>\n",
       "      <td>3.65782e-34</td>\n",
       "      <td>4.81332e-30</td>\n",
       "      <td>1.60444e-30</td>\n",
       "      <td>6.86935e-10</td>\n",
       "      <td>9.03938e-06</td>\n",
       "      <td>5.31728e-07</td>\n",
       "    </tr>\n",
       "    <tr>\n",
       "      <th>3</th>\n",
       "      <td>GO:1903507</td>\n",
       "      <td>4.01223e-33</td>\n",
       "      <td>5.27969e-29</td>\n",
       "      <td>1.31992e-29</td>\n",
       "      <td>6.26392e-10</td>\n",
       "      <td>8.24269e-06</td>\n",
       "      <td>5.15168e-07</td>\n",
       "    </tr>\n",
       "    <tr>\n",
       "      <th>4</th>\n",
       "      <td>GO:0045892</td>\n",
       "      <td>5.36942e-33</td>\n",
       "      <td>7.06562e-29</td>\n",
       "      <td>1.41312e-29</td>\n",
       "      <td>2.05425e-09</td>\n",
       "      <td>2.70319e-05</td>\n",
       "      <td>1.12633e-06</td>\n",
       "    </tr>\n",
       "    <tr>\n",
       "      <th>...</th>\n",
       "      <td>...</td>\n",
       "      <td>...</td>\n",
       "      <td>...</td>\n",
       "      <td>...</td>\n",
       "      <td>...</td>\n",
       "      <td>...</td>\n",
       "      <td>...</td>\n",
       "    </tr>\n",
       "    <tr>\n",
       "      <th>415</th>\n",
       "      <td>GO:0031870</td>\n",
       "      <td>3.22470e-02</td>\n",
       "      <td>1.00000e+00</td>\n",
       "      <td>6.80734e-01</td>\n",
       "      <td>2.64153e-02</td>\n",
       "      <td>1.00000e+00</td>\n",
       "      <td>1.00000e+00</td>\n",
       "    </tr>\n",
       "    <tr>\n",
       "      <th>416</th>\n",
       "      <td>GO:0005227</td>\n",
       "      <td>3.57420e-02</td>\n",
       "      <td>1.00000e+00</td>\n",
       "      <td>7.39720e-01</td>\n",
       "      <td>4.38950e-02</td>\n",
       "      <td>1.00000e+00</td>\n",
       "      <td>1.00000e+00</td>\n",
       "    </tr>\n",
       "    <tr>\n",
       "      <th>417</th>\n",
       "      <td>GO:0032051</td>\n",
       "      <td>3.91432e-02</td>\n",
       "      <td>1.00000e+00</td>\n",
       "      <td>7.94531e-01</td>\n",
       "      <td>1.33912e-02</td>\n",
       "      <td>1.00000e+00</td>\n",
       "      <td>9.58265e-01</td>\n",
       "    </tr>\n",
       "    <tr>\n",
       "      <th>418</th>\n",
       "      <td>GO:0008609</td>\n",
       "      <td>4.50157e-02</td>\n",
       "      <td>1.00000e+00</td>\n",
       "      <td>8.67836e-01</td>\n",
       "      <td>2.64153e-02</td>\n",
       "      <td>1.00000e+00</td>\n",
       "      <td>1.00000e+00</td>\n",
       "    </tr>\n",
       "    <tr>\n",
       "      <th>419</th>\n",
       "      <td>GO:0017045</td>\n",
       "      <td>4.72367e-02</td>\n",
       "      <td>1.00000e+00</td>\n",
       "      <td>8.90327e-01</td>\n",
       "      <td>2.64153e-02</td>\n",
       "      <td>1.00000e+00</td>\n",
       "      <td>1.00000e+00</td>\n",
       "    </tr>\n",
       "  </tbody>\n",
       "</table>\n",
       "<p>420 rows × 7 columns</p>\n",
       "</div>"
      ],
      "text/plain": [
       "             id  binom_p_value  binom_bonferroni    binom_fdr  hyper_p_value  \\\n",
       "0    GO:1902679    5.95293e-35       7.83346e-31  7.83346e-31    1.74096e-10   \n",
       "1    GO:0051253    1.22290e-34       1.60922e-30  8.04608e-31    1.58782e-10   \n",
       "2    GO:0010629    3.65782e-34       4.81332e-30  1.60444e-30    6.86935e-10   \n",
       "3    GO:1903507    4.01223e-33       5.27969e-29  1.31992e-29    6.26392e-10   \n",
       "4    GO:0045892    5.36942e-33       7.06562e-29  1.41312e-29    2.05425e-09   \n",
       "..          ...            ...               ...          ...            ...   \n",
       "415  GO:0031870    3.22470e-02       1.00000e+00  6.80734e-01    2.64153e-02   \n",
       "416  GO:0005227    3.57420e-02       1.00000e+00  7.39720e-01    4.38950e-02   \n",
       "417  GO:0032051    3.91432e-02       1.00000e+00  7.94531e-01    1.33912e-02   \n",
       "418  GO:0008609    4.50157e-02       1.00000e+00  8.67836e-01    2.64153e-02   \n",
       "419  GO:0017045    4.72367e-02       1.00000e+00  8.90327e-01    2.64153e-02   \n",
       "\n",
       "     hyper_bonferroni    hyper_fdr  \n",
       "0         2.29092e-06  3.81820e-07  \n",
       "1         2.08941e-06  4.17881e-07  \n",
       "2         9.03938e-06  5.31728e-07  \n",
       "3         8.24269e-06  5.15168e-07  \n",
       "4         2.70319e-05  1.12633e-06  \n",
       "..                ...          ...  \n",
       "415       1.00000e+00  1.00000e+00  \n",
       "416       1.00000e+00  1.00000e+00  \n",
       "417       1.00000e+00  9.58265e-01  \n",
       "418       1.00000e+00  1.00000e+00  \n",
       "419       1.00000e+00  1.00000e+00  \n",
       "\n",
       "[420 rows x 7 columns]"
      ]
     },
     "execution_count": 6,
     "metadata": {},
     "output_type": "execute_result"
    }
   ],
   "source": [
    "great_webserver"
   ]
  },
  {
   "cell_type": "markdown",
   "metadata": {},
   "source": [
    "### II.2 Compare the results between greatpy and great "
   ]
  },
  {
   "cell_type": "markdown",
   "metadata": {},
   "source": [
    "#### II.2.1 Preprocessing"
   ]
  },
  {
   "cell_type": "code",
   "execution_count": 7,
   "metadata": {},
   "outputs": [],
   "source": [
    "before_pp = enrichment_tot.shape[0]\n",
    "enrichment_tot = enrichment_tot[enrichment_tot.index.isin(list(great_webserver[\"id\"]))]\n",
    "after_pp = enrichment_tot.shape[0]"
   ]
  },
  {
   "cell_type": "code",
   "execution_count": 8,
   "metadata": {},
   "outputs": [],
   "source": [
    "great_webserver = great_webserver[great_webserver[\"id\"].isin(list(enrichment_tot.index))]\n",
    "great_webserver = great_webserver.sort_values(\"id\")"
   ]
  },
  {
   "cell_type": "code",
   "execution_count": 9,
   "metadata": {},
   "outputs": [],
   "source": [
    "binom_greatpy = hyper_greatpy = binom_great = hyper_great = []\n",
    "for i in range(enrichment_tot.shape[0]) : \n",
    "    go_id = list(enrichment_tot.index)[i]\n",
    "    curr_enrichment = enrichment_tot.iloc[i]\n",
    "    curr_great_webserver = great_webserver.loc[great_webserver[\"id\"]==go_id]\n",
    "    binom_greatpy.append(float(curr_enrichment[\"binom_p_value\"]))\n",
    "    hyper_greatpy.append(float(curr_enrichment[\"hypergeom_p_value\"]))\n",
    "    binom_great.append(float(curr_great_webserver[\"binom_p_value\"]))\n",
    "    hyper_great.append(float(curr_great_webserver[\"hyper_p_value\"]))\n",
    "binom = pd.DataFrame({\"binom_greatpy\":binom_greatpy,\"binom_great\":binom_great})\n",
    "hyper = pd.DataFrame({\"hyper_greatpy\":hyper_greatpy,\"hyper_great\":hyper_great})"
   ]
  },
  {
   "cell_type": "markdown",
   "metadata": {},
   "source": [
    "#### II.2.b Graphical"
   ]
  },
  {
   "cell_type": "code",
   "execution_count": 10,
   "metadata": {},
   "outputs": [
    {
     "data": {
      "image/png": "[encoded data removed]",
      "text/plain": [
       "<Figure size 432x288 with 1 Axes>"
      ]
     },
     "metadata": {
      "needs_background": "light"
     },
     "output_type": "display_data"
    }
   ],
   "source": [
    "pl=great.pl.scatterplot(binom,colname_x=\"binom_greatpy\",colname_y=\"binom_great\")"
   ]
  },
  {
   "cell_type": "code",
   "execution_count": 11,
   "metadata": {},
   "outputs": [
    {
     "data": {
      "image/png": "[encoded data removed]",
      "text/plain": [
       "<Figure size 432x288 with 1 Axes>"
      ]
     },
     "metadata": {
      "needs_background": "light"
     },
     "output_type": "display_data"
    }
   ],
   "source": [
    "great.pl.scatterplot(hyper,colname_x=\"hyper_greatpy\",colname_y=\"hyper_great\")"
   ]
  },
  {
   "cell_type": "markdown",
   "metadata": {},
   "source": [
    "#### II.2.c Statistics"
   ]
  },
  {
   "cell_type": "code",
   "execution_count": 12,
   "metadata": {},
   "outputs": [],
   "source": [
    "def stat(binom_great_list_list, hyper_great_listpy_list,binom_great_list,hyper_great_list) : \n",
    "    if len(binom_great_list_list) >= 2 and len(hyper_great_listpy_list) >= 2 and len(binom_great_list) >= 2  and len(hyper_great_list) >= 2 : \n",
    "        return pd.DataFrame({\n",
    "            \"binom\": [cov(m = binom_great_list_list, y = binom_great_list)[0][1],pearsonr(binom_great_list_list,binom_great_list)[0]],\n",
    "            \"hyper\":[cov(m = hyper_great_listpy_list, y = hyper_great_list)[0][1],pearsonr(hyper_great_listpy_list,hyper_great_list)[0]]},\n",
    "            index=[\"correlation_coefficient\",\"pearson\"])\n",
    "    return False"
   ]
  },
  {
   "cell_type": "markdown",
   "metadata": {},
   "source": [
    "Issue is : NaN in hyper_fdr"
   ]
  },
  {
   "cell_type": "code",
   "execution_count": 13,
   "metadata": {},
   "outputs": [],
   "source": [
    "# stat(binom_greatpy, hyper_greatpy,binom_great,hyper_great)"
   ]
  },
  {
   "cell_type": "code",
   "execution_count": 14,
   "metadata": {},
   "outputs": [
    {
     "name": "stdout",
     "output_type": "stream",
     "text": [
      "2901\n",
      "263\n"
     ]
    }
   ],
   "source": [
    "print(before_pp)\n",
    "print(after_pp)"
   ]
  },
  {
   "cell_type": "markdown",
   "metadata": {},
   "source": [
    "We went from 2901 ontology terms in greatpy output to 263 ontology terms by selecting the GO identifiers present in both greatpy and great "
   ]
  },
  {
   "cell_type": "markdown",
   "metadata": {},
   "source": [
    "But when two ontology terms are selected they have the same binomial and hypergeometric probability value "
   ]
  },
  {
   "cell_type": "markdown",
   "metadata": {},
   "source": [
    "# How many associations are good or bad "
   ]
  },
  {
   "cell_type": "code",
   "execution_count": 15,
   "metadata": {},
   "outputs": [
    {
     "name": "stdout",
     "output_type": "stream",
     "text": [
      "Number of gene association present in greatpy and great : 240\n",
      "Number of gene association prensent in great and not in greatpy 62\n",
      "Number of gene association prensent in greatpy and not in great 330\n"
     ]
    }
   ],
   "source": [
    "gene_asso_great = pd.read_csv(great_asso,sep=\"\\t\",comment=\"#\",names=[\"ontologies\",\"gene\"],index_col=False, dtype={\"ontologies\":\"object\",\"gene\":\"object\"},usecols=[\"gene\"])\n",
    "gene_asso_greatpy = great.tl.get_association(\n",
    "    test = pd.read_csv(test,sep=\"\\t\",comment=\"#\",usecols=[0,1,2],names=[\"Chr\", \"Chr_Start\", \"Chr_End\"],dtype={\"Chr\":\"object\", \"Chr_Start\":\"int64\", \"Chr_End\":\"int64\"}),\n",
    "    regdom= pd.read_csv(regdom,sep=\"\\t\",comment=\"#\",names=[\"Chr\", \"Chr_Start\", \"Chr_End\",\"Name\",\"tss\",\"Strand\"],dtype={\"Chr\":\"object\", \"Chr_Start\":\"int64\", \"Chr_End\":\"int64\",\"Name\":\"object\",\"tss\":\"int64\",\"Strand\":\"object\"}))\n",
    "in_in = gene_asso_great[gene_asso_great[\"gene\"].isin(gene_asso_greatpy)].shape[0]\n",
    "in_out = [i for i in list(gene_asso_great[\"gene\"]) if i not in gene_asso_greatpy]\n",
    "out_in = [i for i in gene_asso_greatpy if i not in list(gene_asso_great[\"gene\"])]\n",
    "\n",
    "print(f\"Number of gene association present in greatpy and great : {in_in}\")\n",
    "print(f\"Number of gene association prensent in great and not in greatpy {len(in_out)}\")\n",
    "print(f\"Number of gene association prensent in greatpy and not in great {len(out_in)}\")"
   ]
  }
 ],
 "metadata": {
  "kernelspec": {
   "display_name": "Python 3.9.12 ('base')",
   "language": "python",
   "name": "python3"
  },
  "language_info": {
   "codemirror_mode": {
    "name": "ipython",
    "version": 3
   },
   "file_extension": ".py",
   "mimetype": "text/x-python",
   "name": "python",
   "nbconvert_exporter": "python",
   "pygments_lexer": "ipython3",
   "version": "3.9.12"
  },
  "orig_nbformat": 4,
  "vscode": {
   "interpreter": {
    "hash": "dd3aa23b046397ccf7f1ffb7cb82646c26b15f0b12555a0fca8fb427d9fb147f"
   }
  }
 },
 "nbformat": 4,
 "nbformat_minor": 2
}
