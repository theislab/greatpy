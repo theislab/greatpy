{
 "cells": [
  {
   "cell_type": "markdown",
   "metadata": {},
   "source": [
    "# Computation of annotation enrichment in a genetic set "
   ]
  },
  {
   "cell_type": "markdown",
   "metadata": {},
   "source": [
    "This code excerpt shows how to use the annotation enrichment computation function in a genetic set.\n",
    "The funciton return a dataframe of binom and hypergeometric p-value (<= 0.05) and for each p-value a fdr correction with alpha = 0.05.   "
   ]
  },
  {
   "cell_type": "markdown",
   "metadata": {},
   "source": [
    "In the second part of the code we will compare the results obtained with the Great webserver and between the binomial and hypergeometric probability"
   ]
  },
  {
   "cell_type": "code",
   "execution_count": 1,
   "metadata": {},
   "outputs": [],
   "source": [
    "%load_ext autoreload\n",
    "%autoreload 2"
   ]
  },
  {
   "cell_type": "code",
   "execution_count": 2,
   "metadata": {},
   "outputs": [],
   "source": [
    "import greatpy as great\n",
    "import pandas as pd\n",
    "from math import inf\n",
    "from numpy import log,nan, int64,cov,corrcoef\n",
    "from scipy.stats import pearsonr\n",
    "import os \n",
    "import re\n",
    "\n",
    "import warnings\n",
    "warnings.filterwarnings('ignore')"
   ]
  },
  {
   "cell_type": "code",
   "execution_count": 3,
   "metadata": {},
   "outputs": [
    {
     "name": "stdout",
     "output_type": "stream",
     "text": [
      "random finished, still 9 more files to calculate\n"
     ]
    }
   ],
   "source": [
    "import os \n",
    "import re\n",
    "def all_comparison(scatterplot=False): \n",
    "    pp = {\n",
    "        \"name\":[],\n",
    "        \"before_pp_greatpy_size\":[], \n",
    "        \"before_pp_great_size\":[],\n",
    "        \"after_pp_greatpy_size\":[],\n",
    "        \"after_pp_great_size\":[],\n",
    "    }\n",
    "    asso = {\n",
    "        \"name\":[],\n",
    "        \"Number of gene association present in greatpy and great\":[],\n",
    "        \"Number of gene association present in great and not in greatpy\":[],\n",
    "        \"Number of gene association present in greatpy and not in great\":[],\n",
    "\n",
    "    }\n",
    "\n",
    "    nb = len(os.listdir(\"../../data/tests/test_data/input/\"))\n",
    "    for path in os.listdir(\"../../data/tests/test_data/input/\") : \n",
    "        sp = path.split(\".\")\n",
    "        id = sp[0][:2]\n",
    "        name = sp[0][3:]\n",
    "        pp[\"name\"].append(name)\n",
    "        i = 0\n",
    "        great_out = \"\"\n",
    "        great_asso = \"\"\n",
    "\n",
    "        for out_path in os.listdir(\"../../data/tests/test_data/output/\") :\n",
    "            if out_path.split(\"_\")[0] == id : \n",
    "                if re.match(\".*hg38.*\",out_path) != None : \n",
    "                    assembly = \"hg38\"\n",
    "                else : \n",
    "                    assembly = \"hg19\"\n",
    "                \n",
    "                if re.match(\".*output.*\",out_path) != None : \n",
    "                    great_out = \"../../data/tests/test_data/output/\" + out_path\n",
    "                else : \n",
    "                    great_asso = \"../../data/tests/test_data/output/\" + out_path \n",
    "\n",
    "        test = \"../../data/tests/test_data/input/\" + path \n",
    "        regdom = f\"../../data/human/{assembly}/regulatory_domain.bed\"\n",
    "        size = f\"../../data/human/{assembly}/chr_size.bed\"\n",
    "\n",
    "        if great_out == \"\" or great_asso == \"\" : \n",
    "            return False\n",
    "        \n",
    "        enrichment_tot = great.tl.GREAT.enrichment(test_file=test,\n",
    "                                                    regdom_file=regdom,\n",
    "                                                    chr_size_file=size,\n",
    "                                                    annotation_file=f\"../../data/human/ontologies.csv\",\n",
    "                                                    binom=True,\n",
    "                                                    hypergeom=True,\n",
    "                                                    )\n",
    "        enrichment_tot = great.tl.GREAT.set_bonferroni(enrichment_tot,0.05)\n",
    "        enrichment_tot = great.tl.GREAT.set_fdr(enrichment_tot,0.05)\n",
    "            \n",
    "        great_webserver = pd.read_csv(great_out,sep=\"\\t\",comment=\"#\",\n",
    "                                    names=[\"ontologie\",\"term_name\",\"ID\",\"binom_p_value\",\"binom_bonferroni\",\"binom_fdr\",\"hyper_p_value\",\"hyper_bonferroni\",\"hyper_fdr\"],index_col=False,\n",
    "                                    dtype={\"term_name\":\"object\", \"ID\":\"object\",\"binom_p_value\":\"float64\", \"binom_bonferroni\":\"float64\", \"binom_fdr\":\"float64\", \"hyper_p_value\":\"float64\", \"hyper_bonferroni\":\"float64\", \"hyper_fdr\":\"float64\"})\n",
    "        great_webserver.rename(columns={\"ID\":\"id\"},inplace=True)\n",
    "        del great_webserver[\"ontologie\"]\n",
    "        del great_webserver[\"term_name\"]\n",
    "        \n",
    "        pp[\"before_pp_greatpy_size\"].append(enrichment_tot.shape[0])\n",
    "        enrichment_tot = enrichment_tot[enrichment_tot.index.isin(list(great_webserver[\"id\"]))]\n",
    "        pp[\"after_pp_greatpy_size\"].append(enrichment_tot.shape[0])\n",
    "\n",
    "        pp[\"before_pp_great_size\"].append(great_webserver.shape[0])\n",
    "        great_webserver = great_webserver[great_webserver[\"id\"].isin(list(enrichment_tot.index))]\n",
    "        pp[\"after_pp_great_size\"].append(great_webserver.shape[0])\n",
    "\n",
    "        great_webserver = great_webserver.sort_values(\"id\")\n",
    "        binom_greatpy = hyper_greatpy = binom_great = hyper_great = []\n",
    "        for i in range(enrichment_tot.shape[0]) : \n",
    "            go_id = list(enrichment_tot.index)[i]\n",
    "            curr_enrichment = enrichment_tot.iloc[i]\n",
    "            curr_great_webserver = great_webserver.loc[great_webserver[\"id\"]==go_id]\n",
    "            binom_greatpy.append(float(curr_enrichment[\"binom_p_value\"]))\n",
    "            hyper_greatpy.append(float(curr_enrichment[\"hypergeom_p_value\"]))\n",
    "            binom_great.append(float(curr_great_webserver[\"binom_p_value\"]))\n",
    "            hyper_great.append(float(curr_great_webserver[\"hyper_p_value\"]))\n",
    "        binom = pd.DataFrame({\"binom_greatpy\":binom_greatpy,\"binom_great\":binom_great})\n",
    "        hyper = pd.DataFrame({\"hyper_greatpy\":hyper_greatpy,\"hyper_great\":hyper_great})\n",
    "\n",
    "        if scatterplot : \n",
    "            great.pl.scatterplot(binom,colname_x=\"binom_greatpy\",colname_y=\"binom_great\",title=f\"binom comparison for {name}\")\n",
    "            great.pl.scatterplot(hyper,colname_x=\"hyper_greatpy\",colname_y=\"hyper_great\",title=f\"hypergeom comparison for {name}\")\n",
    "        \n",
    "        gene_asso_great = pd.read_csv(great_asso,sep=\"\\t\",comment=\"#\",names=[\"ontologies\",\"gene\"],index_col=False, dtype={\"ontologies\":\"object\",\"gene\":\"object\"},usecols=[\"gene\"])\n",
    "        gene_asso_greatpy = great.tl.get_association(\n",
    "            test = pd.read_csv(test,sep=\"\\t\",comment=\"#\",usecols=[0,1,2],names=[\"Chr\", \"Chr_Start\", \"Chr_End\"],dtype={\"Chr\":\"object\", \"Chr_Start\":\"int64\", \"Chr_End\":\"int64\"}),\n",
    "            regdom= pd.read_csv(regdom,sep=\"\\t\",comment=\"#\",names=[\"Chr\", \"Chr_Start\", \"Chr_End\",\"Name\",\"tss\",\"Strand\"],dtype={\"Chr\":\"object\", \"Chr_Start\":\"int64\", \"Chr_End\":\"int64\",\"Name\":\"object\",\"tss\":\"int64\",\"Strand\":\"object\"}))\n",
    "        in_in = gene_asso_great[gene_asso_great[\"gene\"].isin(gene_asso_greatpy)].shape[0]\n",
    "        in_out = [i for i in list(gene_asso_great[\"gene\"]) if i not in gene_asso_greatpy]\n",
    "        out_in = [i for i in gene_asso_greatpy if i not in list(gene_asso_great[\"gene\"])]\n",
    "\n",
    "        asso[\"name\"].append(name)\n",
    "        asso[\"Number of gene association present in greatpy and great\"].append(str(in_in))\n",
    "        asso[\"Number of gene association present in great and not in greatpy\"].append(str(len(in_out)))\n",
    "        asso[\"Number of gene association present in greatpy and not in great\"].append(str(len(out_in)))  \n",
    "\n",
    "        n = len(asso[\"name\"])\n",
    "        print(f\"{name} finished, still {nb-n} more files to calculate\") \n",
    "        enrichment_tot = pd.DataFrame()\n",
    "\n",
    "    return pd.DataFrame(pp),pd.DataFrame(asso)\n",
    "\n",
    "a,b = all_comparison(scatterplot=False)"
   ]
  },
  {
   "cell_type": "code",
   "execution_count": null,
   "metadata": {},
   "outputs": [
    {
     "data": {
      "text/html": [
       "<div>\n",
       "<style scoped>\n",
       "    .dataframe tbody tr th:only-of-type {\n",
       "        vertical-align: middle;\n",
       "    }\n",
       "\n",
       "    .dataframe tbody tr th {\n",
       "        vertical-align: top;\n",
       "    }\n",
       "\n",
       "    .dataframe thead th {\n",
       "        text-align: right;\n",
       "    }\n",
       "</style>\n",
       "<table border=\"1\" class=\"dataframe\">\n",
       "  <thead>\n",
       "    <tr style=\"text-align: right;\">\n",
       "      <th></th>\n",
       "      <th>name</th>\n",
       "      <th>before_pp_greatpy_size</th>\n",
       "      <th>before_pp_great_size</th>\n",
       "      <th>after_pp_greatpy_size</th>\n",
       "      <th>after_pp_great_size</th>\n",
       "    </tr>\n",
       "  </thead>\n",
       "  <tbody>\n",
       "    <tr>\n",
       "      <th>0</th>\n",
       "      <td>random</td>\n",
       "      <td>594</td>\n",
       "      <td>197</td>\n",
       "      <td>108</td>\n",
       "      <td>108</td>\n",
       "    </tr>\n",
       "  </tbody>\n",
       "</table>\n",
       "</div>"
      ],
      "text/plain": [
       "     name  before_pp_greatpy_size  before_pp_great_size  \\\n",
       "0  random                     594                   197   \n",
       "\n",
       "   after_pp_greatpy_size  after_pp_great_size  \n",
       "0                    108                  108  "
      ]
     },
     "execution_count": 7,
     "metadata": {},
     "output_type": "execute_result"
    }
   ],
   "source": [
    "a"
   ]
  },
  {
   "cell_type": "code",
   "execution_count": null,
   "metadata": {},
   "outputs": [
    {
     "data": {
      "text/html": [
       "<div>\n",
       "<style scoped>\n",
       "    .dataframe tbody tr th:only-of-type {\n",
       "        vertical-align: middle;\n",
       "    }\n",
       "\n",
       "    .dataframe tbody tr th {\n",
       "        vertical-align: top;\n",
       "    }\n",
       "\n",
       "    .dataframe thead th {\n",
       "        text-align: right;\n",
       "    }\n",
       "</style>\n",
       "<table border=\"1\" class=\"dataframe\">\n",
       "  <thead>\n",
       "    <tr style=\"text-align: right;\">\n",
       "      <th></th>\n",
       "      <th>name</th>\n",
       "      <th>Number of gene association present in greatpy and great, rate</th>\n",
       "      <th>Number of gene association present in great and not in greatpy, rate</th>\n",
       "      <th>Number of gene association present in greatpy and not in great, rate</th>\n",
       "    </tr>\n",
       "  </thead>\n",
       "  <tbody>\n",
       "    <tr>\n",
       "      <th>0</th>\n",
       "      <td>random</td>\n",
       "      <td>49,0.8596491228070176</td>\n",
       "      <td>8,0.14035087719298245</td>\n",
       "      <td>19,0.27941176470588236</td>\n",
       "    </tr>\n",
       "  </tbody>\n",
       "</table>\n",
       "</div>"
      ],
      "text/plain": [
       "     name Number of gene association present in greatpy and great, rate  \\\n",
       "0  random                              49,0.8596491228070176              \n",
       "\n",
       "  Number of gene association present in great and not in greatpy, rate  \\\n",
       "0                              8,0.14035087719298245                     \n",
       "\n",
       "  Number of gene association present in greatpy and not in great, rate  \n",
       "0                             19,0.27941176470588236                    "
      ]
     },
     "execution_count": 8,
     "metadata": {},
     "output_type": "execute_result"
    }
   ],
   "source": [
    "b"
   ]
  }
 ],
 "metadata": {
  "kernelspec": {
   "display_name": "Python 3.9.12 ('base')",
   "language": "python",
   "name": "python3"
  },
  "language_info": {
   "codemirror_mode": {
    "name": "ipython",
    "version": 3
   },
   "file_extension": ".py",
   "mimetype": "text/x-python",
   "name": "python",
   "nbconvert_exporter": "python",
   "pygments_lexer": "ipython3",
   "version": "3.9.12"
  },
  "orig_nbformat": 4,
  "vscode": {
   "interpreter": {
    "hash": "dd3aa23b046397ccf7f1ffb7cb82646c26b15f0b12555a0fca8fb427d9fb147f"
   }
  }
 },
 "nbformat": 4,
 "nbformat_minor": 2
}
