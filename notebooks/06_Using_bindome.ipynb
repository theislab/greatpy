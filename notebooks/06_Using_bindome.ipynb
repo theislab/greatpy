{
 "cells": [
  {
   "cell_type": "code",
   "execution_count": 1,
   "metadata": {},
   "outputs": [],
   "source": [
    "%load_ext autoreload\n",
    "%autoreload 2"
   ]
  },
  {
   "cell_type": "code",
   "execution_count": 2,
   "metadata": {},
   "outputs": [],
   "source": [
    "import greatpy as great\n",
    "import bindome as bd"
   ]
  },
  {
   "cell_type": "code",
   "execution_count": 3,
   "metadata": {},
   "outputs": [
    {
     "name": "stdout",
     "output_type": "stream",
     "text": [
      "please include this data directory to run loading of peaks successfully\n",
      "ZNF257 path cannot be found. Please check name or REMAP database\n"
     ]
    }
   ],
   "source": [
    "def test(annpath):\n",
    "    bd.constants.ANNOTATIONS_DIRECTORY = annpath\n",
    "    df1 = bd.bindome.datasets.REMAP2020.get_remap_peaks('ZNF257')\n",
    "    return df1\n",
    "test('/storage/groups/ml01/datasets/annotations/remap')"
   ]
  },
  {
   "cell_type": "markdown",
   "metadata": {},
   "source": [
    "annpath should be '/storage/groups/ml01/datasets/annotations' bit I haven't access to data servers"
   ]
  }
 ],
 "metadata": {
  "kernelspec": {
   "display_name": "Python 3.8.10 64-bit",
   "language": "python",
   "name": "python3"
  },
  "language_info": {
   "codemirror_mode": {
    "name": "ipython",
    "version": 3
   },
   "file_extension": ".py",
   "mimetype": "text/x-python",
   "name": "python",
   "nbconvert_exporter": "python",
   "pygments_lexer": "ipython3",
   "version": "3.8.10"
  },
  "orig_nbformat": 4,
  "vscode": {
   "interpreter": {
    "hash": "31f2aee4e71d21fbe5cf8b01ff0e069b9275f58929596ceb00d14d90e3e16cd6"
   }
  }
 },
 "nbformat": 4,
 "nbformat_minor": 2
}
