{
 "cells": [
  {
   "cell_type": "markdown",
   "metadata": {},
   "source": [
    "# Comparaison between great output and gprofiler output"
   ]
  },
  {
   "cell_type": "markdown",
   "metadata": {},
   "source": [
    "This notebook is intended to compare the results obtained with the enrichment function of greatpy with those obtained with the gprofiler package. "
   ]
  },
  {
   "cell_type": "code",
   "execution_count": 1,
   "metadata": {},
   "outputs": [],
   "source": [
    "%load_ext autoreload\n",
    "%autoreload 2"
   ]
  },
  {
   "cell_type": "code",
   "execution_count": 11,
   "metadata": {},
   "outputs": [],
   "source": [
    "import greatpy as great\n",
    "from gprofiler import GProfiler\n",
    "import pandas as pd\n",
    "from numpy import nan"
   ]
  },
  {
   "cell_type": "markdown",
   "metadata": {},
   "source": [
    "## Compute the resultats "
   ]
  },
  {
   "cell_type": "markdown",
   "metadata": {},
   "source": [
    "### with great"
   ]
  },
  {
   "cell_type": "code",
   "execution_count": 5,
   "metadata": {},
   "outputs": [
    {
     "name": "stderr",
     "output_type": "stream",
     "text": [
      "c:\\Users\\Tom\\anaconda3\\lib\\site-packages\\statsmodels\\stats\\multitest.py:339: RuntimeWarning: invalid value encountered in less_equal\n",
      "  reject = pvals_sorted <= ecdffactor*alpha\n",
      "c:\\Users\\Tom\\anaconda3\\lib\\site-packages\\statsmodels\\stats\\multitest.py:347: RuntimeWarning: invalid value encountered in greater\n",
      "  pvals_corrected[pvals_corrected>1] = 1\n",
      "c:\\Users\\Tom\\anaconda3\\lib\\site-packages\\statsmodels\\stats\\multitest.py:150: RuntimeWarning: invalid value encountered in less_equal\n",
      "  reject = pvals <= alphacBonf\n",
      "c:\\Users\\Tom\\anaconda3\\lib\\site-packages\\statsmodels\\stats\\multitest.py:257: RuntimeWarning: invalid value encountered in greater\n",
      "  pvals_corrected[pvals_corrected>1] = 1\n"
     ]
    }
   ],
   "source": [
    "enrichment_fdr = great.tl.enrichment(\n",
    "    test=\"../data/human/test_genomic_region.bed\",\n",
    "    regdom_file=\"../data/human/regulatory_domain.bed\",\n",
    "    chr_size_file=\"../data/human/chr_size.bed\",\n",
    "    annotation=\"../data/human/ontologies.csv\",\n",
    "    binom=True,\n",
    "    hypergeom=True,\n",
    "    alpha=0.05,\n",
    "    correction=(\"fdr\",0.05),\n",
    "    sort_by=\"binom_fdr_correction\",\n",
    "    )\n",
    "\n",
    "enrichment_bonferroni = great.tl.enrichment(\n",
    "    test=\"../data/human/test_genomic_region.bed\",\n",
    "    regdom_file=\"../data/human/regulatory_domain.bed\",\n",
    "    chr_size_file=\"../data/human/chr_size.bed\",\n",
    "    annotation=\"../data/human/ontologies.csv\",\n",
    "    binom=True,\n",
    "    hypergeom=True,\n",
    "    alpha=0.05,\n",
    "    correction=(\"bonferroni\",0.05),\n",
    "    sort_by=\"binom_bonferroni_correction\",\n",
    "    )"
   ]
  },
  {
   "cell_type": "code",
   "execution_count": 4,
   "metadata": {},
   "outputs": [
    {
     "data": {
      "text/html": [
       "<div>\n",
       "<style scoped>\n",
       "    .dataframe tbody tr th:only-of-type {\n",
       "        vertical-align: middle;\n",
       "    }\n",
       "\n",
       "    .dataframe tbody tr th {\n",
       "        vertical-align: top;\n",
       "    }\n",
       "\n",
       "    .dataframe thead th {\n",
       "        text-align: right;\n",
       "    }\n",
       "</style>\n",
       "<table border=\"1\" class=\"dataframe\">\n",
       "  <thead>\n",
       "    <tr style=\"text-align: right;\">\n",
       "      <th></th>\n",
       "      <th>go_term</th>\n",
       "      <th>binom_p_value</th>\n",
       "      <th>hypergeom_p_value</th>\n",
       "      <th>binom_fdr_correction</th>\n",
       "      <th>hypergeom_fdr_correction</th>\n",
       "    </tr>\n",
       "  </thead>\n",
       "  <tbody>\n",
       "    <tr>\n",
       "      <th>GO:0045887</th>\n",
       "      <td>positive regulation of synaptic growth at neur...</td>\n",
       "      <td>5.17744e-13</td>\n",
       "      <td>2.92750e-03</td>\n",
       "      <td>3.07540e-10</td>\n",
       "      <td>9.64682e-02</td>\n",
       "    </tr>\n",
       "    <tr>\n",
       "      <th>GO:0016561</th>\n",
       "      <td>protein import into peroxisome matrix, translo...</td>\n",
       "      <td>6.31131e-10</td>\n",
       "      <td>5.84656e-03</td>\n",
       "      <td>9.37230e-08</td>\n",
       "      <td>9.64682e-02</td>\n",
       "    </tr>\n",
       "    <tr>\n",
       "      <th>GO:0044721</th>\n",
       "      <td>protein import into peroxisome matrix, substra...</td>\n",
       "      <td>4.83812e-10</td>\n",
       "      <td>2.92750e-03</td>\n",
       "      <td>9.37230e-08</td>\n",
       "      <td>9.64682e-02</td>\n",
       "    </tr>\n",
       "    <tr>\n",
       "      <th>GO:0036250</th>\n",
       "      <td>peroxisome transport along microtubule</td>\n",
       "      <td>4.83812e-10</td>\n",
       "      <td>2.92750e-03</td>\n",
       "      <td>9.37230e-08</td>\n",
       "      <td>9.64682e-02</td>\n",
       "    </tr>\n",
       "    <tr>\n",
       "      <th>GO:0047485</th>\n",
       "      <td>protein N-terminus binding</td>\n",
       "      <td>1.29450e-09</td>\n",
       "      <td>5.03770e-03</td>\n",
       "      <td>1.53786e-07</td>\n",
       "      <td>9.64682e-02</td>\n",
       "    </tr>\n",
       "    <tr>\n",
       "      <th>...</th>\n",
       "      <td>...</td>\n",
       "      <td>...</td>\n",
       "      <td>...</td>\n",
       "      <td>...</td>\n",
       "      <td>...</td>\n",
       "    </tr>\n",
       "    <tr>\n",
       "      <th>GO:0072197</th>\n",
       "      <td>ureter morphogenesis</td>\n",
       "      <td>1.97164e-02</td>\n",
       "      <td>5.84656e-03</td>\n",
       "      <td>4.43620e-02</td>\n",
       "      <td>9.64682e-02</td>\n",
       "    </tr>\n",
       "    <tr>\n",
       "      <th>GO:0061138</th>\n",
       "      <td>morphogenesis of a branching epithelium</td>\n",
       "      <td>2.06973e-02</td>\n",
       "      <td>8.75719e-03</td>\n",
       "      <td>4.63932e-02</td>\n",
       "      <td>1.00034e-01</td>\n",
       "    </tr>\n",
       "    <tr>\n",
       "      <th>GO:0045063</th>\n",
       "      <td>T-helper 1 cell differentiation</td>\n",
       "      <td>2.11867e-02</td>\n",
       "      <td>1.45533e-02</td>\n",
       "      <td>4.71344e-02</td>\n",
       "      <td>1.06496e-01</td>\n",
       "    </tr>\n",
       "    <tr>\n",
       "      <th>GO:0006888</th>\n",
       "      <td>ER to Golgi vesicle-mediated transport</td>\n",
       "      <td>2.11222e-02</td>\n",
       "      <td>5.36764e-01</td>\n",
       "      <td>4.71344e-02</td>\n",
       "      <td>6.10801e-01</td>\n",
       "    </tr>\n",
       "    <tr>\n",
       "      <th>GO:0005518</th>\n",
       "      <td>collagen binding</td>\n",
       "      <td>2.14472e-02</td>\n",
       "      <td>1.95307e-01</td>\n",
       "      <td>4.75360e-02</td>\n",
       "      <td>3.01331e-01</td>\n",
       "    </tr>\n",
       "  </tbody>\n",
       "</table>\n",
       "<p>268 rows × 5 columns</p>\n",
       "</div>"
      ],
      "text/plain": [
       "                                                      go_term binom_p_value  \\\n",
       "GO:0045887  positive regulation of synaptic growth at neur...   5.17744e-13   \n",
       "GO:0016561  protein import into peroxisome matrix, translo...   6.31131e-10   \n",
       "GO:0044721  protein import into peroxisome matrix, substra...   4.83812e-10   \n",
       "GO:0036250             peroxisome transport along microtubule   4.83812e-10   \n",
       "GO:0047485                         protein N-terminus binding   1.29450e-09   \n",
       "...                                                       ...           ...   \n",
       "GO:0072197                               ureter morphogenesis   1.97164e-02   \n",
       "GO:0061138            morphogenesis of a branching epithelium   2.06973e-02   \n",
       "GO:0045063                    T-helper 1 cell differentiation   2.11867e-02   \n",
       "GO:0006888             ER to Golgi vesicle-mediated transport   2.11222e-02   \n",
       "GO:0005518                                   collagen binding   2.14472e-02   \n",
       "\n",
       "           hypergeom_p_value binom_fdr_correction hypergeom_fdr_correction  \n",
       "GO:0045887       2.92750e-03          3.07540e-10              9.64682e-02  \n",
       "GO:0016561       5.84656e-03          9.37230e-08              9.64682e-02  \n",
       "GO:0044721       2.92750e-03          9.37230e-08              9.64682e-02  \n",
       "GO:0036250       2.92750e-03          9.37230e-08              9.64682e-02  \n",
       "GO:0047485       5.03770e-03          1.53786e-07              9.64682e-02  \n",
       "...                      ...                  ...                      ...  \n",
       "GO:0072197       5.84656e-03          4.43620e-02              9.64682e-02  \n",
       "GO:0061138       8.75719e-03          4.63932e-02              1.00034e-01  \n",
       "GO:0045063       1.45533e-02          4.71344e-02              1.06496e-01  \n",
       "GO:0006888       5.36764e-01          4.71344e-02              6.10801e-01  \n",
       "GO:0005518       1.95307e-01          4.75360e-02              3.01331e-01  \n",
       "\n",
       "[268 rows x 5 columns]"
      ]
     },
     "execution_count": 4,
     "metadata": {},
     "output_type": "execute_result"
    }
   ],
   "source": [
    "enrichment_fdr"
   ]
  },
  {
   "cell_type": "code",
   "execution_count": 6,
   "metadata": {},
   "outputs": [
    {
     "data": {
      "text/html": [
       "<div>\n",
       "<style scoped>\n",
       "    .dataframe tbody tr th:only-of-type {\n",
       "        vertical-align: middle;\n",
       "    }\n",
       "\n",
       "    .dataframe tbody tr th {\n",
       "        vertical-align: top;\n",
       "    }\n",
       "\n",
       "    .dataframe thead th {\n",
       "        text-align: right;\n",
       "    }\n",
       "</style>\n",
       "<table border=\"1\" class=\"dataframe\">\n",
       "  <thead>\n",
       "    <tr style=\"text-align: right;\">\n",
       "      <th></th>\n",
       "      <th>go_term</th>\n",
       "      <th>binom_p_value</th>\n",
       "      <th>hypergeom_p_value</th>\n",
       "      <th>binom_bonferroni_correction</th>\n",
       "      <th>hypergeom_bonferroni_correction</th>\n",
       "    </tr>\n",
       "  </thead>\n",
       "  <tbody>\n",
       "    <tr>\n",
       "      <th>GO:0045887</th>\n",
       "      <td>positive regulation of synaptic growth at neur...</td>\n",
       "      <td>5.17744e-13</td>\n",
       "      <td>2.92750e-03</td>\n",
       "      <td>3.07540e-10</td>\n",
       "      <td>1</td>\n",
       "    </tr>\n",
       "    <tr>\n",
       "      <th>GO:0044721</th>\n",
       "      <td>protein import into peroxisome matrix, substra...</td>\n",
       "      <td>4.83812e-10</td>\n",
       "      <td>2.92750e-03</td>\n",
       "      <td>2.87384e-07</td>\n",
       "      <td>1</td>\n",
       "    </tr>\n",
       "    <tr>\n",
       "      <th>GO:0036250</th>\n",
       "      <td>peroxisome transport along microtubule</td>\n",
       "      <td>4.83812e-10</td>\n",
       "      <td>2.92750e-03</td>\n",
       "      <td>2.87384e-07</td>\n",
       "      <td>1</td>\n",
       "    </tr>\n",
       "    <tr>\n",
       "      <th>GO:0016561</th>\n",
       "      <td>protein import into peroxisome matrix, translo...</td>\n",
       "      <td>6.31131e-10</td>\n",
       "      <td>5.84656e-03</td>\n",
       "      <td>3.74892e-07</td>\n",
       "      <td>1</td>\n",
       "    </tr>\n",
       "    <tr>\n",
       "      <th>GO:0047485</th>\n",
       "      <td>protein N-terminus binding</td>\n",
       "      <td>1.29450e-09</td>\n",
       "      <td>5.03770e-03</td>\n",
       "      <td>7.68931e-07</td>\n",
       "      <td>1</td>\n",
       "    </tr>\n",
       "    <tr>\n",
       "      <th>...</th>\n",
       "      <td>...</td>\n",
       "      <td>...</td>\n",
       "      <td>...</td>\n",
       "      <td>...</td>\n",
       "      <td>...</td>\n",
       "    </tr>\n",
       "    <tr>\n",
       "      <th>GO:0003009</th>\n",
       "      <td>skeletal muscle contraction</td>\n",
       "      <td>6.71688e-05</td>\n",
       "      <td>8.42473e-02</td>\n",
       "      <td>3.98983e-02</td>\n",
       "      <td>1</td>\n",
       "    </tr>\n",
       "    <tr>\n",
       "      <th>GO:0080182</th>\n",
       "      <td>histone H3-K4 trimethylation</td>\n",
       "      <td>7.60554e-05</td>\n",
       "      <td>4.58400e-02</td>\n",
       "      <td>4.51769e-02</td>\n",
       "      <td>1</td>\n",
       "    </tr>\n",
       "    <tr>\n",
       "      <th>GO:0005665</th>\n",
       "      <td>RNA polymerase II, core complex</td>\n",
       "      <td>8.17080e-05</td>\n",
       "      <td>3.25784e-03</td>\n",
       "      <td>4.85346e-02</td>\n",
       "      <td>1</td>\n",
       "    </tr>\n",
       "    <tr>\n",
       "      <th>GO:0045765</th>\n",
       "      <td>regulation of angiogenesis</td>\n",
       "      <td>8.26359e-05</td>\n",
       "      <td>8.69316e-02</td>\n",
       "      <td>4.90857e-02</td>\n",
       "      <td>1</td>\n",
       "    </tr>\n",
       "    <tr>\n",
       "      <th>GO:0071158</th>\n",
       "      <td>positive regulation of cell cycle arrest</td>\n",
       "      <td>8.36659e-05</td>\n",
       "      <td>7.88552e-02</td>\n",
       "      <td>4.96975e-02</td>\n",
       "      <td>1</td>\n",
       "    </tr>\n",
       "  </tbody>\n",
       "</table>\n",
       "<p>101 rows × 5 columns</p>\n",
       "</div>"
      ],
      "text/plain": [
       "                                                      go_term binom_p_value  \\\n",
       "GO:0045887  positive regulation of synaptic growth at neur...   5.17744e-13   \n",
       "GO:0044721  protein import into peroxisome matrix, substra...   4.83812e-10   \n",
       "GO:0036250             peroxisome transport along microtubule   4.83812e-10   \n",
       "GO:0016561  protein import into peroxisome matrix, translo...   6.31131e-10   \n",
       "GO:0047485                         protein N-terminus binding   1.29450e-09   \n",
       "...                                                       ...           ...   \n",
       "GO:0003009                        skeletal muscle contraction   6.71688e-05   \n",
       "GO:0080182                       histone H3-K4 trimethylation   7.60554e-05   \n",
       "GO:0005665                    RNA polymerase II, core complex   8.17080e-05   \n",
       "GO:0045765                         regulation of angiogenesis   8.26359e-05   \n",
       "GO:0071158           positive regulation of cell cycle arrest   8.36659e-05   \n",
       "\n",
       "           hypergeom_p_value binom_bonferroni_correction  \\\n",
       "GO:0045887       2.92750e-03                 3.07540e-10   \n",
       "GO:0044721       2.92750e-03                 2.87384e-07   \n",
       "GO:0036250       2.92750e-03                 2.87384e-07   \n",
       "GO:0016561       5.84656e-03                 3.74892e-07   \n",
       "GO:0047485       5.03770e-03                 7.68931e-07   \n",
       "...                      ...                         ...   \n",
       "GO:0003009       8.42473e-02                 3.98983e-02   \n",
       "GO:0080182       4.58400e-02                 4.51769e-02   \n",
       "GO:0005665       3.25784e-03                 4.85346e-02   \n",
       "GO:0045765       8.69316e-02                 4.90857e-02   \n",
       "GO:0071158       7.88552e-02                 4.96975e-02   \n",
       "\n",
       "           hypergeom_bonferroni_correction  \n",
       "GO:0045887                               1  \n",
       "GO:0044721                               1  \n",
       "GO:0036250                               1  \n",
       "GO:0016561                               1  \n",
       "GO:0047485                               1  \n",
       "...                                    ...  \n",
       "GO:0003009                               1  \n",
       "GO:0080182                               1  \n",
       "GO:0005665                               1  \n",
       "GO:0045765                               1  \n",
       "GO:0071158                               1  \n",
       "\n",
       "[101 rows x 5 columns]"
      ]
     },
     "execution_count": 6,
     "metadata": {},
     "output_type": "execute_result"
    }
   ],
   "source": [
    "enrichment_bonferroni"
   ]
  },
  {
   "cell_type": "markdown",
   "metadata": {},
   "source": [
    "### With gprofile"
   ]
  },
  {
   "cell_type": "markdown",
   "metadata": {},
   "source": [
    "#### Preprocessing"
   ]
  },
  {
   "cell_type": "code",
   "execution_count": 7,
   "metadata": {},
   "outputs": [],
   "source": [
    "L = []\n",
    "f = open(\"../data/human/test_genomic_region.bed\")\n",
    "cdc = f.readline()\n",
    "while cdc != \"\": \n",
    "    cdc = cdc.split(\"\\t\")\n",
    "    cdc = \":\".join(cdc)\n",
    "    cdc = cdc.strip()\n",
    "    L.append(cdc[3:])\n",
    "    cdc = f.readline()"
   ]
  },
  {
   "cell_type": "code",
   "execution_count": 8,
   "metadata": {},
   "outputs": [],
   "source": [
    "back = pd.read_csv(\"../data/human/regulatory_domain.bed\",sep=\"\\t\",comment=\"#\",\n",
    "                    names=[\"Chr\", \"Chr_Start\", \"Chr_End\",\"Name\",\"tss\",\"Strand\"],dtype={\"Chr\":\"object\", \"Chr_Start\":\"int64\", \"Chr_End\":\"int64\",\"Name\":\"object\",\"tss\":\"int64\",\"Strand\":\"object\"})\n",
    "back = list(back[\"Name\"])"
   ]
  },
  {
   "cell_type": "markdown",
   "metadata": {},
   "source": [
    "#### Computation"
   ]
  },
  {
   "cell_type": "code",
   "execution_count": 12,
   "metadata": {},
   "outputs": [],
   "source": [
    "gp_no_correct = GProfiler(return_dataframe=True)\n",
    "gp_no_correct = gp_no_correct.profile(organism='hsapiens',\n",
    "            query=L,\n",
    "            all_results=True,\n",
    "            background=back,user_threshold=0.005,\n",
    "            )\n",
    "\n",
    "gp_no_correct = gp_no_correct.loc[(gp_no_correct[\"source\"] == \"GO:MF\")|(gp_no_correct[\"source\"] == \"GO:CC\")|(gp_no_correct[\"source\"] == \"GO:BP\")]"
   ]
  },
  {
   "cell_type": "code",
   "execution_count": 13,
   "metadata": {},
   "outputs": [
    {
     "data": {
      "text/html": [
       "<div>\n",
       "<style scoped>\n",
       "    .dataframe tbody tr th:only-of-type {\n",
       "        vertical-align: middle;\n",
       "    }\n",
       "\n",
       "    .dataframe tbody tr th {\n",
       "        vertical-align: top;\n",
       "    }\n",
       "\n",
       "    .dataframe thead th {\n",
       "        text-align: right;\n",
       "    }\n",
       "</style>\n",
       "<table border=\"1\" class=\"dataframe\">\n",
       "  <thead>\n",
       "    <tr style=\"text-align: right;\">\n",
       "      <th></th>\n",
       "      <th>source</th>\n",
       "      <th>native</th>\n",
       "      <th>name</th>\n",
       "      <th>p_value</th>\n",
       "      <th>significant</th>\n",
       "      <th>description</th>\n",
       "      <th>term_size</th>\n",
       "      <th>query_size</th>\n",
       "      <th>intersection_size</th>\n",
       "      <th>effective_domain_size</th>\n",
       "      <th>precision</th>\n",
       "      <th>recall</th>\n",
       "      <th>query</th>\n",
       "      <th>parents</th>\n",
       "    </tr>\n",
       "  </thead>\n",
       "  <tbody>\n",
       "    <tr>\n",
       "      <th>14</th>\n",
       "      <td>GO:CC</td>\n",
       "      <td>GO:0005801</td>\n",
       "      <td>cis-Golgi network</td>\n",
       "      <td>3.21896e-01</td>\n",
       "      <td>False</td>\n",
       "      <td>\"The network of interconnected tubular and cis...</td>\n",
       "      <td>66</td>\n",
       "      <td>22</td>\n",
       "      <td>2</td>\n",
       "      <td>23017</td>\n",
       "      <td>9.09091e-02</td>\n",
       "      <td>3.03030e-02</td>\n",
       "      <td>query_1</td>\n",
       "      <td>[GO:0005794, GO:0043231]</td>\n",
       "    </tr>\n",
       "    <tr>\n",
       "      <th>16</th>\n",
       "      <td>GO:CC</td>\n",
       "      <td>GO:0034687</td>\n",
       "      <td>integrin alphaL-beta2 complex</td>\n",
       "      <td>3.41207e-01</td>\n",
       "      <td>False</td>\n",
       "      <td>\"An integrin complex that comprises one alphaL...</td>\n",
       "      <td>2</td>\n",
       "      <td>22</td>\n",
       "      <td>1</td>\n",
       "      <td>23017</td>\n",
       "      <td>4.54545e-02</td>\n",
       "      <td>5.00000e-01</td>\n",
       "      <td>query_1</td>\n",
       "      <td>[GO:0008305]</td>\n",
       "    </tr>\n",
       "    <tr>\n",
       "      <th>19</th>\n",
       "      <td>GO:CC</td>\n",
       "      <td>GO:1990429</td>\n",
       "      <td>peroxisomal importomer complex</td>\n",
       "      <td>5.11577e-01</td>\n",
       "      <td>False</td>\n",
       "      <td>\"A protein complex responsible for transportin...</td>\n",
       "      <td>3</td>\n",
       "      <td>22</td>\n",
       "      <td>1</td>\n",
       "      <td>23017</td>\n",
       "      <td>4.54545e-02</td>\n",
       "      <td>3.33333e-01</td>\n",
       "      <td>query_1</td>\n",
       "      <td>[GO:1990351]</td>\n",
       "    </tr>\n",
       "    <tr>\n",
       "      <th>20</th>\n",
       "      <td>GO:CC</td>\n",
       "      <td>GO:0035868</td>\n",
       "      <td>alphav-beta3 integrin-HMGB1 complex</td>\n",
       "      <td>5.11577e-01</td>\n",
       "      <td>False</td>\n",
       "      <td>\"A protein complex that consists of an alphav-...</td>\n",
       "      <td>3</td>\n",
       "      <td>22</td>\n",
       "      <td>1</td>\n",
       "      <td>23017</td>\n",
       "      <td>4.54545e-02</td>\n",
       "      <td>3.33333e-01</td>\n",
       "      <td>query_1</td>\n",
       "      <td>[GO:0098797]</td>\n",
       "    </tr>\n",
       "    <tr>\n",
       "      <th>21</th>\n",
       "      <td>GO:MF</td>\n",
       "      <td>GO:0019002</td>\n",
       "      <td>GMP binding</td>\n",
       "      <td>5.24934e-01</td>\n",
       "      <td>False</td>\n",
       "      <td>\"Binding to GMP, guanosine monophosphate.\" [GO...</td>\n",
       "      <td>2</td>\n",
       "      <td>22</td>\n",
       "      <td>1</td>\n",
       "      <td>23017</td>\n",
       "      <td>4.54545e-02</td>\n",
       "      <td>5.00000e-01</td>\n",
       "      <td>query_1</td>\n",
       "      <td>[GO:0032561, GO:0043168]</td>\n",
       "    </tr>\n",
       "    <tr>\n",
       "      <th>...</th>\n",
       "      <td>...</td>\n",
       "      <td>...</td>\n",
       "      <td>...</td>\n",
       "      <td>...</td>\n",
       "      <td>...</td>\n",
       "      <td>...</td>\n",
       "      <td>...</td>\n",
       "      <td>...</td>\n",
       "      <td>...</td>\n",
       "      <td>...</td>\n",
       "      <td>...</td>\n",
       "      <td>...</td>\n",
       "      <td>...</td>\n",
       "      <td>...</td>\n",
       "    </tr>\n",
       "    <tr>\n",
       "      <th>5842</th>\n",
       "      <td>GO:BP</td>\n",
       "      <td>GO:0032268</td>\n",
       "      <td>regulation of cellular protein metabolic process</td>\n",
       "      <td>1.00000e+00</td>\n",
       "      <td>False</td>\n",
       "      <td>\"Any process that modulates the frequency, rat...</td>\n",
       "      <td>2297</td>\n",
       "      <td>22</td>\n",
       "      <td>2</td>\n",
       "      <td>23017</td>\n",
       "      <td>9.09091e-02</td>\n",
       "      <td>8.70701e-04</td>\n",
       "      <td>query_1</td>\n",
       "      <td>[GO:0031323, GO:0044267, GO:0051246]</td>\n",
       "    </tr>\n",
       "    <tr>\n",
       "      <th>5843</th>\n",
       "      <td>GO:BP</td>\n",
       "      <td>GO:0032103</td>\n",
       "      <td>positive regulation of response to external st...</td>\n",
       "      <td>1.00000e+00</td>\n",
       "      <td>False</td>\n",
       "      <td>\"Any process that activates, maintains or incr...</td>\n",
       "      <td>440</td>\n",
       "      <td>22</td>\n",
       "      <td>1</td>\n",
       "      <td>23017</td>\n",
       "      <td>4.54545e-02</td>\n",
       "      <td>2.27273e-03</td>\n",
       "      <td>query_1</td>\n",
       "      <td>[GO:0009605, GO:0032101, GO:0048584]</td>\n",
       "    </tr>\n",
       "    <tr>\n",
       "      <th>5844</th>\n",
       "      <td>GO:BP</td>\n",
       "      <td>GO:0032101</td>\n",
       "      <td>regulation of response to external stimulus</td>\n",
       "      <td>1.00000e+00</td>\n",
       "      <td>False</td>\n",
       "      <td>\"Any process that modulates the frequency, rat...</td>\n",
       "      <td>926</td>\n",
       "      <td>22</td>\n",
       "      <td>1</td>\n",
       "      <td>23017</td>\n",
       "      <td>4.54545e-02</td>\n",
       "      <td>1.07991e-03</td>\n",
       "      <td>query_1</td>\n",
       "      <td>[GO:0009605, GO:0048583]</td>\n",
       "    </tr>\n",
       "    <tr>\n",
       "      <th>5845</th>\n",
       "      <td>GO:BP</td>\n",
       "      <td>GO:0032091</td>\n",
       "      <td>negative regulation of protein binding</td>\n",
       "      <td>1.00000e+00</td>\n",
       "      <td>False</td>\n",
       "      <td>\"Any process that stops, prevents, or reduces ...</td>\n",
       "      <td>91</td>\n",
       "      <td>22</td>\n",
       "      <td>1</td>\n",
       "      <td>23017</td>\n",
       "      <td>4.54545e-02</td>\n",
       "      <td>1.09890e-02</td>\n",
       "      <td>query_1</td>\n",
       "      <td>[GO:0043393, GO:0051100]</td>\n",
       "    </tr>\n",
       "    <tr>\n",
       "      <th>5846</th>\n",
       "      <td>GO:BP</td>\n",
       "      <td>GO:0032677</td>\n",
       "      <td>regulation of interleukin-8 production</td>\n",
       "      <td>1.00000e+00</td>\n",
       "      <td>False</td>\n",
       "      <td>\"Any process that modulates the frequency, rat...</td>\n",
       "      <td>83</td>\n",
       "      <td>22</td>\n",
       "      <td>1</td>\n",
       "      <td>23017</td>\n",
       "      <td>4.54545e-02</td>\n",
       "      <td>1.20482e-02</td>\n",
       "      <td>query_1</td>\n",
       "      <td>[GO:0001817, GO:0032637]</td>\n",
       "    </tr>\n",
       "  </tbody>\n",
       "</table>\n",
       "<p>1163 rows × 14 columns</p>\n",
       "</div>"
      ],
      "text/plain": [
       "     source      native                                               name  \\\n",
       "14    GO:CC  GO:0005801                                  cis-Golgi network   \n",
       "16    GO:CC  GO:0034687                      integrin alphaL-beta2 complex   \n",
       "19    GO:CC  GO:1990429                     peroxisomal importomer complex   \n",
       "20    GO:CC  GO:0035868                alphav-beta3 integrin-HMGB1 complex   \n",
       "21    GO:MF  GO:0019002                                        GMP binding   \n",
       "...     ...         ...                                                ...   \n",
       "5842  GO:BP  GO:0032268   regulation of cellular protein metabolic process   \n",
       "5843  GO:BP  GO:0032103  positive regulation of response to external st...   \n",
       "5844  GO:BP  GO:0032101        regulation of response to external stimulus   \n",
       "5845  GO:BP  GO:0032091             negative regulation of protein binding   \n",
       "5846  GO:BP  GO:0032677             regulation of interleukin-8 production   \n",
       "\n",
       "          p_value  significant  \\\n",
       "14    3.21896e-01        False   \n",
       "16    3.41207e-01        False   \n",
       "19    5.11577e-01        False   \n",
       "20    5.11577e-01        False   \n",
       "21    5.24934e-01        False   \n",
       "...           ...          ...   \n",
       "5842  1.00000e+00        False   \n",
       "5843  1.00000e+00        False   \n",
       "5844  1.00000e+00        False   \n",
       "5845  1.00000e+00        False   \n",
       "5846  1.00000e+00        False   \n",
       "\n",
       "                                            description  term_size  \\\n",
       "14    \"The network of interconnected tubular and cis...         66   \n",
       "16    \"An integrin complex that comprises one alphaL...          2   \n",
       "19    \"A protein complex responsible for transportin...          3   \n",
       "20    \"A protein complex that consists of an alphav-...          3   \n",
       "21    \"Binding to GMP, guanosine monophosphate.\" [GO...          2   \n",
       "...                                                 ...        ...   \n",
       "5842  \"Any process that modulates the frequency, rat...       2297   \n",
       "5843  \"Any process that activates, maintains or incr...        440   \n",
       "5844  \"Any process that modulates the frequency, rat...        926   \n",
       "5845  \"Any process that stops, prevents, or reduces ...         91   \n",
       "5846  \"Any process that modulates the frequency, rat...         83   \n",
       "\n",
       "      query_size  intersection_size  effective_domain_size    precision  \\\n",
       "14            22                  2                  23017  9.09091e-02   \n",
       "16            22                  1                  23017  4.54545e-02   \n",
       "19            22                  1                  23017  4.54545e-02   \n",
       "20            22                  1                  23017  4.54545e-02   \n",
       "21            22                  1                  23017  4.54545e-02   \n",
       "...          ...                ...                    ...          ...   \n",
       "5842          22                  2                  23017  9.09091e-02   \n",
       "5843          22                  1                  23017  4.54545e-02   \n",
       "5844          22                  1                  23017  4.54545e-02   \n",
       "5845          22                  1                  23017  4.54545e-02   \n",
       "5846          22                  1                  23017  4.54545e-02   \n",
       "\n",
       "           recall    query                               parents  \n",
       "14    3.03030e-02  query_1              [GO:0005794, GO:0043231]  \n",
       "16    5.00000e-01  query_1                          [GO:0008305]  \n",
       "19    3.33333e-01  query_1                          [GO:1990351]  \n",
       "20    3.33333e-01  query_1                          [GO:0098797]  \n",
       "21    5.00000e-01  query_1              [GO:0032561, GO:0043168]  \n",
       "...           ...      ...                                   ...  \n",
       "5842  8.70701e-04  query_1  [GO:0031323, GO:0044267, GO:0051246]  \n",
       "5843  2.27273e-03  query_1  [GO:0009605, GO:0032101, GO:0048584]  \n",
       "5844  1.07991e-03  query_1              [GO:0009605, GO:0048583]  \n",
       "5845  1.09890e-02  query_1              [GO:0043393, GO:0051100]  \n",
       "5846  1.20482e-02  query_1              [GO:0001817, GO:0032637]  \n",
       "\n",
       "[1163 rows x 14 columns]"
      ]
     },
     "execution_count": 13,
     "metadata": {},
     "output_type": "execute_result"
    }
   ],
   "source": [
    "gp_no_correct"
   ]
  },
  {
   "cell_type": "markdown",
   "metadata": {},
   "source": [
    "#### Add the GProfiler pvalue on the BinomP_and_HypergeomP df"
   ]
  },
  {
   "cell_type": "code",
   "execution_count": 17,
   "metadata": {},
   "outputs": [],
   "source": [
    "val = []\n",
    "for i in enrichment_fdr.index: \n",
    "    try : \n",
    "        val.append(float(gp_no_correct.loc[gp_no_correct[\"native\"] == i][\"p_value\"]))\n",
    "    except:\n",
    "        val.append(nan)\n",
    "enrichment_fdr[\"gprofile_p_val\"] = val\n",
    "\n",
    "val = []\n",
    "for i in enrichment_bonferroni.index: \n",
    "    try : \n",
    "        val.append(float(gp_no_correct.loc[gp_no_correct[\"native\"] == i][\"p_value\"]))\n",
    "    except:\n",
    "        val.append(nan)\n",
    "enrichment_bonferroni[\"gprofile_p_val\"] = val"
   ]
  },
  {
   "cell_type": "markdown",
   "metadata": {},
   "source": [
    "## Plot the p-value without correction"
   ]
  },
  {
   "cell_type": "markdown",
   "metadata": {},
   "source": [
    "### great_hypergeom vs gprofiler_hypergeom"
   ]
  },
  {
   "cell_type": "markdown",
   "metadata": {},
   "source": [
    "whithout log scale"
   ]
  },
  {
   "cell_type": "code",
   "execution_count": 18,
   "metadata": {},
   "outputs": [
    {
     "data": {
      "image/png": "[encoded data removed]",
      "text/plain": [
       "<Figure size 432x288 with 1 Axes>"
      ]
     },
     "metadata": {
      "needs_background": "light"
     },
     "output_type": "display_data"
    }
   ],
   "source": [
    "great.pl.scatterplot(enrichment_fdr,\"hypergeom_p_value\",\"gprofile_p_val\",minus_log10=False)"
   ]
  },
  {
   "cell_type": "markdown",
   "metadata": {},
   "source": [
    "with log scale"
   ]
  },
  {
   "cell_type": "code",
   "execution_count": 19,
   "metadata": {},
   "outputs": [
    {
     "data": {
      "image/png": "[encoded data removed]",
      "text/plain": [
       "<Figure size 432x288 with 1 Axes>"
      ]
     },
     "metadata": {
      "needs_background": "light"
     },
     "output_type": "display_data"
    }
   ],
   "source": [
    "great.pl.scatterplot(enrichment_fdr,\"hypergeom_p_value\",\"gprofile_p_val\",minus_log10=True)"
   ]
  },
  {
   "cell_type": "markdown",
   "metadata": {},
   "source": [
    "### great_binom vs gprofiler_hypergeom"
   ]
  },
  {
   "cell_type": "markdown",
   "metadata": {},
   "source": [
    "whithout log scale"
   ]
  },
  {
   "cell_type": "code",
   "execution_count": 20,
   "metadata": {},
   "outputs": [
    {
     "data": {
      "image/png": "[encoded data removed]",
      "text/plain": [
       "<Figure size 432x288 with 1 Axes>"
      ]
     },
     "metadata": {
      "needs_background": "light"
     },
     "output_type": "display_data"
    }
   ],
   "source": [
    "great.pl.scatterplot(enrichment_fdr,\"binom_p_value\",\"gprofile_p_val\",minus_log10=False)"
   ]
  },
  {
   "cell_type": "markdown",
   "metadata": {},
   "source": [
    "with log scale"
   ]
  },
  {
   "cell_type": "code",
   "execution_count": 21,
   "metadata": {},
   "outputs": [
    {
     "data": {
      "image/png": "[encoded data removed]",
      "text/plain": [
       "<Figure size 432x288 with 1 Axes>"
      ]
     },
     "metadata": {
      "needs_background": "light"
     },
     "output_type": "display_data"
    }
   ],
   "source": [
    "great.pl.scatterplot(enrichment_fdr,\"binom_p_value\",\"gprofile_p_val\",minus_log10=True)"
   ]
  },
  {
   "cell_type": "markdown",
   "metadata": {},
   "source": [
    "We can see that the values are totally different between the one returned by greatpy and GProfile. I have not been able to check my results on the great webserver for the moment because it is no longer accessible. "
   ]
  },
  {
   "cell_type": "markdown",
   "metadata": {},
   "source": [
    "However, it seems very strange that gprofile_p_val only returns 1. Could be related to the selection of GO ID between enrichment and gp"
   ]
  },
  {
   "cell_type": "markdown",
   "metadata": {},
   "source": [
    "# Comparison with a fdr correction"
   ]
  },
  {
   "cell_type": "code",
   "execution_count": 22,
   "metadata": {},
   "outputs": [],
   "source": [
    "gp_correct_fdr = GProfiler(return_dataframe=True)\n",
    "gp_correct_fdr = gp_correct_fdr.profile(organism='hsapiens',\n",
    "            query=L,\n",
    "            all_results=True,\n",
    "            background=back,\n",
    "            user_threshold=0.005,\n",
    "            significance_threshold_method=\"fdr\")\n",
    "\n",
    "gp_correct_fdr = gp_correct_fdr.loc[(gp_correct_fdr[\"source\"] == \"GO:MF\")|(gp_correct_fdr[\"source\"] == \"GO:CC\")|(gp_correct_fdr[\"source\"] == \"GO:BP\")]\n",
    "\n",
    "gp_correct_bonferroni = GProfiler(return_dataframe=True)\n",
    "gp_correct_bonferroni = gp_correct_bonferroni.profile(organism='hsapiens',\n",
    "            query=L,\n",
    "            all_results=True,\n",
    "            background=back,\n",
    "            user_threshold=0.005,\n",
    "            significance_threshold_method=\"fdr\")\n",
    "\n",
    "gp_correct_bonferroni = gp_correct_bonferroni.loc[(gp_correct_bonferroni[\"source\"] == \"GO:MF\")|(gp_correct_bonferroni[\"source\"] == \"GO:CC\")|(gp_correct_bonferroni[\"source\"] == \"GO:BP\")]"
   ]
  },
  {
   "cell_type": "code",
   "execution_count": 23,
   "metadata": {},
   "outputs": [],
   "source": [
    "val=[]\n",
    "for i in enrichment_fdr.index: \n",
    "    try : \n",
    "        val.append(float(gp_correct_fdr.loc[gp_correct_fdr[\"native\"] == i][\"p_value\"]))\n",
    "    except:\n",
    "        val.append(nan)\n",
    "enrichment_fdr[\"gprofile_p_val_fdr\"] = val\n",
    "\n",
    "val=[]\n",
    "for i in enrichment_bonferroni.index: \n",
    "    try : \n",
    "        val.append(float(gp_correct_bonferroni.loc[gp_correct_bonferroni[\"native\"] == i][\"p_value\"]))\n",
    "    except:\n",
    "        val.append(nan)\n",
    "enrichment_bonferroni[\"gprofile_p_val_bonferroni\"] = val"
   ]
  },
  {
   "cell_type": "markdown",
   "metadata": {},
   "source": [
    "## Plot of the p-value with correction"
   ]
  },
  {
   "cell_type": "markdown",
   "metadata": {},
   "source": [
    "### great_hypergeom_fdr vs gprofiler_hypergeom_fdr"
   ]
  },
  {
   "cell_type": "code",
   "execution_count": 24,
   "metadata": {},
   "outputs": [
    {
     "data": {
      "image/png": "[encoded data removed]",
      "text/plain": [
       "<Figure size 432x288 with 1 Axes>"
      ]
     },
     "metadata": {
      "needs_background": "light"
     },
     "output_type": "display_data"
    }
   ],
   "source": [
    "great.pl.scatterplot(enrichment_fdr,\"hypergeom_fdr_correction\",\"gprofile_p_val_fdr\",minus_log10=True)"
   ]
  },
  {
   "cell_type": "code",
   "execution_count": 25,
   "metadata": {},
   "outputs": [
    {
     "data": {
      "image/png": "[encoded data removed]",
      "text/plain": [
       "<Figure size 432x288 with 1 Axes>"
      ]
     },
     "metadata": {
      "needs_background": "light"
     },
     "output_type": "display_data"
    }
   ],
   "source": [
    "great.pl.scatterplot(enrichment_fdr,\"hypergeom_fdr_correction\",\"gprofile_p_val_fdr\",minus_log10=False)"
   ]
  },
  {
   "cell_type": "markdown",
   "metadata": {},
   "source": [
    "With a correction we observe that the distribution of p-value is slightly better. Although the values are probably wrong the fdr correction seems very important. "
   ]
  },
  {
   "cell_type": "markdown",
   "metadata": {},
   "source": [
    "### great_binom_fdr vs gprofiler_hypergeom_fdr"
   ]
  },
  {
   "cell_type": "code",
   "execution_count": 26,
   "metadata": {},
   "outputs": [
    {
     "data": {
      "image/png": "[encoded data removed]",
      "text/plain": [
       "<Figure size 432x288 with 1 Axes>"
      ]
     },
     "metadata": {
      "needs_background": "light"
     },
     "output_type": "display_data"
    }
   ],
   "source": [
    "great.pl.scatterplot(enrichment_fdr,\"binom_fdr_correction\",\"gprofile_p_val_fdr\",minus_log10=True)"
   ]
  },
  {
   "cell_type": "code",
   "execution_count": 27,
   "metadata": {},
   "outputs": [
    {
     "data": {
      "image/png": "[encoded data removed]",
      "text/plain": [
       "<Figure size 432x288 with 1 Axes>"
      ]
     },
     "metadata": {
      "needs_background": "light"
     },
     "output_type": "display_data"
    }
   ],
   "source": [
    "great.pl.scatterplot(enrichment_fdr,\"binom_fdr_correction\",\"gprofile_p_val_fdr\",minus_log10=False)"
   ]
  },
  {
   "cell_type": "markdown",
   "metadata": {},
   "source": [
    "### great_hypergeom_bonferroni vs gprofiler_hypergeom_bonferroni"
   ]
  },
  {
   "cell_type": "code",
   "execution_count": 31,
   "metadata": {},
   "outputs": [
    {
     "data": {
      "image/png": "[encoded data removed]",
      "text/plain": [
       "<Figure size 432x288 with 1 Axes>"
      ]
     },
     "metadata": {
      "needs_background": "light"
     },
     "output_type": "display_data"
    }
   ],
   "source": [
    "great.pl.scatterplot(enrichment_bonferroni,\"hypergeom_bonferroni_correction\",\"gprofile_p_val_bonferroni\",minus_log10=True)"
   ]
  },
  {
   "cell_type": "code",
   "execution_count": 32,
   "metadata": {},
   "outputs": [
    {
     "data": {
      "image/png": "[encoded data removed]",
      "text/plain": [
       "<Figure size 432x288 with 1 Axes>"
      ]
     },
     "metadata": {
      "needs_background": "light"
     },
     "output_type": "display_data"
    }
   ],
   "source": [
    "great.pl.scatterplot(enrichment_bonferroni,\"hypergeom_bonferroni_correction\",\"gprofile_p_val_bonferroni\",minus_log10=False)"
   ]
  },
  {
   "cell_type": "markdown",
   "metadata": {},
   "source": [
    "### great_binom_bonferroni vs gprofiler_hypergeom_bonferroni"
   ]
  },
  {
   "cell_type": "code",
   "execution_count": 33,
   "metadata": {},
   "outputs": [
    {
     "data": {
      "image/png": "[encoded data removed]",
      "text/plain": [
       "<Figure size 432x288 with 1 Axes>"
      ]
     },
     "metadata": {
      "needs_background": "light"
     },
     "output_type": "display_data"
    }
   ],
   "source": [
    "great.pl.scatterplot(enrichment_bonferroni,\"binom_bonferroni_correction\",\"gprofile_p_val_bonferroni\",minus_log10=True)"
   ]
  },
  {
   "cell_type": "code",
   "execution_count": 34,
   "metadata": {},
   "outputs": [
    {
     "data": {
      "image/png": "[encoded data removed]",
      "text/plain": [
       "<Figure size 432x288 with 1 Axes>"
      ]
     },
     "metadata": {
      "needs_background": "light"
     },
     "output_type": "display_data"
    }
   ],
   "source": [
    "great.pl.scatterplot(enrichment_bonferroni,\"binom_bonferroni_correction\",\"gprofile_p_val_bonferroni\",minus_log10=False)"
   ]
  }
 ],
 "metadata": {
  "kernelspec": {
   "display_name": "Python 3.9.12 ('base')",
   "language": "python",
   "name": "python3"
  },
  "language_info": {
   "codemirror_mode": {
    "name": "ipython",
    "version": 3
   },
   "file_extension": ".py",
   "mimetype": "text/x-python",
   "name": "python",
   "nbconvert_exporter": "python",
   "pygments_lexer": "ipython3",
   "version": "3.9.12"
  },
  "orig_nbformat": 4,
  "vscode": {
   "interpreter": {
    "hash": "64cdbf2ddcb9cd73e43d780a5c38adc9c5cb93dd1a925db9d35733ec03fb2329"
   }
  }
 },
 "nbformat": 4,
 "nbformat_minor": 2
}
