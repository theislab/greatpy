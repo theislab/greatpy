{
 "cells": [
  {
   "cell_type": "markdown",
   "metadata": {},
   "source": [
    "# Computation of annotation enrichment in a genetic set "
   ]
  },
  {
   "cell_type": "markdown",
   "metadata": {},
   "source": [
    "This code excerpt shows how to use the annotation enrichment computation function in a genetic set.\n",
    "The funciton return a dataframe of binom and hypergeometric p-value (<= 0.05) and for each p-value a fdr correction with alpha = 0.05.   "
   ]
  },
  {
   "cell_type": "markdown",
   "metadata": {},
   "source": [
    "In the second part of the code we will compare the results obtained with the Great webserver and between the binomial and hypergeometric probability"
   ]
  },
  {
   "cell_type": "code",
   "execution_count": 6,
   "metadata": {},
   "outputs": [
    {
     "name": "stdout",
     "output_type": "stream",
     "text": [
      "The autoreload extension is already loaded. To reload it, use:\n",
      "  %reload_ext autoreload\n"
     ]
    }
   ],
   "source": [
    "%load_ext autoreload\n",
    "%autoreload 2"
   ]
  },
  {
   "cell_type": "code",
   "execution_count": 7,
   "metadata": {},
   "outputs": [],
   "source": [
    "import greatpy as great\n",
    "import pandas as pd\n",
    "from math import inf\n",
    "from numpy import log,nan, int64,cov,corrcoef\n",
    "from scipy.stats import pearsonr\n",
    "from seaborn import scatterplot as sp\n",
    "import matplotlib.pyplot as plt\n",
    "\n",
    "import warnings\n",
    "warnings.filterwarnings('ignore')"
   ]
  },
  {
   "cell_type": "markdown",
   "metadata": {},
   "source": [
    "## I Compute the p-values"
   ]
  },
  {
   "cell_type": "code",
   "execution_count": 8,
   "metadata": {},
   "outputs": [],
   "source": [
    "test = \"../data/tests/test_data/input/10_MAX.bed\"\n",
    "regdom = \"../data/human/hg38/regulatory_domain.bed\"\n",
    "great_out = \"../data/tests/test_data/output/10_MAX_output_great_webserver.tsv\"\n",
    "great_asso = \"../data/tests/test_data/output/10_MAX_gene_asso.tsv\"\n",
    "size = \"../data/human/hg38/chr_size.bed\""
   ]
  },
  {
   "cell_type": "code",
   "execution_count": 9,
   "metadata": {},
   "outputs": [],
   "source": [
    "enrichment = great.tl.GREAT.enrichment(\n",
    "    test_file=test,\n",
    "    regdom_file=regdom,\n",
    "    chr_size_file=size,\n",
    "    annotation_file=\"../data/human/ontologies.csv\",\n",
    "    binom=True,\n",
    "    hypergeom=True,\n",
    "    )\n",
    "great.tl.GREAT.set_fdr(enrichment)\n",
    "great.tl.GREAT.set_bonferroni(enrichment)\n",
    "enrichment"
   ]
  },
  {
   "cell_type": "markdown",
   "metadata": {},
   "source": [
    "## II Compare to GREAT webserver  "
   ]
  },
  {
   "cell_type": "markdown",
   "metadata": {},
   "source": [
    "### II.1 Import the data"
   ]
  },
  {
   "cell_type": "code",
   "execution_count": null,
   "metadata": {},
   "outputs": [
    {
     "data": {
      "text/html": [
       "<div>\n",
       "<style scoped>\n",
       "    .dataframe tbody tr th:only-of-type {\n",
       "        vertical-align: middle;\n",
       "    }\n",
       "\n",
       "    .dataframe tbody tr th {\n",
       "        vertical-align: top;\n",
       "    }\n",
       "\n",
       "    .dataframe thead th {\n",
       "        text-align: right;\n",
       "    }\n",
       "</style>\n",
       "<table border=\"1\" class=\"dataframe\">\n",
       "  <thead>\n",
       "    <tr style=\"text-align: right;\">\n",
       "      <th></th>\n",
       "      <th>id</th>\n",
       "      <th>binom_p_value</th>\n",
       "      <th>binom_bonferroni</th>\n",
       "      <th>binom_fdr</th>\n",
       "      <th>hyper_p_value</th>\n",
       "      <th>hyper_bonferroni</th>\n",
       "      <th>hyper_fdr</th>\n",
       "    </tr>\n",
       "  </thead>\n",
       "  <tbody>\n",
       "    <tr>\n",
       "      <th>0</th>\n",
       "      <td>GO:0098974</td>\n",
       "      <td>1.16271e-09</td>\n",
       "      <td>1.53001e-05</td>\n",
       "      <td>1.53001e-05</td>\n",
       "      <td>4.91559e-02</td>\n",
       "      <td>1.00000e+00</td>\n",
       "      <td>1.00000e+00</td>\n",
       "    </tr>\n",
       "    <tr>\n",
       "      <th>1</th>\n",
       "      <td>GO:0030035</td>\n",
       "      <td>6.86116e-08</td>\n",
       "      <td>9.02861e-04</td>\n",
       "      <td>3.00954e-04</td>\n",
       "      <td>1.82609e-01</td>\n",
       "      <td>1.00000e+00</td>\n",
       "      <td>1.00000e+00</td>\n",
       "    </tr>\n",
       "    <tr>\n",
       "      <th>2</th>\n",
       "      <td>GO:0002478</td>\n",
       "      <td>3.37650e-07</td>\n",
       "      <td>4.44314e-03</td>\n",
       "      <td>8.88627e-04</td>\n",
       "      <td>8.26639e-03</td>\n",
       "      <td>1.00000e+00</td>\n",
       "      <td>7.01790e-01</td>\n",
       "    </tr>\n",
       "    <tr>\n",
       "      <th>3</th>\n",
       "      <td>GO:0019884</td>\n",
       "      <td>5.84360e-07</td>\n",
       "      <td>7.68959e-03</td>\n",
       "      <td>1.09851e-03</td>\n",
       "      <td>1.19953e-02</td>\n",
       "      <td>1.00000e+00</td>\n",
       "      <td>7.85306e-01</td>\n",
       "    </tr>\n",
       "    <tr>\n",
       "      <th>4</th>\n",
       "      <td>GO:0048254</td>\n",
       "      <td>7.09959e-07</td>\n",
       "      <td>9.34235e-03</td>\n",
       "      <td>1.03804e-03</td>\n",
       "      <td>1.35530e-02</td>\n",
       "      <td>1.00000e+00</td>\n",
       "      <td>8.33383e-01</td>\n",
       "    </tr>\n",
       "    <tr>\n",
       "      <th>...</th>\n",
       "      <td>...</td>\n",
       "      <td>...</td>\n",
       "      <td>...</td>\n",
       "      <td>...</td>\n",
       "      <td>...</td>\n",
       "      <td>...</td>\n",
       "      <td>...</td>\n",
       "    </tr>\n",
       "    <tr>\n",
       "      <th>2676</th>\n",
       "      <td>GO:0090722</td>\n",
       "      <td>3.87433e-01</td>\n",
       "      <td>1.00000e+00</td>\n",
       "      <td>1.00000e+00</td>\n",
       "      <td>1.82609e-01</td>\n",
       "      <td>1.00000e+00</td>\n",
       "      <td>1.00000e+00</td>\n",
       "    </tr>\n",
       "    <tr>\n",
       "      <th>2677</th>\n",
       "      <td>GO:0031698</td>\n",
       "      <td>3.88983e-01</td>\n",
       "      <td>1.00000e+00</td>\n",
       "      <td>1.00000e+00</td>\n",
       "      <td>1.82609e-01</td>\n",
       "      <td>1.00000e+00</td>\n",
       "      <td>1.00000e+00</td>\n",
       "    </tr>\n",
       "    <tr>\n",
       "      <th>2678</th>\n",
       "      <td>GO:0046935</td>\n",
       "      <td>3.89202e-01</td>\n",
       "      <td>1.00000e+00</td>\n",
       "      <td>1.00000e+00</td>\n",
       "      <td>2.97348e-01</td>\n",
       "      <td>1.00000e+00</td>\n",
       "      <td>1.00000e+00</td>\n",
       "    </tr>\n",
       "    <tr>\n",
       "      <th>2679</th>\n",
       "      <td>GO:0015129</td>\n",
       "      <td>3.91083e-01</td>\n",
       "      <td>1.00000e+00</td>\n",
       "      <td>1.00000e+00</td>\n",
       "      <td>2.22797e-01</td>\n",
       "      <td>1.00000e+00</td>\n",
       "      <td>1.00000e+00</td>\n",
       "    </tr>\n",
       "    <tr>\n",
       "      <th>2680</th>\n",
       "      <td>GO:0098847</td>\n",
       "      <td>3.92261e-01</td>\n",
       "      <td>1.00000e+00</td>\n",
       "      <td>1.00000e+00</td>\n",
       "      <td>5.06347e-01</td>\n",
       "      <td>1.00000e+00</td>\n",
       "      <td>1.00000e+00</td>\n",
       "    </tr>\n",
       "  </tbody>\n",
       "</table>\n",
       "<p>2681 rows × 7 columns</p>\n",
       "</div>"
      ],
      "text/plain": [
       "              id  binom_p_value  binom_bonferroni    binom_fdr  hyper_p_value  \\\n",
       "0     GO:0098974    1.16271e-09       1.53001e-05  1.53001e-05    4.91559e-02   \n",
       "1     GO:0030035    6.86116e-08       9.02861e-04  3.00954e-04    1.82609e-01   \n",
       "2     GO:0002478    3.37650e-07       4.44314e-03  8.88627e-04    8.26639e-03   \n",
       "3     GO:0019884    5.84360e-07       7.68959e-03  1.09851e-03    1.19953e-02   \n",
       "4     GO:0048254    7.09959e-07       9.34235e-03  1.03804e-03    1.35530e-02   \n",
       "...          ...            ...               ...          ...            ...   \n",
       "2676  GO:0090722    3.87433e-01       1.00000e+00  1.00000e+00    1.82609e-01   \n",
       "2677  GO:0031698    3.88983e-01       1.00000e+00  1.00000e+00    1.82609e-01   \n",
       "2678  GO:0046935    3.89202e-01       1.00000e+00  1.00000e+00    2.97348e-01   \n",
       "2679  GO:0015129    3.91083e-01       1.00000e+00  1.00000e+00    2.22797e-01   \n",
       "2680  GO:0098847    3.92261e-01       1.00000e+00  1.00000e+00    5.06347e-01   \n",
       "\n",
       "      hyper_bonferroni    hyper_fdr  \n",
       "0          1.00000e+00  1.00000e+00  \n",
       "1          1.00000e+00  1.00000e+00  \n",
       "2          1.00000e+00  7.01790e-01  \n",
       "3          1.00000e+00  7.85306e-01  \n",
       "4          1.00000e+00  8.33383e-01  \n",
       "...                ...          ...  \n",
       "2676       1.00000e+00  1.00000e+00  \n",
       "2677       1.00000e+00  1.00000e+00  \n",
       "2678       1.00000e+00  1.00000e+00  \n",
       "2679       1.00000e+00  1.00000e+00  \n",
       "2680       1.00000e+00  1.00000e+00  \n",
       "\n",
       "[2681 rows x 7 columns]"
      ]
     },
     "execution_count": 5,
     "metadata": {},
     "output_type": "execute_result"
    }
   ],
   "source": [
    "great_webserver = pd.read_csv(\"../data/tests/test_data/output/02_srf_hg38_output_great_webserver.tsv\",sep=\"\\t\",comment=\"#\",\n",
    "                    names=[\"ontologie\",\"term_name\",\"ID\",\"binom_p_value\",\"binom_bonferroni\",\"binom_fdr\",\"hyper_p_value\",\"hyper_bonferroni\",\"hyper_fdr\"],index_col=False,\n",
    "                    dtype={\"term_name\":\"object\", \"ID\":\"object\",\"binom_p_value\":\"float64\", \"binom_bonferroni\":\"float64\", \"binom_fdr\":\"float64\", \"hyper_p_value\":\"float64\", \"hyper_bonferroni\":\"float64\", \"hyper_fdr\":\"float64\"})\n",
    "great_webserver.rename(columns={\"ID\":\"id\"},inplace=True)\n",
    "del great_webserver[\"ontologie\"]\n",
    "del great_webserver[\"term_name\"]\n",
    "great_webserver"
   ]
  },
  {
   "cell_type": "markdown",
   "metadata": {},
   "source": [
    "### II.2 Compare the results between greatpy and great "
   ]
  },
  {
   "cell_type": "markdown",
   "metadata": {},
   "source": [
    "#### II.2.1 Preprocessing"
   ]
  },
  {
   "cell_type": "code",
   "execution_count": null,
   "metadata": {},
   "outputs": [],
   "source": [
    "enrichment = enrichment[enrichment.index.isin(list(great_webserver[\"id\"]))]\n",
    "enrichment = enrichment.reset_index(drop=False).rename(columns={\"index\":\"id\"})\n",
    "enrichment = enrichment.sort_values(\"id\")"
   ]
  },
  {
   "cell_type": "code",
   "execution_count": null,
   "metadata": {},
   "outputs": [],
   "source": [
    "great_webserver = great_webserver[great_webserver[\"id\"].isin(list(enrichment[\"id\"]))]\n",
    "great_webserver = great_webserver.sort_values(\"id\")"
   ]
  },
  {
   "cell_type": "code",
   "execution_count": null,
   "metadata": {},
   "outputs": [],
   "source": [
    "binom_greatpy = []\n",
    "hyper_greatpy = []\n",
    "binom_great = []\n",
    "hyper_great = []\n",
    "for i in range(enrichment.shape[0]) : \n",
    "    curr_enrichment = enrichment.iloc[i]\n",
    "    curr_great_webserver = great_webserver.loc[great_webserver[\"id\"]==curr_enrichment[\"id\"]]\n",
    "    binom_greatpy.append(float(curr_enrichment[\"binom_p_value\"]))\n",
    "    hyper_greatpy.append(float(curr_enrichment[\"hypergeom_p_value\"]))\n",
    "    binom_great.append(float(curr_great_webserver[\"binom_p_value\"]))\n",
    "    hyper_great.append(float(curr_great_webserver[\"hyper_p_value\"]))\n",
    "binom = pd.DataFrame({\"binom_greatpy\":binom_greatpy,\"binom_great\":binom_great})\n",
    "hyper = pd.DataFrame({\"hyper_greatpy\":hyper_greatpy,\"hyper_great\":hyper_great})"
   ]
  },
  {
   "cell_type": "markdown",
   "metadata": {},
   "source": [
    "#### II.2.b Graphical"
   ]
  },
  {
   "cell_type": "code",
   "execution_count": null,
   "metadata": {},
   "outputs": [
    {
     "data": {
      "image/png": "[encoded data removed]",
      "text/plain": [
       "<Figure size 432x288 with 1 Axes>"
      ]
     },
     "metadata": {
      "needs_background": "light"
     },
     "output_type": "display_data"
    }
   ],
   "source": [
    "fig,ax = plt.subplots(1,2,figsize = (20,10))\n",
    "great.pl.scatterplot(binom,colname_x=\"binom_greatpy\",colname_y=\"binom_great\",ax=ax[0,0],title=\"Comparaison between greatpy and great webserver binomial p value outputs\")\n",
    "great.pl.scatterplot(hyper,colname_x=\"hyper_greatpy\",colname_y=\"hyper_great\",ax=ax[0,1],title=\"Comparaison between greatpy and great webserver hypergeometric p value outputs\")\n",
    "plt.show()\n"
   ]
  },
  {
   "cell_type": "markdown",
   "metadata": {},
   "source": [
    "#### II.2.c Statistics"
   ]
  },
  {
   "cell_type": "code",
   "execution_count": null,
   "metadata": {},
   "outputs": [],
   "source": [
    "def stat(binom_great_list_list, hyper_great_listpy_list,binom_great_list,hyper_great_list) : \n",
    "    return pd.DataFrame({\n",
    "        \"binom\": [cov(m = binom_great_list_list, y = binom_great_list)[0][1],pearsonr(binom_great_list_list,binom_great_list)[0]],\n",
    "        \"hyper\":[cov(m = hyper_great_listpy_list, y = hyper_great_list)[0][1],pearsonr(hyper_great_listpy_list,hyper_great_list)[0]]},\n",
    "        index=[\"correlation_coefficient\",\"pearson\"])"
   ]
  },
  {
   "cell_type": "code",
   "execution_count": null,
   "metadata": {},
   "outputs": [
    {
     "data": {
      "text/html": [
       "<div>\n",
       "<style scoped>\n",
       "    .dataframe tbody tr th:only-of-type {\n",
       "        vertical-align: middle;\n",
       "    }\n",
       "\n",
       "    .dataframe tbody tr th {\n",
       "        vertical-align: top;\n",
       "    }\n",
       "\n",
       "    .dataframe thead th {\n",
       "        text-align: right;\n",
       "    }\n",
       "</style>\n",
       "<table border=\"1\" class=\"dataframe\">\n",
       "  <thead>\n",
       "    <tr style=\"text-align: right;\">\n",
       "      <th></th>\n",
       "      <th>binom</th>\n",
       "      <th>hyper</th>\n",
       "    </tr>\n",
       "  </thead>\n",
       "  <tbody>\n",
       "    <tr>\n",
       "      <th>correlation_coefficient</th>\n",
       "      <td>-4.18196e-03</td>\n",
       "      <td>1.07131e-03</td>\n",
       "    </tr>\n",
       "    <tr>\n",
       "      <th>pearson</th>\n",
       "      <td>-2.33984e-01</td>\n",
       "      <td>2.85191e-02</td>\n",
       "    </tr>\n",
       "  </tbody>\n",
       "</table>\n",
       "</div>"
      ],
      "text/plain": [
       "                               binom        hyper\n",
       "correlation_coefficient -4.18196e-03  1.07131e-03\n",
       "pearson                 -2.33984e-01  2.85191e-02"
      ]
     },
     "execution_count": 12,
     "metadata": {},
     "output_type": "execute_result"
    }
   ],
   "source": [
    "stat(binom_greatpy, hyper_greatpy,binom_great,hyper_great)"
   ]
  },
  {
   "cell_type": "markdown",
   "metadata": {},
   "source": [
    "The result returned by greatpy is similar to the one obtained (pearson coefficient = 1) but the results have been reduced to select only the ids present in great_output and greatpy_output. "
   ]
  },
  {
   "cell_type": "markdown",
   "metadata": {},
   "source": [
    "On the other hand, the two variables (binomial probability and hypergeometric probability) do not seem to be correlated because the correlation coefficient is close to 0 "
   ]
  },
  {
   "cell_type": "markdown",
   "metadata": {},
   "source": [
    "## III Compare p values between binomial and hypergeometric tests "
   ]
  },
  {
   "cell_type": "code",
   "execution_count": null,
   "metadata": {},
   "outputs": [
    {
     "ename": "NameError",
     "evalue": "name 'enrichment' is not defined",
     "output_type": "error",
     "traceback": [
      "\u001b[0;31m---------------------------------------------------------------------------\u001b[0m",
      "\u001b[0;31mNameError\u001b[0m                                 Traceback (most recent call last)",
      "\u001b[1;32m/home/icb/tom.mauger-birocheau/internship/greatpy-1/notebooks/02_binom_vs_hypergeom.ipynb Cell 25\u001b[0m in \u001b[0;36m<cell line: 2>\u001b[0;34m()\u001b[0m\n\u001b[1;32m      <a href='vscode-notebook-cell://ssh-remote%2Bicb-lisa/home/icb/tom.mauger-birocheau/internship/greatpy-1/notebooks/02_binom_vs_hypergeom.ipynb#ch0000027vscode-remote?line=0'>1</a>\u001b[0m fig,ax \u001b[39m=\u001b[39m plt\u001b[39m.\u001b[39msubplots(\u001b[39m2\u001b[39m,\u001b[39m2\u001b[39m)\n\u001b[1;32m      <a href='vscode-notebook-cell://ssh-remote%2Bicb-lisa/home/icb/tom.mauger-birocheau/internship/greatpy-1/notebooks/02_binom_vs_hypergeom.ipynb#ch0000027vscode-remote?line=1'>2</a>\u001b[0m great\u001b[39m.\u001b[39mpl\u001b[39m.\u001b[39mscatterplot(\n\u001b[0;32m----> <a href='vscode-notebook-cell://ssh-remote%2Bicb-lisa/home/icb/tom.mauger-birocheau/internship/greatpy-1/notebooks/02_binom_vs_hypergeom.ipynb#ch0000027vscode-remote?line=2'>3</a>\u001b[0m     enrichment,\n\u001b[1;32m      <a href='vscode-notebook-cell://ssh-remote%2Bicb-lisa/home/icb/tom.mauger-birocheau/internship/greatpy-1/notebooks/02_binom_vs_hypergeom.ipynb#ch0000027vscode-remote?line=3'>4</a>\u001b[0m     \u001b[39m\"\u001b[39m\u001b[39mbinom_p_value\u001b[39m\u001b[39m\"\u001b[39m,\n\u001b[1;32m      <a href='vscode-notebook-cell://ssh-remote%2Bicb-lisa/home/icb/tom.mauger-birocheau/internship/greatpy-1/notebooks/02_binom_vs_hypergeom.ipynb#ch0000027vscode-remote?line=4'>5</a>\u001b[0m     \u001b[39m\"\u001b[39m\u001b[39mhypergeom_p_value\u001b[39m\u001b[39m\"\u001b[39m,\n\u001b[1;32m      <a href='vscode-notebook-cell://ssh-remote%2Bicb-lisa/home/icb/tom.mauger-birocheau/internship/greatpy-1/notebooks/02_binom_vs_hypergeom.ipynb#ch0000027vscode-remote?line=5'>6</a>\u001b[0m     minus_log10\u001b[39m=\u001b[39m\u001b[39mFalse\u001b[39;00m,ax\u001b[39m=\u001b[39m[\u001b[39m0\u001b[39m,\u001b[39m0\u001b[39m])\n\u001b[1;32m      <a href='vscode-notebook-cell://ssh-remote%2Bicb-lisa/home/icb/tom.mauger-birocheau/internship/greatpy-1/notebooks/02_binom_vs_hypergeom.ipynb#ch0000027vscode-remote?line=6'>7</a>\u001b[0m great\u001b[39m.\u001b[39mpl\u001b[39m.\u001b[39mscatterplot(\n\u001b[1;32m      <a href='vscode-notebook-cell://ssh-remote%2Bicb-lisa/home/icb/tom.mauger-birocheau/internship/greatpy-1/notebooks/02_binom_vs_hypergeom.ipynb#ch0000027vscode-remote?line=7'>8</a>\u001b[0m     enrichment,\n\u001b[1;32m      <a href='vscode-notebook-cell://ssh-remote%2Bicb-lisa/home/icb/tom.mauger-birocheau/internship/greatpy-1/notebooks/02_binom_vs_hypergeom.ipynb#ch0000027vscode-remote?line=8'>9</a>\u001b[0m     \u001b[39m\"\u001b[39m\u001b[39mbinom_p_value\u001b[39m\u001b[39m\"\u001b[39m,\n\u001b[1;32m     <a href='vscode-notebook-cell://ssh-remote%2Bicb-lisa/home/icb/tom.mauger-birocheau/internship/greatpy-1/notebooks/02_binom_vs_hypergeom.ipynb#ch0000027vscode-remote?line=9'>10</a>\u001b[0m     \u001b[39m\"\u001b[39m\u001b[39mhypergeom_p_value\u001b[39m\u001b[39m\"\u001b[39m,\n\u001b[1;32m     <a href='vscode-notebook-cell://ssh-remote%2Bicb-lisa/home/icb/tom.mauger-birocheau/internship/greatpy-1/notebooks/02_binom_vs_hypergeom.ipynb#ch0000027vscode-remote?line=10'>11</a>\u001b[0m     minus_log10\u001b[39m=\u001b[39m\u001b[39mTrue\u001b[39;00m,ax\u001b[39m=\u001b[39max[\u001b[39m0\u001b[39m,\u001b[39m1\u001b[39m])\n\u001b[1;32m     <a href='vscode-notebook-cell://ssh-remote%2Bicb-lisa/home/icb/tom.mauger-birocheau/internship/greatpy-1/notebooks/02_binom_vs_hypergeom.ipynb#ch0000027vscode-remote?line=11'>12</a>\u001b[0m great\u001b[39m.\u001b[39mpl\u001b[39m.\u001b[39mscatterplot(\n\u001b[1;32m     <a href='vscode-notebook-cell://ssh-remote%2Bicb-lisa/home/icb/tom.mauger-birocheau/internship/greatpy-1/notebooks/02_binom_vs_hypergeom.ipynb#ch0000027vscode-remote?line=12'>13</a>\u001b[0m     enrichment,\n\u001b[1;32m     <a href='vscode-notebook-cell://ssh-remote%2Bicb-lisa/home/icb/tom.mauger-birocheau/internship/greatpy-1/notebooks/02_binom_vs_hypergeom.ipynb#ch0000027vscode-remote?line=13'>14</a>\u001b[0m     \u001b[39m\"\u001b[39m\u001b[39mbinom_fdr\u001b[39m\u001b[39m\"\u001b[39m,\n\u001b[1;32m     <a href='vscode-notebook-cell://ssh-remote%2Bicb-lisa/home/icb/tom.mauger-birocheau/internship/greatpy-1/notebooks/02_binom_vs_hypergeom.ipynb#ch0000027vscode-remote?line=14'>15</a>\u001b[0m     \u001b[39m\"\u001b[39m\u001b[39mhypergeom_fdr\u001b[39m\u001b[39m\"\u001b[39m,\n\u001b[1;32m     <a href='vscode-notebook-cell://ssh-remote%2Bicb-lisa/home/icb/tom.mauger-birocheau/internship/greatpy-1/notebooks/02_binom_vs_hypergeom.ipynb#ch0000027vscode-remote?line=15'>16</a>\u001b[0m     minus_log10\u001b[39m=\u001b[39m\u001b[39mFalse\u001b[39;00m,ax\u001b[39m=\u001b[39max[\u001b[39m1\u001b[39m,\u001b[39m0\u001b[39m])\n",
      "\u001b[0;31mNameError\u001b[0m: name 'enrichment' is not defined"
     ]
    },
    {
     "data": {
      "image/png": "[encoded data removed]",
      "text/plain": [
       "<Figure size 432x288 with 4 Axes>"
      ]
     },
     "metadata": {
      "needs_background": "light"
     },
     "output_type": "display_data"
    }
   ],
   "source": [
    "fig,ax = plt.subplots(2,2,figsize=(20,10))\n",
    "great.pl.scatterplot(\n",
    "    enrichment,\n",
    "    \"binom_p_value\",\n",
    "    \"hypergeom_p_value\",\n",
    "    minus_log10=False,ax=[0,0])\n",
    "great.pl.scatterplot(\n",
    "    enrichment,\n",
    "    \"binom_p_value\",\n",
    "    \"hypergeom_p_value\",\n",
    "    minus_log10=True,ax=ax[0,1])\n",
    "great.pl.scatterplot(\n",
    "    enrichment,\n",
    "    \"binom_fdr\",\n",
    "    \"hypergeom_fdr\",\n",
    "    minus_log10=False,ax=ax[1,0])\n",
    "great.pl.scatterplot(\n",
    "    enrichment,\n",
    "    \"binom_fdr\",\n",
    "    \"hypergeom_fdr\",\n",
    "    minus_log10=True,ax=ax[1,1])\n",
    "plt.show()"
   ]
  },
  {
   "cell_type": "markdown",
   "metadata": {},
   "source": [
    "Resembling the images of the articule published by the Berjano lab: https://www.nature.com/articles/nbt.1630/figures/2"
   ]
  },
  {
   "cell_type": "markdown",
   "metadata": {},
   "source": [
    "By default, GREAT ranks results by the binomial p-value, and we consider this the single best way to examine genome-wide cis-regulatory datasets. It accounts for biases in gene regulatory domain size and provides an accurate picture of the cis-regulatory landscape. (https://great-help.atlassian.net/wiki/spaces/GREAT/pages/655456/Statistics) "
   ]
  }
 ],
 "metadata": {
  "kernelspec": {
   "display_name": "Python 3.8.13 ('base')",
   "language": "python",
   "name": "python3"
  },
  "language_info": {
   "codemirror_mode": {
    "name": "ipython",
    "version": 3
   },
   "file_extension": ".py",
   "mimetype": "text/x-python",
   "name": "python",
   "nbconvert_exporter": "python",
   "pygments_lexer": "ipython3",
   "version": "3.8.13"
  },
  "orig_nbformat": 4,
  "vscode": {
   "interpreter": {
    "hash": "dd3aa23b046397ccf7f1ffb7cb82646c26b15f0b12555a0fca8fb427d9fb147f"
   }
  }
 },
 "nbformat": 4,
 "nbformat_minor": 2
}
