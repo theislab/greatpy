{
 "cells": [
  {
   "cell_type": "markdown",
   "metadata": {},
   "source": [
    "# Example of combined use of bindome and greatpy "
   ]
  },
  {
   "cell_type": "markdown",
   "metadata": {},
   "source": [
    "This notebook shows how to combine the bindome package and greatpy. For this it is necessary to have a file annotations which is in /storage/groups/ml01/datasets/. "
   ]
  },
  {
   "cell_type": "markdown",
   "metadata": {},
   "source": [
    "The test will be done on the SRF file in order to obtain the same results as in the publication of great:  "
   ]
  },
  {
   "cell_type": "code",
   "execution_count": 148,
   "metadata": {},
   "outputs": [
    {
     "name": "stdout",
     "output_type": "stream",
     "text": [
      "The autoreload extension is already loaded. To reload it, use:\n",
      "  %reload_ext autoreload\n"
     ]
    }
   ],
   "source": [
    "%load_ext autoreload\n",
    "%autoreload 2"
   ]
  },
  {
   "cell_type": "code",
   "execution_count": 149,
   "metadata": {},
   "outputs": [],
   "source": [
    "import greatpy as great\n",
    "import bindome as bd"
   ]
  },
  {
   "cell_type": "code",
   "execution_count": 150,
   "metadata": {},
   "outputs": [
    {
     "data": {
      "text/html": [
       "<div>\n",
       "<style scoped>\n",
       "    .dataframe tbody tr th:only-of-type {\n",
       "        vertical-align: middle;\n",
       "    }\n",
       "\n",
       "    .dataframe tbody tr th {\n",
       "        vertical-align: top;\n",
       "    }\n",
       "\n",
       "    .dataframe thead th {\n",
       "        text-align: right;\n",
       "    }\n",
       "</style>\n",
       "<table border=\"1\" class=\"dataframe\">\n",
       "  <thead>\n",
       "    <tr style=\"text-align: right;\">\n",
       "      <th></th>\n",
       "      <th>chr</th>\n",
       "      <th>start</th>\n",
       "      <th>end</th>\n",
       "      <th>3</th>\n",
       "      <th>4</th>\n",
       "      <th>5</th>\n",
       "      <th>6</th>\n",
       "      <th>7</th>\n",
       "      <th>8</th>\n",
       "      <th>coordinate</th>\n",
       "      <th>summit.start</th>\n",
       "      <th>summit.end</th>\n",
       "      <th>k.summit</th>\n",
       "    </tr>\n",
       "  </thead>\n",
       "  <tbody>\n",
       "    <tr>\n",
       "      <th>0</th>\n",
       "      <td>chr1</td>\n",
       "      <td>629831</td>\n",
       "      <td>629954</td>\n",
       "      <td>SRF:K-562</td>\n",
       "      <td>1</td>\n",
       "      <td>.</td>\n",
       "      <td>629938</td>\n",
       "      <td>629939</td>\n",
       "      <td>140,112,224</td>\n",
       "      <td>chr1:629831-629954</td>\n",
       "      <td>629838</td>\n",
       "      <td>630038</td>\n",
       "      <td>chr1:629838-630038</td>\n",
       "    </tr>\n",
       "    <tr>\n",
       "      <th>1</th>\n",
       "      <td>chr1</td>\n",
       "      <td>778597</td>\n",
       "      <td>778779</td>\n",
       "      <td>SRF:Ishikawa,GM12878,A-673-clone-Asp114,K-562,...</td>\n",
       "      <td>8</td>\n",
       "      <td>.</td>\n",
       "      <td>778671</td>\n",
       "      <td>778672</td>\n",
       "      <td>140,112,224</td>\n",
       "      <td>chr1:778597-778779</td>\n",
       "      <td>778571</td>\n",
       "      <td>778771</td>\n",
       "      <td>chr1:778571-778771</td>\n",
       "    </tr>\n",
       "    <tr>\n",
       "      <th>2</th>\n",
       "      <td>chr1</td>\n",
       "      <td>869817</td>\n",
       "      <td>870104</td>\n",
       "      <td>SRF:A-673-clone-Asp114</td>\n",
       "      <td>1</td>\n",
       "      <td>.</td>\n",
       "      <td>870004</td>\n",
       "      <td>870005</td>\n",
       "      <td>140,112,224</td>\n",
       "      <td>chr1:869817-870104</td>\n",
       "      <td>869904</td>\n",
       "      <td>870104</td>\n",
       "      <td>chr1:869904-870104</td>\n",
       "    </tr>\n",
       "    <tr>\n",
       "      <th>3</th>\n",
       "      <td>chr1</td>\n",
       "      <td>904714</td>\n",
       "      <td>904924</td>\n",
       "      <td>SRF:GM12878,A-673-clone-Asp114</td>\n",
       "      <td>2</td>\n",
       "      <td>.</td>\n",
       "      <td>904795</td>\n",
       "      <td>904796</td>\n",
       "      <td>140,112,224</td>\n",
       "      <td>chr1:904714-904924</td>\n",
       "      <td>904695</td>\n",
       "      <td>904895</td>\n",
       "      <td>chr1:904695-904895</td>\n",
       "    </tr>\n",
       "    <tr>\n",
       "      <th>4</th>\n",
       "      <td>chr1</td>\n",
       "      <td>905143</td>\n",
       "      <td>905666</td>\n",
       "      <td>SRF:A-673-clone-Asp114</td>\n",
       "      <td>1</td>\n",
       "      <td>.</td>\n",
       "      <td>905393</td>\n",
       "      <td>905394</td>\n",
       "      <td>140,112,224</td>\n",
       "      <td>chr1:905143-905666</td>\n",
       "      <td>905293</td>\n",
       "      <td>905493</td>\n",
       "      <td>chr1:905293-905493</td>\n",
       "    </tr>\n",
       "    <tr>\n",
       "      <th>...</th>\n",
       "      <td>...</td>\n",
       "      <td>...</td>\n",
       "      <td>...</td>\n",
       "      <td>...</td>\n",
       "      <td>...</td>\n",
       "      <td>...</td>\n",
       "      <td>...</td>\n",
       "      <td>...</td>\n",
       "      <td>...</td>\n",
       "      <td>...</td>\n",
       "      <td>...</td>\n",
       "      <td>...</td>\n",
       "      <td>...</td>\n",
       "    </tr>\n",
       "    <tr>\n",
       "      <th>130753</th>\n",
       "      <td>chrY</td>\n",
       "      <td>19567211</td>\n",
       "      <td>19567311</td>\n",
       "      <td>SRF:Hep-G2</td>\n",
       "      <td>1</td>\n",
       "      <td>.</td>\n",
       "      <td>19567231</td>\n",
       "      <td>19567232</td>\n",
       "      <td>140,112,224</td>\n",
       "      <td>chrY:19567211-19567311</td>\n",
       "      <td>19567131</td>\n",
       "      <td>19567331</td>\n",
       "      <td>chrY:19567131-19567331</td>\n",
       "    </tr>\n",
       "    <tr>\n",
       "      <th>130754</th>\n",
       "      <td>chrY</td>\n",
       "      <td>19744932</td>\n",
       "      <td>19745043</td>\n",
       "      <td>SRF:Hep-G2</td>\n",
       "      <td>1</td>\n",
       "      <td>.</td>\n",
       "      <td>19744983</td>\n",
       "      <td>19744984</td>\n",
       "      <td>140,112,224</td>\n",
       "      <td>chrY:19744932-19745043</td>\n",
       "      <td>19744883</td>\n",
       "      <td>19745083</td>\n",
       "      <td>chrY:19744883-19745083</td>\n",
       "    </tr>\n",
       "    <tr>\n",
       "      <th>130755</th>\n",
       "      <td>chrY</td>\n",
       "      <td>20575583</td>\n",
       "      <td>20575822</td>\n",
       "      <td>SRF:WA01,Hep-G2</td>\n",
       "      <td>2</td>\n",
       "      <td>.</td>\n",
       "      <td>20575707</td>\n",
       "      <td>20575708</td>\n",
       "      <td>140,112,224</td>\n",
       "      <td>chrY:20575583-20575822</td>\n",
       "      <td>20575607</td>\n",
       "      <td>20575807</td>\n",
       "      <td>chrY:20575607-20575807</td>\n",
       "    </tr>\n",
       "    <tr>\n",
       "      <th>130756</th>\n",
       "      <td>chrY</td>\n",
       "      <td>20575934</td>\n",
       "      <td>20576114</td>\n",
       "      <td>SRF:WA01,Hep-G2</td>\n",
       "      <td>2</td>\n",
       "      <td>.</td>\n",
       "      <td>20576046</td>\n",
       "      <td>20576047</td>\n",
       "      <td>140,112,224</td>\n",
       "      <td>chrY:20575934-20576114</td>\n",
       "      <td>20575946</td>\n",
       "      <td>20576146</td>\n",
       "      <td>chrY:20575946-20576146</td>\n",
       "    </tr>\n",
       "    <tr>\n",
       "      <th>130757</th>\n",
       "      <td>chrY</td>\n",
       "      <td>21021882</td>\n",
       "      <td>21022040</td>\n",
       "      <td>SRF:Hep-G2</td>\n",
       "      <td>1</td>\n",
       "      <td>.</td>\n",
       "      <td>21021946</td>\n",
       "      <td>21021947</td>\n",
       "      <td>140,112,224</td>\n",
       "      <td>chrY:21021882-21022040</td>\n",
       "      <td>21021846</td>\n",
       "      <td>21022046</td>\n",
       "      <td>chrY:21021846-21022046</td>\n",
       "    </tr>\n",
       "  </tbody>\n",
       "</table>\n",
       "<p>130758 rows × 13 columns</p>\n",
       "</div>"
      ],
      "text/plain": [
       "         chr     start       end  \\\n",
       "0       chr1    629831    629954   \n",
       "1       chr1    778597    778779   \n",
       "2       chr1    869817    870104   \n",
       "3       chr1    904714    904924   \n",
       "4       chr1    905143    905666   \n",
       "...      ...       ...       ...   \n",
       "130753  chrY  19567211  19567311   \n",
       "130754  chrY  19744932  19745043   \n",
       "130755  chrY  20575583  20575822   \n",
       "130756  chrY  20575934  20576114   \n",
       "130757  chrY  21021882  21022040   \n",
       "\n",
       "                                                        3  4  5         6  \\\n",
       "0                                               SRF:K-562  1  .    629938   \n",
       "1       SRF:Ishikawa,GM12878,A-673-clone-Asp114,K-562,...  8  .    778671   \n",
       "2                                  SRF:A-673-clone-Asp114  1  .    870004   \n",
       "3                          SRF:GM12878,A-673-clone-Asp114  2  .    904795   \n",
       "4                                  SRF:A-673-clone-Asp114  1  .    905393   \n",
       "...                                                   ... .. ..       ...   \n",
       "130753                                         SRF:Hep-G2  1  .  19567231   \n",
       "130754                                         SRF:Hep-G2  1  .  19744983   \n",
       "130755                                    SRF:WA01,Hep-G2  2  .  20575707   \n",
       "130756                                    SRF:WA01,Hep-G2  2  .  20576046   \n",
       "130757                                         SRF:Hep-G2  1  .  21021946   \n",
       "\n",
       "               7            8              coordinate  summit.start  \\\n",
       "0         629939  140,112,224      chr1:629831-629954        629838   \n",
       "1         778672  140,112,224      chr1:778597-778779        778571   \n",
       "2         870005  140,112,224      chr1:869817-870104        869904   \n",
       "3         904796  140,112,224      chr1:904714-904924        904695   \n",
       "4         905394  140,112,224      chr1:905143-905666        905293   \n",
       "...          ...          ...                     ...           ...   \n",
       "130753  19567232  140,112,224  chrY:19567211-19567311      19567131   \n",
       "130754  19744984  140,112,224  chrY:19744932-19745043      19744883   \n",
       "130755  20575708  140,112,224  chrY:20575583-20575822      20575607   \n",
       "130756  20576047  140,112,224  chrY:20575934-20576114      20575946   \n",
       "130757  21021947  140,112,224  chrY:21021882-21022040      21021846   \n",
       "\n",
       "        summit.end                k.summit  \n",
       "0           630038      chr1:629838-630038  \n",
       "1           778771      chr1:778571-778771  \n",
       "2           870104      chr1:869904-870104  \n",
       "3           904895      chr1:904695-904895  \n",
       "4           905493      chr1:905293-905493  \n",
       "...            ...                     ...  \n",
       "130753    19567331  chrY:19567131-19567331  \n",
       "130754    19745083  chrY:19744883-19745083  \n",
       "130755    20575807  chrY:20575607-20575807  \n",
       "130756    20576146  chrY:20575946-20576146  \n",
       "130757    21022046  chrY:21021846-21022046  \n",
       "\n",
       "[130758 rows x 13 columns]"
      ]
     },
     "execution_count": 150,
     "metadata": {},
     "output_type": "execute_result"
    }
   ],
   "source": [
    "annpath = \"/home/tom/Stage/annotation\"\n",
    "# annpath='/storage/groups/ml01/datasets/annotations'\n",
    "bd.constants.ANNOTATIONS_DIRECTORY = annpath\n",
    "df1 = bd.bindome.datasets.REMAP2020.get_remap_peaks('SRF')\n",
    "df1"
   ]
  },
  {
   "cell_type": "code",
   "execution_count": 151,
   "metadata": {},
   "outputs": [
    {
     "name": "stdout",
     "output_type": "stream",
     "text": [
      "1010 SRF:Ishikawa,GM12878,A-673-clone-Asp114,K-562,WA01,MCF-7,HCT-116,Hep-G2\n",
      "1416 SRF:GM12878,A-673-clone-Asp114\n",
      "629 SRF:Ishikawa,GM12878\n",
      "578 SRF:Ishikawa,MCF-7\n",
      "711 SRF:A-673-clone-Asp114,K-562\n",
      "959 SRF:A-673-clone-Asp114,Hep-G2\n",
      "1149 SRF:WA01\n",
      "646 SRF:A-673-clone-Asp114,HCT-116\n"
     ]
    }
   ],
   "source": [
    "import pandas as pd\n",
    "name = pd.unique(list(df1[3]))\n",
    "for n in name : \n",
    "    if df1[df1[3]==n].shape[0] > 450 and df1[df1[3]==n].shape[0] < 2000 : \n",
    "        print(df1[df1[3]==n].shape[0],n)"
   ]
  },
  {
   "cell_type": "markdown",
   "metadata": {},
   "source": [
    "Find the biosample used in the publication of great (556 genomic regions)"
   ]
  },
  {
   "cell_type": "code",
   "execution_count": 152,
   "metadata": {},
   "outputs": [],
   "source": [
    "df1 = df1[df1[3]==\"SRF:Ishikawa,MCF-7\"]\n",
    "df1 = df1.rename(columns={\"chr\":'Chr','start':\"Chr_start\",'end':\"Chr_end\"})"
   ]
  },
  {
   "cell_type": "markdown",
   "metadata": {},
   "source": [
    "Path should be modify when I have access to servers"
   ]
  },
  {
   "cell_type": "code",
   "execution_count": 153,
   "metadata": {},
   "outputs": [],
   "source": [
    "df1.to_csv('~/Stage/bindome_df.bed',sep='\\t', index=False,header=False, columns=['Chr','Chr_start','Chr_end'])"
   ]
  },
  {
   "cell_type": "code",
   "execution_count": 154,
   "metadata": {},
   "outputs": [],
   "source": [
    "# df = great.tl.enrichment(\n",
    "#     test = '~/Stage/bindome_df.bed',\n",
    "#     regdom_file=\"~/Stage/greatpy/data/human/regulatory_domain.bed\",\n",
    "#     chr_size_file=\"~/Stage/greatpy/data/human/chr_size.bed\",\n",
    "#     annotation=\"~/Stage/greatpy/data/human/ontologies.csv\",\n",
    "#     binom=True,\n",
    "#     hypergeom=True,\n",
    "#     alpha=0.05,\n",
    "#     correction=(\"fdr\",0.05),\n",
    "#     sort_by=\"binom_fdr_correction\",\n",
    "#     )\n"
   ]
  },
  {
   "cell_type": "code",
   "execution_count": 155,
   "metadata": {},
   "outputs": [],
   "source": [
    "# df "
   ]
  },
  {
   "cell_type": "markdown",
   "metadata": {},
   "source": [
    "Computation time to much longer, more than 3 hours locally"
   ]
  }
 ],
 "metadata": {
  "kernelspec": {
   "display_name": "Python 3.8.10 64-bit",
   "language": "python",
   "name": "python3"
  },
  "language_info": {
   "codemirror_mode": {
    "name": "ipython",
    "version": 3
   },
   "file_extension": ".py",
   "mimetype": "text/x-python",
   "name": "python",
   "nbconvert_exporter": "python",
   "pygments_lexer": "ipython3",
   "version": "3.8.10"
  },
  "orig_nbformat": 4,
  "vscode": {
   "interpreter": {
    "hash": "31f2aee4e71d21fbe5cf8b01ff0e069b9275f58929596ceb00d14d90e3e16cd6"
   }
  }
 },
 "nbformat": 4,
 "nbformat_minor": 2
}
