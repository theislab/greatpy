{
 "cells": [
  {
   "cell_type": "markdown",
   "metadata": {},
   "source": [
    "# Example of combined use of bindome and greatpy "
   ]
  },
  {
   "cell_type": "markdown",
   "metadata": {},
   "source": [
    "This notebook shows how to combine the bindome package and greatpy. For this it is necessary to have a file annotations which is in /storage/groups/ml01/datasets/. "
   ]
  },
  {
   "cell_type": "markdown",
   "metadata": {},
   "source": [
    "The test will be done on the SRF file in order to obtain the same results as in the publication of great:  "
   ]
  },
  {
   "cell_type": "code",
   "execution_count": 6,
   "metadata": {},
   "outputs": [
    {
     "name": "stdout",
     "output_type": "stream",
     "text": [
      "The autoreload extension is already loaded. To reload it, use:\n",
      "  %reload_ext autoreload\n",
      "The line_profiler extension is already loaded. To reload it, use:\n",
      "  %reload_ext line_profiler\n"
     ]
    }
   ],
   "source": [
    "%load_ext autoreload\n",
    "%autoreload 2\n",
    "%load_ext line_profiler"
   ]
  },
  {
   "cell_type": "code",
   "execution_count": 7,
   "metadata": {},
   "outputs": [],
   "source": [
    "import greatpy as great\n",
    "import bindome as bd\n",
    "import warnings\n",
    "warnings.filterwarnings('ignore')"
   ]
  },
  {
   "cell_type": "code",
   "execution_count": 11,
   "metadata": {},
   "outputs": [
    {
     "ename": "AttributeError",
     "evalue": "module 'bindome' has no attribute 'constants'",
     "output_type": "error",
     "traceback": [
      "\u001b[0;31m---------------------------------------------------------------------------\u001b[0m",
      "\u001b[0;31mAttributeError\u001b[0m                            Traceback (most recent call last)",
      "\u001b[1;32m/home/icb/tom.mauger-birocheau/internship/greatpy-1/notebooks/05_peaks_using_bindome.ipynb Cell 6\u001b[0m in \u001b[0;36m<cell line: 5>\u001b[0;34m()\u001b[0m\n\u001b[1;32m      <a href='vscode-notebook-cell://ssh-remote%2Bicb-lisa/home/icb/tom.mauger-birocheau/internship/greatpy-1/notebooks/05_peaks_using_bindome.ipynb#ch0000005vscode-remote?line=2'>3</a>\u001b[0m bd\u001b[39m.\u001b[39mbindome\u001b[39m.\u001b[39mconstants\u001b[39m.\u001b[39mANNOTATIONS_DIRECTORY \u001b[39m=\u001b[39m annpath\n\u001b[1;32m      <a href='vscode-notebook-cell://ssh-remote%2Bicb-lisa/home/icb/tom.mauger-birocheau/internship/greatpy-1/notebooks/05_peaks_using_bindome.ipynb#ch0000005vscode-remote?line=3'>4</a>\u001b[0m \u001b[39m# bd.constants.ANNOTATIONS_DIRECTORY = annpath\u001b[39;00m\n\u001b[0;32m----> <a href='vscode-notebook-cell://ssh-remote%2Bicb-lisa/home/icb/tom.mauger-birocheau/internship/greatpy-1/notebooks/05_peaks_using_bindome.ipynb#ch0000005vscode-remote?line=4'>5</a>\u001b[0m df1 \u001b[39m=\u001b[39m bd\u001b[39m.\u001b[39;49mbindome\u001b[39m.\u001b[39;49mdatasets\u001b[39m.\u001b[39;49mREMAP2020\u001b[39m.\u001b[39;49mget_remap_peaks(\u001b[39m'\u001b[39;49m\u001b[39mSRF\u001b[39;49m\u001b[39m'\u001b[39;49m)\n\u001b[1;32m      <a href='vscode-notebook-cell://ssh-remote%2Bicb-lisa/home/icb/tom.mauger-birocheau/internship/greatpy-1/notebooks/05_peaks_using_bindome.ipynb#ch0000005vscode-remote?line=5'>6</a>\u001b[0m df1\n",
      "File \u001b[0;32m~/miniconda3/lib/python3.8/site-packages/bindome/datasets/remap2020.py:21\u001b[0m, in \u001b[0;36mREMAP2020.get_remap_peaks\u001b[0;34m(tf, genome, check, summit_extend, remove_non_canonical_chromosomes)\u001b[0m\n\u001b[1;32m     19\u001b[0m p \u001b[39m=\u001b[39m \u001b[39mNone\u001b[39;00m\n\u001b[1;32m     20\u001b[0m \u001b[39mif\u001b[39;00m tf \u001b[39mis\u001b[39;00m \u001b[39mnot\u001b[39;00m \u001b[39mNone\u001b[39;00m:\n\u001b[0;32m---> 21\u001b[0m     p \u001b[39m=\u001b[39m REMAP2020\u001b[39m.\u001b[39;49mget_remap_peaks_path(tf)\n\u001b[1;32m     22\u001b[0m \u001b[39melse\u001b[39;00m:\n\u001b[1;32m     23\u001b[0m     p \u001b[39m=\u001b[39m \u001b[39m'\u001b[39m\u001b[39m/g/scb2/zaugg/rio/data/remap2/ReMap2_nrPeaks_hg19.bed.gz\u001b[39m\u001b[39m'\u001b[39m\n",
      "File \u001b[0;32m~/miniconda3/lib/python3.8/site-packages/bindome/datasets/remap2020.py:196\u001b[0m, in \u001b[0;36mREMAP2020.get_remap_peaks_path\u001b[0;34m(tf_name)\u001b[0m\n\u001b[1;32m    192\u001b[0m \u001b[39m@staticmethod\u001b[39m\n\u001b[1;32m    193\u001b[0m \u001b[39mdef\u001b[39;00m \u001b[39mget_remap_peaks_path\u001b[39m(tf_name):\n\u001b[1;32m    194\u001b[0m     \u001b[39m#tf_id = tf_name.lower()\u001b[39;00m\n\u001b[0;32m--> 196\u001b[0m     basedir \u001b[39m=\u001b[39m join(bd\u001b[39m.\u001b[39;49mconstants\u001b[39m.\u001b[39mANNOTATIONS_DIRECTORY, \u001b[39m'\u001b[39m\u001b[39mremap/remap3/nrPeaks\u001b[39m\u001b[39m'\u001b[39m)\n\u001b[1;32m    198\u001b[0m     \u001b[39mif\u001b[39;00m \u001b[39mnot\u001b[39;00m exists(basedir):\n\u001b[1;32m    199\u001b[0m         \u001b[39mprint\u001b[39m(\u001b[39m'\u001b[39m\u001b[39mplease include this data directory to run loading of peaks successfully\u001b[39m\u001b[39m'\u001b[39m)\n",
      "\u001b[0;31mAttributeError\u001b[0m: module 'bindome' has no attribute 'constants'"
     ]
    }
   ],
   "source": [
    "# annpath = \"/home/tom/Stage/annotation\"\n",
    "annpath='/storage/groups/ml01/datasets/annotations'\n",
    "bd.bindome.constants.ANNOTATIONS_DIRECTORY = annpath\n",
    "df1 = bd.bindome.datasets.REMAP2020.get_remap_peaks('SRF')\n",
    "df1"
   ]
  },
  {
   "cell_type": "markdown",
   "metadata": {},
   "source": [
    "Path should be modify when I have access to servers"
   ]
  },
  {
   "cell_type": "code",
   "execution_count": 5,
   "metadata": {},
   "outputs": [
    {
     "name": "stdout",
     "output_type": "stream",
     "text": [
      "1010 SRF:Ishikawa,GM12878,A-673-clone-Asp114,K-562,WA01,MCF-7,HCT-116,Hep-G2\n",
      "1416 SRF:GM12878,A-673-clone-Asp114\n",
      "629 SRF:Ishikawa,GM12878\n",
      "578 SRF:Ishikawa,MCF-7\n",
      "711 SRF:A-673-clone-Asp114,K-562\n",
      "959 SRF:A-673-clone-Asp114,Hep-G2\n",
      "1149 SRF:WA01\n",
      "646 SRF:A-673-clone-Asp114,HCT-116\n"
     ]
    }
   ],
   "source": [
    "import pandas as pd\n",
    "name = pd.unique(list(df1[3]))\n",
    "for n in name : \n",
    "    if df1[df1[3]==n].shape[0] > 450 and df1[df1[3]==n].shape[0] < 2000 : \n",
    "        print(df1[df1[3]==n].shape[0],n)"
   ]
  },
  {
   "cell_type": "markdown",
   "metadata": {},
   "source": [
    "Find the biosample used in the publication of great (556 genomic regions)"
   ]
  },
  {
   "cell_type": "code",
   "execution_count": 6,
   "metadata": {},
   "outputs": [
    {
     "data": {
      "text/html": [
       "<div>\n",
       "<style scoped>\n",
       "    .dataframe tbody tr th:only-of-type {\n",
       "        vertical-align: middle;\n",
       "    }\n",
       "\n",
       "    .dataframe tbody tr th {\n",
       "        vertical-align: top;\n",
       "    }\n",
       "\n",
       "    .dataframe thead th {\n",
       "        text-align: right;\n",
       "    }\n",
       "</style>\n",
       "<table border=\"1\" class=\"dataframe\">\n",
       "  <thead>\n",
       "    <tr style=\"text-align: right;\">\n",
       "      <th></th>\n",
       "      <th>Chr</th>\n",
       "      <th>Chr_start</th>\n",
       "      <th>Chr_end</th>\n",
       "    </tr>\n",
       "  </thead>\n",
       "  <tbody>\n",
       "    <tr>\n",
       "      <th>47</th>\n",
       "      <td>chr1</td>\n",
       "      <td>1157504</td>\n",
       "      <td>1157660</td>\n",
       "    </tr>\n",
       "    <tr>\n",
       "      <th>178</th>\n",
       "      <td>chr1</td>\n",
       "      <td>2586482</td>\n",
       "      <td>2586614</td>\n",
       "    </tr>\n",
       "    <tr>\n",
       "      <th>241</th>\n",
       "      <td>chr1</td>\n",
       "      <td>3900438</td>\n",
       "      <td>3900894</td>\n",
       "    </tr>\n",
       "    <tr>\n",
       "      <th>371</th>\n",
       "      <td>chr1</td>\n",
       "      <td>6785102</td>\n",
       "      <td>6785311</td>\n",
       "    </tr>\n",
       "    <tr>\n",
       "      <th>708</th>\n",
       "      <td>chr1</td>\n",
       "      <td>10796590</td>\n",
       "      <td>10796818</td>\n",
       "    </tr>\n",
       "    <tr>\n",
       "      <th>...</th>\n",
       "      <td>...</td>\n",
       "      <td>...</td>\n",
       "      <td>...</td>\n",
       "    </tr>\n",
       "    <tr>\n",
       "      <th>130119</th>\n",
       "      <td>chrX</td>\n",
       "      <td>132023226</td>\n",
       "      <td>132023393</td>\n",
       "    </tr>\n",
       "    <tr>\n",
       "      <th>130187</th>\n",
       "      <td>chrX</td>\n",
       "      <td>133418786</td>\n",
       "      <td>133418958</td>\n",
       "    </tr>\n",
       "    <tr>\n",
       "      <th>130266</th>\n",
       "      <td>chrX</td>\n",
       "      <td>135344596</td>\n",
       "      <td>135344830</td>\n",
       "    </tr>\n",
       "    <tr>\n",
       "      <th>130562</th>\n",
       "      <td>chrX</td>\n",
       "      <td>152830686</td>\n",
       "      <td>152830951</td>\n",
       "    </tr>\n",
       "    <tr>\n",
       "      <th>130645</th>\n",
       "      <td>chrX</td>\n",
       "      <td>154000071</td>\n",
       "      <td>154000286</td>\n",
       "    </tr>\n",
       "  </tbody>\n",
       "</table>\n",
       "<p>578 rows × 3 columns</p>\n",
       "</div>"
      ],
      "text/plain": [
       "         Chr  Chr_start    Chr_end\n",
       "47      chr1    1157504    1157660\n",
       "178     chr1    2586482    2586614\n",
       "241     chr1    3900438    3900894\n",
       "371     chr1    6785102    6785311\n",
       "708     chr1   10796590   10796818\n",
       "...      ...        ...        ...\n",
       "130119  chrX  132023226  132023393\n",
       "130187  chrX  133418786  133418958\n",
       "130266  chrX  135344596  135344830\n",
       "130562  chrX  152830686  152830951\n",
       "130645  chrX  154000071  154000286\n",
       "\n",
       "[578 rows x 3 columns]"
      ]
     },
     "execution_count": 6,
     "metadata": {},
     "output_type": "execute_result"
    }
   ],
   "source": [
    "df1 = df1[df1[3]==\"SRF:Ishikawa,MCF-7\"].iloc[:,0:3]\n",
    "df1 = df1.rename(columns={\"chr\":'Chr','start':\"Chr_start\",'end':\"Chr_end\"})\n",
    "df1"
   ]
  },
  {
   "cell_type": "code",
   "execution_count": 7,
   "metadata": {},
   "outputs": [],
   "source": [
    "df1.to_csv('~/Stage/bindome_df.bed',sep='\\t', index=False,header=False, columns=['Chr','Chr_start','Chr_end'])"
   ]
  },
  {
   "cell_type": "markdown",
   "metadata": {},
   "source": [
    "test to try to understand the computing time problem"
   ]
  },
  {
   "cell_type": "code",
   "execution_count": 8,
   "metadata": {},
   "outputs": [],
   "source": [
    "res = great.tl.enrichment(\n",
    "    test = df1,\n",
    "    regdom_file=\"../data/human/hg38/regulatory_domain.bed\",\n",
    "    chr_size_file=\"../data/human/hg38/chr_size.bed\",\n",
    "    annotation=\"../data/human/ontologies.csv\",\n",
    "    binom=True,\n",
    "    hypergeom=True,\n",
    "    )"
   ]
  },
  {
   "cell_type": "code",
   "execution_count": 9,
   "metadata": {},
   "outputs": [
    {
     "data": {
      "text/html": [
       "<div>\n",
       "<style scoped>\n",
       "    .dataframe tbody tr th:only-of-type {\n",
       "        vertical-align: middle;\n",
       "    }\n",
       "\n",
       "    .dataframe tbody tr th {\n",
       "        vertical-align: top;\n",
       "    }\n",
       "\n",
       "    .dataframe thead th {\n",
       "        text-align: right;\n",
       "    }\n",
       "</style>\n",
       "<table border=\"1\" class=\"dataframe\">\n",
       "  <thead>\n",
       "    <tr style=\"text-align: right;\">\n",
       "      <th></th>\n",
       "      <th>go_term</th>\n",
       "      <th>binom_p_value</th>\n",
       "      <th>hypergeom_p_value</th>\n",
       "    </tr>\n",
       "  </thead>\n",
       "  <tbody>\n",
       "    <tr>\n",
       "      <th>GO:0005654</th>\n",
       "      <td>nucleoplasm</td>\n",
       "      <td>7.96834e-09</td>\n",
       "      <td>NaN</td>\n",
       "    </tr>\n",
       "    <tr>\n",
       "      <th>GO:0003887</th>\n",
       "      <td>DNA-directed DNA polymerase activity</td>\n",
       "      <td>5.10697e-07</td>\n",
       "      <td>NaN</td>\n",
       "    </tr>\n",
       "    <tr>\n",
       "      <th>GO:0051017</th>\n",
       "      <td>actin filament bundle assembly</td>\n",
       "      <td>3.61995e-06</td>\n",
       "      <td>NaN</td>\n",
       "    </tr>\n",
       "    <tr>\n",
       "      <th>GO:0000922</th>\n",
       "      <td>spindle pole</td>\n",
       "      <td>5.91668e-06</td>\n",
       "      <td>NaN</td>\n",
       "    </tr>\n",
       "    <tr>\n",
       "      <th>GO:0051271</th>\n",
       "      <td>negative regulation of cellular component move...</td>\n",
       "      <td>6.22242e-06</td>\n",
       "      <td>NaN</td>\n",
       "    </tr>\n",
       "    <tr>\n",
       "      <th>...</th>\n",
       "      <td>...</td>\n",
       "      <td>...</td>\n",
       "      <td>...</td>\n",
       "    </tr>\n",
       "    <tr>\n",
       "      <th>GO:2000781</th>\n",
       "      <td>positive regulation of double-strand break repair</td>\n",
       "      <td>1</td>\n",
       "      <td>NaN</td>\n",
       "    </tr>\n",
       "    <tr>\n",
       "      <th>GO:0070649</th>\n",
       "      <td>formin-nucleated actin cable assembly</td>\n",
       "      <td>1</td>\n",
       "      <td>NaN</td>\n",
       "    </tr>\n",
       "    <tr>\n",
       "      <th>GO:0051295</th>\n",
       "      <td>establishment of meiotic spindle localization</td>\n",
       "      <td>1</td>\n",
       "      <td>NaN</td>\n",
       "    </tr>\n",
       "    <tr>\n",
       "      <th>GO:0010643</th>\n",
       "      <td>cell communication by chemical coupling</td>\n",
       "      <td>1</td>\n",
       "      <td>NaN</td>\n",
       "    </tr>\n",
       "    <tr>\n",
       "      <th>GO:0043185</th>\n",
       "      <td>vascular endothelial growth factor receptor 3 ...</td>\n",
       "      <td>1</td>\n",
       "      <td>NaN</td>\n",
       "    </tr>\n",
       "  </tbody>\n",
       "</table>\n",
       "<p>4362 rows × 3 columns</p>\n",
       "</div>"
      ],
      "text/plain": [
       "                                                      go_term binom_p_value  \\\n",
       "GO:0005654                                        nucleoplasm   7.96834e-09   \n",
       "GO:0003887               DNA-directed DNA polymerase activity   5.10697e-07   \n",
       "GO:0051017                     actin filament bundle assembly   3.61995e-06   \n",
       "GO:0000922                                       spindle pole   5.91668e-06   \n",
       "GO:0051271  negative regulation of cellular component move...   6.22242e-06   \n",
       "...                                                       ...           ...   \n",
       "GO:2000781  positive regulation of double-strand break repair             1   \n",
       "GO:0070649              formin-nucleated actin cable assembly             1   \n",
       "GO:0051295      establishment of meiotic spindle localization             1   \n",
       "GO:0010643            cell communication by chemical coupling             1   \n",
       "GO:0043185  vascular endothelial growth factor receptor 3 ...             1   \n",
       "\n",
       "           hypergeom_p_value  \n",
       "GO:0005654               NaN  \n",
       "GO:0003887               NaN  \n",
       "GO:0051017               NaN  \n",
       "GO:0000922               NaN  \n",
       "GO:0051271               NaN  \n",
       "...                      ...  \n",
       "GO:2000781               NaN  \n",
       "GO:0070649               NaN  \n",
       "GO:0051295               NaN  \n",
       "GO:0010643               NaN  \n",
       "GO:0043185               NaN  \n",
       "\n",
       "[4362 rows x 3 columns]"
      ]
     },
     "execution_count": 9,
     "metadata": {},
     "output_type": "execute_result"
    }
   ],
   "source": [
    "res"
   ]
  }
 ],
 "metadata": {
  "kernelspec": {
   "display_name": "Python 3.8.13 ('base')",
   "language": "python",
   "name": "python3"
  },
  "language_info": {
   "codemirror_mode": {
    "name": "ipython",
    "version": 3
   },
   "file_extension": ".py",
   "mimetype": "text/x-python",
   "name": "python",
   "nbconvert_exporter": "python",
   "pygments_lexer": "ipython3",
   "version": "3.8.13"
  },
  "orig_nbformat": 4,
  "vscode": {
   "interpreter": {
    "hash": "dd3aa23b046397ccf7f1ffb7cb82646c26b15f0b12555a0fca8fb427d9fb147f"
   }
  }
 },
 "nbformat": 4,
 "nbformat_minor": 2
}
