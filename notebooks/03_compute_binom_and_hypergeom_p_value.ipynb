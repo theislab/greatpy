{
 "cells": [
  {
   "cell_type": "markdown",
   "metadata": {},
   "source": [
    "# Computation of annotation enrichment in a genetic set "
   ]
  },
  {
   "cell_type": "markdown",
   "metadata": {},
   "source": [
    "This code excerpt shows how to use the annotation enrichment computation function in a genetic set.\n",
    "The funciton return a dataframe of binom and hypergeometric p-value (<= 0.05) and for each p-value a fdr correction with alpha = 0.05.   "
   ]
  },
  {
   "cell_type": "markdown",
   "metadata": {},
   "source": [
    "In the second part of the code we will compare the results obtained with the Great webserver and between the binomial and hypergeometric probability"
   ]
  },
  {
   "cell_type": "code",
   "execution_count": 2,
   "metadata": {},
   "outputs": [],
   "source": [
    "%load_ext autoreload\n",
    "%autoreload 2"
   ]
  },
  {
   "cell_type": "code",
   "execution_count": 3,
   "metadata": {},
   "outputs": [],
   "source": [
    "import greatpy as great"
   ]
  },
  {
   "cell_type": "markdown",
   "metadata": {},
   "source": [
    "## I Compute the p-values"
   ]
  },
  {
   "cell_type": "code",
   "execution_count": 4,
   "metadata": {},
   "outputs": [
    {
     "name": "stderr",
     "output_type": "stream",
     "text": [
      "c:\\Users\\Tom\\anaconda3\\lib\\site-packages\\statsmodels\\stats\\multitest.py:339: RuntimeWarning: invalid value encountered in less_equal\n",
      "  reject = pvals_sorted <= ecdffactor*alpha\n",
      "c:\\Users\\Tom\\anaconda3\\lib\\site-packages\\statsmodels\\stats\\multitest.py:347: RuntimeWarning: invalid value encountered in greater\n",
      "  pvals_corrected[pvals_corrected>1] = 1\n"
     ]
    }
   ],
   "source": [
    "enrichment_fdr = great.tl.enrichment(\n",
    "    test=\"../data/human/test_genomic_region.bed\",\n",
    "    regdom_file=\"../data/human/regulatory_domain.bed\",\n",
    "    chr_size_file=\"../data/human/chr_size.bed\",\n",
    "    annotation=\"../data/human/ontologies.csv\",\n",
    "    binom=True,\n",
    "    hypergeom=True,\n",
    "    alpha=0.05,\n",
    "    correction=(\"fdr\",0.05),\n",
    "    sort_by=\"binom_fdr_correction\",\n",
    "    )"
   ]
  },
  {
   "cell_type": "code",
   "execution_count": 5,
   "metadata": {},
   "outputs": [
    {
     "data": {
      "text/html": [
       "<div>\n",
       "<style scoped>\n",
       "    .dataframe tbody tr th:only-of-type {\n",
       "        vertical-align: middle;\n",
       "    }\n",
       "\n",
       "    .dataframe tbody tr th {\n",
       "        vertical-align: top;\n",
       "    }\n",
       "\n",
       "    .dataframe thead th {\n",
       "        text-align: right;\n",
       "    }\n",
       "</style>\n",
       "<table border=\"1\" class=\"dataframe\">\n",
       "  <thead>\n",
       "    <tr style=\"text-align: right;\">\n",
       "      <th></th>\n",
       "      <th>go_term</th>\n",
       "      <th>binom_p_value</th>\n",
       "      <th>hypergeom_p_value</th>\n",
       "      <th>binom_fdr_correction</th>\n",
       "      <th>hypergeom_fdr_correction</th>\n",
       "    </tr>\n",
       "  </thead>\n",
       "  <tbody>\n",
       "    <tr>\n",
       "      <th>GO:0045887</th>\n",
       "      <td>positive regulation of synaptic growth at neur...</td>\n",
       "      <td>5.17744e-13</td>\n",
       "      <td>2.92750e-03</td>\n",
       "      <td>3.07540e-10</td>\n",
       "      <td>9.64682e-02</td>\n",
       "    </tr>\n",
       "    <tr>\n",
       "      <th>GO:0016561</th>\n",
       "      <td>protein import into peroxisome matrix, translo...</td>\n",
       "      <td>6.31131e-10</td>\n",
       "      <td>5.84656e-03</td>\n",
       "      <td>9.37230e-08</td>\n",
       "      <td>9.64682e-02</td>\n",
       "    </tr>\n",
       "    <tr>\n",
       "      <th>GO:0044721</th>\n",
       "      <td>protein import into peroxisome matrix, substra...</td>\n",
       "      <td>4.83812e-10</td>\n",
       "      <td>2.92750e-03</td>\n",
       "      <td>9.37230e-08</td>\n",
       "      <td>9.64682e-02</td>\n",
       "    </tr>\n",
       "    <tr>\n",
       "      <th>GO:0036250</th>\n",
       "      <td>peroxisome transport along microtubule</td>\n",
       "      <td>4.83812e-10</td>\n",
       "      <td>2.92750e-03</td>\n",
       "      <td>9.37230e-08</td>\n",
       "      <td>9.64682e-02</td>\n",
       "    </tr>\n",
       "    <tr>\n",
       "      <th>GO:0047485</th>\n",
       "      <td>protein N-terminus binding</td>\n",
       "      <td>1.29450e-09</td>\n",
       "      <td>5.03770e-03</td>\n",
       "      <td>1.53786e-07</td>\n",
       "      <td>9.64682e-02</td>\n",
       "    </tr>\n",
       "    <tr>\n",
       "      <th>...</th>\n",
       "      <td>...</td>\n",
       "      <td>...</td>\n",
       "      <td>...</td>\n",
       "      <td>...</td>\n",
       "      <td>...</td>\n",
       "    </tr>\n",
       "    <tr>\n",
       "      <th>GO:0072197</th>\n",
       "      <td>ureter morphogenesis</td>\n",
       "      <td>1.97164e-02</td>\n",
       "      <td>5.84656e-03</td>\n",
       "      <td>4.43620e-02</td>\n",
       "      <td>9.64682e-02</td>\n",
       "    </tr>\n",
       "    <tr>\n",
       "      <th>GO:0061138</th>\n",
       "      <td>morphogenesis of a branching epithelium</td>\n",
       "      <td>2.06973e-02</td>\n",
       "      <td>8.75719e-03</td>\n",
       "      <td>4.63932e-02</td>\n",
       "      <td>1.00034e-01</td>\n",
       "    </tr>\n",
       "    <tr>\n",
       "      <th>GO:0045063</th>\n",
       "      <td>T-helper 1 cell differentiation</td>\n",
       "      <td>2.11867e-02</td>\n",
       "      <td>1.45533e-02</td>\n",
       "      <td>4.71344e-02</td>\n",
       "      <td>1.06496e-01</td>\n",
       "    </tr>\n",
       "    <tr>\n",
       "      <th>GO:0006888</th>\n",
       "      <td>ER to Golgi vesicle-mediated transport</td>\n",
       "      <td>2.11222e-02</td>\n",
       "      <td>5.36764e-01</td>\n",
       "      <td>4.71344e-02</td>\n",
       "      <td>6.10801e-01</td>\n",
       "    </tr>\n",
       "    <tr>\n",
       "      <th>GO:0005518</th>\n",
       "      <td>collagen binding</td>\n",
       "      <td>2.14472e-02</td>\n",
       "      <td>1.95307e-01</td>\n",
       "      <td>4.75360e-02</td>\n",
       "      <td>3.01331e-01</td>\n",
       "    </tr>\n",
       "  </tbody>\n",
       "</table>\n",
       "<p>268 rows × 5 columns</p>\n",
       "</div>"
      ],
      "text/plain": [
       "                                                      go_term binom_p_value  \\\n",
       "GO:0045887  positive regulation of synaptic growth at neur...   5.17744e-13   \n",
       "GO:0016561  protein import into peroxisome matrix, translo...   6.31131e-10   \n",
       "GO:0044721  protein import into peroxisome matrix, substra...   4.83812e-10   \n",
       "GO:0036250             peroxisome transport along microtubule   4.83812e-10   \n",
       "GO:0047485                         protein N-terminus binding   1.29450e-09   \n",
       "...                                                       ...           ...   \n",
       "GO:0072197                               ureter morphogenesis   1.97164e-02   \n",
       "GO:0061138            morphogenesis of a branching epithelium   2.06973e-02   \n",
       "GO:0045063                    T-helper 1 cell differentiation   2.11867e-02   \n",
       "GO:0006888             ER to Golgi vesicle-mediated transport   2.11222e-02   \n",
       "GO:0005518                                   collagen binding   2.14472e-02   \n",
       "\n",
       "           hypergeom_p_value binom_fdr_correction hypergeom_fdr_correction  \n",
       "GO:0045887       2.92750e-03          3.07540e-10              9.64682e-02  \n",
       "GO:0016561       5.84656e-03          9.37230e-08              9.64682e-02  \n",
       "GO:0044721       2.92750e-03          9.37230e-08              9.64682e-02  \n",
       "GO:0036250       2.92750e-03          9.37230e-08              9.64682e-02  \n",
       "GO:0047485       5.03770e-03          1.53786e-07              9.64682e-02  \n",
       "...                      ...                  ...                      ...  \n",
       "GO:0072197       5.84656e-03          4.43620e-02              9.64682e-02  \n",
       "GO:0061138       8.75719e-03          4.63932e-02              1.00034e-01  \n",
       "GO:0045063       1.45533e-02          4.71344e-02              1.06496e-01  \n",
       "GO:0006888       5.36764e-01          4.71344e-02              6.10801e-01  \n",
       "GO:0005518       1.95307e-01          4.75360e-02              3.01331e-01  \n",
       "\n",
       "[268 rows x 5 columns]"
      ]
     },
     "execution_count": 5,
     "metadata": {},
     "output_type": "execute_result"
    }
   ],
   "source": [
    "enrichment_fdr"
   ]
  },
  {
   "cell_type": "code",
   "execution_count": 6,
   "metadata": {},
   "outputs": [
    {
     "name": "stderr",
     "output_type": "stream",
     "text": [
      "c:\\Users\\Tom\\anaconda3\\lib\\site-packages\\statsmodels\\stats\\multitest.py:150: RuntimeWarning: invalid value encountered in less_equal\n",
      "  reject = pvals <= alphacBonf\n",
      "c:\\Users\\Tom\\anaconda3\\lib\\site-packages\\statsmodels\\stats\\multitest.py:257: RuntimeWarning: invalid value encountered in greater\n",
      "  pvals_corrected[pvals_corrected>1] = 1\n"
     ]
    }
   ],
   "source": [
    "enrichment_bonferroni = great.tl.enrichment(\n",
    "    test=\"../data/human/test_genomic_region.bed\",\n",
    "    regdom_file=\"../data/human/regulatory_domain.bed\",\n",
    "    chr_size_file=\"../data/human/chr_size.bed\",\n",
    "    annotation=\"../data/human/ontologies.csv\",\n",
    "    binom=True,\n",
    "    hypergeom=True,\n",
    "    alpha=0.05,\n",
    "    correction=(\"bonferroni\",0.05),\n",
    "    )"
   ]
  },
  {
   "cell_type": "code",
   "execution_count": 7,
   "metadata": {},
   "outputs": [
    {
     "data": {
      "text/html": [
       "<div>\n",
       "<style scoped>\n",
       "    .dataframe tbody tr th:only-of-type {\n",
       "        vertical-align: middle;\n",
       "    }\n",
       "\n",
       "    .dataframe tbody tr th {\n",
       "        vertical-align: top;\n",
       "    }\n",
       "\n",
       "    .dataframe thead th {\n",
       "        text-align: right;\n",
       "    }\n",
       "</style>\n",
       "<table border=\"1\" class=\"dataframe\">\n",
       "  <thead>\n",
       "    <tr style=\"text-align: right;\">\n",
       "      <th></th>\n",
       "      <th>go_term</th>\n",
       "      <th>binom_p_value</th>\n",
       "      <th>hypergeom_p_value</th>\n",
       "      <th>binom_bonferroni_correction</th>\n",
       "      <th>hypergeom_bonferroni_correction</th>\n",
       "    </tr>\n",
       "  </thead>\n",
       "  <tbody>\n",
       "    <tr>\n",
       "      <th>GO:0002162</th>\n",
       "      <td>dystroglycan binding</td>\n",
       "      <td>1.29786e-05</td>\n",
       "      <td>4.02252e-02</td>\n",
       "      <td>7.70928e-03</td>\n",
       "      <td>1</td>\n",
       "    </tr>\n",
       "    <tr>\n",
       "      <th>GO:0007213</th>\n",
       "      <td>G protein-coupled acetylcholine receptor signa...</td>\n",
       "      <td>4.28794e-05</td>\n",
       "      <td>4.86352e-02</td>\n",
       "      <td>2.54703e-02</td>\n",
       "      <td>1</td>\n",
       "    </tr>\n",
       "    <tr>\n",
       "      <th>GO:0033691</th>\n",
       "      <td>sialic acid binding</td>\n",
       "      <td>1.83861e-06</td>\n",
       "      <td>3.45779e-02</td>\n",
       "      <td>1.09214e-03</td>\n",
       "      <td>1</td>\n",
       "    </tr>\n",
       "    <tr>\n",
       "      <th>GO:0035374</th>\n",
       "      <td>chondroitin sulfate binding</td>\n",
       "      <td>1.06551e-06</td>\n",
       "      <td>2.60455e-02</td>\n",
       "      <td>6.32912e-04</td>\n",
       "      <td>1</td>\n",
       "    </tr>\n",
       "    <tr>\n",
       "      <th>GO:0043113</th>\n",
       "      <td>receptor clustering</td>\n",
       "      <td>6.53249e-05</td>\n",
       "      <td>7.61475e-02</td>\n",
       "      <td>3.88030e-02</td>\n",
       "      <td>1</td>\n",
       "    </tr>\n",
       "    <tr>\n",
       "      <th>...</th>\n",
       "      <td>...</td>\n",
       "      <td>...</td>\n",
       "      <td>...</td>\n",
       "      <td>...</td>\n",
       "      <td>...</td>\n",
       "    </tr>\n",
       "    <tr>\n",
       "      <th>GO:0008479</th>\n",
       "      <td>queuine tRNA-ribosyltransferase activity</td>\n",
       "      <td>1.75630e-05</td>\n",
       "      <td>1.16594e-02</td>\n",
       "      <td>1.04324e-02</td>\n",
       "      <td>1</td>\n",
       "    </tr>\n",
       "    <tr>\n",
       "      <th>GO:0101030</th>\n",
       "      <td>tRNA-guanine transglycosylation</td>\n",
       "      <td>2.90290e-05</td>\n",
       "      <td>1.16594e-02</td>\n",
       "      <td>1.72432e-02</td>\n",
       "      <td>1</td>\n",
       "    </tr>\n",
       "    <tr>\n",
       "      <th>GO:0044323</th>\n",
       "      <td>retinoic acid-responsive element binding</td>\n",
       "      <td>4.63051e-07</td>\n",
       "      <td>1.16594e-02</td>\n",
       "      <td>2.75052e-04</td>\n",
       "      <td>1</td>\n",
       "    </tr>\n",
       "    <tr>\n",
       "      <th>GO:0048387</th>\n",
       "      <td>negative regulation of retinoic acid receptor ...</td>\n",
       "      <td>8.90815e-06</td>\n",
       "      <td>2.60455e-02</td>\n",
       "      <td>5.29144e-03</td>\n",
       "      <td>1</td>\n",
       "    </tr>\n",
       "    <tr>\n",
       "      <th>GO:0002087</th>\n",
       "      <td>regulation of respiratory gaseous exchange by ...</td>\n",
       "      <td>2.07002e-05</td>\n",
       "      <td>3.74057e-02</td>\n",
       "      <td>1.22959e-02</td>\n",
       "      <td>1</td>\n",
       "    </tr>\n",
       "  </tbody>\n",
       "</table>\n",
       "<p>101 rows × 5 columns</p>\n",
       "</div>"
      ],
      "text/plain": [
       "                                                      go_term binom_p_value  \\\n",
       "GO:0002162                               dystroglycan binding   1.29786e-05   \n",
       "GO:0007213  G protein-coupled acetylcholine receptor signa...   4.28794e-05   \n",
       "GO:0033691                                sialic acid binding   1.83861e-06   \n",
       "GO:0035374                        chondroitin sulfate binding   1.06551e-06   \n",
       "GO:0043113                                receptor clustering   6.53249e-05   \n",
       "...                                                       ...           ...   \n",
       "GO:0008479           queuine tRNA-ribosyltransferase activity   1.75630e-05   \n",
       "GO:0101030                    tRNA-guanine transglycosylation   2.90290e-05   \n",
       "GO:0044323           retinoic acid-responsive element binding   4.63051e-07   \n",
       "GO:0048387  negative regulation of retinoic acid receptor ...   8.90815e-06   \n",
       "GO:0002087  regulation of respiratory gaseous exchange by ...   2.07002e-05   \n",
       "\n",
       "           hypergeom_p_value binom_bonferroni_correction  \\\n",
       "GO:0002162       4.02252e-02                 7.70928e-03   \n",
       "GO:0007213       4.86352e-02                 2.54703e-02   \n",
       "GO:0033691       3.45779e-02                 1.09214e-03   \n",
       "GO:0035374       2.60455e-02                 6.32912e-04   \n",
       "GO:0043113       7.61475e-02                 3.88030e-02   \n",
       "...                      ...                         ...   \n",
       "GO:0008479       1.16594e-02                 1.04324e-02   \n",
       "GO:0101030       1.16594e-02                 1.72432e-02   \n",
       "GO:0044323       1.16594e-02                 2.75052e-04   \n",
       "GO:0048387       2.60455e-02                 5.29144e-03   \n",
       "GO:0002087       3.74057e-02                 1.22959e-02   \n",
       "\n",
       "           hypergeom_bonferroni_correction  \n",
       "GO:0002162                               1  \n",
       "GO:0007213                               1  \n",
       "GO:0033691                               1  \n",
       "GO:0035374                               1  \n",
       "GO:0043113                               1  \n",
       "...                                    ...  \n",
       "GO:0008479                               1  \n",
       "GO:0101030                               1  \n",
       "GO:0044323                               1  \n",
       "GO:0048387                               1  \n",
       "GO:0002087                               1  \n",
       "\n",
       "[101 rows x 5 columns]"
      ]
     },
     "execution_count": 7,
     "metadata": {},
     "output_type": "execute_result"
    }
   ],
   "source": [
    "enrichment_bonferroni"
   ]
  },
  {
   "cell_type": "markdown",
   "metadata": {},
   "source": [
    "## II Compare to GREAT webserver  "
   ]
  },
  {
   "cell_type": "code",
   "execution_count": null,
   "metadata": {},
   "outputs": [],
   "source": []
  },
  {
   "cell_type": "markdown",
   "metadata": {},
   "source": [
    "## III Compare both results"
   ]
  },
  {
   "cell_type": "markdown",
   "metadata": {},
   "source": [
    "### III.1 Without correction"
   ]
  },
  {
   "cell_type": "markdown",
   "metadata": {},
   "source": [
    "#### III.1.a Without log scale"
   ]
  },
  {
   "cell_type": "code",
   "execution_count": 8,
   "metadata": {},
   "outputs": [
    {
     "data": {
      "image/png": "[encoded data removed]",
      "text/plain": [
       "<Figure size 432x288 with 1 Axes>"
      ]
     },
     "metadata": {
      "needs_background": "light"
     },
     "output_type": "display_data"
    }
   ],
   "source": [
    "great.pl.scatterplot(\n",
    "    enrichment_fdr,\n",
    "    \"binom_p_value\",\n",
    "    \"hypergeom_p_value\",\n",
    "    minus_log10=False)"
   ]
  },
  {
   "cell_type": "markdown",
   "metadata": {},
   "source": [
    "#### III.1.b With log scale"
   ]
  },
  {
   "cell_type": "code",
   "execution_count": 9,
   "metadata": {},
   "outputs": [
    {
     "data": {
      "image/png": "[encoded data removed]",
      "text/plain": [
       "<Figure size 432x288 with 1 Axes>"
      ]
     },
     "metadata": {
      "needs_background": "light"
     },
     "output_type": "display_data"
    }
   ],
   "source": [
    "great.pl.scatterplot(\n",
    "    enrichment_fdr,\n",
    "    \"binom_p_value\",\n",
    "    \"hypergeom_p_value\",\n",
    "    minus_log10=True)"
   ]
  },
  {
   "cell_type": "markdown",
   "metadata": {},
   "source": [
    "Resembling the images of the articule published by the Berjano lab: https://www.nature.com/articles/nbt.1630/figures/2"
   ]
  },
  {
   "cell_type": "markdown",
   "metadata": {},
   "source": [
    "### III.2 With fdr correction"
   ]
  },
  {
   "cell_type": "markdown",
   "metadata": {},
   "source": [
    "#### III.2.a without log scale"
   ]
  },
  {
   "cell_type": "code",
   "execution_count": 10,
   "metadata": {},
   "outputs": [
    {
     "data": {
      "image/png": "[encoded data removed]",
      "text/plain": [
       "<Figure size 432x288 with 1 Axes>"
      ]
     },
     "metadata": {
      "needs_background": "light"
     },
     "output_type": "display_data"
    }
   ],
   "source": [
    "great.pl.scatterplot(\n",
    "    enrichment_fdr,\n",
    "    \"binom_fdr_correction\",\n",
    "    \"hypergeom_fdr_correction\",\n",
    "    minus_log10=False)\n"
   ]
  },
  {
   "cell_type": "markdown",
   "metadata": {},
   "source": [
    "#### III.2.b with log scale"
   ]
  },
  {
   "cell_type": "code",
   "execution_count": 11,
   "metadata": {},
   "outputs": [
    {
     "data": {
      "image/png": "[encoded data removed]",
      "text/plain": [
       "<Figure size 432x288 with 1 Axes>"
      ]
     },
     "metadata": {
      "needs_background": "light"
     },
     "output_type": "display_data"
    }
   ],
   "source": [
    "great.pl.scatterplot(\n",
    "    enrichment_fdr,\n",
    "    \"binom_fdr_correction\",\n",
    "    \"hypergeom_fdr_correction\",\n",
    "    minus_log10=True)"
   ]
  },
  {
   "cell_type": "markdown",
   "metadata": {},
   "source": [
    "### III.3 With bonferroni correction"
   ]
  },
  {
   "cell_type": "markdown",
   "metadata": {},
   "source": [
    "#### III.3.a without log scale"
   ]
  },
  {
   "cell_type": "code",
   "execution_count": 12,
   "metadata": {},
   "outputs": [
    {
     "data": {
      "image/png": "[encoded data removed]",
      "text/plain": [
       "<Figure size 432x288 with 1 Axes>"
      ]
     },
     "metadata": {
      "needs_background": "light"
     },
     "output_type": "display_data"
    }
   ],
   "source": [
    "great.pl.scatterplot(\n",
    "    enrichment_bonferroni,\n",
    "    \"binom_bonferroni_correction\",\n",
    "    \"hypergeom_bonferroni_correction\",\n",
    "    minus_log10=False)"
   ]
  },
  {
   "cell_type": "markdown",
   "metadata": {},
   "source": [
    "#### III.3.b with log scale"
   ]
  },
  {
   "cell_type": "code",
   "execution_count": 13,
   "metadata": {},
   "outputs": [
    {
     "data": {
      "image/png": "[encoded data removed]",
      "text/plain": [
       "<Figure size 432x288 with 1 Axes>"
      ]
     },
     "metadata": {
      "needs_background": "light"
     },
     "output_type": "display_data"
    }
   ],
   "source": [
    "great.pl.scatterplot(\n",
    "    enrichment_bonferroni,\n",
    "    \"binom_bonferroni_correction\",\n",
    "    \"hypergeom_bonferroni_correction\",\n",
    "    minus_log10=True)"
   ]
  },
  {
   "cell_type": "markdown",
   "metadata": {},
   "source": [
    "We can see that the two corrections return very different values"
   ]
  }
 ],
 "metadata": {
  "kernelspec": {
   "display_name": "Python 3.9.12 ('base')",
   "language": "python",
   "name": "python3"
  },
  "language_info": {
   "codemirror_mode": {
    "name": "ipython",
    "version": 3
   },
   "file_extension": ".py",
   "mimetype": "text/x-python",
   "name": "python",
   "nbconvert_exporter": "python",
   "pygments_lexer": "ipython3",
   "version": "3.9.12"
  },
  "orig_nbformat": 4,
  "vscode": {
   "interpreter": {
    "hash": "64cdbf2ddcb9cd73e43d780a5c38adc9c5cb93dd1a925db9d35733ec03fb2329"
   }
  }
 },
 "nbformat": 4,
 "nbformat_minor": 2
}
