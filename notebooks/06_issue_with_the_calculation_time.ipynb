{
 "cells": [
  {
   "cell_type": "markdown",
   "metadata": {},
   "source": [
    "# This notebook show my issue with the calculation time of the enrichment function"
   ]
  },
  {
   "cell_type": "code",
   "execution_count": 8,
   "metadata": {},
   "outputs": [
    {
     "name": "stdout",
     "output_type": "stream",
     "text": [
      "The autoreload extension is already loaded. To reload it, use:\n",
      "  %reload_ext autoreload\n",
      "The line_profiler extension is already loaded. To reload it, use:\n",
      "  %reload_ext line_profiler\n"
     ]
    }
   ],
   "source": [
    "%load_ext autoreload\n",
    "%autoreload 2\n",
    "%load_ext line_profiler"
   ]
  },
  {
   "cell_type": "code",
   "execution_count": 9,
   "metadata": {},
   "outputs": [],
   "source": [
    "import greatpy as great\n",
    "import pandas as pd"
   ]
  },
  {
   "cell_type": "code",
   "execution_count": 10,
   "metadata": {},
   "outputs": [],
   "source": [
    "test = pd.read_csv(\"../data/human/test_genomic_region.bed\",sep=\"\\t\",comment=\"#\",\n",
    "                names=[\"Chr\", \"Chr_Start\", \"Chr_End\"],dtype={\"Chr\":\"object\", \"Chr_Start\":\"int64\", \"Chr_End\":\"int64\"})\n",
    "\n",
    "df_10_row = test[:50]"
   ]
  },
  {
   "cell_type": "code",
   "execution_count": 11,
   "metadata": {},
   "outputs": [
    {
     "name": "stdout",
     "output_type": "stream",
     "text": [
      "Timer unit: 1e-06 s\n",
      "\n",
      "Total time: 29.7136 s\n",
      "File: /home/tom/.local/lib/python3.8/site-packages/greatpy/tl/basic.py\n",
      "Function: enrichment at line 282\n",
      "\n",
      "Line #      Hits         Time  Per Hit   % Time  Line Contents\n",
      "==============================================================\n",
      "   282                                           def enrichment(test:str or pd.DataFrame,regdom_file,chr_size_file,annotation,binom=True,hypergeom=True,alpha=0.05,correction=(\"fdr\",0.05),sort_by=None): \n",
      "   283                                               # Data import \n",
      "   284         1          5.0      5.0      0.0      if not binom and not hypergeom : \n",
      "   285                                                   return False\n",
      "   286                                               \n",
      "   287         2      72358.0  36179.0      0.2      regdom = pd.read_csv(regdom_file,sep=\"\\t\",comment=\"#\",\n",
      "   288         1          4.0      4.0      0.0                      names=[\"Chr\", \"Chr_Start\", \"Chr_End\",\"Name\",\"tss\",\"Strand\"],dtype={\"Chr\":\"object\", \"Chr_Start\":\"int64\", \"Chr_End\":\"int64\",\"Name\":\"object\",\"tss\":\"int64\",\"Strand\":\"object\"})\n",
      "   289                                           \n",
      "   290         1          7.0      7.0      0.0      if type(test) == str : \n",
      "   291                                                   test = pd.read_csv(test,sep=\"\\t\",comment=\"#\",\n",
      "   292                                                                   names=[\"Chr\", \"Chr_Start\", \"Chr_End\"],dtype={\"Chr\":\"object\", \"Chr_Start\":\"int64\", \"Chr_End\":\"int64\"})\n",
      "   293                                               else : \n",
      "   294         1       1170.0   1170.0      0.0          test = test.iloc[:,:3]\n",
      "   295         1         29.0     29.0      0.0          colname = list(test.columns)\n",
      "   296         1          2.0      2.0      0.0          try : \n",
      "   297         1       2183.0   2183.0      0.0              test = test.rename(columns={colname[0]:\"Chr\",colname[1]:\"Chr_Start\",colname[2]:\"Chr_End\"})\n",
      "   298                                                   except : \n",
      "   299                                                       print(\"Error in test dataframe, please check your input\")\n",
      "   300                                                       print(\"Columns should be : chr...(type object), start(type int), end(type int)\")\n",
      "   301                                                       return False\n",
      "   302                                               \n",
      "   303         2       5026.0   2513.0      0.0      size = pd.read_csv(chr_size_file,sep=\"\\t\",comment=\"#\",\n",
      "   304         1          3.0      3.0      0.0                      names=[\"Chrom\",\"Size\"],dtype={\"Chrom\":\"object\", \"Size\":\"int64\"})\n",
      "   305                                           \n",
      "   306         2      20847.0  10423.5      0.1      dask_df = dd.read_csv(\"../data/human/ontologies.csv\",sep=\";\",  comment = \"#\",\n",
      "   307         1          4.0      4.0      0.0                      dtype={\"ensembl\":\"object\",\"id\":\"object\",\"name\":\"object\",\"ontology.group\":\"object\",\"gene.name\":\"object\",\"symbol\":\"object\"},\n",
      "   308         1          3.0      3.0      0.0                      usecols=[\"id\",\"name\",\"gene.name\",\"symbol\"],low_memory=False)\n",
      "   309         1     587830.0 587830.0      2.0      ann = dask_df.compute()\n",
      "   310                                               # ann = pd.read_csv(annotation,sep=\";\",  \n",
      "   311                                               #                 names=[\"ensembl\",\"id\",\"name\",\"ontology.group\",\"gene.name\",\"symbol\"],dtype={\"ensembl\":\"object\",\"id\":\"object\",\"name\":\"object\",\"ontology.group\":\"object\",\"gene.name\":\"object\",\"symbol\":\"object\"},\n",
      "   312                                               #                 usecols=[\"id\",\"name\",\"gene.name\",\"symbol\"],low_memory=False)\n",
      "   313         1     323140.0 323140.0      1.1      ann = ann[ann['id'].str.match('^GO.*')== True]\n",
      "   314                                           \n",
      "   315         1          3.0      3.0      0.0      if binom and hypergeom : \n",
      "   316                                                   # Init Great\n",
      "   317         1          2.0      2.0      0.0          res = {}\n",
      "   318         1          3.0      3.0      0.0          hit={}\n",
      "   319         1         16.0     16.0      0.0          hypergeom_total_number_gene = regdom.shape[0] #get the number of genes in the genome.\n",
      "   320         1          5.0      5.0      0.0          n_binom = test.shape[0]# get the number of genomic region in the test set\n",
      "   321         1        498.0    498.0      0.0          total_nu = size[\"Size\"].sum()# get the total number of nucleotides in the genome\n",
      "   322         1     241250.0 241250.0      0.8          asso = get_association(test,regdom)# get the name of the regulatory domain associated to each genomic region in the test set\n",
      "   323         1      13317.0  13317.0      0.0          ann_red = ann[ann[\"symbol\"].isin(asso)]\n",
      "   324         1      73436.0  73436.0      0.2          regdom = regdom[regdom[\"Name\"].isin(list(ann[ann[\"id\"].isin(list(ann_red[\"id\"]))][\"symbol\"]))]#reduction of the regdom file by selecting only the genes whose GO ID is owned by a gene of the association \n",
      "   325         1      27520.0  27520.0      0.1          len_on_chr = len_regdom(regdom)# get the length of each regulatory domain \n",
      "   326                                           \n",
      "   327                                                   # init Hypergeom\n",
      "   328         1          5.0      5.0      0.0          hypergeom_gene_set=len(asso) # get the number of genes in the test gene set.\n",
      "   329                                           \n",
      "   330                                                   #Compute for all associating gene and for each GO id associated with the gene the probability. \n",
      "   331        29         82.0      2.8      0.0          for name in asso :\n",
      "   332        28     225283.0   8045.8      0.8              ann_name_gene = ann[ann[\"symbol\"].isin([name])]\n",
      "   333        28       3119.0    111.4      0.0              id = ann_name_gene[\"id\"]\n",
      "   334        28        133.0      4.8      0.0              tmp = []\n",
      "   335       265       4417.0     16.7      0.0              for i in (list(id.unique())): \n",
      "   336       237    2481199.0  10469.2      8.4                  gene_imply = ann[ann['id'].isin([i])]\n",
      "   337       237       2749.0     11.6      0.0                  K_hypergeom = gene_imply.shape[0] # get be the number of genes in the genome with annotation\n",
      "   338       237     613893.0   2590.3      2.1                  curr_regdom = regdom.loc[regdom[\"Name\"].isin(list(gene_imply[\"gene.name\"]))]\n",
      "   339       237     190708.0    804.7      0.6                  k_hypergeom = curr_regdom.loc[curr_regdom[\"Name\"].isin(asso)].shape[0] # get the number of genes in the test gene set with annotation\n",
      "   340       237       2821.0     11.9      0.0                  if i not in list(hit.keys()) : \n",
      "   341       175   16432221.0  93898.4     55.3                      hit[i] = number_of_hit(test,curr_regdom)# get the number of test genomic regions in the regulatory domain of a gene with annotation\n",
      "   342       237        852.0      3.6      0.0                  k_binom=hit[i]\n",
      "   343                                                               # k_binom = number_of_hit(test,curr_regdom)# get the number of test genomic regions in the regulatory domain of a gene with annotation\n",
      "   344       237      91008.0    384.0      0.3                  nb_binom = sum([len_on_chr[i] for i in curr_regdom[\"Name\"]])# get the portion of the genome in the regulatory domain of a gene with annotation\n",
      "   345                                                           \n",
      "   346       237      51052.0    215.4      0.2                  tmp.append((k_binom,nb_binom,i,gene_imply.iloc[0][\"name\"],K_hypergeom,k_hypergeom))\n",
      "   347                                                       # res.update({elem[2]:[ elem[3],get_binom_pval(n_binom,elem[0],elem[1]/total_nu), sum([hg.pmf(i,hypergeom_total_number_gene,hypergeom_gene_set,elem[4]) for i in range(elem[5],min(elem[4],hypergeom_gene_set)+1)]) ] for elem in tmp})\n",
      "   348       265       1298.0      4.9      0.0              for elem in tmp : \n",
      "   349       237       1072.0      4.5      0.0                  res[elem[2]] = [elem[3]]\n",
      "   350       237      14289.0     60.3      0.0                  res[elem[2]].append(get_binom_pval(n_binom,elem[0],elem[1]/total_nu))\n",
      "   351       237    8215880.0  34666.2     27.7                  res[elem[2]].append(sum([hg.pmf(i,hypergeom_total_number_gene,hypergeom_gene_set,elem[4]) for i in range(elem[5],min(elem[4],hypergeom_gene_set)+1)]))\n",
      "   352                                           \n",
      "   353         1      12818.0  12818.0      0.0          df= pd.DataFrame(res).transpose().rename(columns={0:\"go_term\",1:\"binom_p_value\",2:\"hypergeom_p_value\"})\n",
      "   354         1          3.0      3.0      0.0          if correction == (0,0) or correction[0] not in ['bonferroni','fdr'] or correction[1] >= 1 or correction[1] <= 0: \n",
      "   355         1          2.0      2.0      0.0              return df.sort_values(by=sort_by) if sort_by != None else df \n",
      "   356                                           \n",
      "   357                                                   elif correction[0] == \"bonferroni\" : \n",
      "   358                                                       df[\"binom_bonferroni_correction\"] = multipletests(df[\"binom_p_value\"], alpha=correction[1], method='bonferroni')[1]\n",
      "   359                                                       df[\"hypergeom_bonferroni_correction\"] = multipletests(df[\"hypergeom_p_value\"], alpha=correction[1], method='bonferroni')[1]\n",
      "   360                                                       df = df.loc[df[\"binom_bonferroni_correction\"] <= alpha]\n",
      "   361                                           \n",
      "   362                                                   elif correction[0] == \"fdr\" : \n",
      "   363                                                       df[\"binom_fdr_correction\"] = fdrcorrection(df[\"binom_p_value\"], alpha=correction[1])[1]\n",
      "   364                                                       df[\"hypergeom_fdr_correction\"] = fdrcorrection(df[\"hypergeom_p_value\"], alpha=correction[1])[1]\n",
      "   365                                                       df = df.loc[df[\"binom_fdr_correction\"] <= alpha]\n",
      "   366                                                   return df.sort_values(by=sort_by) if sort_by != None else df \n",
      "   367                                           \n",
      "   368                                               elif binom : \n",
      "   369                                                   # Init Great\n",
      "   370                                                   res = {}\n",
      "   371                                                   n_binom = test.shape[0]# get the number of genomic region in the test set\n",
      "   372                                                   total_nu = size[\"Size\"].sum()# get the total number of nucleotides in the genome\n",
      "   373                                                   asso = get_association(test,regdom)# get the name of the regulatory domain associated to each genomic region in the test set\n",
      "   374                                                   ann_red = ann[ann[\"symbol\"].isin(asso)]\n",
      "   375                                                   regdom = regdom[regdom[\"Name\"].isin(list(ann[ann[\"id\"].isin(list(ann_red[\"id\"]))][\"symbol\"]))]#reduction of the regdom file by selecting only the genes whose GO ID is owned by a gene of the association \n",
      "   376                                                   len_on_chr = len_regdom(regdom)# get the length of each regulatory domain \n",
      "   377                                           \n",
      "   378                                                   #Compute for all associating gene and for each GO id associated with the gene the probability. \n",
      "   379                                                   for name in asso :\n",
      "   380                                                       ann_name_gene = ann[ann[\"symbol\"] == name]\n",
      "   381                                                       id = ann_name_gene[\"id\"]\n",
      "   382                                                       tmp=[]\n",
      "   383                                                       for i in (list(id.unique())): \n",
      "   384                                                           gene_imply = ann[ann['id']==i]\n",
      "   385                                                           curr_regdom = regdom.loc[regdom[\"Name\"].isin(list(gene_imply[\"gene.name\"]))]\n",
      "   386                                                           k_binom = number_of_hit(test,curr_regdom)# get the number of test genomic regions in the regulatory domain of a gene with annotation\n",
      "   387                                                           nb_binom = sum([len_on_chr[i] for i in curr_regdom[\"Name\"]])# get the portion of the genome in the regulatory domain of a gene with annotation\n",
      "   388                                                           \n",
      "   389                                                           tmp.append((k_binom,nb_binom,i,gene_imply.iloc[0][\"name\"]))\n",
      "   390                                                       res.update({elem[2]:[ elem[3],get_binom_pval(n_binom,elem[0],elem[1]/total_nu) ] for elem in tmp})\n",
      "   391                                                   df= pd.DataFrame(res).transpose().rename(columns={0:\"go_term\",1:\"binom_p_value\"}).sort_values(by=\"binom_p_value\")\n",
      "   392                                                   if correction == (0,0) or correction[0] not in ['bonferroni','fdr'] or correction[1] >= 1 or correction[1]<=0: \n",
      "   393                                                       return df.sort_values(by=sort_by) if sort_by != None else df \n",
      "   394                                           \n",
      "   395                                                   elif correction[0] == \"bonferroni\" : \n",
      "   396                                                       df[\"binom_bonferroni_correction\"] = multipletests(df[\"binom_p_value\"], alpha=correction[1], method='bonferroni')[1]\n",
      "   397                                                       df = df.loc[df[\"binom_bonferroni_correction\"]<=alpha]\n",
      "   398                                           \n",
      "   399                                                   elif correction[0] == \"fdr\" :\n",
      "   400                                                       df[\"binom_fdr_correction\"] = fdrcorrection(df[\"binom_p_value\"], alpha=correction[1])[1]\n",
      "   401                                                       df = df.loc[df[\"binom_fdr_correction\"]<=alpha] \n",
      "   402                                                   return df.sort_values(by=sort_by) if sort_by != None else df \n",
      "   403                                           \n",
      "   404                                               else : \n",
      "   405                                                   # Init Great\n",
      "   406                                                   res = {}\n",
      "   407                                                   hypergeom_total_number_gene = regdom.shape[0] #get the number of genes in the genome.\n",
      "   408                                                   asso = get_association(test,regdom)# get the name of the regulatory domain associated to each genomic region in the test set\n",
      "   409                                                   ann_red = ann[ann[\"symbol\"].isin(asso)]\n",
      "   410                                                   regdom = regdom[regdom[\"Name\"].isin(list(ann[ann[\"id\"].isin(list(ann_red[\"id\"]))][\"symbol\"]))]#reduction of the regdom file by selecting only the genes whose GO ID is owned by a gene of the association \n",
      "   411                                                   len_on_chr = len_regdom(regdom)# get the length of each regulatory domain \n",
      "   412                                           \n",
      "   413                                                   # init Hypergeom\n",
      "   414                                                   hypergeom_gene_set = len(asso) # get the number of genes in the test gene set.\n",
      "   415                                           \n",
      "   416                                                   #Compute for all associating gene and for each GO id associated with the gene the probability. \n",
      "   417                                                   for name in asso :\n",
      "   418                                                       ann_name_gene = ann[ann[\"symbol\"] == name]\n",
      "   419                                                       id = ann_name_gene[\"id\"]\n",
      "   420                                                       tmp = []\n",
      "   421                                                       for i in (list(id.unique())): \n",
      "   422                                                           gene_imply = ann[ann['id']==i]\n",
      "   423                                                           K_hypergeom = gene_imply.shape[0] # get be the number of genes in the genome with annotation\n",
      "   424                                                           curr_regdom = regdom.loc[regdom[\"Name\"].isin(list(gene_imply[\"gene.name\"]))]\n",
      "   425                                                           k_hypergeom = curr_regdom.loc[curr_regdom[\"Name\"].isin(asso)].shape[0] # get the number of genes in the test gene set with annotation                \n",
      "   426                                                           tmp.append((i,gene_imply.iloc[0][\"name\"],K_hypergeom,k_hypergeom)) \n",
      "   427                                                       res.update({elem[0]:[ elem[1], sum([hg.pmf(i,hypergeom_total_number_gene,hypergeom_gene_set,elem[2]) for i in range(elem[3],min(elem[2],hypergeom_gene_set)+1)]) ] for elem in tmp}) \n",
      "   428                                           \n",
      "   429                                                   df = pd.DataFrame(res).transpose().rename(columns={0:\"go_term\",1:\"hypergeom_p_value\"}).sort_values(by=\"hypergeom_p_value\")\n",
      "   430                                                   \n",
      "   431                                                   if correction == (0,0) or correction[0] not in ['bonferroni','fdr'] or correction[1] >= 1 or correction[1]<=0: \n",
      "   432                                                       df = df.loc[df[\"hypergeom_p_value\"] <= alpha]\n",
      "   433                                                       return df.sort_values(by=sort_by) if sort_by != None else df  \n",
      "   434                                           \n",
      "   435                                                   elif correction[0] == \"bonferroni\" : \n",
      "   436                                                       df[\"hypergeom_bonferroni_correction\"] = multipletests(df[\"hypergeom_p_value\"], alpha=correction[1], method='bonferroni')[1]\n",
      "   437                                                       df = df.loc[df[\"hypergeom_bonferroni_correction\"] <= alpha]\n",
      "   438                                           \n",
      "   439                                                   elif correction[0] == \"fdr\" : \n",
      "   440                                                       df[\"hypergeom_fdr_correction\"] = fdrcorrection(df[\"hypergeom_p_value\"], alpha=correction[1])[1]\n",
      "   441                                                       df = df.loc[df[\"hypergeom_fdr_correction\"] <= alpha]\n",
      "   442                                           \n",
      "   443                                                   return df.sort_values(by=sort_by) if sort_by != None else df"
     ]
    }
   ],
   "source": [
    "%lprun -f great.tl.enrichment great.tl.enrichment(df_10_row,\"../data/human/regulatory_domain.bed\",\"../data/human/chr_size.bed\",\"../data/human/ontologies.csv\",True,True,0.05,(0,0))"
   ]
  },
  {
   "cell_type": "markdown",
   "metadata": {},
   "source": [
    "Here we can see that the calculation time of the enrichment function is very high due to : "
   ]
  },
  {
   "cell_type": "markdown",
   "metadata": {},
   "source": [
    "line 341 (50 %) in the https://github.com/theislab/greatpy/blob/correction/greatpy/tl/basic.py with k_binom = number_of_hit(test,curr_regdom) => The number_of_hit function is used to calculate the number of genomic region hit with each GO term "
   ]
  },
  {
   "cell_type": "markdown",
   "metadata": {},
   "source": [
    "line 351 (30 %) https://github.com/theislab/greatpy/blob/correction/greatpy/tl/basic.py with dict.update with the values of binom p-value and hypergeom p-value "
   ]
  }
 ],
 "metadata": {
  "kernelspec": {
   "display_name": "Python 3.8.10 64-bit",
   "language": "python",
   "name": "python3"
  },
  "language_info": {
   "codemirror_mode": {
    "name": "ipython",
    "version": 3
   },
   "file_extension": ".py",
   "mimetype": "text/x-python",
   "name": "python",
   "nbconvert_exporter": "python",
   "pygments_lexer": "ipython3",
   "version": "3.8.10"
  },
  "orig_nbformat": 4,
  "vscode": {
   "interpreter": {
    "hash": "916dbcbb3f70747c44a77c7bcd40155683ae19c65e1c03b4aa3499c5328201f1"
   }
  }
 },
 "nbformat": 4,
 "nbformat_minor": 2
}
