{
 "cells": [
  {
   "cell_type": "markdown",
   "metadata": {},
   "source": [
    "# This notebook show my issue with the calculation time of the enrichment function"
   ]
  },
  {
   "cell_type": "code",
   "execution_count": 1,
   "metadata": {},
   "outputs": [],
   "source": [
    "%load_ext autoreload\n",
    "%autoreload 2\n",
    "%load_ext line_profiler"
   ]
  },
  {
   "cell_type": "code",
   "execution_count": 2,
   "metadata": {},
   "outputs": [],
   "source": [
    "import greatpy as great\n",
    "import pandas as pd"
   ]
  },
  {
   "cell_type": "code",
   "execution_count": 3,
   "metadata": {},
   "outputs": [],
   "source": [
    "test = pd.read_csv(\"../data/human/test_genomic_region.bed\",sep=\"\\t\",comment=\"#\",\n",
    "                names=[\"Chr\", \"Chr_Start\", \"Chr_End\"],dtype={\"Chr\":\"object\", \"Chr_Start\":\"int64\", \"Chr_End\":\"int64\"})\n",
    "\n",
    "df_10_row = test[:10]"
   ]
  },
  {
   "cell_type": "code",
   "execution_count": 4,
   "metadata": {},
   "outputs": [
    {
     "name": "stdout",
     "output_type": "stream",
     "text": [
      "Timer unit: 1e-06 s\n",
      "\n",
      "Total time: 7.94003 s\n",
      "File: /home/tom/.local/lib/python3.8/site-packages/greatpy/tl/basic.py\n",
      "Function: enrichment at line 277\n",
      "\n",
      "Line #      Hits         Time  Per Hit   % Time  Line Contents\n",
      "==============================================================\n",
      "   277                                           def enrichment(test:str or pd.DataFrame,regdom_file,chr_size_file,annotation,binom=True,hypergeom=True,alpha=0.05,correction=(\"fdr\",0.05),sort_by=None): \n",
      "   278                                               # Data import \n",
      "   279         1          8.0      8.0      0.0      if not binom and not hypergeom : \n",
      "   280                                                   return False\n",
      "   281                                               \n",
      "   282         2      74321.0  37160.5      0.9      regdom = pd.read_csv(regdom_file,sep=\"\\t\",comment=\"#\",\n",
      "   283         1          6.0      6.0      0.0                      names=[\"Chr\", \"Chr_Start\", \"Chr_End\",\"Name\",\"tss\",\"Strand\"],dtype={\"Chr\":\"object\", \"Chr_Start\":\"int64\", \"Chr_End\":\"int64\",\"Name\":\"object\",\"tss\":\"int64\",\"Strand\":\"object\"})\n",
      "   284                                           \n",
      "   285         1         11.0     11.0      0.0      if type(test) == str : \n",
      "   286                                                   test = pd.read_csv(test,sep=\"\\t\",comment=\"#\",\n",
      "   287                                                                   names=[\"Chr\", \"Chr_Start\", \"Chr_End\"],dtype={\"Chr\":\"object\", \"Chr_Start\":\"int64\", \"Chr_End\":\"int64\"})\n",
      "   288                                               else : \n",
      "   289         1       4760.0   4760.0      0.1          test = test.iloc[:,:3]\n",
      "   290         1         31.0     31.0      0.0          colname = list(test.columns)\n",
      "   291         1          5.0      5.0      0.0          try : \n",
      "   292         1       4247.0   4247.0      0.1              test = test.rename(columns={colname[0]:\"Chr\",colname[1]:\"Chr_Start\",colname[2]:\"Chr_End\"})\n",
      "   293                                                   except : \n",
      "   294                                                       print(\"Error in test dataframe, please check your input\")\n",
      "   295                                                       print(\"Columns should be : chr...(type object), start(type int), end(type int)\")\n",
      "   296                                                       return False\n",
      "   297                                               \n",
      "   298         2       4782.0   2391.0      0.1      size = pd.read_csv(chr_size_file,sep=\"\\t\",comment=\"#\",\n",
      "   299         1          5.0      5.0      0.0                      names=[\"Chrom\",\"Size\"],dtype={\"Chrom\":\"object\", \"Size\":\"int64\"})\n",
      "   300                                           \n",
      "   301         2     688230.0 344115.0      8.7      ann = pd.read_csv(annotation,sep=\";\",  \n",
      "   302         1          4.0      4.0      0.0                      names=[\"ensembl\",\"id\",\"name\",\"ontology.group\",\"gene.name\",\"symbol\"],dtype={\"ensembl\":\"object\",\"id\":\"object\",\"name\":\"object\",\"ontology.group\":\"object\",\"gene.name\":\"object\",\"symbol\":\"object\"},\n",
      "   303         1          3.0      3.0      0.0                      usecols=[\"id\",\"name\",\"gene.name\",\"symbol\"],low_memory=True)\n",
      "   304         1     410902.0 410902.0      5.2      ann = ann[ann['id'].str.match('^GO.*')== True]\n",
      "   305                                           \n",
      "   306         1          7.0      7.0      0.0      if binom and hypergeom : \n",
      "   307                                                   # Init Great\n",
      "   308         1          6.0      6.0      0.0          res = {}\n",
      "   309         1         49.0     49.0      0.0          hypergeom_total_number_gene = regdom.shape[0] #get the number of genes in the genome.\n",
      "   310         1         21.0     21.0      0.0          n_binom = test.shape[0]# get the number of genomic region in the test set\n",
      "   311         1       3976.0   3976.0      0.1          total_nu = size[\"Size\"].sum()# get the total number of nucleotides in the genome\n",
      "   312         1     103430.0 103430.0      1.3          asso = get_association(test,regdom)# get the name of the regulatory domain associated to each genomic region in the test set\n",
      "   313         1      33074.0  33074.0      0.4          ann_red = ann[ann[\"symbol\"].isin(asso)]\n",
      "   314         1      84837.0  84837.0      1.1          regdom = regdom[regdom[\"Name\"].isin(list(ann[ann[\"id\"].isin(list(ann_red[\"id\"]))][\"symbol\"]))]#reduction of the regdom file by selecting only the genes whose GO ID is owned by a gene of the association \n",
      "   315         1      36397.0  36397.0      0.5          len_on_chr = len_regdom(regdom)# get the length of each regulatory domain \n",
      "   316                                           \n",
      "   317                                                   # init Hypergeom\n",
      "   318         1          6.0      6.0      0.0          hypergeom_gene_set=len(asso) # get the number of genes in the test gene set.\n",
      "   319                                           \n",
      "   320                                                   #Compute for all associating gene and for each GO id associated with the gene the probability. \n",
      "   321         7         37.0      5.3      0.0          for name in asso :\n",
      "   322         6     180952.0  30158.7      2.3              ann_name_gene = ann[ann[\"symbol\"]==name]\n",
      "   323         6        945.0    157.5      0.0              id = ann_name_gene[\"id\"]\n",
      "   324         6         32.0      5.3      0.0              tmp = []\n",
      "   325        82       1685.0     20.5      0.0              for i in (list(id.unique())): \n",
      "   326        76    2746772.0  36141.7     34.6                  gene_imply = ann[ann['id']==i]\n",
      "   327        76       1052.0     13.8      0.0                  K_hypergeom = gene_imply.shape[0] # get be the number of genes in the genome with annotation\n",
      "   328        76     235646.0   3100.6      3.0                  curr_regdom = regdom.loc[regdom[\"Name\"].isin(list(gene_imply[\"gene.name\"]))]\n",
      "   329        76      91430.0   1203.0      1.2                  k_hypergeom = curr_regdom.loc[curr_regdom[\"Name\"].isin(asso)].shape[0] # get the number of genes in the test gene set with annotation\n",
      "   330        76    2326335.0  30609.7     29.3                  k_binom = number_of_hit(test,curr_regdom)# get the number of test genomic regions in the regulatory domain of a gene with annotation\n",
      "   331        76      36571.0    481.2      0.5                  nb_binom = sum([len_on_chr[i] for i in curr_regdom[\"Name\"]])# get the portion of the genome in the regulatory domain of a gene with annotation\n",
      "   332                                                           \n",
      "   333        76      23476.0    308.9      0.3                  tmp.append((k_binom,nb_binom,i,gene_imply.iloc[0][\"name\"],K_hypergeom,k_hypergeom))\n",
      "   334         6     836420.0 139403.3     10.5              res.update({elem[2]:[ elem[3],get_binom_pval(n_binom,elem[0],elem[1]/total_nu), sum([hg.pmf(i,hypergeom_total_number_gene,hypergeom_gene_set,elem[4]) for i in range(elem[5],min(elem[4],hypergeom_gene_set)+1)]) ] for elem in tmp})\n",
      "   335                                                   \n",
      "   336         1       9555.0   9555.0      0.1          df= pd.DataFrame(res).transpose().rename(columns={0:\"go_term\",1:\"binom_p_value\",2:\"hypergeom_p_value\"})\n",
      "   337         1          4.0      4.0      0.0          if correction == (0,0) or correction[0] not in ['bonferroni','fdr'] or correction[1] >= 1 or correction[1] <= 0: \n",
      "   338         1          3.0      3.0      0.0              return df.sort_values(by=sort_by) if sort_by != None else df \n",
      "   339                                           \n",
      "   340                                                   elif correction[0] == \"bonferroni\" : \n",
      "   341                                                       df[\"binom_bonferroni_correction\"] = multipletests(df[\"binom_p_value\"], alpha=correction[1], method='bonferroni')[1]\n",
      "   342                                                       df[\"hypergeom_bonferroni_correction\"] = multipletests(df[\"hypergeom_p_value\"], alpha=correction[1], method='bonferroni')[1]\n",
      "   343                                                       df = df.loc[df[\"binom_bonferroni_correction\"] <= alpha]\n",
      "   344                                           \n",
      "   345                                                   elif correction[0] == \"fdr\" : \n",
      "   346                                                       df[\"binom_fdr_correction\"] = fdrcorrection(df[\"binom_p_value\"], alpha=correction[1])[1]\n",
      "   347                                                       df[\"hypergeom_fdr_correction\"] = fdrcorrection(df[\"hypergeom_p_value\"], alpha=correction[1])[1]\n",
      "   348                                                       df = df.loc[df[\"binom_fdr_correction\"] <= alpha]\n",
      "   349                                                   return df.sort_values(by=sort_by) if sort_by != None else df \n",
      "   350                                           \n",
      "   351                                               elif binom : \n",
      "   352                                                   # Init Great\n",
      "   353                                                   res = {}\n",
      "   354                                                   n_binom = test.shape[0]# get the number of genomic region in the test set\n",
      "   355                                                   total_nu = size[\"Size\"].sum()# get the total number of nucleotides in the genome\n",
      "   356                                                   asso = get_association(test,regdom)# get the name of the regulatory domain associated to each genomic region in the test set\n",
      "   357                                                   ann_red = ann[ann[\"symbol\"].isin(asso)]\n",
      "   358                                                   regdom = regdom[regdom[\"Name\"].isin(list(ann[ann[\"id\"].isin(list(ann_red[\"id\"]))][\"symbol\"]))]#reduction of the regdom file by selecting only the genes whose GO ID is owned by a gene of the association \n",
      "   359                                                   len_on_chr = len_regdom(regdom)# get the length of each regulatory domain \n",
      "   360                                           \n",
      "   361                                                   #Compute for all associating gene and for each GO id associated with the gene the probability. \n",
      "   362                                                   for name in asso :\n",
      "   363                                                       ann_name_gene = ann[ann[\"symbol\"] == name]\n",
      "   364                                                       id = ann_name_gene[\"id\"]\n",
      "   365                                                       tmp=[]\n",
      "   366                                                       for i in (list(id.unique())): \n",
      "   367                                                           gene_imply = ann[ann['id']==i]\n",
      "   368                                                           curr_regdom = regdom.loc[regdom[\"Name\"].isin(list(gene_imply[\"gene.name\"]))]\n",
      "   369                                                           k_binom = number_of_hit(test,curr_regdom)# get the number of test genomic regions in the regulatory domain of a gene with annotation\n",
      "   370                                                           nb_binom = sum([len_on_chr[i] for i in curr_regdom[\"Name\"]])# get the portion of the genome in the regulatory domain of a gene with annotation\n",
      "   371                                                           \n",
      "   372                                                           tmp.append((k_binom,nb_binom,i,gene_imply.iloc[0][\"name\"]))\n",
      "   373                                                       res.update({elem[2]:[ elem[3],get_binom_pval(n_binom,elem[0],elem[1]/total_nu) ] for elem in tmp})\n",
      "   374                                                   df= pd.DataFrame(res).transpose().rename(columns={0:\"go_term\",1:\"binom_p_value\"}).sort_values(by=\"binom_p_value\")\n",
      "   375                                                   if correction == (0,0) or correction[0] not in ['bonferroni','fdr'] or correction[1] >= 1 or correction[1]<=0: \n",
      "   376                                                       return df.sort_values(by=sort_by) if sort_by != None else df \n",
      "   377                                           \n",
      "   378                                                   elif correction[0] == \"bonferroni\" : \n",
      "   379                                                       df[\"binom_bonferroni_correction\"] = multipletests(df[\"binom_p_value\"], alpha=correction[1], method='bonferroni')[1]\n",
      "   380                                                       df = df.loc[df[\"binom_bonferroni_correction\"]<=alpha]\n",
      "   381                                           \n",
      "   382                                                   elif correction[0] == \"fdr\" :\n",
      "   383                                                       df[\"binom_fdr_correction\"] = fdrcorrection(df[\"binom_p_value\"], alpha=correction[1])[1]\n",
      "   384                                                       df = df.loc[df[\"binom_fdr_correction\"]<=alpha] \n",
      "   385                                                   return df.sort_values(by=sort_by) if sort_by != None else df \n",
      "   386                                           \n",
      "   387                                               else : \n",
      "   388                                                   # Init Great\n",
      "   389                                                   res = {}\n",
      "   390                                                   hypergeom_total_number_gene = regdom.shape[0] #get the number of genes in the genome.\n",
      "   391                                                   asso = get_association(test,regdom)# get the name of the regulatory domain associated to each genomic region in the test set\n",
      "   392                                                   ann_red = ann[ann[\"symbol\"].isin(asso)]\n",
      "   393                                                   regdom = regdom[regdom[\"Name\"].isin(list(ann[ann[\"id\"].isin(list(ann_red[\"id\"]))][\"symbol\"]))]#reduction of the regdom file by selecting only the genes whose GO ID is owned by a gene of the association \n",
      "   394                                                   len_on_chr = len_regdom(regdom)# get the length of each regulatory domain \n",
      "   395                                           \n",
      "   396                                                   # init Hypergeom\n",
      "   397                                                   hypergeom_gene_set = len(asso) # get the number of genes in the test gene set.\n",
      "   398                                           \n",
      "   399                                                   #Compute for all associating gene and for each GO id associated with the gene the probability. \n",
      "   400                                                   for name in asso :\n",
      "   401                                                       ann_name_gene = ann[ann[\"symbol\"] == name]\n",
      "   402                                                       id = ann_name_gene[\"id\"]\n",
      "   403                                                       tmp = []\n",
      "   404                                                       for i in (list(id.unique())): \n",
      "   405                                                           gene_imply = ann[ann['id']==i]\n",
      "   406                                                           K_hypergeom = gene_imply.shape[0] # get be the number of genes in the genome with annotation\n",
      "   407                                                           curr_regdom = regdom.loc[regdom[\"Name\"].isin(list(gene_imply[\"gene.name\"]))]\n",
      "   408                                                           k_hypergeom = curr_regdom.loc[curr_regdom[\"Name\"].isin(asso)].shape[0] # get the number of genes in the test gene set with annotation                \n",
      "   409                                                           tmp.append((i,gene_imply.iloc[0][\"name\"],K_hypergeom,k_hypergeom)) \n",
      "   410                                                       res.update({elem[0]:[ elem[1], sum([hg.pmf(i,hypergeom_total_number_gene,hypergeom_gene_set,elem[2]) for i in range(elem[3],min(elem[2],hypergeom_gene_set)+1)]) ] for elem in tmp}) \n",
      "   411                                           \n",
      "   412                                                   df = pd.DataFrame(res).transpose().rename(columns={0:\"go_term\",1:\"hypergeom_p_value\"}).sort_values(by=\"hypergeom_p_value\")\n",
      "   413                                                   \n",
      "   414                                                   if correction == (0,0) or correction[0] not in ['bonferroni','fdr'] or correction[1] >= 1 or correction[1]<=0: \n",
      "   415                                                       df = df.loc[df[\"hypergeom_p_value\"] <= alpha]\n",
      "   416                                                       return df.sort_values(by=sort_by) if sort_by != None else df  \n",
      "   417                                           \n",
      "   418                                                   elif correction[0] == \"bonferroni\" : \n",
      "   419                                                       df[\"hypergeom_bonferroni_correction\"] = multipletests(df[\"hypergeom_p_value\"], alpha=correction[1], method='bonferroni')[1]\n",
      "   420                                                       df = df.loc[df[\"hypergeom_bonferroni_correction\"] <= alpha]\n",
      "   421                                           \n",
      "   422                                                   elif correction[0] == \"fdr\" : \n",
      "   423                                                       df[\"hypergeom_fdr_correction\"] = fdrcorrection(df[\"hypergeom_p_value\"], alpha=correction[1])[1]\n",
      "   424                                                       df = df.loc[df[\"hypergeom_fdr_correction\"] <= alpha]\n",
      "   425                                           \n",
      "   426                                                   return df.sort_values(by=sort_by) if sort_by != None else df"
     ]
    }
   ],
   "source": [
    "%lprun -f great.tl.enrichment great.tl.enrichment(df_10_row,\"../data/human/regulatory_domain.bed\",\"../data/human/chr_size.bed\",\"../data/human/ontologies.csv\",True,True,0.05,(0,0))"
   ]
  },
  {
   "cell_type": "markdown",
   "metadata": {},
   "source": [
    "Here we can see that the calculation time of the enrichment function is very high due to : "
   ]
  },
  {
   "cell_type": "markdown",
   "metadata": {},
   "source": [
    "line 326 (30 %) in the https://github.com/theislab/greatpy/blob/correction/greatpy/tl/basic.py with gene_imply = ann[ann['id']==i] => I would like to select the annotation equals to i in the annotation dataframe."
   ]
  },
  {
   "cell_type": "markdown",
   "metadata": {},
   "source": [
    "line 330 (30 %) in the https://github.com/theislab/greatpy/blob/correction/greatpy/tl/basic.py with k_binom = number_of_hit(test,curr_regdom) => The number_of_hit function is used to calculate the number of genomic region hit with each GO term "
   ]
  },
  {
   "cell_type": "markdown",
   "metadata": {},
   "source": [
    "line 333 (10 %) https://github.com/theislab/greatpy/blob/correction/greatpy/tl/basic.py with dict.update with the values of binom p-value and hypergeom p-value "
   ]
  }
 ],
 "metadata": {
  "kernelspec": {
   "display_name": "Python 3.8.10 64-bit",
   "language": "python",
   "name": "python3"
  },
  "language_info": {
   "codemirror_mode": {
    "name": "ipython",
    "version": 3
   },
   "file_extension": ".py",
   "mimetype": "text/x-python",
   "name": "python",
   "nbconvert_exporter": "python",
   "pygments_lexer": "ipython3",
   "version": "3.8.10"
  },
  "orig_nbformat": 4,
  "vscode": {
   "interpreter": {
    "hash": "916dbcbb3f70747c44a77c7bcd40155683ae19c65e1c03b4aa3499c5328201f1"
   }
  }
 },
 "nbformat": 4,
 "nbformat_minor": 2
}
