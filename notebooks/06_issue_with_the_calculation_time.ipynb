{
 "cells": [
  {
   "cell_type": "markdown",
   "metadata": {},
   "source": [
    "# This notebook show my issue with the calculation time of the enrichment function"
   ]
  },
  {
   "cell_type": "code",
   "execution_count": 16,
   "metadata": {},
   "outputs": [
    {
     "name": "stdout",
     "output_type": "stream",
     "text": [
      "The autoreload extension is already loaded. To reload it, use:\n",
      "  %reload_ext autoreload\n",
      "The line_profiler extension is already loaded. To reload it, use:\n",
      "  %reload_ext line_profiler\n"
     ]
    }
   ],
   "source": [
    "%load_ext autoreload\n",
    "%autoreload 2\n",
    "%load_ext line_profiler"
   ]
  },
  {
   "cell_type": "code",
   "execution_count": 17,
   "metadata": {},
   "outputs": [],
   "source": [
    "import greatpy as great\n",
    "import pandas as pd"
   ]
  },
  {
   "cell_type": "code",
   "execution_count": 25,
   "metadata": {},
   "outputs": [],
   "source": [
    "test = pd.read_csv(\"../data/human/test_genomic_region.bed\",sep=\"\\t\",comment=\"#\",\n",
    "                names=[\"Chr\", \"Chr_Start\", \"Chr_End\"],dtype={\"Chr\":\"object\", \"Chr_Start\":\"int64\", \"Chr_End\":\"int64\"})\n",
    "\n",
    "df_10_row = test[:100]"
   ]
  },
  {
   "cell_type": "code",
   "execution_count": 26,
   "metadata": {},
   "outputs": [
    {
     "name": "stdout",
     "output_type": "stream",
     "text": [
      "Timer unit: 1e-06 s\n",
      "\n",
      "Total time: 333.221 s\n",
      "File: /home/tom/.local/lib/python3.8/site-packages/greatpy/tl/basic.py\n",
      "Function: enrichment at line 279\n",
      "\n",
      "Line #      Hits         Time  Per Hit   % Time  Line Contents\n",
      "==============================================================\n",
      "   279                                           def enrichment(test:str or pd.DataFrame,regdom_file,chr_size_file,annotation,binom=True,hypergeom=True,alpha=0.05,correction=(\"fdr\",0.05),sort_by=None): \n",
      "   280                                               # Data import \n",
      "   281         1          6.0      6.0      0.0      if not binom and not hypergeom : \n",
      "   282                                                   return False\n",
      "   283                                               \n",
      "   284         2      36849.0  18424.5      0.0      regdom = pd.read_csv(regdom_file,sep=\"\\t\",comment=\"#\",\n",
      "   285         1          7.0      7.0      0.0                      names=[\"Chr\", \"Chr_Start\", \"Chr_End\",\"Name\",\"tss\",\"Strand\"],dtype={\"Chr\":\"object\", \"Chr_Start\":\"int64\", \"Chr_End\":\"int64\",\"Name\":\"object\",\"tss\":\"int64\",\"Strand\":\"object\"})\n",
      "   286                                           \n",
      "   287         1          7.0      7.0      0.0      if type(test) == str : \n",
      "   288                                                   test = pd.read_csv(test,sep=\"\\t\",comment=\"#\",\n",
      "   289                                                                   names=[\"Chr\", \"Chr_Start\", \"Chr_End\"],dtype={\"Chr\":\"object\", \"Chr_Start\":\"int64\", \"Chr_End\":\"int64\"})\n",
      "   290                                               else : \n",
      "   291         1        774.0    774.0      0.0          test = test.iloc[:,:3]\n",
      "   292         1         21.0     21.0      0.0          colname = list(test.columns)\n",
      "   293         1          4.0      4.0      0.0          try : \n",
      "   294         1       1354.0   1354.0      0.0              test = test.rename(columns={colname[0]:\"Chr\",colname[1]:\"Chr_Start\",colname[2]:\"Chr_End\"})\n",
      "   295                                                   except : \n",
      "   296                                                       print(\"Error in test dataframe, please check your input\")\n",
      "   297                                                       print(\"Columns should be : chr...(type object), start(type int), end(type int)\")\n",
      "   298                                                       return False\n",
      "   299                                               \n",
      "   300         2       5095.0   2547.5      0.0      size = pd.read_csv(chr_size_file,sep=\"\\t\",comment=\"#\",\n",
      "   301         1          5.0      5.0      0.0                      names=[\"Chrom\",\"Size\"],dtype={\"Chrom\":\"object\", \"Size\":\"int64\"})\n",
      "   302                                           \n",
      "   303         2      23124.0  11562.0      0.0      dask_df = dd.read_csv(\"../data/human/ontologies.csv\",sep=\";\",  comment = \"#\",\n",
      "   304         1          2.0      2.0      0.0                      dtype={\"ensembl\":\"object\",\"id\":\"object\",\"name\":\"object\",\"ontology.group\":\"object\",\"gene.name\":\"object\",\"symbol\":\"object\"},\n",
      "   305         1          3.0      3.0      0.0                      usecols=[\"id\",\"name\",\"gene.name\",\"symbol\"],low_memory=False)\n",
      "   306         1     480174.0 480174.0      0.1      ann = dask_df.compute()\n",
      "   307                                               # ann = pd.read_csv(annotation,sep=\";\",  \n",
      "   308                                               #                 names=[\"ensembl\",\"id\",\"name\",\"ontology.group\",\"gene.name\",\"symbol\"],dtype={\"ensembl\":\"object\",\"id\":\"object\",\"name\":\"object\",\"ontology.group\":\"object\",\"gene.name\":\"object\",\"symbol\":\"object\"},\n",
      "   309                                               #                 usecols=[\"id\",\"name\",\"gene.name\",\"symbol\"],low_memory=False)\n",
      "   310         1     346488.0 346488.0      0.1      ann = ann[ann['id'].str.match('^GO.*')== True]\n",
      "   311                                           \n",
      "   312         1          4.0      4.0      0.0      if binom and hypergeom : \n",
      "   313                                                   # Init Great\n",
      "   314         1          4.0      4.0      0.0          res = {}\n",
      "   315         1         21.0     21.0      0.0          hypergeom_total_number_gene = regdom.shape[0] #get the number of genes in the genome.\n",
      "   316         1          6.0      6.0      0.0          n_binom = test.shape[0]# get the number of genomic region in the test set\n",
      "   317         1        408.0    408.0      0.0          total_nu = size[\"Size\"].sum()# get the total number of nucleotides in the genome\n",
      "   318         1     514265.0 514265.0      0.2          asso = get_association(test,regdom)# get the name of the regulatory domain associated to each genomic region in the test set\n",
      "   319         1      16439.0  16439.0      0.0          ann_red = ann[ann[\"symbol\"].isin(asso)]\n",
      "   320         1      65875.0  65875.0      0.0          regdom = regdom[regdom[\"Name\"].isin(list(ann[ann[\"id\"].isin(list(ann_red[\"id\"]))][\"symbol\"]))]#reduction of the regdom file by selecting only the genes whose GO ID is owned by a gene of the association \n",
      "   321         1      27496.0  27496.0      0.0          len_on_chr = len_regdom(regdom)# get the length of each regulatory domain \n",
      "   322                                           \n",
      "   323                                                   # init Hypergeom\n",
      "   324         1          4.0      4.0      0.0          hypergeom_gene_set=len(asso) # get the number of genes in the test gene set.\n",
      "   325                                           \n",
      "   326                                                   #Compute for all associating gene and for each GO id associated with the gene the probability. \n",
      "   327        67        380.0      5.7      0.0          for name in asso :\n",
      "   328        66     709425.0  10748.9      0.2              ann_name_gene = ann[ann[\"symbol\"].isin([name])]\n",
      "   329        66       9546.0    144.6      0.0              id = ann_name_gene[\"id\"]\n",
      "   330        66        535.0      8.1      0.0              tmp = []\n",
      "   331       927      18156.0     19.6      0.0              for i in (list(id.unique())): \n",
      "   332       861   12029246.0  13971.2      3.6                  gene_imply = ann[ann['id'].isin([i])]\n",
      "   333       861      11202.0     13.0      0.0                  K_hypergeom = gene_imply.shape[0] # get be the number of genes in the genome with annotation\n",
      "   334       861    2970499.0   3450.1      0.9                  curr_regdom = regdom.loc[regdom[\"Name\"].isin(list(gene_imply[\"gene.name\"]))]\n",
      "   335       861    1014551.0   1178.3      0.3                  k_hypergeom = curr_regdom.loc[curr_regdom[\"Name\"].isin(asso)].shape[0] # get the number of genes in the test gene set with annotation\n",
      "   336       861  242511906.0 281663.1     72.8                  k_binom = number_of_hit(test,curr_regdom)# get the number of test genomic regions in the regulatory domain of a gene with annotation\n",
      "   337       861     399511.0    464.0      0.1                  nb_binom = sum([len_on_chr[i] for i in curr_regdom[\"Name\"]])# get the portion of the genome in the regulatory domain of a gene with annotation\n",
      "   338                                                           \n",
      "   339       861     258004.0    299.7      0.1                  tmp.append((k_binom,nb_binom,i,gene_imply.iloc[0][\"name\"],K_hypergeom,k_hypergeom))\n",
      "   340        66   71663898.0 1085816.6     21.5              res.update({elem[2]:[ elem[3],get_binom_pval(n_binom,elem[0],elem[1]/total_nu), sum([hg.pmf(i,hypergeom_total_number_gene,hypergeom_gene_set,elem[4]) for i in range(elem[5],min(elem[4],hypergeom_gene_set)+1)]) ] for elem in tmp})\n",
      "   341                                                   \n",
      "   342         1     106182.0 106182.0      0.0          df= pd.DataFrame(res).transpose().rename(columns={0:\"go_term\",1:\"binom_p_value\",2:\"hypergeom_p_value\"})\n",
      "   343         1          3.0      3.0      0.0          if correction == (0,0) or correction[0] not in ['bonferroni','fdr'] or correction[1] >= 1 or correction[1] <= 0: \n",
      "   344         1          2.0      2.0      0.0              return df.sort_values(by=sort_by) if sort_by != None else df \n",
      "   345                                           \n",
      "   346                                                   elif correction[0] == \"bonferroni\" : \n",
      "   347                                                       df[\"binom_bonferroni_correction\"] = multipletests(df[\"binom_p_value\"], alpha=correction[1], method='bonferroni')[1]\n",
      "   348                                                       df[\"hypergeom_bonferroni_correction\"] = multipletests(df[\"hypergeom_p_value\"], alpha=correction[1], method='bonferroni')[1]\n",
      "   349                                                       df = df.loc[df[\"binom_bonferroni_correction\"] <= alpha]\n",
      "   350                                           \n",
      "   351                                                   elif correction[0] == \"fdr\" : \n",
      "   352                                                       df[\"binom_fdr_correction\"] = fdrcorrection(df[\"binom_p_value\"], alpha=correction[1])[1]\n",
      "   353                                                       df[\"hypergeom_fdr_correction\"] = fdrcorrection(df[\"hypergeom_p_value\"], alpha=correction[1])[1]\n",
      "   354                                                       df = df.loc[df[\"binom_fdr_correction\"] <= alpha]\n",
      "   355                                                   return df.sort_values(by=sort_by) if sort_by != None else df \n",
      "   356                                           \n",
      "   357                                               elif binom : \n",
      "   358                                                   # Init Great\n",
      "   359                                                   res = {}\n",
      "   360                                                   n_binom = test.shape[0]# get the number of genomic region in the test set\n",
      "   361                                                   total_nu = size[\"Size\"].sum()# get the total number of nucleotides in the genome\n",
      "   362                                                   asso = get_association(test,regdom)# get the name of the regulatory domain associated to each genomic region in the test set\n",
      "   363                                                   ann_red = ann[ann[\"symbol\"].isin(asso)]\n",
      "   364                                                   regdom = regdom[regdom[\"Name\"].isin(list(ann[ann[\"id\"].isin(list(ann_red[\"id\"]))][\"symbol\"]))]#reduction of the regdom file by selecting only the genes whose GO ID is owned by a gene of the association \n",
      "   365                                                   len_on_chr = len_regdom(regdom)# get the length of each regulatory domain \n",
      "   366                                           \n",
      "   367                                                   #Compute for all associating gene and for each GO id associated with the gene the probability. \n",
      "   368                                                   for name in asso :\n",
      "   369                                                       ann_name_gene = ann[ann[\"symbol\"] == name]\n",
      "   370                                                       id = ann_name_gene[\"id\"]\n",
      "   371                                                       tmp=[]\n",
      "   372                                                       for i in (list(id.unique())): \n",
      "   373                                                           gene_imply = ann[ann['id']==i]\n",
      "   374                                                           curr_regdom = regdom.loc[regdom[\"Name\"].isin(list(gene_imply[\"gene.name\"]))]\n",
      "   375                                                           k_binom = number_of_hit(test,curr_regdom)# get the number of test genomic regions in the regulatory domain of a gene with annotation\n",
      "   376                                                           nb_binom = sum([len_on_chr[i] for i in curr_regdom[\"Name\"]])# get the portion of the genome in the regulatory domain of a gene with annotation\n",
      "   377                                                           \n",
      "   378                                                           tmp.append((k_binom,nb_binom,i,gene_imply.iloc[0][\"name\"]))\n",
      "   379                                                       res.update({elem[2]:[ elem[3],get_binom_pval(n_binom,elem[0],elem[1]/total_nu) ] for elem in tmp})\n",
      "   380                                                   df= pd.DataFrame(res).transpose().rename(columns={0:\"go_term\",1:\"binom_p_value\"}).sort_values(by=\"binom_p_value\")\n",
      "   381                                                   if correction == (0,0) or correction[0] not in ['bonferroni','fdr'] or correction[1] >= 1 or correction[1]<=0: \n",
      "   382                                                       return df.sort_values(by=sort_by) if sort_by != None else df \n",
      "   383                                           \n",
      "   384                                                   elif correction[0] == \"bonferroni\" : \n",
      "   385                                                       df[\"binom_bonferroni_correction\"] = multipletests(df[\"binom_p_value\"], alpha=correction[1], method='bonferroni')[1]\n",
      "   386                                                       df = df.loc[df[\"binom_bonferroni_correction\"]<=alpha]\n",
      "   387                                           \n",
      "   388                                                   elif correction[0] == \"fdr\" :\n",
      "   389                                                       df[\"binom_fdr_correction\"] = fdrcorrection(df[\"binom_p_value\"], alpha=correction[1])[1]\n",
      "   390                                                       df = df.loc[df[\"binom_fdr_correction\"]<=alpha] \n",
      "   391                                                   return df.sort_values(by=sort_by) if sort_by != None else df \n",
      "   392                                           \n",
      "   393                                               else : \n",
      "   394                                                   # Init Great\n",
      "   395                                                   res = {}\n",
      "   396                                                   hypergeom_total_number_gene = regdom.shape[0] #get the number of genes in the genome.\n",
      "   397                                                   asso = get_association(test,regdom)# get the name of the regulatory domain associated to each genomic region in the test set\n",
      "   398                                                   ann_red = ann[ann[\"symbol\"].isin(asso)]\n",
      "   399                                                   regdom = regdom[regdom[\"Name\"].isin(list(ann[ann[\"id\"].isin(list(ann_red[\"id\"]))][\"symbol\"]))]#reduction of the regdom file by selecting only the genes whose GO ID is owned by a gene of the association \n",
      "   400                                                   len_on_chr = len_regdom(regdom)# get the length of each regulatory domain \n",
      "   401                                           \n",
      "   402                                                   # init Hypergeom\n",
      "   403                                                   hypergeom_gene_set = len(asso) # get the number of genes in the test gene set.\n",
      "   404                                           \n",
      "   405                                                   #Compute for all associating gene and for each GO id associated with the gene the probability. \n",
      "   406                                                   for name in asso :\n",
      "   407                                                       ann_name_gene = ann[ann[\"symbol\"] == name]\n",
      "   408                                                       id = ann_name_gene[\"id\"]\n",
      "   409                                                       tmp = []\n",
      "   410                                                       for i in (list(id.unique())): \n",
      "   411                                                           gene_imply = ann[ann['id']==i]\n",
      "   412                                                           K_hypergeom = gene_imply.shape[0] # get be the number of genes in the genome with annotation\n",
      "   413                                                           curr_regdom = regdom.loc[regdom[\"Name\"].isin(list(gene_imply[\"gene.name\"]))]\n",
      "   414                                                           k_hypergeom = curr_regdom.loc[curr_regdom[\"Name\"].isin(asso)].shape[0] # get the number of genes in the test gene set with annotation                \n",
      "   415                                                           tmp.append((i,gene_imply.iloc[0][\"name\"],K_hypergeom,k_hypergeom)) \n",
      "   416                                                       res.update({elem[0]:[ elem[1], sum([hg.pmf(i,hypergeom_total_number_gene,hypergeom_gene_set,elem[2]) for i in range(elem[3],min(elem[2],hypergeom_gene_set)+1)]) ] for elem in tmp}) \n",
      "   417                                           \n",
      "   418                                                   df = pd.DataFrame(res).transpose().rename(columns={0:\"go_term\",1:\"hypergeom_p_value\"}).sort_values(by=\"hypergeom_p_value\")\n",
      "   419                                                   \n",
      "   420                                                   if correction == (0,0) or correction[0] not in ['bonferroni','fdr'] or correction[1] >= 1 or correction[1]<=0: \n",
      "   421                                                       df = df.loc[df[\"hypergeom_p_value\"] <= alpha]\n",
      "   422                                                       return df.sort_values(by=sort_by) if sort_by != None else df  \n",
      "   423                                           \n",
      "   424                                                   elif correction[0] == \"bonferroni\" : \n",
      "   425                                                       df[\"hypergeom_bonferroni_correction\"] = multipletests(df[\"hypergeom_p_value\"], alpha=correction[1], method='bonferroni')[1]\n",
      "   426                                                       df = df.loc[df[\"hypergeom_bonferroni_correction\"] <= alpha]\n",
      "   427                                           \n",
      "   428                                                   elif correction[0] == \"fdr\" : \n",
      "   429                                                       df[\"hypergeom_fdr_correction\"] = fdrcorrection(df[\"hypergeom_p_value\"], alpha=correction[1])[1]\n",
      "   430                                                       df = df.loc[df[\"hypergeom_fdr_correction\"] <= alpha]\n",
      "   431                                           \n",
      "   432                                                   return df.sort_values(by=sort_by) if sort_by != None else df"
     ]
    }
   ],
   "source": [
    "%lprun -f great.tl.enrichment great.tl.enrichment(df_10_row,\"../data/human/regulatory_domain.bed\",\"../data/human/chr_size.bed\",\"../data/human/ontologies.csv\",True,True,0.05,(0,0))"
   ]
  },
  {
   "cell_type": "markdown",
   "metadata": {},
   "source": [
    "Here we can see that the calculation time of the enrichment function is very high due to : "
   ]
  },
  {
   "cell_type": "markdown",
   "metadata": {},
   "source": [
    "line 336 (72 %) in the https://github.com/theislab/greatpy/blob/correction/greatpy/tl/basic.py with k_binom = number_of_hit(test,curr_regdom) => The number_of_hit function is used to calculate the number of genomic region hit with each GO term "
   ]
  },
  {
   "cell_type": "markdown",
   "metadata": {},
   "source": [
    "line 340 (21 %) https://github.com/theislab/greatpy/blob/correction/greatpy/tl/basic.py with dict.update with the values of binom p-value and hypergeom p-value "
   ]
  }
 ],
 "metadata": {
  "kernelspec": {
   "display_name": "Python 3.8.10 64-bit",
   "language": "python",
   "name": "python3"
  },
  "language_info": {
   "codemirror_mode": {
    "name": "ipython",
    "version": 3
   },
   "file_extension": ".py",
   "mimetype": "text/x-python",
   "name": "python",
   "nbconvert_exporter": "python",
   "pygments_lexer": "ipython3",
   "version": "3.8.10"
  },
  "orig_nbformat": 4,
  "vscode": {
   "interpreter": {
    "hash": "916dbcbb3f70747c44a77c7bcd40155683ae19c65e1c03b4aa3499c5328201f1"
   }
  }
 },
 "nbformat": 4,
 "nbformat_minor": 2
}
