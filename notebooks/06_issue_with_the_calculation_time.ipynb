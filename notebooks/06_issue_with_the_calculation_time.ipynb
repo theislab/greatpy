{
 "cells": [
  {
   "cell_type": "markdown",
   "metadata": {},
   "source": [
    "# This notebook show my issue with the calculation time of the enrichment function"
   ]
  },
  {
   "cell_type": "code",
   "execution_count": 1,
   "metadata": {},
   "outputs": [],
   "source": [
    "%load_ext autoreload\n",
    "%autoreload 2\n",
    "%load_ext line_profiler"
   ]
  },
  {
   "cell_type": "code",
   "execution_count": 2,
   "metadata": {},
   "outputs": [],
   "source": [
    "import greatpy as great\n",
    "import pandas as pd"
   ]
  },
  {
   "cell_type": "code",
   "execution_count": 3,
   "metadata": {},
   "outputs": [],
   "source": [
    "test = pd.read_csv(\"../data/human/test_genomic_region.bed\",sep=\"\\t\",comment=\"#\",\n",
    "                names=[\"Chr\", \"Chr_Start\", \"Chr_End\"],dtype={\"Chr\":\"object\", \"Chr_Start\":\"int64\", \"Chr_End\":\"int64\"})\n",
    "\n",
    "df_10_row = test[:30]"
   ]
  },
  {
   "cell_type": "code",
   "execution_count": 4,
   "metadata": {},
   "outputs": [
    {
     "name": "stdout",
     "output_type": "stream",
     "text": [
      "Timer unit: 1e-06 s\n",
      "\n",
      "Total time: 11.8072 s\n",
      "File: /home/tom/.local/lib/python3.8/site-packages/greatpy/tl/basic.py\n",
      "Function: enrichment at line 279\n",
      "\n",
      "Line #      Hits         Time  Per Hit   % Time  Line Contents\n",
      "==============================================================\n",
      "   279                                           def enrichment(test:str or pd.DataFrame,regdom_file,chr_size_file,annotation,binom=True,hypergeom=True,alpha=0.05,correction=(\"fdr\",0.05),sort_by=None): \n",
      "   280                                               # Data import \n",
      "   281         1         91.0     91.0      0.0      if not binom and not hypergeom : \n",
      "   282                                                   return False\n",
      "   283                                               \n",
      "   284         2      43732.0  21866.0      0.4      regdom = pd.read_csv(regdom_file,sep=\"\\t\",comment=\"#\",\n",
      "   285         1          7.0      7.0      0.0                      names=[\"Chr\", \"Chr_Start\", \"Chr_End\",\"Name\",\"tss\",\"Strand\"],dtype={\"Chr\":\"object\", \"Chr_Start\":\"int64\", \"Chr_End\":\"int64\",\"Name\":\"object\",\"tss\":\"int64\",\"Strand\":\"object\"})\n",
      "   286                                           \n",
      "   287         1          5.0      5.0      0.0      if type(test) == str : \n",
      "   288                                                   test = pd.read_csv(test,sep=\"\\t\",comment=\"#\",\n",
      "   289                                                                   names=[\"Chr\", \"Chr_Start\", \"Chr_End\"],dtype={\"Chr\":\"object\", \"Chr_Start\":\"int64\", \"Chr_End\":\"int64\"})\n",
      "   290                                               else : \n",
      "   291         1        703.0    703.0      0.0          test = test.iloc[:,:3]\n",
      "   292         1         16.0     16.0      0.0          colname = list(test.columns)\n",
      "   293         1          2.0      2.0      0.0          try : \n",
      "   294         1       1106.0   1106.0      0.0              test = test.rename(columns={colname[0]:\"Chr\",colname[1]:\"Chr_Start\",colname[2]:\"Chr_End\"})\n",
      "   295                                                   except : \n",
      "   296                                                       print(\"Error in test dataframe, please check your input\")\n",
      "   297                                                       print(\"Columns should be : chr...(type object), start(type int), end(type int)\")\n",
      "   298                                                       return False\n",
      "   299                                               \n",
      "   300         2       3397.0   1698.5      0.0      size = pd.read_csv(chr_size_file,sep=\"\\t\",comment=\"#\",\n",
      "   301         1          3.0      3.0      0.0                      names=[\"Chrom\",\"Size\"],dtype={\"Chrom\":\"object\", \"Size\":\"int64\"})\n",
      "   302                                           \n",
      "   303         2      17119.0   8559.5      0.1      dask_df = dd.read_csv(\"../data/human/ontologies.csv\",sep=\";\",  comment = \"#\",\n",
      "   304         1          2.0      2.0      0.0                      dtype={\"ensembl\":\"object\",\"id\":\"object\",\"name\":\"object\",\"ontology.group\":\"object\",\"gene.name\":\"object\",\"symbol\":\"object\"},\n",
      "   305         1          2.0      2.0      0.0                      usecols=[\"id\",\"name\",\"gene.name\",\"symbol\"],low_memory=False)\n",
      "   306         1     406765.0 406765.0      3.4      ann = dask_df.compute()\n",
      "   307                                               # ann = pd.read_csv(annotation,sep=\";\",  \n",
      "   308                                               #                 names=[\"ensembl\",\"id\",\"name\",\"ontology.group\",\"gene.name\",\"symbol\"],dtype={\"ensembl\":\"object\",\"id\":\"object\",\"name\":\"object\",\"ontology.group\":\"object\",\"gene.name\":\"object\",\"symbol\":\"object\"},\n",
      "   309                                               #                 usecols=[\"id\",\"name\",\"gene.name\",\"symbol\"],low_memory=False)\n",
      "   310         1     278392.0 278392.0      2.4      ann = ann[ann['id'].str.match('^GO.*')== True]\n",
      "   311                                           \n",
      "   312         1          3.0      3.0      0.0      if binom and hypergeom : \n",
      "   313                                                   # Init Great\n",
      "   314         1          2.0      2.0      0.0          res = {}\n",
      "   315         1          2.0      2.0      0.0          hit={}\n",
      "   316         1         15.0     15.0      0.0          hypergeom_total_number_gene = regdom.shape[0] #get the number of genes in the genome.\n",
      "   317         1          5.0      5.0      0.0          n_binom = test.shape[0]# get the number of genomic region in the test set\n",
      "   318         1        425.0    425.0      0.0          total_nu = size[\"Size\"].sum()# get the total number of nucleotides in the genome\n",
      "   319         1     144489.0 144489.0      1.2          asso = get_association(test,regdom)# get the name of the regulatory domain associated to each genomic region in the test set\n",
      "   320         1      13898.0  13898.0      0.1          ann_red = ann[ann[\"symbol\"].isin(asso)]\n",
      "   321         1      57656.0  57656.0      0.5          regdom = regdom[regdom[\"Name\"].isin(list(ann[ann[\"id\"].isin(list(ann_red[\"id\"]))][\"symbol\"]))]#reduction of the regdom file by selecting only the genes whose GO ID is owned by a gene of the association \n",
      "   322         1      26215.0  26215.0      0.2          len_on_chr = len_regdom(regdom)# get the length of each regulatory domain \n",
      "   323                                           \n",
      "   324                                                   # init Hypergeom\n",
      "   325         1          5.0      5.0      0.0          hypergeom_gene_set=len(asso) # get the number of genes in the test gene set.\n",
      "   326                                           \n",
      "   327                                                   #Compute for all associating gene and for each GO id associated with the gene the probability. \n",
      "   328        16         64.0      4.0      0.0          for name in asso :\n",
      "   329        15     134311.0   8954.1      1.1              ann_name_gene = ann[ann[\"symbol\"].isin([name])]\n",
      "   330        15       1828.0    121.9      0.0              id = ann_name_gene[\"id\"]\n",
      "   331        15         61.0      4.1      0.0              tmp = []\n",
      "   332       129       2657.0     20.6      0.0              for i in (list(id.unique())): \n",
      "   333       114    1275981.0  11192.8     10.8                  gene_imply = ann[ann['id'].isin([i])]\n",
      "   334       114       1170.0     10.3      0.0                  K_hypergeom = gene_imply.shape[0] # get be the number of genes in the genome with annotation\n",
      "   335       114     316026.0   2772.2      2.7                  curr_regdom = regdom.loc[regdom[\"Name\"].isin(list(gene_imply[\"gene.name\"]))]\n",
      "   336       114     111705.0    979.9      0.9                  k_hypergeom = curr_regdom.loc[curr_regdom[\"Name\"].isin(asso)].shape[0] # get the number of genes in the test gene set with annotation\n",
      "   337       114       1304.0     11.4      0.0                  if i not in list(hit.keys()) : \n",
      "   338        96    6344510.0  66088.6     53.7                      hit[i] = number_of_hit(test,curr_regdom)# get the number of test genomic regions in the regulatory domain of a gene with annotation\n",
      "   339       114        488.0      4.3      0.0                  k_binom=hit[i]\n",
      "   340                                                               # k_binom = number_of_hit(test,curr_regdom)# get the number of test genomic regions in the regulatory domain of a gene with annotation\n",
      "   341       114      49270.0    432.2      0.4                  nb_binom = sum([len_on_chr[i] for i in curr_regdom[\"Name\"]])# get the portion of the genome in the regulatory domain of a gene with annotation\n",
      "   342                                                           \n",
      "   343       114      29986.0    263.0      0.3                  tmp.append((k_binom,nb_binom,i,gene_imply.iloc[0][\"name\"],K_hypergeom,k_hypergeom))\n",
      "   344        15    2536327.0 169088.5     21.5              res.update({elem[2]:[ elem[3],get_binom_pval(n_binom,elem[0],elem[1]/total_nu), sum([hg.pmf(i,hypergeom_total_number_gene,hypergeom_gene_set,elem[4]) for i in range(elem[5],min(elem[4],hypergeom_gene_set)+1)]) ] for elem in tmp})\n",
      "   345                                                   \n",
      "   346         1       7468.0   7468.0      0.1          df= pd.DataFrame(res).transpose().rename(columns={0:\"go_term\",1:\"binom_p_value\",2:\"hypergeom_p_value\"})\n",
      "   347         1          4.0      4.0      0.0          if correction == (0,0) or correction[0] not in ['bonferroni','fdr'] or correction[1] >= 1 or correction[1] <= 0: \n",
      "   348         1          3.0      3.0      0.0              return df.sort_values(by=sort_by) if sort_by != None else df \n",
      "   349                                           \n",
      "   350                                                   elif correction[0] == \"bonferroni\" : \n",
      "   351                                                       df[\"binom_bonferroni_correction\"] = multipletests(df[\"binom_p_value\"], alpha=correction[1], method='bonferroni')[1]\n",
      "   352                                                       df[\"hypergeom_bonferroni_correction\"] = multipletests(df[\"hypergeom_p_value\"], alpha=correction[1], method='bonferroni')[1]\n",
      "   353                                                       df = df.loc[df[\"binom_bonferroni_correction\"] <= alpha]\n",
      "   354                                           \n",
      "   355                                                   elif correction[0] == \"fdr\" : \n",
      "   356                                                       df[\"binom_fdr_correction\"] = fdrcorrection(df[\"binom_p_value\"], alpha=correction[1])[1]\n",
      "   357                                                       df[\"hypergeom_fdr_correction\"] = fdrcorrection(df[\"hypergeom_p_value\"], alpha=correction[1])[1]\n",
      "   358                                                       df = df.loc[df[\"binom_fdr_correction\"] <= alpha]\n",
      "   359                                                   return df.sort_values(by=sort_by) if sort_by != None else df \n",
      "   360                                           \n",
      "   361                                               elif binom : \n",
      "   362                                                   # Init Great\n",
      "   363                                                   res = {}\n",
      "   364                                                   n_binom = test.shape[0]# get the number of genomic region in the test set\n",
      "   365                                                   total_nu = size[\"Size\"].sum()# get the total number of nucleotides in the genome\n",
      "   366                                                   asso = get_association(test,regdom)# get the name of the regulatory domain associated to each genomic region in the test set\n",
      "   367                                                   ann_red = ann[ann[\"symbol\"].isin(asso)]\n",
      "   368                                                   regdom = regdom[regdom[\"Name\"].isin(list(ann[ann[\"id\"].isin(list(ann_red[\"id\"]))][\"symbol\"]))]#reduction of the regdom file by selecting only the genes whose GO ID is owned by a gene of the association \n",
      "   369                                                   len_on_chr = len_regdom(regdom)# get the length of each regulatory domain \n",
      "   370                                           \n",
      "   371                                                   #Compute for all associating gene and for each GO id associated with the gene the probability. \n",
      "   372                                                   for name in asso :\n",
      "   373                                                       ann_name_gene = ann[ann[\"symbol\"] == name]\n",
      "   374                                                       id = ann_name_gene[\"id\"]\n",
      "   375                                                       tmp=[]\n",
      "   376                                                       for i in (list(id.unique())): \n",
      "   377                                                           gene_imply = ann[ann['id']==i]\n",
      "   378                                                           curr_regdom = regdom.loc[regdom[\"Name\"].isin(list(gene_imply[\"gene.name\"]))]\n",
      "   379                                                           k_binom = number_of_hit(test,curr_regdom)# get the number of test genomic regions in the regulatory domain of a gene with annotation\n",
      "   380                                                           nb_binom = sum([len_on_chr[i] for i in curr_regdom[\"Name\"]])# get the portion of the genome in the regulatory domain of a gene with annotation\n",
      "   381                                                           \n",
      "   382                                                           tmp.append((k_binom,nb_binom,i,gene_imply.iloc[0][\"name\"]))\n",
      "   383                                                       res.update({elem[2]:[ elem[3],get_binom_pval(n_binom,elem[0],elem[1]/total_nu) ] for elem in tmp})\n",
      "   384                                                   df= pd.DataFrame(res).transpose().rename(columns={0:\"go_term\",1:\"binom_p_value\"}).sort_values(by=\"binom_p_value\")\n",
      "   385                                                   if correction == (0,0) or correction[0] not in ['bonferroni','fdr'] or correction[1] >= 1 or correction[1]<=0: \n",
      "   386                                                       return df.sort_values(by=sort_by) if sort_by != None else df \n",
      "   387                                           \n",
      "   388                                                   elif correction[0] == \"bonferroni\" : \n",
      "   389                                                       df[\"binom_bonferroni_correction\"] = multipletests(df[\"binom_p_value\"], alpha=correction[1], method='bonferroni')[1]\n",
      "   390                                                       df = df.loc[df[\"binom_bonferroni_correction\"]<=alpha]\n",
      "   391                                           \n",
      "   392                                                   elif correction[0] == \"fdr\" :\n",
      "   393                                                       df[\"binom_fdr_correction\"] = fdrcorrection(df[\"binom_p_value\"], alpha=correction[1])[1]\n",
      "   394                                                       df = df.loc[df[\"binom_fdr_correction\"]<=alpha] \n",
      "   395                                                   return df.sort_values(by=sort_by) if sort_by != None else df \n",
      "   396                                           \n",
      "   397                                               else : \n",
      "   398                                                   # Init Great\n",
      "   399                                                   res = {}\n",
      "   400                                                   hypergeom_total_number_gene = regdom.shape[0] #get the number of genes in the genome.\n",
      "   401                                                   asso = get_association(test,regdom)# get the name of the regulatory domain associated to each genomic region in the test set\n",
      "   402                                                   ann_red = ann[ann[\"symbol\"].isin(asso)]\n",
      "   403                                                   regdom = regdom[regdom[\"Name\"].isin(list(ann[ann[\"id\"].isin(list(ann_red[\"id\"]))][\"symbol\"]))]#reduction of the regdom file by selecting only the genes whose GO ID is owned by a gene of the association \n",
      "   404                                                   len_on_chr = len_regdom(regdom)# get the length of each regulatory domain \n",
      "   405                                           \n",
      "   406                                                   # init Hypergeom\n",
      "   407                                                   hypergeom_gene_set = len(asso) # get the number of genes in the test gene set.\n",
      "   408                                           \n",
      "   409                                                   #Compute for all associating gene and for each GO id associated with the gene the probability. \n",
      "   410                                                   for name in asso :\n",
      "   411                                                       ann_name_gene = ann[ann[\"symbol\"] == name]\n",
      "   412                                                       id = ann_name_gene[\"id\"]\n",
      "   413                                                       tmp = []\n",
      "   414                                                       for i in (list(id.unique())): \n",
      "   415                                                           gene_imply = ann[ann['id']==i]\n",
      "   416                                                           K_hypergeom = gene_imply.shape[0] # get be the number of genes in the genome with annotation\n",
      "   417                                                           curr_regdom = regdom.loc[regdom[\"Name\"].isin(list(gene_imply[\"gene.name\"]))]\n",
      "   418                                                           k_hypergeom = curr_regdom.loc[curr_regdom[\"Name\"].isin(asso)].shape[0] # get the number of genes in the test gene set with annotation                \n",
      "   419                                                           tmp.append((i,gene_imply.iloc[0][\"name\"],K_hypergeom,k_hypergeom)) \n",
      "   420                                                       res.update({elem[0]:[ elem[1], sum([hg.pmf(i,hypergeom_total_number_gene,hypergeom_gene_set,elem[2]) for i in range(elem[3],min(elem[2],hypergeom_gene_set)+1)]) ] for elem in tmp}) \n",
      "   421                                           \n",
      "   422                                                   df = pd.DataFrame(res).transpose().rename(columns={0:\"go_term\",1:\"hypergeom_p_value\"}).sort_values(by=\"hypergeom_p_value\")\n",
      "   423                                                   \n",
      "   424                                                   if correction == (0,0) or correction[0] not in ['bonferroni','fdr'] or correction[1] >= 1 or correction[1]<=0: \n",
      "   425                                                       df = df.loc[df[\"hypergeom_p_value\"] <= alpha]\n",
      "   426                                                       return df.sort_values(by=sort_by) if sort_by != None else df  \n",
      "   427                                           \n",
      "   428                                                   elif correction[0] == \"bonferroni\" : \n",
      "   429                                                       df[\"hypergeom_bonferroni_correction\"] = multipletests(df[\"hypergeom_p_value\"], alpha=correction[1], method='bonferroni')[1]\n",
      "   430                                                       df = df.loc[df[\"hypergeom_bonferroni_correction\"] <= alpha]\n",
      "   431                                           \n",
      "   432                                                   elif correction[0] == \"fdr\" : \n",
      "   433                                                       df[\"hypergeom_fdr_correction\"] = fdrcorrection(df[\"hypergeom_p_value\"], alpha=correction[1])[1]\n",
      "   434                                                       df = df.loc[df[\"hypergeom_fdr_correction\"] <= alpha]\n",
      "   435                                           \n",
      "   436                                                   return df.sort_values(by=sort_by) if sort_by != None else df"
     ]
    }
   ],
   "source": [
    "%lprun -f great.tl.enrichment great.tl.enrichment(df_10_row,\"../data/human/regulatory_domain.bed\",\"../data/human/chr_size.bed\",\"../data/human/ontologies.csv\",True,True,0.05,(0,0))"
   ]
  },
  {
   "cell_type": "markdown",
   "metadata": {},
   "source": [
    "Here we can see that the calculation time of the enrichment function is very high due to : "
   ]
  },
  {
   "cell_type": "markdown",
   "metadata": {},
   "source": [
    "line 338 (50 %) in the https://github.com/theislab/greatpy/blob/correction/greatpy/tl/basic.py with k_binom = number_of_hit(test,curr_regdom) => The number_of_hit function is used to calculate the number of genomic region hit with each GO term "
   ]
  },
  {
   "cell_type": "markdown",
   "metadata": {},
   "source": [
    "line 344 (21 %) https://github.com/theislab/greatpy/blob/correction/greatpy/tl/basic.py with dict.update with the values of binom p-value and hypergeom p-value "
   ]
  }
 ],
 "metadata": {
  "kernelspec": {
   "display_name": "Python 3.8.10 64-bit",
   "language": "python",
   "name": "python3"
  },
  "language_info": {
   "codemirror_mode": {
    "name": "ipython",
    "version": 3
   },
   "file_extension": ".py",
   "mimetype": "text/x-python",
   "name": "python",
   "nbconvert_exporter": "python",
   "pygments_lexer": "ipython3",
   "version": "3.8.10"
  },
  "orig_nbformat": 4,
  "vscode": {
   "interpreter": {
    "hash": "916dbcbb3f70747c44a77c7bcd40155683ae19c65e1c03b4aa3499c5328201f1"
   }
  }
 },
 "nbformat": 4,
 "nbformat_minor": 2
}
