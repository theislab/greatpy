{
 "cells": [
  {
   "cell_type": "markdown",
   "metadata": {},
   "source": [
    "# This notebook show my issue with the calculation time of the enrichment function"
   ]
  },
  {
   "cell_type": "code",
   "execution_count": 15,
   "metadata": {},
   "outputs": [
    {
     "name": "stdout",
     "output_type": "stream",
     "text": [
      "The autoreload extension is already loaded. To reload it, use:\n",
      "  %reload_ext autoreload\n",
      "The line_profiler extension is already loaded. To reload it, use:\n",
      "  %reload_ext line_profiler\n"
     ]
    }
   ],
   "source": [
    "%load_ext autoreload\n",
    "%autoreload 2\n",
    "%load_ext line_profiler"
   ]
  },
  {
   "cell_type": "code",
   "execution_count": 16,
   "metadata": {},
   "outputs": [],
   "source": [
    "import greatpy as great\n",
    "import pandas as pd"
   ]
  },
  {
   "cell_type": "code",
   "execution_count": 17,
   "metadata": {},
   "outputs": [],
   "source": [
    "test = pd.read_csv(\"../data/human/test_genomic_region.bed\",sep=\"\\t\",comment=\"#\",\n",
    "                names=[\"Chr\", \"Chr_Start\", \"Chr_End\"],dtype={\"Chr\":\"object\", \"Chr_Start\":\"int64\", \"Chr_End\":\"int64\"})\n",
    "\n",
    "df_10_row = test[:30]"
   ]
  },
  {
   "cell_type": "code",
   "execution_count": 18,
   "metadata": {},
   "outputs": [
    {
     "name": "stdout",
     "output_type": "stream",
     "text": [
      "Timer unit: 1e-06 s\n",
      "\n",
      "Total time: 11.1606 s\n",
      "File: /home/tom/.local/lib/python3.8/site-packages/greatpy/tl/basic.py\n",
      "Function: enrichment at line 312\n",
      "\n",
      "Line #      Hits         Time  Per Hit   % Time  Line Contents\n",
      "==============================================================\n",
      "   312                                           def enrichment(test:str or pd.DataFrame,regdom_file,chr_size_file,annotation,binom=True,hypergeom=True,alpha=0.05,correction=(\"fdr\",0.05),sort_by=None): \n",
      "   313                                               # Data import \n",
      "   314         1        223.0    223.0      0.0      if not binom and not hypergeom : \n",
      "   315                                                   return False\n",
      "   316                                               \n",
      "   317         2     191539.0  95769.5      1.7      regdom = pd.read_csv(regdom_file,sep=\"\\t\",comment=\"#\",\n",
      "   318         1         68.0     68.0      0.0                      names=[\"Chr\", \"Chr_Start\", \"Chr_End\",\"Name\",\"tss\",\"Strand\"],dtype={\"Chr\":\"object\", \"Chr_Start\":\"int64\", \"Chr_End\":\"int64\",\"Name\":\"object\",\"tss\":\"int64\",\"Strand\":\"object\"})\n",
      "   319                                           \n",
      "   320         1          4.0      4.0      0.0      if type(test) == str : \n",
      "   321                                                   test = pd.read_csv(test,sep=\"\\t\",comment=\"#\",\n",
      "   322                                                                   names=[\"Chr\", \"Chr_Start\", \"Chr_End\"],dtype={\"Chr\":\"object\", \"Chr_Start\":\"int64\", \"Chr_End\":\"int64\"})\n",
      "   323                                               else : \n",
      "   324         1      12261.0  12261.0      0.1          test = test.iloc[:,:3]\n",
      "   325         1         17.0     17.0      0.0          colname = list(test.columns)\n",
      "   326         1          3.0      3.0      0.0          try : \n",
      "   327         1       7338.0   7338.0      0.1              test = test.rename(columns={colname[0]:\"Chr\",colname[1]:\"Chr_Start\",colname[2]:\"Chr_End\"})\n",
      "   328                                                   except : \n",
      "   329                                                       print(\"Error in test dataframe, please check your input\")\n",
      "   330                                                       print(\"Columns should be : chr...(type object), start(type int), end(type int)\")\n",
      "   331                                                       return False\n",
      "   332                                               \n",
      "   333         2      10244.0   5122.0      0.1      size = pd.read_csv(chr_size_file,sep=\"\\t\",comment=\"#\",\n",
      "   334         1         22.0     22.0      0.0                      names=[\"Chrom\",\"Size\"],dtype={\"Chrom\":\"object\", \"Size\":\"int64\"})\n",
      "   335                                           \n",
      "   336         2      84154.0  42077.0      0.8      dask_df = dd.read_csv(\"../data/human/ontologies.csv\",sep=\";\",  comment = \"#\",\n",
      "   337         1          3.0      3.0      0.0                      dtype={\"ensembl\":\"object\",\"id\":\"object\",\"name\":\"object\",\"ontology.group\":\"object\",\"gene.name\":\"object\",\"symbol\":\"object\"},\n",
      "   338         1          6.0      6.0      0.0                      usecols=[\"id\",\"name\",\"gene.name\",\"symbol\"],low_memory=False)\n",
      "   339         1    1341458.0 1341458.0     12.0      ann = dask_df.compute()\n",
      "   340                                               # ann = pd.read_csv(annotation,sep=\";\",  \n",
      "   341                                               #                 names=[\"ensembl\",\"id\",\"name\",\"ontology.group\",\"gene.name\",\"symbol\"],dtype={\"ensembl\":\"object\",\"id\":\"object\",\"name\":\"object\",\"ontology.group\":\"object\",\"gene.name\":\"object\",\"symbol\":\"object\"},\n",
      "   342                                               #                 usecols=[\"id\",\"name\",\"gene.name\",\"symbol\"],low_memory=False)\n",
      "   343         1     494751.0 494751.0      4.4      ann = ann[ann['id'].str.match('^GO.*')== True]\n",
      "   344                                           \n",
      "   345         1          3.0      3.0      0.0      if binom and hypergeom : \n",
      "   346                                                   # Init Great\n",
      "   347         1          3.0      3.0      0.0          res = {}\n",
      "   348         1          2.0      2.0      0.0          hit={}\n",
      "   349         1        109.0    109.0      0.0          hypergeom_total_number_gene = regdom.shape[0] #get the number of genes in the genome.\n",
      "   350         1          5.0      5.0      0.0          n_binom = test.shape[0]# get the number of genomic region in the test set\n",
      "   351         1       2456.0   2456.0      0.0          total_nu = size[\"Size\"].sum()# get the total number of nucleotides in the genome\n",
      "   352         1     143221.0 143221.0      1.3          asso = get_association(test,regdom)# get the name of the regulatory domain associated to each genomic region in the test set\n",
      "   353         1      14806.0  14806.0      0.1          ann_red = ann[ann[\"symbol\"].isin(asso)]\n",
      "   354         1      75632.0  75632.0      0.7          regdom = regdom[regdom[\"Name\"].isin(list(ann[ann[\"id\"].isin(list(ann_red[\"id\"]))][\"symbol\"]))]#reduction of the regdom file by selecting only the genes whose GO ID is owned by a gene of the association \n",
      "   355         1      28721.0  28721.0      0.3          len_on_chr = len_regdom(regdom)# get the length of each regulatory domain \n",
      "   356                                           \n",
      "   357                                                   # init Hypergeom\n",
      "   358         1          4.0      4.0      0.0          hypergeom_gene_set=len(asso) # get the number of genes in the test gene set.\n",
      "   359                                           \n",
      "   360                                                   #Compute for all associating gene and for each GO id associated with the gene the probability. \n",
      "   361        16         45.0      2.8      0.0          for name in asso :\n",
      "   362        15     143989.0   9599.3      1.3              ann_name_gene = ann[ann[\"symbol\"].isin([name])]\n",
      "   363        15       2267.0    151.1      0.0              id = ann_name_gene[\"id\"]\n",
      "   364        15         66.0      4.4      0.0              tmp = []\n",
      "   365       129       5124.0     39.7      0.0              for i in (list(id.unique())): \n",
      "   366       114    1425382.0  12503.4     12.8                  gene_imply = ann[ann['id'].isin([i])]\n",
      "   367       114       1215.0     10.7      0.0                  K_hypergeom = gene_imply.shape[0] # get be the number of genes in the genome with annotation\n",
      "   368       114     366517.0   3215.1      3.3                  curr_regdom = regdom.loc[regdom[\"Name\"].isin(list(gene_imply[\"gene.name\"]))]\n",
      "   369       114     113326.0    994.1      1.0                  k_hypergeom = curr_regdom.loc[curr_regdom[\"Name\"].isin(asso)].shape[0] # get the number of genes in the test gene set with annotation\n",
      "   370       114       1364.0     12.0      0.0                  if i not in list(hit.keys()) : \n",
      "   371        96    6565773.0  68393.5     58.8                      hit[i] = number_of_hit(test,curr_regdom)# get the number of test genomic regions in the regulatory domain of a gene with annotation\n",
      "   372       114        423.0      3.7      0.0                  k_binom=hit[i]\n",
      "   373                                                               # k_binom = number_of_hit(test,curr_regdom)# get the number of test genomic regions in the regulatory domain of a gene with annotation\n",
      "   374       114      48470.0    425.2      0.4                  nb_binom = sum([len_on_chr[i] for i in curr_regdom[\"Name\"]])# get the portion of the genome in the regulatory domain of a gene with annotation\n",
      "   375                                                           \n",
      "   376       114      27066.0    237.4      0.2                  tmp.append((k_binom,nb_binom,i,gene_imply.iloc[0][\"name\"],K_hypergeom,k_hypergeom))\n",
      "   377                                                       # res.update({elem[2]:[ elem[3],get_binom_pval(n_binom,elem[0],elem[1]/total_nu), sum([hg.pmf(i,hypergeom_total_number_gene,hypergeom_gene_set,elem[4]) for i in range(elem[5],min(elem[4],hypergeom_gene_set)+1)]) ] for elem in tmp})\n",
      "   378       129        435.0      3.4      0.0              for elem in tmp : \n",
      "   379       114        373.0      3.3      0.0                  res[elem[2]] = [elem[3]]\n",
      "   380       114       5880.0     51.6      0.1                  res[elem[2]].append(get_binom_pval(n_binom,elem[0],elem[1]/total_nu))\n",
      "   381                                                           # res[elem[2]].append(sum([hg.pmf(i,hypergeom_total_number_gene,hypergeom_gene_set,elem[4]) for i in range(elem[5],min(elem[4],hypergeom_gene_set)+1)]))\n",
      "   382       114      32231.0    282.7      0.3                  res[elem[2]].append(hypergeom_cdf(hypergeom_total_number_gene,elem[4],hypergeom_gene_set,elem[5]))\n",
      "   383                                           \n",
      "   384         1      13624.0  13624.0      0.1          df= pd.DataFrame(res).transpose().rename(columns={0:\"go_term\",1:\"binom_p_value\",2:\"hypergeom_p_value\"})\n",
      "   385         1          2.0      2.0      0.0          if correction == (0,0) or correction[0] not in ['bonferroni','fdr'] or correction[1] >= 1 or correction[1] <= 0: \n",
      "   386         1          2.0      2.0      0.0              return df.sort_values(by=sort_by) if sort_by != None else df \n",
      "   387                                           \n",
      "   388                                                   elif correction[0] == \"bonferroni\" : \n",
      "   389                                                       df[\"binom_bonferroni_correction\"] = multipletests(df[\"binom_p_value\"], alpha=correction[1], method='bonferroni')[1]\n",
      "   390                                                       df[\"hypergeom_bonferroni_correction\"] = multipletests(df[\"hypergeom_p_value\"], alpha=correction[1], method='bonferroni')[1]\n",
      "   391                                                       df = df.loc[df[\"binom_bonferroni_correction\"] <= alpha]\n",
      "   392                                           \n",
      "   393                                                   elif correction[0] == \"fdr\" : \n",
      "   394                                                       df[\"binom_fdr_correction\"] = fdrcorrection(df[\"binom_p_value\"], alpha=correction[1])[1]\n",
      "   395                                                       df[\"hypergeom_fdr_correction\"] = fdrcorrection(df[\"hypergeom_p_value\"], alpha=correction[1])[1]\n",
      "   396                                                       df = df.loc[df[\"binom_fdr_correction\"] <= alpha]\n",
      "   397                                                   return df.sort_values(by=sort_by) if sort_by != None else df \n",
      "   398                                           \n",
      "   399                                               elif binom : \n",
      "   400                                                   # Init Great\n",
      "   401                                                   res = {}\n",
      "   402                                                   n_binom = test.shape[0]# get the number of genomic region in the test set\n",
      "   403                                                   total_nu = size[\"Size\"].sum()# get the total number of nucleotides in the genome\n",
      "   404                                                   asso = get_association(test,regdom)# get the name of the regulatory domain associated to each genomic region in the test set\n",
      "   405                                                   ann_red = ann[ann[\"symbol\"].isin(asso)]\n",
      "   406                                                   regdom = regdom[regdom[\"Name\"].isin(list(ann[ann[\"id\"].isin(list(ann_red[\"id\"]))][\"symbol\"]))]#reduction of the regdom file by selecting only the genes whose GO ID is owned by a gene of the association \n",
      "   407                                                   len_on_chr = len_regdom(regdom)# get the length of each regulatory domain \n",
      "   408                                           \n",
      "   409                                                   #Compute for all associating gene and for each GO id associated with the gene the probability. \n",
      "   410                                                   for name in asso :\n",
      "   411                                                       ann_name_gene = ann[ann[\"symbol\"] == name]\n",
      "   412                                                       id = ann_name_gene[\"id\"]\n",
      "   413                                                       tmp=[]\n",
      "   414                                                       for i in (list(id.unique())): \n",
      "   415                                                           gene_imply = ann[ann['id']==i]\n",
      "   416                                                           curr_regdom = regdom.loc[regdom[\"Name\"].isin(list(gene_imply[\"gene.name\"]))]\n",
      "   417                                                           k_binom = number_of_hit(test,curr_regdom)# get the number of test genomic regions in the regulatory domain of a gene with annotation\n",
      "   418                                                           nb_binom = sum([len_on_chr[i] for i in curr_regdom[\"Name\"]])# get the portion of the genome in the regulatory domain of a gene with annotation\n",
      "   419                                                           \n",
      "   420                                                           tmp.append((k_binom,nb_binom,i,gene_imply.iloc[0][\"name\"]))\n",
      "   421                                                       res.update({elem[2]:[ elem[3],get_binom_pval(n_binom,elem[0],elem[1]/total_nu) ] for elem in tmp})\n",
      "   422                                                   df= pd.DataFrame(res).transpose().rename(columns={0:\"go_term\",1:\"binom_p_value\"}).sort_values(by=\"binom_p_value\")\n",
      "   423                                                   if correction == (0,0) or correction[0] not in ['bonferroni','fdr'] or correction[1] >= 1 or correction[1]<=0: \n",
      "   424                                                       return df.sort_values(by=sort_by) if sort_by != None else df \n",
      "   425                                           \n",
      "   426                                                   elif correction[0] == \"bonferroni\" : \n",
      "   427                                                       df[\"binom_bonferroni_correction\"] = multipletests(df[\"binom_p_value\"], alpha=correction[1], method='bonferroni')[1]\n",
      "   428                                                       df = df.loc[df[\"binom_bonferroni_correction\"]<=alpha]\n",
      "   429                                           \n",
      "   430                                                   elif correction[0] == \"fdr\" :\n",
      "   431                                                       df[\"binom_fdr_correction\"] = fdrcorrection(df[\"binom_p_value\"], alpha=correction[1])[1]\n",
      "   432                                                       df = df.loc[df[\"binom_fdr_correction\"]<=alpha] \n",
      "   433                                                   return df.sort_values(by=sort_by) if sort_by != None else df \n",
      "   434                                           \n",
      "   435                                               else : \n",
      "   436                                                   # Init Great\n",
      "   437                                                   res = {}\n",
      "   438                                                   hypergeom_total_number_gene = regdom.shape[0] #get the number of genes in the genome.\n",
      "   439                                                   asso = get_association(test,regdom)# get the name of the regulatory domain associated to each genomic region in the test set\n",
      "   440                                                   ann_red = ann[ann[\"symbol\"].isin(asso)]\n",
      "   441                                                   regdom = regdom[regdom[\"Name\"].isin(list(ann[ann[\"id\"].isin(list(ann_red[\"id\"]))][\"symbol\"]))]#reduction of the regdom file by selecting only the genes whose GO ID is owned by a gene of the association \n",
      "   442                                                   len_on_chr = len_regdom(regdom)# get the length of each regulatory domain \n",
      "   443                                           \n",
      "   444                                                   # init Hypergeom\n",
      "   445                                                   hypergeom_gene_set = len(asso) # get the number of genes in the test gene set.\n",
      "   446                                           \n",
      "   447                                                   #Compute for all associating gene and for each GO id associated with the gene the probability. \n",
      "   448                                                   for name in asso :\n",
      "   449                                                       ann_name_gene = ann[ann[\"symbol\"] == name]\n",
      "   450                                                       id = ann_name_gene[\"id\"]\n",
      "   451                                                       tmp = []\n",
      "   452                                                       for i in (list(id.unique())): \n",
      "   453                                                           gene_imply = ann[ann['id']==i]\n",
      "   454                                                           K_hypergeom = gene_imply.shape[0] # get be the number of genes in the genome with annotation\n",
      "   455                                                           curr_regdom = regdom.loc[regdom[\"Name\"].isin(list(gene_imply[\"gene.name\"]))]\n",
      "   456                                                           k_hypergeom = curr_regdom.loc[curr_regdom[\"Name\"].isin(asso)].shape[0] # get the number of genes in the test gene set with annotation                \n",
      "   457                                                           tmp.append((i,gene_imply.iloc[0][\"name\"],K_hypergeom,k_hypergeom)) \n",
      "   458                                                       res.update({elem[0]:[ elem[1], sum([hg.pmf(i,hypergeom_total_number_gene,hypergeom_gene_set,elem[2]) for i in range(elem[3],min(elem[2],hypergeom_gene_set)+1)]) ] for elem in tmp}) \n",
      "   459                                           \n",
      "   460                                                   df = pd.DataFrame(res).transpose().rename(columns={0:\"go_term\",1:\"hypergeom_p_value\"}).sort_values(by=\"hypergeom_p_value\")\n",
      "   461                                                   \n",
      "   462                                                   if correction == (0,0) or correction[0] not in ['bonferroni','fdr'] or correction[1] >= 1 or correction[1]<=0: \n",
      "   463                                                       df = df.loc[df[\"hypergeom_p_value\"] <= alpha]\n",
      "   464                                                       return df.sort_values(by=sort_by) if sort_by != None else df  \n",
      "   465                                           \n",
      "   466                                                   elif correction[0] == \"bonferroni\" : \n",
      "   467                                                       df[\"hypergeom_bonferroni_correction\"] = multipletests(df[\"hypergeom_p_value\"], alpha=correction[1], method='bonferroni')[1]\n",
      "   468                                                       df = df.loc[df[\"hypergeom_bonferroni_correction\"] <= alpha]\n",
      "   469                                           \n",
      "   470                                                   elif correction[0] == \"fdr\" : \n",
      "   471                                                       df[\"hypergeom_fdr_correction\"] = fdrcorrection(df[\"hypergeom_p_value\"], alpha=correction[1])[1]\n",
      "   472                                                       df = df.loc[df[\"hypergeom_fdr_correction\"] <= alpha]\n",
      "   473                                           \n",
      "   474                                                   return df.sort_values(by=sort_by) if sort_by != None else df"
     ]
    }
   ],
   "source": [
    "%lprun -f great.tl.enrichment great.tl.enrichment(df_10_row,\"../data/human/regulatory_domain.bed\",\"../data/human/chr_size.bed\",\"../data/human/ontologies.csv\",True,True,0.05,(0,0))"
   ]
  },
  {
   "cell_type": "markdown",
   "metadata": {},
   "source": [
    "Here we can see that the calculation time of the enrichment function is very high due to : "
   ]
  },
  {
   "cell_type": "markdown",
   "metadata": {},
   "source": [
    "line 371 (50 %) in the https://github.com/theislab/greatpy/blob/correction/greatpy/tl/basic.py with hit[i] = number_of_hit(test,curr_regdom) => The number_of_hit function is used to calculate the number of genomic region hit with each GO term "
   ]
  },
  {
   "cell_type": "code",
   "execution_count": 19,
   "metadata": {},
   "outputs": [],
   "source": [
    "regdom = pd.read_csv(\"../data/human/regulatory_domain.bed\",sep=\"\\t\",comment=\"#\",\n",
    "                    names=[\"Chr\", \"Chr_Start\", \"Chr_End\",\"Name\",\"tss\",\"Strand\"],dtype={\"Chr\":\"object\", \"Chr_Start\":\"int64\", \"Chr_End\":\"int64\",\"Name\":\"object\",\"tss\":\"int64\",\"Strand\":\"object\"})"
   ]
  },
  {
   "cell_type": "code",
   "execution_count": 23,
   "metadata": {},
   "outputs": [
    {
     "data": {
      "text/plain": [
       "84"
      ]
     },
     "execution_count": 23,
     "metadata": {},
     "output_type": "execute_result"
    }
   ],
   "source": [
    "def number_of_hit(test,regdom): \n",
    "    nb=0\n",
    "    regdom = regdom[[\"Chr\",\"Chr_Start\",\"Chr_End\"]]\n",
    "    for i in range(test.shape[0]): \n",
    "        chrom = test.iat[i,0]\n",
    "        start = test.iat[i,1]\n",
    "        end = test.iat[i,2]\n",
    "        regdom_reduce = regdom[regdom[\"Chr\"].isin([chrom])]\n",
    "        if regdom_reduce[(regdom_reduce[\"Chr_Start\"] <= start) & (regdom_reduce[\"Chr_End\"] >= end)].shape[0] > 0 : \n",
    "            nb += 1\n",
    "    return nb\n",
    "number_of_hit(test,regdom)"
   ]
  },
  {
   "cell_type": "code",
   "execution_count": 29,
   "metadata": {},
   "outputs": [
    {
     "name": "stdout",
     "output_type": "stream",
     "text": [
      "Timer unit: 1e-06 s\n",
      "\n",
      "Total time: 0.402752 s\n",
      "File: /tmp/ipykernel_7575/418560114.py\n",
      "Function: number_of_hit at line 1\n",
      "\n",
      "Line #      Hits         Time  Per Hit   % Time  Line Contents\n",
      "==============================================================\n",
      "     1                                           def number_of_hit(test,regdom): \n",
      "     2         1         57.0     57.0      0.0      nb=0\n",
      "     3         1      15322.0  15322.0      3.8      regdom = regdom[[\"Chr\",\"Chr_Start\",\"Chr_End\"]]\n",
      "     4       105        235.0      2.2      0.1      for i in range(test.shape[0]): \n",
      "     5       104      11083.0    106.6      2.8          chrom = test.iat[i,0]\n",
      "     6       104       6768.0     65.1      1.7          start = test.iat[i,1]\n",
      "     7       104       5889.0     56.6      1.5          end = test.iat[i,2]\n",
      "     8       104     179931.0   1730.1     44.7          regdom_reduce = regdom[regdom[\"Chr\"].isin([chrom])]\n",
      "     9       104     183249.0   1762.0     45.5          if regdom_reduce[(regdom_reduce[\"Chr_Start\"] <= start) & (regdom_reduce[\"Chr_End\"] >= end)].shape[0] > 0 : \n",
      "    10        84        217.0      2.6      0.1              nb += 1\n",
      "    11         1          1.0      1.0      0.0      return nb"
     ]
    }
   ],
   "source": [
    "%lprun -f number_of_hit number_of_hit(test,regdom)"
   ]
  }
 ],
 "metadata": {
  "kernelspec": {
   "display_name": "Python 3.8.10 64-bit",
   "language": "python",
   "name": "python3"
  },
  "language_info": {
   "codemirror_mode": {
    "name": "ipython",
    "version": 3
   },
   "file_extension": ".py",
   "mimetype": "text/x-python",
   "name": "python",
   "nbconvert_exporter": "python",
   "pygments_lexer": "ipython3",
   "version": "3.8.10"
  },
  "orig_nbformat": 4,
  "vscode": {
   "interpreter": {
    "hash": "916dbcbb3f70747c44a77c7bcd40155683ae19c65e1c03b4aa3499c5328201f1"
   }
  }
 },
 "nbformat": 4,
 "nbformat_minor": 2
}
