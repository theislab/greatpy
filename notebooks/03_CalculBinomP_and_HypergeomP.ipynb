{
 "cells": [
  {
   "cell_type": "code",
   "execution_count": 1,
   "metadata": {},
   "outputs": [],
   "source": [
    "%load_ext autoreload\n",
    "%autoreload 2"
   ]
  },
  {
   "cell_type": "code",
   "execution_count": 2,
   "metadata": {},
   "outputs": [],
   "source": [
    "import greatpy as great"
   ]
  },
  {
   "cell_type": "code",
   "execution_count": 3,
   "metadata": {},
   "outputs": [
    {
     "name": "stderr",
     "output_type": "stream",
     "text": [
      "c:\\Users\\Tom\\anaconda3\\lib\\site-packages\\statsmodels\\stats\\multitest.py:339: RuntimeWarning: invalid value encountered in less_equal\n",
      "  reject = pvals_sorted <= ecdffactor*alpha\n",
      "c:\\Users\\Tom\\anaconda3\\lib\\site-packages\\statsmodels\\stats\\multitest.py:347: RuntimeWarning: invalid value encountered in greater\n",
      "  pvals_corrected[pvals_corrected>1] = 1\n"
     ]
    },
    {
     "data": {
      "text/html": [
       "<div>\n",
       "<style scoped>\n",
       "    .dataframe tbody tr th:only-of-type {\n",
       "        vertical-align: middle;\n",
       "    }\n",
       "\n",
       "    .dataframe tbody tr th {\n",
       "        vertical-align: top;\n",
       "    }\n",
       "\n",
       "    .dataframe thead th {\n",
       "        text-align: right;\n",
       "    }\n",
       "</style>\n",
       "<table border=\"1\" class=\"dataframe\">\n",
       "  <thead>\n",
       "    <tr style=\"text-align: right;\">\n",
       "      <th></th>\n",
       "      <th>go_term</th>\n",
       "      <th>binom_p_value</th>\n",
       "      <th>hypergeom_p_value</th>\n",
       "      <th>binom_fdr_correction</th>\n",
       "      <th>hypergeom_fdr_correction</th>\n",
       "    </tr>\n",
       "  </thead>\n",
       "  <tbody>\n",
       "    <tr>\n",
       "      <th>GO:0045887</th>\n",
       "      <td>positive regulation of synaptic growth at neur...</td>\n",
       "      <td>5.17744e-13</td>\n",
       "      <td>3.87045e-03</td>\n",
       "      <td>3.07540e-10</td>\n",
       "      <td>1.04502e-01</td>\n",
       "    </tr>\n",
       "    <tr>\n",
       "      <th>GO:0044721</th>\n",
       "      <td>protein import into peroxisome matrix, substra...</td>\n",
       "      <td>4.83812e-10</td>\n",
       "      <td>3.87045e-03</td>\n",
       "      <td>9.37230e-08</td>\n",
       "      <td>1.04502e-01</td>\n",
       "    </tr>\n",
       "    <tr>\n",
       "      <th>GO:0036250</th>\n",
       "      <td>peroxisome transport along microtubule</td>\n",
       "      <td>4.83812e-10</td>\n",
       "      <td>3.87045e-03</td>\n",
       "      <td>9.37230e-08</td>\n",
       "      <td>1.04502e-01</td>\n",
       "    </tr>\n",
       "    <tr>\n",
       "      <th>GO:0016561</th>\n",
       "      <td>protein import into peroxisome matrix, translo...</td>\n",
       "      <td>6.31131e-10</td>\n",
       "      <td>7.71139e-03</td>\n",
       "      <td>9.37230e-08</td>\n",
       "      <td>1.09691e-01</td>\n",
       "    </tr>\n",
       "    <tr>\n",
       "      <th>GO:0047485</th>\n",
       "      <td>protein N-terminus binding</td>\n",
       "      <td>1.29450e-09</td>\n",
       "      <td>9.65115e-03</td>\n",
       "      <td>1.53786e-07</td>\n",
       "      <td>1.20081e-01</td>\n",
       "    </tr>\n",
       "  </tbody>\n",
       "</table>\n",
       "</div>"
      ],
      "text/plain": [
       "                                                      go_term binom_p_value  \\\n",
       "GO:0045887  positive regulation of synaptic growth at neur...   5.17744e-13   \n",
       "GO:0044721  protein import into peroxisome matrix, substra...   4.83812e-10   \n",
       "GO:0036250             peroxisome transport along microtubule   4.83812e-10   \n",
       "GO:0016561  protein import into peroxisome matrix, translo...   6.31131e-10   \n",
       "GO:0047485                         protein N-terminus binding   1.29450e-09   \n",
       "\n",
       "           hypergeom_p_value binom_fdr_correction hypergeom_fdr_correction  \n",
       "GO:0045887       3.87045e-03          3.07540e-10              1.04502e-01  \n",
       "GO:0044721       3.87045e-03          9.37230e-08              1.04502e-01  \n",
       "GO:0036250       3.87045e-03          9.37230e-08              1.04502e-01  \n",
       "GO:0016561       7.71139e-03          9.37230e-08              1.09691e-01  \n",
       "GO:0047485       9.65115e-03          1.53786e-07              1.20081e-01  "
      ]
     },
     "execution_count": 3,
     "metadata": {},
     "output_type": "execute_result"
    }
   ],
   "source": [
    "enrichment=great.tl.enrichment(\n",
    "    test=\"../data/input/binom/genomic_region_test.bed\",\n",
    "    regdomFn=\"../data/input/binom/regdom.out\",\n",
    "    Chr_sizeFn=\"../data/input/regdom/chr_size.txt\",\n",
    "    annotation=\"../data/input/binom/ontologies.csv\",\n",
    "    binom=True,\n",
    "    hypergeom=True,\n",
    "    correction=(\"fdr\",0.005)\n",
    "    )\n",
    "enrichment.head()"
   ]
  }
 ],
 "metadata": {
  "kernelspec": {
   "display_name": "Python 3.9.12 ('base')",
   "language": "python",
   "name": "python3"
  },
  "language_info": {
   "codemirror_mode": {
    "name": "ipython",
    "version": 3
   },
   "file_extension": ".py",
   "mimetype": "text/x-python",
   "name": "python",
   "nbconvert_exporter": "python",
   "pygments_lexer": "ipython3",
   "version": "3.9.12"
  },
  "orig_nbformat": 4,
  "vscode": {
   "interpreter": {
    "hash": "64cdbf2ddcb9cd73e43d780a5c38adc9c5cb93dd1a925db9d35733ec03fb2329"
   }
  }
 },
 "nbformat": 4,
 "nbformat_minor": 2
}
