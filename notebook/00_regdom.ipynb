{
 "cells": [
  {
   "cell_type": "code",
   "execution_count": 2,
   "metadata": {},
   "outputs": [],
   "source": [
    "%load_ext autoreload\n",
    "%autoreload 2"
   ]
  },
  {
   "cell_type": "code",
   "execution_count": 3,
   "metadata": {},
   "outputs": [],
   "source": [
    "import greatpy as great"
   ]
  },
  {
   "cell_type": "code",
   "execution_count": 4,
   "metadata": {},
   "outputs": [
    {
     "name": "stdout",
     "output_type": "stream",
     "text": [
      "type should be tsv,tss,BED or chr_size\n"
     ]
    },
    {
     "ename": "AttributeError",
     "evalue": "'bool' object has no attribute 'sort_values'",
     "output_type": "error",
     "traceback": [
      "\u001b[1;31m---------------------------------------------------------------------------\u001b[0m",
      "\u001b[1;31mAttributeError\u001b[0m                            Traceback (most recent call last)",
      "\u001b[1;32mtheislab\\greatpy\\notebook\\00_regdom.ipynb Cell 3'\u001b[0m in \u001b[0;36m<cell line: 1>\u001b[1;34m()\u001b[0m\n\u001b[1;32m----> <a href='vscode-notebook-cell://github%2B7b2276223a312c22726566223a7b2274797065223a342c226964223a2263616c63756c61746542696e6f6d69616c50227d7d/theislab/greatpy/notebook/00_regdom.ipynb#ch0000002vscode-vfs?line=0'>1</a>\u001b[0m great\u001b[39m.\u001b[39;49mtl\u001b[39m.\u001b[39;49mcreate_Regdom(\u001b[39m\"\u001b[39;49m\u001b[39mdata/input/Regdom/TSS.txt\u001b[39;49m\u001b[39m\"\u001b[39;49m,\u001b[39m\"\u001b[39;49m\u001b[39mdata/input/Regdom/Chr_size.txt\u001b[39;49m\u001b[39m\"\u001b[39;49m,\u001b[39m\"\u001b[39;49m\u001b[39mOneCloset\u001b[39;49m\u001b[39m\"\u001b[39;49m,\u001b[39m\"\u001b[39;49m\u001b[39mdata/output/Regdom/Regdom.out\u001b[39;49m\u001b[39m\"\u001b[39;49m)\n",
      "File \u001b[1;32mc:\\Users\\Tom\\anaconda3\\lib\\site-packages\\greatpy\\tl\\basic.py:166\u001b[0m, in \u001b[0;36mcreate_Regdom\u001b[1;34m(tssFn, chromSizesFn, AssociationRule, outFn)\u001b[0m\n\u001b[0;32m    163\u001b[0m     \u001b[39mreturn\u001b[39;00m \u001b[39mFalse\u001b[39;00m\n\u001b[0;32m    164\u001b[0m df \u001b[39m=\u001b[39m file_reader(tssFn,\u001b[39m'\u001b[39m\u001b[39mtss\u001b[39m\u001b[39m'\u001b[39m)\n\u001b[1;32m--> 166\u001b[0m df\u001b[39m=\u001b[39m df\u001b[39m.\u001b[39;49msort_values([\u001b[39m\"\u001b[39m\u001b[39mChr\u001b[39m\u001b[39m\"\u001b[39m,\u001b[39m\"\u001b[39m\u001b[39mtss\u001b[39m\u001b[39m\"\u001b[39m,\u001b[39m\"\u001b[39m\u001b[39mStrand\u001b[39m\u001b[39m\"\u001b[39m,\u001b[39m\"\u001b[39m\u001b[39mname\u001b[39m\u001b[39m\"\u001b[39m])\n\u001b[0;32m    168\u001b[0m chr_size\u001b[39m=\u001b[39mfile_reader(chromSizesFn,\u001b[39m\"\u001b[39m\u001b[39mchr_size\u001b[39m\u001b[39m\"\u001b[39m) \n\u001b[0;32m    170\u001b[0m \u001b[39mif\u001b[39;00m AssociationRule \u001b[39m==\u001b[39m \u001b[39m\"\u001b[39m\u001b[39mOneCloset\u001b[39m\u001b[39m\"\u001b[39m : \n",
      "\u001b[1;31mAttributeError\u001b[0m: 'bool' object has no attribute 'sort_values'"
     ]
    }
   ],
   "source": [
    "great.tl.create_Regdom(\"data/input/Regdom/TSS.txt\",\"data/input/Regdom/Chr_size.txt\",\"OneCloset\",\"data/output/Regdom/Regdom.out\")"
   ]
  }
 ],
 "metadata": {
  "kernelspec": {
   "display_name": "Python 3.9.12 ('base')",
   "language": "python",
   "name": "python3"
  },
  "language_info": {
   "codemirror_mode": {
    "name": "ipython",
    "version": 3
   },
   "file_extension": ".py",
   "mimetype": "text/x-python",
   "name": "python",
   "nbconvert_exporter": "python",
   "pygments_lexer": "ipython3",
   "version": "3.9.12"
  },
  "orig_nbformat": 4,
  "vscode": {
   "interpreter": {
    "hash": "64cdbf2ddcb9cd73e43d780a5c38adc9c5cb93dd1a925db9d35733ec03fb2329"
   }
  }
 },
 "nbformat": 4,
 "nbformat_minor": 2
}
