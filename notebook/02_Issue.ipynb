{
 "cells": [
  {
   "cell_type": "code",
   "execution_count": 14,
   "metadata": {},
   "outputs": [
    {
     "name": "stdout",
     "output_type": "stream",
     "text": [
      "The autoreload extension is already loaded. To reload it, use:\n",
      "  %reload_ext autoreload\n"
     ]
    }
   ],
   "source": [
    "%load_ext autoreload\n",
    "%autoreload 2"
   ]
  },
  {
   "cell_type": "code",
   "execution_count": 15,
   "metadata": {},
   "outputs": [],
   "source": [
    "import pandas as pd"
   ]
  },
  {
   "cell_type": "markdown",
   "metadata": {},
   "source": [
    "# The two functions"
   ]
  },
  {
   "cell_type": "code",
   "execution_count": 16,
   "metadata": {},
   "outputs": [],
   "source": [
    "def hit_slower(test,regdom): \n",
    "    nb=0\n",
    "    for i in range(test.shape[0]): \n",
    "        currTest=test.iloc[i]\n",
    "        regdom_reduce=regdom.loc[regdom[\"Chr\"]==currTest[\"Chr\"]]\n",
    "        for j in range(regdom_reduce.shape[0]): \n",
    "            currRegdom=regdom_reduce.iloc[j]\n",
    "            if currTest[\"Chr_Start\"] >= currRegdom[\"Chr_Start\"] and currTest[\"Chr_End\"] <= currRegdom[\"Chr_End\"] :\n",
    "                nb+=1\n",
    "                break\n",
    "    return nb"
   ]
  },
  {
   "cell_type": "code",
   "execution_count": 17,
   "metadata": {},
   "outputs": [],
   "source": [
    "def hit_faster(test,regdom): \n",
    "    nb=0\n",
    "    for i in range(test.shape[0]): \n",
    "        currTest=test.iloc[i]\n",
    "        regdom_reduce=regdom.loc[regdom[\"Chr\"]==currTest[\"Chr\"]]\n",
    "        nb+= regdom_reduce[(regdom_reduce[\"Chr_Start\"] <= currTest[\"Chr_Start\"]) & (regdom_reduce[\"Chr_End\"] >= currTest[\"Chr_End\"])].shape[0]\n",
    "    return nb"
   ]
  },
  {
   "cell_type": "markdown",
   "metadata": {},
   "source": [
    "# Import the toy data"
   ]
  },
  {
   "cell_type": "code",
   "execution_count": 18,
   "metadata": {},
   "outputs": [],
   "source": [
    "regdom=pd.read_csv(\"../data/input/BinomP/Regdom.out\",sep=\"\\t\",comment=\"#\",\n",
    "                    names=[\"Chr\", \"Chr_Start\", \"Chr_End\",\"Name\",\"tss\",\"Strand\"],dtype={\"Chr\":\"object\", \"Chr_Start\":\"int64\", \"Chr_End\":\"int64\",\"Name\":\"object\",\"tss\":\"int64\",\"Strand\":\"object\"})\n",
    "test=pd.read_csv(\"../data/input/BinomP/genomic_region_test.bed\",sep=\"\\t\",comment=\"#\",\n",
    "                names=[\"Chr\", \"Chr_Start\", \"Chr_End\"],dtype={\"Chr\":\"object\", \"Chr_Start\":\"int64\", \"Chr_End\":\"int64\"})\n",
    "ann = pd.read_csv(\"../data/input/BinomP/Ontologies.csv\",sep=\";\",  \n",
    "                    names=[\"ensembl\",\"id\",\"name\",\"ontology.group\",\"gene.name\",\"symbol\"],dtype={\"ensembl\":\"object\",\"id\":\"object\",\"name\":\"object\",\"ontology.group\":\"object\",\"gene.name\":\"object\",\"symbol\":\"object\"},\n",
    "                    usecols=[\"id\",\"name\",\"gene.name\",\"symbol\"],low_memory=True)"
   ]
  },
  {
   "cell_type": "markdown",
   "metadata": {},
   "source": [
    "# Test"
   ]
  },
  {
   "cell_type": "code",
   "execution_count": 19,
   "metadata": {},
   "outputs": [
    {
     "name": "stdout",
     "output_type": "stream",
     "text": [
      "CPU times: total: 4.11 s\n",
      "Wall time: 4.13 s\n"
     ]
    },
    {
     "data": {
      "text/plain": [
       "84"
      ]
     },
     "execution_count": 19,
     "metadata": {},
     "output_type": "execute_result"
    }
   ],
   "source": [
    "%%time\n",
    "hit_slower(test,regdom)"
   ]
  },
  {
   "cell_type": "code",
   "execution_count": 20,
   "metadata": {},
   "outputs": [
    {
     "name": "stdout",
     "output_type": "stream",
     "text": [
      "CPU times: total: 234 ms\n",
      "Wall time: 233 ms\n"
     ]
    },
    {
     "data": {
      "text/plain": [
       "156"
      ]
     },
     "execution_count": 20,
     "metadata": {},
     "output_type": "execute_result"
    }
   ],
   "source": [
    "%%time\n",
    "hit_faster(test,regdom)"
   ]
  }
 ],
 "metadata": {
  "kernelspec": {
   "display_name": "Python 3.9.12 ('base')",
   "language": "python",
   "name": "python3"
  },
  "language_info": {
   "codemirror_mode": {
    "name": "ipython",
    "version": 3
   },
   "file_extension": ".py",
   "mimetype": "text/x-python",
   "name": "python",
   "nbconvert_exporter": "python",
   "pygments_lexer": "ipython3",
   "version": "3.9.12"
  },
  "orig_nbformat": 4,
  "vscode": {
   "interpreter": {
    "hash": "64cdbf2ddcb9cd73e43d780a5c38adc9c5cb93dd1a925db9d35733ec03fb2329"
   }
  }
 },
 "nbformat": 4,
 "nbformat_minor": 2
}
