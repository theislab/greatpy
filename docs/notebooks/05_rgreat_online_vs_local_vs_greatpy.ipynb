{
 "cells": [
  {
   "cell_type": "markdown",
   "metadata": {},
   "source": [
    "# rGreat vs greatpy"
   ]
  },
  {
   "cell_type": "markdown",
   "metadata": {},
   "source": [
    "This notebook enable you to compare results between local rGreat online, rGREAT local and greatpy. "
   ]
  },
  {
   "cell_type": "markdown",
   "metadata": {},
   "source": [
    "r-base  ==  3.6.1\n",
    "\n",
    "python version  ==  3.8 "
   ]
  },
  {
   "cell_type": "code",
   "execution_count": 1,
   "metadata": {},
   "outputs": [],
   "source": [
    "%load_ext autoreload\n",
    "%autoreload 2"
   ]
  },
  {
   "cell_type": "code",
   "execution_count": 2,
   "metadata": {},
   "outputs": [],
   "source": [
    "import rpy2\n",
    "from rpy2.robjects.packages import importr\n",
    "from rpy2.robjects import pandas2ri\n",
    "from rpy2.robjects import r as r\n",
    "pandas2ri.activate()\n",
    "import pandas as pd\n",
    "\n",
    "import os \n",
    "import matplotlib.pyplot as plt\n",
    "import greatpy as great \n",
    "from scipy.stats import pearsonr\n",
    "import re\n",
    "import time \n",
    "import seaborn as sns \n",
    "import numpy as np\n",
    "import warnings\n",
    "\n",
    "warnings.filterwarnings('ignore')"
   ]
  },
  {
   "cell_type": "code",
   "execution_count": 4,
   "metadata": {},
   "outputs": [],
   "source": [
    "importr('rGREAT')\n",
    "ranges = importr('GenomicRanges')"
   ]
  },
  {
   "cell_type": "code",
   "execution_count": 12,
   "metadata": {},
   "outputs": [
    {
     "data": {
      "image/png": "[encoded data removed]",
      "text/plain": [
       "<Figure size 432x288 with 2 Axes>"
      ]
     },
     "metadata": {
      "needs_background": "light"
     },
     "output_type": "display_data"
    }
   ],
   "source": [
    "great.tl.online_vs_local_vs_greatpy_comparison()"
   ]
  },
  {
   "cell_type": "markdown",
   "metadata": {},
   "source": [
    "## With threshold = 0.05 on fdr correction "
   ]
  },
  {
   "cell_type": "code",
   "execution_count": 7,
   "metadata": {},
   "outputs": [],
   "source": [
    "from statsmodels.stats.multitest import multipletests"
   ]
  },
  {
   "cell_type": "code",
   "execution_count": 8,
   "metadata": {},
   "outputs": [
    {
     "name": "stdout",
     "output_type": "stream",
     "text": [
      "after threshold : greatpy shape = 292, online shape = 144\n",
      "after get same go ID : greatpy shape = 82, online shape = 82 \n",
      "\n",
      "after threshold : greatpy shape = 494, online shape = 577\n",
      "after get same go ID : greatpy shape = 217, online shape = 217 \n",
      "\n",
      "after threshold : greatpy shape = 553, online shape = 652\n",
      "after get same go ID : greatpy shape = 242, online shape = 242 \n",
      "\n",
      "after threshold : greatpy shape = 3, online shape = 17\n",
      "after get same go ID : greatpy shape = 1, online shape = 1 \n",
      "\n"
     ]
    },
    {
     "data": {
      "text/html": [
       "<div>\n",
       "<style scoped>\n",
       "    .dataframe tbody tr th:only-of-type {\n",
       "        vertical-align: middle;\n",
       "    }\n",
       "\n",
       "    .dataframe tbody tr th {\n",
       "        vertical-align: top;\n",
       "    }\n",
       "\n",
       "    .dataframe thead th {\n",
       "        text-align: right;\n",
       "    }\n",
       "</style>\n",
       "<table border=\"1\" class=\"dataframe\">\n",
       "  <thead>\n",
       "    <tr style=\"text-align: right;\">\n",
       "      <th></th>\n",
       "      <th>name</th>\n",
       "      <th>binom_correlation</th>\n",
       "    </tr>\n",
       "  </thead>\n",
       "  <tbody>\n",
       "    <tr>\n",
       "      <th>0</th>\n",
       "      <td>01_random</td>\n",
       "      <td>3.74254e-01</td>\n",
       "    </tr>\n",
       "    <tr>\n",
       "      <th>1</th>\n",
       "      <td>06_height_snps_hg38</td>\n",
       "      <td>4.73357e-01</td>\n",
       "    </tr>\n",
       "    <tr>\n",
       "      <th>2</th>\n",
       "      <td>07_height_snps_hg19</td>\n",
       "      <td>3.94162e-01</td>\n",
       "    </tr>\n",
       "    <tr>\n",
       "      <th>3</th>\n",
       "      <td>10_MAX</td>\n",
       "      <td>Error : df.shape = 1</td>\n",
       "    </tr>\n",
       "  </tbody>\n",
       "</table>\n",
       "</div>"
      ],
      "text/plain": [
       "                  name     binom_correlation\n",
       "0            01_random           3.74254e-01\n",
       "1  06_height_snps_hg38           4.73357e-01\n",
       "2  07_height_snps_hg19           3.94162e-01\n",
       "3               10_MAX  Error : df.shape = 1"
      ]
     },
     "execution_count": 8,
     "metadata": {},
     "output_type": "execute_result"
    }
   ],
   "source": [
    "stat = {\n",
    "        \"name\" : [], \n",
    "        \"binom_correlation\" : [],\n",
    "    }\n",
    "\n",
    "for name in [\"01_random.bed\",\"06_height_snps_hg38.bed\",\"07_height_snps_hg19.bed\",\"10_MAX.bed\"] : \n",
    "    file_out = name.split(\".\")\n",
    "\n",
    "     # find the assembly \n",
    "    if re.match(\".*hg19.*\",name) !=  None : \n",
    "        assembly = \"hg19\"\n",
    "    else : \n",
    "        assembly = \"hg38\"\n",
    "\n",
    "    # online test \n",
    "    res_online = rpy2.robjects.r['submitGreatJob'](f\"../data/tests/test_data/input/{name}\",species = f\"{assembly}\",help = False)\n",
    "    res_online = rpy2.robjects.r['getEnrichmentTables'](res_online)\n",
    "    # create each dataframe\n",
    "            # online\n",
    "    name_online = [cdc.lower() for cdc in list(res_online.rx2(\"GO Molecular Function\").rx2(\"name\"))+list(res_online.rx2(\"GO Biological Process\").rx2(\"name\"))+list(res_online.rx2(\"GO Cellular Component\").rx2(\"name\"))]\n",
    "    online = pd.DataFrame({\n",
    "        \"id\" : list(res_online.rx2(\"GO Molecular Function\").rx2(\"ID\"))+list(res_online.rx2(\"GO Biological Process\").rx2(\"ID\"))+list(res_online.rx2(\"GO Cellular Component\").rx2(\"ID\")),\n",
    "        \"name\" : name_online,\n",
    "        \"binom_p_val\" : list(res_online.rx2(\"GO Molecular Function\").rx2(\"Binom_Raw_PValue\"))+list(res_online.rx2(\"GO Biological Process\").rx2(\"Binom_Raw_PValue\"))+list(res_online.rx2(\"GO Cellular Component\").rx2(\"Binom_Raw_PValue\")),\n",
    "        \"hyper_p_val\" : list(res_online.rx2(\"GO Molecular Function\").rx2(\"Hyper_Raw_PValue\"))+list(res_online.rx2(\"GO Biological Process\").rx2(\"Hyper_Raw_PValue\"))+list(res_online.rx2(\"GO Cellular Component\").rx2(\"Hyper_Raw_PValue\"))\n",
    "        })\n",
    "\n",
    "    greatpy = great.tl.Great.enrichment(\n",
    "            test_file = f\"../data/tests/test_data/input/{name}\",\n",
    "            regdom_file = f\"../data/human/{assembly}/regulatory_domain.bed\",\n",
    "            chr_size_file = f\"../data/human/{assembly}/chr_size.bed\",\n",
    "            annotation_file = f\"../data/human/ontologies.csv\",\n",
    "            binom = True,\n",
    "            hypergeom = True,\n",
    "            )\n",
    "\n",
    "        \n",
    "\n",
    "    online[\"binom_fdr\"] = multipletests(online[\"binom_p_val\"], alpha = 0.05, method = 'fdr_bh')[1]\n",
    "\n",
    "    # réduction of df \n",
    "    greatpy = greatpy[greatpy[\"binom_fdr\"] <=  0.1]\n",
    "    online = online[online[\"binom_fdr\"] <=  0.1]\n",
    "\n",
    "    print(f\"after threshold : greatpy shape = {greatpy.shape[0]}, online shape = {online.shape[0]}\")\n",
    "    greatpy = greatpy[greatpy.index.isin(list(online[\"id\"]))]\n",
    "    online = online[online[\"id\"].isin(list(greatpy.index))]\n",
    "\n",
    "    print(f\"after get same go ID : greatpy shape = {greatpy.shape[0]}, online shape = {online.shape[0]} \\n\")\n",
    "\n",
    "    \n",
    "    stat[\"name\"].append(file_out[0])\n",
    "    try : \n",
    "        stat[\"binom_correlation\"].append(pearsonr(online[\"binom_fdr\"],greatpy[\"binom_fdr\"])[0])\n",
    "    except : \n",
    "        stat[\"binom_correlation\"].append(f\"Error : df.shape = {online.shape[0]}\")\n",
    "\n",
    "pd.DataFrame(stat)\n"
   ]
  }
 ],
 "metadata": {
  "kernelspec": {
   "display_name": "Python 3.8.13 ('gpy')",
   "language": "python",
   "name": "python3"
  },
  "language_info": {
   "codemirror_mode": {
    "name": "ipython",
    "version": 3
   },
   "file_extension": ".py",
   "mimetype": "text/x-python",
   "name": "python",
   "nbconvert_exporter": "python",
   "pygments_lexer": "ipython3",
   "version": "3.8.13"
  },
  "orig_nbformat": 4,
  "vscode": {
   "interpreter": {
    "hash": "610c73e5f1997caa668091b43a573fbafba1e2b96e55fbc05d56c58d21b90949"
   }
  }
 },
 "nbformat": 4,
 "nbformat_minor": 2
}
